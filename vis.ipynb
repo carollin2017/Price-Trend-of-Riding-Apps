{
 "cells": [
  {
   "cell_type": "code",
   "execution_count": 7,
   "metadata": {},
   "outputs": [],
   "source": [
    "import pandas as pd\n",
    "import numpy as np\n",
    "\n",
    "import seaborn as sns\n",
    "import matplotlib.pyplot as plt\n",
    "import plotly.express as px\n",
    "\n",
    "sns.set()\n",
    "%matplotlib inline"
   ]
  },
  {
   "cell_type": "code",
   "execution_count": 2,
   "metadata": {},
   "outputs": [
    {
     "data": {
      "text/html": [
       "<div>\n",
       "<style scoped>\n",
       "    .dataframe tbody tr th:only-of-type {\n",
       "        vertical-align: middle;\n",
       "    }\n",
       "\n",
       "    .dataframe tbody tr th {\n",
       "        vertical-align: top;\n",
       "    }\n",
       "\n",
       "    .dataframe thead th {\n",
       "        text-align: right;\n",
       "    }\n",
       "</style>\n",
       "<table border=\"1\" class=\"dataframe\">\n",
       "  <thead>\n",
       "    <tr style=\"text-align: right;\">\n",
       "      <th></th>\n",
       "      <th>distance</th>\n",
       "      <th>cab_type</th>\n",
       "      <th>destination</th>\n",
       "      <th>source</th>\n",
       "      <th>price</th>\n",
       "      <th>surge_multiplier</th>\n",
       "      <th>name</th>\n",
       "      <th>date</th>\n",
       "      <th>time</th>\n",
       "      <th>weekday</th>\n",
       "      <th>...</th>\n",
       "      <th>source_pressure</th>\n",
       "      <th>source_rain</th>\n",
       "      <th>source_humidity</th>\n",
       "      <th>source_wind</th>\n",
       "      <th>destination_temp</th>\n",
       "      <th>destination_clouds</th>\n",
       "      <th>destination_pressure</th>\n",
       "      <th>destination_rain</th>\n",
       "      <th>destination_humidity</th>\n",
       "      <th>destination_wind</th>\n",
       "    </tr>\n",
       "  </thead>\n",
       "  <tbody>\n",
       "    <tr>\n",
       "      <th>0</th>\n",
       "      <td>0.44</td>\n",
       "      <td>Lyft</td>\n",
       "      <td>North Station</td>\n",
       "      <td>Haymarket Square</td>\n",
       "      <td>5.0</td>\n",
       "      <td>1.0</td>\n",
       "      <td>Shared</td>\n",
       "      <td>2018-12-16</td>\n",
       "      <td>04:30:07</td>\n",
       "      <td>Sunday</td>\n",
       "      <td>...</td>\n",
       "      <td>1017.206667</td>\n",
       "      <td>0.014621</td>\n",
       "      <td>0.775</td>\n",
       "      <td>9.199167</td>\n",
       "      <td>40.705</td>\n",
       "      <td>0.81625</td>\n",
       "      <td>1017.227917</td>\n",
       "      <td>0.014917</td>\n",
       "      <td>0.776667</td>\n",
       "      <td>9.158333</td>\n",
       "    </tr>\n",
       "    <tr>\n",
       "      <th>1</th>\n",
       "      <td>0.53</td>\n",
       "      <td>Lyft</td>\n",
       "      <td>North Station</td>\n",
       "      <td>Haymarket Square</td>\n",
       "      <td>27.5</td>\n",
       "      <td>1.0</td>\n",
       "      <td>Lux Black XL</td>\n",
       "      <td>2018-12-16</td>\n",
       "      <td>04:05:09</td>\n",
       "      <td>Sunday</td>\n",
       "      <td>...</td>\n",
       "      <td>1017.206667</td>\n",
       "      <td>0.014621</td>\n",
       "      <td>0.775</td>\n",
       "      <td>9.199167</td>\n",
       "      <td>40.705</td>\n",
       "      <td>0.81625</td>\n",
       "      <td>1017.227917</td>\n",
       "      <td>0.014917</td>\n",
       "      <td>0.776667</td>\n",
       "      <td>9.158333</td>\n",
       "    </tr>\n",
       "    <tr>\n",
       "      <th>2</th>\n",
       "      <td>0.49</td>\n",
       "      <td>Uber</td>\n",
       "      <td>North Station</td>\n",
       "      <td>Haymarket Square</td>\n",
       "      <td>16.0</td>\n",
       "      <td>1.0</td>\n",
       "      <td>Black</td>\n",
       "      <td>2018-12-16</td>\n",
       "      <td>23:15:05</td>\n",
       "      <td>Sunday</td>\n",
       "      <td>...</td>\n",
       "      <td>1017.206667</td>\n",
       "      <td>0.014621</td>\n",
       "      <td>0.775</td>\n",
       "      <td>9.199167</td>\n",
       "      <td>40.705</td>\n",
       "      <td>0.81625</td>\n",
       "      <td>1017.227917</td>\n",
       "      <td>0.014917</td>\n",
       "      <td>0.776667</td>\n",
       "      <td>9.158333</td>\n",
       "    </tr>\n",
       "    <tr>\n",
       "      <th>3</th>\n",
       "      <td>0.49</td>\n",
       "      <td>Uber</td>\n",
       "      <td>North Station</td>\n",
       "      <td>Haymarket Square</td>\n",
       "      <td>7.0</td>\n",
       "      <td>1.0</td>\n",
       "      <td>UberX</td>\n",
       "      <td>2018-12-16</td>\n",
       "      <td>23:15:09</td>\n",
       "      <td>Sunday</td>\n",
       "      <td>...</td>\n",
       "      <td>1017.206667</td>\n",
       "      <td>0.014621</td>\n",
       "      <td>0.775</td>\n",
       "      <td>9.199167</td>\n",
       "      <td>40.705</td>\n",
       "      <td>0.81625</td>\n",
       "      <td>1017.227917</td>\n",
       "      <td>0.014917</td>\n",
       "      <td>0.776667</td>\n",
       "      <td>9.158333</td>\n",
       "    </tr>\n",
       "    <tr>\n",
       "      <th>4</th>\n",
       "      <td>0.49</td>\n",
       "      <td>Uber</td>\n",
       "      <td>North Station</td>\n",
       "      <td>Haymarket Square</td>\n",
       "      <td>8.0</td>\n",
       "      <td>1.0</td>\n",
       "      <td>WAV</td>\n",
       "      <td>2018-12-16</td>\n",
       "      <td>08:40:09</td>\n",
       "      <td>Sunday</td>\n",
       "      <td>...</td>\n",
       "      <td>1017.206667</td>\n",
       "      <td>0.014621</td>\n",
       "      <td>0.775</td>\n",
       "      <td>9.199167</td>\n",
       "      <td>40.705</td>\n",
       "      <td>0.81625</td>\n",
       "      <td>1017.227917</td>\n",
       "      <td>0.014917</td>\n",
       "      <td>0.776667</td>\n",
       "      <td>9.158333</td>\n",
       "    </tr>\n",
       "  </tbody>\n",
       "</table>\n",
       "<p>5 rows × 24 columns</p>\n",
       "</div>"
      ],
      "text/plain": [
       "   distance cab_type    destination            source  price  \\\n",
       "0      0.44     Lyft  North Station  Haymarket Square    5.0   \n",
       "1      0.53     Lyft  North Station  Haymarket Square   27.5   \n",
       "2      0.49     Uber  North Station  Haymarket Square   16.0   \n",
       "3      0.49     Uber  North Station  Haymarket Square    7.0   \n",
       "4      0.49     Uber  North Station  Haymarket Square    8.0   \n",
       "\n",
       "   surge_multiplier          name        date      time weekday  ...  \\\n",
       "0               1.0        Shared  2018-12-16  04:30:07  Sunday  ...   \n",
       "1               1.0  Lux Black XL  2018-12-16  04:05:09  Sunday  ...   \n",
       "2               1.0         Black  2018-12-16  23:15:05  Sunday  ...   \n",
       "3               1.0         UberX  2018-12-16  23:15:09  Sunday  ...   \n",
       "4               1.0           WAV  2018-12-16  08:40:09  Sunday  ...   \n",
       "\n",
       "   source_pressure source_rain  source_humidity  source_wind  \\\n",
       "0      1017.206667    0.014621            0.775     9.199167   \n",
       "1      1017.206667    0.014621            0.775     9.199167   \n",
       "2      1017.206667    0.014621            0.775     9.199167   \n",
       "3      1017.206667    0.014621            0.775     9.199167   \n",
       "4      1017.206667    0.014621            0.775     9.199167   \n",
       "\n",
       "   destination_temp  destination_clouds  destination_pressure  \\\n",
       "0            40.705             0.81625           1017.227917   \n",
       "1            40.705             0.81625           1017.227917   \n",
       "2            40.705             0.81625           1017.227917   \n",
       "3            40.705             0.81625           1017.227917   \n",
       "4            40.705             0.81625           1017.227917   \n",
       "\n",
       "   destination_rain  destination_humidity  destination_wind  \n",
       "0          0.014917              0.776667          9.158333  \n",
       "1          0.014917              0.776667          9.158333  \n",
       "2          0.014917              0.776667          9.158333  \n",
       "3          0.014917              0.776667          9.158333  \n",
       "4          0.014917              0.776667          9.158333  \n",
       "\n",
       "[5 rows x 24 columns]"
      ]
     },
     "execution_count": 2,
     "metadata": {},
     "output_type": "execute_result"
    }
   ],
   "source": [
    "df = pd.read_csv('Dataset/data.csv')\n",
    "df.head()"
   ]
  },
  {
   "cell_type": "code",
   "execution_count": 3,
   "metadata": {},
   "outputs": [
    {
     "data": {
      "text/plain": [
       "distance                0\n",
       "cab_type                0\n",
       "destination             0\n",
       "source                  0\n",
       "price                   0\n",
       "surge_multiplier        0\n",
       "name                    0\n",
       "date                    0\n",
       "time                    0\n",
       "weekday                 0\n",
       "hour                    0\n",
       "time_of_day             0\n",
       "source_temp             0\n",
       "source_clouds           0\n",
       "source_pressure         0\n",
       "source_rain             0\n",
       "source_humidity         0\n",
       "source_wind             0\n",
       "destination_temp        0\n",
       "destination_clouds      0\n",
       "destination_pressure    0\n",
       "destination_rain        0\n",
       "destination_humidity    0\n",
       "destination_wind        0\n",
       "dtype: int64"
      ]
     },
     "execution_count": 3,
     "metadata": {},
     "output_type": "execute_result"
    }
   ],
   "source": [
    "df.isnull().sum()"
   ]
  },
  {
   "cell_type": "code",
   "execution_count": 6,
   "metadata": {},
   "outputs": [
    {
     "name": "stdout",
     "output_type": "stream",
     "text": [
      "940\n",
      "0\n"
     ]
    }
   ],
   "source": [
    "print(df.duplicated().sum())\n",
    "df.drop_duplicates(inplace=True)\n",
    "print(df.duplicated().sum())"
   ]
  },
  {
   "cell_type": "code",
   "execution_count": 8,
   "metadata": {},
   "outputs": [],
   "source": [
    "df_uber = df[df['cab_type'] == \"Uber\"]\n",
    "df_lyft = df[df['cab_type'] == \"Lyft\"]"
   ]
  },
  {
   "cell_type": "markdown",
   "metadata": {},
   "source": [
    "# Visualization"
   ]
  },
  {
   "cell_type": "markdown",
   "metadata": {},
   "source": [
    "### Analyze the relation of Surge_Multiplier and day of week for Lyft¶\n"
   ]
  },
  {
   "cell_type": "code",
   "execution_count": 9,
   "metadata": {},
   "outputs": [],
   "source": [
    "surge_df = df_lyft[df_lyft[\"surge_multiplier\"] >1]\n",
    "high_surge = pd.DataFrame(surge_df.groupby(['weekday', \"surge_multiplier\"]).size().reset_index())\n",
    "high_surge.columns = [\"Weekday\", \"Surge\", \"Count\"]"
   ]
  },
  {
   "cell_type": "code",
   "execution_count": 10,
   "metadata": {},
   "outputs": [
    {
     "data": {
      "text/plain": [
       "'Weekday Wise Surge Multiplier for Lyft'"
      ]
     },
     "execution_count": 10,
     "metadata": {},
     "output_type": "execute_result"
    },
    {
     "data": {
      "image/png": "[encoded data removed]",
      "text/plain": [
       "<Figure size 864x360 with 1 Axes>"
      ]
     },
     "metadata": {
      "needs_background": "light"
     },
     "output_type": "display_data"
    }
   ],
   "source": [
    "plt.figure(figsize = (12, 5))\n",
    "sns.barplot(x=\"Weekday\", y = \"Count\", hue= \"Surge\", data=high_surge).set_title\n",
    "(\"Weekday Wise Surge Multiplier for Lyft\")"
   ]
  },
  {
   "cell_type": "markdown",
   "metadata": {},
   "source": [
    "#### We can conclude that:\n",
    "1. Surge_multiplier 1.25 happens most frequently.\n",
    "2. Monday is the day that customer most likely to encounter it.\n",
    "3. Surge_multiplier 3.0 is very unlikely to happen."
   ]
  },
  {
   "cell_type": "code",
   "execution_count": null,
   "metadata": {},
   "outputs": [],
   "source": []
  }
 ],
 "metadata": {
  "kernelspec": {
   "display_name": "Python 3",
   "language": "python",
   "name": "python3"
  },
  "language_info": {
   "codemirror_mode": {
    "name": "ipython",
    "version": 3
   },
   "file_extension": ".py",
   "mimetype": "text/x-python",
   "name": "python",
   "nbconvert_exporter": "python",
   "pygments_lexer": "ipython3",
   "version": "3.8.5"
  }
 },
 "nbformat": 4,
 "nbformat_minor": 4
}
