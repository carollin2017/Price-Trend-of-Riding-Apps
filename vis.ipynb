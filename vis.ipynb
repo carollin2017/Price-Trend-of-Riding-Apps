{
 "cells": [
  {
   "cell_type": "code",
   "execution_count": 20,
   "metadata": {},
   "outputs": [],
   "source": [
    "import pandas as pd\n",
    "import numpy as np\n",
    "\n",
    "import seaborn as sns\n",
    "import matplotlib.pyplot as plt\n",
    "import plotly.express as px\n",
    "import plotly.graph_objects as go\n",
    "from ipywidgets import widgets\n",
    "from plotly.subplots import make_subplots\n",
    "\n",
    "\n",
    "\n",
    "sns.set()\n",
    "%matplotlib inline"
   ]
  },
  {
   "cell_type": "code",
   "execution_count": 2,
   "metadata": {},
   "outputs": [
    {
     "data": {
      "text/html": [
       "<div>\n",
       "<style scoped>\n",
       "    .dataframe tbody tr th:only-of-type {\n",
       "        vertical-align: middle;\n",
       "    }\n",
       "\n",
       "    .dataframe tbody tr th {\n",
       "        vertical-align: top;\n",
       "    }\n",
       "\n",
       "    .dataframe thead th {\n",
       "        text-align: right;\n",
       "    }\n",
       "</style>\n",
       "<table border=\"1\" class=\"dataframe\">\n",
       "  <thead>\n",
       "    <tr style=\"text-align: right;\">\n",
       "      <th></th>\n",
       "      <th>distance</th>\n",
       "      <th>cab_type</th>\n",
       "      <th>destination</th>\n",
       "      <th>source</th>\n",
       "      <th>price</th>\n",
       "      <th>surge_multiplier</th>\n",
       "      <th>name</th>\n",
       "      <th>date</th>\n",
       "      <th>time</th>\n",
       "      <th>weekday</th>\n",
       "      <th>...</th>\n",
       "      <th>source_pressure</th>\n",
       "      <th>source_rain</th>\n",
       "      <th>source_humidity</th>\n",
       "      <th>source_wind</th>\n",
       "      <th>destination_temp</th>\n",
       "      <th>destination_clouds</th>\n",
       "      <th>destination_pressure</th>\n",
       "      <th>destination_rain</th>\n",
       "      <th>destination_humidity</th>\n",
       "      <th>destination_wind</th>\n",
       "    </tr>\n",
       "  </thead>\n",
       "  <tbody>\n",
       "    <tr>\n",
       "      <th>0</th>\n",
       "      <td>0.44</td>\n",
       "      <td>Lyft</td>\n",
       "      <td>North Station</td>\n",
       "      <td>Haymarket Square</td>\n",
       "      <td>5.0</td>\n",
       "      <td>1.0</td>\n",
       "      <td>Shared</td>\n",
       "      <td>2018-12-16</td>\n",
       "      <td>04:30:07</td>\n",
       "      <td>Sunday</td>\n",
       "      <td>...</td>\n",
       "      <td>1017.206667</td>\n",
       "      <td>0.014621</td>\n",
       "      <td>0.775</td>\n",
       "      <td>9.199167</td>\n",
       "      <td>40.705</td>\n",
       "      <td>0.81625</td>\n",
       "      <td>1017.227917</td>\n",
       "      <td>0.014917</td>\n",
       "      <td>0.776667</td>\n",
       "      <td>9.158333</td>\n",
       "    </tr>\n",
       "    <tr>\n",
       "      <th>1</th>\n",
       "      <td>0.53</td>\n",
       "      <td>Lyft</td>\n",
       "      <td>North Station</td>\n",
       "      <td>Haymarket Square</td>\n",
       "      <td>27.5</td>\n",
       "      <td>1.0</td>\n",
       "      <td>Lux Black XL</td>\n",
       "      <td>2018-12-16</td>\n",
       "      <td>04:05:09</td>\n",
       "      <td>Sunday</td>\n",
       "      <td>...</td>\n",
       "      <td>1017.206667</td>\n",
       "      <td>0.014621</td>\n",
       "      <td>0.775</td>\n",
       "      <td>9.199167</td>\n",
       "      <td>40.705</td>\n",
       "      <td>0.81625</td>\n",
       "      <td>1017.227917</td>\n",
       "      <td>0.014917</td>\n",
       "      <td>0.776667</td>\n",
       "      <td>9.158333</td>\n",
       "    </tr>\n",
       "    <tr>\n",
       "      <th>2</th>\n",
       "      <td>0.49</td>\n",
       "      <td>Uber</td>\n",
       "      <td>North Station</td>\n",
       "      <td>Haymarket Square</td>\n",
       "      <td>16.0</td>\n",
       "      <td>1.0</td>\n",
       "      <td>Black</td>\n",
       "      <td>2018-12-16</td>\n",
       "      <td>23:15:05</td>\n",
       "      <td>Sunday</td>\n",
       "      <td>...</td>\n",
       "      <td>1017.206667</td>\n",
       "      <td>0.014621</td>\n",
       "      <td>0.775</td>\n",
       "      <td>9.199167</td>\n",
       "      <td>40.705</td>\n",
       "      <td>0.81625</td>\n",
       "      <td>1017.227917</td>\n",
       "      <td>0.014917</td>\n",
       "      <td>0.776667</td>\n",
       "      <td>9.158333</td>\n",
       "    </tr>\n",
       "    <tr>\n",
       "      <th>3</th>\n",
       "      <td>0.49</td>\n",
       "      <td>Uber</td>\n",
       "      <td>North Station</td>\n",
       "      <td>Haymarket Square</td>\n",
       "      <td>7.0</td>\n",
       "      <td>1.0</td>\n",
       "      <td>UberX</td>\n",
       "      <td>2018-12-16</td>\n",
       "      <td>23:15:09</td>\n",
       "      <td>Sunday</td>\n",
       "      <td>...</td>\n",
       "      <td>1017.206667</td>\n",
       "      <td>0.014621</td>\n",
       "      <td>0.775</td>\n",
       "      <td>9.199167</td>\n",
       "      <td>40.705</td>\n",
       "      <td>0.81625</td>\n",
       "      <td>1017.227917</td>\n",
       "      <td>0.014917</td>\n",
       "      <td>0.776667</td>\n",
       "      <td>9.158333</td>\n",
       "    </tr>\n",
       "    <tr>\n",
       "      <th>4</th>\n",
       "      <td>0.49</td>\n",
       "      <td>Uber</td>\n",
       "      <td>North Station</td>\n",
       "      <td>Haymarket Square</td>\n",
       "      <td>8.0</td>\n",
       "      <td>1.0</td>\n",
       "      <td>WAV</td>\n",
       "      <td>2018-12-16</td>\n",
       "      <td>08:40:09</td>\n",
       "      <td>Sunday</td>\n",
       "      <td>...</td>\n",
       "      <td>1017.206667</td>\n",
       "      <td>0.014621</td>\n",
       "      <td>0.775</td>\n",
       "      <td>9.199167</td>\n",
       "      <td>40.705</td>\n",
       "      <td>0.81625</td>\n",
       "      <td>1017.227917</td>\n",
       "      <td>0.014917</td>\n",
       "      <td>0.776667</td>\n",
       "      <td>9.158333</td>\n",
       "    </tr>\n",
       "  </tbody>\n",
       "</table>\n",
       "<p>5 rows × 24 columns</p>\n",
       "</div>"
      ],
      "text/plain": [
       "   distance cab_type    destination            source  price  \\\n",
       "0      0.44     Lyft  North Station  Haymarket Square    5.0   \n",
       "1      0.53     Lyft  North Station  Haymarket Square   27.5   \n",
       "2      0.49     Uber  North Station  Haymarket Square   16.0   \n",
       "3      0.49     Uber  North Station  Haymarket Square    7.0   \n",
       "4      0.49     Uber  North Station  Haymarket Square    8.0   \n",
       "\n",
       "   surge_multiplier          name        date      time weekday  ...  \\\n",
       "0               1.0        Shared  2018-12-16  04:30:07  Sunday  ...   \n",
       "1               1.0  Lux Black XL  2018-12-16  04:05:09  Sunday  ...   \n",
       "2               1.0         Black  2018-12-16  23:15:05  Sunday  ...   \n",
       "3               1.0         UberX  2018-12-16  23:15:09  Sunday  ...   \n",
       "4               1.0           WAV  2018-12-16  08:40:09  Sunday  ...   \n",
       "\n",
       "   source_pressure source_rain  source_humidity  source_wind  \\\n",
       "0      1017.206667    0.014621            0.775     9.199167   \n",
       "1      1017.206667    0.014621            0.775     9.199167   \n",
       "2      1017.206667    0.014621            0.775     9.199167   \n",
       "3      1017.206667    0.014621            0.775     9.199167   \n",
       "4      1017.206667    0.014621            0.775     9.199167   \n",
       "\n",
       "   destination_temp  destination_clouds  destination_pressure  \\\n",
       "0            40.705             0.81625           1017.227917   \n",
       "1            40.705             0.81625           1017.227917   \n",
       "2            40.705             0.81625           1017.227917   \n",
       "3            40.705             0.81625           1017.227917   \n",
       "4            40.705             0.81625           1017.227917   \n",
       "\n",
       "   destination_rain  destination_humidity  destination_wind  \n",
       "0          0.014917              0.776667          9.158333  \n",
       "1          0.014917              0.776667          9.158333  \n",
       "2          0.014917              0.776667          9.158333  \n",
       "3          0.014917              0.776667          9.158333  \n",
       "4          0.014917              0.776667          9.158333  \n",
       "\n",
       "[5 rows x 24 columns]"
      ]
     },
     "execution_count": 2,
     "metadata": {},
     "output_type": "execute_result"
    }
   ],
   "source": [
    "df = pd.read_csv('data/data.csv')\n",
    "df.head()"
   ]
  },
  {
   "cell_type": "code",
   "execution_count": 3,
   "metadata": {},
   "outputs": [
    {
     "data": {
      "text/plain": [
       "distance                0\n",
       "cab_type                0\n",
       "destination             0\n",
       "source                  0\n",
       "price                   0\n",
       "surge_multiplier        0\n",
       "name                    0\n",
       "date                    0\n",
       "time                    0\n",
       "weekday                 0\n",
       "hour                    0\n",
       "time_of_day             0\n",
       "source_temp             0\n",
       "source_clouds           0\n",
       "source_pressure         0\n",
       "source_rain             0\n",
       "source_humidity         0\n",
       "source_wind             0\n",
       "destination_temp        0\n",
       "destination_clouds      0\n",
       "destination_pressure    0\n",
       "destination_rain        0\n",
       "destination_humidity    0\n",
       "destination_wind        0\n",
       "dtype: int64"
      ]
     },
     "execution_count": 3,
     "metadata": {},
     "output_type": "execute_result"
    }
   ],
   "source": [
    "df.isnull().sum()"
   ]
  },
  {
   "cell_type": "code",
   "execution_count": 4,
   "metadata": {},
   "outputs": [
    {
     "name": "stdout",
     "output_type": "stream",
     "text": [
      "940\n",
      "0\n"
     ]
    }
   ],
   "source": [
    "print(df.duplicated().sum())\n",
    "df.drop_duplicates(inplace=True)\n",
    "print(df.duplicated().sum())"
   ]
  },
  {
   "cell_type": "code",
   "execution_count": 5,
   "metadata": {},
   "outputs": [],
   "source": [
    "df_uber = df[df['cab_type'] == \"Uber\"]\n",
    "df_lyft = df[df['cab_type'] == \"Lyft\"]"
   ]
  },
  {
   "cell_type": "markdown",
   "metadata": {},
   "source": [
    "# Visualization"
   ]
  },
  {
   "cell_type": "markdown",
   "metadata": {},
   "source": [
    "### Analyze the relation of Surge_Multiplier and day of week for Lyft¶\n"
   ]
  },
  {
   "cell_type": "code",
   "execution_count": 6,
   "metadata": {},
   "outputs": [],
   "source": [
    "surge_df = df_lyft[df_lyft[\"surge_multiplier\"] >1]\n",
    "high_surge = pd.DataFrame(surge_df.groupby(['weekday', \"surge_multiplier\"]).size().reset_index())\n",
    "high_surge.columns = [\"Weekday\", \"Surge\", \"Count\"]"
   ]
  },
  {
   "cell_type": "code",
   "execution_count": 7,
   "metadata": {},
   "outputs": [
    {
     "data": {
      "text/plain": [
       "'Weekday Wise Surge Multiplier for Lyft'"
      ]
     },
     "execution_count": 7,
     "metadata": {},
     "output_type": "execute_result"
    },
    {
     "data": {
      "image/png": "[encoded data removed]",
      "text/plain": [
       "<Figure size 864x360 with 1 Axes>"
      ]
     },
     "metadata": {
      "needs_background": "light"
     },
     "output_type": "display_data"
    }
   ],
   "source": [
    "plt.figure(figsize = (12, 5))\n",
    "sns.barplot(x=\"Weekday\", y = \"Count\", hue= \"Surge\", data=high_surge).set_title\n",
    "(\"Weekday Wise Surge Multiplier for Lyft\")"
   ]
  },
  {
   "cell_type": "markdown",
   "metadata": {},
   "source": [
    "#### We can conclude that:\n",
    "1. Surge_multiplier 1.25 happens most frequently.\n",
    "2. Monday is the day that customer most likely to encounter it.\n",
    "3. Surge_multiplier 3.0 is very unlikely to happen."
   ]
  },
  {
   "cell_type": "code",
   "execution_count": 8,
   "metadata": {},
   "outputs": [
    {
     "data": {
      "text/html": [
       "<div>\n",
       "<style scoped>\n",
       "    .dataframe tbody tr th:only-of-type {\n",
       "        vertical-align: middle;\n",
       "    }\n",
       "\n",
       "    .dataframe tbody tr th {\n",
       "        vertical-align: top;\n",
       "    }\n",
       "\n",
       "    .dataframe thead th {\n",
       "        text-align: right;\n",
       "    }\n",
       "</style>\n",
       "<table border=\"1\" class=\"dataframe\">\n",
       "  <thead>\n",
       "    <tr style=\"text-align: right;\">\n",
       "      <th></th>\n",
       "      <th>distance</th>\n",
       "      <th>cab_type</th>\n",
       "      <th>destination</th>\n",
       "      <th>source</th>\n",
       "      <th>price</th>\n",
       "      <th>surge_multiplier</th>\n",
       "      <th>name</th>\n",
       "      <th>date</th>\n",
       "      <th>time</th>\n",
       "      <th>weekday</th>\n",
       "      <th>...</th>\n",
       "      <th>source_pressure</th>\n",
       "      <th>source_rain</th>\n",
       "      <th>source_humidity</th>\n",
       "      <th>source_wind</th>\n",
       "      <th>destination_temp</th>\n",
       "      <th>destination_clouds</th>\n",
       "      <th>destination_pressure</th>\n",
       "      <th>destination_rain</th>\n",
       "      <th>destination_humidity</th>\n",
       "      <th>destination_wind</th>\n",
       "    </tr>\n",
       "  </thead>\n",
       "  <tbody>\n",
       "    <tr>\n",
       "      <th>0</th>\n",
       "      <td>0.44</td>\n",
       "      <td>Lyft</td>\n",
       "      <td>North Station</td>\n",
       "      <td>Haymarket Square</td>\n",
       "      <td>5.0</td>\n",
       "      <td>1.0</td>\n",
       "      <td>Shared</td>\n",
       "      <td>2018-12-16</td>\n",
       "      <td>04:30:07</td>\n",
       "      <td>Sunday</td>\n",
       "      <td>...</td>\n",
       "      <td>1017.206667</td>\n",
       "      <td>0.014621</td>\n",
       "      <td>0.775</td>\n",
       "      <td>9.199167</td>\n",
       "      <td>40.705</td>\n",
       "      <td>0.81625</td>\n",
       "      <td>1017.227917</td>\n",
       "      <td>0.014917</td>\n",
       "      <td>0.776667</td>\n",
       "      <td>9.158333</td>\n",
       "    </tr>\n",
       "    <tr>\n",
       "      <th>1</th>\n",
       "      <td>0.53</td>\n",
       "      <td>Lyft</td>\n",
       "      <td>North Station</td>\n",
       "      <td>Haymarket Square</td>\n",
       "      <td>27.5</td>\n",
       "      <td>1.0</td>\n",
       "      <td>Lux Black XL</td>\n",
       "      <td>2018-12-16</td>\n",
       "      <td>04:05:09</td>\n",
       "      <td>Sunday</td>\n",
       "      <td>...</td>\n",
       "      <td>1017.206667</td>\n",
       "      <td>0.014621</td>\n",
       "      <td>0.775</td>\n",
       "      <td>9.199167</td>\n",
       "      <td>40.705</td>\n",
       "      <td>0.81625</td>\n",
       "      <td>1017.227917</td>\n",
       "      <td>0.014917</td>\n",
       "      <td>0.776667</td>\n",
       "      <td>9.158333</td>\n",
       "    </tr>\n",
       "    <tr>\n",
       "      <th>2</th>\n",
       "      <td>0.49</td>\n",
       "      <td>Uber</td>\n",
       "      <td>North Station</td>\n",
       "      <td>Haymarket Square</td>\n",
       "      <td>16.0</td>\n",
       "      <td>1.0</td>\n",
       "      <td>Black</td>\n",
       "      <td>2018-12-16</td>\n",
       "      <td>23:15:05</td>\n",
       "      <td>Sunday</td>\n",
       "      <td>...</td>\n",
       "      <td>1017.206667</td>\n",
       "      <td>0.014621</td>\n",
       "      <td>0.775</td>\n",
       "      <td>9.199167</td>\n",
       "      <td>40.705</td>\n",
       "      <td>0.81625</td>\n",
       "      <td>1017.227917</td>\n",
       "      <td>0.014917</td>\n",
       "      <td>0.776667</td>\n",
       "      <td>9.158333</td>\n",
       "    </tr>\n",
       "    <tr>\n",
       "      <th>3</th>\n",
       "      <td>0.49</td>\n",
       "      <td>Uber</td>\n",
       "      <td>North Station</td>\n",
       "      <td>Haymarket Square</td>\n",
       "      <td>7.0</td>\n",
       "      <td>1.0</td>\n",
       "      <td>UberX</td>\n",
       "      <td>2018-12-16</td>\n",
       "      <td>23:15:09</td>\n",
       "      <td>Sunday</td>\n",
       "      <td>...</td>\n",
       "      <td>1017.206667</td>\n",
       "      <td>0.014621</td>\n",
       "      <td>0.775</td>\n",
       "      <td>9.199167</td>\n",
       "      <td>40.705</td>\n",
       "      <td>0.81625</td>\n",
       "      <td>1017.227917</td>\n",
       "      <td>0.014917</td>\n",
       "      <td>0.776667</td>\n",
       "      <td>9.158333</td>\n",
       "    </tr>\n",
       "    <tr>\n",
       "      <th>4</th>\n",
       "      <td>0.49</td>\n",
       "      <td>Uber</td>\n",
       "      <td>North Station</td>\n",
       "      <td>Haymarket Square</td>\n",
       "      <td>8.0</td>\n",
       "      <td>1.0</td>\n",
       "      <td>WAV</td>\n",
       "      <td>2018-12-16</td>\n",
       "      <td>08:40:09</td>\n",
       "      <td>Sunday</td>\n",
       "      <td>...</td>\n",
       "      <td>1017.206667</td>\n",
       "      <td>0.014621</td>\n",
       "      <td>0.775</td>\n",
       "      <td>9.199167</td>\n",
       "      <td>40.705</td>\n",
       "      <td>0.81625</td>\n",
       "      <td>1017.227917</td>\n",
       "      <td>0.014917</td>\n",
       "      <td>0.776667</td>\n",
       "      <td>9.158333</td>\n",
       "    </tr>\n",
       "  </tbody>\n",
       "</table>\n",
       "<p>5 rows × 24 columns</p>\n",
       "</div>"
      ],
      "text/plain": [
       "   distance cab_type    destination            source  price  \\\n",
       "0      0.44     Lyft  North Station  Haymarket Square    5.0   \n",
       "1      0.53     Lyft  North Station  Haymarket Square   27.5   \n",
       "2      0.49     Uber  North Station  Haymarket Square   16.0   \n",
       "3      0.49     Uber  North Station  Haymarket Square    7.0   \n",
       "4      0.49     Uber  North Station  Haymarket Square    8.0   \n",
       "\n",
       "   surge_multiplier          name        date      time weekday  ...  \\\n",
       "0               1.0        Shared  2018-12-16  04:30:07  Sunday  ...   \n",
       "1               1.0  Lux Black XL  2018-12-16  04:05:09  Sunday  ...   \n",
       "2               1.0         Black  2018-12-16  23:15:05  Sunday  ...   \n",
       "3               1.0         UberX  2018-12-16  23:15:09  Sunday  ...   \n",
       "4               1.0           WAV  2018-12-16  08:40:09  Sunday  ...   \n",
       "\n",
       "   source_pressure source_rain  source_humidity  source_wind  \\\n",
       "0      1017.206667    0.014621            0.775     9.199167   \n",
       "1      1017.206667    0.014621            0.775     9.199167   \n",
       "2      1017.206667    0.014621            0.775     9.199167   \n",
       "3      1017.206667    0.014621            0.775     9.199167   \n",
       "4      1017.206667    0.014621            0.775     9.199167   \n",
       "\n",
       "   destination_temp  destination_clouds  destination_pressure  \\\n",
       "0            40.705             0.81625           1017.227917   \n",
       "1            40.705             0.81625           1017.227917   \n",
       "2            40.705             0.81625           1017.227917   \n",
       "3            40.705             0.81625           1017.227917   \n",
       "4            40.705             0.81625           1017.227917   \n",
       "\n",
       "   destination_rain  destination_humidity  destination_wind  \n",
       "0          0.014917              0.776667          9.158333  \n",
       "1          0.014917              0.776667          9.158333  \n",
       "2          0.014917              0.776667          9.158333  \n",
       "3          0.014917              0.776667          9.158333  \n",
       "4          0.014917              0.776667          9.158333  \n",
       "\n",
       "[5 rows x 24 columns]"
      ]
     },
     "execution_count": 8,
     "metadata": {},
     "output_type": "execute_result"
    }
   ],
   "source": [
    "cond_raining = df['source_rain'] > 0\n",
    "df_rain = df[cond_raining] \n",
    "df_rain.head()"
   ]
  },
  {
   "cell_type": "code",
   "execution_count": 22,
   "metadata": {},
   "outputs": [
    {
     "data": {
      "application/vnd.plotly.v1+json": {
       "config": {
        "plotlyServerURL": "https://plot.ly"
       },
       "data": [
        {
         "customdata": [
          [
           0.5,
           "UberPool"
          ],
          [
           0.5,
           "UberPool"
          ]
         ],
         "hovertemplate": "cab_type=Uber<br>distance=%{customdata[0]}<br>source_rain=%{x}<br>price=%{y}<br>name=%{customdata[1]}<extra></extra>",
         "legendgroup": "Uber",
         "marker": {
          "color": "#000000",
          "symbol": "circle"
         },
         "mode": "markers",
         "name": "Uber",
         "orientation": "v",
         "showlegend": true,
         "type": "scatter",
         "x": [
          0.014620833333333331,
          7.142857142857143e-05
         ],
         "xaxis": "x",
         "y": [
          6.5,
          6.5
         ],
         "yaxis": "y"
        },
        {
         "customdata": [
          [
           0.5,
           "Shared"
          ],
          [
           0.5,
           "Shared"
          ],
          [
           0.5,
           "Shared"
          ],
          [
           0.5,
           "Shared"
          ],
          [
           0.5,
           "Shared"
          ],
          [
           0.5,
           "Shared"
          ],
          [
           0.5,
           "Shared"
          ],
          [
           0.5,
           "Shared"
          ],
          [
           0.5,
           "Shared"
          ],
          [
           0.5,
           "Shared"
          ],
          [
           0.5,
           "Shared"
          ]
         ],
         "hovertemplate": "cab_type=Lyft<br>distance=%{customdata[0]}<br>source_rain=%{x}<br>price=%{y}<br>name=%{customdata[1]}<extra></extra>",
         "legendgroup": "Lyft",
         "marker": {
          "color": "#FF00BF",
          "symbol": "circle"
         },
         "mode": "markers",
         "name": "Lyft",
         "orientation": "v",
         "showlegend": true,
         "type": "scatter",
         "x": [
          7.142857142857143e-05,
          5.486725663716815e-05,
          7.142857142857143e-05,
          0.0004708333333333334,
          0.0007083333333333332,
          0.013583333333333336,
          0.013583333333333336,
          0.0004708333333333334,
          0.0057268292682926825,
          0.0057268292682926825,
          8.181818181818183e-05
         ],
         "xaxis": "x",
         "y": [
          5,
          5,
          5,
          5,
          5,
          5,
          3.5,
          5,
          5,
          5,
          5
         ],
         "yaxis": "y"
        }
       ],
       "frames": [
        {
         "data": [
          {
           "customdata": [
            [
             0.5,
             "UberPool"
            ],
            [
             0.5,
             "UberPool"
            ]
           ],
           "hovertemplate": "cab_type=Uber<br>distance=%{customdata[0]}<br>source_rain=%{x}<br>price=%{y}<br>name=%{customdata[1]}<extra></extra>",
           "legendgroup": "Uber",
           "marker": {
            "color": "#000000",
            "symbol": "circle"
           },
           "mode": "markers",
           "name": "Uber",
           "orientation": "v",
           "showlegend": true,
           "type": "scatter",
           "x": [
            0.014620833333333331,
            7.142857142857143e-05
           ],
           "xaxis": "x",
           "y": [
            6.5,
            6.5
           ],
           "yaxis": "y"
          },
          {
           "customdata": [
            [
             0.5,
             "Shared"
            ],
            [
             0.5,
             "Shared"
            ],
            [
             0.5,
             "Shared"
            ],
            [
             0.5,
             "Shared"
            ],
            [
             0.5,
             "Shared"
            ],
            [
             0.5,
             "Shared"
            ],
            [
             0.5,
             "Shared"
            ],
            [
             0.5,
             "Shared"
            ],
            [
             0.5,
             "Shared"
            ],
            [
             0.5,
             "Shared"
            ],
            [
             0.5,
             "Shared"
            ]
           ],
           "hovertemplate": "cab_type=Lyft<br>distance=%{customdata[0]}<br>source_rain=%{x}<br>price=%{y}<br>name=%{customdata[1]}<extra></extra>",
           "legendgroup": "Lyft",
           "marker": {
            "color": "#FF00BF",
            "symbol": "circle"
           },
           "mode": "markers",
           "name": "Lyft",
           "orientation": "v",
           "showlegend": true,
           "type": "scatter",
           "x": [
            7.142857142857143e-05,
            5.486725663716815e-05,
            7.142857142857143e-05,
            0.0004708333333333334,
            0.0007083333333333332,
            0.013583333333333336,
            0.013583333333333336,
            0.0004708333333333334,
            0.0057268292682926825,
            0.0057268292682926825,
            8.181818181818183e-05
           ],
           "xaxis": "x",
           "y": [
            5,
            5,
            5,
            5,
            5,
            5,
            3.5,
            5,
            5,
            5,
            5
           ],
           "yaxis": "y"
          }
         ],
         "name": "0.5"
        },
        {
         "data": [
          {
           "customdata": [
            [
             1,
             "UberPool"
            ],
            [
             1,
             "UberPool"
            ],
            [
             1,
             "UberPool"
            ],
            [
             1,
             "UberPool"
            ],
            [
             1,
             "UberPool"
            ],
            [
             1,
             "UberPool"
            ],
            [
             1,
             "UberPool"
            ],
            [
             1,
             "UberPool"
            ],
            [
             1,
             "UberPool"
            ],
            [
             1,
             "UberPool"
            ],
            [
             1,
             "UberPool"
            ],
            [
             1,
             "UberPool"
            ],
            [
             1,
             "UberPool"
            ],
            [
             1,
             "UberPool"
            ],
            [
             1,
             "UberPool"
            ],
            [
             1,
             "UberPool"
            ],
            [
             1,
             "UberPool"
            ],
            [
             1,
             "UberPool"
            ],
            [
             1,
             "UberPool"
            ],
            [
             1,
             "UberPool"
            ],
            [
             1,
             "UberPool"
            ],
            [
             1,
             "UberPool"
            ],
            [
             1,
             "UberPool"
            ],
            [
             1,
             "UberPool"
            ],
            [
             1,
             "UberPool"
            ],
            [
             1,
             "UberPool"
            ],
            [
             1,
             "UberPool"
            ],
            [
             1,
             "UberPool"
            ],
            [
             1,
             "UberPool"
            ],
            [
             1,
             "UberPool"
            ],
            [
             1,
             "UberPool"
            ],
            [
             1,
             "UberPool"
            ],
            [
             1,
             "UberPool"
            ],
            [
             1,
             "UberPool"
            ],
            [
             1,
             "UberPool"
            ],
            [
             1,
             "UberPool"
            ],
            [
             1,
             "UberPool"
            ],
            [
             1,
             "UberPool"
            ],
            [
             1,
             "UberPool"
            ],
            [
             1,
             "UberPool"
            ],
            [
             1,
             "UberPool"
            ],
            [
             1,
             "UberPool"
            ],
            [
             1,
             "UberPool"
            ],
            [
             1,
             "UberPool"
            ],
            [
             1,
             "UberPool"
            ],
            [
             1,
             "UberPool"
            ],
            [
             1,
             "UberPool"
            ],
            [
             1,
             "UberPool"
            ],
            [
             1,
             "UberPool"
            ],
            [
             1,
             "UberPool"
            ],
            [
             1,
             "UberPool"
            ],
            [
             1,
             "UberPool"
            ],
            [
             1,
             "UberPool"
            ],
            [
             1,
             "UberPool"
            ],
            [
             1,
             "UberPool"
            ],
            [
             1,
             "UberPool"
            ],
            [
             1,
             "UberPool"
            ],
            [
             1,
             "UberPool"
            ],
            [
             1,
             "UberPool"
            ],
            [
             1,
             "UberPool"
            ],
            [
             1,
             "UberPool"
            ],
            [
             1,
             "UberPool"
            ],
            [
             1,
             "UberPool"
            ],
            [
             1,
             "UberPool"
            ],
            [
             1,
             "UberPool"
            ],
            [
             1,
             "UberPool"
            ],
            [
             1,
             "UberPool"
            ],
            [
             1,
             "UberPool"
            ],
            [
             1,
             "UberPool"
            ],
            [
             1,
             "UberPool"
            ],
            [
             1,
             "UberPool"
            ],
            [
             1,
             "UberPool"
            ],
            [
             1,
             "UberPool"
            ],
            [
             1,
             "UberPool"
            ],
            [
             1,
             "UberPool"
            ],
            [
             1,
             "UberPool"
            ],
            [
             1,
             "UberPool"
            ],
            [
             1,
             "UberPool"
            ],
            [
             1,
             "UberPool"
            ],
            [
             1,
             "UberPool"
            ],
            [
             1,
             "UberPool"
            ],
            [
             1,
             "UberPool"
            ],
            [
             1,
             "UberPool"
            ],
            [
             1,
             "UberPool"
            ],
            [
             1,
             "UberPool"
            ],
            [
             1,
             "UberPool"
            ],
            [
             1,
             "UberPool"
            ],
            [
             1,
             "UberPool"
            ],
            [
             1,
             "UberPool"
            ],
            [
             1,
             "UberPool"
            ],
            [
             1,
             "UberPool"
            ],
            [
             1,
             "UberPool"
            ],
            [
             1,
             "UberPool"
            ],
            [
             1,
             "UberPool"
            ],
            [
             1,
             "UberPool"
            ],
            [
             1,
             "UberPool"
            ],
            [
             1,
             "UberPool"
            ],
            [
             1,
             "UberPool"
            ],
            [
             1,
             "UberPool"
            ],
            [
             1,
             "UberPool"
            ],
            [
             1,
             "UberPool"
            ],
            [
             1,
             "UberPool"
            ],
            [
             1,
             "UberPool"
            ],
            [
             1,
             "UberPool"
            ],
            [
             1,
             "UberPool"
            ],
            [
             1,
             "UberPool"
            ],
            [
             1,
             "UberPool"
            ],
            [
             1,
             "UberPool"
            ],
            [
             1,
             "UberPool"
            ],
            [
             1,
             "UberPool"
            ],
            [
             1,
             "UberPool"
            ],
            [
             1,
             "UberPool"
            ],
            [
             1,
             "UberPool"
            ],
            [
             1,
             "UberPool"
            ],
            [
             1,
             "UberPool"
            ],
            [
             1,
             "UberPool"
            ],
            [
             1,
             "UberPool"
            ],
            [
             1,
             "UberPool"
            ],
            [
             1,
             "UberPool"
            ],
            [
             1,
             "UberPool"
            ],
            [
             1,
             "UberPool"
            ],
            [
             1,
             "UberPool"
            ],
            [
             1,
             "UberPool"
            ],
            [
             1,
             "UberPool"
            ],
            [
             1,
             "UberPool"
            ],
            [
             1,
             "UberPool"
            ],
            [
             1,
             "UberPool"
            ],
            [
             1,
             "UberPool"
            ],
            [
             1,
             "UberPool"
            ],
            [
             1,
             "UberPool"
            ],
            [
             1,
             "UberPool"
            ],
            [
             1,
             "UberPool"
            ],
            [
             1,
             "UberPool"
            ],
            [
             1,
             "UberPool"
            ],
            [
             1,
             "UberPool"
            ],
            [
             1,
             "UberPool"
            ],
            [
             1,
             "UberPool"
            ],
            [
             1,
             "UberPool"
            ],
            [
             1,
             "UberPool"
            ],
            [
             1,
             "UberPool"
            ],
            [
             1,
             "UberPool"
            ],
            [
             1,
             "UberPool"
            ],
            [
             1,
             "UberPool"
            ],
            [
             1,
             "UberPool"
            ],
            [
             1,
             "UberPool"
            ],
            [
             1,
             "UberPool"
            ],
            [
             1,
             "UberPool"
            ],
            [
             1,
             "UberPool"
            ],
            [
             1,
             "UberPool"
            ],
            [
             1,
             "UberPool"
            ],
            [
             1,
             "UberPool"
            ],
            [
             1,
             "UberPool"
            ],
            [
             1,
             "UberPool"
            ],
            [
             1,
             "UberPool"
            ],
            [
             1,
             "UberPool"
            ],
            [
             1,
             "UberPool"
            ],
            [
             1,
             "UberPool"
            ],
            [
             1,
             "UberPool"
            ],
            [
             1,
             "UberPool"
            ],
            [
             1,
             "UberPool"
            ],
            [
             1,
             "UberPool"
            ],
            [
             1,
             "UberPool"
            ],
            [
             1,
             "UberPool"
            ],
            [
             1,
             "UberPool"
            ],
            [
             1,
             "UberPool"
            ],
            [
             1,
             "UberPool"
            ],
            [
             1,
             "UberPool"
            ],
            [
             1,
             "UberPool"
            ],
            [
             1,
             "UberPool"
            ],
            [
             1,
             "UberPool"
            ],
            [
             1,
             "UberPool"
            ],
            [
             1,
             "UberPool"
            ],
            [
             1,
             "UberPool"
            ],
            [
             1,
             "UberPool"
            ],
            [
             1,
             "UberPool"
            ],
            [
             1,
             "UberPool"
            ]
           ],
           "hovertemplate": "cab_type=Uber<br>distance=%{customdata[0]}<br>source_rain=%{x}<br>price=%{y}<br>name=%{customdata[1]}<extra></extra>",
           "legendgroup": "Uber",
           "marker": {
            "color": "#000000",
            "symbol": "circle"
           },
           "mode": "markers",
           "name": "Uber",
           "orientation": "v",
           "showlegend": true,
           "type": "scatter",
           "x": [
            0.008008333333333334,
            0.008008333333333334,
            0.008008333333333334,
            0.008008333333333334,
            0.006958536585365854,
            0.00012035398230088497,
            0.00012035398230088497,
            0.00012035398230088497,
            0.00012035398230088497,
            0.00012035398230088497,
            0.00012035398230088497,
            0.00012035398230088497,
            7.142857142857143e-05,
            9.090909090909092e-05,
            9.090909090909092e-05,
            9.090909090909092e-05,
            9.090909090909092e-05,
            9.090909090909092e-05,
            0.0005,
            0.0005,
            0.0005,
            0.0005,
            0.0005,
            0.0005,
            7.142857142857143e-05,
            7.142857142857143e-05,
            0.006958536585365854,
            7.142857142857143e-05,
            0.014941666666666669,
            0.014941666666666669,
            0.014941666666666669,
            0.002285714285714286,
            0.00265,
            0.00265,
            0.00012035398230088497,
            0.006778048780487806,
            0.006778048780487806,
            7.142857142857144e-06,
            7.142857142857144e-06,
            7.142857142857144e-06,
            7.142857142857144e-06,
            7.142857142857144e-06,
            8.181818181818183e-05,
            8.181818181818183e-05,
            8.181818181818183e-05,
            7.142857142857144e-06,
            8.181818181818183e-05,
            0.006778048780487806,
            0.006778048780487806,
            0.0006374999999999999,
            0.0006374999999999999,
            0.0006374999999999999,
            0.006778048780487806,
            0.0006374999999999999,
            0.006778048780487806,
            0.006778048780487806,
            0.006778048780487806,
            8.181818181818183e-05,
            8.181818181818183e-05,
            0.00012035398230088497,
            0.00012035398230088497,
            0.00012035398230088497,
            0.00012035398230088497,
            0.00012035398230088497,
            0.00012035398230088497,
            0.00012035398230088497,
            0.00012035398230088497,
            0.00012035398230088497,
            0.00012035398230088497,
            0.00012035398230088497,
            0.00012035398230088497,
            0.00012035398230088497,
            0.0006374999999999999,
            0.0006374999999999999,
            8.181818181818183e-05,
            8.181818181818183e-05,
            8.181818181818183e-05,
            8.181818181818183e-05,
            7.142857142857144e-06,
            7.142857142857144e-06,
            0.0006374999999999999,
            0.00010707964601769912,
            0.00010707964601769912,
            0.00010707964601769912,
            0.008308333333333333,
            0.008308333333333333,
            0.008308333333333333,
            0.008308333333333333,
            0.008308333333333333,
            0.008308333333333333,
            0.008308333333333333,
            0.008308333333333333,
            0.008308333333333333,
            0.008308333333333333,
            0.008308333333333333,
            0.008308333333333333,
            0.014620833333333331,
            0.014620833333333331,
            0.014620833333333331,
            0.014620833333333331,
            0.014620833333333331,
            0.014620833333333331,
            0.014620833333333331,
            0.014620833333333331,
            0.014620833333333331,
            0.00010707964601769912,
            0.00010707964601769912,
            0.00010707964601769912,
            0.00010707964601769912,
            0.00010707964601769912,
            0.00010707964601769912,
            0.00010707964601769912,
            0.00010707964601769912,
            0.00010707964601769912,
            0.00010707964601769912,
            0.00010707964601769912,
            0.008308333333333333,
            0.00010707964601769912,
            0.008308333333333333,
            0.00010707964601769912,
            0.00010707964601769912,
            0.00010707964601769912,
            0.00010707964601769912,
            0.00010707964601769912,
            0.00010707964601769912,
            0.00010707964601769912,
            0.002214285714285714,
            0.002214285714285714,
            0.002214285714285714,
            0.002214285714285714,
            0.002214285714285714,
            0.00010707964601769912,
            0.00010707964601769912,
            0.00010707964601769912,
            0.0006375,
            0.000625,
            0.000625,
            0.000625,
            0.000625,
            0.043559036144578296,
            0.043559036144578296,
            0.000625,
            0.043559036144578296,
            0.043559036144578296,
            0.043559036144578296,
            0.043559036144578296,
            0.0006375,
            0.043559036144578296,
            0.043559036144578296,
            0.043559036144578296,
            0.043559036144578296,
            0.043559036144578296,
            0.000625,
            0.000625,
            0.04358915662650602,
            0.04358915662650602,
            0.04358915662650602,
            0.04358915662650602,
            0.04358915662650602,
            0.04358915662650602,
            0.04358915662650602,
            0.04358915662650602,
            0.000625,
            0.04358915662650602,
            0.000625,
            0.000625,
            0.000625,
            0.000625,
            0.000625,
            0.000625,
            0.000625,
            0.000625,
            0.043559036144578296,
            0.0006375,
            0.0006375,
            0.043559036144578296
           ],
           "xaxis": "x",
           "y": [
            7.5,
            8.5,
            6.5,
            8,
            7.5,
            8.5,
            8,
            8,
            5.5,
            14,
            5.5,
            6.5,
            7,
            8,
            6.5,
            12,
            6.5,
            6.5,
            8.5,
            6.5,
            9,
            7,
            7.5,
            8,
            7.5,
            7.5,
            6.5,
            7,
            7.5,
            7.5,
            8,
            8.5,
            7.5,
            6.5,
            8,
            5.5,
            6.5,
            8.5,
            7.5,
            6.5,
            8,
            7,
            7,
            6.5,
            7,
            6.5,
            7.5,
            7.5,
            9,
            6.5,
            6.5,
            8.5,
            8,
            7,
            6.5,
            6.5,
            8,
            13.5,
            7.5,
            8.5,
            7,
            6.5,
            8.5,
            7,
            8,
            6.5,
            7,
            6.5,
            6.5,
            7.5,
            8,
            6.5,
            7.5,
            8,
            8.5,
            7.5,
            7.5,
            7.5,
            7.5,
            8.5,
            7,
            7,
            7.5,
            7.5,
            6.5,
            7.5,
            7.5,
            6.5,
            7.5,
            6.5,
            7.5,
            7.5,
            6.5,
            6.5,
            6.5,
            7.5,
            8,
            7,
            7.5,
            7.5,
            6.5,
            7.5,
            6.5,
            7.5,
            7.5,
            7.5,
            7.5,
            7.5,
            7.5,
            7.5,
            7.5,
            7.5,
            9,
            7.5,
            7.5,
            7.5,
            7.5,
            8,
            7.5,
            6.5,
            6.5,
            7.5,
            7.5,
            6.5,
            7,
            7.5,
            6,
            7,
            7.5,
            7.5,
            6.5,
            6.5,
            7.5,
            7.5,
            7,
            7.5,
            7.5,
            6.5,
            7.5,
            6.5,
            8.5,
            7.5,
            7.5,
            7.5,
            7.5,
            6.5,
            6.5,
            8,
            6.5,
            7.5,
            6.5,
            7.5,
            6.5,
            6.5,
            6.5,
            7,
            6.5,
            7.5,
            9,
            6.5,
            8,
            8.5,
            7.5,
            7,
            6.5,
            7,
            6.5,
            6.5,
            7.5,
            7,
            7.5,
            7.5,
            7.5,
            6.5,
            6.5,
            6.5
           ],
           "yaxis": "y"
          },
          {
           "customdata": [
            [
             1,
             "Shared"
            ],
            [
             1,
             "Shared"
            ],
            [
             1,
             "Shared"
            ],
            [
             1,
             "Shared"
            ],
            [
             1,
             "Shared"
            ],
            [
             1,
             "Shared"
            ],
            [
             1,
             "Shared"
            ],
            [
             1,
             "Shared"
            ],
            [
             1,
             "Shared"
            ],
            [
             1,
             "Shared"
            ],
            [
             1,
             "Shared"
            ],
            [
             1,
             "Shared"
            ],
            [
             1,
             "Shared"
            ],
            [
             1,
             "Shared"
            ],
            [
             1,
             "Shared"
            ],
            [
             1,
             "Shared"
            ],
            [
             1,
             "Shared"
            ],
            [
             1,
             "Shared"
            ],
            [
             1,
             "Shared"
            ],
            [
             1,
             "Shared"
            ],
            [
             1,
             "Shared"
            ],
            [
             1,
             "Shared"
            ],
            [
             1,
             "Shared"
            ],
            [
             1,
             "Shared"
            ],
            [
             1,
             "Shared"
            ],
            [
             1,
             "Shared"
            ],
            [
             1,
             "Shared"
            ],
            [
             1,
             "Shared"
            ],
            [
             1,
             "Shared"
            ],
            [
             1,
             "Shared"
            ],
            [
             1,
             "Shared"
            ],
            [
             1,
             "Shared"
            ],
            [
             1,
             "Shared"
            ],
            [
             1,
             "Shared"
            ],
            [
             1,
             "Shared"
            ],
            [
             1,
             "Shared"
            ],
            [
             1,
             "Shared"
            ],
            [
             1,
             "Shared"
            ],
            [
             1,
             "Shared"
            ],
            [
             1,
             "Shared"
            ],
            [
             1,
             "Shared"
            ],
            [
             1,
             "Shared"
            ],
            [
             1,
             "Shared"
            ],
            [
             1,
             "Shared"
            ],
            [
             1,
             "Shared"
            ],
            [
             1,
             "Shared"
            ],
            [
             1,
             "Shared"
            ],
            [
             1,
             "Shared"
            ],
            [
             1,
             "Shared"
            ],
            [
             1,
             "Shared"
            ],
            [
             1,
             "Shared"
            ],
            [
             1,
             "Shared"
            ],
            [
             1,
             "Shared"
            ],
            [
             1,
             "Shared"
            ],
            [
             1,
             "Shared"
            ],
            [
             1,
             "Shared"
            ],
            [
             1,
             "Shared"
            ],
            [
             1,
             "Shared"
            ],
            [
             1,
             "Shared"
            ],
            [
             1,
             "Shared"
            ],
            [
             1,
             "Shared"
            ],
            [
             1,
             "Shared"
            ],
            [
             1,
             "Shared"
            ],
            [
             1,
             "Shared"
            ],
            [
             1,
             "Shared"
            ],
            [
             1,
             "Shared"
            ],
            [
             1,
             "Shared"
            ],
            [
             1,
             "Shared"
            ],
            [
             1,
             "Shared"
            ],
            [
             1,
             "Shared"
            ],
            [
             1,
             "Shared"
            ],
            [
             1,
             "Shared"
            ],
            [
             1,
             "Shared"
            ],
            [
             1,
             "Shared"
            ],
            [
             1,
             "Shared"
            ],
            [
             1,
             "Shared"
            ],
            [
             1,
             "Shared"
            ],
            [
             1,
             "Shared"
            ],
            [
             1,
             "Shared"
            ],
            [
             1,
             "Shared"
            ],
            [
             1,
             "Shared"
            ],
            [
             1,
             "Shared"
            ],
            [
             1,
             "Shared"
            ],
            [
             1,
             "Shared"
            ],
            [
             1,
             "Shared"
            ],
            [
             1,
             "Shared"
            ],
            [
             1,
             "Shared"
            ],
            [
             1,
             "Shared"
            ],
            [
             1,
             "Shared"
            ],
            [
             1,
             "Shared"
            ],
            [
             1,
             "Shared"
            ],
            [
             1,
             "Shared"
            ],
            [
             1,
             "Shared"
            ],
            [
             1,
             "Shared"
            ],
            [
             1,
             "Shared"
            ],
            [
             1,
             "Shared"
            ],
            [
             1,
             "Shared"
            ],
            [
             1,
             "Shared"
            ],
            [
             1,
             "Shared"
            ],
            [
             1,
             "Shared"
            ],
            [
             1,
             "Shared"
            ],
            [
             1,
             "Shared"
            ],
            [
             1,
             "Shared"
            ],
            [
             1,
             "Shared"
            ],
            [
             1,
             "Shared"
            ],
            [
             1,
             "Shared"
            ],
            [
             1,
             "Shared"
            ],
            [
             1,
             "Shared"
            ],
            [
             1,
             "Shared"
            ],
            [
             1,
             "Shared"
            ],
            [
             1,
             "Shared"
            ],
            [
             1,
             "Shared"
            ],
            [
             1,
             "Shared"
            ],
            [
             1,
             "Shared"
            ],
            [
             1,
             "Shared"
            ],
            [
             1,
             "Shared"
            ],
            [
             1,
             "Shared"
            ],
            [
             1,
             "Shared"
            ],
            [
             1,
             "Shared"
            ],
            [
             1,
             "Shared"
            ],
            [
             1,
             "Shared"
            ],
            [
             1,
             "Shared"
            ],
            [
             1,
             "Shared"
            ],
            [
             1,
             "Shared"
            ],
            [
             1,
             "Shared"
            ],
            [
             1,
             "Shared"
            ],
            [
             1,
             "Shared"
            ],
            [
             1,
             "Shared"
            ],
            [
             1,
             "Shared"
            ],
            [
             1,
             "Shared"
            ],
            [
             1,
             "Shared"
            ],
            [
             1,
             "Shared"
            ],
            [
             1,
             "Shared"
            ],
            [
             1,
             "Shared"
            ],
            [
             1,
             "Shared"
            ],
            [
             1,
             "Shared"
            ],
            [
             1,
             "Shared"
            ],
            [
             1,
             "Shared"
            ],
            [
             1,
             "Shared"
            ],
            [
             1,
             "Shared"
            ],
            [
             1,
             "Shared"
            ],
            [
             1,
             "Shared"
            ],
            [
             1,
             "Shared"
            ],
            [
             1,
             "Shared"
            ],
            [
             1,
             "Shared"
            ],
            [
             1,
             "Shared"
            ],
            [
             1,
             "Shared"
            ],
            [
             1,
             "Shared"
            ],
            [
             1,
             "Shared"
            ],
            [
             1,
             "Shared"
            ],
            [
             1,
             "Shared"
            ],
            [
             1,
             "Shared"
            ],
            [
             1,
             "Shared"
            ],
            [
             1,
             "Shared"
            ],
            [
             1,
             "Shared"
            ],
            [
             1,
             "Shared"
            ],
            [
             1,
             "Shared"
            ],
            [
             1,
             "Shared"
            ],
            [
             1,
             "Shared"
            ],
            [
             1,
             "Shared"
            ],
            [
             1,
             "Shared"
            ],
            [
             1,
             "Shared"
            ],
            [
             1,
             "Shared"
            ],
            [
             1,
             "Shared"
            ],
            [
             1,
             "Shared"
            ],
            [
             1,
             "Shared"
            ],
            [
             1,
             "Shared"
            ],
            [
             1,
             "Shared"
            ],
            [
             1,
             "Shared"
            ],
            [
             1,
             "Shared"
            ],
            [
             1,
             "Shared"
            ],
            [
             1,
             "Shared"
            ],
            [
             1,
             "Shared"
            ],
            [
             1,
             "Shared"
            ],
            [
             1,
             "Shared"
            ],
            [
             1,
             "Shared"
            ],
            [
             1,
             "Shared"
            ],
            [
             1,
             "Shared"
            ],
            [
             1,
             "Shared"
            ],
            [
             1,
             "Shared"
            ],
            [
             1,
             "Shared"
            ],
            [
             1,
             "Shared"
            ],
            [
             1,
             "Shared"
            ],
            [
             1,
             "Shared"
            ],
            [
             1,
             "Shared"
            ],
            [
             1,
             "Shared"
            ],
            [
             1,
             "Shared"
            ],
            [
             1,
             "Shared"
            ],
            [
             1,
             "Shared"
            ],
            [
             1,
             "Shared"
            ],
            [
             1,
             "Shared"
            ],
            [
             1,
             "Shared"
            ],
            [
             1,
             "Shared"
            ],
            [
             1,
             "Shared"
            ],
            [
             1,
             "Shared"
            ],
            [
             1,
             "Shared"
            ],
            [
             1,
             "Shared"
            ],
            [
             1,
             "Shared"
            ],
            [
             1,
             "Shared"
            ],
            [
             1,
             "Shared"
            ],
            [
             1,
             "Shared"
            ],
            [
             1,
             "Shared"
            ],
            [
             1,
             "Shared"
            ],
            [
             1,
             "Shared"
            ],
            [
             1,
             "Shared"
            ],
            [
             1,
             "Shared"
            ],
            [
             1,
             "Shared"
            ],
            [
             1,
             "Shared"
            ],
            [
             1,
             "Shared"
            ],
            [
             1,
             "Shared"
            ],
            [
             1,
             "Shared"
            ],
            [
             1,
             "Shared"
            ],
            [
             1,
             "Shared"
            ],
            [
             1,
             "Shared"
            ],
            [
             1,
             "Shared"
            ],
            [
             1,
             "Shared"
            ],
            [
             1,
             "Shared"
            ],
            [
             1,
             "Shared"
            ],
            [
             1,
             "Shared"
            ],
            [
             1,
             "Shared"
            ],
            [
             1,
             "Shared"
            ],
            [
             1,
             "Shared"
            ],
            [
             1,
             "Shared"
            ],
            [
             1,
             "Shared"
            ],
            [
             1,
             "Shared"
            ],
            [
             1,
             "Shared"
            ],
            [
             1,
             "Shared"
            ],
            [
             1,
             "Shared"
            ],
            [
             1,
             "Shared"
            ],
            [
             1,
             "Shared"
            ],
            [
             1,
             "Shared"
            ]
           ],
           "hovertemplate": "cab_type=Lyft<br>distance=%{customdata[0]}<br>source_rain=%{x}<br>price=%{y}<br>name=%{customdata[1]}<extra></extra>",
           "legendgroup": "Lyft",
           "marker": {
            "color": "#FF00BF",
            "symbol": "circle"
           },
           "mode": "markers",
           "name": "Lyft",
           "orientation": "v",
           "showlegend": true,
           "type": "scatter",
           "x": [
            5.486725663716815e-05,
            7.142857142857143e-05,
            5.486725663716815e-05,
            5.486725663716815e-05,
            5.486725663716815e-05,
            5.486725663716815e-05,
            5.486725663716815e-05,
            5.486725663716815e-05,
            0.014329166666666669,
            7.142857142857143e-05,
            5.486725663716815e-05,
            7.142857142857143e-05,
            0.008391666666666667,
            0.008391666666666667,
            0.0081375,
            7.142857142857143e-05,
            7.142857142857143e-05,
            5.486725663716815e-05,
            5.486725663716815e-05,
            5.486725663716815e-05,
            0.006958536585365854,
            0.006958536585365854,
            0.006958536585365854,
            0.006958536585365854,
            0.006958536585365854,
            0.006958536585365854,
            0.006958536585365854,
            5.486725663716815e-05,
            5.486725663716815e-05,
            5.486725663716815e-05,
            5.486725663716815e-05,
            5.486725663716815e-05,
            5.486725663716815e-05,
            5.486725663716815e-05,
            5.486725663716815e-05,
            5.486725663716815e-05,
            5.486725663716815e-05,
            7.142857142857143e-05,
            5.486725663716815e-05,
            7.142857142857143e-05,
            7.142857142857143e-05,
            0.0023,
            8.181818181818183e-05,
            0.008391666666666667,
            9.090909090909092e-05,
            9.090909090909092e-05,
            9.090909090909092e-05,
            8.181818181818183e-05,
            0.0071756097560975625,
            8.181818181818183e-05,
            0.008391666666666667,
            0.008391666666666667,
            0.043916867469879516,
            0.000625,
            0.000625,
            0.043916867469879516,
            8.181818181818183e-05,
            0.0071756097560975625,
            0.0071756097560975625,
            7.142857142857143e-05,
            7.142857142857143e-05,
            7.142857142857143e-05,
            0.013583333333333336,
            0.013583333333333336,
            0.013583333333333336,
            0.014916666666666668,
            0.014916666666666668,
            0.013583333333333336,
            0.0071756097560975625,
            0.013583333333333336,
            0.014941666666666669,
            0.0081375,
            0.0023,
            0.0023,
            0.0071756097560975625,
            0.0071756097560975625,
            0.013583333333333336,
            0.006958536585365854,
            0.006958536585365854,
            0.0057268292682926825,
            0.0057268292682926825,
            0.0057268292682926825,
            0.00010442477876106196,
            0.00010442477876106196,
            0.00010442477876106196,
            0.00010442477876106196,
            7.142857142857143e-05,
            7.142857142857143e-05,
            7.142857142857143e-05,
            7.142857142857143e-05,
            8.181818181818183e-05,
            8.181818181818183e-05,
            8.181818181818183e-05,
            8.181818181818183e-05,
            8.181818181818183e-05,
            0.0057268292682926825,
            0.0057268292682926825,
            0.0057268292682926825,
            0.0057268292682926825,
            0.0057268292682926825,
            0.0057268292682926825,
            0.0057268292682926825,
            0.0057268292682926825,
            0.0057268292682926825,
            0.0057268292682926825,
            0.0057268292682926825,
            0.0057268292682926825,
            0.0057268292682926825,
            0.0057268292682926825,
            0.0057268292682926825,
            0.007446341463414634,
            0.00010442477876106196,
            0.00010442477876106196,
            0.0057268292682926825,
            8.181818181818183e-05,
            0.0006833333333333332,
            0.0006833333333333332,
            0.0004708333333333334,
            0.0004708333333333334,
            0.0004708333333333334,
            0.0004708333333333334,
            0.0004708333333333334,
            0.00011327433628318584,
            0.006958536585365854,
            0.00011327433628318584,
            0.00011327433628318584,
            0.0006833333333333332,
            0.0007083333333333332,
            0.006958536585365854,
            7.142857142857143e-05,
            8.181818181818183e-05,
            8.181818181818183e-05,
            8.181818181818183e-05,
            8.181818181818183e-05,
            8.181818181818183e-05,
            0.00010442477876106196,
            0.00010442477876106196,
            0.00010442477876106196,
            0.00010442477876106196,
            0.00010442477876106196,
            0.00010442477876106196,
            0.00010442477876106196,
            0.00010442477876106196,
            7.142857142857143e-05,
            7.142857142857143e-05,
            7.142857142857143e-05,
            7.142857142857143e-05,
            7.142857142857143e-05,
            7.142857142857143e-05,
            7.142857142857143e-05,
            0.006958536585365854,
            0.0007083333333333332,
            0.0005,
            0.0007083333333333332,
            0.008466666666666667,
            0.008466666666666667,
            0.008466666666666667,
            0.00010707964601769912,
            0.008308333333333333,
            0.0007083333333333332,
            0.008308333333333333,
            0.008308333333333333,
            0.008308333333333333,
            0.0007083333333333332,
            0.0007083333333333332,
            0.0434144578313253,
            0.0434144578313253,
            0.0434144578313253,
            0.0434144578313253,
            0.0007083333333333332,
            0.014620833333333331,
            0.014620833333333331,
            0.0007083333333333332,
            0.014620833333333331,
            0.014620833333333331,
            0.014620833333333331,
            0.014620833333333331,
            0.0007083333333333332,
            0.0007083333333333332,
            0.0006375,
            0.008308333333333333,
            0.008308333333333333,
            0.00010707964601769912,
            0.00010707964601769912,
            0.00010707964601769912,
            0.00010707964601769912,
            0.00010707964601769912,
            0.00010707964601769912,
            0.014329166666666669,
            0.014329166666666669,
            0.014329166666666669,
            0.014329166666666669,
            0.014329166666666669,
            0.014329166666666669,
            0.00010707964601769912,
            0.008308333333333333,
            0.00010707964601769912,
            0.00010707964601769912,
            0.00010707964601769912,
            0.002214285714285714,
            0.00010707964601769912,
            0.00010707964601769912,
            0.0004708333333333334,
            0.0006375,
            0.000625,
            0.000625,
            0.043559036144578296,
            0.043559036144578296,
            0.043559036144578296,
            0.043559036144578296,
            0.043559036144578296,
            0.043559036144578296,
            0.043559036144578296,
            0.043916867469879516,
            0.043916867469879516,
            0.043916867469879516,
            0.000625,
            0.000625,
            0.000625,
            0.000625,
            0.043559036144578296,
            0.0006375,
            0.0006375,
            0.0006083333333333332,
            0.0006375,
            0.0006375,
            0.0006375,
            0.0006083333333333332,
            0.0006083333333333332,
            0.0006375,
            0.0006375
           ],
           "xaxis": "x",
           "y": [
            3.5,
            5,
            3.5,
            5,
            3.5,
            3.5,
            3.5,
            3,
            5,
            5,
            3,
            5,
            2.5,
            3,
            5,
            5,
            3.5,
            3.5,
            5,
            5,
            5,
            5,
            3.5,
            5,
            3.5,
            5,
            3.5,
            3,
            3,
            3,
            7,
            3,
            3,
            3,
            5,
            5,
            5,
            3,
            3.5,
            3,
            3,
            3.5,
            5,
            5,
            5,
            5,
            5,
            7,
            3.5,
            3.5,
            5,
            3,
            5,
            5,
            5,
            3,
            3.5,
            5,
            5,
            5,
            3.5,
            5,
            3.5,
            3,
            3.5,
            5,
            5,
            3,
            3,
            5,
            7,
            5,
            5,
            3.5,
            3,
            5,
            3.5,
            5,
            3.5,
            3.5,
            5,
            7,
            5,
            5,
            5,
            3.5,
            5,
            5,
            3.5,
            5,
            5,
            3.5,
            5,
            3,
            3.5,
            3.5,
            9,
            5,
            3.5,
            5,
            5,
            3,
            3,
            3,
            3.5,
            5,
            5,
            3,
            3.5,
            5,
            5,
            5,
            5,
            3.5,
            3.5,
            5,
            5,
            5,
            5,
            3.5,
            5,
            5,
            3.5,
            5,
            5,
            5,
            5,
            5,
            3,
            5,
            3,
            5,
            3,
            5,
            3,
            5,
            3,
            5,
            3,
            5,
            5,
            3,
            3.5,
            5,
            3,
            3,
            5,
            3.5,
            3.5,
            3.5,
            5,
            3,
            5,
            3,
            5,
            5,
            3.5,
            5,
            5,
            3.5,
            3,
            2.5,
            5,
            5,
            5,
            5,
            7,
            5,
            3.5,
            3,
            3.5,
            3.5,
            3.5,
            2.5,
            3,
            3,
            3,
            3,
            5,
            3,
            3.5,
            3,
            3,
            3,
            5,
            3,
            3,
            5,
            2.5,
            5,
            3.5,
            5,
            5,
            3,
            5,
            5,
            5,
            3.5,
            5,
            3.5,
            3.5,
            3.5,
            5,
            5,
            3,
            5,
            3.5,
            2.5,
            5,
            5,
            3.5,
            3.5,
            3,
            3,
            3,
            3,
            3,
            3,
            3,
            3.5,
            3,
            3,
            5,
            5,
            3.5,
            3,
            3,
            5,
            3,
            3,
            5
           ],
           "yaxis": "y"
          }
         ],
         "name": "1.0"
        },
        {
         "data": [
          {
           "customdata": [
            [
             1.5,
             "UberPool"
            ],
            [
             1.5,
             "UberPool"
            ],
            [
             1.5,
             "UberPool"
            ],
            [
             1.5,
             "UberPool"
            ],
            [
             1.5,
             "UberPool"
            ],
            [
             1.5,
             "UberPool"
            ],
            [
             1.5,
             "UberPool"
            ],
            [
             1.5,
             "UberPool"
            ],
            [
             1.5,
             "UberPool"
            ],
            [
             1.5,
             "UberPool"
            ],
            [
             1.5,
             "UberPool"
            ],
            [
             1.5,
             "UberPool"
            ],
            [
             1.5,
             "UberPool"
            ],
            [
             1.5,
             "UberPool"
            ],
            [
             1.5,
             "UberPool"
            ],
            [
             1.5,
             "UberPool"
            ],
            [
             1.5,
             "UberPool"
            ],
            [
             1.5,
             "UberPool"
            ],
            [
             1.5,
             "UberPool"
            ],
            [
             1.5,
             "UberPool"
            ],
            [
             1.5,
             "UberPool"
            ],
            [
             1.5,
             "UberPool"
            ],
            [
             1.5,
             "UberPool"
            ],
            [
             1.5,
             "UberPool"
            ],
            [
             1.5,
             "UberPool"
            ],
            [
             1.5,
             "UberPool"
            ],
            [
             1.5,
             "UberPool"
            ],
            [
             1.5,
             "UberPool"
            ],
            [
             1.5,
             "UberPool"
            ],
            [
             1.5,
             "UberPool"
            ],
            [
             1.5,
             "UberPool"
            ],
            [
             1.5,
             "UberPool"
            ],
            [
             1.5,
             "UberPool"
            ],
            [
             1.5,
             "UberPool"
            ],
            [
             1.5,
             "UberPool"
            ],
            [
             1.5,
             "UberPool"
            ],
            [
             1.5,
             "UberPool"
            ],
            [
             1.5,
             "UberPool"
            ],
            [
             1.5,
             "UberPool"
            ],
            [
             1.5,
             "UberPool"
            ],
            [
             1.5,
             "UberPool"
            ],
            [
             1.5,
             "UberPool"
            ],
            [
             1.5,
             "UberPool"
            ],
            [
             1.5,
             "UberPool"
            ],
            [
             1.5,
             "UberPool"
            ],
            [
             1.5,
             "UberPool"
            ],
            [
             1.5,
             "UberPool"
            ],
            [
             1.5,
             "UberPool"
            ],
            [
             1.5,
             "UberPool"
            ],
            [
             1.5,
             "UberPool"
            ],
            [
             1.5,
             "UberPool"
            ],
            [
             1.5,
             "UberPool"
            ],
            [
             1.5,
             "UberPool"
            ],
            [
             1.5,
             "UberPool"
            ],
            [
             1.5,
             "UberPool"
            ],
            [
             1.5,
             "UberPool"
            ],
            [
             1.5,
             "UberPool"
            ],
            [
             1.5,
             "UberPool"
            ],
            [
             1.5,
             "UberPool"
            ],
            [
             1.5,
             "UberPool"
            ],
            [
             1.5,
             "UberPool"
            ],
            [
             1.5,
             "UberPool"
            ],
            [
             1.5,
             "UberPool"
            ],
            [
             1.5,
             "UberPool"
            ],
            [
             1.5,
             "UberPool"
            ],
            [
             1.5,
             "UberPool"
            ],
            [
             1.5,
             "UberPool"
            ],
            [
             1.5,
             "UberPool"
            ],
            [
             1.5,
             "UberPool"
            ],
            [
             1.5,
             "UberPool"
            ],
            [
             1.5,
             "UberPool"
            ],
            [
             1.5,
             "UberPool"
            ],
            [
             1.5,
             "UberPool"
            ],
            [
             1.5,
             "UberPool"
            ],
            [
             1.5,
             "UberPool"
            ],
            [
             1.5,
             "UberPool"
            ],
            [
             1.5,
             "UberPool"
            ],
            [
             1.5,
             "UberPool"
            ],
            [
             1.5,
             "UberPool"
            ],
            [
             1.5,
             "UberPool"
            ],
            [
             1.5,
             "UberPool"
            ],
            [
             1.5,
             "UberPool"
            ],
            [
             1.5,
             "UberPool"
            ],
            [
             1.5,
             "UberPool"
            ],
            [
             1.5,
             "UberPool"
            ],
            [
             1.5,
             "UberPool"
            ],
            [
             1.5,
             "UberPool"
            ],
            [
             1.5,
             "UberPool"
            ],
            [
             1.5,
             "UberPool"
            ],
            [
             1.5,
             "UberPool"
            ],
            [
             1.5,
             "UberPool"
            ],
            [
             1.5,
             "UberPool"
            ],
            [
             1.5,
             "UberPool"
            ],
            [
             1.5,
             "UberPool"
            ],
            [
             1.5,
             "UberPool"
            ],
            [
             1.5,
             "UberPool"
            ],
            [
             1.5,
             "UberPool"
            ],
            [
             1.5,
             "UberPool"
            ],
            [
             1.5,
             "UberPool"
            ],
            [
             1.5,
             "UberPool"
            ],
            [
             1.5,
             "UberPool"
            ],
            [
             1.5,
             "UberPool"
            ],
            [
             1.5,
             "UberPool"
            ],
            [
             1.5,
             "UberPool"
            ],
            [
             1.5,
             "UberPool"
            ],
            [
             1.5,
             "UberPool"
            ],
            [
             1.5,
             "UberPool"
            ],
            [
             1.5,
             "UberPool"
            ],
            [
             1.5,
             "UberPool"
            ],
            [
             1.5,
             "UberPool"
            ],
            [
             1.5,
             "UberPool"
            ],
            [
             1.5,
             "UberPool"
            ],
            [
             1.5,
             "UberPool"
            ],
            [
             1.5,
             "UberPool"
            ],
            [
             1.5,
             "UberPool"
            ],
            [
             1.5,
             "UberPool"
            ],
            [
             1.5,
             "UberPool"
            ],
            [
             1.5,
             "UberPool"
            ],
            [
             1.5,
             "UberPool"
            ],
            [
             1.5,
             "UberPool"
            ],
            [
             1.5,
             "UberPool"
            ],
            [
             1.5,
             "UberPool"
            ],
            [
             1.5,
             "UberPool"
            ],
            [
             1.5,
             "UberPool"
            ],
            [
             1.5,
             "UberPool"
            ],
            [
             1.5,
             "UberPool"
            ],
            [
             1.5,
             "UberPool"
            ],
            [
             1.5,
             "UberPool"
            ],
            [
             1.5,
             "UberPool"
            ],
            [
             1.5,
             "UberPool"
            ],
            [
             1.5,
             "UberPool"
            ],
            [
             1.5,
             "UberPool"
            ],
            [
             1.5,
             "UberPool"
            ],
            [
             1.5,
             "UberPool"
            ],
            [
             1.5,
             "UberPool"
            ],
            [
             1.5,
             "UberPool"
            ],
            [
             1.5,
             "UberPool"
            ],
            [
             1.5,
             "UberPool"
            ],
            [
             1.5,
             "UberPool"
            ],
            [
             1.5,
             "UberPool"
            ],
            [
             1.5,
             "UberPool"
            ],
            [
             1.5,
             "UberPool"
            ],
            [
             1.5,
             "UberPool"
            ],
            [
             1.5,
             "UberPool"
            ],
            [
             1.5,
             "UberPool"
            ],
            [
             1.5,
             "UberPool"
            ],
            [
             1.5,
             "UberPool"
            ],
            [
             1.5,
             "UberPool"
            ],
            [
             1.5,
             "UberPool"
            ],
            [
             1.5,
             "UberPool"
            ],
            [
             1.5,
             "UberPool"
            ],
            [
             1.5,
             "UberPool"
            ],
            [
             1.5,
             "UberPool"
            ],
            [
             1.5,
             "UberPool"
            ],
            [
             1.5,
             "UberPool"
            ],
            [
             1.5,
             "UberPool"
            ],
            [
             1.5,
             "UberPool"
            ],
            [
             1.5,
             "UberPool"
            ],
            [
             1.5,
             "UberPool"
            ],
            [
             1.5,
             "UberPool"
            ],
            [
             1.5,
             "UberPool"
            ],
            [
             1.5,
             "UberPool"
            ],
            [
             1.5,
             "UberPool"
            ],
            [
             1.5,
             "UberPool"
            ],
            [
             1.5,
             "UberPool"
            ],
            [
             1.5,
             "UberPool"
            ],
            [
             1.5,
             "UberPool"
            ],
            [
             1.5,
             "UberPool"
            ],
            [
             1.5,
             "UberPool"
            ],
            [
             1.5,
             "UberPool"
            ],
            [
             1.5,
             "UberPool"
            ],
            [
             1.5,
             "UberPool"
            ],
            [
             1.5,
             "UberPool"
            ],
            [
             1.5,
             "UberPool"
            ],
            [
             1.5,
             "UberPool"
            ],
            [
             1.5,
             "UberPool"
            ],
            [
             1.5,
             "UberPool"
            ],
            [
             1.5,
             "UberPool"
            ],
            [
             1.5,
             "UberPool"
            ],
            [
             1.5,
             "UberPool"
            ],
            [
             1.5,
             "UberPool"
            ],
            [
             1.5,
             "UberPool"
            ],
            [
             1.5,
             "UberPool"
            ],
            [
             1.5,
             "UberPool"
            ],
            [
             1.5,
             "UberPool"
            ],
            [
             1.5,
             "UberPool"
            ],
            [
             1.5,
             "UberPool"
            ],
            [
             1.5,
             "UberPool"
            ],
            [
             1.5,
             "UberPool"
            ],
            [
             1.5,
             "UberPool"
            ],
            [
             1.5,
             "UberPool"
            ],
            [
             1.5,
             "UberPool"
            ],
            [
             1.5,
             "UberPool"
            ],
            [
             1.5,
             "UberPool"
            ],
            [
             1.5,
             "UberPool"
            ],
            [
             1.5,
             "UberPool"
            ],
            [
             1.5,
             "UberPool"
            ],
            [
             1.5,
             "UberPool"
            ],
            [
             1.5,
             "UberPool"
            ],
            [
             1.5,
             "UberPool"
            ],
            [
             1.5,
             "UberPool"
            ],
            [
             1.5,
             "UberPool"
            ],
            [
             1.5,
             "UberPool"
            ],
            [
             1.5,
             "UberPool"
            ],
            [
             1.5,
             "UberPool"
            ],
            [
             1.5,
             "UberPool"
            ],
            [
             1.5,
             "UberPool"
            ],
            [
             1.5,
             "UberPool"
            ],
            [
             1.5,
             "UberPool"
            ],
            [
             1.5,
             "UberPool"
            ],
            [
             1.5,
             "UberPool"
            ],
            [
             1.5,
             "UberPool"
            ],
            [
             1.5,
             "UberPool"
            ],
            [
             1.5,
             "UberPool"
            ],
            [
             1.5,
             "UberPool"
            ],
            [
             1.5,
             "UberPool"
            ],
            [
             1.5,
             "UberPool"
            ],
            [
             1.5,
             "UberPool"
            ],
            [
             1.5,
             "UberPool"
            ],
            [
             1.5,
             "UberPool"
            ],
            [
             1.5,
             "UberPool"
            ],
            [
             1.5,
             "UberPool"
            ],
            [
             1.5,
             "UberPool"
            ],
            [
             1.5,
             "UberPool"
            ],
            [
             1.5,
             "UberPool"
            ],
            [
             1.5,
             "UberPool"
            ],
            [
             1.5,
             "UberPool"
            ],
            [
             1.5,
             "UberPool"
            ],
            [
             1.5,
             "UberPool"
            ],
            [
             1.5,
             "UberPool"
            ],
            [
             1.5,
             "UberPool"
            ],
            [
             1.5,
             "UberPool"
            ],
            [
             1.5,
             "UberPool"
            ],
            [
             1.5,
             "UberPool"
            ],
            [
             1.5,
             "UberPool"
            ],
            [
             1.5,
             "UberPool"
            ],
            [
             1.5,
             "UberPool"
            ],
            [
             1.5,
             "UberPool"
            ],
            [
             1.5,
             "UberPool"
            ],
            [
             1.5,
             "UberPool"
            ],
            [
             1.5,
             "UberPool"
            ],
            [
             1.5,
             "UberPool"
            ],
            [
             1.5,
             "UberPool"
            ],
            [
             1.5,
             "UberPool"
            ],
            [
             1.5,
             "UberPool"
            ],
            [
             1.5,
             "UberPool"
            ],
            [
             1.5,
             "UberPool"
            ],
            [
             1.5,
             "UberPool"
            ],
            [
             1.5,
             "UberPool"
            ],
            [
             1.5,
             "UberPool"
            ],
            [
             1.5,
             "UberPool"
            ],
            [
             1.5,
             "UberPool"
            ],
            [
             1.5,
             "UberPool"
            ],
            [
             1.5,
             "UberPool"
            ],
            [
             1.5,
             "UberPool"
            ],
            [
             1.5,
             "UberPool"
            ],
            [
             1.5,
             "UberPool"
            ],
            [
             1.5,
             "UberPool"
            ],
            [
             1.5,
             "UberPool"
            ],
            [
             1.5,
             "UberPool"
            ],
            [
             1.5,
             "UberPool"
            ],
            [
             1.5,
             "UberPool"
            ],
            [
             1.5,
             "UberPool"
            ],
            [
             1.5,
             "UberPool"
            ],
            [
             1.5,
             "UberPool"
            ],
            [
             1.5,
             "UberPool"
            ],
            [
             1.5,
             "UberPool"
            ],
            [
             1.5,
             "UberPool"
            ],
            [
             1.5,
             "UberPool"
            ],
            [
             1.5,
             "UberPool"
            ],
            [
             1.5,
             "UberPool"
            ],
            [
             1.5,
             "UberPool"
            ],
            [
             1.5,
             "UberPool"
            ],
            [
             1.5,
             "UberPool"
            ],
            [
             1.5,
             "UberPool"
            ],
            [
             1.5,
             "UberPool"
            ],
            [
             1.5,
             "UberPool"
            ],
            [
             1.5,
             "UberPool"
            ],
            [
             1.5,
             "UberPool"
            ],
            [
             1.5,
             "UberPool"
            ],
            [
             1.5,
             "UberPool"
            ],
            [
             1.5,
             "UberPool"
            ],
            [
             1.5,
             "UberPool"
            ],
            [
             1.5,
             "UberPool"
            ],
            [
             1.5,
             "UberPool"
            ],
            [
             1.5,
             "UberPool"
            ],
            [
             1.5,
             "UberPool"
            ],
            [
             1.5,
             "UberPool"
            ],
            [
             1.5,
             "UberPool"
            ],
            [
             1.5,
             "UberPool"
            ],
            [
             1.5,
             "UberPool"
            ],
            [
             1.5,
             "UberPool"
            ],
            [
             1.5,
             "UberPool"
            ],
            [
             1.5,
             "UberPool"
            ],
            [
             1.5,
             "UberPool"
            ],
            [
             1.5,
             "UberPool"
            ],
            [
             1.5,
             "UberPool"
            ],
            [
             1.5,
             "UberPool"
            ],
            [
             1.5,
             "UberPool"
            ],
            [
             1.5,
             "UberPool"
            ],
            [
             1.5,
             "UberPool"
            ],
            [
             1.5,
             "UberPool"
            ],
            [
             1.5,
             "UberPool"
            ],
            [
             1.5,
             "UberPool"
            ],
            [
             1.5,
             "UberPool"
            ],
            [
             1.5,
             "UberPool"
            ],
            [
             1.5,
             "UberPool"
            ],
            [
             1.5,
             "UberPool"
            ],
            [
             1.5,
             "UberPool"
            ],
            [
             1.5,
             "UberPool"
            ],
            [
             1.5,
             "UberPool"
            ],
            [
             1.5,
             "UberPool"
            ],
            [
             1.5,
             "UberPool"
            ],
            [
             1.5,
             "UberPool"
            ],
            [
             1.5,
             "UberPool"
            ],
            [
             1.5,
             "UberPool"
            ],
            [
             1.5,
             "UberPool"
            ],
            [
             1.5,
             "UberPool"
            ],
            [
             1.5,
             "UberPool"
            ],
            [
             1.5,
             "UberPool"
            ],
            [
             1.5,
             "UberPool"
            ],
            [
             1.5,
             "UberPool"
            ],
            [
             1.5,
             "UberPool"
            ],
            [
             1.5,
             "UberPool"
            ],
            [
             1.5,
             "UberPool"
            ],
            [
             1.5,
             "UberPool"
            ],
            [
             1.5,
             "UberPool"
            ],
            [
             1.5,
             "UberPool"
            ],
            [
             1.5,
             "UberPool"
            ],
            [
             1.5,
             "UberPool"
            ],
            [
             1.5,
             "UberPool"
            ],
            [
             1.5,
             "UberPool"
            ],
            [
             1.5,
             "UberPool"
            ],
            [
             1.5,
             "UberPool"
            ],
            [
             1.5,
             "UberPool"
            ],
            [
             1.5,
             "UberPool"
            ],
            [
             1.5,
             "UberPool"
            ],
            [
             1.5,
             "UberPool"
            ],
            [
             1.5,
             "UberPool"
            ],
            [
             1.5,
             "UberPool"
            ],
            [
             1.5,
             "UberPool"
            ],
            [
             1.5,
             "UberPool"
            ],
            [
             1.5,
             "UberPool"
            ],
            [
             1.5,
             "UberPool"
            ],
            [
             1.5,
             "UberPool"
            ],
            [
             1.5,
             "UberPool"
            ],
            [
             1.5,
             "UberPool"
            ],
            [
             1.5,
             "UberPool"
            ],
            [
             1.5,
             "UberPool"
            ],
            [
             1.5,
             "UberPool"
            ],
            [
             1.5,
             "UberPool"
            ],
            [
             1.5,
             "UberPool"
            ],
            [
             1.5,
             "UberPool"
            ],
            [
             1.5,
             "UberPool"
            ],
            [
             1.5,
             "UberPool"
            ],
            [
             1.5,
             "UberPool"
            ],
            [
             1.5,
             "UberPool"
            ],
            [
             1.5,
             "UberPool"
            ],
            [
             1.5,
             "UberPool"
            ],
            [
             1.5,
             "UberPool"
            ],
            [
             1.5,
             "UberPool"
            ],
            [
             1.5,
             "UberPool"
            ],
            [
             1.5,
             "UberPool"
            ],
            [
             1.5,
             "UberPool"
            ],
            [
             1.5,
             "UberPool"
            ],
            [
             1.5,
             "UberPool"
            ],
            [
             1.5,
             "UberPool"
            ],
            [
             1.5,
             "UberPool"
            ],
            [
             1.5,
             "UberPool"
            ],
            [
             1.5,
             "UberPool"
            ],
            [
             1.5,
             "UberPool"
            ],
            [
             1.5,
             "UberPool"
            ],
            [
             1.5,
             "UberPool"
            ],
            [
             1.5,
             "UberPool"
            ],
            [
             1.5,
             "UberPool"
            ],
            [
             1.5,
             "UberPool"
            ],
            [
             1.5,
             "UberPool"
            ],
            [
             1.5,
             "UberPool"
            ],
            [
             1.5,
             "UberPool"
            ],
            [
             1.5,
             "UberPool"
            ],
            [
             1.5,
             "UberPool"
            ],
            [
             1.5,
             "UberPool"
            ],
            [
             1.5,
             "UberPool"
            ],
            [
             1.5,
             "UberPool"
            ],
            [
             1.5,
             "UberPool"
            ],
            [
             1.5,
             "UberPool"
            ],
            [
             1.5,
             "UberPool"
            ],
            [
             1.5,
             "UberPool"
            ],
            [
             1.5,
             "UberPool"
            ],
            [
             1.5,
             "UberPool"
            ],
            [
             1.5,
             "UberPool"
            ],
            [
             1.5,
             "UberPool"
            ],
            [
             1.5,
             "UberPool"
            ],
            [
             1.5,
             "UberPool"
            ],
            [
             1.5,
             "UberPool"
            ],
            [
             1.5,
             "UberPool"
            ],
            [
             1.5,
             "UberPool"
            ],
            [
             1.5,
             "UberPool"
            ],
            [
             1.5,
             "UberPool"
            ],
            [
             1.5,
             "UberPool"
            ],
            [
             1.5,
             "UberPool"
            ],
            [
             1.5,
             "UberPool"
            ],
            [
             1.5,
             "UberPool"
            ],
            [
             1.5,
             "UberPool"
            ],
            [
             1.5,
             "UberPool"
            ],
            [
             1.5,
             "UberPool"
            ],
            [
             1.5,
             "UberPool"
            ],
            [
             1.5,
             "UberPool"
            ],
            [
             1.5,
             "UberPool"
            ],
            [
             1.5,
             "UberPool"
            ],
            [
             1.5,
             "UberPool"
            ],
            [
             1.5,
             "UberPool"
            ],
            [
             1.5,
             "UberPool"
            ],
            [
             1.5,
             "UberPool"
            ],
            [
             1.5,
             "UberPool"
            ],
            [
             1.5,
             "UberPool"
            ],
            [
             1.5,
             "UberPool"
            ],
            [
             1.5,
             "UberPool"
            ],
            [
             1.5,
             "UberPool"
            ],
            [
             1.5,
             "UberPool"
            ],
            [
             1.5,
             "UberPool"
            ],
            [
             1.5,
             "UberPool"
            ],
            [
             1.5,
             "UberPool"
            ],
            [
             1.5,
             "UberPool"
            ],
            [
             1.5,
             "UberPool"
            ],
            [
             1.5,
             "UberPool"
            ],
            [
             1.5,
             "UberPool"
            ],
            [
             1.5,
             "UberPool"
            ],
            [
             1.5,
             "UberPool"
            ],
            [
             1.5,
             "UberPool"
            ],
            [
             1.5,
             "UberPool"
            ],
            [
             1.5,
             "UberPool"
            ],
            [
             1.5,
             "UberPool"
            ],
            [
             1.5,
             "UberPool"
            ],
            [
             1.5,
             "UberPool"
            ],
            [
             1.5,
             "UberPool"
            ],
            [
             1.5,
             "UberPool"
            ],
            [
             1.5,
             "UberPool"
            ],
            [
             1.5,
             "UberPool"
            ],
            [
             1.5,
             "UberPool"
            ],
            [
             1.5,
             "UberPool"
            ],
            [
             1.5,
             "UberPool"
            ],
            [
             1.5,
             "UberPool"
            ],
            [
             1.5,
             "UberPool"
            ],
            [
             1.5,
             "UberPool"
            ],
            [
             1.5,
             "UberPool"
            ],
            [
             1.5,
             "UberPool"
            ],
            [
             1.5,
             "UberPool"
            ],
            [
             1.5,
             "UberPool"
            ],
            [
             1.5,
             "UberPool"
            ],
            [
             1.5,
             "UberPool"
            ],
            [
             1.5,
             "UberPool"
            ],
            [
             1.5,
             "UberPool"
            ],
            [
             1.5,
             "UberPool"
            ],
            [
             1.5,
             "UberPool"
            ],
            [
             1.5,
             "UberPool"
            ],
            [
             1.5,
             "UberPool"
            ],
            [
             1.5,
             "UberPool"
            ],
            [
             1.5,
             "UberPool"
            ],
            [
             1.5,
             "UberPool"
            ],
            [
             1.5,
             "UberPool"
            ],
            [
             1.5,
             "UberPool"
            ],
            [
             1.5,
             "UberPool"
            ],
            [
             1.5,
             "UberPool"
            ],
            [
             1.5,
             "UberPool"
            ],
            [
             1.5,
             "UberPool"
            ],
            [
             1.5,
             "UberPool"
            ],
            [
             1.5,
             "UberPool"
            ],
            [
             1.5,
             "UberPool"
            ],
            [
             1.5,
             "UberPool"
            ],
            [
             1.5,
             "UberPool"
            ],
            [
             1.5,
             "UberPool"
            ],
            [
             1.5,
             "UberPool"
            ],
            [
             1.5,
             "UberPool"
            ],
            [
             1.5,
             "UberPool"
            ],
            [
             1.5,
             "UberPool"
            ],
            [
             1.5,
             "UberPool"
            ],
            [
             1.5,
             "UberPool"
            ],
            [
             1.5,
             "UberPool"
            ],
            [
             1.5,
             "UberPool"
            ],
            [
             1.5,
             "UberPool"
            ],
            [
             1.5,
             "UberPool"
            ],
            [
             1.5,
             "UberPool"
            ],
            [
             1.5,
             "UberPool"
            ],
            [
             1.5,
             "UberPool"
            ],
            [
             1.5,
             "UberPool"
            ],
            [
             1.5,
             "UberPool"
            ],
            [
             1.5,
             "UberPool"
            ],
            [
             1.5,
             "UberPool"
            ],
            [
             1.5,
             "UberPool"
            ],
            [
             1.5,
             "UberPool"
            ],
            [
             1.5,
             "UberPool"
            ],
            [
             1.5,
             "UberPool"
            ],
            [
             1.5,
             "UberPool"
            ],
            [
             1.5,
             "UberPool"
            ],
            [
             1.5,
             "UberPool"
            ],
            [
             1.5,
             "UberPool"
            ],
            [
             1.5,
             "UberPool"
            ],
            [
             1.5,
             "UberPool"
            ],
            [
             1.5,
             "UberPool"
            ],
            [
             1.5,
             "UberPool"
            ],
            [
             1.5,
             "UberPool"
            ],
            [
             1.5,
             "UberPool"
            ],
            [
             1.5,
             "UberPool"
            ],
            [
             1.5,
             "UberPool"
            ],
            [
             1.5,
             "UberPool"
            ],
            [
             1.5,
             "UberPool"
            ],
            [
             1.5,
             "UberPool"
            ],
            [
             1.5,
             "UberPool"
            ],
            [
             1.5,
             "UberPool"
            ],
            [
             1.5,
             "UberPool"
            ],
            [
             1.5,
             "UberPool"
            ],
            [
             1.5,
             "UberPool"
            ],
            [
             1.5,
             "UberPool"
            ],
            [
             1.5,
             "UberPool"
            ],
            [
             1.5,
             "UberPool"
            ],
            [
             1.5,
             "UberPool"
            ],
            [
             1.5,
             "UberPool"
            ],
            [
             1.5,
             "UberPool"
            ],
            [
             1.5,
             "UberPool"
            ],
            [
             1.5,
             "UberPool"
            ],
            [
             1.5,
             "UberPool"
            ],
            [
             1.5,
             "UberPool"
            ]
           ],
           "hovertemplate": "cab_type=Uber<br>distance=%{customdata[0]}<br>source_rain=%{x}<br>price=%{y}<br>name=%{customdata[1]}<extra></extra>",
           "legendgroup": "Uber",
           "marker": {
            "color": "#000000",
            "symbol": "circle"
           },
           "mode": "markers",
           "name": "Uber",
           "orientation": "v",
           "showlegend": true,
           "type": "scatter",
           "x": [
            0.00020833333333333332,
            0.00020833333333333332,
            0.00020833333333333332,
            0.00020833333333333332,
            0.00020833333333333332,
            0.00020833333333333332,
            0.00020833333333333332,
            0.00020833333333333332,
            0.00020833333333333332,
            0.00020833333333333332,
            0.00020833333333333332,
            0.00020833333333333332,
            0.00020833333333333332,
            0.00020833333333333332,
            0.00020833333333333332,
            0.04358915662650602,
            0.00020833333333333332,
            0.00020833333333333332,
            0.0007083333333333332,
            0.0007083333333333332,
            0.0007083333333333332,
            0.00020833333333333332,
            0.00020833333333333332,
            0.00020833333333333332,
            0.0007083333333333332,
            0.0007083333333333332,
            0.0007083333333333332,
            0.00020833333333333332,
            0.00020833333333333332,
            0.00020833333333333332,
            0.008,
            0.00020833333333333332,
            0.0007083333333333332,
            0.0007083333333333332,
            0.00020833333333333332,
            0.00020833333333333332,
            0.00020833333333333332,
            0.00020833333333333332,
            0.00020833333333333332,
            0.00020833333333333332,
            0.00020833333333333332,
            0.00020833333333333332,
            0.00020833333333333332,
            0.00020833333333333332,
            0.00020833333333333332,
            0.00020833333333333332,
            0.00020833333333333332,
            0.00020833333333333332,
            0.00020833333333333332,
            0.00020833333333333332,
            0.00020833333333333332,
            0.00020833333333333332,
            0.00010176991150442478,
            0.008191666666666667,
            0.008191666666666667,
            0.008191666666666667,
            0.008191666666666667,
            0.008191666666666667,
            0.008191666666666667,
            0.008191666666666667,
            0.008191666666666667,
            0.008191666666666667,
            0.008191666666666667,
            0.008191666666666667,
            0.008191666666666667,
            0.008191666666666667,
            0.008191666666666667,
            0.008191666666666667,
            0.008191666666666667,
            0.008191666666666667,
            0.008191666666666667,
            0.008191666666666667,
            0.008191666666666667,
            0.008191666666666667,
            0.008191666666666667,
            0.008191666666666667,
            0.008191666666666667,
            0.008191666666666667,
            0.0003833333333333333,
            0.0003833333333333333,
            0.0003833333333333333,
            0.0003833333333333333,
            0.0003833333333333333,
            0.0003833333333333333,
            0.0003833333333333333,
            0.008191666666666667,
            0.008191666666666667,
            0.008191666666666667,
            0.008191666666666667,
            0.008191666666666667,
            0.008191666666666667,
            0.008191666666666667,
            0.0005785714285714285,
            0.0005785714285714285,
            0.0005785714285714285,
            0.0005785714285714285,
            0.0005785714285714285,
            0.0005785714285714285,
            0.0005785714285714285,
            0.0005785714285714285,
            0.0005785714285714285,
            0.0005785714285714285,
            0.0005785714285714285,
            0.0005785714285714285,
            0.0005785714285714285,
            0.0005785714285714285,
            0.0005785714285714285,
            0.0005785714285714285,
            0.0005785714285714285,
            0.0005785714285714285,
            0.0005785714285714285,
            0.0005785714285714285,
            0.0005785714285714285,
            0.0005785714285714285,
            0.0005785714285714285,
            0.008191666666666667,
            0.008191666666666667,
            0.008191666666666667,
            0.008370833333333333,
            0.008370833333333333,
            0.008370833333333333,
            0.008370833333333333,
            0.008370833333333333,
            0.008370833333333333,
            0.008370833333333333,
            0.008370833333333333,
            0.008370833333333333,
            8.333333333333333e-05,
            8.333333333333333e-05,
            8.333333333333333e-05,
            8.333333333333333e-05,
            8.333333333333333e-05,
            8.333333333333333e-05,
            8.333333333333333e-05,
            0.00195,
            0.00195,
            0.0005785714285714285,
            0.0002875,
            0.00010176991150442478,
            6.283185840707964e-05,
            0.00010357142857142856,
            0.00010357142857142856,
            0.00010357142857142856,
            0.00010357142857142856,
            0.00010357142857142856,
            0.00010357142857142856,
            0.00010357142857142856,
            0.006778048780487806,
            7.142857142857143e-05,
            0.00010357142857142856,
            0.014566666666666669,
            0.0002875,
            0.0002875,
            0.0002875,
            0.0002875,
            0.0002875,
            0.0002875,
            0.0002875,
            0.0002875,
            0.0002875,
            0.0002875,
            0.0002875,
            0.0002875,
            0.0002875,
            0.0002875,
            0.0002875,
            0.0002875,
            0.0002875,
            0.0002875,
            0.0002875,
            0.0002875,
            0.0002875,
            0.0002875,
            0.0002875,
            0.0002875,
            0.0002875,
            0.0002875,
            0.0002875,
            0.0002875,
            0.0002875,
            0.0002875,
            0.0002875,
            0.0002875,
            0.0002875,
            0.0002875,
            0.0002875,
            0.0002875,
            0.0002875,
            6.283185840707964e-05,
            0.00020833333333333332,
            6.283185840707964e-05,
            0.00493170731707317,
            0.00493170731707317,
            0.00493170731707317,
            0.00493170731707317,
            0.00493170731707317,
            0.00493170731707317,
            0.00493170731707317,
            0.00493170731707317,
            0.00493170731707317,
            0.00493170731707317,
            0.00493170731707317,
            0.00493170731707317,
            0.00493170731707317,
            0.00493170731707317,
            0.00493170731707317,
            0.00493170731707317,
            0.00493170731707317,
            0.00493170731707317,
            0.00493170731707317,
            0.00493170731707317,
            0.00493170731707317,
            0.00493170731707317,
            0.00493170731707317,
            0.00493170731707317,
            0.00493170731707317,
            0.00493170731707317,
            0.00493170731707317,
            0.00493170731707317,
            0.00493170731707317,
            6.283185840707964e-05,
            0.00493170731707317,
            0.00493170731707317,
            0.00493170731707317,
            0.00493170731707317,
            0.00493170731707317,
            0.0052463414634146355,
            0.0052463414634146355,
            0.0052463414634146355,
            0.0052463414634146355,
            0.0052463414634146355,
            0.0052463414634146355,
            0.0052463414634146355,
            0.0052463414634146355,
            0.0052463414634146355,
            0.0052463414634146355,
            0.00493170731707317,
            0.00493170731707317,
            0.00493170731707317,
            0.00493170731707317,
            0.00493170731707317,
            0.00493170731707317,
            0.00493170731707317,
            0.00493170731707317,
            0.00493170731707317,
            0.00493170731707317,
            0.00493170731707317,
            0.00493170731707317,
            0.00493170731707317,
            0.00493170731707317,
            0.00493170731707317,
            0.00493170731707317,
            0.00493170731707317,
            0.00493170731707317,
            0.00493170731707317,
            0.00493170731707317,
            9.090909090909092e-05,
            9.090909090909092e-05,
            9.090909090909092e-05,
            9.090909090909092e-05,
            9.090909090909092e-05,
            9.090909090909092e-05,
            9.090909090909092e-05,
            9.090909090909092e-05,
            9.090909090909092e-05,
            9.090909090909092e-05,
            9.090909090909092e-05,
            9.090909090909092e-05,
            9.090909090909092e-05,
            9.090909090909092e-05,
            9.090909090909092e-05,
            9.090909090909092e-05,
            9.090909090909092e-05,
            6.106194690265487e-05,
            6.106194690265487e-05,
            6.106194690265487e-05,
            6.106194690265487e-05,
            6.106194690265487e-05,
            6.106194690265487e-05,
            9.090909090909092e-05,
            6.106194690265487e-05,
            9.090909090909092e-05,
            9.090909090909092e-05,
            9.090909090909092e-05,
            9.090909090909092e-05,
            9.090909090909092e-05,
            6.106194690265487e-05,
            9.090909090909092e-05,
            9.090909090909092e-05,
            9.090909090909092e-05,
            9.090909090909092e-05,
            9.090909090909092e-05,
            9.090909090909092e-05,
            9.090909090909092e-05,
            9.090909090909092e-05,
            0.00493170731707317,
            9.090909090909092e-05,
            9.090909090909092e-05,
            9.090909090909092e-05,
            9.090909090909092e-05,
            9.090909090909092e-05,
            9.090909090909092e-05,
            9.090909090909092e-05,
            9.090909090909092e-05,
            9.090909090909092e-05,
            9.090909090909092e-05,
            9.090909090909092e-05,
            9.090909090909092e-05,
            9.090909090909092e-05,
            9.090909090909092e-05,
            9.090909090909092e-05,
            6.106194690265487e-05,
            0.0132125,
            0.0132125,
            0.0132125,
            0.0132125,
            0.0132125,
            0.0132125,
            0.0132125,
            0.0132125,
            0.0132125,
            0.0132125,
            0.0132125,
            0.0132125,
            0.0132125,
            0.0132125,
            0.0132125,
            0.0132125,
            0.0132125,
            0.0132125,
            0.0132125,
            0.0132125,
            0.0132125,
            0.0132125,
            0.0132125,
            0.0132125,
            0.0132125,
            0.0132125,
            0.0132125,
            0.0132125,
            0.0132125,
            0.0132125,
            0.012837500000000002,
            0.012837500000000002,
            0.012837500000000002,
            0.012837500000000002,
            0.012837500000000002,
            0.012837500000000002,
            0.012837500000000002,
            0.012837500000000002,
            0.0132125,
            0.0132125,
            0.0132125,
            0.0132125,
            0.0132125,
            0.0132125,
            0.0132125,
            0.0132125,
            0.0132125,
            0.0132125,
            0.0132125,
            0.0132125,
            0.0132125,
            0.0132125,
            0.0132125,
            0.0132125,
            0.0132125,
            0.014329166666666669,
            0.03728192771084338,
            0.03728192771084338,
            0.03728192771084338,
            0.03728192771084338,
            0.03728192771084338,
            0.03728192771084338,
            0.03728192771084338,
            0.03728192771084338,
            0.03728192771084338,
            0.03728192771084338,
            0.03728192771084338,
            0.03728192771084338,
            0.03728192771084338,
            0.03728192771084338,
            0.03728192771084338,
            0.03728192771084338,
            0.03728192771084338,
            0.03728192771084338,
            0.03728192771084338,
            0.03728192771084338,
            0.03728192771084338,
            0.03728192771084338,
            0.03728192771084338,
            0.03728192771084338,
            0.03728192771084338,
            0.03728192771084338,
            0.03728192771084338,
            0.03728192771084338,
            0.04285301204819278,
            0.04285301204819278,
            0.04285301204819278,
            0.04285301204819278,
            0.04285301204819278,
            0.04285301204819278,
            0.03728192771084338,
            0.03728192771084338,
            0.03728192771084338,
            0.03728192771084338,
            0.03728192771084338,
            0.03728192771084338,
            0.03728192771084338,
            0.03728192771084338,
            0.03728192771084338,
            0.03728192771084338,
            0.03728192771084338,
            0.03728192771084338,
            0.03728192771084338,
            0.03728192771084338,
            0.03728192771084338,
            6.106194690265487e-05,
            0.00493170731707317,
            6.106194690265487e-05,
            6.283185840707964e-05,
            6.283185840707964e-05,
            6.283185840707964e-05,
            6.283185840707964e-05,
            6.283185840707964e-05,
            6.106194690265487e-05,
            6.283185840707964e-05,
            6.283185840707964e-05,
            6.283185840707964e-05,
            6.283185840707964e-05,
            6.283185840707964e-05,
            6.283185840707964e-05,
            6.283185840707964e-05,
            6.283185840707964e-05,
            6.283185840707964e-05,
            6.283185840707964e-05,
            6.283185840707964e-05,
            6.283185840707964e-05,
            6.283185840707964e-05,
            6.283185840707964e-05,
            6.283185840707964e-05,
            6.283185840707964e-05,
            6.283185840707964e-05,
            6.283185840707964e-05,
            6.283185840707964e-05,
            6.283185840707964e-05,
            6.283185840707964e-05,
            6.283185840707964e-05,
            6.283185840707964e-05,
            6.283185840707964e-05,
            6.283185840707964e-05,
            6.283185840707964e-05,
            6.283185840707964e-05,
            6.283185840707964e-05,
            6.283185840707964e-05,
            6.283185840707964e-05,
            6.283185840707964e-05,
            6.283185840707964e-05,
            6.283185840707964e-05,
            6.283185840707964e-05,
            6.283185840707964e-05,
            6.283185840707964e-05,
            6.283185840707964e-05,
            6.283185840707964e-05,
            6.283185840707964e-05,
            6.283185840707964e-05,
            6.283185840707964e-05,
            6.283185840707964e-05,
            6.283185840707964e-05,
            6.283185840707964e-05,
            6.283185840707964e-05,
            6.283185840707964e-05,
            6.283185840707964e-05,
            6.283185840707964e-05,
            6.283185840707964e-05,
            6.283185840707964e-05,
            6.283185840707964e-05,
            6.283185840707964e-05,
            6.283185840707964e-05,
            6.283185840707964e-05,
            6.283185840707964e-05,
            6.283185840707964e-05,
            6.283185840707964e-05,
            6.106194690265487e-05,
            6.283185840707964e-05,
            6.283185840707964e-05,
            6.283185840707964e-05,
            6.106194690265487e-05,
            6.283185840707964e-05,
            6.283185840707964e-05,
            6.283185840707964e-05,
            6.283185840707964e-05,
            6.106194690265487e-05,
            6.283185840707964e-05,
            6.106194690265487e-05,
            6.106194690265487e-05,
            6.283185840707964e-05,
            6.283185840707964e-05,
            6.283185840707964e-05,
            6.106194690265487e-05,
            6.106194690265487e-05,
            6.106194690265487e-05,
            6.283185840707964e-05,
            6.283185840707964e-05,
            6.283185840707964e-05,
            6.283185840707964e-05,
            6.283185840707964e-05,
            6.283185840707964e-05,
            6.283185840707964e-05,
            6.283185840707964e-05,
            6.283185840707964e-05,
            6.283185840707964e-05,
            6.283185840707964e-05,
            6.283185840707964e-05,
            6.283185840707964e-05,
            6.283185840707964e-05,
            6.283185840707964e-05,
            6.283185840707964e-05,
            6.283185840707964e-05,
            6.283185840707964e-05,
            6.283185840707964e-05,
            6.283185840707964e-05,
            6.283185840707964e-05
           ],
           "xaxis": "x",
           "y": [
            7.5,
            6.5,
            6.5,
            9,
            8,
            7,
            7,
            6.5,
            7,
            6.5,
            8,
            7.5,
            6.5,
            8,
            7.5,
            7,
            7,
            6.5,
            10,
            8,
            7.5,
            6.5,
            6.5,
            5.5,
            9.5,
            7.5,
            7.5,
            8,
            7,
            7.5,
            8,
            7.5,
            10,
            8,
            7.5,
            6.5,
            8,
            9,
            6.5,
            8,
            7.5,
            7.5,
            8,
            7,
            7,
            7,
            7.5,
            6.5,
            6.5,
            8.5,
            9,
            6.5,
            10,
            7.5,
            7,
            7.5,
            7,
            8,
            7,
            6.5,
            7.5,
            7.5,
            6.5,
            7.5,
            6.5,
            7.5,
            6.5,
            6.5,
            11,
            6.5,
            7,
            6.5,
            7.5,
            6.5,
            6.5,
            7,
            8,
            8,
            6.5,
            8,
            8.5,
            7.5,
            6.5,
            8,
            6.5,
            6.5,
            6.5,
            8,
            6.5,
            6.5,
            6.5,
            6.5,
            7.5,
            8,
            7.5,
            7.5,
            11,
            7,
            7,
            7,
            7.5,
            6.5,
            8,
            7,
            7.5,
            5.5,
            7,
            6.5,
            11.5,
            7.5,
            7.5,
            6.5,
            7.5,
            6.5,
            8,
            6.5,
            6.5,
            6.5,
            7.5,
            9,
            9,
            8,
            8,
            9,
            6.5,
            6.5,
            6.5,
            8,
            8.5,
            8.5,
            7.5,
            8,
            8,
            7.5,
            8,
            8,
            7,
            6.5,
            8.5,
            7.5,
            7,
            9,
            8,
            10,
            8.5,
            8.5,
            10,
            9.5,
            10,
            7.5,
            10,
            7,
            7,
            6.5,
            6.5,
            7,
            6.5,
            6.5,
            7,
            6.5,
            7,
            8,
            7.5,
            6.5,
            7.5,
            7,
            12.5,
            7,
            5.5,
            7.5,
            6.5,
            5.5,
            6.5,
            7,
            6.5,
            6.5,
            7.5,
            7.5,
            6.5,
            6.5,
            7.5,
            7,
            7,
            7,
            6.5,
            6,
            7.5,
            6.5,
            8.5,
            5.5,
            8,
            6.5,
            7.5,
            6.5,
            8.5,
            6.5,
            7,
            6.5,
            7.5,
            7,
            7,
            8,
            7.5,
            8.5,
            7,
            8,
            6.5,
            7.5,
            7.5,
            6.5,
            6.5,
            7,
            7.5,
            7,
            6.5,
            7.5,
            6.5,
            7.5,
            7.5,
            7,
            7.5,
            7,
            6.5,
            7.5,
            6.5,
            7,
            8.5,
            8.5,
            7.5,
            7.5,
            8.5,
            9,
            7.5,
            6.5,
            7.5,
            7.5,
            9,
            6.5,
            7,
            8,
            7.5,
            6.5,
            7.5,
            7.5,
            6.5,
            8,
            7,
            7.5,
            9.5,
            6.5,
            8,
            8.5,
            7,
            7.5,
            6.5,
            9,
            6.5,
            5.5,
            8,
            7,
            7,
            7,
            7.5,
            7.5,
            7.5,
            7.5,
            7.5,
            7.5,
            7.5,
            6.5,
            7,
            6.5,
            6.5,
            8,
            8.5,
            8,
            8.5,
            6.5,
            7.5,
            7,
            8,
            7.5,
            7,
            6.5,
            6.5,
            7.5,
            7.5,
            7.5,
            7,
            7,
            6.5,
            7.5,
            6.5,
            8,
            6.5,
            6.5,
            6.5,
            5.5,
            7.5,
            7.5,
            7.5,
            7,
            6.5,
            6.5,
            6.5,
            7.5,
            8,
            7.5,
            6.5,
            7.5,
            10,
            8.5,
            6.5,
            7,
            6.5,
            10,
            6.5,
            6.5,
            7.5,
            7,
            5.5,
            6.5,
            6.5,
            7.5,
            7.5,
            7.5,
            6.5,
            7.5,
            6.5,
            6.5,
            6.5,
            6.5,
            6.5,
            7,
            7,
            5.5,
            8,
            6.5,
            7,
            7.5,
            7,
            7,
            8.5,
            6,
            9,
            6.5,
            7,
            7,
            8,
            7.5,
            6.5,
            6.5,
            7.5,
            6.5,
            8.5,
            8,
            6.5,
            6.5,
            7.5,
            7.5,
            9,
            7,
            7,
            6.5,
            8.5,
            6.5,
            7,
            11.5,
            6.5,
            7.5,
            6.5,
            5.5,
            8,
            6.5,
            6.5,
            7.5,
            6.5,
            7.5,
            12,
            7.5,
            6.5,
            8,
            7.5,
            8.5,
            7.5,
            7,
            6.5,
            7.5,
            8.5,
            7.5,
            6.5,
            7.5,
            5.5,
            7.5,
            5.5,
            7,
            7.5,
            10,
            8,
            8.5,
            8.5,
            9.5,
            6.5,
            7.5,
            7,
            7,
            8.5,
            7.5,
            6.5,
            6.5,
            8,
            8,
            6.5,
            7,
            7,
            5.5,
            6.5,
            7.5,
            7.5,
            7.5,
            7,
            8,
            8.5,
            6.5,
            10,
            10,
            6.5,
            7.5,
            7,
            7,
            7,
            6.5,
            7,
            6.5,
            8,
            7.5,
            7,
            6.5,
            7,
            7.5,
            6.5,
            7,
            7.5,
            8.5,
            6.5,
            7.5,
            8,
            6,
            6.5,
            7.5,
            7.5,
            5.5,
            6.5,
            6.5,
            9,
            6.5,
            11,
            7.5,
            8,
            6.5,
            6.5,
            7.5,
            7,
            11,
            7.5,
            7,
            6.5,
            5.5,
            7.5,
            7,
            7.5,
            8,
            6.5,
            6.5,
            8,
            6.5,
            7,
            7,
            7.5,
            6.5,
            7.5,
            7.5,
            7.5,
            12,
            7.5,
            7,
            5.5,
            9,
            7.5,
            8,
            6.5,
            7,
            8.5,
            7.5,
            7.5,
            7.5,
            6.5,
            8,
            7.5,
            8.5,
            8.5,
            8,
            7,
            6.5,
            7,
            7.5,
            7,
            8,
            7.5,
            8,
            7,
            7.5,
            7.5,
            6.5,
            6.5,
            8.5,
            7,
            8,
            7.5,
            7,
            7,
            8,
            7
           ],
           "yaxis": "y"
          },
          {
           "customdata": [
            [
             1.5,
             "Shared"
            ],
            [
             1.5,
             "Shared"
            ],
            [
             1.5,
             "Shared"
            ],
            [
             1.5,
             "Shared"
            ],
            [
             1.5,
             "Shared"
            ],
            [
             1.5,
             "Shared"
            ],
            [
             1.5,
             "Shared"
            ],
            [
             1.5,
             "Shared"
            ],
            [
             1.5,
             "Shared"
            ],
            [
             1.5,
             "Shared"
            ],
            [
             1.5,
             "Shared"
            ],
            [
             1.5,
             "Shared"
            ],
            [
             1.5,
             "Shared"
            ],
            [
             1.5,
             "Shared"
            ],
            [
             1.5,
             "Shared"
            ],
            [
             1.5,
             "Shared"
            ],
            [
             1.5,
             "Shared"
            ],
            [
             1.5,
             "Shared"
            ],
            [
             1.5,
             "Shared"
            ],
            [
             1.5,
             "Shared"
            ],
            [
             1.5,
             "Shared"
            ],
            [
             1.5,
             "Shared"
            ],
            [
             1.5,
             "Shared"
            ],
            [
             1.5,
             "Shared"
            ],
            [
             1.5,
             "Shared"
            ],
            [
             1.5,
             "Shared"
            ],
            [
             1.5,
             "Shared"
            ],
            [
             1.5,
             "Shared"
            ],
            [
             1.5,
             "Shared"
            ],
            [
             1.5,
             "Shared"
            ],
            [
             1.5,
             "Shared"
            ],
            [
             1.5,
             "Shared"
            ],
            [
             1.5,
             "Shared"
            ],
            [
             1.5,
             "Shared"
            ],
            [
             1.5,
             "Shared"
            ],
            [
             1.5,
             "Shared"
            ],
            [
             1.5,
             "Shared"
            ],
            [
             1.5,
             "Shared"
            ],
            [
             1.5,
             "Shared"
            ],
            [
             1.5,
             "Shared"
            ],
            [
             1.5,
             "Shared"
            ],
            [
             1.5,
             "Shared"
            ],
            [
             1.5,
             "Shared"
            ],
            [
             1.5,
             "Shared"
            ],
            [
             1.5,
             "Shared"
            ],
            [
             1.5,
             "Shared"
            ],
            [
             1.5,
             "Shared"
            ],
            [
             1.5,
             "Shared"
            ],
            [
             1.5,
             "Shared"
            ],
            [
             1.5,
             "Shared"
            ],
            [
             1.5,
             "Shared"
            ],
            [
             1.5,
             "Shared"
            ],
            [
             1.5,
             "Shared"
            ],
            [
             1.5,
             "Shared"
            ],
            [
             1.5,
             "Shared"
            ],
            [
             1.5,
             "Shared"
            ],
            [
             1.5,
             "Shared"
            ],
            [
             1.5,
             "Shared"
            ],
            [
             1.5,
             "Shared"
            ],
            [
             1.5,
             "Shared"
            ],
            [
             1.5,
             "Shared"
            ],
            [
             1.5,
             "Shared"
            ],
            [
             1.5,
             "Shared"
            ],
            [
             1.5,
             "Shared"
            ],
            [
             1.5,
             "Shared"
            ],
            [
             1.5,
             "Shared"
            ],
            [
             1.5,
             "Shared"
            ],
            [
             1.5,
             "Shared"
            ],
            [
             1.5,
             "Shared"
            ],
            [
             1.5,
             "Shared"
            ],
            [
             1.5,
             "Shared"
            ],
            [
             1.5,
             "Shared"
            ],
            [
             1.5,
             "Shared"
            ],
            [
             1.5,
             "Shared"
            ],
            [
             1.5,
             "Shared"
            ],
            [
             1.5,
             "Shared"
            ],
            [
             1.5,
             "Shared"
            ],
            [
             1.5,
             "Shared"
            ],
            [
             1.5,
             "Shared"
            ],
            [
             1.5,
             "Shared"
            ],
            [
             1.5,
             "Shared"
            ],
            [
             1.5,
             "Shared"
            ],
            [
             1.5,
             "Shared"
            ],
            [
             1.5,
             "Shared"
            ],
            [
             1.5,
             "Shared"
            ],
            [
             1.5,
             "Shared"
            ],
            [
             1.5,
             "Shared"
            ],
            [
             1.5,
             "Shared"
            ],
            [
             1.5,
             "Shared"
            ],
            [
             1.5,
             "Shared"
            ],
            [
             1.5,
             "Shared"
            ],
            [
             1.5,
             "Shared"
            ],
            [
             1.5,
             "Shared"
            ],
            [
             1.5,
             "Shared"
            ],
            [
             1.5,
             "Shared"
            ],
            [
             1.5,
             "Shared"
            ],
            [
             1.5,
             "Shared"
            ],
            [
             1.5,
             "Shared"
            ],
            [
             1.5,
             "Shared"
            ],
            [
             1.5,
             "Shared"
            ],
            [
             1.5,
             "Shared"
            ],
            [
             1.5,
             "Shared"
            ],
            [
             1.5,
             "Shared"
            ],
            [
             1.5,
             "Shared"
            ],
            [
             1.5,
             "Shared"
            ],
            [
             1.5,
             "Shared"
            ],
            [
             1.5,
             "Shared"
            ],
            [
             1.5,
             "Shared"
            ],
            [
             1.5,
             "Shared"
            ],
            [
             1.5,
             "Shared"
            ],
            [
             1.5,
             "Shared"
            ],
            [
             1.5,
             "Shared"
            ],
            [
             1.5,
             "Shared"
            ],
            [
             1.5,
             "Shared"
            ],
            [
             1.5,
             "Shared"
            ],
            [
             1.5,
             "Shared"
            ],
            [
             1.5,
             "Shared"
            ],
            [
             1.5,
             "Shared"
            ],
            [
             1.5,
             "Shared"
            ],
            [
             1.5,
             "Shared"
            ],
            [
             1.5,
             "Shared"
            ],
            [
             1.5,
             "Shared"
            ],
            [
             1.5,
             "Shared"
            ],
            [
             1.5,
             "Shared"
            ],
            [
             1.5,
             "Shared"
            ],
            [
             1.5,
             "Shared"
            ],
            [
             1.5,
             "Shared"
            ],
            [
             1.5,
             "Shared"
            ],
            [
             1.5,
             "Shared"
            ],
            [
             1.5,
             "Shared"
            ],
            [
             1.5,
             "Shared"
            ],
            [
             1.5,
             "Shared"
            ],
            [
             1.5,
             "Shared"
            ],
            [
             1.5,
             "Shared"
            ],
            [
             1.5,
             "Shared"
            ],
            [
             1.5,
             "Shared"
            ],
            [
             1.5,
             "Shared"
            ],
            [
             1.5,
             "Shared"
            ],
            [
             1.5,
             "Shared"
            ],
            [
             1.5,
             "Shared"
            ],
            [
             1.5,
             "Shared"
            ],
            [
             1.5,
             "Shared"
            ],
            [
             1.5,
             "Shared"
            ],
            [
             1.5,
             "Shared"
            ],
            [
             1.5,
             "Shared"
            ],
            [
             1.5,
             "Shared"
            ],
            [
             1.5,
             "Shared"
            ],
            [
             1.5,
             "Shared"
            ],
            [
             1.5,
             "Shared"
            ],
            [
             1.5,
             "Shared"
            ],
            [
             1.5,
             "Shared"
            ],
            [
             1.5,
             "Shared"
            ],
            [
             1.5,
             "Shared"
            ],
            [
             1.5,
             "Shared"
            ],
            [
             1.5,
             "Shared"
            ],
            [
             1.5,
             "Shared"
            ],
            [
             1.5,
             "Shared"
            ],
            [
             1.5,
             "Shared"
            ],
            [
             1.5,
             "Shared"
            ],
            [
             1.5,
             "Shared"
            ],
            [
             1.5,
             "Shared"
            ],
            [
             1.5,
             "Shared"
            ],
            [
             1.5,
             "Shared"
            ],
            [
             1.5,
             "Shared"
            ],
            [
             1.5,
             "Shared"
            ],
            [
             1.5,
             "Shared"
            ],
            [
             1.5,
             "Shared"
            ],
            [
             1.5,
             "Shared"
            ],
            [
             1.5,
             "Shared"
            ],
            [
             1.5,
             "Shared"
            ],
            [
             1.5,
             "Shared"
            ],
            [
             1.5,
             "Shared"
            ]
           ],
           "hovertemplate": "cab_type=Lyft<br>distance=%{customdata[0]}<br>source_rain=%{x}<br>price=%{y}<br>name=%{customdata[1]}<extra></extra>",
           "legendgroup": "Lyft",
           "marker": {
            "color": "#FF00BF",
            "symbol": "circle"
           },
           "mode": "markers",
           "name": "Lyft",
           "orientation": "v",
           "showlegend": true,
           "type": "scatter",
           "x": [
            0.007816666666666668,
            0.0003708333333333333,
            0.007816666666666668,
            0.04091566265060241,
            0.007816666666666668,
            0.04091566265060241,
            0.04186746987951808,
            0.04091566265060241,
            0.0005166666666666667,
            0.0005166666666666667,
            0.0005166666666666667,
            4.424778761061947e-05,
            4.424778761061947e-05,
            4.424778761061947e-05,
            4.424778761061947e-05,
            0.00035000000000000005,
            0.00035000000000000005,
            0.00035000000000000005,
            0.04186746987951808,
            0.04358915662650602,
            0.04186746987951808,
            0.04186746987951808,
            0.04186746987951808,
            0.04091566265060241,
            0.00020833333333333332,
            0.00035000000000000005,
            0.0007083333333333332,
            0.0007083333333333332,
            0.0007083333333333332,
            0.0003708333333333333,
            0.0003708333333333333,
            0.007816666666666668,
            0.0005166666666666667,
            0.0006374999999999999,
            0.008,
            0.008008333333333334,
            0.004900000000000001,
            0.008191666666666667,
            0.0003750000000000001,
            0.0003750000000000001,
            0.0003750000000000001,
            0.008466666666666667,
            0.008466666666666667,
            0.008466666666666667,
            0.008466666666666667,
            0.0087375,
            0.0087375,
            0.0087375,
            0.0087375,
            0.0087375,
            0.0087375,
            0.0010857142857142858,
            0.0010857142857142858,
            0.0003750000000000001,
            0.002,
            0.002,
            0.002,
            0.004900000000000001,
            0.0003750000000000001,
            7.964601769911506e-05,
            7.964601769911506e-05,
            7.964601769911506e-05,
            0.00012035398230088497,
            0.00012035398230088497,
            0.00010176991150442478,
            0.00010176991150442478,
            0.00010176991150442478,
            7.964601769911506e-05,
            7.142857142857143e-05,
            7.142857142857143e-05,
            7.142857142857143e-05,
            7.142857142857143e-05,
            7.142857142857143e-05,
            7.964601769911506e-05,
            7.964601769911506e-05,
            7.964601769911506e-05,
            0.005946341463414635,
            0.005946341463414635,
            0.005946341463414635,
            0.005946341463414635,
            0.006778048780487806,
            0.005946341463414635,
            0.005946341463414635,
            0.005946341463414635,
            0.004900000000000001,
            0.004900000000000001,
            0.004900000000000001,
            0.004900000000000001,
            7.142857142857143e-05,
            7.142857142857143e-05,
            7.142857142857144e-06,
            7.142857142857143e-05,
            7.142857142857143e-05,
            7.142857142857143e-05,
            7.142857142857143e-05,
            7.142857142857143e-05,
            7.964601769911506e-05,
            0.0129125,
            0.00265,
            0.0002875,
            0.0013642857142857141,
            9.090909090909092e-05,
            9.090909090909092e-05,
            0.0003750000000000001,
            0.0004166666666666666,
            0.0004166666666666666,
            0.000625,
            0.0003750000000000001,
            0.0003750000000000001,
            0.0003833333333333333,
            0.0006083333333333332,
            0.0006083333333333332,
            0.0006083333333333332,
            0.037704819277108434,
            0.005607317073170731,
            0.005607317073170731,
            0.005607317073170731,
            0.005607317073170731,
            9.090909090909092e-05,
            9.090909090909092e-05,
            9.090909090909092e-05,
            9.090909090909092e-05,
            9.090909090909092e-05,
            9.090909090909092e-05,
            0.0071756097560975625,
            0.0071756097560975625,
            0.0045439024390243905,
            9.090909090909092e-05,
            0.03904819277108433,
            9.090909090909092e-05,
            9.090909090909092e-05,
            0.03904819277108433,
            0.03904819277108433,
            0.0132125,
            0.013000000000000005,
            0.0132125,
            0.0132125,
            0.013000000000000005,
            0.014329166666666669,
            0.01355,
            0.01355,
            0.01355,
            0.01355,
            0.01355,
            0.01355,
            0.014329166666666669,
            0.014329166666666669,
            0.03904819277108433,
            0.03904819277108433,
            0.03904819277108433,
            0.03904819277108433,
            0.03904819277108433,
            0.03904819277108433,
            0.03728192771084338,
            0.0434144578313253,
            0.0434144578313253,
            0.0434144578313253,
            0.0434144578313253,
            0.0434144578313253,
            0.014329166666666669,
            0.014329166666666669,
            0.014329166666666669,
            0.014329166666666669,
            0.03904819277108433,
            0.0434144578313253,
            0.0434144578313253,
            6.283185840707964e-05,
            6.283185840707964e-05,
            6.283185840707964e-05,
            0.00010442477876106196,
            0.00010442477876106196,
            0.00010442477876106196
           ],
           "xaxis": "x",
           "y": [
            5,
            5,
            5,
            5,
            5,
            7,
            5,
            7,
            7,
            5,
            7,
            5,
            3,
            5,
            5,
            13.5,
            5,
            7,
            7,
            5,
            7,
            9,
            3,
            5,
            11,
            3,
            7,
            7,
            3.5,
            5,
            5,
            7,
            5,
            7,
            7,
            5,
            5,
            3.5,
            5,
            3.5,
            5,
            7,
            7,
            7,
            5,
            5,
            5,
            5,
            3.5,
            5,
            5,
            5,
            5,
            2.5,
            7,
            7,
            7,
            5,
            3,
            5,
            5,
            7,
            5,
            7,
            5,
            5,
            7,
            5,
            7,
            7,
            7,
            7,
            7,
            3,
            3.5,
            5,
            7,
            7,
            5,
            5,
            5,
            5,
            5,
            5,
            3.5,
            3,
            5,
            5,
            3,
            7,
            7,
            5,
            7,
            3,
            10.5,
            5,
            7,
            3,
            5,
            5,
            3,
            7,
            3,
            7,
            3.5,
            5,
            7,
            3.5,
            5,
            5,
            7,
            7,
            7,
            5,
            3.5,
            5,
            5,
            3.5,
            7,
            5,
            5,
            3,
            5,
            5,
            7,
            7,
            5,
            3,
            7,
            3,
            3,
            5,
            5,
            5,
            5,
            5,
            7,
            5,
            5,
            3.5,
            5,
            5,
            5,
            7,
            5,
            7,
            7,
            5,
            5,
            3,
            5,
            3.5,
            3,
            5,
            7,
            7,
            7,
            7,
            7,
            9,
            7,
            7,
            7,
            5,
            7,
            7,
            5,
            7,
            5,
            3,
            7,
            7
           ],
           "yaxis": "y"
          }
         ],
         "name": "1.5"
        },
        {
         "data": [
          {
           "customdata": [
            [
             2,
             "UberPool"
            ],
            [
             2,
             "UberPool"
            ],
            [
             2,
             "UberPool"
            ],
            [
             2,
             "UberPool"
            ],
            [
             2,
             "UberPool"
            ]
           ],
           "hovertemplate": "cab_type=Uber<br>distance=%{customdata[0]}<br>source_rain=%{x}<br>price=%{y}<br>name=%{customdata[1]}<extra></extra>",
           "legendgroup": "Uber",
           "marker": {
            "color": "#000000",
            "symbol": "circle"
           },
           "mode": "markers",
           "name": "Uber",
           "orientation": "v",
           "showlegend": true,
           "type": "scatter",
           "x": [
            0.0129125,
            0.004900000000000001,
            0.004900000000000001,
            7.964601769911506e-05,
            7.964601769911506e-05
           ],
           "xaxis": "x",
           "y": [
            7.5,
            7.5,
            8.5,
            8.5,
            8.5
           ],
           "yaxis": "y"
          },
          {
           "customdata": [
            [
             2,
             "Shared"
            ],
            [
             2,
             "Shared"
            ],
            [
             2,
             "Shared"
            ],
            [
             2,
             "Shared"
            ],
            [
             2,
             "Shared"
            ],
            [
             2,
             "Shared"
            ],
            [
             2,
             "Shared"
            ],
            [
             2,
             "Shared"
            ],
            [
             2,
             "Shared"
            ],
            [
             2,
             "Shared"
            ],
            [
             2,
             "Shared"
            ],
            [
             2,
             "Shared"
            ],
            [
             2,
             "Shared"
            ],
            [
             2,
             "Shared"
            ],
            [
             2,
             "Shared"
            ],
            [
             2,
             "Shared"
            ],
            [
             2,
             "Shared"
            ],
            [
             2,
             "Shared"
            ],
            [
             2,
             "Shared"
            ],
            [
             2,
             "Shared"
            ],
            [
             2,
             "Shared"
            ],
            [
             2,
             "Shared"
            ],
            [
             2,
             "Shared"
            ],
            [
             2,
             "Shared"
            ],
            [
             2,
             "Shared"
            ],
            [
             2,
             "Shared"
            ],
            [
             2,
             "Shared"
            ],
            [
             2,
             "Shared"
            ],
            [
             2,
             "Shared"
            ],
            [
             2,
             "Shared"
            ],
            [
             2,
             "Shared"
            ],
            [
             2,
             "Shared"
            ],
            [
             2,
             "Shared"
            ],
            [
             2,
             "Shared"
            ],
            [
             2,
             "Shared"
            ],
            [
             2,
             "Shared"
            ],
            [
             2,
             "Shared"
            ],
            [
             2,
             "Shared"
            ],
            [
             2,
             "Shared"
            ],
            [
             2,
             "Shared"
            ],
            [
             2,
             "Shared"
            ],
            [
             2,
             "Shared"
            ],
            [
             2,
             "Shared"
            ],
            [
             2,
             "Shared"
            ],
            [
             2,
             "Shared"
            ],
            [
             2,
             "Shared"
            ],
            [
             2,
             "Shared"
            ],
            [
             2,
             "Shared"
            ],
            [
             2,
             "Shared"
            ],
            [
             2,
             "Shared"
            ],
            [
             2,
             "Shared"
            ],
            [
             2,
             "Shared"
            ],
            [
             2,
             "Shared"
            ],
            [
             2,
             "Shared"
            ],
            [
             2,
             "Shared"
            ],
            [
             2,
             "Shared"
            ],
            [
             2,
             "Shared"
            ],
            [
             2,
             "Shared"
            ],
            [
             2,
             "Shared"
            ],
            [
             2,
             "Shared"
            ],
            [
             2,
             "Shared"
            ],
            [
             2,
             "Shared"
            ],
            [
             2,
             "Shared"
            ],
            [
             2,
             "Shared"
            ],
            [
             2,
             "Shared"
            ],
            [
             2,
             "Shared"
            ],
            [
             2,
             "Shared"
            ],
            [
             2,
             "Shared"
            ],
            [
             2,
             "Shared"
            ],
            [
             2,
             "Shared"
            ],
            [
             2,
             "Shared"
            ],
            [
             2,
             "Shared"
            ],
            [
             2,
             "Shared"
            ],
            [
             2,
             "Shared"
            ],
            [
             2,
             "Shared"
            ],
            [
             2,
             "Shared"
            ],
            [
             2,
             "Shared"
            ],
            [
             2,
             "Shared"
            ],
            [
             2,
             "Shared"
            ],
            [
             2,
             "Shared"
            ],
            [
             2,
             "Shared"
            ],
            [
             2,
             "Shared"
            ],
            [
             2,
             "Shared"
            ],
            [
             2,
             "Shared"
            ],
            [
             2,
             "Shared"
            ],
            [
             2,
             "Shared"
            ],
            [
             2,
             "Shared"
            ],
            [
             2,
             "Shared"
            ],
            [
             2,
             "Shared"
            ],
            [
             2,
             "Shared"
            ],
            [
             2,
             "Shared"
            ],
            [
             2,
             "Shared"
            ],
            [
             2,
             "Shared"
            ],
            [
             2,
             "Shared"
            ],
            [
             2,
             "Shared"
            ],
            [
             2,
             "Shared"
            ],
            [
             2,
             "Shared"
            ],
            [
             2,
             "Shared"
            ],
            [
             2,
             "Shared"
            ],
            [
             2,
             "Shared"
            ],
            [
             2,
             "Shared"
            ],
            [
             2,
             "Shared"
            ],
            [
             2,
             "Shared"
            ],
            [
             2,
             "Shared"
            ],
            [
             2,
             "Shared"
            ],
            [
             2,
             "Shared"
            ],
            [
             2,
             "Shared"
            ],
            [
             2,
             "Shared"
            ],
            [
             2,
             "Shared"
            ]
           ],
           "hovertemplate": "cab_type=Lyft<br>distance=%{customdata[0]}<br>source_rain=%{x}<br>price=%{y}<br>name=%{customdata[1]}<extra></extra>",
           "legendgroup": "Lyft",
           "marker": {
            "color": "#FF00BF",
            "symbol": "circle"
           },
           "mode": "markers",
           "name": "Lyft",
           "orientation": "v",
           "showlegend": true,
           "type": "scatter",
           "x": [
            0.0052463414634146355,
            0.0045439024390243905,
            0.0045439024390243905,
            0.006958536585365854,
            0.002214285714285714,
            0.0045439024390243905,
            0.04186746987951808,
            0.0045439024390243905,
            0.00010357142857142856,
            0.00010707964601769912,
            7.142857142857143e-05,
            0.0052463414634146355,
            0.014566666666666669,
            0.0052463414634146355,
            0.00010707964601769912,
            0.0052463414634146355,
            9.090909090909092e-05,
            9.090909090909092e-05,
            0.006958536585365854,
            0.0003,
            0.0003,
            0.0003,
            0.0003,
            0.006958536585365854,
            0.006958536585365854,
            0.00010707964601769912,
            6.106194690265487e-05,
            0.00010707964601769912,
            0.00010357142857142856,
            7.142857142857143e-05,
            6.106194690265487e-05,
            0.007954166666666667,
            0.0003750000000000001,
            0.013000000000000005,
            0.013000000000000005,
            0.013000000000000005,
            0.0007083333333333332,
            0.008370833333333333,
            8.333333333333333e-05,
            0.01355,
            0.014620833333333331,
            8.333333333333333e-05,
            0.014620833333333331,
            0.013000000000000005,
            0.0003642857142857143,
            0.0003642857142857143,
            0.0003642857142857143,
            0.0003642857142857143,
            0.0003642857142857143,
            0.0003642857142857143,
            0.0003642857142857143,
            0.0003642857142857143,
            0.014329166666666669,
            0.012837500000000002,
            0.002214285714285714,
            0.0003642857142857143,
            0.013000000000000005,
            0.013000000000000005,
            0.013000000000000005,
            0.0003750000000000001,
            0.0003750000000000001,
            0.0003750000000000001,
            0.0003750000000000001,
            0.0003750000000000001,
            0.0003750000000000001,
            0.0003750000000000001,
            0.0003750000000000001,
            0.0007083333333333332,
            0.043559036144578296,
            0.037704819277108434,
            0.037704819277108434,
            0.037704819277108434,
            0.037704819277108434,
            0.037704819277108434,
            0.037704819277108434,
            0.037704819277108434,
            0.04285301204819278,
            0.007954166666666667,
            0.0045439024390243905,
            0.007954166666666667,
            0.008308333333333333,
            0.04285301204819278,
            0.000625,
            0.0045439024390243905,
            0.002214285714285714,
            0.0045439024390243905,
            4.424778761061947e-05,
            4.424778761061947e-05,
            4.424778761061947e-05,
            4.424778761061947e-05,
            4.424778761061947e-05,
            4.424778761061947e-05,
            0.0045439024390243905,
            0.0005166666666666667,
            4.424778761061947e-05,
            9.090909090909092e-05,
            9.090909090909092e-05,
            9.090909090909092e-05,
            8.181818181818183e-05,
            8.181818181818183e-05,
            4.424778761061947e-05,
            0.005946341463414635,
            4.424778761061947e-05,
            4.424778761061947e-05,
            6.106194690265487e-05,
            4.424778761061947e-05,
            0.0045439024390243905,
            0.0045439024390243905,
            0.005946341463414635
           ],
           "xaxis": "x",
           "y": [
            7,
            5,
            7,
            7,
            7,
            9,
            7,
            9,
            7,
            7,
            7,
            7,
            3,
            7,
            7,
            7,
            7,
            5,
            7,
            3,
            3,
            7,
            3.5,
            7,
            7,
            7,
            9,
            7,
            3.5,
            7,
            7,
            7,
            7,
            5,
            7,
            7,
            7,
            7,
            5,
            5,
            7,
            3.5,
            7,
            7,
            7,
            7,
            7,
            7,
            5,
            7,
            3.5,
            7,
            7,
            3.5,
            7,
            5,
            5,
            7,
            7,
            5,
            7,
            7,
            3,
            3.5,
            11,
            7,
            7,
            3.5,
            7,
            7,
            7,
            3,
            7,
            5,
            7,
            7,
            7,
            7,
            7,
            7,
            7,
            7,
            7,
            5,
            5,
            5,
            7,
            7,
            7,
            5,
            7,
            3,
            7,
            5,
            7,
            3.5,
            7,
            3,
            7,
            7,
            7,
            7,
            7,
            7,
            7,
            7,
            7,
            7,
            7
           ],
           "yaxis": "y"
          }
         ],
         "name": "2.0"
        },
        {
         "data": [
          {
           "customdata": [
            [
             2.5,
             "UberPool"
            ],
            [
             2.5,
             "UberPool"
            ],
            [
             2.5,
             "UberPool"
            ],
            [
             2.5,
             "UberPool"
            ],
            [
             2.5,
             "UberPool"
            ],
            [
             2.5,
             "UberPool"
            ],
            [
             2.5,
             "UberPool"
            ],
            [
             2.5,
             "UberPool"
            ],
            [
             2.5,
             "UberPool"
            ],
            [
             2.5,
             "UberPool"
            ],
            [
             2.5,
             "UberPool"
            ],
            [
             2.5,
             "UberPool"
            ],
            [
             2.5,
             "UberPool"
            ],
            [
             2.5,
             "UberPool"
            ],
            [
             2.5,
             "UberPool"
            ],
            [
             2.5,
             "UberPool"
            ],
            [
             2.5,
             "UberPool"
            ],
            [
             2.5,
             "UberPool"
            ],
            [
             2.5,
             "UberPool"
            ],
            [
             2.5,
             "UberPool"
            ],
            [
             2.5,
             "UberPool"
            ],
            [
             2.5,
             "UberPool"
            ],
            [
             2.5,
             "UberPool"
            ],
            [
             2.5,
             "UberPool"
            ],
            [
             2.5,
             "UberPool"
            ],
            [
             2.5,
             "UberPool"
            ],
            [
             2.5,
             "UberPool"
            ],
            [
             2.5,
             "UberPool"
            ],
            [
             2.5,
             "UberPool"
            ],
            [
             2.5,
             "UberPool"
            ],
            [
             2.5,
             "UberPool"
            ],
            [
             2.5,
             "UberPool"
            ],
            [
             2.5,
             "UberPool"
            ],
            [
             2.5,
             "UberPool"
            ],
            [
             2.5,
             "UberPool"
            ],
            [
             2.5,
             "UberPool"
            ],
            [
             2.5,
             "UberPool"
            ],
            [
             2.5,
             "UberPool"
            ],
            [
             2.5,
             "UberPool"
            ],
            [
             2.5,
             "UberPool"
            ],
            [
             2.5,
             "UberPool"
            ],
            [
             2.5,
             "UberPool"
            ],
            [
             2.5,
             "UberPool"
            ],
            [
             2.5,
             "UberPool"
            ],
            [
             2.5,
             "UberPool"
            ],
            [
             2.5,
             "UberPool"
            ],
            [
             2.5,
             "UberPool"
            ],
            [
             2.5,
             "UberPool"
            ],
            [
             2.5,
             "UberPool"
            ],
            [
             2.5,
             "UberPool"
            ],
            [
             2.5,
             "UberPool"
            ],
            [
             2.5,
             "UberPool"
            ],
            [
             2.5,
             "UberPool"
            ],
            [
             2.5,
             "UberPool"
            ],
            [
             2.5,
             "UberPool"
            ],
            [
             2.5,
             "UberPool"
            ],
            [
             2.5,
             "UberPool"
            ],
            [
             2.5,
             "UberPool"
            ],
            [
             2.5,
             "UberPool"
            ],
            [
             2.5,
             "UberPool"
            ],
            [
             2.5,
             "UberPool"
            ],
            [
             2.5,
             "UberPool"
            ],
            [
             2.5,
             "UberPool"
            ],
            [
             2.5,
             "UberPool"
            ],
            [
             2.5,
             "UberPool"
            ],
            [
             2.5,
             "UberPool"
            ],
            [
             2.5,
             "UberPool"
            ],
            [
             2.5,
             "UberPool"
            ],
            [
             2.5,
             "UberPool"
            ],
            [
             2.5,
             "UberPool"
            ],
            [
             2.5,
             "UberPool"
            ],
            [
             2.5,
             "UberPool"
            ],
            [
             2.5,
             "UberPool"
            ],
            [
             2.5,
             "UberPool"
            ],
            [
             2.5,
             "UberPool"
            ],
            [
             2.5,
             "UberPool"
            ],
            [
             2.5,
             "UberPool"
            ],
            [
             2.5,
             "UberPool"
            ],
            [
             2.5,
             "UberPool"
            ],
            [
             2.5,
             "UberPool"
            ],
            [
             2.5,
             "UberPool"
            ],
            [
             2.5,
             "UberPool"
            ],
            [
             2.5,
             "UberPool"
            ],
            [
             2.5,
             "UberPool"
            ],
            [
             2.5,
             "UberPool"
            ],
            [
             2.5,
             "UberPool"
            ],
            [
             2.5,
             "UberPool"
            ],
            [
             2.5,
             "UberPool"
            ],
            [
             2.5,
             "UberPool"
            ],
            [
             2.5,
             "UberPool"
            ],
            [
             2.5,
             "UberPool"
            ],
            [
             2.5,
             "UberPool"
            ],
            [
             2.5,
             "UberPool"
            ],
            [
             2.5,
             "UberPool"
            ],
            [
             2.5,
             "UberPool"
            ],
            [
             2.5,
             "UberPool"
            ],
            [
             2.5,
             "UberPool"
            ],
            [
             2.5,
             "UberPool"
            ],
            [
             2.5,
             "UberPool"
            ],
            [
             2.5,
             "UberPool"
            ],
            [
             2.5,
             "UberPool"
            ],
            [
             2.5,
             "UberPool"
            ],
            [
             2.5,
             "UberPool"
            ],
            [
             2.5,
             "UberPool"
            ],
            [
             2.5,
             "UberPool"
            ],
            [
             2.5,
             "UberPool"
            ],
            [
             2.5,
             "UberPool"
            ],
            [
             2.5,
             "UberPool"
            ],
            [
             2.5,
             "UberPool"
            ],
            [
             2.5,
             "UberPool"
            ],
            [
             2.5,
             "UberPool"
            ],
            [
             2.5,
             "UberPool"
            ],
            [
             2.5,
             "UberPool"
            ],
            [
             2.5,
             "UberPool"
            ],
            [
             2.5,
             "UberPool"
            ],
            [
             2.5,
             "UberPool"
            ],
            [
             2.5,
             "UberPool"
            ],
            [
             2.5,
             "UberPool"
            ],
            [
             2.5,
             "UberPool"
            ],
            [
             2.5,
             "UberPool"
            ],
            [
             2.5,
             "UberPool"
            ],
            [
             2.5,
             "UberPool"
            ],
            [
             2.5,
             "UberPool"
            ],
            [
             2.5,
             "UberPool"
            ],
            [
             2.5,
             "UberPool"
            ],
            [
             2.5,
             "UberPool"
            ],
            [
             2.5,
             "UberPool"
            ],
            [
             2.5,
             "UberPool"
            ],
            [
             2.5,
             "UberPool"
            ],
            [
             2.5,
             "UberPool"
            ],
            [
             2.5,
             "UberPool"
            ],
            [
             2.5,
             "UberPool"
            ],
            [
             2.5,
             "UberPool"
            ],
            [
             2.5,
             "UberPool"
            ],
            [
             2.5,
             "UberPool"
            ],
            [
             2.5,
             "UberPool"
            ],
            [
             2.5,
             "UberPool"
            ],
            [
             2.5,
             "UberPool"
            ],
            [
             2.5,
             "UberPool"
            ],
            [
             2.5,
             "UberPool"
            ],
            [
             2.5,
             "UberPool"
            ],
            [
             2.5,
             "UberPool"
            ],
            [
             2.5,
             "UberPool"
            ],
            [
             2.5,
             "UberPool"
            ],
            [
             2.5,
             "UberPool"
            ],
            [
             2.5,
             "UberPool"
            ],
            [
             2.5,
             "UberPool"
            ],
            [
             2.5,
             "UberPool"
            ],
            [
             2.5,
             "UberPool"
            ],
            [
             2.5,
             "UberPool"
            ],
            [
             2.5,
             "UberPool"
            ],
            [
             2.5,
             "UberPool"
            ],
            [
             2.5,
             "UberPool"
            ],
            [
             2.5,
             "UberPool"
            ],
            [
             2.5,
             "UberPool"
            ],
            [
             2.5,
             "UberPool"
            ],
            [
             2.5,
             "UberPool"
            ],
            [
             2.5,
             "UberPool"
            ],
            [
             2.5,
             "UberPool"
            ],
            [
             2.5,
             "UberPool"
            ],
            [
             2.5,
             "UberPool"
            ],
            [
             2.5,
             "UberPool"
            ],
            [
             2.5,
             "UberPool"
            ],
            [
             2.5,
             "UberPool"
            ],
            [
             2.5,
             "UberPool"
            ],
            [
             2.5,
             "UberPool"
            ],
            [
             2.5,
             "UberPool"
            ],
            [
             2.5,
             "UberPool"
            ],
            [
             2.5,
             "UberPool"
            ],
            [
             2.5,
             "UberPool"
            ],
            [
             2.5,
             "UberPool"
            ],
            [
             2.5,
             "UberPool"
            ],
            [
             2.5,
             "UberPool"
            ],
            [
             2.5,
             "UberPool"
            ],
            [
             2.5,
             "UberPool"
            ],
            [
             2.5,
             "UberPool"
            ],
            [
             2.5,
             "UberPool"
            ],
            [
             2.5,
             "UberPool"
            ],
            [
             2.5,
             "UberPool"
            ],
            [
             2.5,
             "UberPool"
            ],
            [
             2.5,
             "UberPool"
            ],
            [
             2.5,
             "UberPool"
            ],
            [
             2.5,
             "UberPool"
            ],
            [
             2.5,
             "UberPool"
            ],
            [
             2.5,
             "UberPool"
            ],
            [
             2.5,
             "UberPool"
            ],
            [
             2.5,
             "UberPool"
            ],
            [
             2.5,
             "UberPool"
            ],
            [
             2.5,
             "UberPool"
            ],
            [
             2.5,
             "UberPool"
            ],
            [
             2.5,
             "UberPool"
            ],
            [
             2.5,
             "UberPool"
            ],
            [
             2.5,
             "UberPool"
            ],
            [
             2.5,
             "UberPool"
            ],
            [
             2.5,
             "UberPool"
            ],
            [
             2.5,
             "UberPool"
            ],
            [
             2.5,
             "UberPool"
            ],
            [
             2.5,
             "UberPool"
            ],
            [
             2.5,
             "UberPool"
            ],
            [
             2.5,
             "UberPool"
            ],
            [
             2.5,
             "UberPool"
            ],
            [
             2.5,
             "UberPool"
            ],
            [
             2.5,
             "UberPool"
            ],
            [
             2.5,
             "UberPool"
            ],
            [
             2.5,
             "UberPool"
            ],
            [
             2.5,
             "UberPool"
            ],
            [
             2.5,
             "UberPool"
            ],
            [
             2.5,
             "UberPool"
            ],
            [
             2.5,
             "UberPool"
            ],
            [
             2.5,
             "UberPool"
            ],
            [
             2.5,
             "UberPool"
            ],
            [
             2.5,
             "UberPool"
            ],
            [
             2.5,
             "UberPool"
            ],
            [
             2.5,
             "UberPool"
            ],
            [
             2.5,
             "UberPool"
            ],
            [
             2.5,
             "UberPool"
            ],
            [
             2.5,
             "UberPool"
            ],
            [
             2.5,
             "UberPool"
            ],
            [
             2.5,
             "UberPool"
            ],
            [
             2.5,
             "UberPool"
            ],
            [
             2.5,
             "UberPool"
            ],
            [
             2.5,
             "UberPool"
            ],
            [
             2.5,
             "UberPool"
            ],
            [
             2.5,
             "UberPool"
            ],
            [
             2.5,
             "UberPool"
            ],
            [
             2.5,
             "UberPool"
            ],
            [
             2.5,
             "UberPool"
            ],
            [
             2.5,
             "UberPool"
            ],
            [
             2.5,
             "UberPool"
            ],
            [
             2.5,
             "UberPool"
            ],
            [
             2.5,
             "UberPool"
            ],
            [
             2.5,
             "UberPool"
            ],
            [
             2.5,
             "UberPool"
            ],
            [
             2.5,
             "UberPool"
            ],
            [
             2.5,
             "UberPool"
            ],
            [
             2.5,
             "UberPool"
            ],
            [
             2.5,
             "UberPool"
            ],
            [
             2.5,
             "UberPool"
            ],
            [
             2.5,
             "UberPool"
            ],
            [
             2.5,
             "UberPool"
            ],
            [
             2.5,
             "UberPool"
            ],
            [
             2.5,
             "UberPool"
            ],
            [
             2.5,
             "UberPool"
            ],
            [
             2.5,
             "UberPool"
            ],
            [
             2.5,
             "UberPool"
            ],
            [
             2.5,
             "UberPool"
            ],
            [
             2.5,
             "UberPool"
            ],
            [
             2.5,
             "UberPool"
            ],
            [
             2.5,
             "UberPool"
            ],
            [
             2.5,
             "UberPool"
            ],
            [
             2.5,
             "UberPool"
            ],
            [
             2.5,
             "UberPool"
            ],
            [
             2.5,
             "UberPool"
            ],
            [
             2.5,
             "UberPool"
            ]
           ],
           "hovertemplate": "cab_type=Uber<br>distance=%{customdata[0]}<br>source_rain=%{x}<br>price=%{y}<br>name=%{customdata[1]}<extra></extra>",
           "legendgroup": "Uber",
           "marker": {
            "color": "#000000",
            "symbol": "circle"
           },
           "mode": "markers",
           "name": "Uber",
           "orientation": "v",
           "showlegend": true,
           "type": "scatter",
           "x": [
            0.008370833333333333,
            0.008370833333333333,
            0.008370833333333333,
            0.008370833333333333,
            0.008370833333333333,
            0.0007083333333333332,
            0.0007083333333333332,
            0.0007083333333333332,
            0.0007083333333333332,
            0.0007083333333333332,
            0.008370833333333333,
            0.008370833333333333,
            0.008370833333333333,
            0.008370833333333333,
            0.008370833333333333,
            0.008370833333333333,
            0.008370833333333333,
            0.008370833333333333,
            0.008370833333333333,
            0.008370833333333333,
            0.008370833333333333,
            0.008370833333333333,
            0.008370833333333333,
            0.008370833333333333,
            0.008370833333333333,
            0.0007083333333333332,
            0.008370833333333333,
            0.008370833333333333,
            0.008370833333333333,
            0.008370833333333333,
            0.008370833333333333,
            0.008370833333333333,
            0.0007083333333333332,
            0.0007083333333333332,
            0.0007083333333333332,
            0.0052463414634146355,
            0.0052463414634146355,
            0.0052463414634146355,
            0.0052463414634146355,
            0.0052463414634146355,
            0.0052463414634146355,
            0.0052463414634146355,
            0.0003833333333333333,
            0.0003833333333333333,
            0.0003833333333333333,
            0.0003833333333333333,
            0.0003833333333333333,
            0.0003833333333333333,
            0.0003833333333333333,
            0.0003833333333333333,
            0.0003833333333333333,
            0.0003833333333333333,
            0.0003833333333333333,
            0.0003833333333333333,
            0.0003833333333333333,
            0.0003833333333333333,
            0.0052463414634146355,
            0.0052463414634146355,
            0.0052463414634146355,
            0.0007083333333333332,
            0.0007083333333333332,
            0.0007083333333333332,
            6.106194690265487e-05,
            0.0052463414634146355,
            0.0052463414634146355,
            0.0052463414634146355,
            0.0052463414634146355,
            0.0052463414634146355,
            0.0052463414634146355,
            0.0007083333333333332,
            0.0007083333333333332,
            0.0007083333333333332,
            0.012837500000000002,
            0.012837500000000002,
            0.012837500000000002,
            0.00195,
            0.00195,
            0.00195,
            0.00195,
            0.00195,
            0.00195,
            0.00195,
            0.00195,
            0.00195,
            0.00195,
            0.00195,
            0.00195,
            0.00195,
            0.00195,
            0.012837500000000002,
            8.333333333333333e-05,
            8.333333333333333e-05,
            8.333333333333333e-05,
            0.012837500000000002,
            0.012837500000000002,
            0.012837500000000002,
            0.012837500000000002,
            0.012837500000000002,
            0.012837500000000002,
            0.012837500000000002,
            8.333333333333333e-05,
            0.012837500000000002,
            0.012837500000000002,
            0.012837500000000002,
            0.012837500000000002,
            0.012837500000000002,
            0.012837500000000002,
            0.012837500000000002,
            0.012837500000000002,
            0.012837500000000002,
            0.012837500000000002,
            0.012837500000000002,
            0.012837500000000002,
            0.0007083333333333332,
            8.333333333333333e-05,
            8.333333333333333e-05,
            0.005946341463414635,
            0.005946341463414635,
            0.0007083333333333332,
            0.0007083333333333332,
            0.0007083333333333332,
            0.0007083333333333332,
            0.0007083333333333332,
            0.0007083333333333332,
            0.0003833333333333333,
            0.0007083333333333332,
            0.0007083333333333332,
            0.0007083333333333332,
            0.0007083333333333332,
            0.0007083333333333332,
            6.283185840707964e-05,
            8.333333333333333e-05,
            8.333333333333333e-05,
            8.333333333333333e-05,
            8.333333333333333e-05,
            8.333333333333333e-05,
            8.333333333333333e-05,
            8.333333333333333e-05,
            8.333333333333333e-05,
            8.333333333333333e-05,
            8.333333333333333e-05,
            8.333333333333333e-05,
            8.333333333333333e-05,
            8.333333333333333e-05,
            8.333333333333333e-05,
            8.333333333333333e-05,
            8.333333333333333e-05,
            8.333333333333333e-05,
            0.012837500000000002,
            0.0003833333333333333,
            0.0052463414634146355,
            0.0003833333333333333,
            6.106194690265487e-05,
            6.106194690265487e-05,
            6.106194690265487e-05,
            6.106194690265487e-05,
            6.106194690265487e-05,
            0.00010357142857142856,
            0.00010357142857142856,
            0.00010357142857142856,
            0.00010357142857142856,
            0.00010357142857142856,
            0.00010357142857142856,
            0.00010357142857142856,
            0.00010357142857142856,
            0.00010357142857142856,
            0.00010357142857142856,
            0.00010357142857142856,
            0.00010357142857142856,
            0.00010357142857142856,
            0.00010357142857142856,
            6.106194690265487e-05,
            0.0052463414634146355,
            0.0052463414634146355,
            0.0052463414634146355,
            0.0052463414634146355,
            0.0052463414634146355,
            0.0052463414634146355,
            0.0052463414634146355,
            0.00010176991150442478,
            0.0003833333333333333,
            0.0052463414634146355,
            0.0052463414634146355,
            0.00010357142857142856,
            0.04285301204819278,
            0.00010357142857142856,
            0.00010357142857142856,
            6.106194690265487e-05,
            6.106194690265487e-05,
            6.106194690265487e-05,
            6.106194690265487e-05,
            6.106194690265487e-05,
            6.106194690265487e-05,
            6.106194690265487e-05,
            6.106194690265487e-05,
            6.106194690265487e-05,
            0.00010176991150442478,
            6.106194690265487e-05,
            0.00010176991150442478,
            6.106194690265487e-05,
            6.106194690265487e-05,
            6.106194690265487e-05,
            6.106194690265487e-05,
            6.106194690265487e-05,
            6.106194690265487e-05,
            6.106194690265487e-05,
            0.00493170731707317,
            0.00010176991150442478,
            0.00010357142857142856,
            0.00010357142857142856,
            0.00010357142857142856,
            6.106194690265487e-05,
            6.106194690265487e-05,
            6.106194690265487e-05,
            6.106194690265487e-05,
            6.106194690265487e-05,
            6.106194690265487e-05,
            6.106194690265487e-05,
            6.106194690265487e-05,
            6.106194690265487e-05,
            6.106194690265487e-05,
            6.106194690265487e-05,
            6.106194690265487e-05,
            0.00010357142857142856,
            9.090909090909092e-05,
            0.04285301204819278,
            0.04285301204819278,
            0.04285301204819278,
            0.04285301204819278,
            0.04285301204819278,
            0.04285301204819278,
            0.04285301204819278,
            0.04285301204819278,
            0.04285301204819278,
            0.04285301204819278,
            0.04285301204819278,
            0.04285301204819278,
            0.04285301204819278,
            0.04285301204819278,
            0.04285301204819278,
            0.04285301204819278,
            0.04285301204819278,
            0.04285301204819278,
            0.04285301204819278,
            0.04285301204819278,
            0.04285301204819278,
            0.04285301204819278,
            0.0052463414634146355,
            0.04285301204819278,
            0.04285301204819278,
            0.04285301204819278,
            0.0052463414634146355,
            0.0002875,
            0.04285301204819278
           ],
           "xaxis": "x",
           "y": [
            9,
            8.5,
            9,
            8,
            9.5,
            8,
            8.5,
            10,
            9,
            8,
            10,
            11,
            10,
            9,
            8,
            8.5,
            9.5,
            9,
            8.5,
            9,
            9,
            8,
            10,
            8.5,
            9,
            9,
            8.5,
            9,
            8,
            13,
            8,
            6.5,
            13,
            9,
            9,
            9,
            8,
            8,
            9,
            8.5,
            9,
            12,
            9.5,
            9.5,
            9.5,
            8.5,
            9,
            8.5,
            8.5,
            10,
            10,
            12.5,
            8,
            8,
            12,
            12,
            11.5,
            8,
            8,
            8,
            7.5,
            9,
            9,
            8,
            10,
            8,
            8.5,
            8.5,
            7.5,
            12,
            9,
            9,
            8,
            13.5,
            8,
            10,
            7.5,
            11,
            8.5,
            9.5,
            9.5,
            9.5,
            8,
            10,
            8,
            8.5,
            9,
            8.5,
            8.5,
            10,
            8,
            13.5,
            11,
            9,
            7.5,
            9.5,
            7.5,
            9,
            8.5,
            12.5,
            8,
            10,
            8,
            14,
            10,
            7.5,
            9,
            9,
            11,
            10,
            8,
            11,
            13,
            10,
            7,
            8.5,
            10,
            13,
            14.5,
            8.5,
            11,
            8.5,
            7.5,
            9,
            11,
            9.5,
            8,
            8.5,
            9,
            7.5,
            9,
            9,
            9,
            8.5,
            8.5,
            8.5,
            9.5,
            8.5,
            6.5,
            9.5,
            9,
            11,
            9,
            12.5,
            10,
            9,
            8,
            15.5,
            9,
            9.5,
            9,
            10,
            8.5,
            9,
            8,
            12.5,
            9,
            7.5,
            8,
            13.5,
            8.5,
            9,
            8,
            8.5,
            9,
            7.5,
            8.5,
            9,
            13,
            8.5,
            8,
            7,
            8,
            9,
            7.5,
            9.5,
            13,
            8,
            8.5,
            8,
            8.5,
            9,
            13.5,
            8,
            8,
            7.5,
            8,
            14.5,
            9.5,
            8.5,
            7,
            8,
            11,
            8,
            8,
            9.5,
            9,
            9,
            10,
            9,
            7,
            9.5,
            10,
            9,
            11,
            9,
            9.5,
            9,
            9.5,
            6.5,
            7.5,
            10,
            7.5,
            12,
            10,
            8.5,
            9,
            11,
            9,
            15.5,
            7.5,
            8.5,
            10,
            8,
            11,
            8.5,
            8.5,
            8.5,
            8,
            8,
            11,
            7,
            9,
            9,
            9.5,
            9,
            8,
            8.5,
            8,
            8,
            9,
            9,
            8.5,
            9.5,
            9,
            9.5,
            7.5,
            9,
            8,
            11.5,
            9,
            10,
            10,
            10
           ],
           "yaxis": "y"
          },
          {
           "customdata": [
            [
             2.5,
             "Shared"
            ],
            [
             2.5,
             "Shared"
            ],
            [
             2.5,
             "Shared"
            ],
            [
             2.5,
             "Shared"
            ],
            [
             2.5,
             "Shared"
            ],
            [
             2.5,
             "Shared"
            ],
            [
             2.5,
             "Shared"
            ],
            [
             2.5,
             "Shared"
            ],
            [
             2.5,
             "Shared"
            ],
            [
             2.5,
             "Shared"
            ],
            [
             2.5,
             "Shared"
            ],
            [
             2.5,
             "Shared"
            ],
            [
             2.5,
             "Shared"
            ],
            [
             2.5,
             "Shared"
            ],
            [
             2.5,
             "Shared"
            ],
            [
             2.5,
             "Shared"
            ],
            [
             2.5,
             "Shared"
            ],
            [
             2.5,
             "Shared"
            ],
            [
             2.5,
             "Shared"
            ],
            [
             2.5,
             "Shared"
            ],
            [
             2.5,
             "Shared"
            ],
            [
             2.5,
             "Shared"
            ],
            [
             2.5,
             "Shared"
            ],
            [
             2.5,
             "Shared"
            ],
            [
             2.5,
             "Shared"
            ],
            [
             2.5,
             "Shared"
            ],
            [
             2.5,
             "Shared"
            ],
            [
             2.5,
             "Shared"
            ],
            [
             2.5,
             "Shared"
            ],
            [
             2.5,
             "Shared"
            ],
            [
             2.5,
             "Shared"
            ],
            [
             2.5,
             "Shared"
            ],
            [
             2.5,
             "Shared"
            ],
            [
             2.5,
             "Shared"
            ],
            [
             2.5,
             "Shared"
            ],
            [
             2.5,
             "Shared"
            ],
            [
             2.5,
             "Shared"
            ],
            [
             2.5,
             "Shared"
            ],
            [
             2.5,
             "Shared"
            ],
            [
             2.5,
             "Shared"
            ],
            [
             2.5,
             "Shared"
            ],
            [
             2.5,
             "Shared"
            ],
            [
             2.5,
             "Shared"
            ],
            [
             2.5,
             "Shared"
            ],
            [
             2.5,
             "Shared"
            ],
            [
             2.5,
             "Shared"
            ],
            [
             2.5,
             "Shared"
            ],
            [
             2.5,
             "Shared"
            ],
            [
             2.5,
             "Shared"
            ],
            [
             2.5,
             "Shared"
            ],
            [
             2.5,
             "Shared"
            ],
            [
             2.5,
             "Shared"
            ],
            [
             2.5,
             "Shared"
            ],
            [
             2.5,
             "Shared"
            ],
            [
             2.5,
             "Shared"
            ],
            [
             2.5,
             "Shared"
            ],
            [
             2.5,
             "Shared"
            ],
            [
             2.5,
             "Shared"
            ],
            [
             2.5,
             "Shared"
            ],
            [
             2.5,
             "Shared"
            ],
            [
             2.5,
             "Shared"
            ],
            [
             2.5,
             "Shared"
            ],
            [
             2.5,
             "Shared"
            ],
            [
             2.5,
             "Shared"
            ],
            [
             2.5,
             "Shared"
            ],
            [
             2.5,
             "Shared"
            ],
            [
             2.5,
             "Shared"
            ],
            [
             2.5,
             "Shared"
            ],
            [
             2.5,
             "Shared"
            ],
            [
             2.5,
             "Shared"
            ],
            [
             2.5,
             "Shared"
            ],
            [
             2.5,
             "Shared"
            ],
            [
             2.5,
             "Shared"
            ],
            [
             2.5,
             "Shared"
            ],
            [
             2.5,
             "Shared"
            ],
            [
             2.5,
             "Shared"
            ],
            [
             2.5,
             "Shared"
            ],
            [
             2.5,
             "Shared"
            ],
            [
             2.5,
             "Shared"
            ],
            [
             2.5,
             "Shared"
            ],
            [
             2.5,
             "Shared"
            ],
            [
             2.5,
             "Shared"
            ],
            [
             2.5,
             "Shared"
            ],
            [
             2.5,
             "Shared"
            ],
            [
             2.5,
             "Shared"
            ],
            [
             2.5,
             "Shared"
            ],
            [
             2.5,
             "Shared"
            ],
            [
             2.5,
             "Shared"
            ],
            [
             2.5,
             "Shared"
            ],
            [
             2.5,
             "Shared"
            ],
            [
             2.5,
             "Shared"
            ],
            [
             2.5,
             "Shared"
            ],
            [
             2.5,
             "Shared"
            ],
            [
             2.5,
             "Shared"
            ],
            [
             2.5,
             "Shared"
            ],
            [
             2.5,
             "Shared"
            ],
            [
             2.5,
             "Shared"
            ],
            [
             2.5,
             "Shared"
            ],
            [
             2.5,
             "Shared"
            ],
            [
             2.5,
             "Shared"
            ],
            [
             2.5,
             "Shared"
            ],
            [
             2.5,
             "Shared"
            ],
            [
             2.5,
             "Shared"
            ],
            [
             2.5,
             "Shared"
            ],
            [
             2.5,
             "Shared"
            ],
            [
             2.5,
             "Shared"
            ],
            [
             2.5,
             "Shared"
            ],
            [
             2.5,
             "Shared"
            ],
            [
             2.5,
             "Shared"
            ],
            [
             2.5,
             "Shared"
            ],
            [
             2.5,
             "Shared"
            ],
            [
             2.5,
             "Shared"
            ],
            [
             2.5,
             "Shared"
            ],
            [
             2.5,
             "Shared"
            ],
            [
             2.5,
             "Shared"
            ],
            [
             2.5,
             "Shared"
            ],
            [
             2.5,
             "Shared"
            ],
            [
             2.5,
             "Shared"
            ],
            [
             2.5,
             "Shared"
            ],
            [
             2.5,
             "Shared"
            ],
            [
             2.5,
             "Shared"
            ]
           ],
           "hovertemplate": "cab_type=Lyft<br>distance=%{customdata[0]}<br>source_rain=%{x}<br>price=%{y}<br>name=%{customdata[1]}<extra></extra>",
           "legendgroup": "Lyft",
           "marker": {
            "color": "#FF00BF",
            "symbol": "circle"
           },
           "mode": "markers",
           "name": "Lyft",
           "orientation": "v",
           "showlegend": true,
           "type": "scatter",
           "x": [
            0.008466666666666667,
            0.008466666666666667,
            0.008370833333333333,
            0.007954166666666667,
            0.0087375,
            0.008370833333333333,
            0.008370833333333333,
            0.0052463414634146355,
            0.0052463414634146355,
            0.0006083333333333332,
            0.0003833333333333333,
            7.142857142857143e-05,
            0.0132125,
            0.03728192771084338,
            7.142857142857143e-05,
            7.142857142857143e-05,
            7.142857142857143e-05,
            7.142857142857143e-05,
            7.142857142857143e-05,
            0.0434144578313253,
            0.0434144578313253,
            0.0006083333333333332,
            9.090909090909092e-05,
            0.0045439024390243905,
            0.0007083333333333332,
            0.0007083333333333332,
            0.0007083333333333332,
            0.0052463414634146355,
            8.181818181818183e-05,
            0.012837500000000002,
            0.00195,
            6.106194690265487e-05,
            0.0005166666666666667,
            0.0005166666666666667,
            0.0005166666666666667,
            0.0005166666666666667,
            0.0005166666666666667,
            0.0005166666666666667,
            0.012837500000000002,
            0.002,
            0.008,
            0.008,
            0.008,
            0.008,
            0.008370833333333333,
            0.008,
            0.008,
            0.008,
            0.008,
            6.283185840707964e-05,
            6.283185840707964e-05,
            0.005946341463414635,
            8.333333333333333e-05,
            8.333333333333333e-05,
            0.013000000000000005,
            0.005946341463414635,
            0.014329166666666669,
            0.005946341463414635,
            8.333333333333333e-05,
            6.106194690265487e-05,
            7.142857142857143e-05,
            0.00010357142857142856,
            0.0052463414634146355,
            0.0071756097560975625,
            0.0071756097560975625,
            0.0013642857142857141,
            0.002864285714285714,
            0.002864285714285714,
            0.00010442477876106196,
            0.00010442477876106196,
            0.014566666666666669,
            0.014566666666666669,
            0.014566666666666669,
            0.014566666666666669,
            0.00010442477876106196,
            0.00010442477876106196,
            0.00010176991150442478,
            0.00493170731707317,
            0.0071756097560975625,
            0.04186746987951808,
            0.04186746987951808,
            0.04186746987951808,
            6.106194690265487e-05,
            0.04186746987951808,
            0.04186746987951808,
            0.04186746987951808,
            0.04186746987951808,
            0.04186746987951808,
            0.04186746987951808,
            0.04186746987951808,
            0.04285301204819278,
            0.0004166666666666666,
            0.0004166666666666666,
            9.090909090909092e-05,
            0.0004166666666666666,
            0.0052463414634146355,
            0.0004166666666666666,
            0.0004166666666666666,
            0.0004166666666666666,
            0.0004166666666666666,
            0.0004166666666666666,
            0.00010176991150442478,
            0.00010176991150442478,
            0.0004166666666666666,
            0.04285301204819278,
            0.00010176991150442478,
            0.00010176991150442478,
            0.00010176991150442478,
            0.04285301204819278,
            0.0003750000000000001,
            0.0004166666666666666,
            0.00010176991150442478,
            0.00010176991150442478,
            0.04285301204819278,
            0.0004166666666666666,
            0.00010176991150442478,
            9.090909090909092e-05,
            0.00010176991150442478,
            9.090909090909092e-05,
            9.090909090909092e-05,
            9.090909090909092e-05
           ],
           "xaxis": "x",
           "y": [
            7,
            7,
            7,
            7,
            10.5,
            7,
            9,
            7,
            7,
            7,
            7,
            7,
            7,
            7,
            7,
            11,
            7,
            7,
            7,
            7,
            9,
            7,
            11,
            7,
            9,
            7,
            7,
            7,
            7,
            7,
            7,
            7,
            7,
            7,
            7,
            7,
            7,
            7,
            7,
            9,
            7,
            7,
            7,
            7,
            7,
            7,
            9,
            7,
            3,
            7,
            7,
            7,
            7,
            7,
            7,
            7,
            7,
            5,
            7,
            9,
            3,
            9,
            7,
            7,
            7,
            7,
            7,
            7,
            9,
            7,
            7,
            7,
            7,
            7,
            9,
            9,
            7,
            7,
            7,
            10.5,
            7,
            7,
            7,
            7,
            7,
            3.5,
            7,
            7,
            9,
            3,
            7,
            7,
            7,
            9,
            3,
            3,
            7,
            7,
            5,
            3,
            7,
            7,
            3.5,
            3.5,
            9,
            7,
            7,
            5,
            3.5,
            19.5,
            7,
            9,
            9,
            7,
            7,
            7,
            7,
            7,
            7,
            7,
            3
           ],
           "yaxis": "y"
          }
         ],
         "name": "2.5"
        },
        {
         "data": [
          {
           "customdata": [
            [
             3,
             "UberPool"
            ],
            [
             3,
             "UberPool"
            ],
            [
             3,
             "UberPool"
            ],
            [
             3,
             "UberPool"
            ]
           ],
           "hovertemplate": "cab_type=Uber<br>distance=%{customdata[0]}<br>source_rain=%{x}<br>price=%{y}<br>name=%{customdata[1]}<extra></extra>",
           "legendgroup": "Uber",
           "marker": {
            "color": "#000000",
            "symbol": "circle"
           },
           "mode": "markers",
           "name": "Uber",
           "orientation": "v",
           "showlegend": true,
           "type": "scatter",
           "x": [
            0.0045439024390243905,
            0.0003750000000000001,
            0.03728192771084338,
            4.424778761061947e-05
           ],
           "xaxis": "x",
           "y": [
            11,
            15.5,
            17,
            15.5
           ],
           "yaxis": "y"
          },
          {
           "customdata": [
            [
             3,
             "Shared"
            ],
            [
             3,
             "Shared"
            ],
            [
             3,
             "Shared"
            ],
            [
             3,
             "Shared"
            ],
            [
             3,
             "Shared"
            ],
            [
             3,
             "Shared"
            ],
            [
             3,
             "Shared"
            ],
            [
             3,
             "Shared"
            ],
            [
             3,
             "Shared"
            ],
            [
             3,
             "Shared"
            ],
            [
             3,
             "Shared"
            ],
            [
             3,
             "Shared"
            ],
            [
             3,
             "Shared"
            ],
            [
             3,
             "Shared"
            ],
            [
             3,
             "Shared"
            ],
            [
             3,
             "Shared"
            ],
            [
             3,
             "Shared"
            ],
            [
             3,
             "Shared"
            ],
            [
             3,
             "Shared"
            ],
            [
             3,
             "Shared"
            ],
            [
             3,
             "Shared"
            ],
            [
             3,
             "Shared"
            ],
            [
             3,
             "Shared"
            ],
            [
             3,
             "Shared"
            ],
            [
             3,
             "Shared"
            ],
            [
             3,
             "Shared"
            ],
            [
             3,
             "Shared"
            ],
            [
             3,
             "Shared"
            ],
            [
             3,
             "Shared"
            ],
            [
             3,
             "Shared"
            ],
            [
             3,
             "Shared"
            ],
            [
             3,
             "Shared"
            ],
            [
             3,
             "Shared"
            ],
            [
             3,
             "Shared"
            ],
            [
             3,
             "Shared"
            ],
            [
             3,
             "Shared"
            ],
            [
             3,
             "Shared"
            ],
            [
             3,
             "Shared"
            ],
            [
             3,
             "Shared"
            ],
            [
             3,
             "Shared"
            ],
            [
             3,
             "Shared"
            ],
            [
             3,
             "Shared"
            ],
            [
             3,
             "Shared"
            ],
            [
             3,
             "Shared"
            ],
            [
             3,
             "Shared"
            ],
            [
             3,
             "Shared"
            ],
            [
             3,
             "Shared"
            ],
            [
             3,
             "Shared"
            ],
            [
             3,
             "Shared"
            ],
            [
             3,
             "Shared"
            ],
            [
             3,
             "Shared"
            ],
            [
             3,
             "Shared"
            ],
            [
             3,
             "Shared"
            ],
            [
             3,
             "Shared"
            ],
            [
             3,
             "Shared"
            ],
            [
             3,
             "Shared"
            ],
            [
             3,
             "Shared"
            ],
            [
             3,
             "Shared"
            ],
            [
             3,
             "Shared"
            ],
            [
             3,
             "Shared"
            ],
            [
             3,
             "Shared"
            ],
            [
             3,
             "Shared"
            ],
            [
             3,
             "Shared"
            ],
            [
             3,
             "Shared"
            ],
            [
             3,
             "Shared"
            ],
            [
             3,
             "Shared"
            ],
            [
             3,
             "Shared"
            ],
            [
             3,
             "Shared"
            ],
            [
             3,
             "Shared"
            ],
            [
             3,
             "Shared"
            ],
            [
             3,
             "Shared"
            ],
            [
             3,
             "Shared"
            ],
            [
             3,
             "Shared"
            ],
            [
             3,
             "Shared"
            ],
            [
             3,
             "Shared"
            ],
            [
             3,
             "Shared"
            ],
            [
             3,
             "Shared"
            ],
            [
             3,
             "Shared"
            ],
            [
             3,
             "Shared"
            ],
            [
             3,
             "Shared"
            ],
            [
             3,
             "Shared"
            ],
            [
             3,
             "Shared"
            ],
            [
             3,
             "Shared"
            ],
            [
             3,
             "Shared"
            ],
            [
             3,
             "Shared"
            ],
            [
             3,
             "Shared"
            ],
            [
             3,
             "Shared"
            ],
            [
             3,
             "Shared"
            ],
            [
             3,
             "Shared"
            ],
            [
             3,
             "Shared"
            ],
            [
             3,
             "Shared"
            ],
            [
             3,
             "Shared"
            ],
            [
             3,
             "Shared"
            ],
            [
             3,
             "Shared"
            ],
            [
             3,
             "Shared"
            ],
            [
             3,
             "Shared"
            ],
            [
             3,
             "Shared"
            ],
            [
             3,
             "Shared"
            ],
            [
             3,
             "Shared"
            ],
            [
             3,
             "Shared"
            ],
            [
             3,
             "Shared"
            ],
            [
             3,
             "Shared"
            ],
            [
             3,
             "Shared"
            ],
            [
             3,
             "Shared"
            ],
            [
             3,
             "Shared"
            ],
            [
             3,
             "Shared"
            ],
            [
             3,
             "Shared"
            ],
            [
             3,
             "Shared"
            ],
            [
             3,
             "Shared"
            ],
            [
             3,
             "Shared"
            ],
            [
             3,
             "Shared"
            ],
            [
             3,
             "Shared"
            ],
            [
             3,
             "Shared"
            ],
            [
             3,
             "Shared"
            ],
            [
             3,
             "Shared"
            ],
            [
             3,
             "Shared"
            ],
            [
             3,
             "Shared"
            ],
            [
             3,
             "Shared"
            ],
            [
             3,
             "Shared"
            ],
            [
             3,
             "Shared"
            ],
            [
             3,
             "Shared"
            ],
            [
             3,
             "Shared"
            ],
            [
             3,
             "Shared"
            ],
            [
             3,
             "Shared"
            ],
            [
             3,
             "Shared"
            ],
            [
             3,
             "Shared"
            ],
            [
             3,
             "Shared"
            ],
            [
             3,
             "Shared"
            ],
            [
             3,
             "Shared"
            ],
            [
             3,
             "Shared"
            ],
            [
             3,
             "Shared"
            ],
            [
             3,
             "Shared"
            ],
            [
             3,
             "Shared"
            ],
            [
             3,
             "Shared"
            ],
            [
             3,
             "Shared"
            ],
            [
             3,
             "Shared"
            ],
            [
             3,
             "Shared"
            ],
            [
             3,
             "Shared"
            ],
            [
             3,
             "Shared"
            ],
            [
             3,
             "Shared"
            ],
            [
             3,
             "Shared"
            ],
            [
             3,
             "Shared"
            ],
            [
             3,
             "Shared"
            ]
           ],
           "hovertemplate": "cab_type=Lyft<br>distance=%{customdata[0]}<br>source_rain=%{x}<br>price=%{y}<br>name=%{customdata[1]}<extra></extra>",
           "legendgroup": "Lyft",
           "marker": {
            "color": "#FF00BF",
            "symbol": "circle"
           },
           "mode": "markers",
           "name": "Lyft",
           "orientation": "v",
           "showlegend": true,
           "type": "scatter",
           "x": [
            0.0045439024390243905,
            0.0003642857142857143,
            7.964601769911506e-05,
            0.0003750000000000001,
            0.00012035398230088497,
            0.0003750000000000001,
            0.0003750000000000001,
            0.005607317073170731,
            0.00012035398230088497,
            0.00012035398230088497,
            0.0003750000000000001,
            0.0003750000000000001,
            0.00012035398230088497,
            7.964601769911506e-05,
            0.0003750000000000001,
            7.964601769911506e-05,
            7.964601769911506e-05,
            9.090909090909092e-05,
            0.00035000000000000005,
            0.00035000000000000005,
            0.00035000000000000005,
            0.00012035398230088497,
            0.00035000000000000005,
            0.01355,
            5.132743362831858e-05,
            0.0006374999999999999,
            0.0010857142857142858,
            0.0010857142857142858,
            0.0006374999999999999,
            0.0010857142857142858,
            0.0006374999999999999,
            0.0006374999999999999,
            0.0006374999999999999,
            0.0006374999999999999,
            0.0006374999999999999,
            0.0006374999999999999,
            0.0010857142857142858,
            0.0010857142857142858,
            7.964601769911506e-05,
            0.04091566265060241,
            0.04091566265060241,
            0.0005416666666666668,
            0.0005416666666666668,
            0.0005,
            0.0005,
            0.04091566265060241,
            0.0005,
            0.04091566265060241,
            0.04358915662650602,
            0.04358915662650602,
            0.04358915662650602,
            0.0005,
            0.04358915662650602,
            0.04358915662650602,
            0.04358915662650602,
            7.142857142857143e-05,
            7.142857142857144e-06,
            7.964601769911506e-05,
            0.006778048780487806,
            7.142857142857143e-05,
            0.014941666666666669,
            0.014941666666666669,
            0.01355,
            0.01355,
            0.014941666666666669,
            0.014941666666666669,
            0.014941666666666669,
            0.014941666666666669,
            0.014941666666666669,
            0.0087375,
            0.0129125,
            0.0129125,
            0.0087375,
            7.142857142857144e-06,
            0.008008333333333334,
            0.008008333333333334,
            0.008008333333333334,
            0.0087375,
            0.008008333333333334,
            0.014941666666666669,
            4.424778761061947e-05,
            9.090909090909092e-05,
            9.090909090909092e-05,
            9.090909090909092e-05,
            0.0013642857142857141,
            0.0013642857142857141,
            0.0013642857142857141,
            0.00265,
            0.00265,
            4.424778761061947e-05,
            0.00265,
            7.142857142857144e-06,
            7.142857142857144e-06,
            7.142857142857144e-06,
            7.142857142857144e-06,
            7.142857142857144e-06,
            4.424778761061947e-05,
            0.04091566265060241,
            4.424778761061947e-05,
            0.00265,
            0.008008333333333334,
            0.008008333333333334,
            0.007816666666666668,
            9.090909090909092e-05,
            0.004900000000000001,
            7.142857142857143e-05,
            7.142857142857143e-05,
            0.006778048780487806,
            0.007816666666666668,
            0.006778048780487806,
            7.142857142857143e-05,
            0.006778048780487806,
            0.006778048780487806,
            0.0003708333333333333,
            0.0003708333333333333,
            7.142857142857143e-05,
            7.142857142857143e-05,
            7.142857142857143e-05,
            0.0006374999999999999,
            0.007816666666666668,
            0.007816666666666668,
            7.964601769911506e-05,
            0.00012035398230088497,
            0.00012035398230088497,
            0.00012035398230088497,
            0.00012035398230088497,
            0.00012035398230088497,
            0.004900000000000001,
            0.004900000000000001,
            0.004900000000000001,
            0.004900000000000001,
            0.004900000000000001,
            0.004900000000000001,
            0.004900000000000001,
            0.0003708333333333333,
            9.090909090909092e-05,
            0.03904819277108433,
            7.142857142857144e-06,
            9.090909090909092e-05,
            7.964601769911506e-05,
            7.964601769911506e-05,
            4.424778761061947e-05,
            0.008008333333333334
           ],
           "xaxis": "x",
           "y": [
            9,
            9,
            3,
            9,
            7,
            9,
            7,
            7,
            7,
            7,
            10.5,
            5,
            7,
            7,
            5,
            7,
            7,
            7,
            9,
            13.5,
            5,
            9,
            9,
            7,
            7,
            3.5,
            7,
            7,
            7,
            7,
            7,
            7,
            7,
            7,
            7,
            7,
            7,
            11,
            5,
            5,
            9,
            7,
            7,
            7,
            7,
            3.5,
            7,
            9,
            7,
            7,
            7,
            9,
            7,
            7,
            7,
            5,
            7,
            9,
            7,
            9,
            7,
            7,
            7,
            7,
            7,
            5,
            7,
            7,
            3,
            7,
            11,
            5,
            7,
            9,
            7,
            7,
            7,
            7,
            7,
            7,
            7,
            7,
            7,
            3.5,
            7,
            7,
            9,
            7,
            9,
            7,
            7,
            13.5,
            7,
            7,
            7,
            9,
            7,
            9,
            7,
            11,
            7,
            3,
            7,
            3.5,
            9,
            3.5,
            7,
            10.5,
            3,
            3,
            3,
            7,
            5,
            7,
            7,
            7,
            7,
            7,
            9,
            9,
            13.5,
            10.5,
            7,
            7,
            7,
            7,
            7,
            3,
            7,
            10.5,
            7,
            3.5,
            7,
            9,
            10.5,
            5,
            10.5,
            7,
            5,
            5,
            5,
            7,
            9
           ],
           "yaxis": "y"
          }
         ],
         "name": "3.0"
        }
       ],
       "layout": {
        "legend": {
         "title": {
          "text": "cab_type"
         },
         "tracegroupgap": 0
        },
        "margin": {
         "t": 60
        },
        "sliders": [
         {
          "active": 0,
          "currentvalue": {
           "prefix": "distance="
          },
          "len": 0.9,
          "pad": {
           "b": 10,
           "t": 60
          },
          "steps": [
           {
            "args": [
             [
              "0.5"
             ],
             {
              "frame": {
               "duration": 0,
               "redraw": false
              },
              "fromcurrent": true,
              "mode": "immediate",
              "transition": {
               "duration": 0,
               "easing": "linear"
              }
             }
            ],
            "label": "0.5",
            "method": "animate"
           },
           {
            "args": [
             [
              "1.0"
             ],
             {
              "frame": {
               "duration": 0,
               "redraw": false
              },
              "fromcurrent": true,
              "mode": "immediate",
              "transition": {
               "duration": 0,
               "easing": "linear"
              }
             }
            ],
            "label": "1.0",
            "method": "animate"
           },
           {
            "args": [
             [
              "1.5"
             ],
             {
              "frame": {
               "duration": 0,
               "redraw": false
              },
              "fromcurrent": true,
              "mode": "immediate",
              "transition": {
               "duration": 0,
               "easing": "linear"
              }
             }
            ],
            "label": "1.5",
            "method": "animate"
           },
           {
            "args": [
             [
              "2.0"
             ],
             {
              "frame": {
               "duration": 0,
               "redraw": false
              },
              "fromcurrent": true,
              "mode": "immediate",
              "transition": {
               "duration": 0,
               "easing": "linear"
              }
             }
            ],
            "label": "2.0",
            "method": "animate"
           },
           {
            "args": [
             [
              "2.5"
             ],
             {
              "frame": {
               "duration": 0,
               "redraw": false
              },
              "fromcurrent": true,
              "mode": "immediate",
              "transition": {
               "duration": 0,
               "easing": "linear"
              }
             }
            ],
            "label": "2.5",
            "method": "animate"
           },
           {
            "args": [
             [
              "3.0"
             ],
             {
              "frame": {
               "duration": 0,
               "redraw": false
              },
              "fromcurrent": true,
              "mode": "immediate",
              "transition": {
               "duration": 0,
               "easing": "linear"
              }
             }
            ],
            "label": "3.0",
            "method": "animate"
           }
          ],
          "x": 0.1,
          "xanchor": "left",
          "y": 0,
          "yanchor": "top"
         }
        ],
        "template": {
         "data": {
          "bar": [
           {
            "error_x": {
             "color": "#2a3f5f"
            },
            "error_y": {
             "color": "#2a3f5f"
            },
            "marker": {
             "line": {
              "color": "#E5ECF6",
              "width": 0.5
             }
            },
            "type": "bar"
           }
          ],
          "barpolar": [
           {
            "marker": {
             "line": {
              "color": "#E5ECF6",
              "width": 0.5
             }
            },
            "type": "barpolar"
           }
          ],
          "carpet": [
           {
            "aaxis": {
             "endlinecolor": "#2a3f5f",
             "gridcolor": "white",
             "linecolor": "white",
             "minorgridcolor": "white",
             "startlinecolor": "#2a3f5f"
            },
            "baxis": {
             "endlinecolor": "#2a3f5f",
             "gridcolor": "white",
             "linecolor": "white",
             "minorgridcolor": "white",
             "startlinecolor": "#2a3f5f"
            },
            "type": "carpet"
           }
          ],
          "choropleth": [
           {
            "colorbar": {
             "outlinewidth": 0,
             "ticks": ""
            },
            "type": "choropleth"
           }
          ],
          "contour": [
           {
            "colorbar": {
             "outlinewidth": 0,
             "ticks": ""
            },
            "colorscale": [
             [
              0,
              "#0d0887"
             ],
             [
              0.1111111111111111,
              "#46039f"
             ],
             [
              0.2222222222222222,
              "#7201a8"
             ],
             [
              0.3333333333333333,
              "#9c179e"
             ],
             [
              0.4444444444444444,
              "#bd3786"
             ],
             [
              0.5555555555555556,
              "#d8576b"
             ],
             [
              0.6666666666666666,
              "#ed7953"
             ],
             [
              0.7777777777777778,
              "#fb9f3a"
             ],
             [
              0.8888888888888888,
              "#fdca26"
             ],
             [
              1,
              "#f0f921"
             ]
            ],
            "type": "contour"
           }
          ],
          "contourcarpet": [
           {
            "colorbar": {
             "outlinewidth": 0,
             "ticks": ""
            },
            "type": "contourcarpet"
           }
          ],
          "heatmap": [
           {
            "colorbar": {
             "outlinewidth": 0,
             "ticks": ""
            },
            "colorscale": [
             [
              0,
              "#0d0887"
             ],
             [
              0.1111111111111111,
              "#46039f"
             ],
             [
              0.2222222222222222,
              "#7201a8"
             ],
             [
              0.3333333333333333,
              "#9c179e"
             ],
             [
              0.4444444444444444,
              "#bd3786"
             ],
             [
              0.5555555555555556,
              "#d8576b"
             ],
             [
              0.6666666666666666,
              "#ed7953"
             ],
             [
              0.7777777777777778,
              "#fb9f3a"
             ],
             [
              0.8888888888888888,
              "#fdca26"
             ],
             [
              1,
              "#f0f921"
             ]
            ],
            "type": "heatmap"
           }
          ],
          "heatmapgl": [
           {
            "colorbar": {
             "outlinewidth": 0,
             "ticks": ""
            },
            "colorscale": [
             [
              0,
              "#0d0887"
             ],
             [
              0.1111111111111111,
              "#46039f"
             ],
             [
              0.2222222222222222,
              "#7201a8"
             ],
             [
              0.3333333333333333,
              "#9c179e"
             ],
             [
              0.4444444444444444,
              "#bd3786"
             ],
             [
              0.5555555555555556,
              "#d8576b"
             ],
             [
              0.6666666666666666,
              "#ed7953"
             ],
             [
              0.7777777777777778,
              "#fb9f3a"
             ],
             [
              0.8888888888888888,
              "#fdca26"
             ],
             [
              1,
              "#f0f921"
             ]
            ],
            "type": "heatmapgl"
           }
          ],
          "histogram": [
           {
            "marker": {
             "colorbar": {
              "outlinewidth": 0,
              "ticks": ""
             }
            },
            "type": "histogram"
           }
          ],
          "histogram2d": [
           {
            "colorbar": {
             "outlinewidth": 0,
             "ticks": ""
            },
            "colorscale": [
             [
              0,
              "#0d0887"
             ],
             [
              0.1111111111111111,
              "#46039f"
             ],
             [
              0.2222222222222222,
              "#7201a8"
             ],
             [
              0.3333333333333333,
              "#9c179e"
             ],
             [
              0.4444444444444444,
              "#bd3786"
             ],
             [
              0.5555555555555556,
              "#d8576b"
             ],
             [
              0.6666666666666666,
              "#ed7953"
             ],
             [
              0.7777777777777778,
              "#fb9f3a"
             ],
             [
              0.8888888888888888,
              "#fdca26"
             ],
             [
              1,
              "#f0f921"
             ]
            ],
            "type": "histogram2d"
           }
          ],
          "histogram2dcontour": [
           {
            "colorbar": {
             "outlinewidth": 0,
             "ticks": ""
            },
            "colorscale": [
             [
              0,
              "#0d0887"
             ],
             [
              0.1111111111111111,
              "#46039f"
             ],
             [
              0.2222222222222222,
              "#7201a8"
             ],
             [
              0.3333333333333333,
              "#9c179e"
             ],
             [
              0.4444444444444444,
              "#bd3786"
             ],
             [
              0.5555555555555556,
              "#d8576b"
             ],
             [
              0.6666666666666666,
              "#ed7953"
             ],
             [
              0.7777777777777778,
              "#fb9f3a"
             ],
             [
              0.8888888888888888,
              "#fdca26"
             ],
             [
              1,
              "#f0f921"
             ]
            ],
            "type": "histogram2dcontour"
           }
          ],
          "mesh3d": [
           {
            "colorbar": {
             "outlinewidth": 0,
             "ticks": ""
            },
            "type": "mesh3d"
           }
          ],
          "parcoords": [
           {
            "line": {
             "colorbar": {
              "outlinewidth": 0,
              "ticks": ""
             }
            },
            "type": "parcoords"
           }
          ],
          "pie": [
           {
            "automargin": true,
            "type": "pie"
           }
          ],
          "scatter": [
           {
            "marker": {
             "colorbar": {
              "outlinewidth": 0,
              "ticks": ""
             }
            },
            "type": "scatter"
           }
          ],
          "scatter3d": [
           {
            "line": {
             "colorbar": {
              "outlinewidth": 0,
              "ticks": ""
             }
            },
            "marker": {
             "colorbar": {
              "outlinewidth": 0,
              "ticks": ""
             }
            },
            "type": "scatter3d"
           }
          ],
          "scattercarpet": [
           {
            "marker": {
             "colorbar": {
              "outlinewidth": 0,
              "ticks": ""
             }
            },
            "type": "scattercarpet"
           }
          ],
          "scattergeo": [
           {
            "marker": {
             "colorbar": {
              "outlinewidth": 0,
              "ticks": ""
             }
            },
            "type": "scattergeo"
           }
          ],
          "scattergl": [
           {
            "marker": {
             "colorbar": {
              "outlinewidth": 0,
              "ticks": ""
             }
            },
            "type": "scattergl"
           }
          ],
          "scattermapbox": [
           {
            "marker": {
             "colorbar": {
              "outlinewidth": 0,
              "ticks": ""
             }
            },
            "type": "scattermapbox"
           }
          ],
          "scatterpolar": [
           {
            "marker": {
             "colorbar": {
              "outlinewidth": 0,
              "ticks": ""
             }
            },
            "type": "scatterpolar"
           }
          ],
          "scatterpolargl": [
           {
            "marker": {
             "colorbar": {
              "outlinewidth": 0,
              "ticks": ""
             }
            },
            "type": "scatterpolargl"
           }
          ],
          "scatterternary": [
           {
            "marker": {
             "colorbar": {
              "outlinewidth": 0,
              "ticks": ""
             }
            },
            "type": "scatterternary"
           }
          ],
          "surface": [
           {
            "colorbar": {
             "outlinewidth": 0,
             "ticks": ""
            },
            "colorscale": [
             [
              0,
              "#0d0887"
             ],
             [
              0.1111111111111111,
              "#46039f"
             ],
             [
              0.2222222222222222,
              "#7201a8"
             ],
             [
              0.3333333333333333,
              "#9c179e"
             ],
             [
              0.4444444444444444,
              "#bd3786"
             ],
             [
              0.5555555555555556,
              "#d8576b"
             ],
             [
              0.6666666666666666,
              "#ed7953"
             ],
             [
              0.7777777777777778,
              "#fb9f3a"
             ],
             [
              0.8888888888888888,
              "#fdca26"
             ],
             [
              1,
              "#f0f921"
             ]
            ],
            "type": "surface"
           }
          ],
          "table": [
           {
            "cells": {
             "fill": {
              "color": "#EBF0F8"
             },
             "line": {
              "color": "white"
             }
            },
            "header": {
             "fill": {
              "color": "#C8D4E3"
             },
             "line": {
              "color": "white"
             }
            },
            "type": "table"
           }
          ]
         },
         "layout": {
          "annotationdefaults": {
           "arrowcolor": "#2a3f5f",
           "arrowhead": 0,
           "arrowwidth": 1
          },
          "autotypenumbers": "strict",
          "coloraxis": {
           "colorbar": {
            "outlinewidth": 0,
            "ticks": ""
           }
          },
          "colorscale": {
           "diverging": [
            [
             0,
             "#8e0152"
            ],
            [
             0.1,
             "#c51b7d"
            ],
            [
             0.2,
             "#de77ae"
            ],
            [
             0.3,
             "#f1b6da"
            ],
            [
             0.4,
             "#fde0ef"
            ],
            [
             0.5,
             "#f7f7f7"
            ],
            [
             0.6,
             "#e6f5d0"
            ],
            [
             0.7,
             "#b8e186"
            ],
            [
             0.8,
             "#7fbc41"
            ],
            [
             0.9,
             "#4d9221"
            ],
            [
             1,
             "#276419"
            ]
           ],
           "sequential": [
            [
             0,
             "#0d0887"
            ],
            [
             0.1111111111111111,
             "#46039f"
            ],
            [
             0.2222222222222222,
             "#7201a8"
            ],
            [
             0.3333333333333333,
             "#9c179e"
            ],
            [
             0.4444444444444444,
             "#bd3786"
            ],
            [
             0.5555555555555556,
             "#d8576b"
            ],
            [
             0.6666666666666666,
             "#ed7953"
            ],
            [
             0.7777777777777778,
             "#fb9f3a"
            ],
            [
             0.8888888888888888,
             "#fdca26"
            ],
            [
             1,
             "#f0f921"
            ]
           ],
           "sequentialminus": [
            [
             0,
             "#0d0887"
            ],
            [
             0.1111111111111111,
             "#46039f"
            ],
            [
             0.2222222222222222,
             "#7201a8"
            ],
            [
             0.3333333333333333,
             "#9c179e"
            ],
            [
             0.4444444444444444,
             "#bd3786"
            ],
            [
             0.5555555555555556,
             "#d8576b"
            ],
            [
             0.6666666666666666,
             "#ed7953"
            ],
            [
             0.7777777777777778,
             "#fb9f3a"
            ],
            [
             0.8888888888888888,
             "#fdca26"
            ],
            [
             1,
             "#f0f921"
            ]
           ]
          },
          "colorway": [
           "#636efa",
           "#EF553B",
           "#00cc96",
           "#ab63fa",
           "#FFA15A",
           "#19d3f3",
           "#FF6692",
           "#B6E880",
           "#FF97FF",
           "#FECB52"
          ],
          "font": {
           "color": "#2a3f5f"
          },
          "geo": {
           "bgcolor": "white",
           "lakecolor": "white",
           "landcolor": "#E5ECF6",
           "showlakes": true,
           "showland": true,
           "subunitcolor": "white"
          },
          "hoverlabel": {
           "align": "left"
          },
          "hovermode": "closest",
          "mapbox": {
           "style": "light"
          },
          "paper_bgcolor": "white",
          "plot_bgcolor": "#E5ECF6",
          "polar": {
           "angularaxis": {
            "gridcolor": "white",
            "linecolor": "white",
            "ticks": ""
           },
           "bgcolor": "#E5ECF6",
           "radialaxis": {
            "gridcolor": "white",
            "linecolor": "white",
            "ticks": ""
           }
          },
          "scene": {
           "xaxis": {
            "backgroundcolor": "#E5ECF6",
            "gridcolor": "white",
            "gridwidth": 2,
            "linecolor": "white",
            "showbackground": true,
            "ticks": "",
            "zerolinecolor": "white"
           },
           "yaxis": {
            "backgroundcolor": "#E5ECF6",
            "gridcolor": "white",
            "gridwidth": 2,
            "linecolor": "white",
            "showbackground": true,
            "ticks": "",
            "zerolinecolor": "white"
           },
           "zaxis": {
            "backgroundcolor": "#E5ECF6",
            "gridcolor": "white",
            "gridwidth": 2,
            "linecolor": "white",
            "showbackground": true,
            "ticks": "",
            "zerolinecolor": "white"
           }
          },
          "shapedefaults": {
           "line": {
            "color": "#2a3f5f"
           }
          },
          "ternary": {
           "aaxis": {
            "gridcolor": "white",
            "linecolor": "white",
            "ticks": ""
           },
           "baxis": {
            "gridcolor": "white",
            "linecolor": "white",
            "ticks": ""
           },
           "bgcolor": "#E5ECF6",
           "caxis": {
            "gridcolor": "white",
            "linecolor": "white",
            "ticks": ""
           }
          },
          "title": {
           "x": 0.05
          },
          "xaxis": {
           "automargin": true,
           "gridcolor": "white",
           "linecolor": "white",
           "ticks": "",
           "title": {
            "standoff": 15
           },
           "zerolinecolor": "white",
           "zerolinewidth": 2
          },
          "yaxis": {
           "automargin": true,
           "gridcolor": "white",
           "linecolor": "white",
           "ticks": "",
           "title": {
            "standoff": 15
           },
           "zerolinecolor": "white",
           "zerolinewidth": 2
          }
         }
        },
        "xaxis": {
         "anchor": "y",
         "domain": [
          0,
          1
         ],
         "title": {
          "text": "source_rain"
         }
        },
        "yaxis": {
         "anchor": "x",
         "domain": [
          0,
          1
         ],
         "title": {
          "text": "price"
         }
        }
       }
      },
      "text/html": [
       "<div>                            <div id=\"91ffecfd-9461-4f5d-a945-cd57885398d8\" class=\"plotly-graph-div\" style=\"height:525px; width:100%;\"></div>            <script type=\"text/javascript\">                require([\"plotly\"], function(Plotly) {                    window.PLOTLYENV=window.PLOTLYENV || {};                                    if (document.getElementById(\"91ffecfd-9461-4f5d-a945-cd57885398d8\")) {                    Plotly.newPlot(                        \"91ffecfd-9461-4f5d-a945-cd57885398d8\",                        [{\"customdata\": [[0.5, \"UberPool\"], [0.5, \"UberPool\"]], \"hovertemplate\": \"cab_type=Uber<br>distance=%{customdata[0]}<br>source_rain=%{x}<br>price=%{y}<br>name=%{customdata[1]}<extra></extra>\", \"legendgroup\": \"Uber\", \"marker\": {\"color\": \"#000000\", \"symbol\": \"circle\"}, \"mode\": \"markers\", \"name\": \"Uber\", \"orientation\": \"v\", \"showlegend\": true, \"type\": \"scatter\", \"x\": [0.014620833333333331, 7.142857142857143e-05], \"xaxis\": \"x\", \"y\": [6.5, 6.5], \"yaxis\": \"y\"}, {\"customdata\": [[0.5, \"Shared\"], [0.5, \"Shared\"], [0.5, \"Shared\"], [0.5, \"Shared\"], [0.5, \"Shared\"], [0.5, \"Shared\"], [0.5, \"Shared\"], [0.5, \"Shared\"], [0.5, \"Shared\"], [0.5, \"Shared\"], [0.5, \"Shared\"]], \"hovertemplate\": \"cab_type=Lyft<br>distance=%{customdata[0]}<br>source_rain=%{x}<br>price=%{y}<br>name=%{customdata[1]}<extra></extra>\", \"legendgroup\": \"Lyft\", \"marker\": {\"color\": \"#FF00BF\", \"symbol\": \"circle\"}, \"mode\": \"markers\", \"name\": \"Lyft\", \"orientation\": \"v\", \"showlegend\": true, \"type\": \"scatter\", \"x\": [7.142857142857143e-05, 5.486725663716815e-05, 7.142857142857143e-05, 0.0004708333333333334, 0.0007083333333333332, 0.013583333333333336, 0.013583333333333336, 0.0004708333333333334, 0.0057268292682926825, 0.0057268292682926825, 8.181818181818183e-05], \"xaxis\": \"x\", \"y\": [5.0, 5.0, 5.0, 5.0, 5.0, 5.0, 3.5, 5.0, 5.0, 5.0, 5.0], \"yaxis\": \"y\"}],                        {\"legend\": {\"title\": {\"text\": \"cab_type\"}, \"tracegroupgap\": 0}, \"margin\": {\"t\": 60}, \"sliders\": [{\"active\": 0, \"currentvalue\": {\"prefix\": \"distance=\"}, \"len\": 0.9, \"pad\": {\"b\": 10, \"t\": 60}, \"steps\": [{\"args\": [[\"0.5\"], {\"frame\": {\"duration\": 0, \"redraw\": false}, \"fromcurrent\": true, \"mode\": \"immediate\", \"transition\": {\"duration\": 0, \"easing\": \"linear\"}}], \"label\": \"0.5\", \"method\": \"animate\"}, {\"args\": [[\"1.0\"], {\"frame\": {\"duration\": 0, \"redraw\": false}, \"fromcurrent\": true, \"mode\": \"immediate\", \"transition\": {\"duration\": 0, \"easing\": \"linear\"}}], \"label\": \"1.0\", \"method\": \"animate\"}, {\"args\": [[\"1.5\"], {\"frame\": {\"duration\": 0, \"redraw\": false}, \"fromcurrent\": true, \"mode\": \"immediate\", \"transition\": {\"duration\": 0, \"easing\": \"linear\"}}], \"label\": \"1.5\", \"method\": \"animate\"}, {\"args\": [[\"2.0\"], {\"frame\": {\"duration\": 0, \"redraw\": false}, \"fromcurrent\": true, \"mode\": \"immediate\", \"transition\": {\"duration\": 0, \"easing\": \"linear\"}}], \"label\": \"2.0\", \"method\": \"animate\"}, {\"args\": [[\"2.5\"], {\"frame\": {\"duration\": 0, \"redraw\": false}, \"fromcurrent\": true, \"mode\": \"immediate\", \"transition\": {\"duration\": 0, \"easing\": \"linear\"}}], \"label\": \"2.5\", \"method\": \"animate\"}, {\"args\": [[\"3.0\"], {\"frame\": {\"duration\": 0, \"redraw\": false}, \"fromcurrent\": true, \"mode\": \"immediate\", \"transition\": {\"duration\": 0, \"easing\": \"linear\"}}], \"label\": \"3.0\", \"method\": \"animate\"}], \"x\": 0.1, \"xanchor\": \"left\", \"y\": 0, \"yanchor\": \"top\"}], \"template\": {\"data\": {\"bar\": [{\"error_x\": {\"color\": \"#2a3f5f\"}, \"error_y\": {\"color\": \"#2a3f5f\"}, \"marker\": {\"line\": {\"color\": \"#E5ECF6\", \"width\": 0.5}}, \"type\": \"bar\"}], \"barpolar\": [{\"marker\": {\"line\": {\"color\": \"#E5ECF6\", \"width\": 0.5}}, \"type\": \"barpolar\"}], \"carpet\": [{\"aaxis\": {\"endlinecolor\": \"#2a3f5f\", \"gridcolor\": \"white\", \"linecolor\": \"white\", \"minorgridcolor\": \"white\", \"startlinecolor\": \"#2a3f5f\"}, \"baxis\": {\"endlinecolor\": \"#2a3f5f\", \"gridcolor\": \"white\", \"linecolor\": \"white\", \"minorgridcolor\": \"white\", \"startlinecolor\": \"#2a3f5f\"}, \"type\": \"carpet\"}], \"choropleth\": [{\"colorbar\": {\"outlinewidth\": 0, \"ticks\": \"\"}, \"type\": \"choropleth\"}], \"contour\": [{\"colorbar\": {\"outlinewidth\": 0, \"ticks\": \"\"}, \"colorscale\": [[0.0, \"#0d0887\"], [0.1111111111111111, \"#46039f\"], [0.2222222222222222, \"#7201a8\"], [0.3333333333333333, \"#9c179e\"], [0.4444444444444444, \"#bd3786\"], [0.5555555555555556, \"#d8576b\"], [0.6666666666666666, \"#ed7953\"], [0.7777777777777778, \"#fb9f3a\"], [0.8888888888888888, \"#fdca26\"], [1.0, \"#f0f921\"]], \"type\": \"contour\"}], \"contourcarpet\": [{\"colorbar\": {\"outlinewidth\": 0, \"ticks\": \"\"}, \"type\": \"contourcarpet\"}], \"heatmap\": [{\"colorbar\": {\"outlinewidth\": 0, \"ticks\": \"\"}, \"colorscale\": [[0.0, \"#0d0887\"], [0.1111111111111111, \"#46039f\"], [0.2222222222222222, \"#7201a8\"], [0.3333333333333333, \"#9c179e\"], [0.4444444444444444, \"#bd3786\"], [0.5555555555555556, \"#d8576b\"], [0.6666666666666666, \"#ed7953\"], [0.7777777777777778, \"#fb9f3a\"], [0.8888888888888888, \"#fdca26\"], [1.0, \"#f0f921\"]], \"type\": \"heatmap\"}], \"heatmapgl\": [{\"colorbar\": {\"outlinewidth\": 0, \"ticks\": \"\"}, \"colorscale\": [[0.0, \"#0d0887\"], [0.1111111111111111, \"#46039f\"], [0.2222222222222222, \"#7201a8\"], [0.3333333333333333, \"#9c179e\"], [0.4444444444444444, \"#bd3786\"], [0.5555555555555556, \"#d8576b\"], [0.6666666666666666, \"#ed7953\"], [0.7777777777777778, \"#fb9f3a\"], [0.8888888888888888, \"#fdca26\"], [1.0, \"#f0f921\"]], \"type\": \"heatmapgl\"}], \"histogram\": [{\"marker\": {\"colorbar\": {\"outlinewidth\": 0, \"ticks\": \"\"}}, \"type\": \"histogram\"}], \"histogram2d\": [{\"colorbar\": {\"outlinewidth\": 0, \"ticks\": \"\"}, \"colorscale\": [[0.0, \"#0d0887\"], [0.1111111111111111, \"#46039f\"], [0.2222222222222222, \"#7201a8\"], [0.3333333333333333, \"#9c179e\"], [0.4444444444444444, \"#bd3786\"], [0.5555555555555556, \"#d8576b\"], [0.6666666666666666, \"#ed7953\"], [0.7777777777777778, \"#fb9f3a\"], [0.8888888888888888, \"#fdca26\"], [1.0, \"#f0f921\"]], \"type\": \"histogram2d\"}], \"histogram2dcontour\": [{\"colorbar\": {\"outlinewidth\": 0, \"ticks\": \"\"}, \"colorscale\": [[0.0, \"#0d0887\"], [0.1111111111111111, \"#46039f\"], [0.2222222222222222, \"#7201a8\"], [0.3333333333333333, \"#9c179e\"], [0.4444444444444444, \"#bd3786\"], [0.5555555555555556, \"#d8576b\"], [0.6666666666666666, \"#ed7953\"], [0.7777777777777778, \"#fb9f3a\"], [0.8888888888888888, \"#fdca26\"], [1.0, \"#f0f921\"]], \"type\": \"histogram2dcontour\"}], \"mesh3d\": [{\"colorbar\": {\"outlinewidth\": 0, \"ticks\": \"\"}, \"type\": \"mesh3d\"}], \"parcoords\": [{\"line\": {\"colorbar\": {\"outlinewidth\": 0, \"ticks\": \"\"}}, \"type\": \"parcoords\"}], \"pie\": [{\"automargin\": true, \"type\": \"pie\"}], \"scatter\": [{\"marker\": {\"colorbar\": {\"outlinewidth\": 0, \"ticks\": \"\"}}, \"type\": \"scatter\"}], \"scatter3d\": [{\"line\": {\"colorbar\": {\"outlinewidth\": 0, \"ticks\": \"\"}}, \"marker\": {\"colorbar\": {\"outlinewidth\": 0, \"ticks\": \"\"}}, \"type\": \"scatter3d\"}], \"scattercarpet\": [{\"marker\": {\"colorbar\": {\"outlinewidth\": 0, \"ticks\": \"\"}}, \"type\": \"scattercarpet\"}], \"scattergeo\": [{\"marker\": {\"colorbar\": {\"outlinewidth\": 0, \"ticks\": \"\"}}, \"type\": \"scattergeo\"}], \"scattergl\": [{\"marker\": {\"colorbar\": {\"outlinewidth\": 0, \"ticks\": \"\"}}, \"type\": \"scattergl\"}], \"scattermapbox\": [{\"marker\": {\"colorbar\": {\"outlinewidth\": 0, \"ticks\": \"\"}}, \"type\": \"scattermapbox\"}], \"scatterpolar\": [{\"marker\": {\"colorbar\": {\"outlinewidth\": 0, \"ticks\": \"\"}}, \"type\": \"scatterpolar\"}], \"scatterpolargl\": [{\"marker\": {\"colorbar\": {\"outlinewidth\": 0, \"ticks\": \"\"}}, \"type\": \"scatterpolargl\"}], \"scatterternary\": [{\"marker\": {\"colorbar\": {\"outlinewidth\": 0, \"ticks\": \"\"}}, \"type\": \"scatterternary\"}], \"surface\": [{\"colorbar\": {\"outlinewidth\": 0, \"ticks\": \"\"}, \"colorscale\": [[0.0, \"#0d0887\"], [0.1111111111111111, \"#46039f\"], [0.2222222222222222, \"#7201a8\"], [0.3333333333333333, \"#9c179e\"], [0.4444444444444444, \"#bd3786\"], [0.5555555555555556, \"#d8576b\"], [0.6666666666666666, \"#ed7953\"], [0.7777777777777778, \"#fb9f3a\"], [0.8888888888888888, \"#fdca26\"], [1.0, \"#f0f921\"]], \"type\": \"surface\"}], \"table\": [{\"cells\": {\"fill\": {\"color\": \"#EBF0F8\"}, \"line\": {\"color\": \"white\"}}, \"header\": {\"fill\": {\"color\": \"#C8D4E3\"}, \"line\": {\"color\": \"white\"}}, \"type\": \"table\"}]}, \"layout\": {\"annotationdefaults\": {\"arrowcolor\": \"#2a3f5f\", \"arrowhead\": 0, \"arrowwidth\": 1}, \"autotypenumbers\": \"strict\", \"coloraxis\": {\"colorbar\": {\"outlinewidth\": 0, \"ticks\": \"\"}}, \"colorscale\": {\"diverging\": [[0, \"#8e0152\"], [0.1, \"#c51b7d\"], [0.2, \"#de77ae\"], [0.3, \"#f1b6da\"], [0.4, \"#fde0ef\"], [0.5, \"#f7f7f7\"], [0.6, \"#e6f5d0\"], [0.7, \"#b8e186\"], [0.8, \"#7fbc41\"], [0.9, \"#4d9221\"], [1, \"#276419\"]], \"sequential\": [[0.0, \"#0d0887\"], [0.1111111111111111, \"#46039f\"], [0.2222222222222222, \"#7201a8\"], [0.3333333333333333, \"#9c179e\"], [0.4444444444444444, \"#bd3786\"], [0.5555555555555556, \"#d8576b\"], [0.6666666666666666, \"#ed7953\"], [0.7777777777777778, \"#fb9f3a\"], [0.8888888888888888, \"#fdca26\"], [1.0, \"#f0f921\"]], \"sequentialminus\": [[0.0, \"#0d0887\"], [0.1111111111111111, \"#46039f\"], [0.2222222222222222, \"#7201a8\"], [0.3333333333333333, \"#9c179e\"], [0.4444444444444444, \"#bd3786\"], [0.5555555555555556, \"#d8576b\"], [0.6666666666666666, \"#ed7953\"], [0.7777777777777778, \"#fb9f3a\"], [0.8888888888888888, \"#fdca26\"], [1.0, \"#f0f921\"]]}, \"colorway\": [\"#636efa\", \"#EF553B\", \"#00cc96\", \"#ab63fa\", \"#FFA15A\", \"#19d3f3\", \"#FF6692\", \"#B6E880\", \"#FF97FF\", \"#FECB52\"], \"font\": {\"color\": \"#2a3f5f\"}, \"geo\": {\"bgcolor\": \"white\", \"lakecolor\": \"white\", \"landcolor\": \"#E5ECF6\", \"showlakes\": true, \"showland\": true, \"subunitcolor\": \"white\"}, \"hoverlabel\": {\"align\": \"left\"}, \"hovermode\": \"closest\", \"mapbox\": {\"style\": \"light\"}, \"paper_bgcolor\": \"white\", \"plot_bgcolor\": \"#E5ECF6\", \"polar\": {\"angularaxis\": {\"gridcolor\": \"white\", \"linecolor\": \"white\", \"ticks\": \"\"}, \"bgcolor\": \"#E5ECF6\", \"radialaxis\": {\"gridcolor\": \"white\", \"linecolor\": \"white\", \"ticks\": \"\"}}, \"scene\": {\"xaxis\": {\"backgroundcolor\": \"#E5ECF6\", \"gridcolor\": \"white\", \"gridwidth\": 2, \"linecolor\": \"white\", \"showbackground\": true, \"ticks\": \"\", \"zerolinecolor\": \"white\"}, \"yaxis\": {\"backgroundcolor\": \"#E5ECF6\", \"gridcolor\": \"white\", \"gridwidth\": 2, \"linecolor\": \"white\", \"showbackground\": true, \"ticks\": \"\", \"zerolinecolor\": \"white\"}, \"zaxis\": {\"backgroundcolor\": \"#E5ECF6\", \"gridcolor\": \"white\", \"gridwidth\": 2, \"linecolor\": \"white\", \"showbackground\": true, \"ticks\": \"\", \"zerolinecolor\": \"white\"}}, \"shapedefaults\": {\"line\": {\"color\": \"#2a3f5f\"}}, \"ternary\": {\"aaxis\": {\"gridcolor\": \"white\", \"linecolor\": \"white\", \"ticks\": \"\"}, \"baxis\": {\"gridcolor\": \"white\", \"linecolor\": \"white\", \"ticks\": \"\"}, \"bgcolor\": \"#E5ECF6\", \"caxis\": {\"gridcolor\": \"white\", \"linecolor\": \"white\", \"ticks\": \"\"}}, \"title\": {\"x\": 0.05}, \"xaxis\": {\"automargin\": true, \"gridcolor\": \"white\", \"linecolor\": \"white\", \"ticks\": \"\", \"title\": {\"standoff\": 15}, \"zerolinecolor\": \"white\", \"zerolinewidth\": 2}, \"yaxis\": {\"automargin\": true, \"gridcolor\": \"white\", \"linecolor\": \"white\", \"ticks\": \"\", \"title\": {\"standoff\": 15}, \"zerolinecolor\": \"white\", \"zerolinewidth\": 2}}}, \"xaxis\": {\"anchor\": \"y\", \"domain\": [0.0, 1.0], \"title\": {\"text\": \"source_rain\"}}, \"yaxis\": {\"anchor\": \"x\", \"domain\": [0.0, 1.0], \"title\": {\"text\": \"price\"}}},                        {\"responsive\": true}                    ).then(function(){\n",
       "                            Plotly.addFrames('91ffecfd-9461-4f5d-a945-cd57885398d8', [{\"data\": [{\"customdata\": [[0.5, \"UberPool\"], [0.5, \"UberPool\"]], \"hovertemplate\": \"cab_type=Uber<br>distance=%{customdata[0]}<br>source_rain=%{x}<br>price=%{y}<br>name=%{customdata[1]}<extra></extra>\", \"legendgroup\": \"Uber\", \"marker\": {\"color\": \"#000000\", \"symbol\": \"circle\"}, \"mode\": \"markers\", \"name\": \"Uber\", \"orientation\": \"v\", \"showlegend\": true, \"x\": [0.014620833333333331, 7.142857142857143e-05], \"xaxis\": \"x\", \"y\": [6.5, 6.5], \"yaxis\": \"y\", \"type\": \"scatter\"}, {\"customdata\": [[0.5, \"Shared\"], [0.5, \"Shared\"], [0.5, \"Shared\"], [0.5, \"Shared\"], [0.5, \"Shared\"], [0.5, \"Shared\"], [0.5, \"Shared\"], [0.5, \"Shared\"], [0.5, \"Shared\"], [0.5, \"Shared\"], [0.5, \"Shared\"]], \"hovertemplate\": \"cab_type=Lyft<br>distance=%{customdata[0]}<br>source_rain=%{x}<br>price=%{y}<br>name=%{customdata[1]}<extra></extra>\", \"legendgroup\": \"Lyft\", \"marker\": {\"color\": \"#FF00BF\", \"symbol\": \"circle\"}, \"mode\": \"markers\", \"name\": \"Lyft\", \"orientation\": \"v\", \"showlegend\": true, \"x\": [7.142857142857143e-05, 5.486725663716815e-05, 7.142857142857143e-05, 0.0004708333333333334, 0.0007083333333333332, 0.013583333333333336, 0.013583333333333336, 0.0004708333333333334, 0.0057268292682926825, 0.0057268292682926825, 8.181818181818183e-05], \"xaxis\": \"x\", \"y\": [5.0, 5.0, 5.0, 5.0, 5.0, 5.0, 3.5, 5.0, 5.0, 5.0, 5.0], \"yaxis\": \"y\", \"type\": \"scatter\"}], \"name\": \"0.5\"}, {\"data\": [{\"customdata\": [[1.0, \"UberPool\"], [1.0, \"UberPool\"], [1.0, \"UberPool\"], [1.0, \"UberPool\"], [1.0, \"UberPool\"], [1.0, \"UberPool\"], [1.0, \"UberPool\"], [1.0, \"UberPool\"], [1.0, \"UberPool\"], [1.0, \"UberPool\"], [1.0, \"UberPool\"], [1.0, \"UberPool\"], [1.0, \"UberPool\"], [1.0, \"UberPool\"], [1.0, \"UberPool\"], [1.0, \"UberPool\"], [1.0, \"UberPool\"], [1.0, \"UberPool\"], [1.0, \"UberPool\"], [1.0, \"UberPool\"], [1.0, \"UberPool\"], [1.0, \"UberPool\"], [1.0, \"UberPool\"], [1.0, \"UberPool\"], [1.0, \"UberPool\"], [1.0, \"UberPool\"], [1.0, \"UberPool\"], [1.0, \"UberPool\"], [1.0, \"UberPool\"], [1.0, \"UberPool\"], [1.0, \"UberPool\"], [1.0, \"UberPool\"], [1.0, \"UberPool\"], [1.0, \"UberPool\"], [1.0, \"UberPool\"], [1.0, \"UberPool\"], [1.0, \"UberPool\"], [1.0, \"UberPool\"], [1.0, \"UberPool\"], [1.0, \"UberPool\"], [1.0, \"UberPool\"], [1.0, \"UberPool\"], [1.0, \"UberPool\"], [1.0, \"UberPool\"], [1.0, \"UberPool\"], [1.0, \"UberPool\"], [1.0, \"UberPool\"], [1.0, \"UberPool\"], [1.0, \"UberPool\"], [1.0, \"UberPool\"], [1.0, \"UberPool\"], [1.0, \"UberPool\"], [1.0, \"UberPool\"], [1.0, \"UberPool\"], [1.0, \"UberPool\"], [1.0, \"UberPool\"], [1.0, \"UberPool\"], [1.0, \"UberPool\"], [1.0, \"UberPool\"], [1.0, \"UberPool\"], [1.0, \"UberPool\"], [1.0, \"UberPool\"], [1.0, \"UberPool\"], [1.0, \"UberPool\"], [1.0, \"UberPool\"], [1.0, \"UberPool\"], [1.0, \"UberPool\"], [1.0, \"UberPool\"], [1.0, \"UberPool\"], [1.0, \"UberPool\"], [1.0, \"UberPool\"], [1.0, \"UberPool\"], [1.0, \"UberPool\"], [1.0, \"UberPool\"], [1.0, \"UberPool\"], [1.0, \"UberPool\"], [1.0, \"UberPool\"], [1.0, \"UberPool\"], [1.0, \"UberPool\"], [1.0, \"UberPool\"], [1.0, \"UberPool\"], [1.0, \"UberPool\"], [1.0, \"UberPool\"], [1.0, \"UberPool\"], [1.0, \"UberPool\"], [1.0, \"UberPool\"], [1.0, \"UberPool\"], [1.0, \"UberPool\"], [1.0, \"UberPool\"], [1.0, \"UberPool\"], [1.0, \"UberPool\"], [1.0, \"UberPool\"], [1.0, \"UberPool\"], [1.0, \"UberPool\"], [1.0, \"UberPool\"], [1.0, \"UberPool\"], [1.0, \"UberPool\"], [1.0, \"UberPool\"], [1.0, \"UberPool\"], [1.0, \"UberPool\"], [1.0, \"UberPool\"], [1.0, \"UberPool\"], [1.0, \"UberPool\"], [1.0, \"UberPool\"], [1.0, \"UberPool\"], [1.0, \"UberPool\"], [1.0, \"UberPool\"], [1.0, \"UberPool\"], [1.0, \"UberPool\"], [1.0, \"UberPool\"], [1.0, \"UberPool\"], [1.0, \"UberPool\"], [1.0, \"UberPool\"], [1.0, \"UberPool\"], [1.0, \"UberPool\"], [1.0, \"UberPool\"], [1.0, \"UberPool\"], [1.0, \"UberPool\"], [1.0, \"UberPool\"], [1.0, \"UberPool\"], [1.0, \"UberPool\"], [1.0, \"UberPool\"], [1.0, \"UberPool\"], [1.0, \"UberPool\"], [1.0, \"UberPool\"], [1.0, \"UberPool\"], [1.0, \"UberPool\"], [1.0, \"UberPool\"], [1.0, \"UberPool\"], [1.0, \"UberPool\"], [1.0, \"UberPool\"], [1.0, \"UberPool\"], [1.0, \"UberPool\"], [1.0, \"UberPool\"], [1.0, \"UberPool\"], [1.0, \"UberPool\"], [1.0, \"UberPool\"], [1.0, \"UberPool\"], [1.0, \"UberPool\"], [1.0, \"UberPool\"], [1.0, \"UberPool\"], [1.0, \"UberPool\"], [1.0, \"UberPool\"], [1.0, \"UberPool\"], [1.0, \"UberPool\"], [1.0, \"UberPool\"], [1.0, \"UberPool\"], [1.0, \"UberPool\"], [1.0, \"UberPool\"], [1.0, \"UberPool\"], [1.0, \"UberPool\"], [1.0, \"UberPool\"], [1.0, \"UberPool\"], [1.0, \"UberPool\"], [1.0, \"UberPool\"], [1.0, \"UberPool\"], [1.0, \"UberPool\"], [1.0, \"UberPool\"], [1.0, \"UberPool\"], [1.0, \"UberPool\"], [1.0, \"UberPool\"], [1.0, \"UberPool\"], [1.0, \"UberPool\"], [1.0, \"UberPool\"], [1.0, \"UberPool\"], [1.0, \"UberPool\"], [1.0, \"UberPool\"], [1.0, \"UberPool\"], [1.0, \"UberPool\"], [1.0, \"UberPool\"], [1.0, \"UberPool\"], [1.0, \"UberPool\"], [1.0, \"UberPool\"], [1.0, \"UberPool\"], [1.0, \"UberPool\"], [1.0, \"UberPool\"]], \"hovertemplate\": \"cab_type=Uber<br>distance=%{customdata[0]}<br>source_rain=%{x}<br>price=%{y}<br>name=%{customdata[1]}<extra></extra>\", \"legendgroup\": \"Uber\", \"marker\": {\"color\": \"#000000\", \"symbol\": \"circle\"}, \"mode\": \"markers\", \"name\": \"Uber\", \"orientation\": \"v\", \"showlegend\": true, \"x\": [0.008008333333333334, 0.008008333333333334, 0.008008333333333334, 0.008008333333333334, 0.006958536585365854, 0.00012035398230088497, 0.00012035398230088497, 0.00012035398230088497, 0.00012035398230088497, 0.00012035398230088497, 0.00012035398230088497, 0.00012035398230088497, 7.142857142857143e-05, 9.090909090909092e-05, 9.090909090909092e-05, 9.090909090909092e-05, 9.090909090909092e-05, 9.090909090909092e-05, 0.0005, 0.0005, 0.0005, 0.0005, 0.0005, 0.0005, 7.142857142857143e-05, 7.142857142857143e-05, 0.006958536585365854, 7.142857142857143e-05, 0.014941666666666669, 0.014941666666666669, 0.014941666666666669, 0.002285714285714286, 0.00265, 0.00265, 0.00012035398230088497, 0.006778048780487806, 0.006778048780487806, 7.142857142857144e-06, 7.142857142857144e-06, 7.142857142857144e-06, 7.142857142857144e-06, 7.142857142857144e-06, 8.181818181818183e-05, 8.181818181818183e-05, 8.181818181818183e-05, 7.142857142857144e-06, 8.181818181818183e-05, 0.006778048780487806, 0.006778048780487806, 0.0006374999999999999, 0.0006374999999999999, 0.0006374999999999999, 0.006778048780487806, 0.0006374999999999999, 0.006778048780487806, 0.006778048780487806, 0.006778048780487806, 8.181818181818183e-05, 8.181818181818183e-05, 0.00012035398230088497, 0.00012035398230088497, 0.00012035398230088497, 0.00012035398230088497, 0.00012035398230088497, 0.00012035398230088497, 0.00012035398230088497, 0.00012035398230088497, 0.00012035398230088497, 0.00012035398230088497, 0.00012035398230088497, 0.00012035398230088497, 0.00012035398230088497, 0.0006374999999999999, 0.0006374999999999999, 8.181818181818183e-05, 8.181818181818183e-05, 8.181818181818183e-05, 8.181818181818183e-05, 7.142857142857144e-06, 7.142857142857144e-06, 0.0006374999999999999, 0.00010707964601769912, 0.00010707964601769912, 0.00010707964601769912, 0.008308333333333333, 0.008308333333333333, 0.008308333333333333, 0.008308333333333333, 0.008308333333333333, 0.008308333333333333, 0.008308333333333333, 0.008308333333333333, 0.008308333333333333, 0.008308333333333333, 0.008308333333333333, 0.008308333333333333, 0.014620833333333331, 0.014620833333333331, 0.014620833333333331, 0.014620833333333331, 0.014620833333333331, 0.014620833333333331, 0.014620833333333331, 0.014620833333333331, 0.014620833333333331, 0.00010707964601769912, 0.00010707964601769912, 0.00010707964601769912, 0.00010707964601769912, 0.00010707964601769912, 0.00010707964601769912, 0.00010707964601769912, 0.00010707964601769912, 0.00010707964601769912, 0.00010707964601769912, 0.00010707964601769912, 0.008308333333333333, 0.00010707964601769912, 0.008308333333333333, 0.00010707964601769912, 0.00010707964601769912, 0.00010707964601769912, 0.00010707964601769912, 0.00010707964601769912, 0.00010707964601769912, 0.00010707964601769912, 0.002214285714285714, 0.002214285714285714, 0.002214285714285714, 0.002214285714285714, 0.002214285714285714, 0.00010707964601769912, 0.00010707964601769912, 0.00010707964601769912, 0.0006375, 0.000625, 0.000625, 0.000625, 0.000625, 0.043559036144578296, 0.043559036144578296, 0.000625, 0.043559036144578296, 0.043559036144578296, 0.043559036144578296, 0.043559036144578296, 0.0006375, 0.043559036144578296, 0.043559036144578296, 0.043559036144578296, 0.043559036144578296, 0.043559036144578296, 0.000625, 0.000625, 0.04358915662650602, 0.04358915662650602, 0.04358915662650602, 0.04358915662650602, 0.04358915662650602, 0.04358915662650602, 0.04358915662650602, 0.04358915662650602, 0.000625, 0.04358915662650602, 0.000625, 0.000625, 0.000625, 0.000625, 0.000625, 0.000625, 0.000625, 0.000625, 0.043559036144578296, 0.0006375, 0.0006375, 0.043559036144578296], \"xaxis\": \"x\", \"y\": [7.5, 8.5, 6.5, 8.0, 7.5, 8.5, 8.0, 8.0, 5.5, 14.0, 5.5, 6.5, 7.0, 8.0, 6.5, 12.0, 6.5, 6.5, 8.5, 6.5, 9.0, 7.0, 7.5, 8.0, 7.5, 7.5, 6.5, 7.0, 7.5, 7.5, 8.0, 8.5, 7.5, 6.5, 8.0, 5.5, 6.5, 8.5, 7.5, 6.5, 8.0, 7.0, 7.0, 6.5, 7.0, 6.5, 7.5, 7.5, 9.0, 6.5, 6.5, 8.5, 8.0, 7.0, 6.5, 6.5, 8.0, 13.5, 7.5, 8.5, 7.0, 6.5, 8.5, 7.0, 8.0, 6.5, 7.0, 6.5, 6.5, 7.5, 8.0, 6.5, 7.5, 8.0, 8.5, 7.5, 7.5, 7.5, 7.5, 8.5, 7.0, 7.0, 7.5, 7.5, 6.5, 7.5, 7.5, 6.5, 7.5, 6.5, 7.5, 7.5, 6.5, 6.5, 6.5, 7.5, 8.0, 7.0, 7.5, 7.5, 6.5, 7.5, 6.5, 7.5, 7.5, 7.5, 7.5, 7.5, 7.5, 7.5, 7.5, 7.5, 9.0, 7.5, 7.5, 7.5, 7.5, 8.0, 7.5, 6.5, 6.5, 7.5, 7.5, 6.5, 7.0, 7.5, 6.0, 7.0, 7.5, 7.5, 6.5, 6.5, 7.5, 7.5, 7.0, 7.5, 7.5, 6.5, 7.5, 6.5, 8.5, 7.5, 7.5, 7.5, 7.5, 6.5, 6.5, 8.0, 6.5, 7.5, 6.5, 7.5, 6.5, 6.5, 6.5, 7.0, 6.5, 7.5, 9.0, 6.5, 8.0, 8.5, 7.5, 7.0, 6.5, 7.0, 6.5, 6.5, 7.5, 7.0, 7.5, 7.5, 7.5, 6.5, 6.5, 6.5], \"yaxis\": \"y\", \"type\": \"scatter\"}, {\"customdata\": [[1.0, \"Shared\"], [1.0, \"Shared\"], [1.0, \"Shared\"], [1.0, \"Shared\"], [1.0, \"Shared\"], [1.0, \"Shared\"], [1.0, \"Shared\"], [1.0, \"Shared\"], [1.0, \"Shared\"], [1.0, \"Shared\"], [1.0, \"Shared\"], [1.0, \"Shared\"], [1.0, \"Shared\"], [1.0, \"Shared\"], [1.0, \"Shared\"], [1.0, \"Shared\"], [1.0, \"Shared\"], [1.0, \"Shared\"], [1.0, \"Shared\"], [1.0, \"Shared\"], [1.0, \"Shared\"], [1.0, \"Shared\"], [1.0, \"Shared\"], [1.0, \"Shared\"], [1.0, \"Shared\"], [1.0, \"Shared\"], [1.0, \"Shared\"], [1.0, \"Shared\"], [1.0, \"Shared\"], [1.0, \"Shared\"], [1.0, \"Shared\"], [1.0, \"Shared\"], [1.0, \"Shared\"], [1.0, \"Shared\"], [1.0, \"Shared\"], [1.0, \"Shared\"], [1.0, \"Shared\"], [1.0, \"Shared\"], [1.0, \"Shared\"], [1.0, \"Shared\"], [1.0, \"Shared\"], [1.0, \"Shared\"], [1.0, \"Shared\"], [1.0, \"Shared\"], [1.0, \"Shared\"], [1.0, \"Shared\"], [1.0, \"Shared\"], [1.0, \"Shared\"], [1.0, \"Shared\"], [1.0, \"Shared\"], [1.0, \"Shared\"], [1.0, \"Shared\"], [1.0, \"Shared\"], [1.0, \"Shared\"], [1.0, \"Shared\"], [1.0, \"Shared\"], [1.0, \"Shared\"], [1.0, \"Shared\"], [1.0, \"Shared\"], [1.0, \"Shared\"], [1.0, \"Shared\"], [1.0, \"Shared\"], [1.0, \"Shared\"], [1.0, \"Shared\"], [1.0, \"Shared\"], [1.0, \"Shared\"], [1.0, \"Shared\"], [1.0, \"Shared\"], [1.0, \"Shared\"], [1.0, \"Shared\"], [1.0, \"Shared\"], [1.0, \"Shared\"], [1.0, \"Shared\"], [1.0, \"Shared\"], [1.0, \"Shared\"], [1.0, \"Shared\"], [1.0, \"Shared\"], [1.0, \"Shared\"], [1.0, \"Shared\"], [1.0, \"Shared\"], [1.0, \"Shared\"], [1.0, \"Shared\"], [1.0, \"Shared\"], [1.0, \"Shared\"], [1.0, \"Shared\"], [1.0, \"Shared\"], [1.0, \"Shared\"], [1.0, \"Shared\"], [1.0, \"Shared\"], [1.0, \"Shared\"], [1.0, \"Shared\"], [1.0, \"Shared\"], [1.0, \"Shared\"], [1.0, \"Shared\"], [1.0, \"Shared\"], [1.0, \"Shared\"], [1.0, \"Shared\"], [1.0, \"Shared\"], [1.0, \"Shared\"], [1.0, \"Shared\"], [1.0, \"Shared\"], [1.0, \"Shared\"], [1.0, \"Shared\"], [1.0, \"Shared\"], [1.0, \"Shared\"], [1.0, \"Shared\"], [1.0, \"Shared\"], [1.0, \"Shared\"], [1.0, \"Shared\"], [1.0, \"Shared\"], [1.0, \"Shared\"], [1.0, \"Shared\"], [1.0, \"Shared\"], [1.0, \"Shared\"], [1.0, \"Shared\"], [1.0, \"Shared\"], [1.0, \"Shared\"], [1.0, \"Shared\"], [1.0, \"Shared\"], [1.0, \"Shared\"], [1.0, \"Shared\"], [1.0, \"Shared\"], [1.0, \"Shared\"], [1.0, \"Shared\"], [1.0, \"Shared\"], [1.0, \"Shared\"], [1.0, \"Shared\"], [1.0, \"Shared\"], [1.0, \"Shared\"], [1.0, \"Shared\"], [1.0, \"Shared\"], [1.0, \"Shared\"], [1.0, \"Shared\"], [1.0, \"Shared\"], [1.0, \"Shared\"], [1.0, \"Shared\"], [1.0, \"Shared\"], [1.0, \"Shared\"], [1.0, \"Shared\"], [1.0, \"Shared\"], [1.0, \"Shared\"], [1.0, \"Shared\"], [1.0, \"Shared\"], [1.0, \"Shared\"], [1.0, \"Shared\"], [1.0, \"Shared\"], [1.0, \"Shared\"], [1.0, \"Shared\"], [1.0, \"Shared\"], [1.0, \"Shared\"], [1.0, \"Shared\"], [1.0, \"Shared\"], [1.0, \"Shared\"], [1.0, \"Shared\"], [1.0, \"Shared\"], [1.0, \"Shared\"], [1.0, \"Shared\"], [1.0, \"Shared\"], [1.0, \"Shared\"], [1.0, \"Shared\"], [1.0, \"Shared\"], [1.0, \"Shared\"], [1.0, \"Shared\"], [1.0, \"Shared\"], [1.0, \"Shared\"], [1.0, \"Shared\"], [1.0, \"Shared\"], [1.0, \"Shared\"], [1.0, \"Shared\"], [1.0, \"Shared\"], [1.0, \"Shared\"], [1.0, \"Shared\"], [1.0, \"Shared\"], [1.0, \"Shared\"], [1.0, \"Shared\"], [1.0, \"Shared\"], [1.0, \"Shared\"], [1.0, \"Shared\"], [1.0, \"Shared\"], [1.0, \"Shared\"], [1.0, \"Shared\"], [1.0, \"Shared\"], [1.0, \"Shared\"], [1.0, \"Shared\"], [1.0, \"Shared\"], [1.0, \"Shared\"], [1.0, \"Shared\"], [1.0, \"Shared\"], [1.0, \"Shared\"], [1.0, \"Shared\"], [1.0, \"Shared\"], [1.0, \"Shared\"], [1.0, \"Shared\"], [1.0, \"Shared\"], [1.0, \"Shared\"], [1.0, \"Shared\"], [1.0, \"Shared\"], [1.0, \"Shared\"], [1.0, \"Shared\"], [1.0, \"Shared\"], [1.0, \"Shared\"], [1.0, \"Shared\"], [1.0, \"Shared\"], [1.0, \"Shared\"], [1.0, \"Shared\"], [1.0, \"Shared\"], [1.0, \"Shared\"], [1.0, \"Shared\"], [1.0, \"Shared\"], [1.0, \"Shared\"], [1.0, \"Shared\"], [1.0, \"Shared\"], [1.0, \"Shared\"], [1.0, \"Shared\"], [1.0, \"Shared\"], [1.0, \"Shared\"], [1.0, \"Shared\"], [1.0, \"Shared\"], [1.0, \"Shared\"], [1.0, \"Shared\"], [1.0, \"Shared\"], [1.0, \"Shared\"], [1.0, \"Shared\"], [1.0, \"Shared\"], [1.0, \"Shared\"], [1.0, \"Shared\"], [1.0, \"Shared\"], [1.0, \"Shared\"], [1.0, \"Shared\"], [1.0, \"Shared\"], [1.0, \"Shared\"]], \"hovertemplate\": \"cab_type=Lyft<br>distance=%{customdata[0]}<br>source_rain=%{x}<br>price=%{y}<br>name=%{customdata[1]}<extra></extra>\", \"legendgroup\": \"Lyft\", \"marker\": {\"color\": \"#FF00BF\", \"symbol\": \"circle\"}, \"mode\": \"markers\", \"name\": \"Lyft\", \"orientation\": \"v\", \"showlegend\": true, \"x\": [5.486725663716815e-05, 7.142857142857143e-05, 5.486725663716815e-05, 5.486725663716815e-05, 5.486725663716815e-05, 5.486725663716815e-05, 5.486725663716815e-05, 5.486725663716815e-05, 0.014329166666666669, 7.142857142857143e-05, 5.486725663716815e-05, 7.142857142857143e-05, 0.008391666666666667, 0.008391666666666667, 0.0081375, 7.142857142857143e-05, 7.142857142857143e-05, 5.486725663716815e-05, 5.486725663716815e-05, 5.486725663716815e-05, 0.006958536585365854, 0.006958536585365854, 0.006958536585365854, 0.006958536585365854, 0.006958536585365854, 0.006958536585365854, 0.006958536585365854, 5.486725663716815e-05, 5.486725663716815e-05, 5.486725663716815e-05, 5.486725663716815e-05, 5.486725663716815e-05, 5.486725663716815e-05, 5.486725663716815e-05, 5.486725663716815e-05, 5.486725663716815e-05, 5.486725663716815e-05, 7.142857142857143e-05, 5.486725663716815e-05, 7.142857142857143e-05, 7.142857142857143e-05, 0.0023, 8.181818181818183e-05, 0.008391666666666667, 9.090909090909092e-05, 9.090909090909092e-05, 9.090909090909092e-05, 8.181818181818183e-05, 0.0071756097560975625, 8.181818181818183e-05, 0.008391666666666667, 0.008391666666666667, 0.043916867469879516, 0.000625, 0.000625, 0.043916867469879516, 8.181818181818183e-05, 0.0071756097560975625, 0.0071756097560975625, 7.142857142857143e-05, 7.142857142857143e-05, 7.142857142857143e-05, 0.013583333333333336, 0.013583333333333336, 0.013583333333333336, 0.014916666666666668, 0.014916666666666668, 0.013583333333333336, 0.0071756097560975625, 0.013583333333333336, 0.014941666666666669, 0.0081375, 0.0023, 0.0023, 0.0071756097560975625, 0.0071756097560975625, 0.013583333333333336, 0.006958536585365854, 0.006958536585365854, 0.0057268292682926825, 0.0057268292682926825, 0.0057268292682926825, 0.00010442477876106196, 0.00010442477876106196, 0.00010442477876106196, 0.00010442477876106196, 7.142857142857143e-05, 7.142857142857143e-05, 7.142857142857143e-05, 7.142857142857143e-05, 8.181818181818183e-05, 8.181818181818183e-05, 8.181818181818183e-05, 8.181818181818183e-05, 8.181818181818183e-05, 0.0057268292682926825, 0.0057268292682926825, 0.0057268292682926825, 0.0057268292682926825, 0.0057268292682926825, 0.0057268292682926825, 0.0057268292682926825, 0.0057268292682926825, 0.0057268292682926825, 0.0057268292682926825, 0.0057268292682926825, 0.0057268292682926825, 0.0057268292682926825, 0.0057268292682926825, 0.0057268292682926825, 0.007446341463414634, 0.00010442477876106196, 0.00010442477876106196, 0.0057268292682926825, 8.181818181818183e-05, 0.0006833333333333332, 0.0006833333333333332, 0.0004708333333333334, 0.0004708333333333334, 0.0004708333333333334, 0.0004708333333333334, 0.0004708333333333334, 0.00011327433628318584, 0.006958536585365854, 0.00011327433628318584, 0.00011327433628318584, 0.0006833333333333332, 0.0007083333333333332, 0.006958536585365854, 7.142857142857143e-05, 8.181818181818183e-05, 8.181818181818183e-05, 8.181818181818183e-05, 8.181818181818183e-05, 8.181818181818183e-05, 0.00010442477876106196, 0.00010442477876106196, 0.00010442477876106196, 0.00010442477876106196, 0.00010442477876106196, 0.00010442477876106196, 0.00010442477876106196, 0.00010442477876106196, 7.142857142857143e-05, 7.142857142857143e-05, 7.142857142857143e-05, 7.142857142857143e-05, 7.142857142857143e-05, 7.142857142857143e-05, 7.142857142857143e-05, 0.006958536585365854, 0.0007083333333333332, 0.0005, 0.0007083333333333332, 0.008466666666666667, 0.008466666666666667, 0.008466666666666667, 0.00010707964601769912, 0.008308333333333333, 0.0007083333333333332, 0.008308333333333333, 0.008308333333333333, 0.008308333333333333, 0.0007083333333333332, 0.0007083333333333332, 0.0434144578313253, 0.0434144578313253, 0.0434144578313253, 0.0434144578313253, 0.0007083333333333332, 0.014620833333333331, 0.014620833333333331, 0.0007083333333333332, 0.014620833333333331, 0.014620833333333331, 0.014620833333333331, 0.014620833333333331, 0.0007083333333333332, 0.0007083333333333332, 0.0006375, 0.008308333333333333, 0.008308333333333333, 0.00010707964601769912, 0.00010707964601769912, 0.00010707964601769912, 0.00010707964601769912, 0.00010707964601769912, 0.00010707964601769912, 0.014329166666666669, 0.014329166666666669, 0.014329166666666669, 0.014329166666666669, 0.014329166666666669, 0.014329166666666669, 0.00010707964601769912, 0.008308333333333333, 0.00010707964601769912, 0.00010707964601769912, 0.00010707964601769912, 0.002214285714285714, 0.00010707964601769912, 0.00010707964601769912, 0.0004708333333333334, 0.0006375, 0.000625, 0.000625, 0.043559036144578296, 0.043559036144578296, 0.043559036144578296, 0.043559036144578296, 0.043559036144578296, 0.043559036144578296, 0.043559036144578296, 0.043916867469879516, 0.043916867469879516, 0.043916867469879516, 0.000625, 0.000625, 0.000625, 0.000625, 0.043559036144578296, 0.0006375, 0.0006375, 0.0006083333333333332, 0.0006375, 0.0006375, 0.0006375, 0.0006083333333333332, 0.0006083333333333332, 0.0006375, 0.0006375], \"xaxis\": \"x\", \"y\": [3.5, 5.0, 3.5, 5.0, 3.5, 3.5, 3.5, 3.0, 5.0, 5.0, 3.0, 5.0, 2.5, 3.0, 5.0, 5.0, 3.5, 3.5, 5.0, 5.0, 5.0, 5.0, 3.5, 5.0, 3.5, 5.0, 3.5, 3.0, 3.0, 3.0, 7.0, 3.0, 3.0, 3.0, 5.0, 5.0, 5.0, 3.0, 3.5, 3.0, 3.0, 3.5, 5.0, 5.0, 5.0, 5.0, 5.0, 7.0, 3.5, 3.5, 5.0, 3.0, 5.0, 5.0, 5.0, 3.0, 3.5, 5.0, 5.0, 5.0, 3.5, 5.0, 3.5, 3.0, 3.5, 5.0, 5.0, 3.0, 3.0, 5.0, 7.0, 5.0, 5.0, 3.5, 3.0, 5.0, 3.5, 5.0, 3.5, 3.5, 5.0, 7.0, 5.0, 5.0, 5.0, 3.5, 5.0, 5.0, 3.5, 5.0, 5.0, 3.5, 5.0, 3.0, 3.5, 3.5, 9.0, 5.0, 3.5, 5.0, 5.0, 3.0, 3.0, 3.0, 3.5, 5.0, 5.0, 3.0, 3.5, 5.0, 5.0, 5.0, 5.0, 3.5, 3.5, 5.0, 5.0, 5.0, 5.0, 3.5, 5.0, 5.0, 3.5, 5.0, 5.0, 5.0, 5.0, 5.0, 3.0, 5.0, 3.0, 5.0, 3.0, 5.0, 3.0, 5.0, 3.0, 5.0, 3.0, 5.0, 5.0, 3.0, 3.5, 5.0, 3.0, 3.0, 5.0, 3.5, 3.5, 3.5, 5.0, 3.0, 5.0, 3.0, 5.0, 5.0, 3.5, 5.0, 5.0, 3.5, 3.0, 2.5, 5.0, 5.0, 5.0, 5.0, 7.0, 5.0, 3.5, 3.0, 3.5, 3.5, 3.5, 2.5, 3.0, 3.0, 3.0, 3.0, 5.0, 3.0, 3.5, 3.0, 3.0, 3.0, 5.0, 3.0, 3.0, 5.0, 2.5, 5.0, 3.5, 5.0, 5.0, 3.0, 5.0, 5.0, 5.0, 3.5, 5.0, 3.5, 3.5, 3.5, 5.0, 5.0, 3.0, 5.0, 3.5, 2.5, 5.0, 5.0, 3.5, 3.5, 3.0, 3.0, 3.0, 3.0, 3.0, 3.0, 3.0, 3.5, 3.0, 3.0, 5.0, 5.0, 3.5, 3.0, 3.0, 5.0, 3.0, 3.0, 5.0], \"yaxis\": \"y\", \"type\": \"scatter\"}], \"name\": \"1.0\"}, {\"data\": [{\"customdata\": [[1.5, \"UberPool\"], [1.5, \"UberPool\"], [1.5, \"UberPool\"], [1.5, \"UberPool\"], [1.5, \"UberPool\"], [1.5, \"UberPool\"], [1.5, \"UberPool\"], [1.5, \"UberPool\"], [1.5, \"UberPool\"], [1.5, \"UberPool\"], [1.5, \"UberPool\"], [1.5, \"UberPool\"], [1.5, \"UberPool\"], [1.5, \"UberPool\"], [1.5, \"UberPool\"], [1.5, \"UberPool\"], [1.5, \"UberPool\"], [1.5, \"UberPool\"], [1.5, \"UberPool\"], [1.5, \"UberPool\"], [1.5, \"UberPool\"], [1.5, \"UberPool\"], [1.5, \"UberPool\"], [1.5, \"UberPool\"], [1.5, \"UberPool\"], [1.5, \"UberPool\"], [1.5, \"UberPool\"], [1.5, \"UberPool\"], [1.5, \"UberPool\"], [1.5, \"UberPool\"], [1.5, \"UberPool\"], [1.5, \"UberPool\"], [1.5, \"UberPool\"], [1.5, \"UberPool\"], [1.5, \"UberPool\"], [1.5, \"UberPool\"], [1.5, \"UberPool\"], [1.5, \"UberPool\"], [1.5, \"UberPool\"], [1.5, \"UberPool\"], [1.5, \"UberPool\"], [1.5, \"UberPool\"], [1.5, \"UberPool\"], [1.5, \"UberPool\"], [1.5, \"UberPool\"], [1.5, \"UberPool\"], [1.5, \"UberPool\"], [1.5, \"UberPool\"], [1.5, \"UberPool\"], [1.5, \"UberPool\"], [1.5, \"UberPool\"], [1.5, \"UberPool\"], [1.5, \"UberPool\"], [1.5, \"UberPool\"], [1.5, \"UberPool\"], [1.5, \"UberPool\"], [1.5, \"UberPool\"], [1.5, \"UberPool\"], [1.5, \"UberPool\"], [1.5, \"UberPool\"], [1.5, \"UberPool\"], [1.5, \"UberPool\"], [1.5, \"UberPool\"], [1.5, \"UberPool\"], [1.5, \"UberPool\"], [1.5, \"UberPool\"], [1.5, \"UberPool\"], [1.5, \"UberPool\"], [1.5, \"UberPool\"], [1.5, \"UberPool\"], [1.5, \"UberPool\"], [1.5, \"UberPool\"], [1.5, \"UberPool\"], [1.5, \"UberPool\"], [1.5, \"UberPool\"], [1.5, \"UberPool\"], [1.5, \"UberPool\"], [1.5, \"UberPool\"], [1.5, \"UberPool\"], [1.5, \"UberPool\"], [1.5, \"UberPool\"], [1.5, \"UberPool\"], [1.5, \"UberPool\"], [1.5, \"UberPool\"], [1.5, \"UberPool\"], [1.5, \"UberPool\"], [1.5, \"UberPool\"], [1.5, \"UberPool\"], [1.5, \"UberPool\"], [1.5, \"UberPool\"], [1.5, \"UberPool\"], [1.5, \"UberPool\"], [1.5, \"UberPool\"], [1.5, \"UberPool\"], [1.5, \"UberPool\"], [1.5, \"UberPool\"], [1.5, \"UberPool\"], [1.5, \"UberPool\"], [1.5, \"UberPool\"], [1.5, \"UberPool\"], [1.5, \"UberPool\"], [1.5, \"UberPool\"], [1.5, \"UberPool\"], [1.5, \"UberPool\"], [1.5, \"UberPool\"], [1.5, \"UberPool\"], [1.5, \"UberPool\"], [1.5, \"UberPool\"], [1.5, \"UberPool\"], [1.5, \"UberPool\"], [1.5, \"UberPool\"], [1.5, \"UberPool\"], [1.5, \"UberPool\"], [1.5, \"UberPool\"], [1.5, \"UberPool\"], [1.5, \"UberPool\"], [1.5, \"UberPool\"], [1.5, \"UberPool\"], [1.5, \"UberPool\"], [1.5, \"UberPool\"], [1.5, \"UberPool\"], [1.5, \"UberPool\"], [1.5, \"UberPool\"], [1.5, \"UberPool\"], [1.5, \"UberPool\"], [1.5, \"UberPool\"], [1.5, \"UberPool\"], [1.5, \"UberPool\"], [1.5, \"UberPool\"], [1.5, \"UberPool\"], [1.5, \"UberPool\"], [1.5, \"UberPool\"], [1.5, \"UberPool\"], [1.5, \"UberPool\"], [1.5, \"UberPool\"], [1.5, \"UberPool\"], [1.5, \"UberPool\"], [1.5, \"UberPool\"], [1.5, \"UberPool\"], [1.5, \"UberPool\"], [1.5, \"UberPool\"], [1.5, \"UberPool\"], [1.5, \"UberPool\"], [1.5, \"UberPool\"], [1.5, \"UberPool\"], [1.5, \"UberPool\"], [1.5, \"UberPool\"], [1.5, \"UberPool\"], [1.5, \"UberPool\"], [1.5, \"UberPool\"], [1.5, \"UberPool\"], [1.5, \"UberPool\"], [1.5, \"UberPool\"], [1.5, \"UberPool\"], [1.5, \"UberPool\"], [1.5, \"UberPool\"], [1.5, \"UberPool\"], [1.5, \"UberPool\"], [1.5, \"UberPool\"], [1.5, \"UberPool\"], [1.5, \"UberPool\"], [1.5, \"UberPool\"], [1.5, \"UberPool\"], [1.5, \"UberPool\"], [1.5, \"UberPool\"], [1.5, \"UberPool\"], [1.5, \"UberPool\"], [1.5, \"UberPool\"], [1.5, \"UberPool\"], [1.5, \"UberPool\"], [1.5, \"UberPool\"], [1.5, \"UberPool\"], [1.5, \"UberPool\"], [1.5, \"UberPool\"], [1.5, \"UberPool\"], [1.5, \"UberPool\"], [1.5, \"UberPool\"], [1.5, \"UberPool\"], [1.5, \"UberPool\"], [1.5, \"UberPool\"], [1.5, \"UberPool\"], [1.5, \"UberPool\"], [1.5, \"UberPool\"], [1.5, \"UberPool\"], [1.5, \"UberPool\"], [1.5, \"UberPool\"], [1.5, \"UberPool\"], [1.5, \"UberPool\"], [1.5, \"UberPool\"], [1.5, \"UberPool\"], [1.5, \"UberPool\"], [1.5, \"UberPool\"], [1.5, \"UberPool\"], [1.5, \"UberPool\"], [1.5, \"UberPool\"], [1.5, \"UberPool\"], [1.5, \"UberPool\"], [1.5, \"UberPool\"], [1.5, \"UberPool\"], [1.5, \"UberPool\"], [1.5, \"UberPool\"], [1.5, \"UberPool\"], [1.5, \"UberPool\"], [1.5, \"UberPool\"], [1.5, \"UberPool\"], [1.5, \"UberPool\"], [1.5, \"UberPool\"], [1.5, \"UberPool\"], [1.5, \"UberPool\"], [1.5, \"UberPool\"], [1.5, \"UberPool\"], [1.5, \"UberPool\"], [1.5, \"UberPool\"], [1.5, \"UberPool\"], [1.5, \"UberPool\"], [1.5, \"UberPool\"], [1.5, \"UberPool\"], [1.5, \"UberPool\"], [1.5, \"UberPool\"], [1.5, \"UberPool\"], [1.5, \"UberPool\"], [1.5, \"UberPool\"], [1.5, \"UberPool\"], [1.5, \"UberPool\"], [1.5, \"UberPool\"], [1.5, \"UberPool\"], [1.5, \"UberPool\"], [1.5, \"UberPool\"], [1.5, \"UberPool\"], [1.5, \"UberPool\"], [1.5, \"UberPool\"], [1.5, \"UberPool\"], [1.5, \"UberPool\"], [1.5, \"UberPool\"], [1.5, \"UberPool\"], [1.5, \"UberPool\"], [1.5, \"UberPool\"], [1.5, \"UberPool\"], [1.5, \"UberPool\"], [1.5, \"UberPool\"], [1.5, \"UberPool\"], [1.5, \"UberPool\"], [1.5, \"UberPool\"], [1.5, \"UberPool\"], [1.5, \"UberPool\"], [1.5, \"UberPool\"], [1.5, \"UberPool\"], [1.5, \"UberPool\"], [1.5, \"UberPool\"], [1.5, \"UberPool\"], [1.5, \"UberPool\"], [1.5, \"UberPool\"], [1.5, \"UberPool\"], [1.5, \"UberPool\"], [1.5, \"UberPool\"], [1.5, \"UberPool\"], [1.5, \"UberPool\"], [1.5, \"UberPool\"], [1.5, \"UberPool\"], [1.5, \"UberPool\"], [1.5, \"UberPool\"], [1.5, \"UberPool\"], [1.5, \"UberPool\"], [1.5, \"UberPool\"], [1.5, \"UberPool\"], [1.5, \"UberPool\"], [1.5, \"UberPool\"], [1.5, \"UberPool\"], [1.5, \"UberPool\"], [1.5, \"UberPool\"], [1.5, \"UberPool\"], [1.5, \"UberPool\"], [1.5, \"UberPool\"], [1.5, \"UberPool\"], [1.5, \"UberPool\"], [1.5, \"UberPool\"], [1.5, \"UberPool\"], [1.5, \"UberPool\"], [1.5, \"UberPool\"], [1.5, \"UberPool\"], [1.5, \"UberPool\"], [1.5, \"UberPool\"], [1.5, \"UberPool\"], [1.5, \"UberPool\"], [1.5, \"UberPool\"], [1.5, \"UberPool\"], [1.5, \"UberPool\"], [1.5, \"UberPool\"], [1.5, \"UberPool\"], [1.5, \"UberPool\"], [1.5, \"UberPool\"], [1.5, \"UberPool\"], [1.5, \"UberPool\"], [1.5, \"UberPool\"], [1.5, \"UberPool\"], [1.5, \"UberPool\"], [1.5, \"UberPool\"], [1.5, \"UberPool\"], [1.5, \"UberPool\"], [1.5, \"UberPool\"], [1.5, \"UberPool\"], [1.5, \"UberPool\"], [1.5, \"UberPool\"], [1.5, \"UberPool\"], [1.5, \"UberPool\"], [1.5, \"UberPool\"], [1.5, \"UberPool\"], [1.5, \"UberPool\"], [1.5, \"UberPool\"], [1.5, \"UberPool\"], [1.5, \"UberPool\"], [1.5, \"UberPool\"], [1.5, \"UberPool\"], [1.5, \"UberPool\"], [1.5, \"UberPool\"], [1.5, \"UberPool\"], [1.5, \"UberPool\"], [1.5, \"UberPool\"], [1.5, \"UberPool\"], [1.5, \"UberPool\"], [1.5, \"UberPool\"], [1.5, \"UberPool\"], [1.5, \"UberPool\"], [1.5, \"UberPool\"], [1.5, \"UberPool\"], [1.5, \"UberPool\"], [1.5, \"UberPool\"], [1.5, \"UberPool\"], [1.5, \"UberPool\"], [1.5, \"UberPool\"], [1.5, \"UberPool\"], [1.5, \"UberPool\"], [1.5, \"UberPool\"], [1.5, \"UberPool\"], [1.5, \"UberPool\"], [1.5, \"UberPool\"], [1.5, \"UberPool\"], [1.5, \"UberPool\"], [1.5, \"UberPool\"], [1.5, \"UberPool\"], [1.5, \"UberPool\"], [1.5, \"UberPool\"], [1.5, \"UberPool\"], [1.5, \"UberPool\"], [1.5, \"UberPool\"], [1.5, \"UberPool\"], [1.5, \"UberPool\"], [1.5, \"UberPool\"], [1.5, \"UberPool\"], [1.5, \"UberPool\"], [1.5, \"UberPool\"], [1.5, \"UberPool\"], [1.5, \"UberPool\"], [1.5, \"UberPool\"], [1.5, \"UberPool\"], [1.5, \"UberPool\"], [1.5, \"UberPool\"], [1.5, \"UberPool\"], [1.5, \"UberPool\"], [1.5, \"UberPool\"], [1.5, \"UberPool\"], [1.5, \"UberPool\"], [1.5, \"UberPool\"], [1.5, \"UberPool\"], [1.5, \"UberPool\"], [1.5, \"UberPool\"], [1.5, \"UberPool\"], [1.5, \"UberPool\"], [1.5, \"UberPool\"], [1.5, \"UberPool\"], [1.5, \"UberPool\"], [1.5, \"UberPool\"], [1.5, \"UberPool\"], [1.5, \"UberPool\"], [1.5, \"UberPool\"], [1.5, \"UberPool\"], [1.5, \"UberPool\"], [1.5, \"UberPool\"], [1.5, \"UberPool\"], [1.5, \"UberPool\"], [1.5, \"UberPool\"], [1.5, \"UberPool\"], [1.5, \"UberPool\"], [1.5, \"UberPool\"], [1.5, \"UberPool\"], [1.5, \"UberPool\"], [1.5, \"UberPool\"], [1.5, \"UberPool\"], [1.5, \"UberPool\"], [1.5, \"UberPool\"], [1.5, \"UberPool\"], [1.5, \"UberPool\"], [1.5, \"UberPool\"], [1.5, \"UberPool\"], [1.5, \"UberPool\"], [1.5, \"UberPool\"], [1.5, \"UberPool\"], [1.5, \"UberPool\"], [1.5, \"UberPool\"], [1.5, \"UberPool\"], [1.5, \"UberPool\"], [1.5, \"UberPool\"], [1.5, \"UberPool\"], [1.5, \"UberPool\"], [1.5, \"UberPool\"], [1.5, \"UberPool\"], [1.5, \"UberPool\"], [1.5, \"UberPool\"], [1.5, \"UberPool\"], [1.5, \"UberPool\"], [1.5, \"UberPool\"], [1.5, \"UberPool\"], [1.5, \"UberPool\"], [1.5, \"UberPool\"], [1.5, \"UberPool\"], [1.5, \"UberPool\"], [1.5, \"UberPool\"], [1.5, \"UberPool\"], [1.5, \"UberPool\"], [1.5, \"UberPool\"], [1.5, \"UberPool\"], [1.5, \"UberPool\"], [1.5, \"UberPool\"], [1.5, \"UberPool\"], [1.5, \"UberPool\"], [1.5, \"UberPool\"], [1.5, \"UberPool\"], [1.5, \"UberPool\"], [1.5, \"UberPool\"], [1.5, \"UberPool\"], [1.5, \"UberPool\"], [1.5, \"UberPool\"], [1.5, \"UberPool\"], [1.5, \"UberPool\"], [1.5, \"UberPool\"], [1.5, \"UberPool\"], [1.5, \"UberPool\"], [1.5, \"UberPool\"], [1.5, \"UberPool\"], [1.5, \"UberPool\"], [1.5, \"UberPool\"], [1.5, \"UberPool\"], [1.5, \"UberPool\"], [1.5, \"UberPool\"], [1.5, \"UberPool\"], [1.5, \"UberPool\"], [1.5, \"UberPool\"], [1.5, \"UberPool\"], [1.5, \"UberPool\"], [1.5, \"UberPool\"], [1.5, \"UberPool\"], [1.5, \"UberPool\"], [1.5, \"UberPool\"], [1.5, \"UberPool\"], [1.5, \"UberPool\"], [1.5, \"UberPool\"], [1.5, \"UberPool\"], [1.5, \"UberPool\"], [1.5, \"UberPool\"], [1.5, \"UberPool\"], [1.5, \"UberPool\"], [1.5, \"UberPool\"], [1.5, \"UberPool\"], [1.5, \"UberPool\"], [1.5, \"UberPool\"], [1.5, \"UberPool\"], [1.5, \"UberPool\"], [1.5, \"UberPool\"], [1.5, \"UberPool\"], [1.5, \"UberPool\"], [1.5, \"UberPool\"], [1.5, \"UberPool\"], [1.5, \"UberPool\"], [1.5, \"UberPool\"], [1.5, \"UberPool\"], [1.5, \"UberPool\"], [1.5, \"UberPool\"], [1.5, \"UberPool\"], [1.5, \"UberPool\"], [1.5, \"UberPool\"], [1.5, \"UberPool\"], [1.5, \"UberPool\"], [1.5, \"UberPool\"], [1.5, \"UberPool\"], [1.5, \"UberPool\"], [1.5, \"UberPool\"], [1.5, \"UberPool\"], [1.5, \"UberPool\"], [1.5, \"UberPool\"], [1.5, \"UberPool\"], [1.5, \"UberPool\"], [1.5, \"UberPool\"], [1.5, \"UberPool\"], [1.5, \"UberPool\"], [1.5, \"UberPool\"], [1.5, \"UberPool\"], [1.5, \"UberPool\"], [1.5, \"UberPool\"], [1.5, \"UberPool\"], [1.5, \"UberPool\"], [1.5, \"UberPool\"], [1.5, \"UberPool\"], [1.5, \"UberPool\"], [1.5, \"UberPool\"], [1.5, \"UberPool\"], [1.5, \"UberPool\"], [1.5, \"UberPool\"], [1.5, \"UberPool\"], [1.5, \"UberPool\"], [1.5, \"UberPool\"], [1.5, \"UberPool\"], [1.5, \"UberPool\"], [1.5, \"UberPool\"], [1.5, \"UberPool\"], [1.5, \"UberPool\"], [1.5, \"UberPool\"], [1.5, \"UberPool\"], [1.5, \"UberPool\"], [1.5, \"UberPool\"], [1.5, \"UberPool\"], [1.5, \"UberPool\"], [1.5, \"UberPool\"], [1.5, \"UberPool\"]], \"hovertemplate\": \"cab_type=Uber<br>distance=%{customdata[0]}<br>source_rain=%{x}<br>price=%{y}<br>name=%{customdata[1]}<extra></extra>\", \"legendgroup\": \"Uber\", \"marker\": {\"color\": \"#000000\", \"symbol\": \"circle\"}, \"mode\": \"markers\", \"name\": \"Uber\", \"orientation\": \"v\", \"showlegend\": true, \"x\": [0.00020833333333333332, 0.00020833333333333332, 0.00020833333333333332, 0.00020833333333333332, 0.00020833333333333332, 0.00020833333333333332, 0.00020833333333333332, 0.00020833333333333332, 0.00020833333333333332, 0.00020833333333333332, 0.00020833333333333332, 0.00020833333333333332, 0.00020833333333333332, 0.00020833333333333332, 0.00020833333333333332, 0.04358915662650602, 0.00020833333333333332, 0.00020833333333333332, 0.0007083333333333332, 0.0007083333333333332, 0.0007083333333333332, 0.00020833333333333332, 0.00020833333333333332, 0.00020833333333333332, 0.0007083333333333332, 0.0007083333333333332, 0.0007083333333333332, 0.00020833333333333332, 0.00020833333333333332, 0.00020833333333333332, 0.008, 0.00020833333333333332, 0.0007083333333333332, 0.0007083333333333332, 0.00020833333333333332, 0.00020833333333333332, 0.00020833333333333332, 0.00020833333333333332, 0.00020833333333333332, 0.00020833333333333332, 0.00020833333333333332, 0.00020833333333333332, 0.00020833333333333332, 0.00020833333333333332, 0.00020833333333333332, 0.00020833333333333332, 0.00020833333333333332, 0.00020833333333333332, 0.00020833333333333332, 0.00020833333333333332, 0.00020833333333333332, 0.00020833333333333332, 0.00010176991150442478, 0.008191666666666667, 0.008191666666666667, 0.008191666666666667, 0.008191666666666667, 0.008191666666666667, 0.008191666666666667, 0.008191666666666667, 0.008191666666666667, 0.008191666666666667, 0.008191666666666667, 0.008191666666666667, 0.008191666666666667, 0.008191666666666667, 0.008191666666666667, 0.008191666666666667, 0.008191666666666667, 0.008191666666666667, 0.008191666666666667, 0.008191666666666667, 0.008191666666666667, 0.008191666666666667, 0.008191666666666667, 0.008191666666666667, 0.008191666666666667, 0.008191666666666667, 0.0003833333333333333, 0.0003833333333333333, 0.0003833333333333333, 0.0003833333333333333, 0.0003833333333333333, 0.0003833333333333333, 0.0003833333333333333, 0.008191666666666667, 0.008191666666666667, 0.008191666666666667, 0.008191666666666667, 0.008191666666666667, 0.008191666666666667, 0.008191666666666667, 0.0005785714285714285, 0.0005785714285714285, 0.0005785714285714285, 0.0005785714285714285, 0.0005785714285714285, 0.0005785714285714285, 0.0005785714285714285, 0.0005785714285714285, 0.0005785714285714285, 0.0005785714285714285, 0.0005785714285714285, 0.0005785714285714285, 0.0005785714285714285, 0.0005785714285714285, 0.0005785714285714285, 0.0005785714285714285, 0.0005785714285714285, 0.0005785714285714285, 0.0005785714285714285, 0.0005785714285714285, 0.0005785714285714285, 0.0005785714285714285, 0.0005785714285714285, 0.008191666666666667, 0.008191666666666667, 0.008191666666666667, 0.008370833333333333, 0.008370833333333333, 0.008370833333333333, 0.008370833333333333, 0.008370833333333333, 0.008370833333333333, 0.008370833333333333, 0.008370833333333333, 0.008370833333333333, 8.333333333333333e-05, 8.333333333333333e-05, 8.333333333333333e-05, 8.333333333333333e-05, 8.333333333333333e-05, 8.333333333333333e-05, 8.333333333333333e-05, 0.00195, 0.00195, 0.0005785714285714285, 0.0002875, 0.00010176991150442478, 6.283185840707964e-05, 0.00010357142857142856, 0.00010357142857142856, 0.00010357142857142856, 0.00010357142857142856, 0.00010357142857142856, 0.00010357142857142856, 0.00010357142857142856, 0.006778048780487806, 7.142857142857143e-05, 0.00010357142857142856, 0.014566666666666669, 0.0002875, 0.0002875, 0.0002875, 0.0002875, 0.0002875, 0.0002875, 0.0002875, 0.0002875, 0.0002875, 0.0002875, 0.0002875, 0.0002875, 0.0002875, 0.0002875, 0.0002875, 0.0002875, 0.0002875, 0.0002875, 0.0002875, 0.0002875, 0.0002875, 0.0002875, 0.0002875, 0.0002875, 0.0002875, 0.0002875, 0.0002875, 0.0002875, 0.0002875, 0.0002875, 0.0002875, 0.0002875, 0.0002875, 0.0002875, 0.0002875, 0.0002875, 0.0002875, 6.283185840707964e-05, 0.00020833333333333332, 6.283185840707964e-05, 0.00493170731707317, 0.00493170731707317, 0.00493170731707317, 0.00493170731707317, 0.00493170731707317, 0.00493170731707317, 0.00493170731707317, 0.00493170731707317, 0.00493170731707317, 0.00493170731707317, 0.00493170731707317, 0.00493170731707317, 0.00493170731707317, 0.00493170731707317, 0.00493170731707317, 0.00493170731707317, 0.00493170731707317, 0.00493170731707317, 0.00493170731707317, 0.00493170731707317, 0.00493170731707317, 0.00493170731707317, 0.00493170731707317, 0.00493170731707317, 0.00493170731707317, 0.00493170731707317, 0.00493170731707317, 0.00493170731707317, 0.00493170731707317, 6.283185840707964e-05, 0.00493170731707317, 0.00493170731707317, 0.00493170731707317, 0.00493170731707317, 0.00493170731707317, 0.0052463414634146355, 0.0052463414634146355, 0.0052463414634146355, 0.0052463414634146355, 0.0052463414634146355, 0.0052463414634146355, 0.0052463414634146355, 0.0052463414634146355, 0.0052463414634146355, 0.0052463414634146355, 0.00493170731707317, 0.00493170731707317, 0.00493170731707317, 0.00493170731707317, 0.00493170731707317, 0.00493170731707317, 0.00493170731707317, 0.00493170731707317, 0.00493170731707317, 0.00493170731707317, 0.00493170731707317, 0.00493170731707317, 0.00493170731707317, 0.00493170731707317, 0.00493170731707317, 0.00493170731707317, 0.00493170731707317, 0.00493170731707317, 0.00493170731707317, 0.00493170731707317, 9.090909090909092e-05, 9.090909090909092e-05, 9.090909090909092e-05, 9.090909090909092e-05, 9.090909090909092e-05, 9.090909090909092e-05, 9.090909090909092e-05, 9.090909090909092e-05, 9.090909090909092e-05, 9.090909090909092e-05, 9.090909090909092e-05, 9.090909090909092e-05, 9.090909090909092e-05, 9.090909090909092e-05, 9.090909090909092e-05, 9.090909090909092e-05, 9.090909090909092e-05, 6.106194690265487e-05, 6.106194690265487e-05, 6.106194690265487e-05, 6.106194690265487e-05, 6.106194690265487e-05, 6.106194690265487e-05, 9.090909090909092e-05, 6.106194690265487e-05, 9.090909090909092e-05, 9.090909090909092e-05, 9.090909090909092e-05, 9.090909090909092e-05, 9.090909090909092e-05, 6.106194690265487e-05, 9.090909090909092e-05, 9.090909090909092e-05, 9.090909090909092e-05, 9.090909090909092e-05, 9.090909090909092e-05, 9.090909090909092e-05, 9.090909090909092e-05, 9.090909090909092e-05, 0.00493170731707317, 9.090909090909092e-05, 9.090909090909092e-05, 9.090909090909092e-05, 9.090909090909092e-05, 9.090909090909092e-05, 9.090909090909092e-05, 9.090909090909092e-05, 9.090909090909092e-05, 9.090909090909092e-05, 9.090909090909092e-05, 9.090909090909092e-05, 9.090909090909092e-05, 9.090909090909092e-05, 9.090909090909092e-05, 9.090909090909092e-05, 6.106194690265487e-05, 0.0132125, 0.0132125, 0.0132125, 0.0132125, 0.0132125, 0.0132125, 0.0132125, 0.0132125, 0.0132125, 0.0132125, 0.0132125, 0.0132125, 0.0132125, 0.0132125, 0.0132125, 0.0132125, 0.0132125, 0.0132125, 0.0132125, 0.0132125, 0.0132125, 0.0132125, 0.0132125, 0.0132125, 0.0132125, 0.0132125, 0.0132125, 0.0132125, 0.0132125, 0.0132125, 0.012837500000000002, 0.012837500000000002, 0.012837500000000002, 0.012837500000000002, 0.012837500000000002, 0.012837500000000002, 0.012837500000000002, 0.012837500000000002, 0.0132125, 0.0132125, 0.0132125, 0.0132125, 0.0132125, 0.0132125, 0.0132125, 0.0132125, 0.0132125, 0.0132125, 0.0132125, 0.0132125, 0.0132125, 0.0132125, 0.0132125, 0.0132125, 0.0132125, 0.014329166666666669, 0.03728192771084338, 0.03728192771084338, 0.03728192771084338, 0.03728192771084338, 0.03728192771084338, 0.03728192771084338, 0.03728192771084338, 0.03728192771084338, 0.03728192771084338, 0.03728192771084338, 0.03728192771084338, 0.03728192771084338, 0.03728192771084338, 0.03728192771084338, 0.03728192771084338, 0.03728192771084338, 0.03728192771084338, 0.03728192771084338, 0.03728192771084338, 0.03728192771084338, 0.03728192771084338, 0.03728192771084338, 0.03728192771084338, 0.03728192771084338, 0.03728192771084338, 0.03728192771084338, 0.03728192771084338, 0.03728192771084338, 0.04285301204819278, 0.04285301204819278, 0.04285301204819278, 0.04285301204819278, 0.04285301204819278, 0.04285301204819278, 0.03728192771084338, 0.03728192771084338, 0.03728192771084338, 0.03728192771084338, 0.03728192771084338, 0.03728192771084338, 0.03728192771084338, 0.03728192771084338, 0.03728192771084338, 0.03728192771084338, 0.03728192771084338, 0.03728192771084338, 0.03728192771084338, 0.03728192771084338, 0.03728192771084338, 6.106194690265487e-05, 0.00493170731707317, 6.106194690265487e-05, 6.283185840707964e-05, 6.283185840707964e-05, 6.283185840707964e-05, 6.283185840707964e-05, 6.283185840707964e-05, 6.106194690265487e-05, 6.283185840707964e-05, 6.283185840707964e-05, 6.283185840707964e-05, 6.283185840707964e-05, 6.283185840707964e-05, 6.283185840707964e-05, 6.283185840707964e-05, 6.283185840707964e-05, 6.283185840707964e-05, 6.283185840707964e-05, 6.283185840707964e-05, 6.283185840707964e-05, 6.283185840707964e-05, 6.283185840707964e-05, 6.283185840707964e-05, 6.283185840707964e-05, 6.283185840707964e-05, 6.283185840707964e-05, 6.283185840707964e-05, 6.283185840707964e-05, 6.283185840707964e-05, 6.283185840707964e-05, 6.283185840707964e-05, 6.283185840707964e-05, 6.283185840707964e-05, 6.283185840707964e-05, 6.283185840707964e-05, 6.283185840707964e-05, 6.283185840707964e-05, 6.283185840707964e-05, 6.283185840707964e-05, 6.283185840707964e-05, 6.283185840707964e-05, 6.283185840707964e-05, 6.283185840707964e-05, 6.283185840707964e-05, 6.283185840707964e-05, 6.283185840707964e-05, 6.283185840707964e-05, 6.283185840707964e-05, 6.283185840707964e-05, 6.283185840707964e-05, 6.283185840707964e-05, 6.283185840707964e-05, 6.283185840707964e-05, 6.283185840707964e-05, 6.283185840707964e-05, 6.283185840707964e-05, 6.283185840707964e-05, 6.283185840707964e-05, 6.283185840707964e-05, 6.283185840707964e-05, 6.283185840707964e-05, 6.283185840707964e-05, 6.283185840707964e-05, 6.283185840707964e-05, 6.283185840707964e-05, 6.106194690265487e-05, 6.283185840707964e-05, 6.283185840707964e-05, 6.283185840707964e-05, 6.106194690265487e-05, 6.283185840707964e-05, 6.283185840707964e-05, 6.283185840707964e-05, 6.283185840707964e-05, 6.106194690265487e-05, 6.283185840707964e-05, 6.106194690265487e-05, 6.106194690265487e-05, 6.283185840707964e-05, 6.283185840707964e-05, 6.283185840707964e-05, 6.106194690265487e-05, 6.106194690265487e-05, 6.106194690265487e-05, 6.283185840707964e-05, 6.283185840707964e-05, 6.283185840707964e-05, 6.283185840707964e-05, 6.283185840707964e-05, 6.283185840707964e-05, 6.283185840707964e-05, 6.283185840707964e-05, 6.283185840707964e-05, 6.283185840707964e-05, 6.283185840707964e-05, 6.283185840707964e-05, 6.283185840707964e-05, 6.283185840707964e-05, 6.283185840707964e-05, 6.283185840707964e-05, 6.283185840707964e-05, 6.283185840707964e-05, 6.283185840707964e-05, 6.283185840707964e-05, 6.283185840707964e-05], \"xaxis\": \"x\", \"y\": [7.5, 6.5, 6.5, 9.0, 8.0, 7.0, 7.0, 6.5, 7.0, 6.5, 8.0, 7.5, 6.5, 8.0, 7.5, 7.0, 7.0, 6.5, 10.0, 8.0, 7.5, 6.5, 6.5, 5.5, 9.5, 7.5, 7.5, 8.0, 7.0, 7.5, 8.0, 7.5, 10.0, 8.0, 7.5, 6.5, 8.0, 9.0, 6.5, 8.0, 7.5, 7.5, 8.0, 7.0, 7.0, 7.0, 7.5, 6.5, 6.5, 8.5, 9.0, 6.5, 10.0, 7.5, 7.0, 7.5, 7.0, 8.0, 7.0, 6.5, 7.5, 7.5, 6.5, 7.5, 6.5, 7.5, 6.5, 6.5, 11.0, 6.5, 7.0, 6.5, 7.5, 6.5, 6.5, 7.0, 8.0, 8.0, 6.5, 8.0, 8.5, 7.5, 6.5, 8.0, 6.5, 6.5, 6.5, 8.0, 6.5, 6.5, 6.5, 6.5, 7.5, 8.0, 7.5, 7.5, 11.0, 7.0, 7.0, 7.0, 7.5, 6.5, 8.0, 7.0, 7.5, 5.5, 7.0, 6.5, 11.5, 7.5, 7.5, 6.5, 7.5, 6.5, 8.0, 6.5, 6.5, 6.5, 7.5, 9.0, 9.0, 8.0, 8.0, 9.0, 6.5, 6.5, 6.5, 8.0, 8.5, 8.5, 7.5, 8.0, 8.0, 7.5, 8.0, 8.0, 7.0, 6.5, 8.5, 7.5, 7.0, 9.0, 8.0, 10.0, 8.5, 8.5, 10.0, 9.5, 10.0, 7.5, 10.0, 7.0, 7.0, 6.5, 6.5, 7.0, 6.5, 6.5, 7.0, 6.5, 7.0, 8.0, 7.5, 6.5, 7.5, 7.0, 12.5, 7.0, 5.5, 7.5, 6.5, 5.5, 6.5, 7.0, 6.5, 6.5, 7.5, 7.5, 6.5, 6.5, 7.5, 7.0, 7.0, 7.0, 6.5, 6.0, 7.5, 6.5, 8.5, 5.5, 8.0, 6.5, 7.5, 6.5, 8.5, 6.5, 7.0, 6.5, 7.5, 7.0, 7.0, 8.0, 7.5, 8.5, 7.0, 8.0, 6.5, 7.5, 7.5, 6.5, 6.5, 7.0, 7.5, 7.0, 6.5, 7.5, 6.5, 7.5, 7.5, 7.0, 7.5, 7.0, 6.5, 7.5, 6.5, 7.0, 8.5, 8.5, 7.5, 7.5, 8.5, 9.0, 7.5, 6.5, 7.5, 7.5, 9.0, 6.5, 7.0, 8.0, 7.5, 6.5, 7.5, 7.5, 6.5, 8.0, 7.0, 7.5, 9.5, 6.5, 8.0, 8.5, 7.0, 7.5, 6.5, 9.0, 6.5, 5.5, 8.0, 7.0, 7.0, 7.0, 7.5, 7.5, 7.5, 7.5, 7.5, 7.5, 7.5, 6.5, 7.0, 6.5, 6.5, 8.0, 8.5, 8.0, 8.5, 6.5, 7.5, 7.0, 8.0, 7.5, 7.0, 6.5, 6.5, 7.5, 7.5, 7.5, 7.0, 7.0, 6.5, 7.5, 6.5, 8.0, 6.5, 6.5, 6.5, 5.5, 7.5, 7.5, 7.5, 7.0, 6.5, 6.5, 6.5, 7.5, 8.0, 7.5, 6.5, 7.5, 10.0, 8.5, 6.5, 7.0, 6.5, 10.0, 6.5, 6.5, 7.5, 7.0, 5.5, 6.5, 6.5, 7.5, 7.5, 7.5, 6.5, 7.5, 6.5, 6.5, 6.5, 6.5, 6.5, 7.0, 7.0, 5.5, 8.0, 6.5, 7.0, 7.5, 7.0, 7.0, 8.5, 6.0, 9.0, 6.5, 7.0, 7.0, 8.0, 7.5, 6.5, 6.5, 7.5, 6.5, 8.5, 8.0, 6.5, 6.5, 7.5, 7.5, 9.0, 7.0, 7.0, 6.5, 8.5, 6.5, 7.0, 11.5, 6.5, 7.5, 6.5, 5.5, 8.0, 6.5, 6.5, 7.5, 6.5, 7.5, 12.0, 7.5, 6.5, 8.0, 7.5, 8.5, 7.5, 7.0, 6.5, 7.5, 8.5, 7.5, 6.5, 7.5, 5.5, 7.5, 5.5, 7.0, 7.5, 10.0, 8.0, 8.5, 8.5, 9.5, 6.5, 7.5, 7.0, 7.0, 8.5, 7.5, 6.5, 6.5, 8.0, 8.0, 6.5, 7.0, 7.0, 5.5, 6.5, 7.5, 7.5, 7.5, 7.0, 8.0, 8.5, 6.5, 10.0, 10.0, 6.5, 7.5, 7.0, 7.0, 7.0, 6.5, 7.0, 6.5, 8.0, 7.5, 7.0, 6.5, 7.0, 7.5, 6.5, 7.0, 7.5, 8.5, 6.5, 7.5, 8.0, 6.0, 6.5, 7.5, 7.5, 5.5, 6.5, 6.5, 9.0, 6.5, 11.0, 7.5, 8.0, 6.5, 6.5, 7.5, 7.0, 11.0, 7.5, 7.0, 6.5, 5.5, 7.5, 7.0, 7.5, 8.0, 6.5, 6.5, 8.0, 6.5, 7.0, 7.0, 7.5, 6.5, 7.5, 7.5, 7.5, 12.0, 7.5, 7.0, 5.5, 9.0, 7.5, 8.0, 6.5, 7.0, 8.5, 7.5, 7.5, 7.5, 6.5, 8.0, 7.5, 8.5, 8.5, 8.0, 7.0, 6.5, 7.0, 7.5, 7.0, 8.0, 7.5, 8.0, 7.0, 7.5, 7.5, 6.5, 6.5, 8.5, 7.0, 8.0, 7.5, 7.0, 7.0, 8.0, 7.0], \"yaxis\": \"y\", \"type\": \"scatter\"}, {\"customdata\": [[1.5, \"Shared\"], [1.5, \"Shared\"], [1.5, \"Shared\"], [1.5, \"Shared\"], [1.5, \"Shared\"], [1.5, \"Shared\"], [1.5, \"Shared\"], [1.5, \"Shared\"], [1.5, \"Shared\"], [1.5, \"Shared\"], [1.5, \"Shared\"], [1.5, \"Shared\"], [1.5, \"Shared\"], [1.5, \"Shared\"], [1.5, \"Shared\"], [1.5, \"Shared\"], [1.5, \"Shared\"], [1.5, \"Shared\"], [1.5, \"Shared\"], [1.5, \"Shared\"], [1.5, \"Shared\"], [1.5, \"Shared\"], [1.5, \"Shared\"], [1.5, \"Shared\"], [1.5, \"Shared\"], [1.5, \"Shared\"], [1.5, \"Shared\"], [1.5, \"Shared\"], [1.5, \"Shared\"], [1.5, \"Shared\"], [1.5, \"Shared\"], [1.5, \"Shared\"], [1.5, \"Shared\"], [1.5, \"Shared\"], [1.5, \"Shared\"], [1.5, \"Shared\"], [1.5, \"Shared\"], [1.5, \"Shared\"], [1.5, \"Shared\"], [1.5, \"Shared\"], [1.5, \"Shared\"], [1.5, \"Shared\"], [1.5, \"Shared\"], [1.5, \"Shared\"], [1.5, \"Shared\"], [1.5, \"Shared\"], [1.5, \"Shared\"], [1.5, \"Shared\"], [1.5, \"Shared\"], [1.5, \"Shared\"], [1.5, \"Shared\"], [1.5, \"Shared\"], [1.5, \"Shared\"], [1.5, \"Shared\"], [1.5, \"Shared\"], [1.5, \"Shared\"], [1.5, \"Shared\"], [1.5, \"Shared\"], [1.5, \"Shared\"], [1.5, \"Shared\"], [1.5, \"Shared\"], [1.5, \"Shared\"], [1.5, \"Shared\"], [1.5, \"Shared\"], [1.5, \"Shared\"], [1.5, \"Shared\"], [1.5, \"Shared\"], [1.5, \"Shared\"], [1.5, \"Shared\"], [1.5, \"Shared\"], [1.5, \"Shared\"], [1.5, \"Shared\"], [1.5, \"Shared\"], [1.5, \"Shared\"], [1.5, \"Shared\"], [1.5, \"Shared\"], [1.5, \"Shared\"], [1.5, \"Shared\"], [1.5, \"Shared\"], [1.5, \"Shared\"], [1.5, \"Shared\"], [1.5, \"Shared\"], [1.5, \"Shared\"], [1.5, \"Shared\"], [1.5, \"Shared\"], [1.5, \"Shared\"], [1.5, \"Shared\"], [1.5, \"Shared\"], [1.5, \"Shared\"], [1.5, \"Shared\"], [1.5, \"Shared\"], [1.5, \"Shared\"], [1.5, \"Shared\"], [1.5, \"Shared\"], [1.5, \"Shared\"], [1.5, \"Shared\"], [1.5, \"Shared\"], [1.5, \"Shared\"], [1.5, \"Shared\"], [1.5, \"Shared\"], [1.5, \"Shared\"], [1.5, \"Shared\"], [1.5, \"Shared\"], [1.5, \"Shared\"], [1.5, \"Shared\"], [1.5, \"Shared\"], [1.5, \"Shared\"], [1.5, \"Shared\"], [1.5, \"Shared\"], [1.5, \"Shared\"], [1.5, \"Shared\"], [1.5, \"Shared\"], [1.5, \"Shared\"], [1.5, \"Shared\"], [1.5, \"Shared\"], [1.5, \"Shared\"], [1.5, \"Shared\"], [1.5, \"Shared\"], [1.5, \"Shared\"], [1.5, \"Shared\"], [1.5, \"Shared\"], [1.5, \"Shared\"], [1.5, \"Shared\"], [1.5, \"Shared\"], [1.5, \"Shared\"], [1.5, \"Shared\"], [1.5, \"Shared\"], [1.5, \"Shared\"], [1.5, \"Shared\"], [1.5, \"Shared\"], [1.5, \"Shared\"], [1.5, \"Shared\"], [1.5, \"Shared\"], [1.5, \"Shared\"], [1.5, \"Shared\"], [1.5, \"Shared\"], [1.5, \"Shared\"], [1.5, \"Shared\"], [1.5, \"Shared\"], [1.5, \"Shared\"], [1.5, \"Shared\"], [1.5, \"Shared\"], [1.5, \"Shared\"], [1.5, \"Shared\"], [1.5, \"Shared\"], [1.5, \"Shared\"], [1.5, \"Shared\"], [1.5, \"Shared\"], [1.5, \"Shared\"], [1.5, \"Shared\"], [1.5, \"Shared\"], [1.5, \"Shared\"], [1.5, \"Shared\"], [1.5, \"Shared\"], [1.5, \"Shared\"], [1.5, \"Shared\"], [1.5, \"Shared\"], [1.5, \"Shared\"], [1.5, \"Shared\"], [1.5, \"Shared\"], [1.5, \"Shared\"], [1.5, \"Shared\"], [1.5, \"Shared\"], [1.5, \"Shared\"], [1.5, \"Shared\"], [1.5, \"Shared\"], [1.5, \"Shared\"], [1.5, \"Shared\"], [1.5, \"Shared\"], [1.5, \"Shared\"], [1.5, \"Shared\"], [1.5, \"Shared\"]], \"hovertemplate\": \"cab_type=Lyft<br>distance=%{customdata[0]}<br>source_rain=%{x}<br>price=%{y}<br>name=%{customdata[1]}<extra></extra>\", \"legendgroup\": \"Lyft\", \"marker\": {\"color\": \"#FF00BF\", \"symbol\": \"circle\"}, \"mode\": \"markers\", \"name\": \"Lyft\", \"orientation\": \"v\", \"showlegend\": true, \"x\": [0.007816666666666668, 0.0003708333333333333, 0.007816666666666668, 0.04091566265060241, 0.007816666666666668, 0.04091566265060241, 0.04186746987951808, 0.04091566265060241, 0.0005166666666666667, 0.0005166666666666667, 0.0005166666666666667, 4.424778761061947e-05, 4.424778761061947e-05, 4.424778761061947e-05, 4.424778761061947e-05, 0.00035000000000000005, 0.00035000000000000005, 0.00035000000000000005, 0.04186746987951808, 0.04358915662650602, 0.04186746987951808, 0.04186746987951808, 0.04186746987951808, 0.04091566265060241, 0.00020833333333333332, 0.00035000000000000005, 0.0007083333333333332, 0.0007083333333333332, 0.0007083333333333332, 0.0003708333333333333, 0.0003708333333333333, 0.007816666666666668, 0.0005166666666666667, 0.0006374999999999999, 0.008, 0.008008333333333334, 0.004900000000000001, 0.008191666666666667, 0.0003750000000000001, 0.0003750000000000001, 0.0003750000000000001, 0.008466666666666667, 0.008466666666666667, 0.008466666666666667, 0.008466666666666667, 0.0087375, 0.0087375, 0.0087375, 0.0087375, 0.0087375, 0.0087375, 0.0010857142857142858, 0.0010857142857142858, 0.0003750000000000001, 0.002, 0.002, 0.002, 0.004900000000000001, 0.0003750000000000001, 7.964601769911506e-05, 7.964601769911506e-05, 7.964601769911506e-05, 0.00012035398230088497, 0.00012035398230088497, 0.00010176991150442478, 0.00010176991150442478, 0.00010176991150442478, 7.964601769911506e-05, 7.142857142857143e-05, 7.142857142857143e-05, 7.142857142857143e-05, 7.142857142857143e-05, 7.142857142857143e-05, 7.964601769911506e-05, 7.964601769911506e-05, 7.964601769911506e-05, 0.005946341463414635, 0.005946341463414635, 0.005946341463414635, 0.005946341463414635, 0.006778048780487806, 0.005946341463414635, 0.005946341463414635, 0.005946341463414635, 0.004900000000000001, 0.004900000000000001, 0.004900000000000001, 0.004900000000000001, 7.142857142857143e-05, 7.142857142857143e-05, 7.142857142857144e-06, 7.142857142857143e-05, 7.142857142857143e-05, 7.142857142857143e-05, 7.142857142857143e-05, 7.142857142857143e-05, 7.964601769911506e-05, 0.0129125, 0.00265, 0.0002875, 0.0013642857142857141, 9.090909090909092e-05, 9.090909090909092e-05, 0.0003750000000000001, 0.0004166666666666666, 0.0004166666666666666, 0.000625, 0.0003750000000000001, 0.0003750000000000001, 0.0003833333333333333, 0.0006083333333333332, 0.0006083333333333332, 0.0006083333333333332, 0.037704819277108434, 0.005607317073170731, 0.005607317073170731, 0.005607317073170731, 0.005607317073170731, 9.090909090909092e-05, 9.090909090909092e-05, 9.090909090909092e-05, 9.090909090909092e-05, 9.090909090909092e-05, 9.090909090909092e-05, 0.0071756097560975625, 0.0071756097560975625, 0.0045439024390243905, 9.090909090909092e-05, 0.03904819277108433, 9.090909090909092e-05, 9.090909090909092e-05, 0.03904819277108433, 0.03904819277108433, 0.0132125, 0.013000000000000005, 0.0132125, 0.0132125, 0.013000000000000005, 0.014329166666666669, 0.01355, 0.01355, 0.01355, 0.01355, 0.01355, 0.01355, 0.014329166666666669, 0.014329166666666669, 0.03904819277108433, 0.03904819277108433, 0.03904819277108433, 0.03904819277108433, 0.03904819277108433, 0.03904819277108433, 0.03728192771084338, 0.0434144578313253, 0.0434144578313253, 0.0434144578313253, 0.0434144578313253, 0.0434144578313253, 0.014329166666666669, 0.014329166666666669, 0.014329166666666669, 0.014329166666666669, 0.03904819277108433, 0.0434144578313253, 0.0434144578313253, 6.283185840707964e-05, 6.283185840707964e-05, 6.283185840707964e-05, 0.00010442477876106196, 0.00010442477876106196, 0.00010442477876106196], \"xaxis\": \"x\", \"y\": [5.0, 5.0, 5.0, 5.0, 5.0, 7.0, 5.0, 7.0, 7.0, 5.0, 7.0, 5.0, 3.0, 5.0, 5.0, 13.5, 5.0, 7.0, 7.0, 5.0, 7.0, 9.0, 3.0, 5.0, 11.0, 3.0, 7.0, 7.0, 3.5, 5.0, 5.0, 7.0, 5.0, 7.0, 7.0, 5.0, 5.0, 3.5, 5.0, 3.5, 5.0, 7.0, 7.0, 7.0, 5.0, 5.0, 5.0, 5.0, 3.5, 5.0, 5.0, 5.0, 5.0, 2.5, 7.0, 7.0, 7.0, 5.0, 3.0, 5.0, 5.0, 7.0, 5.0, 7.0, 5.0, 5.0, 7.0, 5.0, 7.0, 7.0, 7.0, 7.0, 7.0, 3.0, 3.5, 5.0, 7.0, 7.0, 5.0, 5.0, 5.0, 5.0, 5.0, 5.0, 3.5, 3.0, 5.0, 5.0, 3.0, 7.0, 7.0, 5.0, 7.0, 3.0, 10.5, 5.0, 7.0, 3.0, 5.0, 5.0, 3.0, 7.0, 3.0, 7.0, 3.5, 5.0, 7.0, 3.5, 5.0, 5.0, 7.0, 7.0, 7.0, 5.0, 3.5, 5.0, 5.0, 3.5, 7.0, 5.0, 5.0, 3.0, 5.0, 5.0, 7.0, 7.0, 5.0, 3.0, 7.0, 3.0, 3.0, 5.0, 5.0, 5.0, 5.0, 5.0, 7.0, 5.0, 5.0, 3.5, 5.0, 5.0, 5.0, 7.0, 5.0, 7.0, 7.0, 5.0, 5.0, 3.0, 5.0, 3.5, 3.0, 5.0, 7.0, 7.0, 7.0, 7.0, 7.0, 9.0, 7.0, 7.0, 7.0, 5.0, 7.0, 7.0, 5.0, 7.0, 5.0, 3.0, 7.0, 7.0], \"yaxis\": \"y\", \"type\": \"scatter\"}], \"name\": \"1.5\"}, {\"data\": [{\"customdata\": [[2.0, \"UberPool\"], [2.0, \"UberPool\"], [2.0, \"UberPool\"], [2.0, \"UberPool\"], [2.0, \"UberPool\"]], \"hovertemplate\": \"cab_type=Uber<br>distance=%{customdata[0]}<br>source_rain=%{x}<br>price=%{y}<br>name=%{customdata[1]}<extra></extra>\", \"legendgroup\": \"Uber\", \"marker\": {\"color\": \"#000000\", \"symbol\": \"circle\"}, \"mode\": \"markers\", \"name\": \"Uber\", \"orientation\": \"v\", \"showlegend\": true, \"x\": [0.0129125, 0.004900000000000001, 0.004900000000000001, 7.964601769911506e-05, 7.964601769911506e-05], \"xaxis\": \"x\", \"y\": [7.5, 7.5, 8.5, 8.5, 8.5], \"yaxis\": \"y\", \"type\": \"scatter\"}, {\"customdata\": [[2.0, \"Shared\"], [2.0, \"Shared\"], [2.0, \"Shared\"], [2.0, \"Shared\"], [2.0, \"Shared\"], [2.0, \"Shared\"], [2.0, \"Shared\"], [2.0, \"Shared\"], [2.0, \"Shared\"], [2.0, \"Shared\"], [2.0, \"Shared\"], [2.0, \"Shared\"], [2.0, \"Shared\"], [2.0, \"Shared\"], [2.0, \"Shared\"], [2.0, \"Shared\"], [2.0, \"Shared\"], [2.0, \"Shared\"], [2.0, \"Shared\"], [2.0, \"Shared\"], [2.0, \"Shared\"], [2.0, \"Shared\"], [2.0, \"Shared\"], [2.0, \"Shared\"], [2.0, \"Shared\"], [2.0, \"Shared\"], [2.0, \"Shared\"], [2.0, \"Shared\"], [2.0, \"Shared\"], [2.0, \"Shared\"], [2.0, \"Shared\"], [2.0, \"Shared\"], [2.0, \"Shared\"], [2.0, \"Shared\"], [2.0, \"Shared\"], [2.0, \"Shared\"], [2.0, \"Shared\"], [2.0, \"Shared\"], [2.0, \"Shared\"], [2.0, \"Shared\"], [2.0, \"Shared\"], [2.0, \"Shared\"], [2.0, \"Shared\"], [2.0, \"Shared\"], [2.0, \"Shared\"], [2.0, \"Shared\"], [2.0, \"Shared\"], [2.0, \"Shared\"], [2.0, \"Shared\"], [2.0, \"Shared\"], [2.0, \"Shared\"], [2.0, \"Shared\"], [2.0, \"Shared\"], [2.0, \"Shared\"], [2.0, \"Shared\"], [2.0, \"Shared\"], [2.0, \"Shared\"], [2.0, \"Shared\"], [2.0, \"Shared\"], [2.0, \"Shared\"], [2.0, \"Shared\"], [2.0, \"Shared\"], [2.0, \"Shared\"], [2.0, \"Shared\"], [2.0, \"Shared\"], [2.0, \"Shared\"], [2.0, \"Shared\"], [2.0, \"Shared\"], [2.0, \"Shared\"], [2.0, \"Shared\"], [2.0, \"Shared\"], [2.0, \"Shared\"], [2.0, \"Shared\"], [2.0, \"Shared\"], [2.0, \"Shared\"], [2.0, \"Shared\"], [2.0, \"Shared\"], [2.0, \"Shared\"], [2.0, \"Shared\"], [2.0, \"Shared\"], [2.0, \"Shared\"], [2.0, \"Shared\"], [2.0, \"Shared\"], [2.0, \"Shared\"], [2.0, \"Shared\"], [2.0, \"Shared\"], [2.0, \"Shared\"], [2.0, \"Shared\"], [2.0, \"Shared\"], [2.0, \"Shared\"], [2.0, \"Shared\"], [2.0, \"Shared\"], [2.0, \"Shared\"], [2.0, \"Shared\"], [2.0, \"Shared\"], [2.0, \"Shared\"], [2.0, \"Shared\"], [2.0, \"Shared\"], [2.0, \"Shared\"], [2.0, \"Shared\"], [2.0, \"Shared\"], [2.0, \"Shared\"], [2.0, \"Shared\"], [2.0, \"Shared\"], [2.0, \"Shared\"], [2.0, \"Shared\"], [2.0, \"Shared\"], [2.0, \"Shared\"], [2.0, \"Shared\"]], \"hovertemplate\": \"cab_type=Lyft<br>distance=%{customdata[0]}<br>source_rain=%{x}<br>price=%{y}<br>name=%{customdata[1]}<extra></extra>\", \"legendgroup\": \"Lyft\", \"marker\": {\"color\": \"#FF00BF\", \"symbol\": \"circle\"}, \"mode\": \"markers\", \"name\": \"Lyft\", \"orientation\": \"v\", \"showlegend\": true, \"x\": [0.0052463414634146355, 0.0045439024390243905, 0.0045439024390243905, 0.006958536585365854, 0.002214285714285714, 0.0045439024390243905, 0.04186746987951808, 0.0045439024390243905, 0.00010357142857142856, 0.00010707964601769912, 7.142857142857143e-05, 0.0052463414634146355, 0.014566666666666669, 0.0052463414634146355, 0.00010707964601769912, 0.0052463414634146355, 9.090909090909092e-05, 9.090909090909092e-05, 0.006958536585365854, 0.0003, 0.0003, 0.0003, 0.0003, 0.006958536585365854, 0.006958536585365854, 0.00010707964601769912, 6.106194690265487e-05, 0.00010707964601769912, 0.00010357142857142856, 7.142857142857143e-05, 6.106194690265487e-05, 0.007954166666666667, 0.0003750000000000001, 0.013000000000000005, 0.013000000000000005, 0.013000000000000005, 0.0007083333333333332, 0.008370833333333333, 8.333333333333333e-05, 0.01355, 0.014620833333333331, 8.333333333333333e-05, 0.014620833333333331, 0.013000000000000005, 0.0003642857142857143, 0.0003642857142857143, 0.0003642857142857143, 0.0003642857142857143, 0.0003642857142857143, 0.0003642857142857143, 0.0003642857142857143, 0.0003642857142857143, 0.014329166666666669, 0.012837500000000002, 0.002214285714285714, 0.0003642857142857143, 0.013000000000000005, 0.013000000000000005, 0.013000000000000005, 0.0003750000000000001, 0.0003750000000000001, 0.0003750000000000001, 0.0003750000000000001, 0.0003750000000000001, 0.0003750000000000001, 0.0003750000000000001, 0.0003750000000000001, 0.0007083333333333332, 0.043559036144578296, 0.037704819277108434, 0.037704819277108434, 0.037704819277108434, 0.037704819277108434, 0.037704819277108434, 0.037704819277108434, 0.037704819277108434, 0.04285301204819278, 0.007954166666666667, 0.0045439024390243905, 0.007954166666666667, 0.008308333333333333, 0.04285301204819278, 0.000625, 0.0045439024390243905, 0.002214285714285714, 0.0045439024390243905, 4.424778761061947e-05, 4.424778761061947e-05, 4.424778761061947e-05, 4.424778761061947e-05, 4.424778761061947e-05, 4.424778761061947e-05, 0.0045439024390243905, 0.0005166666666666667, 4.424778761061947e-05, 9.090909090909092e-05, 9.090909090909092e-05, 9.090909090909092e-05, 8.181818181818183e-05, 8.181818181818183e-05, 4.424778761061947e-05, 0.005946341463414635, 4.424778761061947e-05, 4.424778761061947e-05, 6.106194690265487e-05, 4.424778761061947e-05, 0.0045439024390243905, 0.0045439024390243905, 0.005946341463414635], \"xaxis\": \"x\", \"y\": [7.0, 5.0, 7.0, 7.0, 7.0, 9.0, 7.0, 9.0, 7.0, 7.0, 7.0, 7.0, 3.0, 7.0, 7.0, 7.0, 7.0, 5.0, 7.0, 3.0, 3.0, 7.0, 3.5, 7.0, 7.0, 7.0, 9.0, 7.0, 3.5, 7.0, 7.0, 7.0, 7.0, 5.0, 7.0, 7.0, 7.0, 7.0, 5.0, 5.0, 7.0, 3.5, 7.0, 7.0, 7.0, 7.0, 7.0, 7.0, 5.0, 7.0, 3.5, 7.0, 7.0, 3.5, 7.0, 5.0, 5.0, 7.0, 7.0, 5.0, 7.0, 7.0, 3.0, 3.5, 11.0, 7.0, 7.0, 3.5, 7.0, 7.0, 7.0, 3.0, 7.0, 5.0, 7.0, 7.0, 7.0, 7.0, 7.0, 7.0, 7.0, 7.0, 7.0, 5.0, 5.0, 5.0, 7.0, 7.0, 7.0, 5.0, 7.0, 3.0, 7.0, 5.0, 7.0, 3.5, 7.0, 3.0, 7.0, 7.0, 7.0, 7.0, 7.0, 7.0, 7.0, 7.0, 7.0, 7.0, 7.0], \"yaxis\": \"y\", \"type\": \"scatter\"}], \"name\": \"2.0\"}, {\"data\": [{\"customdata\": [[2.5, \"UberPool\"], [2.5, \"UberPool\"], [2.5, \"UberPool\"], [2.5, \"UberPool\"], [2.5, \"UberPool\"], [2.5, \"UberPool\"], [2.5, \"UberPool\"], [2.5, \"UberPool\"], [2.5, \"UberPool\"], [2.5, \"UberPool\"], [2.5, \"UberPool\"], [2.5, \"UberPool\"], [2.5, \"UberPool\"], [2.5, \"UberPool\"], [2.5, \"UberPool\"], [2.5, \"UberPool\"], [2.5, \"UberPool\"], [2.5, \"UberPool\"], [2.5, \"UberPool\"], [2.5, \"UberPool\"], [2.5, \"UberPool\"], [2.5, \"UberPool\"], [2.5, \"UberPool\"], [2.5, \"UberPool\"], [2.5, \"UberPool\"], [2.5, \"UberPool\"], [2.5, \"UberPool\"], [2.5, \"UberPool\"], [2.5, \"UberPool\"], [2.5, \"UberPool\"], [2.5, \"UberPool\"], [2.5, \"UberPool\"], [2.5, \"UberPool\"], [2.5, \"UberPool\"], [2.5, \"UberPool\"], [2.5, \"UberPool\"], [2.5, \"UberPool\"], [2.5, \"UberPool\"], [2.5, \"UberPool\"], [2.5, \"UberPool\"], [2.5, \"UberPool\"], [2.5, \"UberPool\"], [2.5, \"UberPool\"], [2.5, \"UberPool\"], [2.5, \"UberPool\"], [2.5, \"UberPool\"], [2.5, \"UberPool\"], [2.5, \"UberPool\"], [2.5, \"UberPool\"], [2.5, \"UberPool\"], [2.5, \"UberPool\"], [2.5, \"UberPool\"], [2.5, \"UberPool\"], [2.5, \"UberPool\"], [2.5, \"UberPool\"], [2.5, \"UberPool\"], [2.5, \"UberPool\"], [2.5, \"UberPool\"], [2.5, \"UberPool\"], [2.5, \"UberPool\"], [2.5, \"UberPool\"], [2.5, \"UberPool\"], [2.5, \"UberPool\"], [2.5, \"UberPool\"], [2.5, \"UberPool\"], [2.5, \"UberPool\"], [2.5, \"UberPool\"], [2.5, \"UberPool\"], [2.5, \"UberPool\"], [2.5, \"UberPool\"], [2.5, \"UberPool\"], [2.5, \"UberPool\"], [2.5, \"UberPool\"], [2.5, \"UberPool\"], [2.5, \"UberPool\"], [2.5, \"UberPool\"], [2.5, \"UberPool\"], [2.5, \"UberPool\"], [2.5, \"UberPool\"], [2.5, \"UberPool\"], [2.5, \"UberPool\"], [2.5, \"UberPool\"], [2.5, \"UberPool\"], [2.5, \"UberPool\"], [2.5, \"UberPool\"], [2.5, \"UberPool\"], [2.5, \"UberPool\"], [2.5, \"UberPool\"], [2.5, \"UberPool\"], [2.5, \"UberPool\"], [2.5, \"UberPool\"], [2.5, \"UberPool\"], [2.5, \"UberPool\"], [2.5, \"UberPool\"], [2.5, \"UberPool\"], [2.5, \"UberPool\"], [2.5, \"UberPool\"], [2.5, \"UberPool\"], [2.5, \"UberPool\"], [2.5, \"UberPool\"], [2.5, \"UberPool\"], [2.5, \"UberPool\"], [2.5, \"UberPool\"], [2.5, \"UberPool\"], [2.5, \"UberPool\"], [2.5, \"UberPool\"], [2.5, \"UberPool\"], [2.5, \"UberPool\"], [2.5, \"UberPool\"], [2.5, \"UberPool\"], [2.5, \"UberPool\"], [2.5, \"UberPool\"], [2.5, \"UberPool\"], [2.5, \"UberPool\"], [2.5, \"UberPool\"], [2.5, \"UberPool\"], [2.5, \"UberPool\"], [2.5, \"UberPool\"], [2.5, \"UberPool\"], [2.5, \"UberPool\"], [2.5, \"UberPool\"], [2.5, \"UberPool\"], [2.5, \"UberPool\"], [2.5, \"UberPool\"], [2.5, \"UberPool\"], [2.5, \"UberPool\"], [2.5, \"UberPool\"], [2.5, \"UberPool\"], [2.5, \"UberPool\"], [2.5, \"UberPool\"], [2.5, \"UberPool\"], [2.5, \"UberPool\"], [2.5, \"UberPool\"], [2.5, \"UberPool\"], [2.5, \"UberPool\"], [2.5, \"UberPool\"], [2.5, \"UberPool\"], [2.5, \"UberPool\"], [2.5, \"UberPool\"], [2.5, \"UberPool\"], [2.5, \"UberPool\"], [2.5, \"UberPool\"], [2.5, \"UberPool\"], [2.5, \"UberPool\"], [2.5, \"UberPool\"], [2.5, \"UberPool\"], [2.5, \"UberPool\"], [2.5, \"UberPool\"], [2.5, \"UberPool\"], [2.5, \"UberPool\"], [2.5, \"UberPool\"], [2.5, \"UberPool\"], [2.5, \"UberPool\"], [2.5, \"UberPool\"], [2.5, \"UberPool\"], [2.5, \"UberPool\"], [2.5, \"UberPool\"], [2.5, \"UberPool\"], [2.5, \"UberPool\"], [2.5, \"UberPool\"], [2.5, \"UberPool\"], [2.5, \"UberPool\"], [2.5, \"UberPool\"], [2.5, \"UberPool\"], [2.5, \"UberPool\"], [2.5, \"UberPool\"], [2.5, \"UberPool\"], [2.5, \"UberPool\"], [2.5, \"UberPool\"], [2.5, \"UberPool\"], [2.5, \"UberPool\"], [2.5, \"UberPool\"], [2.5, \"UberPool\"], [2.5, \"UberPool\"], [2.5, \"UberPool\"], [2.5, \"UberPool\"], [2.5, \"UberPool\"], [2.5, \"UberPool\"], [2.5, \"UberPool\"], [2.5, \"UberPool\"], [2.5, \"UberPool\"], [2.5, \"UberPool\"], [2.5, \"UberPool\"], [2.5, \"UberPool\"], [2.5, \"UberPool\"], [2.5, \"UberPool\"], [2.5, \"UberPool\"], [2.5, \"UberPool\"], [2.5, \"UberPool\"], [2.5, \"UberPool\"], [2.5, \"UberPool\"], [2.5, \"UberPool\"], [2.5, \"UberPool\"], [2.5, \"UberPool\"], [2.5, \"UberPool\"], [2.5, \"UberPool\"], [2.5, \"UberPool\"], [2.5, \"UberPool\"], [2.5, \"UberPool\"], [2.5, \"UberPool\"], [2.5, \"UberPool\"], [2.5, \"UberPool\"], [2.5, \"UberPool\"], [2.5, \"UberPool\"], [2.5, \"UberPool\"], [2.5, \"UberPool\"], [2.5, \"UberPool\"], [2.5, \"UberPool\"], [2.5, \"UberPool\"], [2.5, \"UberPool\"], [2.5, \"UberPool\"], [2.5, \"UberPool\"], [2.5, \"UberPool\"], [2.5, \"UberPool\"], [2.5, \"UberPool\"], [2.5, \"UberPool\"], [2.5, \"UberPool\"], [2.5, \"UberPool\"], [2.5, \"UberPool\"], [2.5, \"UberPool\"], [2.5, \"UberPool\"], [2.5, \"UberPool\"], [2.5, \"UberPool\"], [2.5, \"UberPool\"], [2.5, \"UberPool\"], [2.5, \"UberPool\"], [2.5, \"UberPool\"], [2.5, \"UberPool\"], [2.5, \"UberPool\"], [2.5, \"UberPool\"], [2.5, \"UberPool\"], [2.5, \"UberPool\"], [2.5, \"UberPool\"], [2.5, \"UberPool\"], [2.5, \"UberPool\"], [2.5, \"UberPool\"], [2.5, \"UberPool\"], [2.5, \"UberPool\"], [2.5, \"UberPool\"], [2.5, \"UberPool\"], [2.5, \"UberPool\"], [2.5, \"UberPool\"], [2.5, \"UberPool\"], [2.5, \"UberPool\"], [2.5, \"UberPool\"], [2.5, \"UberPool\"], [2.5, \"UberPool\"], [2.5, \"UberPool\"], [2.5, \"UberPool\"], [2.5, \"UberPool\"], [2.5, \"UberPool\"], [2.5, \"UberPool\"], [2.5, \"UberPool\"], [2.5, \"UberPool\"]], \"hovertemplate\": \"cab_type=Uber<br>distance=%{customdata[0]}<br>source_rain=%{x}<br>price=%{y}<br>name=%{customdata[1]}<extra></extra>\", \"legendgroup\": \"Uber\", \"marker\": {\"color\": \"#000000\", \"symbol\": \"circle\"}, \"mode\": \"markers\", \"name\": \"Uber\", \"orientation\": \"v\", \"showlegend\": true, \"x\": [0.008370833333333333, 0.008370833333333333, 0.008370833333333333, 0.008370833333333333, 0.008370833333333333, 0.0007083333333333332, 0.0007083333333333332, 0.0007083333333333332, 0.0007083333333333332, 0.0007083333333333332, 0.008370833333333333, 0.008370833333333333, 0.008370833333333333, 0.008370833333333333, 0.008370833333333333, 0.008370833333333333, 0.008370833333333333, 0.008370833333333333, 0.008370833333333333, 0.008370833333333333, 0.008370833333333333, 0.008370833333333333, 0.008370833333333333, 0.008370833333333333, 0.008370833333333333, 0.0007083333333333332, 0.008370833333333333, 0.008370833333333333, 0.008370833333333333, 0.008370833333333333, 0.008370833333333333, 0.008370833333333333, 0.0007083333333333332, 0.0007083333333333332, 0.0007083333333333332, 0.0052463414634146355, 0.0052463414634146355, 0.0052463414634146355, 0.0052463414634146355, 0.0052463414634146355, 0.0052463414634146355, 0.0052463414634146355, 0.0003833333333333333, 0.0003833333333333333, 0.0003833333333333333, 0.0003833333333333333, 0.0003833333333333333, 0.0003833333333333333, 0.0003833333333333333, 0.0003833333333333333, 0.0003833333333333333, 0.0003833333333333333, 0.0003833333333333333, 0.0003833333333333333, 0.0003833333333333333, 0.0003833333333333333, 0.0052463414634146355, 0.0052463414634146355, 0.0052463414634146355, 0.0007083333333333332, 0.0007083333333333332, 0.0007083333333333332, 6.106194690265487e-05, 0.0052463414634146355, 0.0052463414634146355, 0.0052463414634146355, 0.0052463414634146355, 0.0052463414634146355, 0.0052463414634146355, 0.0007083333333333332, 0.0007083333333333332, 0.0007083333333333332, 0.012837500000000002, 0.012837500000000002, 0.012837500000000002, 0.00195, 0.00195, 0.00195, 0.00195, 0.00195, 0.00195, 0.00195, 0.00195, 0.00195, 0.00195, 0.00195, 0.00195, 0.00195, 0.00195, 0.012837500000000002, 8.333333333333333e-05, 8.333333333333333e-05, 8.333333333333333e-05, 0.012837500000000002, 0.012837500000000002, 0.012837500000000002, 0.012837500000000002, 0.012837500000000002, 0.012837500000000002, 0.012837500000000002, 8.333333333333333e-05, 0.012837500000000002, 0.012837500000000002, 0.012837500000000002, 0.012837500000000002, 0.012837500000000002, 0.012837500000000002, 0.012837500000000002, 0.012837500000000002, 0.012837500000000002, 0.012837500000000002, 0.012837500000000002, 0.012837500000000002, 0.0007083333333333332, 8.333333333333333e-05, 8.333333333333333e-05, 0.005946341463414635, 0.005946341463414635, 0.0007083333333333332, 0.0007083333333333332, 0.0007083333333333332, 0.0007083333333333332, 0.0007083333333333332, 0.0007083333333333332, 0.0003833333333333333, 0.0007083333333333332, 0.0007083333333333332, 0.0007083333333333332, 0.0007083333333333332, 0.0007083333333333332, 6.283185840707964e-05, 8.333333333333333e-05, 8.333333333333333e-05, 8.333333333333333e-05, 8.333333333333333e-05, 8.333333333333333e-05, 8.333333333333333e-05, 8.333333333333333e-05, 8.333333333333333e-05, 8.333333333333333e-05, 8.333333333333333e-05, 8.333333333333333e-05, 8.333333333333333e-05, 8.333333333333333e-05, 8.333333333333333e-05, 8.333333333333333e-05, 8.333333333333333e-05, 8.333333333333333e-05, 0.012837500000000002, 0.0003833333333333333, 0.0052463414634146355, 0.0003833333333333333, 6.106194690265487e-05, 6.106194690265487e-05, 6.106194690265487e-05, 6.106194690265487e-05, 6.106194690265487e-05, 0.00010357142857142856, 0.00010357142857142856, 0.00010357142857142856, 0.00010357142857142856, 0.00010357142857142856, 0.00010357142857142856, 0.00010357142857142856, 0.00010357142857142856, 0.00010357142857142856, 0.00010357142857142856, 0.00010357142857142856, 0.00010357142857142856, 0.00010357142857142856, 0.00010357142857142856, 6.106194690265487e-05, 0.0052463414634146355, 0.0052463414634146355, 0.0052463414634146355, 0.0052463414634146355, 0.0052463414634146355, 0.0052463414634146355, 0.0052463414634146355, 0.00010176991150442478, 0.0003833333333333333, 0.0052463414634146355, 0.0052463414634146355, 0.00010357142857142856, 0.04285301204819278, 0.00010357142857142856, 0.00010357142857142856, 6.106194690265487e-05, 6.106194690265487e-05, 6.106194690265487e-05, 6.106194690265487e-05, 6.106194690265487e-05, 6.106194690265487e-05, 6.106194690265487e-05, 6.106194690265487e-05, 6.106194690265487e-05, 0.00010176991150442478, 6.106194690265487e-05, 0.00010176991150442478, 6.106194690265487e-05, 6.106194690265487e-05, 6.106194690265487e-05, 6.106194690265487e-05, 6.106194690265487e-05, 6.106194690265487e-05, 6.106194690265487e-05, 0.00493170731707317, 0.00010176991150442478, 0.00010357142857142856, 0.00010357142857142856, 0.00010357142857142856, 6.106194690265487e-05, 6.106194690265487e-05, 6.106194690265487e-05, 6.106194690265487e-05, 6.106194690265487e-05, 6.106194690265487e-05, 6.106194690265487e-05, 6.106194690265487e-05, 6.106194690265487e-05, 6.106194690265487e-05, 6.106194690265487e-05, 6.106194690265487e-05, 0.00010357142857142856, 9.090909090909092e-05, 0.04285301204819278, 0.04285301204819278, 0.04285301204819278, 0.04285301204819278, 0.04285301204819278, 0.04285301204819278, 0.04285301204819278, 0.04285301204819278, 0.04285301204819278, 0.04285301204819278, 0.04285301204819278, 0.04285301204819278, 0.04285301204819278, 0.04285301204819278, 0.04285301204819278, 0.04285301204819278, 0.04285301204819278, 0.04285301204819278, 0.04285301204819278, 0.04285301204819278, 0.04285301204819278, 0.04285301204819278, 0.0052463414634146355, 0.04285301204819278, 0.04285301204819278, 0.04285301204819278, 0.0052463414634146355, 0.0002875, 0.04285301204819278], \"xaxis\": \"x\", \"y\": [9.0, 8.5, 9.0, 8.0, 9.5, 8.0, 8.5, 10.0, 9.0, 8.0, 10.0, 11.0, 10.0, 9.0, 8.0, 8.5, 9.5, 9.0, 8.5, 9.0, 9.0, 8.0, 10.0, 8.5, 9.0, 9.0, 8.5, 9.0, 8.0, 13.0, 8.0, 6.5, 13.0, 9.0, 9.0, 9.0, 8.0, 8.0, 9.0, 8.5, 9.0, 12.0, 9.5, 9.5, 9.5, 8.5, 9.0, 8.5, 8.5, 10.0, 10.0, 12.5, 8.0, 8.0, 12.0, 12.0, 11.5, 8.0, 8.0, 8.0, 7.5, 9.0, 9.0, 8.0, 10.0, 8.0, 8.5, 8.5, 7.5, 12.0, 9.0, 9.0, 8.0, 13.5, 8.0, 10.0, 7.5, 11.0, 8.5, 9.5, 9.5, 9.5, 8.0, 10.0, 8.0, 8.5, 9.0, 8.5, 8.5, 10.0, 8.0, 13.5, 11.0, 9.0, 7.5, 9.5, 7.5, 9.0, 8.5, 12.5, 8.0, 10.0, 8.0, 14.0, 10.0, 7.5, 9.0, 9.0, 11.0, 10.0, 8.0, 11.0, 13.0, 10.0, 7.0, 8.5, 10.0, 13.0, 14.5, 8.5, 11.0, 8.5, 7.5, 9.0, 11.0, 9.5, 8.0, 8.5, 9.0, 7.5, 9.0, 9.0, 9.0, 8.5, 8.5, 8.5, 9.5, 8.5, 6.5, 9.5, 9.0, 11.0, 9.0, 12.5, 10.0, 9.0, 8.0, 15.5, 9.0, 9.5, 9.0, 10.0, 8.5, 9.0, 8.0, 12.5, 9.0, 7.5, 8.0, 13.5, 8.5, 9.0, 8.0, 8.5, 9.0, 7.5, 8.5, 9.0, 13.0, 8.5, 8.0, 7.0, 8.0, 9.0, 7.5, 9.5, 13.0, 8.0, 8.5, 8.0, 8.5, 9.0, 13.5, 8.0, 8.0, 7.5, 8.0, 14.5, 9.5, 8.5, 7.0, 8.0, 11.0, 8.0, 8.0, 9.5, 9.0, 9.0, 10.0, 9.0, 7.0, 9.5, 10.0, 9.0, 11.0, 9.0, 9.5, 9.0, 9.5, 6.5, 7.5, 10.0, 7.5, 12.0, 10.0, 8.5, 9.0, 11.0, 9.0, 15.5, 7.5, 8.5, 10.0, 8.0, 11.0, 8.5, 8.5, 8.5, 8.0, 8.0, 11.0, 7.0, 9.0, 9.0, 9.5, 9.0, 8.0, 8.5, 8.0, 8.0, 9.0, 9.0, 8.5, 9.5, 9.0, 9.5, 7.5, 9.0, 8.0, 11.5, 9.0, 10.0, 10.0, 10.0], \"yaxis\": \"y\", \"type\": \"scatter\"}, {\"customdata\": [[2.5, \"Shared\"], [2.5, \"Shared\"], [2.5, \"Shared\"], [2.5, \"Shared\"], [2.5, \"Shared\"], [2.5, \"Shared\"], [2.5, \"Shared\"], [2.5, \"Shared\"], [2.5, \"Shared\"], [2.5, \"Shared\"], [2.5, \"Shared\"], [2.5, \"Shared\"], [2.5, \"Shared\"], [2.5, \"Shared\"], [2.5, \"Shared\"], [2.5, \"Shared\"], [2.5, \"Shared\"], [2.5, \"Shared\"], [2.5, \"Shared\"], [2.5, \"Shared\"], [2.5, \"Shared\"], [2.5, \"Shared\"], [2.5, \"Shared\"], [2.5, \"Shared\"], [2.5, \"Shared\"], [2.5, \"Shared\"], [2.5, \"Shared\"], [2.5, \"Shared\"], [2.5, \"Shared\"], [2.5, \"Shared\"], [2.5, \"Shared\"], [2.5, \"Shared\"], [2.5, \"Shared\"], [2.5, \"Shared\"], [2.5, \"Shared\"], [2.5, \"Shared\"], [2.5, \"Shared\"], [2.5, \"Shared\"], [2.5, \"Shared\"], [2.5, \"Shared\"], [2.5, \"Shared\"], [2.5, \"Shared\"], [2.5, \"Shared\"], [2.5, \"Shared\"], [2.5, \"Shared\"], [2.5, \"Shared\"], [2.5, \"Shared\"], [2.5, \"Shared\"], [2.5, \"Shared\"], [2.5, \"Shared\"], [2.5, \"Shared\"], [2.5, \"Shared\"], [2.5, \"Shared\"], [2.5, \"Shared\"], [2.5, \"Shared\"], [2.5, \"Shared\"], [2.5, \"Shared\"], [2.5, \"Shared\"], [2.5, \"Shared\"], [2.5, \"Shared\"], [2.5, \"Shared\"], [2.5, \"Shared\"], [2.5, \"Shared\"], [2.5, \"Shared\"], [2.5, \"Shared\"], [2.5, \"Shared\"], [2.5, \"Shared\"], [2.5, \"Shared\"], [2.5, \"Shared\"], [2.5, \"Shared\"], [2.5, \"Shared\"], [2.5, \"Shared\"], [2.5, \"Shared\"], [2.5, \"Shared\"], [2.5, \"Shared\"], [2.5, \"Shared\"], [2.5, \"Shared\"], [2.5, \"Shared\"], [2.5, \"Shared\"], [2.5, \"Shared\"], [2.5, \"Shared\"], [2.5, \"Shared\"], [2.5, \"Shared\"], [2.5, \"Shared\"], [2.5, \"Shared\"], [2.5, \"Shared\"], [2.5, \"Shared\"], [2.5, \"Shared\"], [2.5, \"Shared\"], [2.5, \"Shared\"], [2.5, \"Shared\"], [2.5, \"Shared\"], [2.5, \"Shared\"], [2.5, \"Shared\"], [2.5, \"Shared\"], [2.5, \"Shared\"], [2.5, \"Shared\"], [2.5, \"Shared\"], [2.5, \"Shared\"], [2.5, \"Shared\"], [2.5, \"Shared\"], [2.5, \"Shared\"], [2.5, \"Shared\"], [2.5, \"Shared\"], [2.5, \"Shared\"], [2.5, \"Shared\"], [2.5, \"Shared\"], [2.5, \"Shared\"], [2.5, \"Shared\"], [2.5, \"Shared\"], [2.5, \"Shared\"], [2.5, \"Shared\"], [2.5, \"Shared\"], [2.5, \"Shared\"], [2.5, \"Shared\"], [2.5, \"Shared\"], [2.5, \"Shared\"], [2.5, \"Shared\"], [2.5, \"Shared\"], [2.5, \"Shared\"], [2.5, \"Shared\"]], \"hovertemplate\": \"cab_type=Lyft<br>distance=%{customdata[0]}<br>source_rain=%{x}<br>price=%{y}<br>name=%{customdata[1]}<extra></extra>\", \"legendgroup\": \"Lyft\", \"marker\": {\"color\": \"#FF00BF\", \"symbol\": \"circle\"}, \"mode\": \"markers\", \"name\": \"Lyft\", \"orientation\": \"v\", \"showlegend\": true, \"x\": [0.008466666666666667, 0.008466666666666667, 0.008370833333333333, 0.007954166666666667, 0.0087375, 0.008370833333333333, 0.008370833333333333, 0.0052463414634146355, 0.0052463414634146355, 0.0006083333333333332, 0.0003833333333333333, 7.142857142857143e-05, 0.0132125, 0.03728192771084338, 7.142857142857143e-05, 7.142857142857143e-05, 7.142857142857143e-05, 7.142857142857143e-05, 7.142857142857143e-05, 0.0434144578313253, 0.0434144578313253, 0.0006083333333333332, 9.090909090909092e-05, 0.0045439024390243905, 0.0007083333333333332, 0.0007083333333333332, 0.0007083333333333332, 0.0052463414634146355, 8.181818181818183e-05, 0.012837500000000002, 0.00195, 6.106194690265487e-05, 0.0005166666666666667, 0.0005166666666666667, 0.0005166666666666667, 0.0005166666666666667, 0.0005166666666666667, 0.0005166666666666667, 0.012837500000000002, 0.002, 0.008, 0.008, 0.008, 0.008, 0.008370833333333333, 0.008, 0.008, 0.008, 0.008, 6.283185840707964e-05, 6.283185840707964e-05, 0.005946341463414635, 8.333333333333333e-05, 8.333333333333333e-05, 0.013000000000000005, 0.005946341463414635, 0.014329166666666669, 0.005946341463414635, 8.333333333333333e-05, 6.106194690265487e-05, 7.142857142857143e-05, 0.00010357142857142856, 0.0052463414634146355, 0.0071756097560975625, 0.0071756097560975625, 0.0013642857142857141, 0.002864285714285714, 0.002864285714285714, 0.00010442477876106196, 0.00010442477876106196, 0.014566666666666669, 0.014566666666666669, 0.014566666666666669, 0.014566666666666669, 0.00010442477876106196, 0.00010442477876106196, 0.00010176991150442478, 0.00493170731707317, 0.0071756097560975625, 0.04186746987951808, 0.04186746987951808, 0.04186746987951808, 6.106194690265487e-05, 0.04186746987951808, 0.04186746987951808, 0.04186746987951808, 0.04186746987951808, 0.04186746987951808, 0.04186746987951808, 0.04186746987951808, 0.04285301204819278, 0.0004166666666666666, 0.0004166666666666666, 9.090909090909092e-05, 0.0004166666666666666, 0.0052463414634146355, 0.0004166666666666666, 0.0004166666666666666, 0.0004166666666666666, 0.0004166666666666666, 0.0004166666666666666, 0.00010176991150442478, 0.00010176991150442478, 0.0004166666666666666, 0.04285301204819278, 0.00010176991150442478, 0.00010176991150442478, 0.00010176991150442478, 0.04285301204819278, 0.0003750000000000001, 0.0004166666666666666, 0.00010176991150442478, 0.00010176991150442478, 0.04285301204819278, 0.0004166666666666666, 0.00010176991150442478, 9.090909090909092e-05, 0.00010176991150442478, 9.090909090909092e-05, 9.090909090909092e-05, 9.090909090909092e-05], \"xaxis\": \"x\", \"y\": [7.0, 7.0, 7.0, 7.0, 10.5, 7.0, 9.0, 7.0, 7.0, 7.0, 7.0, 7.0, 7.0, 7.0, 7.0, 11.0, 7.0, 7.0, 7.0, 7.0, 9.0, 7.0, 11.0, 7.0, 9.0, 7.0, 7.0, 7.0, 7.0, 7.0, 7.0, 7.0, 7.0, 7.0, 7.0, 7.0, 7.0, 7.0, 7.0, 9.0, 7.0, 7.0, 7.0, 7.0, 7.0, 7.0, 9.0, 7.0, 3.0, 7.0, 7.0, 7.0, 7.0, 7.0, 7.0, 7.0, 7.0, 5.0, 7.0, 9.0, 3.0, 9.0, 7.0, 7.0, 7.0, 7.0, 7.0, 7.0, 9.0, 7.0, 7.0, 7.0, 7.0, 7.0, 9.0, 9.0, 7.0, 7.0, 7.0, 10.5, 7.0, 7.0, 7.0, 7.0, 7.0, 3.5, 7.0, 7.0, 9.0, 3.0, 7.0, 7.0, 7.0, 9.0, 3.0, 3.0, 7.0, 7.0, 5.0, 3.0, 7.0, 7.0, 3.5, 3.5, 9.0, 7.0, 7.0, 5.0, 3.5, 19.5, 7.0, 9.0, 9.0, 7.0, 7.0, 7.0, 7.0, 7.0, 7.0, 7.0, 3.0], \"yaxis\": \"y\", \"type\": \"scatter\"}], \"name\": \"2.5\"}, {\"data\": [{\"customdata\": [[3.0, \"UberPool\"], [3.0, \"UberPool\"], [3.0, \"UberPool\"], [3.0, \"UberPool\"]], \"hovertemplate\": \"cab_type=Uber<br>distance=%{customdata[0]}<br>source_rain=%{x}<br>price=%{y}<br>name=%{customdata[1]}<extra></extra>\", \"legendgroup\": \"Uber\", \"marker\": {\"color\": \"#000000\", \"symbol\": \"circle\"}, \"mode\": \"markers\", \"name\": \"Uber\", \"orientation\": \"v\", \"showlegend\": true, \"x\": [0.0045439024390243905, 0.0003750000000000001, 0.03728192771084338, 4.424778761061947e-05], \"xaxis\": \"x\", \"y\": [11.0, 15.5, 17.0, 15.5], \"yaxis\": \"y\", \"type\": \"scatter\"}, {\"customdata\": [[3.0, \"Shared\"], [3.0, \"Shared\"], [3.0, \"Shared\"], [3.0, \"Shared\"], [3.0, \"Shared\"], [3.0, \"Shared\"], [3.0, \"Shared\"], [3.0, \"Shared\"], [3.0, \"Shared\"], [3.0, \"Shared\"], [3.0, \"Shared\"], [3.0, \"Shared\"], [3.0, \"Shared\"], [3.0, \"Shared\"], [3.0, \"Shared\"], [3.0, \"Shared\"], [3.0, \"Shared\"], [3.0, \"Shared\"], [3.0, \"Shared\"], [3.0, \"Shared\"], [3.0, \"Shared\"], [3.0, \"Shared\"], [3.0, \"Shared\"], [3.0, \"Shared\"], [3.0, \"Shared\"], [3.0, \"Shared\"], [3.0, \"Shared\"], [3.0, \"Shared\"], [3.0, \"Shared\"], [3.0, \"Shared\"], [3.0, \"Shared\"], [3.0, \"Shared\"], [3.0, \"Shared\"], [3.0, \"Shared\"], [3.0, \"Shared\"], [3.0, \"Shared\"], [3.0, \"Shared\"], [3.0, \"Shared\"], [3.0, \"Shared\"], [3.0, \"Shared\"], [3.0, \"Shared\"], [3.0, \"Shared\"], [3.0, \"Shared\"], [3.0, \"Shared\"], [3.0, \"Shared\"], [3.0, \"Shared\"], [3.0, \"Shared\"], [3.0, \"Shared\"], [3.0, \"Shared\"], [3.0, \"Shared\"], [3.0, \"Shared\"], [3.0, \"Shared\"], [3.0, \"Shared\"], [3.0, \"Shared\"], [3.0, \"Shared\"], [3.0, \"Shared\"], [3.0, \"Shared\"], [3.0, \"Shared\"], [3.0, \"Shared\"], [3.0, \"Shared\"], [3.0, \"Shared\"], [3.0, \"Shared\"], [3.0, \"Shared\"], [3.0, \"Shared\"], [3.0, \"Shared\"], [3.0, \"Shared\"], [3.0, \"Shared\"], [3.0, \"Shared\"], [3.0, \"Shared\"], [3.0, \"Shared\"], [3.0, \"Shared\"], [3.0, \"Shared\"], [3.0, \"Shared\"], [3.0, \"Shared\"], [3.0, \"Shared\"], [3.0, \"Shared\"], [3.0, \"Shared\"], [3.0, \"Shared\"], [3.0, \"Shared\"], [3.0, \"Shared\"], [3.0, \"Shared\"], [3.0, \"Shared\"], [3.0, \"Shared\"], [3.0, \"Shared\"], [3.0, \"Shared\"], [3.0, \"Shared\"], [3.0, \"Shared\"], [3.0, \"Shared\"], [3.0, \"Shared\"], [3.0, \"Shared\"], [3.0, \"Shared\"], [3.0, \"Shared\"], [3.0, \"Shared\"], [3.0, \"Shared\"], [3.0, \"Shared\"], [3.0, \"Shared\"], [3.0, \"Shared\"], [3.0, \"Shared\"], [3.0, \"Shared\"], [3.0, \"Shared\"], [3.0, \"Shared\"], [3.0, \"Shared\"], [3.0, \"Shared\"], [3.0, \"Shared\"], [3.0, \"Shared\"], [3.0, \"Shared\"], [3.0, \"Shared\"], [3.0, \"Shared\"], [3.0, \"Shared\"], [3.0, \"Shared\"], [3.0, \"Shared\"], [3.0, \"Shared\"], [3.0, \"Shared\"], [3.0, \"Shared\"], [3.0, \"Shared\"], [3.0, \"Shared\"], [3.0, \"Shared\"], [3.0, \"Shared\"], [3.0, \"Shared\"], [3.0, \"Shared\"], [3.0, \"Shared\"], [3.0, \"Shared\"], [3.0, \"Shared\"], [3.0, \"Shared\"], [3.0, \"Shared\"], [3.0, \"Shared\"], [3.0, \"Shared\"], [3.0, \"Shared\"], [3.0, \"Shared\"], [3.0, \"Shared\"], [3.0, \"Shared\"], [3.0, \"Shared\"], [3.0, \"Shared\"], [3.0, \"Shared\"], [3.0, \"Shared\"], [3.0, \"Shared\"], [3.0, \"Shared\"], [3.0, \"Shared\"], [3.0, \"Shared\"], [3.0, \"Shared\"], [3.0, \"Shared\"], [3.0, \"Shared\"], [3.0, \"Shared\"]], \"hovertemplate\": \"cab_type=Lyft<br>distance=%{customdata[0]}<br>source_rain=%{x}<br>price=%{y}<br>name=%{customdata[1]}<extra></extra>\", \"legendgroup\": \"Lyft\", \"marker\": {\"color\": \"#FF00BF\", \"symbol\": \"circle\"}, \"mode\": \"markers\", \"name\": \"Lyft\", \"orientation\": \"v\", \"showlegend\": true, \"x\": [0.0045439024390243905, 0.0003642857142857143, 7.964601769911506e-05, 0.0003750000000000001, 0.00012035398230088497, 0.0003750000000000001, 0.0003750000000000001, 0.005607317073170731, 0.00012035398230088497, 0.00012035398230088497, 0.0003750000000000001, 0.0003750000000000001, 0.00012035398230088497, 7.964601769911506e-05, 0.0003750000000000001, 7.964601769911506e-05, 7.964601769911506e-05, 9.090909090909092e-05, 0.00035000000000000005, 0.00035000000000000005, 0.00035000000000000005, 0.00012035398230088497, 0.00035000000000000005, 0.01355, 5.132743362831858e-05, 0.0006374999999999999, 0.0010857142857142858, 0.0010857142857142858, 0.0006374999999999999, 0.0010857142857142858, 0.0006374999999999999, 0.0006374999999999999, 0.0006374999999999999, 0.0006374999999999999, 0.0006374999999999999, 0.0006374999999999999, 0.0010857142857142858, 0.0010857142857142858, 7.964601769911506e-05, 0.04091566265060241, 0.04091566265060241, 0.0005416666666666668, 0.0005416666666666668, 0.0005, 0.0005, 0.04091566265060241, 0.0005, 0.04091566265060241, 0.04358915662650602, 0.04358915662650602, 0.04358915662650602, 0.0005, 0.04358915662650602, 0.04358915662650602, 0.04358915662650602, 7.142857142857143e-05, 7.142857142857144e-06, 7.964601769911506e-05, 0.006778048780487806, 7.142857142857143e-05, 0.014941666666666669, 0.014941666666666669, 0.01355, 0.01355, 0.014941666666666669, 0.014941666666666669, 0.014941666666666669, 0.014941666666666669, 0.014941666666666669, 0.0087375, 0.0129125, 0.0129125, 0.0087375, 7.142857142857144e-06, 0.008008333333333334, 0.008008333333333334, 0.008008333333333334, 0.0087375, 0.008008333333333334, 0.014941666666666669, 4.424778761061947e-05, 9.090909090909092e-05, 9.090909090909092e-05, 9.090909090909092e-05, 0.0013642857142857141, 0.0013642857142857141, 0.0013642857142857141, 0.00265, 0.00265, 4.424778761061947e-05, 0.00265, 7.142857142857144e-06, 7.142857142857144e-06, 7.142857142857144e-06, 7.142857142857144e-06, 7.142857142857144e-06, 4.424778761061947e-05, 0.04091566265060241, 4.424778761061947e-05, 0.00265, 0.008008333333333334, 0.008008333333333334, 0.007816666666666668, 9.090909090909092e-05, 0.004900000000000001, 7.142857142857143e-05, 7.142857142857143e-05, 0.006778048780487806, 0.007816666666666668, 0.006778048780487806, 7.142857142857143e-05, 0.006778048780487806, 0.006778048780487806, 0.0003708333333333333, 0.0003708333333333333, 7.142857142857143e-05, 7.142857142857143e-05, 7.142857142857143e-05, 0.0006374999999999999, 0.007816666666666668, 0.007816666666666668, 7.964601769911506e-05, 0.00012035398230088497, 0.00012035398230088497, 0.00012035398230088497, 0.00012035398230088497, 0.00012035398230088497, 0.004900000000000001, 0.004900000000000001, 0.004900000000000001, 0.004900000000000001, 0.004900000000000001, 0.004900000000000001, 0.004900000000000001, 0.0003708333333333333, 9.090909090909092e-05, 0.03904819277108433, 7.142857142857144e-06, 9.090909090909092e-05, 7.964601769911506e-05, 7.964601769911506e-05, 4.424778761061947e-05, 0.008008333333333334], \"xaxis\": \"x\", \"y\": [9.0, 9.0, 3.0, 9.0, 7.0, 9.0, 7.0, 7.0, 7.0, 7.0, 10.5, 5.0, 7.0, 7.0, 5.0, 7.0, 7.0, 7.0, 9.0, 13.5, 5.0, 9.0, 9.0, 7.0, 7.0, 3.5, 7.0, 7.0, 7.0, 7.0, 7.0, 7.0, 7.0, 7.0, 7.0, 7.0, 7.0, 11.0, 5.0, 5.0, 9.0, 7.0, 7.0, 7.0, 7.0, 3.5, 7.0, 9.0, 7.0, 7.0, 7.0, 9.0, 7.0, 7.0, 7.0, 5.0, 7.0, 9.0, 7.0, 9.0, 7.0, 7.0, 7.0, 7.0, 7.0, 5.0, 7.0, 7.0, 3.0, 7.0, 11.0, 5.0, 7.0, 9.0, 7.0, 7.0, 7.0, 7.0, 7.0, 7.0, 7.0, 7.0, 7.0, 3.5, 7.0, 7.0, 9.0, 7.0, 9.0, 7.0, 7.0, 13.5, 7.0, 7.0, 7.0, 9.0, 7.0, 9.0, 7.0, 11.0, 7.0, 3.0, 7.0, 3.5, 9.0, 3.5, 7.0, 10.5, 3.0, 3.0, 3.0, 7.0, 5.0, 7.0, 7.0, 7.0, 7.0, 7.0, 9.0, 9.0, 13.5, 10.5, 7.0, 7.0, 7.0, 7.0, 7.0, 3.0, 7.0, 10.5, 7.0, 3.5, 7.0, 9.0, 10.5, 5.0, 10.5, 7.0, 5.0, 5.0, 5.0, 7.0, 9.0], \"yaxis\": \"y\", \"type\": \"scatter\"}], \"name\": \"3.0\"}]);\n",
       "                        }).then(function(){\n",
       "                            \n",
       "var gd = document.getElementById('91ffecfd-9461-4f5d-a945-cd57885398d8');\n",
       "var x = new MutationObserver(function (mutations, observer) {{\n",
       "        var display = window.getComputedStyle(gd).display;\n",
       "        if (!display || display === 'none') {{\n",
       "            console.log([gd, 'removed!']);\n",
       "            Plotly.purge(gd);\n",
       "            observer.disconnect();\n",
       "        }}\n",
       "}});\n",
       "\n",
       "// Listen for the removal of the full notebook cells\n",
       "var notebookContainer = gd.closest('#notebook-container');\n",
       "if (notebookContainer) {{\n",
       "    x.observe(notebookContainer, {childList: true});\n",
       "}}\n",
       "\n",
       "// Listen for the clearing of the current output cell\n",
       "var outputEl = gd.closest('.output');\n",
       "if (outputEl) {{\n",
       "    x.observe(outputEl, {childList: true});\n",
       "}}\n",
       "\n",
       "                        })                };                });            </script>        </div>"
      ]
     },
     "metadata": {},
     "output_type": "display_data"
    }
   ],
   "source": [
    "cond_distance = df_rain['distance'].isin([0.5, 1, 1.5, 2, 2.5, 3])\n",
    "df_data = df_rain[cond_distance]\n",
    "cond_uber = df_data['name'] == 'UberPool' \n",
    "cond_lyft = df_data['name'] == 'Shared' \n",
    "df_data = df_data[cond_uber | cond_lyft]\n",
    "df_data = df_data.sort_values(by='distance')\n",
    "\n",
    "\n",
    "fig = px.scatter(df_data, x=\"source_rain\", y=\"price\", color=\"cab_type\", hover_data=['distance', 'name'], \n",
    "                 animation_frame = 'distance', color_discrete_map={'Lyft': '#FF00BF','Uber':'#000000'})\n",
    "fig[\"layout\"].pop(\"updatemenus\")\n",
    "fig.show()"
   ]
  },
  {
   "cell_type": "code",
   "execution_count": 10,
   "metadata": {},
   "outputs": [
    {
     "data": {
      "text/html": [
       "<div>\n",
       "<style scoped>\n",
       "    .dataframe tbody tr th:only-of-type {\n",
       "        vertical-align: middle;\n",
       "    }\n",
       "\n",
       "    .dataframe tbody tr th {\n",
       "        vertical-align: top;\n",
       "    }\n",
       "\n",
       "    .dataframe thead th {\n",
       "        text-align: right;\n",
       "    }\n",
       "</style>\n",
       "<table border=\"1\" class=\"dataframe\">\n",
       "  <thead>\n",
       "    <tr style=\"text-align: right;\">\n",
       "      <th></th>\n",
       "      <th>name</th>\n",
       "      <th>distance</th>\n",
       "    </tr>\n",
       "  </thead>\n",
       "  <tbody>\n",
       "    <tr>\n",
       "      <th>0</th>\n",
       "      <td>Lux</td>\n",
       "      <td>51204</td>\n",
       "    </tr>\n",
       "    <tr>\n",
       "      <th>1</th>\n",
       "      <td>Lux Black</td>\n",
       "      <td>51188</td>\n",
       "    </tr>\n",
       "    <tr>\n",
       "      <th>2</th>\n",
       "      <td>Lux Black XL</td>\n",
       "      <td>51209</td>\n",
       "    </tr>\n",
       "    <tr>\n",
       "      <th>3</th>\n",
       "      <td>Lyft</td>\n",
       "      <td>51196</td>\n",
       "    </tr>\n",
       "    <tr>\n",
       "      <th>4</th>\n",
       "      <td>Lyft XL</td>\n",
       "      <td>51189</td>\n",
       "    </tr>\n",
       "  </tbody>\n",
       "</table>\n",
       "</div>"
      ],
      "text/plain": [
       "           name  distance\n",
       "0           Lux     51204\n",
       "1     Lux Black     51188\n",
       "2  Lux Black XL     51209\n",
       "3          Lyft     51196\n",
       "4       Lyft XL     51189"
      ]
     },
     "execution_count": 10,
     "metadata": {},
     "output_type": "execute_result"
    }
   ],
   "source": [
    "df_lyft = df_lyft.groupby(\"name\")['distance'].count()\n",
    "df_lyft = df_lyft.reset_index()\n",
    "df_lyft.head()"
   ]
  },
  {
   "cell_type": "code",
   "execution_count": 11,
   "metadata": {},
   "outputs": [
    {
     "data": {
      "text/html": [
       "<div>\n",
       "<style scoped>\n",
       "    .dataframe tbody tr th:only-of-type {\n",
       "        vertical-align: middle;\n",
       "    }\n",
       "\n",
       "    .dataframe tbody tr th {\n",
       "        vertical-align: top;\n",
       "    }\n",
       "\n",
       "    .dataframe thead th {\n",
       "        text-align: right;\n",
       "    }\n",
       "</style>\n",
       "<table border=\"1\" class=\"dataframe\">\n",
       "  <thead>\n",
       "    <tr style=\"text-align: right;\">\n",
       "      <th></th>\n",
       "      <th>name</th>\n",
       "      <th>distance</th>\n",
       "    </tr>\n",
       "  </thead>\n",
       "  <tbody>\n",
       "    <tr>\n",
       "      <th>0</th>\n",
       "      <td>Black</td>\n",
       "      <td>54971</td>\n",
       "    </tr>\n",
       "    <tr>\n",
       "      <th>1</th>\n",
       "      <td>Black SUV</td>\n",
       "      <td>54982</td>\n",
       "    </tr>\n",
       "    <tr>\n",
       "      <th>2</th>\n",
       "      <td>UberPool</td>\n",
       "      <td>54980</td>\n",
       "    </tr>\n",
       "    <tr>\n",
       "      <th>3</th>\n",
       "      <td>UberX</td>\n",
       "      <td>54952</td>\n",
       "    </tr>\n",
       "    <tr>\n",
       "      <th>4</th>\n",
       "      <td>UberXL</td>\n",
       "      <td>55005</td>\n",
       "    </tr>\n",
       "  </tbody>\n",
       "</table>\n",
       "</div>"
      ],
      "text/plain": [
       "        name  distance\n",
       "0      Black     54971\n",
       "1  Black SUV     54982\n",
       "2   UberPool     54980\n",
       "3      UberX     54952\n",
       "4     UberXL     55005"
      ]
     },
     "execution_count": 11,
     "metadata": {},
     "output_type": "execute_result"
    }
   ],
   "source": [
    "df_uber = df_uber.groupby(\"name\")['distance'].count()\n",
    "df_uber = df_uber.reset_index()\n",
    "df_uber.head()"
   ]
  },
  {
   "cell_type": "code",
   "execution_count": 12,
   "metadata": {},
   "outputs": [
    {
     "data": {
      "text/plain": [
       "(12, 12, 12)"
      ]
     },
     "execution_count": 12,
     "metadata": {},
     "output_type": "execute_result"
    }
   ],
   "source": [
    "cab_type = [\"Lyft\", \"Lyft\", \"Lyft\", \"Lyft\", \"Lyft\", \"Lyft\", \"Uber\", \"Uber\", \"Uber\",\"Uber\" ,\"Uber\" ,\"Uber\"]\n",
    "name = []\n",
    "amount = []\n",
    "\n",
    "values = list(df_lyft['name'].values)\n",
    "name = name + values\n",
    "values = list(df_lyft['distance'].values)\n",
    "amount = amount + values\n",
    "\n",
    "values = list(df_uber['name'].values)\n",
    "name = name + values\n",
    "values = list(df_uber['distance'].values)\n",
    "amount = amount + values\n",
    "\n",
    "len(cab_type), len(name), len(amount),"
   ]
  },
  {
   "cell_type": "code",
   "execution_count": 13,
   "metadata": {},
   "outputs": [
    {
     "data": {
      "text/html": [
       "<div>\n",
       "<style scoped>\n",
       "    .dataframe tbody tr th:only-of-type {\n",
       "        vertical-align: middle;\n",
       "    }\n",
       "\n",
       "    .dataframe tbody tr th {\n",
       "        vertical-align: top;\n",
       "    }\n",
       "\n",
       "    .dataframe thead th {\n",
       "        text-align: right;\n",
       "    }\n",
       "</style>\n",
       "<table border=\"1\" class=\"dataframe\">\n",
       "  <thead>\n",
       "    <tr style=\"text-align: right;\">\n",
       "      <th></th>\n",
       "      <th>cab_type</th>\n",
       "      <th>name</th>\n",
       "      <th>amount</th>\n",
       "    </tr>\n",
       "  </thead>\n",
       "  <tbody>\n",
       "    <tr>\n",
       "      <th>0</th>\n",
       "      <td>Lyft</td>\n",
       "      <td>Lux</td>\n",
       "      <td>51204</td>\n",
       "    </tr>\n",
       "    <tr>\n",
       "      <th>1</th>\n",
       "      <td>Lyft</td>\n",
       "      <td>Lux Black</td>\n",
       "      <td>51188</td>\n",
       "    </tr>\n",
       "    <tr>\n",
       "      <th>2</th>\n",
       "      <td>Lyft</td>\n",
       "      <td>Lux Black XL</td>\n",
       "      <td>51209</td>\n",
       "    </tr>\n",
       "    <tr>\n",
       "      <th>3</th>\n",
       "      <td>Lyft</td>\n",
       "      <td>Lyft</td>\n",
       "      <td>51196</td>\n",
       "    </tr>\n",
       "    <tr>\n",
       "      <th>4</th>\n",
       "      <td>Lyft</td>\n",
       "      <td>Lyft XL</td>\n",
       "      <td>51189</td>\n",
       "    </tr>\n",
       "    <tr>\n",
       "      <th>5</th>\n",
       "      <td>Lyft</td>\n",
       "      <td>Shared</td>\n",
       "      <td>51205</td>\n",
       "    </tr>\n",
       "    <tr>\n",
       "      <th>6</th>\n",
       "      <td>Uber</td>\n",
       "      <td>Black</td>\n",
       "      <td>54971</td>\n",
       "    </tr>\n",
       "    <tr>\n",
       "      <th>7</th>\n",
       "      <td>Uber</td>\n",
       "      <td>Black SUV</td>\n",
       "      <td>54982</td>\n",
       "    </tr>\n",
       "    <tr>\n",
       "      <th>8</th>\n",
       "      <td>Uber</td>\n",
       "      <td>UberPool</td>\n",
       "      <td>54980</td>\n",
       "    </tr>\n",
       "    <tr>\n",
       "      <th>9</th>\n",
       "      <td>Uber</td>\n",
       "      <td>UberX</td>\n",
       "      <td>54952</td>\n",
       "    </tr>\n",
       "    <tr>\n",
       "      <th>10</th>\n",
       "      <td>Uber</td>\n",
       "      <td>UberXL</td>\n",
       "      <td>55005</td>\n",
       "    </tr>\n",
       "    <tr>\n",
       "      <th>11</th>\n",
       "      <td>Uber</td>\n",
       "      <td>WAV</td>\n",
       "      <td>54955</td>\n",
       "    </tr>\n",
       "  </tbody>\n",
       "</table>\n",
       "</div>"
      ],
      "text/plain": [
       "   cab_type          name  amount\n",
       "0      Lyft           Lux   51204\n",
       "1      Lyft     Lux Black   51188\n",
       "2      Lyft  Lux Black XL   51209\n",
       "3      Lyft          Lyft   51196\n",
       "4      Lyft       Lyft XL   51189\n",
       "5      Lyft        Shared   51205\n",
       "6      Uber         Black   54971\n",
       "7      Uber     Black SUV   54982\n",
       "8      Uber      UberPool   54980\n",
       "9      Uber         UberX   54952\n",
       "10     Uber        UberXL   55005\n",
       "11     Uber           WAV   54955"
      ]
     },
     "execution_count": 13,
     "metadata": {},
     "output_type": "execute_result"
    }
   ],
   "source": [
    "data = {\"cab_type\":cab_type, \"name\":name, \"amount\": amount }\n",
    "df_amount = pd.DataFrame(data=data)\n",
    "df_amount"
   ]
  },
  {
   "cell_type": "code",
   "execution_count": 14,
   "metadata": {},
   "outputs": [
    {
     "data": {
      "application/vnd.plotly.v1+json": {
       "config": {
        "plotlyServerURL": "https://plot.ly"
       },
       "data": [
        {
         "alignmentgroup": "True",
         "hovertemplate": "name=Lux<br>cab_type=%{x}<br>amount=%{y}<extra></extra>",
         "legendgroup": "Lux",
         "marker": {
          "color": "#636efa"
         },
         "name": "Lux",
         "offsetgroup": "Lux",
         "orientation": "v",
         "showlegend": true,
         "textposition": "auto",
         "type": "bar",
         "x": [
          "Lyft"
         ],
         "xaxis": "x",
         "y": [
          51204
         ],
         "yaxis": "y"
        },
        {
         "alignmentgroup": "True",
         "hovertemplate": "name=Lux Black<br>cab_type=%{x}<br>amount=%{y}<extra></extra>",
         "legendgroup": "Lux Black",
         "marker": {
          "color": "#EF553B"
         },
         "name": "Lux Black",
         "offsetgroup": "Lux Black",
         "orientation": "v",
         "showlegend": true,
         "textposition": "auto",
         "type": "bar",
         "x": [
          "Lyft"
         ],
         "xaxis": "x",
         "y": [
          51188
         ],
         "yaxis": "y"
        },
        {
         "alignmentgroup": "True",
         "hovertemplate": "name=Lux Black XL<br>cab_type=%{x}<br>amount=%{y}<extra></extra>",
         "legendgroup": "Lux Black XL",
         "marker": {
          "color": "#00cc96"
         },
         "name": "Lux Black XL",
         "offsetgroup": "Lux Black XL",
         "orientation": "v",
         "showlegend": true,
         "textposition": "auto",
         "type": "bar",
         "x": [
          "Lyft"
         ],
         "xaxis": "x",
         "y": [
          51209
         ],
         "yaxis": "y"
        },
        {
         "alignmentgroup": "True",
         "hovertemplate": "name=Lyft<br>cab_type=%{x}<br>amount=%{y}<extra></extra>",
         "legendgroup": "Lyft",
         "marker": {
          "color": "#ab63fa"
         },
         "name": "Lyft",
         "offsetgroup": "Lyft",
         "orientation": "v",
         "showlegend": true,
         "textposition": "auto",
         "type": "bar",
         "x": [
          "Lyft"
         ],
         "xaxis": "x",
         "y": [
          51196
         ],
         "yaxis": "y"
        },
        {
         "alignmentgroup": "True",
         "hovertemplate": "name=Lyft XL<br>cab_type=%{x}<br>amount=%{y}<extra></extra>",
         "legendgroup": "Lyft XL",
         "marker": {
          "color": "#FFA15A"
         },
         "name": "Lyft XL",
         "offsetgroup": "Lyft XL",
         "orientation": "v",
         "showlegend": true,
         "textposition": "auto",
         "type": "bar",
         "x": [
          "Lyft"
         ],
         "xaxis": "x",
         "y": [
          51189
         ],
         "yaxis": "y"
        },
        {
         "alignmentgroup": "True",
         "hovertemplate": "name=Shared<br>cab_type=%{x}<br>amount=%{y}<extra></extra>",
         "legendgroup": "Shared",
         "marker": {
          "color": "#19d3f3"
         },
         "name": "Shared",
         "offsetgroup": "Shared",
         "orientation": "v",
         "showlegend": true,
         "textposition": "auto",
         "type": "bar",
         "x": [
          "Lyft"
         ],
         "xaxis": "x",
         "y": [
          51205
         ],
         "yaxis": "y"
        },
        {
         "alignmentgroup": "True",
         "hovertemplate": "name=Black<br>cab_type=%{x}<br>amount=%{y}<extra></extra>",
         "legendgroup": "Black",
         "marker": {
          "color": "#FF6692"
         },
         "name": "Black",
         "offsetgroup": "Black",
         "orientation": "v",
         "showlegend": true,
         "textposition": "auto",
         "type": "bar",
         "x": [
          "Uber"
         ],
         "xaxis": "x",
         "y": [
          54971
         ],
         "yaxis": "y"
        },
        {
         "alignmentgroup": "True",
         "hovertemplate": "name=Black SUV<br>cab_type=%{x}<br>amount=%{y}<extra></extra>",
         "legendgroup": "Black SUV",
         "marker": {
          "color": "#B6E880"
         },
         "name": "Black SUV",
         "offsetgroup": "Black SUV",
         "orientation": "v",
         "showlegend": true,
         "textposition": "auto",
         "type": "bar",
         "x": [
          "Uber"
         ],
         "xaxis": "x",
         "y": [
          54982
         ],
         "yaxis": "y"
        },
        {
         "alignmentgroup": "True",
         "hovertemplate": "name=UberPool<br>cab_type=%{x}<br>amount=%{y}<extra></extra>",
         "legendgroup": "UberPool",
         "marker": {
          "color": "#FF97FF"
         },
         "name": "UberPool",
         "offsetgroup": "UberPool",
         "orientation": "v",
         "showlegend": true,
         "textposition": "auto",
         "type": "bar",
         "x": [
          "Uber"
         ],
         "xaxis": "x",
         "y": [
          54980
         ],
         "yaxis": "y"
        },
        {
         "alignmentgroup": "True",
         "hovertemplate": "name=UberX<br>cab_type=%{x}<br>amount=%{y}<extra></extra>",
         "legendgroup": "UberX",
         "marker": {
          "color": "#FECB52"
         },
         "name": "UberX",
         "offsetgroup": "UberX",
         "orientation": "v",
         "showlegend": true,
         "textposition": "auto",
         "type": "bar",
         "x": [
          "Uber"
         ],
         "xaxis": "x",
         "y": [
          54952
         ],
         "yaxis": "y"
        },
        {
         "alignmentgroup": "True",
         "hovertemplate": "name=UberXL<br>cab_type=%{x}<br>amount=%{y}<extra></extra>",
         "legendgroup": "UberXL",
         "marker": {
          "color": "#636efa"
         },
         "name": "UberXL",
         "offsetgroup": "UberXL",
         "orientation": "v",
         "showlegend": true,
         "textposition": "auto",
         "type": "bar",
         "x": [
          "Uber"
         ],
         "xaxis": "x",
         "y": [
          55005
         ],
         "yaxis": "y"
        },
        {
         "alignmentgroup": "True",
         "hovertemplate": "name=WAV<br>cab_type=%{x}<br>amount=%{y}<extra></extra>",
         "legendgroup": "WAV",
         "marker": {
          "color": "#EF553B"
         },
         "name": "WAV",
         "offsetgroup": "WAV",
         "orientation": "v",
         "showlegend": true,
         "textposition": "auto",
         "type": "bar",
         "x": [
          "Uber"
         ],
         "xaxis": "x",
         "y": [
          54955
         ],
         "yaxis": "y"
        }
       ],
       "layout": {
        "barmode": "relative",
        "legend": {
         "title": {
          "text": "name"
         },
         "tracegroupgap": 0
        },
        "template": {
         "data": {
          "bar": [
           {
            "error_x": {
             "color": "#2a3f5f"
            },
            "error_y": {
             "color": "#2a3f5f"
            },
            "marker": {
             "line": {
              "color": "#E5ECF6",
              "width": 0.5
             }
            },
            "type": "bar"
           }
          ],
          "barpolar": [
           {
            "marker": {
             "line": {
              "color": "#E5ECF6",
              "width": 0.5
             }
            },
            "type": "barpolar"
           }
          ],
          "carpet": [
           {
            "aaxis": {
             "endlinecolor": "#2a3f5f",
             "gridcolor": "white",
             "linecolor": "white",
             "minorgridcolor": "white",
             "startlinecolor": "#2a3f5f"
            },
            "baxis": {
             "endlinecolor": "#2a3f5f",
             "gridcolor": "white",
             "linecolor": "white",
             "minorgridcolor": "white",
             "startlinecolor": "#2a3f5f"
            },
            "type": "carpet"
           }
          ],
          "choropleth": [
           {
            "colorbar": {
             "outlinewidth": 0,
             "ticks": ""
            },
            "type": "choropleth"
           }
          ],
          "contour": [
           {
            "colorbar": {
             "outlinewidth": 0,
             "ticks": ""
            },
            "colorscale": [
             [
              0,
              "#0d0887"
             ],
             [
              0.1111111111111111,
              "#46039f"
             ],
             [
              0.2222222222222222,
              "#7201a8"
             ],
             [
              0.3333333333333333,
              "#9c179e"
             ],
             [
              0.4444444444444444,
              "#bd3786"
             ],
             [
              0.5555555555555556,
              "#d8576b"
             ],
             [
              0.6666666666666666,
              "#ed7953"
             ],
             [
              0.7777777777777778,
              "#fb9f3a"
             ],
             [
              0.8888888888888888,
              "#fdca26"
             ],
             [
              1,
              "#f0f921"
             ]
            ],
            "type": "contour"
           }
          ],
          "contourcarpet": [
           {
            "colorbar": {
             "outlinewidth": 0,
             "ticks": ""
            },
            "type": "contourcarpet"
           }
          ],
          "heatmap": [
           {
            "colorbar": {
             "outlinewidth": 0,
             "ticks": ""
            },
            "colorscale": [
             [
              0,
              "#0d0887"
             ],
             [
              0.1111111111111111,
              "#46039f"
             ],
             [
              0.2222222222222222,
              "#7201a8"
             ],
             [
              0.3333333333333333,
              "#9c179e"
             ],
             [
              0.4444444444444444,
              "#bd3786"
             ],
             [
              0.5555555555555556,
              "#d8576b"
             ],
             [
              0.6666666666666666,
              "#ed7953"
             ],
             [
              0.7777777777777778,
              "#fb9f3a"
             ],
             [
              0.8888888888888888,
              "#fdca26"
             ],
             [
              1,
              "#f0f921"
             ]
            ],
            "type": "heatmap"
           }
          ],
          "heatmapgl": [
           {
            "colorbar": {
             "outlinewidth": 0,
             "ticks": ""
            },
            "colorscale": [
             [
              0,
              "#0d0887"
             ],
             [
              0.1111111111111111,
              "#46039f"
             ],
             [
              0.2222222222222222,
              "#7201a8"
             ],
             [
              0.3333333333333333,
              "#9c179e"
             ],
             [
              0.4444444444444444,
              "#bd3786"
             ],
             [
              0.5555555555555556,
              "#d8576b"
             ],
             [
              0.6666666666666666,
              "#ed7953"
             ],
             [
              0.7777777777777778,
              "#fb9f3a"
             ],
             [
              0.8888888888888888,
              "#fdca26"
             ],
             [
              1,
              "#f0f921"
             ]
            ],
            "type": "heatmapgl"
           }
          ],
          "histogram": [
           {
            "marker": {
             "colorbar": {
              "outlinewidth": 0,
              "ticks": ""
             }
            },
            "type": "histogram"
           }
          ],
          "histogram2d": [
           {
            "colorbar": {
             "outlinewidth": 0,
             "ticks": ""
            },
            "colorscale": [
             [
              0,
              "#0d0887"
             ],
             [
              0.1111111111111111,
              "#46039f"
             ],
             [
              0.2222222222222222,
              "#7201a8"
             ],
             [
              0.3333333333333333,
              "#9c179e"
             ],
             [
              0.4444444444444444,
              "#bd3786"
             ],
             [
              0.5555555555555556,
              "#d8576b"
             ],
             [
              0.6666666666666666,
              "#ed7953"
             ],
             [
              0.7777777777777778,
              "#fb9f3a"
             ],
             [
              0.8888888888888888,
              "#fdca26"
             ],
             [
              1,
              "#f0f921"
             ]
            ],
            "type": "histogram2d"
           }
          ],
          "histogram2dcontour": [
           {
            "colorbar": {
             "outlinewidth": 0,
             "ticks": ""
            },
            "colorscale": [
             [
              0,
              "#0d0887"
             ],
             [
              0.1111111111111111,
              "#46039f"
             ],
             [
              0.2222222222222222,
              "#7201a8"
             ],
             [
              0.3333333333333333,
              "#9c179e"
             ],
             [
              0.4444444444444444,
              "#bd3786"
             ],
             [
              0.5555555555555556,
              "#d8576b"
             ],
             [
              0.6666666666666666,
              "#ed7953"
             ],
             [
              0.7777777777777778,
              "#fb9f3a"
             ],
             [
              0.8888888888888888,
              "#fdca26"
             ],
             [
              1,
              "#f0f921"
             ]
            ],
            "type": "histogram2dcontour"
           }
          ],
          "mesh3d": [
           {
            "colorbar": {
             "outlinewidth": 0,
             "ticks": ""
            },
            "type": "mesh3d"
           }
          ],
          "parcoords": [
           {
            "line": {
             "colorbar": {
              "outlinewidth": 0,
              "ticks": ""
             }
            },
            "type": "parcoords"
           }
          ],
          "pie": [
           {
            "automargin": true,
            "type": "pie"
           }
          ],
          "scatter": [
           {
            "marker": {
             "colorbar": {
              "outlinewidth": 0,
              "ticks": ""
             }
            },
            "type": "scatter"
           }
          ],
          "scatter3d": [
           {
            "line": {
             "colorbar": {
              "outlinewidth": 0,
              "ticks": ""
             }
            },
            "marker": {
             "colorbar": {
              "outlinewidth": 0,
              "ticks": ""
             }
            },
            "type": "scatter3d"
           }
          ],
          "scattercarpet": [
           {
            "marker": {
             "colorbar": {
              "outlinewidth": 0,
              "ticks": ""
             }
            },
            "type": "scattercarpet"
           }
          ],
          "scattergeo": [
           {
            "marker": {
             "colorbar": {
              "outlinewidth": 0,
              "ticks": ""
             }
            },
            "type": "scattergeo"
           }
          ],
          "scattergl": [
           {
            "marker": {
             "colorbar": {
              "outlinewidth": 0,
              "ticks": ""
             }
            },
            "type": "scattergl"
           }
          ],
          "scattermapbox": [
           {
            "marker": {
             "colorbar": {
              "outlinewidth": 0,
              "ticks": ""
             }
            },
            "type": "scattermapbox"
           }
          ],
          "scatterpolar": [
           {
            "marker": {
             "colorbar": {
              "outlinewidth": 0,
              "ticks": ""
             }
            },
            "type": "scatterpolar"
           }
          ],
          "scatterpolargl": [
           {
            "marker": {
             "colorbar": {
              "outlinewidth": 0,
              "ticks": ""
             }
            },
            "type": "scatterpolargl"
           }
          ],
          "scatterternary": [
           {
            "marker": {
             "colorbar": {
              "outlinewidth": 0,
              "ticks": ""
             }
            },
            "type": "scatterternary"
           }
          ],
          "surface": [
           {
            "colorbar": {
             "outlinewidth": 0,
             "ticks": ""
            },
            "colorscale": [
             [
              0,
              "#0d0887"
             ],
             [
              0.1111111111111111,
              "#46039f"
             ],
             [
              0.2222222222222222,
              "#7201a8"
             ],
             [
              0.3333333333333333,
              "#9c179e"
             ],
             [
              0.4444444444444444,
              "#bd3786"
             ],
             [
              0.5555555555555556,
              "#d8576b"
             ],
             [
              0.6666666666666666,
              "#ed7953"
             ],
             [
              0.7777777777777778,
              "#fb9f3a"
             ],
             [
              0.8888888888888888,
              "#fdca26"
             ],
             [
              1,
              "#f0f921"
             ]
            ],
            "type": "surface"
           }
          ],
          "table": [
           {
            "cells": {
             "fill": {
              "color": "#EBF0F8"
             },
             "line": {
              "color": "white"
             }
            },
            "header": {
             "fill": {
              "color": "#C8D4E3"
             },
             "line": {
              "color": "white"
             }
            },
            "type": "table"
           }
          ]
         },
         "layout": {
          "annotationdefaults": {
           "arrowcolor": "#2a3f5f",
           "arrowhead": 0,
           "arrowwidth": 1
          },
          "autotypenumbers": "strict",
          "coloraxis": {
           "colorbar": {
            "outlinewidth": 0,
            "ticks": ""
           }
          },
          "colorscale": {
           "diverging": [
            [
             0,
             "#8e0152"
            ],
            [
             0.1,
             "#c51b7d"
            ],
            [
             0.2,
             "#de77ae"
            ],
            [
             0.3,
             "#f1b6da"
            ],
            [
             0.4,
             "#fde0ef"
            ],
            [
             0.5,
             "#f7f7f7"
            ],
            [
             0.6,
             "#e6f5d0"
            ],
            [
             0.7,
             "#b8e186"
            ],
            [
             0.8,
             "#7fbc41"
            ],
            [
             0.9,
             "#4d9221"
            ],
            [
             1,
             "#276419"
            ]
           ],
           "sequential": [
            [
             0,
             "#0d0887"
            ],
            [
             0.1111111111111111,
             "#46039f"
            ],
            [
             0.2222222222222222,
             "#7201a8"
            ],
            [
             0.3333333333333333,
             "#9c179e"
            ],
            [
             0.4444444444444444,
             "#bd3786"
            ],
            [
             0.5555555555555556,
             "#d8576b"
            ],
            [
             0.6666666666666666,
             "#ed7953"
            ],
            [
             0.7777777777777778,
             "#fb9f3a"
            ],
            [
             0.8888888888888888,
             "#fdca26"
            ],
            [
             1,
             "#f0f921"
            ]
           ],
           "sequentialminus": [
            [
             0,
             "#0d0887"
            ],
            [
             0.1111111111111111,
             "#46039f"
            ],
            [
             0.2222222222222222,
             "#7201a8"
            ],
            [
             0.3333333333333333,
             "#9c179e"
            ],
            [
             0.4444444444444444,
             "#bd3786"
            ],
            [
             0.5555555555555556,
             "#d8576b"
            ],
            [
             0.6666666666666666,
             "#ed7953"
            ],
            [
             0.7777777777777778,
             "#fb9f3a"
            ],
            [
             0.8888888888888888,
             "#fdca26"
            ],
            [
             1,
             "#f0f921"
            ]
           ]
          },
          "colorway": [
           "#636efa",
           "#EF553B",
           "#00cc96",
           "#ab63fa",
           "#FFA15A",
           "#19d3f3",
           "#FF6692",
           "#B6E880",
           "#FF97FF",
           "#FECB52"
          ],
          "font": {
           "color": "#2a3f5f"
          },
          "geo": {
           "bgcolor": "white",
           "lakecolor": "white",
           "landcolor": "#E5ECF6",
           "showlakes": true,
           "showland": true,
           "subunitcolor": "white"
          },
          "hoverlabel": {
           "align": "left"
          },
          "hovermode": "closest",
          "mapbox": {
           "style": "light"
          },
          "paper_bgcolor": "white",
          "plot_bgcolor": "#E5ECF6",
          "polar": {
           "angularaxis": {
            "gridcolor": "white",
            "linecolor": "white",
            "ticks": ""
           },
           "bgcolor": "#E5ECF6",
           "radialaxis": {
            "gridcolor": "white",
            "linecolor": "white",
            "ticks": ""
           }
          },
          "scene": {
           "xaxis": {
            "backgroundcolor": "#E5ECF6",
            "gridcolor": "white",
            "gridwidth": 2,
            "linecolor": "white",
            "showbackground": true,
            "ticks": "",
            "zerolinecolor": "white"
           },
           "yaxis": {
            "backgroundcolor": "#E5ECF6",
            "gridcolor": "white",
            "gridwidth": 2,
            "linecolor": "white",
            "showbackground": true,
            "ticks": "",
            "zerolinecolor": "white"
           },
           "zaxis": {
            "backgroundcolor": "#E5ECF6",
            "gridcolor": "white",
            "gridwidth": 2,
            "linecolor": "white",
            "showbackground": true,
            "ticks": "",
            "zerolinecolor": "white"
           }
          },
          "shapedefaults": {
           "line": {
            "color": "#2a3f5f"
           }
          },
          "ternary": {
           "aaxis": {
            "gridcolor": "white",
            "linecolor": "white",
            "ticks": ""
           },
           "baxis": {
            "gridcolor": "white",
            "linecolor": "white",
            "ticks": ""
           },
           "bgcolor": "#E5ECF6",
           "caxis": {
            "gridcolor": "white",
            "linecolor": "white",
            "ticks": ""
           }
          },
          "title": {
           "x": 0.05
          },
          "xaxis": {
           "automargin": true,
           "gridcolor": "white",
           "linecolor": "white",
           "ticks": "",
           "title": {
            "standoff": 15
           },
           "zerolinecolor": "white",
           "zerolinewidth": 2
          },
          "yaxis": {
           "automargin": true,
           "gridcolor": "white",
           "linecolor": "white",
           "ticks": "",
           "title": {
            "standoff": 15
           },
           "zerolinecolor": "white",
           "zerolinewidth": 2
          }
         }
        },
        "title": {
         "text": "Long-Form Input"
        },
        "xaxis": {
         "anchor": "y",
         "domain": [
          0,
          1
         ],
         "title": {
          "text": "cab_type"
         }
        },
        "yaxis": {
         "anchor": "x",
         "domain": [
          0,
          1
         ],
         "title": {
          "text": "amount"
         }
        }
       }
      },
      "text/html": [
       "<div>                            <div id=\"341f4989-5bd2-4915-822e-0cf09805aeb8\" class=\"plotly-graph-div\" style=\"height:525px; width:100%;\"></div>            <script type=\"text/javascript\">                require([\"plotly\"], function(Plotly) {                    window.PLOTLYENV=window.PLOTLYENV || {};                                    if (document.getElementById(\"341f4989-5bd2-4915-822e-0cf09805aeb8\")) {                    Plotly.newPlot(                        \"341f4989-5bd2-4915-822e-0cf09805aeb8\",                        [{\"alignmentgroup\": \"True\", \"hovertemplate\": \"name=Lux<br>cab_type=%{x}<br>amount=%{y}<extra></extra>\", \"legendgroup\": \"Lux\", \"marker\": {\"color\": \"#636efa\"}, \"name\": \"Lux\", \"offsetgroup\": \"Lux\", \"orientation\": \"v\", \"showlegend\": true, \"textposition\": \"auto\", \"type\": \"bar\", \"x\": [\"Lyft\"], \"xaxis\": \"x\", \"y\": [51204], \"yaxis\": \"y\"}, {\"alignmentgroup\": \"True\", \"hovertemplate\": \"name=Lux Black<br>cab_type=%{x}<br>amount=%{y}<extra></extra>\", \"legendgroup\": \"Lux Black\", \"marker\": {\"color\": \"#EF553B\"}, \"name\": \"Lux Black\", \"offsetgroup\": \"Lux Black\", \"orientation\": \"v\", \"showlegend\": true, \"textposition\": \"auto\", \"type\": \"bar\", \"x\": [\"Lyft\"], \"xaxis\": \"x\", \"y\": [51188], \"yaxis\": \"y\"}, {\"alignmentgroup\": \"True\", \"hovertemplate\": \"name=Lux Black XL<br>cab_type=%{x}<br>amount=%{y}<extra></extra>\", \"legendgroup\": \"Lux Black XL\", \"marker\": {\"color\": \"#00cc96\"}, \"name\": \"Lux Black XL\", \"offsetgroup\": \"Lux Black XL\", \"orientation\": \"v\", \"showlegend\": true, \"textposition\": \"auto\", \"type\": \"bar\", \"x\": [\"Lyft\"], \"xaxis\": \"x\", \"y\": [51209], \"yaxis\": \"y\"}, {\"alignmentgroup\": \"True\", \"hovertemplate\": \"name=Lyft<br>cab_type=%{x}<br>amount=%{y}<extra></extra>\", \"legendgroup\": \"Lyft\", \"marker\": {\"color\": \"#ab63fa\"}, \"name\": \"Lyft\", \"offsetgroup\": \"Lyft\", \"orientation\": \"v\", \"showlegend\": true, \"textposition\": \"auto\", \"type\": \"bar\", \"x\": [\"Lyft\"], \"xaxis\": \"x\", \"y\": [51196], \"yaxis\": \"y\"}, {\"alignmentgroup\": \"True\", \"hovertemplate\": \"name=Lyft XL<br>cab_type=%{x}<br>amount=%{y}<extra></extra>\", \"legendgroup\": \"Lyft XL\", \"marker\": {\"color\": \"#FFA15A\"}, \"name\": \"Lyft XL\", \"offsetgroup\": \"Lyft XL\", \"orientation\": \"v\", \"showlegend\": true, \"textposition\": \"auto\", \"type\": \"bar\", \"x\": [\"Lyft\"], \"xaxis\": \"x\", \"y\": [51189], \"yaxis\": \"y\"}, {\"alignmentgroup\": \"True\", \"hovertemplate\": \"name=Shared<br>cab_type=%{x}<br>amount=%{y}<extra></extra>\", \"legendgroup\": \"Shared\", \"marker\": {\"color\": \"#19d3f3\"}, \"name\": \"Shared\", \"offsetgroup\": \"Shared\", \"orientation\": \"v\", \"showlegend\": true, \"textposition\": \"auto\", \"type\": \"bar\", \"x\": [\"Lyft\"], \"xaxis\": \"x\", \"y\": [51205], \"yaxis\": \"y\"}, {\"alignmentgroup\": \"True\", \"hovertemplate\": \"name=Black<br>cab_type=%{x}<br>amount=%{y}<extra></extra>\", \"legendgroup\": \"Black\", \"marker\": {\"color\": \"#FF6692\"}, \"name\": \"Black\", \"offsetgroup\": \"Black\", \"orientation\": \"v\", \"showlegend\": true, \"textposition\": \"auto\", \"type\": \"bar\", \"x\": [\"Uber\"], \"xaxis\": \"x\", \"y\": [54971], \"yaxis\": \"y\"}, {\"alignmentgroup\": \"True\", \"hovertemplate\": \"name=Black SUV<br>cab_type=%{x}<br>amount=%{y}<extra></extra>\", \"legendgroup\": \"Black SUV\", \"marker\": {\"color\": \"#B6E880\"}, \"name\": \"Black SUV\", \"offsetgroup\": \"Black SUV\", \"orientation\": \"v\", \"showlegend\": true, \"textposition\": \"auto\", \"type\": \"bar\", \"x\": [\"Uber\"], \"xaxis\": \"x\", \"y\": [54982], \"yaxis\": \"y\"}, {\"alignmentgroup\": \"True\", \"hovertemplate\": \"name=UberPool<br>cab_type=%{x}<br>amount=%{y}<extra></extra>\", \"legendgroup\": \"UberPool\", \"marker\": {\"color\": \"#FF97FF\"}, \"name\": \"UberPool\", \"offsetgroup\": \"UberPool\", \"orientation\": \"v\", \"showlegend\": true, \"textposition\": \"auto\", \"type\": \"bar\", \"x\": [\"Uber\"], \"xaxis\": \"x\", \"y\": [54980], \"yaxis\": \"y\"}, {\"alignmentgroup\": \"True\", \"hovertemplate\": \"name=UberX<br>cab_type=%{x}<br>amount=%{y}<extra></extra>\", \"legendgroup\": \"UberX\", \"marker\": {\"color\": \"#FECB52\"}, \"name\": \"UberX\", \"offsetgroup\": \"UberX\", \"orientation\": \"v\", \"showlegend\": true, \"textposition\": \"auto\", \"type\": \"bar\", \"x\": [\"Uber\"], \"xaxis\": \"x\", \"y\": [54952], \"yaxis\": \"y\"}, {\"alignmentgroup\": \"True\", \"hovertemplate\": \"name=UberXL<br>cab_type=%{x}<br>amount=%{y}<extra></extra>\", \"legendgroup\": \"UberXL\", \"marker\": {\"color\": \"#636efa\"}, \"name\": \"UberXL\", \"offsetgroup\": \"UberXL\", \"orientation\": \"v\", \"showlegend\": true, \"textposition\": \"auto\", \"type\": \"bar\", \"x\": [\"Uber\"], \"xaxis\": \"x\", \"y\": [55005], \"yaxis\": \"y\"}, {\"alignmentgroup\": \"True\", \"hovertemplate\": \"name=WAV<br>cab_type=%{x}<br>amount=%{y}<extra></extra>\", \"legendgroup\": \"WAV\", \"marker\": {\"color\": \"#EF553B\"}, \"name\": \"WAV\", \"offsetgroup\": \"WAV\", \"orientation\": \"v\", \"showlegend\": true, \"textposition\": \"auto\", \"type\": \"bar\", \"x\": [\"Uber\"], \"xaxis\": \"x\", \"y\": [54955], \"yaxis\": \"y\"}],                        {\"barmode\": \"relative\", \"legend\": {\"title\": {\"text\": \"name\"}, \"tracegroupgap\": 0}, \"template\": {\"data\": {\"bar\": [{\"error_x\": {\"color\": \"#2a3f5f\"}, \"error_y\": {\"color\": \"#2a3f5f\"}, \"marker\": {\"line\": {\"color\": \"#E5ECF6\", \"width\": 0.5}}, \"type\": \"bar\"}], \"barpolar\": [{\"marker\": {\"line\": {\"color\": \"#E5ECF6\", \"width\": 0.5}}, \"type\": \"barpolar\"}], \"carpet\": [{\"aaxis\": {\"endlinecolor\": \"#2a3f5f\", \"gridcolor\": \"white\", \"linecolor\": \"white\", \"minorgridcolor\": \"white\", \"startlinecolor\": \"#2a3f5f\"}, \"baxis\": {\"endlinecolor\": \"#2a3f5f\", \"gridcolor\": \"white\", \"linecolor\": \"white\", \"minorgridcolor\": \"white\", \"startlinecolor\": \"#2a3f5f\"}, \"type\": \"carpet\"}], \"choropleth\": [{\"colorbar\": {\"outlinewidth\": 0, \"ticks\": \"\"}, \"type\": \"choropleth\"}], \"contour\": [{\"colorbar\": {\"outlinewidth\": 0, \"ticks\": \"\"}, \"colorscale\": [[0.0, \"#0d0887\"], [0.1111111111111111, \"#46039f\"], [0.2222222222222222, \"#7201a8\"], [0.3333333333333333, \"#9c179e\"], [0.4444444444444444, \"#bd3786\"], [0.5555555555555556, \"#d8576b\"], [0.6666666666666666, \"#ed7953\"], [0.7777777777777778, \"#fb9f3a\"], [0.8888888888888888, \"#fdca26\"], [1.0, \"#f0f921\"]], \"type\": \"contour\"}], \"contourcarpet\": [{\"colorbar\": {\"outlinewidth\": 0, \"ticks\": \"\"}, \"type\": \"contourcarpet\"}], \"heatmap\": [{\"colorbar\": {\"outlinewidth\": 0, \"ticks\": \"\"}, \"colorscale\": [[0.0, \"#0d0887\"], [0.1111111111111111, \"#46039f\"], [0.2222222222222222, \"#7201a8\"], [0.3333333333333333, \"#9c179e\"], [0.4444444444444444, \"#bd3786\"], [0.5555555555555556, \"#d8576b\"], [0.6666666666666666, \"#ed7953\"], [0.7777777777777778, \"#fb9f3a\"], [0.8888888888888888, \"#fdca26\"], [1.0, \"#f0f921\"]], \"type\": \"heatmap\"}], \"heatmapgl\": [{\"colorbar\": {\"outlinewidth\": 0, \"ticks\": \"\"}, \"colorscale\": [[0.0, \"#0d0887\"], [0.1111111111111111, \"#46039f\"], [0.2222222222222222, \"#7201a8\"], [0.3333333333333333, \"#9c179e\"], [0.4444444444444444, \"#bd3786\"], [0.5555555555555556, \"#d8576b\"], [0.6666666666666666, \"#ed7953\"], [0.7777777777777778, \"#fb9f3a\"], [0.8888888888888888, \"#fdca26\"], [1.0, \"#f0f921\"]], \"type\": \"heatmapgl\"}], \"histogram\": [{\"marker\": {\"colorbar\": {\"outlinewidth\": 0, \"ticks\": \"\"}}, \"type\": \"histogram\"}], \"histogram2d\": [{\"colorbar\": {\"outlinewidth\": 0, \"ticks\": \"\"}, \"colorscale\": [[0.0, \"#0d0887\"], [0.1111111111111111, \"#46039f\"], [0.2222222222222222, \"#7201a8\"], [0.3333333333333333, \"#9c179e\"], [0.4444444444444444, \"#bd3786\"], [0.5555555555555556, \"#d8576b\"], [0.6666666666666666, \"#ed7953\"], [0.7777777777777778, \"#fb9f3a\"], [0.8888888888888888, \"#fdca26\"], [1.0, \"#f0f921\"]], \"type\": \"histogram2d\"}], \"histogram2dcontour\": [{\"colorbar\": {\"outlinewidth\": 0, \"ticks\": \"\"}, \"colorscale\": [[0.0, \"#0d0887\"], [0.1111111111111111, \"#46039f\"], [0.2222222222222222, \"#7201a8\"], [0.3333333333333333, \"#9c179e\"], [0.4444444444444444, \"#bd3786\"], [0.5555555555555556, \"#d8576b\"], [0.6666666666666666, \"#ed7953\"], [0.7777777777777778, \"#fb9f3a\"], [0.8888888888888888, \"#fdca26\"], [1.0, \"#f0f921\"]], \"type\": \"histogram2dcontour\"}], \"mesh3d\": [{\"colorbar\": {\"outlinewidth\": 0, \"ticks\": \"\"}, \"type\": \"mesh3d\"}], \"parcoords\": [{\"line\": {\"colorbar\": {\"outlinewidth\": 0, \"ticks\": \"\"}}, \"type\": \"parcoords\"}], \"pie\": [{\"automargin\": true, \"type\": \"pie\"}], \"scatter\": [{\"marker\": {\"colorbar\": {\"outlinewidth\": 0, \"ticks\": \"\"}}, \"type\": \"scatter\"}], \"scatter3d\": [{\"line\": {\"colorbar\": {\"outlinewidth\": 0, \"ticks\": \"\"}}, \"marker\": {\"colorbar\": {\"outlinewidth\": 0, \"ticks\": \"\"}}, \"type\": \"scatter3d\"}], \"scattercarpet\": [{\"marker\": {\"colorbar\": {\"outlinewidth\": 0, \"ticks\": \"\"}}, \"type\": \"scattercarpet\"}], \"scattergeo\": [{\"marker\": {\"colorbar\": {\"outlinewidth\": 0, \"ticks\": \"\"}}, \"type\": \"scattergeo\"}], \"scattergl\": [{\"marker\": {\"colorbar\": {\"outlinewidth\": 0, \"ticks\": \"\"}}, \"type\": \"scattergl\"}], \"scattermapbox\": [{\"marker\": {\"colorbar\": {\"outlinewidth\": 0, \"ticks\": \"\"}}, \"type\": \"scattermapbox\"}], \"scatterpolar\": [{\"marker\": {\"colorbar\": {\"outlinewidth\": 0, \"ticks\": \"\"}}, \"type\": \"scatterpolar\"}], \"scatterpolargl\": [{\"marker\": {\"colorbar\": {\"outlinewidth\": 0, \"ticks\": \"\"}}, \"type\": \"scatterpolargl\"}], \"scatterternary\": [{\"marker\": {\"colorbar\": {\"outlinewidth\": 0, \"ticks\": \"\"}}, \"type\": \"scatterternary\"}], \"surface\": [{\"colorbar\": {\"outlinewidth\": 0, \"ticks\": \"\"}, \"colorscale\": [[0.0, \"#0d0887\"], [0.1111111111111111, \"#46039f\"], [0.2222222222222222, \"#7201a8\"], [0.3333333333333333, \"#9c179e\"], [0.4444444444444444, \"#bd3786\"], [0.5555555555555556, \"#d8576b\"], [0.6666666666666666, \"#ed7953\"], [0.7777777777777778, \"#fb9f3a\"], [0.8888888888888888, \"#fdca26\"], [1.0, \"#f0f921\"]], \"type\": \"surface\"}], \"table\": [{\"cells\": {\"fill\": {\"color\": \"#EBF0F8\"}, \"line\": {\"color\": \"white\"}}, \"header\": {\"fill\": {\"color\": \"#C8D4E3\"}, \"line\": {\"color\": \"white\"}}, \"type\": \"table\"}]}, \"layout\": {\"annotationdefaults\": {\"arrowcolor\": \"#2a3f5f\", \"arrowhead\": 0, \"arrowwidth\": 1}, \"autotypenumbers\": \"strict\", \"coloraxis\": {\"colorbar\": {\"outlinewidth\": 0, \"ticks\": \"\"}}, \"colorscale\": {\"diverging\": [[0, \"#8e0152\"], [0.1, \"#c51b7d\"], [0.2, \"#de77ae\"], [0.3, \"#f1b6da\"], [0.4, \"#fde0ef\"], [0.5, \"#f7f7f7\"], [0.6, \"#e6f5d0\"], [0.7, \"#b8e186\"], [0.8, \"#7fbc41\"], [0.9, \"#4d9221\"], [1, \"#276419\"]], \"sequential\": [[0.0, \"#0d0887\"], [0.1111111111111111, \"#46039f\"], [0.2222222222222222, \"#7201a8\"], [0.3333333333333333, \"#9c179e\"], [0.4444444444444444, \"#bd3786\"], [0.5555555555555556, \"#d8576b\"], [0.6666666666666666, \"#ed7953\"], [0.7777777777777778, \"#fb9f3a\"], [0.8888888888888888, \"#fdca26\"], [1.0, \"#f0f921\"]], \"sequentialminus\": [[0.0, \"#0d0887\"], [0.1111111111111111, \"#46039f\"], [0.2222222222222222, \"#7201a8\"], [0.3333333333333333, \"#9c179e\"], [0.4444444444444444, \"#bd3786\"], [0.5555555555555556, \"#d8576b\"], [0.6666666666666666, \"#ed7953\"], [0.7777777777777778, \"#fb9f3a\"], [0.8888888888888888, \"#fdca26\"], [1.0, \"#f0f921\"]]}, \"colorway\": [\"#636efa\", \"#EF553B\", \"#00cc96\", \"#ab63fa\", \"#FFA15A\", \"#19d3f3\", \"#FF6692\", \"#B6E880\", \"#FF97FF\", \"#FECB52\"], \"font\": {\"color\": \"#2a3f5f\"}, \"geo\": {\"bgcolor\": \"white\", \"lakecolor\": \"white\", \"landcolor\": \"#E5ECF6\", \"showlakes\": true, \"showland\": true, \"subunitcolor\": \"white\"}, \"hoverlabel\": {\"align\": \"left\"}, \"hovermode\": \"closest\", \"mapbox\": {\"style\": \"light\"}, \"paper_bgcolor\": \"white\", \"plot_bgcolor\": \"#E5ECF6\", \"polar\": {\"angularaxis\": {\"gridcolor\": \"white\", \"linecolor\": \"white\", \"ticks\": \"\"}, \"bgcolor\": \"#E5ECF6\", \"radialaxis\": {\"gridcolor\": \"white\", \"linecolor\": \"white\", \"ticks\": \"\"}}, \"scene\": {\"xaxis\": {\"backgroundcolor\": \"#E5ECF6\", \"gridcolor\": \"white\", \"gridwidth\": 2, \"linecolor\": \"white\", \"showbackground\": true, \"ticks\": \"\", \"zerolinecolor\": \"white\"}, \"yaxis\": {\"backgroundcolor\": \"#E5ECF6\", \"gridcolor\": \"white\", \"gridwidth\": 2, \"linecolor\": \"white\", \"showbackground\": true, \"ticks\": \"\", \"zerolinecolor\": \"white\"}, \"zaxis\": {\"backgroundcolor\": \"#E5ECF6\", \"gridcolor\": \"white\", \"gridwidth\": 2, \"linecolor\": \"white\", \"showbackground\": true, \"ticks\": \"\", \"zerolinecolor\": \"white\"}}, \"shapedefaults\": {\"line\": {\"color\": \"#2a3f5f\"}}, \"ternary\": {\"aaxis\": {\"gridcolor\": \"white\", \"linecolor\": \"white\", \"ticks\": \"\"}, \"baxis\": {\"gridcolor\": \"white\", \"linecolor\": \"white\", \"ticks\": \"\"}, \"bgcolor\": \"#E5ECF6\", \"caxis\": {\"gridcolor\": \"white\", \"linecolor\": \"white\", \"ticks\": \"\"}}, \"title\": {\"x\": 0.05}, \"xaxis\": {\"automargin\": true, \"gridcolor\": \"white\", \"linecolor\": \"white\", \"ticks\": \"\", \"title\": {\"standoff\": 15}, \"zerolinecolor\": \"white\", \"zerolinewidth\": 2}, \"yaxis\": {\"automargin\": true, \"gridcolor\": \"white\", \"linecolor\": \"white\", \"ticks\": \"\", \"title\": {\"standoff\": 15}, \"zerolinecolor\": \"white\", \"zerolinewidth\": 2}}}, \"title\": {\"text\": \"Long-Form Input\"}, \"xaxis\": {\"anchor\": \"y\", \"domain\": [0.0, 1.0], \"title\": {\"text\": \"cab_type\"}}, \"yaxis\": {\"anchor\": \"x\", \"domain\": [0.0, 1.0], \"title\": {\"text\": \"amount\"}}},                        {\"responsive\": true}                    ).then(function(){\n",
       "                            \n",
       "var gd = document.getElementById('341f4989-5bd2-4915-822e-0cf09805aeb8');\n",
       "var x = new MutationObserver(function (mutations, observer) {{\n",
       "        var display = window.getComputedStyle(gd).display;\n",
       "        if (!display || display === 'none') {{\n",
       "            console.log([gd, 'removed!']);\n",
       "            Plotly.purge(gd);\n",
       "            observer.disconnect();\n",
       "        }}\n",
       "}});\n",
       "\n",
       "// Listen for the removal of the full notebook cells\n",
       "var notebookContainer = gd.closest('#notebook-container');\n",
       "if (notebookContainer) {{\n",
       "    x.observe(notebookContainer, {childList: true});\n",
       "}}\n",
       "\n",
       "// Listen for the clearing of the current output cell\n",
       "var outputEl = gd.closest('.output');\n",
       "if (outputEl) {{\n",
       "    x.observe(outputEl, {childList: true});\n",
       "}}\n",
       "\n",
       "                        })                };                });            </script>        </div>"
      ]
     },
     "metadata": {},
     "output_type": "display_data"
    }
   ],
   "source": [
    "fig = px.bar(df_amount, x=\"cab_type\", y=\"amount\", color=\"name\", title=\"Long-Form Input\")\n",
    "fig.show()"
   ]
  },
  {
   "cell_type": "code",
   "execution_count": 15,
   "metadata": {
    "scrolled": true
   },
   "outputs": [
    {
     "data": {
      "text/plain": [
       "2018-11-28    86777\n",
       "2018-11-27    58098\n",
       "2018-11-26    43957\n",
       "2018-12-17    41322\n",
       "2018-12-16    41288\n",
       "2018-12-02    41254\n",
       "2018-12-03    41158\n",
       "2018-11-29    37332\n",
       "2018-11-30    31367\n",
       "2018-12-18    24700\n",
       "2018-12-15     3332\n",
       "Name: date, dtype: int64"
      ]
     },
     "execution_count": 15,
     "metadata": {},
     "output_type": "execute_result"
    }
   ],
   "source": [
    "df_rain.date.value_counts()"
   ]
  },
  {
   "cell_type": "code",
   "execution_count": 16,
   "metadata": {},
   "outputs": [
    {
     "data": {
      "text/plain": [
       "2018-11-28    86777\n",
       "2018-11-27    58098\n",
       "2018-11-26    43957\n",
       "2018-11-30    41769\n",
       "2018-12-14    41351\n",
       "2018-12-01    41347\n",
       "2018-12-17    41322\n",
       "2018-12-16    41288\n",
       "2018-12-15    41278\n",
       "2018-12-02    41254\n",
       "2018-12-13    41195\n",
       "2018-12-03    41158\n",
       "2018-11-29    41015\n",
       "2018-12-18    24700\n",
       "2018-12-09     4052\n",
       "2018-12-04     3138\n",
       "2018-12-12     2870\n",
       "2018-11-25      467\n",
       "Name: date, dtype: int64"
      ]
     },
     "execution_count": 16,
     "metadata": {},
     "output_type": "execute_result"
    }
   ],
   "source": [
    "df.date.value_counts()"
   ]
  },
  {
   "cell_type": "code",
   "execution_count": 17,
   "metadata": {},
   "outputs": [
    {
     "data": {
      "text/html": [
       "<div>\n",
       "<style scoped>\n",
       "    .dataframe tbody tr th:only-of-type {\n",
       "        vertical-align: middle;\n",
       "    }\n",
       "\n",
       "    .dataframe tbody tr th {\n",
       "        vertical-align: top;\n",
       "    }\n",
       "\n",
       "    .dataframe thead th {\n",
       "        text-align: right;\n",
       "    }\n",
       "</style>\n",
       "<table border=\"1\" class=\"dataframe\">\n",
       "  <thead>\n",
       "    <tr style=\"text-align: right;\">\n",
       "      <th></th>\n",
       "      <th>cab_type</th>\n",
       "      <th>date</th>\n",
       "      <th>0</th>\n",
       "    </tr>\n",
       "  </thead>\n",
       "  <tbody>\n",
       "    <tr>\n",
       "      <th>0</th>\n",
       "      <td>Lyft</td>\n",
       "      <td>2018-11-26</td>\n",
       "      <td>21161</td>\n",
       "    </tr>\n",
       "    <tr>\n",
       "      <th>1</th>\n",
       "      <td>Lyft</td>\n",
       "      <td>2018-11-27</td>\n",
       "      <td>28064</td>\n",
       "    </tr>\n",
       "    <tr>\n",
       "      <th>2</th>\n",
       "      <td>Lyft</td>\n",
       "      <td>2018-11-28</td>\n",
       "      <td>41946</td>\n",
       "    </tr>\n",
       "    <tr>\n",
       "      <th>3</th>\n",
       "      <td>Lyft</td>\n",
       "      <td>2018-11-29</td>\n",
       "      <td>17701</td>\n",
       "    </tr>\n",
       "    <tr>\n",
       "      <th>4</th>\n",
       "      <td>Lyft</td>\n",
       "      <td>2018-11-30</td>\n",
       "      <td>15293</td>\n",
       "    </tr>\n",
       "  </tbody>\n",
       "</table>\n",
       "</div>"
      ],
      "text/plain": [
       "  cab_type        date      0\n",
       "0     Lyft  2018-11-26  21161\n",
       "1     Lyft  2018-11-27  28064\n",
       "2     Lyft  2018-11-28  41946\n",
       "3     Lyft  2018-11-29  17701\n",
       "4     Lyft  2018-11-30  15293"
      ]
     },
     "execution_count": 17,
     "metadata": {},
     "output_type": "execute_result"
    }
   ],
   "source": [
    "df_rides_rain = df_rain.groupby(['cab_type', 'date']).size().reset_index()\n",
    "df_rides_rain.head()"
   ]
  },
  {
   "cell_type": "code",
   "execution_count": 18,
   "metadata": {},
   "outputs": [
    {
     "data": {
      "text/html": [
       "<div>\n",
       "<style scoped>\n",
       "    .dataframe tbody tr th:only-of-type {\n",
       "        vertical-align: middle;\n",
       "    }\n",
       "\n",
       "    .dataframe tbody tr th {\n",
       "        vertical-align: top;\n",
       "    }\n",
       "\n",
       "    .dataframe thead th {\n",
       "        text-align: right;\n",
       "    }\n",
       "</style>\n",
       "<table border=\"1\" class=\"dataframe\">\n",
       "  <thead>\n",
       "    <tr style=\"text-align: right;\">\n",
       "      <th></th>\n",
       "      <th>cab_type</th>\n",
       "      <th>date</th>\n",
       "      <th>amount</th>\n",
       "    </tr>\n",
       "  </thead>\n",
       "  <tbody>\n",
       "    <tr>\n",
       "      <th>0</th>\n",
       "      <td>Lyft</td>\n",
       "      <td>2018-11-26</td>\n",
       "      <td>21161</td>\n",
       "    </tr>\n",
       "    <tr>\n",
       "      <th>1</th>\n",
       "      <td>Lyft</td>\n",
       "      <td>2018-11-27</td>\n",
       "      <td>28064</td>\n",
       "    </tr>\n",
       "    <tr>\n",
       "      <th>2</th>\n",
       "      <td>Lyft</td>\n",
       "      <td>2018-11-28</td>\n",
       "      <td>41946</td>\n",
       "    </tr>\n",
       "    <tr>\n",
       "      <th>3</th>\n",
       "      <td>Lyft</td>\n",
       "      <td>2018-11-29</td>\n",
       "      <td>17701</td>\n",
       "    </tr>\n",
       "    <tr>\n",
       "      <th>4</th>\n",
       "      <td>Lyft</td>\n",
       "      <td>2018-11-30</td>\n",
       "      <td>15293</td>\n",
       "    </tr>\n",
       "  </tbody>\n",
       "</table>\n",
       "</div>"
      ],
      "text/plain": [
       "  cab_type        date  amount\n",
       "0     Lyft  2018-11-26   21161\n",
       "1     Lyft  2018-11-27   28064\n",
       "2     Lyft  2018-11-28   41946\n",
       "3     Lyft  2018-11-29   17701\n",
       "4     Lyft  2018-11-30   15293"
      ]
     },
     "execution_count": 18,
     "metadata": {},
     "output_type": "execute_result"
    }
   ],
   "source": [
    "df_rides_rain = df_rides_rain.rename(columns={0: \"amount\"})\n",
    "df_rides_rain.head()"
   ]
  },
  {
   "cell_type": "code",
   "execution_count": 19,
   "metadata": {},
   "outputs": [
    {
     "data": {
      "application/vnd.plotly.v1+json": {
       "config": {
        "plotlyServerURL": "https://plot.ly"
       },
       "data": [
        {
         "alignmentgroup": "True",
         "hovertemplate": "cab_type=%{x}<br>date=2018-11-26<br>amount=%{y}<extra></extra>",
         "legendgroup": "Lyft",
         "marker": {
          "color": "#FF00BF"
         },
         "name": "Lyft",
         "offsetgroup": "Lyft",
         "orientation": "v",
         "showlegend": true,
         "textposition": "auto",
         "type": "bar",
         "x": [
          "Lyft"
         ],
         "xaxis": "x",
         "y": [
          21161
         ],
         "yaxis": "y"
        },
        {
         "alignmentgroup": "True",
         "hovertemplate": "cab_type=%{x}<br>date=2018-11-26<br>amount=%{y}<extra></extra>",
         "legendgroup": "Uber",
         "marker": {
          "color": "#000000"
         },
         "name": "Uber",
         "offsetgroup": "Uber",
         "orientation": "v",
         "showlegend": true,
         "textposition": "auto",
         "type": "bar",
         "x": [
          "Uber"
         ],
         "xaxis": "x",
         "y": [
          22796
         ],
         "yaxis": "y"
        }
       ],
       "frames": [
        {
         "data": [
          {
           "alignmentgroup": "True",
           "hovertemplate": "cab_type=%{x}<br>date=2018-11-26<br>amount=%{y}<extra></extra>",
           "legendgroup": "Lyft",
           "marker": {
            "color": "#FF00BF"
           },
           "name": "Lyft",
           "offsetgroup": "Lyft",
           "orientation": "v",
           "showlegend": true,
           "textposition": "auto",
           "type": "bar",
           "x": [
            "Lyft"
           ],
           "xaxis": "x",
           "y": [
            21161
           ],
           "yaxis": "y"
          },
          {
           "alignmentgroup": "True",
           "hovertemplate": "cab_type=%{x}<br>date=2018-11-26<br>amount=%{y}<extra></extra>",
           "legendgroup": "Uber",
           "marker": {
            "color": "#000000"
           },
           "name": "Uber",
           "offsetgroup": "Uber",
           "orientation": "v",
           "showlegend": true,
           "textposition": "auto",
           "type": "bar",
           "x": [
            "Uber"
           ],
           "xaxis": "x",
           "y": [
            22796
           ],
           "yaxis": "y"
          }
         ],
         "name": "2018-11-26"
        },
        {
         "data": [
          {
           "alignmentgroup": "True",
           "hovertemplate": "cab_type=%{x}<br>date=2018-11-27<br>amount=%{y}<extra></extra>",
           "legendgroup": "Lyft",
           "marker": {
            "color": "#FF00BF"
           },
           "name": "Lyft",
           "offsetgroup": "Lyft",
           "orientation": "v",
           "showlegend": true,
           "textposition": "auto",
           "type": "bar",
           "x": [
            "Lyft"
           ],
           "xaxis": "x",
           "y": [
            28064
           ],
           "yaxis": "y"
          },
          {
           "alignmentgroup": "True",
           "hovertemplate": "cab_type=%{x}<br>date=2018-11-27<br>amount=%{y}<extra></extra>",
           "legendgroup": "Uber",
           "marker": {
            "color": "#000000"
           },
           "name": "Uber",
           "offsetgroup": "Uber",
           "orientation": "v",
           "showlegend": true,
           "textposition": "auto",
           "type": "bar",
           "x": [
            "Uber"
           ],
           "xaxis": "x",
           "y": [
            30034
           ],
           "yaxis": "y"
          }
         ],
         "name": "2018-11-27"
        },
        {
         "data": [
          {
           "alignmentgroup": "True",
           "hovertemplate": "cab_type=%{x}<br>date=2018-11-28<br>amount=%{y}<extra></extra>",
           "legendgroup": "Lyft",
           "marker": {
            "color": "#FF00BF"
           },
           "name": "Lyft",
           "offsetgroup": "Lyft",
           "orientation": "v",
           "showlegend": true,
           "textposition": "auto",
           "type": "bar",
           "x": [
            "Lyft"
           ],
           "xaxis": "x",
           "y": [
            41946
           ],
           "yaxis": "y"
          },
          {
           "alignmentgroup": "True",
           "hovertemplate": "cab_type=%{x}<br>date=2018-11-28<br>amount=%{y}<extra></extra>",
           "legendgroup": "Uber",
           "marker": {
            "color": "#000000"
           },
           "name": "Uber",
           "offsetgroup": "Uber",
           "orientation": "v",
           "showlegend": true,
           "textposition": "auto",
           "type": "bar",
           "x": [
            "Uber"
           ],
           "xaxis": "x",
           "y": [
            44831
           ],
           "yaxis": "y"
          }
         ],
         "name": "2018-11-28"
        },
        {
         "data": [
          {
           "alignmentgroup": "True",
           "hovertemplate": "cab_type=%{x}<br>date=2018-11-29<br>amount=%{y}<extra></extra>",
           "legendgroup": "Lyft",
           "marker": {
            "color": "#FF00BF"
           },
           "name": "Lyft",
           "offsetgroup": "Lyft",
           "orientation": "v",
           "showlegend": true,
           "textposition": "auto",
           "type": "bar",
           "x": [
            "Lyft"
           ],
           "xaxis": "x",
           "y": [
            17701
           ],
           "yaxis": "y"
          },
          {
           "alignmentgroup": "True",
           "hovertemplate": "cab_type=%{x}<br>date=2018-11-29<br>amount=%{y}<extra></extra>",
           "legendgroup": "Uber",
           "marker": {
            "color": "#000000"
           },
           "name": "Uber",
           "offsetgroup": "Uber",
           "orientation": "v",
           "showlegend": true,
           "textposition": "auto",
           "type": "bar",
           "x": [
            "Uber"
           ],
           "xaxis": "x",
           "y": [
            19631
           ],
           "yaxis": "y"
          }
         ],
         "name": "2018-11-29"
        },
        {
         "data": [
          {
           "alignmentgroup": "True",
           "hovertemplate": "cab_type=%{x}<br>date=2018-11-30<br>amount=%{y}<extra></extra>",
           "legendgroup": "Lyft",
           "marker": {
            "color": "#FF00BF"
           },
           "name": "Lyft",
           "offsetgroup": "Lyft",
           "orientation": "v",
           "showlegend": true,
           "textposition": "auto",
           "type": "bar",
           "x": [
            "Lyft"
           ],
           "xaxis": "x",
           "y": [
            15293
           ],
           "yaxis": "y"
          },
          {
           "alignmentgroup": "True",
           "hovertemplate": "cab_type=%{x}<br>date=2018-11-30<br>amount=%{y}<extra></extra>",
           "legendgroup": "Uber",
           "marker": {
            "color": "#000000"
           },
           "name": "Uber",
           "offsetgroup": "Uber",
           "orientation": "v",
           "showlegend": true,
           "textposition": "auto",
           "type": "bar",
           "x": [
            "Uber"
           ],
           "xaxis": "x",
           "y": [
            16074
           ],
           "yaxis": "y"
          }
         ],
         "name": "2018-11-30"
        },
        {
         "data": [
          {
           "alignmentgroup": "True",
           "hovertemplate": "cab_type=%{x}<br>date=2018-12-02<br>amount=%{y}<extra></extra>",
           "legendgroup": "Lyft",
           "marker": {
            "color": "#FF00BF"
           },
           "name": "Lyft",
           "offsetgroup": "Lyft",
           "orientation": "v",
           "showlegend": true,
           "textposition": "auto",
           "type": "bar",
           "x": [
            "Lyft"
           ],
           "xaxis": "x",
           "y": [
            19938
           ],
           "yaxis": "y"
          },
          {
           "alignmentgroup": "True",
           "hovertemplate": "cab_type=%{x}<br>date=2018-12-02<br>amount=%{y}<extra></extra>",
           "legendgroup": "Uber",
           "marker": {
            "color": "#000000"
           },
           "name": "Uber",
           "offsetgroup": "Uber",
           "orientation": "v",
           "showlegend": true,
           "textposition": "auto",
           "type": "bar",
           "x": [
            "Uber"
           ],
           "xaxis": "x",
           "y": [
            21316
           ],
           "yaxis": "y"
          }
         ],
         "name": "2018-12-02"
        },
        {
         "data": [
          {
           "alignmentgroup": "True",
           "hovertemplate": "cab_type=%{x}<br>date=2018-12-03<br>amount=%{y}<extra></extra>",
           "legendgroup": "Lyft",
           "marker": {
            "color": "#FF00BF"
           },
           "name": "Lyft",
           "offsetgroup": "Lyft",
           "orientation": "v",
           "showlegend": true,
           "textposition": "auto",
           "type": "bar",
           "x": [
            "Lyft"
           ],
           "xaxis": "x",
           "y": [
            20077
           ],
           "yaxis": "y"
          },
          {
           "alignmentgroup": "True",
           "hovertemplate": "cab_type=%{x}<br>date=2018-12-03<br>amount=%{y}<extra></extra>",
           "legendgroup": "Uber",
           "marker": {
            "color": "#000000"
           },
           "name": "Uber",
           "offsetgroup": "Uber",
           "orientation": "v",
           "showlegend": true,
           "textposition": "auto",
           "type": "bar",
           "x": [
            "Uber"
           ],
           "xaxis": "x",
           "y": [
            21081
           ],
           "yaxis": "y"
          }
         ],
         "name": "2018-12-03"
        },
        {
         "data": [
          {
           "alignmentgroup": "True",
           "hovertemplate": "cab_type=%{x}<br>date=2018-12-15<br>amount=%{y}<extra></extra>",
           "legendgroup": "Lyft",
           "marker": {
            "color": "#FF00BF"
           },
           "name": "Lyft",
           "offsetgroup": "Lyft",
           "orientation": "v",
           "showlegend": true,
           "textposition": "auto",
           "type": "bar",
           "x": [
            "Lyft"
           ],
           "xaxis": "x",
           "y": [
            1575
           ],
           "yaxis": "y"
          },
          {
           "alignmentgroup": "True",
           "hovertemplate": "cab_type=%{x}<br>date=2018-12-15<br>amount=%{y}<extra></extra>",
           "legendgroup": "Uber",
           "marker": {
            "color": "#000000"
           },
           "name": "Uber",
           "offsetgroup": "Uber",
           "orientation": "v",
           "showlegend": true,
           "textposition": "auto",
           "type": "bar",
           "x": [
            "Uber"
           ],
           "xaxis": "x",
           "y": [
            1757
           ],
           "yaxis": "y"
          }
         ],
         "name": "2018-12-15"
        },
        {
         "data": [
          {
           "alignmentgroup": "True",
           "hovertemplate": "cab_type=%{x}<br>date=2018-12-16<br>amount=%{y}<extra></extra>",
           "legendgroup": "Lyft",
           "marker": {
            "color": "#FF00BF"
           },
           "name": "Lyft",
           "offsetgroup": "Lyft",
           "orientation": "v",
           "showlegend": true,
           "textposition": "auto",
           "type": "bar",
           "x": [
            "Lyft"
           ],
           "xaxis": "x",
           "y": [
            20001
           ],
           "yaxis": "y"
          },
          {
           "alignmentgroup": "True",
           "hovertemplate": "cab_type=%{x}<br>date=2018-12-16<br>amount=%{y}<extra></extra>",
           "legendgroup": "Uber",
           "marker": {
            "color": "#000000"
           },
           "name": "Uber",
           "offsetgroup": "Uber",
           "orientation": "v",
           "showlegend": true,
           "textposition": "auto",
           "type": "bar",
           "x": [
            "Uber"
           ],
           "xaxis": "x",
           "y": [
            21287
           ],
           "yaxis": "y"
          }
         ],
         "name": "2018-12-16"
        },
        {
         "data": [
          {
           "alignmentgroup": "True",
           "hovertemplate": "cab_type=%{x}<br>date=2018-12-17<br>amount=%{y}<extra></extra>",
           "legendgroup": "Lyft",
           "marker": {
            "color": "#FF00BF"
           },
           "name": "Lyft",
           "offsetgroup": "Lyft",
           "orientation": "v",
           "showlegend": true,
           "textposition": "auto",
           "type": "bar",
           "x": [
            "Lyft"
           ],
           "xaxis": "x",
           "y": [
            19643
           ],
           "yaxis": "y"
          },
          {
           "alignmentgroup": "True",
           "hovertemplate": "cab_type=%{x}<br>date=2018-12-17<br>amount=%{y}<extra></extra>",
           "legendgroup": "Uber",
           "marker": {
            "color": "#000000"
           },
           "name": "Uber",
           "offsetgroup": "Uber",
           "orientation": "v",
           "showlegend": true,
           "textposition": "auto",
           "type": "bar",
           "x": [
            "Uber"
           ],
           "xaxis": "x",
           "y": [
            21679
           ],
           "yaxis": "y"
          }
         ],
         "name": "2018-12-17"
        },
        {
         "data": [
          {
           "alignmentgroup": "True",
           "hovertemplate": "cab_type=%{x}<br>date=2018-12-18<br>amount=%{y}<extra></extra>",
           "legendgroup": "Lyft",
           "marker": {
            "color": "#FF00BF"
           },
           "name": "Lyft",
           "offsetgroup": "Lyft",
           "orientation": "v",
           "showlegend": true,
           "textposition": "auto",
           "type": "bar",
           "x": [
            "Lyft"
           ],
           "xaxis": "x",
           "y": [
            11817
           ],
           "yaxis": "y"
          },
          {
           "alignmentgroup": "True",
           "hovertemplate": "cab_type=%{x}<br>date=2018-12-18<br>amount=%{y}<extra></extra>",
           "legendgroup": "Uber",
           "marker": {
            "color": "#000000"
           },
           "name": "Uber",
           "offsetgroup": "Uber",
           "orientation": "v",
           "showlegend": true,
           "textposition": "auto",
           "type": "bar",
           "x": [
            "Uber"
           ],
           "xaxis": "x",
           "y": [
            12883
           ],
           "yaxis": "y"
          }
         ],
         "name": "2018-12-18"
        }
       ],
       "layout": {
        "barmode": "relative",
        "height": 500,
        "legend": {
         "title": {
          "text": "cab_type"
         },
         "tracegroupgap": 0
        },
        "margin": {
         "t": 60
        },
        "sliders": [
         {
          "active": 0,
          "currentvalue": {
           "prefix": "date="
          },
          "len": 0.9,
          "pad": {
           "b": 10,
           "t": 60
          },
          "steps": [
           {
            "args": [
             [
              "2018-11-26"
             ],
             {
              "frame": {
               "duration": 0,
               "redraw": true
              },
              "fromcurrent": true,
              "mode": "immediate",
              "transition": {
               "duration": 0,
               "easing": "linear"
              }
             }
            ],
            "label": "2018-11-26",
            "method": "animate"
           },
           {
            "args": [
             [
              "2018-11-27"
             ],
             {
              "frame": {
               "duration": 0,
               "redraw": true
              },
              "fromcurrent": true,
              "mode": "immediate",
              "transition": {
               "duration": 0,
               "easing": "linear"
              }
             }
            ],
            "label": "2018-11-27",
            "method": "animate"
           },
           {
            "args": [
             [
              "2018-11-28"
             ],
             {
              "frame": {
               "duration": 0,
               "redraw": true
              },
              "fromcurrent": true,
              "mode": "immediate",
              "transition": {
               "duration": 0,
               "easing": "linear"
              }
             }
            ],
            "label": "2018-11-28",
            "method": "animate"
           },
           {
            "args": [
             [
              "2018-11-29"
             ],
             {
              "frame": {
               "duration": 0,
               "redraw": true
              },
              "fromcurrent": true,
              "mode": "immediate",
              "transition": {
               "duration": 0,
               "easing": "linear"
              }
             }
            ],
            "label": "2018-11-29",
            "method": "animate"
           },
           {
            "args": [
             [
              "2018-11-30"
             ],
             {
              "frame": {
               "duration": 0,
               "redraw": true
              },
              "fromcurrent": true,
              "mode": "immediate",
              "transition": {
               "duration": 0,
               "easing": "linear"
              }
             }
            ],
            "label": "2018-11-30",
            "method": "animate"
           },
           {
            "args": [
             [
              "2018-12-02"
             ],
             {
              "frame": {
               "duration": 0,
               "redraw": true
              },
              "fromcurrent": true,
              "mode": "immediate",
              "transition": {
               "duration": 0,
               "easing": "linear"
              }
             }
            ],
            "label": "2018-12-02",
            "method": "animate"
           },
           {
            "args": [
             [
              "2018-12-03"
             ],
             {
              "frame": {
               "duration": 0,
               "redraw": true
              },
              "fromcurrent": true,
              "mode": "immediate",
              "transition": {
               "duration": 0,
               "easing": "linear"
              }
             }
            ],
            "label": "2018-12-03",
            "method": "animate"
           },
           {
            "args": [
             [
              "2018-12-15"
             ],
             {
              "frame": {
               "duration": 0,
               "redraw": true
              },
              "fromcurrent": true,
              "mode": "immediate",
              "transition": {
               "duration": 0,
               "easing": "linear"
              }
             }
            ],
            "label": "2018-12-15",
            "method": "animate"
           },
           {
            "args": [
             [
              "2018-12-16"
             ],
             {
              "frame": {
               "duration": 0,
               "redraw": true
              },
              "fromcurrent": true,
              "mode": "immediate",
              "transition": {
               "duration": 0,
               "easing": "linear"
              }
             }
            ],
            "label": "2018-12-16",
            "method": "animate"
           },
           {
            "args": [
             [
              "2018-12-17"
             ],
             {
              "frame": {
               "duration": 0,
               "redraw": true
              },
              "fromcurrent": true,
              "mode": "immediate",
              "transition": {
               "duration": 0,
               "easing": "linear"
              }
             }
            ],
            "label": "2018-12-17",
            "method": "animate"
           },
           {
            "args": [
             [
              "2018-12-18"
             ],
             {
              "frame": {
               "duration": 0,
               "redraw": true
              },
              "fromcurrent": true,
              "mode": "immediate",
              "transition": {
               "duration": 0,
               "easing": "linear"
              }
             }
            ],
            "label": "2018-12-18",
            "method": "animate"
           }
          ],
          "x": 0.1,
          "xanchor": "left",
          "y": 0,
          "yanchor": "top"
         }
        ],
        "template": {
         "data": {
          "bar": [
           {
            "error_x": {
             "color": "#2a3f5f"
            },
            "error_y": {
             "color": "#2a3f5f"
            },
            "marker": {
             "line": {
              "color": "#E5ECF6",
              "width": 0.5
             }
            },
            "type": "bar"
           }
          ],
          "barpolar": [
           {
            "marker": {
             "line": {
              "color": "#E5ECF6",
              "width": 0.5
             }
            },
            "type": "barpolar"
           }
          ],
          "carpet": [
           {
            "aaxis": {
             "endlinecolor": "#2a3f5f",
             "gridcolor": "white",
             "linecolor": "white",
             "minorgridcolor": "white",
             "startlinecolor": "#2a3f5f"
            },
            "baxis": {
             "endlinecolor": "#2a3f5f",
             "gridcolor": "white",
             "linecolor": "white",
             "minorgridcolor": "white",
             "startlinecolor": "#2a3f5f"
            },
            "type": "carpet"
           }
          ],
          "choropleth": [
           {
            "colorbar": {
             "outlinewidth": 0,
             "ticks": ""
            },
            "type": "choropleth"
           }
          ],
          "contour": [
           {
            "colorbar": {
             "outlinewidth": 0,
             "ticks": ""
            },
            "colorscale": [
             [
              0,
              "#0d0887"
             ],
             [
              0.1111111111111111,
              "#46039f"
             ],
             [
              0.2222222222222222,
              "#7201a8"
             ],
             [
              0.3333333333333333,
              "#9c179e"
             ],
             [
              0.4444444444444444,
              "#bd3786"
             ],
             [
              0.5555555555555556,
              "#d8576b"
             ],
             [
              0.6666666666666666,
              "#ed7953"
             ],
             [
              0.7777777777777778,
              "#fb9f3a"
             ],
             [
              0.8888888888888888,
              "#fdca26"
             ],
             [
              1,
              "#f0f921"
             ]
            ],
            "type": "contour"
           }
          ],
          "contourcarpet": [
           {
            "colorbar": {
             "outlinewidth": 0,
             "ticks": ""
            },
            "type": "contourcarpet"
           }
          ],
          "heatmap": [
           {
            "colorbar": {
             "outlinewidth": 0,
             "ticks": ""
            },
            "colorscale": [
             [
              0,
              "#0d0887"
             ],
             [
              0.1111111111111111,
              "#46039f"
             ],
             [
              0.2222222222222222,
              "#7201a8"
             ],
             [
              0.3333333333333333,
              "#9c179e"
             ],
             [
              0.4444444444444444,
              "#bd3786"
             ],
             [
              0.5555555555555556,
              "#d8576b"
             ],
             [
              0.6666666666666666,
              "#ed7953"
             ],
             [
              0.7777777777777778,
              "#fb9f3a"
             ],
             [
              0.8888888888888888,
              "#fdca26"
             ],
             [
              1,
              "#f0f921"
             ]
            ],
            "type": "heatmap"
           }
          ],
          "heatmapgl": [
           {
            "colorbar": {
             "outlinewidth": 0,
             "ticks": ""
            },
            "colorscale": [
             [
              0,
              "#0d0887"
             ],
             [
              0.1111111111111111,
              "#46039f"
             ],
             [
              0.2222222222222222,
              "#7201a8"
             ],
             [
              0.3333333333333333,
              "#9c179e"
             ],
             [
              0.4444444444444444,
              "#bd3786"
             ],
             [
              0.5555555555555556,
              "#d8576b"
             ],
             [
              0.6666666666666666,
              "#ed7953"
             ],
             [
              0.7777777777777778,
              "#fb9f3a"
             ],
             [
              0.8888888888888888,
              "#fdca26"
             ],
             [
              1,
              "#f0f921"
             ]
            ],
            "type": "heatmapgl"
           }
          ],
          "histogram": [
           {
            "marker": {
             "colorbar": {
              "outlinewidth": 0,
              "ticks": ""
             }
            },
            "type": "histogram"
           }
          ],
          "histogram2d": [
           {
            "colorbar": {
             "outlinewidth": 0,
             "ticks": ""
            },
            "colorscale": [
             [
              0,
              "#0d0887"
             ],
             [
              0.1111111111111111,
              "#46039f"
             ],
             [
              0.2222222222222222,
              "#7201a8"
             ],
             [
              0.3333333333333333,
              "#9c179e"
             ],
             [
              0.4444444444444444,
              "#bd3786"
             ],
             [
              0.5555555555555556,
              "#d8576b"
             ],
             [
              0.6666666666666666,
              "#ed7953"
             ],
             [
              0.7777777777777778,
              "#fb9f3a"
             ],
             [
              0.8888888888888888,
              "#fdca26"
             ],
             [
              1,
              "#f0f921"
             ]
            ],
            "type": "histogram2d"
           }
          ],
          "histogram2dcontour": [
           {
            "colorbar": {
             "outlinewidth": 0,
             "ticks": ""
            },
            "colorscale": [
             [
              0,
              "#0d0887"
             ],
             [
              0.1111111111111111,
              "#46039f"
             ],
             [
              0.2222222222222222,
              "#7201a8"
             ],
             [
              0.3333333333333333,
              "#9c179e"
             ],
             [
              0.4444444444444444,
              "#bd3786"
             ],
             [
              0.5555555555555556,
              "#d8576b"
             ],
             [
              0.6666666666666666,
              "#ed7953"
             ],
             [
              0.7777777777777778,
              "#fb9f3a"
             ],
             [
              0.8888888888888888,
              "#fdca26"
             ],
             [
              1,
              "#f0f921"
             ]
            ],
            "type": "histogram2dcontour"
           }
          ],
          "mesh3d": [
           {
            "colorbar": {
             "outlinewidth": 0,
             "ticks": ""
            },
            "type": "mesh3d"
           }
          ],
          "parcoords": [
           {
            "line": {
             "colorbar": {
              "outlinewidth": 0,
              "ticks": ""
             }
            },
            "type": "parcoords"
           }
          ],
          "pie": [
           {
            "automargin": true,
            "type": "pie"
           }
          ],
          "scatter": [
           {
            "marker": {
             "colorbar": {
              "outlinewidth": 0,
              "ticks": ""
             }
            },
            "type": "scatter"
           }
          ],
          "scatter3d": [
           {
            "line": {
             "colorbar": {
              "outlinewidth": 0,
              "ticks": ""
             }
            },
            "marker": {
             "colorbar": {
              "outlinewidth": 0,
              "ticks": ""
             }
            },
            "type": "scatter3d"
           }
          ],
          "scattercarpet": [
           {
            "marker": {
             "colorbar": {
              "outlinewidth": 0,
              "ticks": ""
             }
            },
            "type": "scattercarpet"
           }
          ],
          "scattergeo": [
           {
            "marker": {
             "colorbar": {
              "outlinewidth": 0,
              "ticks": ""
             }
            },
            "type": "scattergeo"
           }
          ],
          "scattergl": [
           {
            "marker": {
             "colorbar": {
              "outlinewidth": 0,
              "ticks": ""
             }
            },
            "type": "scattergl"
           }
          ],
          "scattermapbox": [
           {
            "marker": {
             "colorbar": {
              "outlinewidth": 0,
              "ticks": ""
             }
            },
            "type": "scattermapbox"
           }
          ],
          "scatterpolar": [
           {
            "marker": {
             "colorbar": {
              "outlinewidth": 0,
              "ticks": ""
             }
            },
            "type": "scatterpolar"
           }
          ],
          "scatterpolargl": [
           {
            "marker": {
             "colorbar": {
              "outlinewidth": 0,
              "ticks": ""
             }
            },
            "type": "scatterpolargl"
           }
          ],
          "scatterternary": [
           {
            "marker": {
             "colorbar": {
              "outlinewidth": 0,
              "ticks": ""
             }
            },
            "type": "scatterternary"
           }
          ],
          "surface": [
           {
            "colorbar": {
             "outlinewidth": 0,
             "ticks": ""
            },
            "colorscale": [
             [
              0,
              "#0d0887"
             ],
             [
              0.1111111111111111,
              "#46039f"
             ],
             [
              0.2222222222222222,
              "#7201a8"
             ],
             [
              0.3333333333333333,
              "#9c179e"
             ],
             [
              0.4444444444444444,
              "#bd3786"
             ],
             [
              0.5555555555555556,
              "#d8576b"
             ],
             [
              0.6666666666666666,
              "#ed7953"
             ],
             [
              0.7777777777777778,
              "#fb9f3a"
             ],
             [
              0.8888888888888888,
              "#fdca26"
             ],
             [
              1,
              "#f0f921"
             ]
            ],
            "type": "surface"
           }
          ],
          "table": [
           {
            "cells": {
             "fill": {
              "color": "#EBF0F8"
             },
             "line": {
              "color": "white"
             }
            },
            "header": {
             "fill": {
              "color": "#C8D4E3"
             },
             "line": {
              "color": "white"
             }
            },
            "type": "table"
           }
          ]
         },
         "layout": {
          "annotationdefaults": {
           "arrowcolor": "#2a3f5f",
           "arrowhead": 0,
           "arrowwidth": 1
          },
          "autotypenumbers": "strict",
          "coloraxis": {
           "colorbar": {
            "outlinewidth": 0,
            "ticks": ""
           }
          },
          "colorscale": {
           "diverging": [
            [
             0,
             "#8e0152"
            ],
            [
             0.1,
             "#c51b7d"
            ],
            [
             0.2,
             "#de77ae"
            ],
            [
             0.3,
             "#f1b6da"
            ],
            [
             0.4,
             "#fde0ef"
            ],
            [
             0.5,
             "#f7f7f7"
            ],
            [
             0.6,
             "#e6f5d0"
            ],
            [
             0.7,
             "#b8e186"
            ],
            [
             0.8,
             "#7fbc41"
            ],
            [
             0.9,
             "#4d9221"
            ],
            [
             1,
             "#276419"
            ]
           ],
           "sequential": [
            [
             0,
             "#0d0887"
            ],
            [
             0.1111111111111111,
             "#46039f"
            ],
            [
             0.2222222222222222,
             "#7201a8"
            ],
            [
             0.3333333333333333,
             "#9c179e"
            ],
            [
             0.4444444444444444,
             "#bd3786"
            ],
            [
             0.5555555555555556,
             "#d8576b"
            ],
            [
             0.6666666666666666,
             "#ed7953"
            ],
            [
             0.7777777777777778,
             "#fb9f3a"
            ],
            [
             0.8888888888888888,
             "#fdca26"
            ],
            [
             1,
             "#f0f921"
            ]
           ],
           "sequentialminus": [
            [
             0,
             "#0d0887"
            ],
            [
             0.1111111111111111,
             "#46039f"
            ],
            [
             0.2222222222222222,
             "#7201a8"
            ],
            [
             0.3333333333333333,
             "#9c179e"
            ],
            [
             0.4444444444444444,
             "#bd3786"
            ],
            [
             0.5555555555555556,
             "#d8576b"
            ],
            [
             0.6666666666666666,
             "#ed7953"
            ],
            [
             0.7777777777777778,
             "#fb9f3a"
            ],
            [
             0.8888888888888888,
             "#fdca26"
            ],
            [
             1,
             "#f0f921"
            ]
           ]
          },
          "colorway": [
           "#636efa",
           "#EF553B",
           "#00cc96",
           "#ab63fa",
           "#FFA15A",
           "#19d3f3",
           "#FF6692",
           "#B6E880",
           "#FF97FF",
           "#FECB52"
          ],
          "font": {
           "color": "#2a3f5f"
          },
          "geo": {
           "bgcolor": "white",
           "lakecolor": "white",
           "landcolor": "#E5ECF6",
           "showlakes": true,
           "showland": true,
           "subunitcolor": "white"
          },
          "hoverlabel": {
           "align": "left"
          },
          "hovermode": "closest",
          "mapbox": {
           "style": "light"
          },
          "paper_bgcolor": "white",
          "plot_bgcolor": "#E5ECF6",
          "polar": {
           "angularaxis": {
            "gridcolor": "white",
            "linecolor": "white",
            "ticks": ""
           },
           "bgcolor": "#E5ECF6",
           "radialaxis": {
            "gridcolor": "white",
            "linecolor": "white",
            "ticks": ""
           }
          },
          "scene": {
           "xaxis": {
            "backgroundcolor": "#E5ECF6",
            "gridcolor": "white",
            "gridwidth": 2,
            "linecolor": "white",
            "showbackground": true,
            "ticks": "",
            "zerolinecolor": "white"
           },
           "yaxis": {
            "backgroundcolor": "#E5ECF6",
            "gridcolor": "white",
            "gridwidth": 2,
            "linecolor": "white",
            "showbackground": true,
            "ticks": "",
            "zerolinecolor": "white"
           },
           "zaxis": {
            "backgroundcolor": "#E5ECF6",
            "gridcolor": "white",
            "gridwidth": 2,
            "linecolor": "white",
            "showbackground": true,
            "ticks": "",
            "zerolinecolor": "white"
           }
          },
          "shapedefaults": {
           "line": {
            "color": "#2a3f5f"
           }
          },
          "ternary": {
           "aaxis": {
            "gridcolor": "white",
            "linecolor": "white",
            "ticks": ""
           },
           "baxis": {
            "gridcolor": "white",
            "linecolor": "white",
            "ticks": ""
           },
           "bgcolor": "#E5ECF6",
           "caxis": {
            "gridcolor": "white",
            "linecolor": "white",
            "ticks": ""
           }
          },
          "title": {
           "x": 0.05
          },
          "xaxis": {
           "automargin": true,
           "gridcolor": "white",
           "linecolor": "white",
           "ticks": "",
           "title": {
            "standoff": 15
           },
           "zerolinecolor": "white",
           "zerolinewidth": 2
          },
          "yaxis": {
           "automargin": true,
           "gridcolor": "white",
           "linecolor": "white",
           "ticks": "",
           "title": {
            "standoff": 15
           },
           "zerolinecolor": "white",
           "zerolinewidth": 2
          }
         }
        },
        "width": 500,
        "xaxis": {
         "anchor": "y",
         "categoryarray": [
          "Lyft",
          "Uber"
         ],
         "categoryorder": "array",
         "domain": [
          0,
          1
         ],
         "title": {
          "text": "cab_type"
         }
        },
        "yaxis": {
         "anchor": "x",
         "domain": [
          0,
          1
         ],
         "title": {
          "text": "amount"
         }
        }
       }
      },
      "text/html": [
       "<div>                            <div id=\"e687df91-d3bc-4163-a611-43fa4e51b027\" class=\"plotly-graph-div\" style=\"height:500px; width:500px;\"></div>            <script type=\"text/javascript\">                require([\"plotly\"], function(Plotly) {                    window.PLOTLYENV=window.PLOTLYENV || {};                                    if (document.getElementById(\"e687df91-d3bc-4163-a611-43fa4e51b027\")) {                    Plotly.newPlot(                        \"e687df91-d3bc-4163-a611-43fa4e51b027\",                        [{\"alignmentgroup\": \"True\", \"hovertemplate\": \"cab_type=%{x}<br>date=2018-11-26<br>amount=%{y}<extra></extra>\", \"legendgroup\": \"Lyft\", \"marker\": {\"color\": \"#FF00BF\"}, \"name\": \"Lyft\", \"offsetgroup\": \"Lyft\", \"orientation\": \"v\", \"showlegend\": true, \"textposition\": \"auto\", \"type\": \"bar\", \"x\": [\"Lyft\"], \"xaxis\": \"x\", \"y\": [21161], \"yaxis\": \"y\"}, {\"alignmentgroup\": \"True\", \"hovertemplate\": \"cab_type=%{x}<br>date=2018-11-26<br>amount=%{y}<extra></extra>\", \"legendgroup\": \"Uber\", \"marker\": {\"color\": \"#000000\"}, \"name\": \"Uber\", \"offsetgroup\": \"Uber\", \"orientation\": \"v\", \"showlegend\": true, \"textposition\": \"auto\", \"type\": \"bar\", \"x\": [\"Uber\"], \"xaxis\": \"x\", \"y\": [22796], \"yaxis\": \"y\"}],                        {\"barmode\": \"relative\", \"height\": 500, \"legend\": {\"title\": {\"text\": \"cab_type\"}, \"tracegroupgap\": 0}, \"margin\": {\"t\": 60}, \"sliders\": [{\"active\": 0, \"currentvalue\": {\"prefix\": \"date=\"}, \"len\": 0.9, \"pad\": {\"b\": 10, \"t\": 60}, \"steps\": [{\"args\": [[\"2018-11-26\"], {\"frame\": {\"duration\": 0, \"redraw\": true}, \"fromcurrent\": true, \"mode\": \"immediate\", \"transition\": {\"duration\": 0, \"easing\": \"linear\"}}], \"label\": \"2018-11-26\", \"method\": \"animate\"}, {\"args\": [[\"2018-11-27\"], {\"frame\": {\"duration\": 0, \"redraw\": true}, \"fromcurrent\": true, \"mode\": \"immediate\", \"transition\": {\"duration\": 0, \"easing\": \"linear\"}}], \"label\": \"2018-11-27\", \"method\": \"animate\"}, {\"args\": [[\"2018-11-28\"], {\"frame\": {\"duration\": 0, \"redraw\": true}, \"fromcurrent\": true, \"mode\": \"immediate\", \"transition\": {\"duration\": 0, \"easing\": \"linear\"}}], \"label\": \"2018-11-28\", \"method\": \"animate\"}, {\"args\": [[\"2018-11-29\"], {\"frame\": {\"duration\": 0, \"redraw\": true}, \"fromcurrent\": true, \"mode\": \"immediate\", \"transition\": {\"duration\": 0, \"easing\": \"linear\"}}], \"label\": \"2018-11-29\", \"method\": \"animate\"}, {\"args\": [[\"2018-11-30\"], {\"frame\": {\"duration\": 0, \"redraw\": true}, \"fromcurrent\": true, \"mode\": \"immediate\", \"transition\": {\"duration\": 0, \"easing\": \"linear\"}}], \"label\": \"2018-11-30\", \"method\": \"animate\"}, {\"args\": [[\"2018-12-02\"], {\"frame\": {\"duration\": 0, \"redraw\": true}, \"fromcurrent\": true, \"mode\": \"immediate\", \"transition\": {\"duration\": 0, \"easing\": \"linear\"}}], \"label\": \"2018-12-02\", \"method\": \"animate\"}, {\"args\": [[\"2018-12-03\"], {\"frame\": {\"duration\": 0, \"redraw\": true}, \"fromcurrent\": true, \"mode\": \"immediate\", \"transition\": {\"duration\": 0, \"easing\": \"linear\"}}], \"label\": \"2018-12-03\", \"method\": \"animate\"}, {\"args\": [[\"2018-12-15\"], {\"frame\": {\"duration\": 0, \"redraw\": true}, \"fromcurrent\": true, \"mode\": \"immediate\", \"transition\": {\"duration\": 0, \"easing\": \"linear\"}}], \"label\": \"2018-12-15\", \"method\": \"animate\"}, {\"args\": [[\"2018-12-16\"], {\"frame\": {\"duration\": 0, \"redraw\": true}, \"fromcurrent\": true, \"mode\": \"immediate\", \"transition\": {\"duration\": 0, \"easing\": \"linear\"}}], \"label\": \"2018-12-16\", \"method\": \"animate\"}, {\"args\": [[\"2018-12-17\"], {\"frame\": {\"duration\": 0, \"redraw\": true}, \"fromcurrent\": true, \"mode\": \"immediate\", \"transition\": {\"duration\": 0, \"easing\": \"linear\"}}], \"label\": \"2018-12-17\", \"method\": \"animate\"}, {\"args\": [[\"2018-12-18\"], {\"frame\": {\"duration\": 0, \"redraw\": true}, \"fromcurrent\": true, \"mode\": \"immediate\", \"transition\": {\"duration\": 0, \"easing\": \"linear\"}}], \"label\": \"2018-12-18\", \"method\": \"animate\"}], \"x\": 0.1, \"xanchor\": \"left\", \"y\": 0, \"yanchor\": \"top\"}], \"template\": {\"data\": {\"bar\": [{\"error_x\": {\"color\": \"#2a3f5f\"}, \"error_y\": {\"color\": \"#2a3f5f\"}, \"marker\": {\"line\": {\"color\": \"#E5ECF6\", \"width\": 0.5}}, \"type\": \"bar\"}], \"barpolar\": [{\"marker\": {\"line\": {\"color\": \"#E5ECF6\", \"width\": 0.5}}, \"type\": \"barpolar\"}], \"carpet\": [{\"aaxis\": {\"endlinecolor\": \"#2a3f5f\", \"gridcolor\": \"white\", \"linecolor\": \"white\", \"minorgridcolor\": \"white\", \"startlinecolor\": \"#2a3f5f\"}, \"baxis\": {\"endlinecolor\": \"#2a3f5f\", \"gridcolor\": \"white\", \"linecolor\": \"white\", \"minorgridcolor\": \"white\", \"startlinecolor\": \"#2a3f5f\"}, \"type\": \"carpet\"}], \"choropleth\": [{\"colorbar\": {\"outlinewidth\": 0, \"ticks\": \"\"}, \"type\": \"choropleth\"}], \"contour\": [{\"colorbar\": {\"outlinewidth\": 0, \"ticks\": \"\"}, \"colorscale\": [[0.0, \"#0d0887\"], [0.1111111111111111, \"#46039f\"], [0.2222222222222222, \"#7201a8\"], [0.3333333333333333, \"#9c179e\"], [0.4444444444444444, \"#bd3786\"], [0.5555555555555556, \"#d8576b\"], [0.6666666666666666, \"#ed7953\"], [0.7777777777777778, \"#fb9f3a\"], [0.8888888888888888, \"#fdca26\"], [1.0, \"#f0f921\"]], \"type\": \"contour\"}], \"contourcarpet\": [{\"colorbar\": {\"outlinewidth\": 0, \"ticks\": \"\"}, \"type\": \"contourcarpet\"}], \"heatmap\": [{\"colorbar\": {\"outlinewidth\": 0, \"ticks\": \"\"}, \"colorscale\": [[0.0, \"#0d0887\"], [0.1111111111111111, \"#46039f\"], [0.2222222222222222, \"#7201a8\"], [0.3333333333333333, \"#9c179e\"], [0.4444444444444444, \"#bd3786\"], [0.5555555555555556, \"#d8576b\"], [0.6666666666666666, \"#ed7953\"], [0.7777777777777778, \"#fb9f3a\"], [0.8888888888888888, \"#fdca26\"], [1.0, \"#f0f921\"]], \"type\": \"heatmap\"}], \"heatmapgl\": [{\"colorbar\": {\"outlinewidth\": 0, \"ticks\": \"\"}, \"colorscale\": [[0.0, \"#0d0887\"], [0.1111111111111111, \"#46039f\"], [0.2222222222222222, \"#7201a8\"], [0.3333333333333333, \"#9c179e\"], [0.4444444444444444, \"#bd3786\"], [0.5555555555555556, \"#d8576b\"], [0.6666666666666666, \"#ed7953\"], [0.7777777777777778, \"#fb9f3a\"], [0.8888888888888888, \"#fdca26\"], [1.0, \"#f0f921\"]], \"type\": \"heatmapgl\"}], \"histogram\": [{\"marker\": {\"colorbar\": {\"outlinewidth\": 0, \"ticks\": \"\"}}, \"type\": \"histogram\"}], \"histogram2d\": [{\"colorbar\": {\"outlinewidth\": 0, \"ticks\": \"\"}, \"colorscale\": [[0.0, \"#0d0887\"], [0.1111111111111111, \"#46039f\"], [0.2222222222222222, \"#7201a8\"], [0.3333333333333333, \"#9c179e\"], [0.4444444444444444, \"#bd3786\"], [0.5555555555555556, \"#d8576b\"], [0.6666666666666666, \"#ed7953\"], [0.7777777777777778, \"#fb9f3a\"], [0.8888888888888888, \"#fdca26\"], [1.0, \"#f0f921\"]], \"type\": \"histogram2d\"}], \"histogram2dcontour\": [{\"colorbar\": {\"outlinewidth\": 0, \"ticks\": \"\"}, \"colorscale\": [[0.0, \"#0d0887\"], [0.1111111111111111, \"#46039f\"], [0.2222222222222222, \"#7201a8\"], [0.3333333333333333, \"#9c179e\"], [0.4444444444444444, \"#bd3786\"], [0.5555555555555556, \"#d8576b\"], [0.6666666666666666, \"#ed7953\"], [0.7777777777777778, \"#fb9f3a\"], [0.8888888888888888, \"#fdca26\"], [1.0, \"#f0f921\"]], \"type\": \"histogram2dcontour\"}], \"mesh3d\": [{\"colorbar\": {\"outlinewidth\": 0, \"ticks\": \"\"}, \"type\": \"mesh3d\"}], \"parcoords\": [{\"line\": {\"colorbar\": {\"outlinewidth\": 0, \"ticks\": \"\"}}, \"type\": \"parcoords\"}], \"pie\": [{\"automargin\": true, \"type\": \"pie\"}], \"scatter\": [{\"marker\": {\"colorbar\": {\"outlinewidth\": 0, \"ticks\": \"\"}}, \"type\": \"scatter\"}], \"scatter3d\": [{\"line\": {\"colorbar\": {\"outlinewidth\": 0, \"ticks\": \"\"}}, \"marker\": {\"colorbar\": {\"outlinewidth\": 0, \"ticks\": \"\"}}, \"type\": \"scatter3d\"}], \"scattercarpet\": [{\"marker\": {\"colorbar\": {\"outlinewidth\": 0, \"ticks\": \"\"}}, \"type\": \"scattercarpet\"}], \"scattergeo\": [{\"marker\": {\"colorbar\": {\"outlinewidth\": 0, \"ticks\": \"\"}}, \"type\": \"scattergeo\"}], \"scattergl\": [{\"marker\": {\"colorbar\": {\"outlinewidth\": 0, \"ticks\": \"\"}}, \"type\": \"scattergl\"}], \"scattermapbox\": [{\"marker\": {\"colorbar\": {\"outlinewidth\": 0, \"ticks\": \"\"}}, \"type\": \"scattermapbox\"}], \"scatterpolar\": [{\"marker\": {\"colorbar\": {\"outlinewidth\": 0, \"ticks\": \"\"}}, \"type\": \"scatterpolar\"}], \"scatterpolargl\": [{\"marker\": {\"colorbar\": {\"outlinewidth\": 0, \"ticks\": \"\"}}, \"type\": \"scatterpolargl\"}], \"scatterternary\": [{\"marker\": {\"colorbar\": {\"outlinewidth\": 0, \"ticks\": \"\"}}, \"type\": \"scatterternary\"}], \"surface\": [{\"colorbar\": {\"outlinewidth\": 0, \"ticks\": \"\"}, \"colorscale\": [[0.0, \"#0d0887\"], [0.1111111111111111, \"#46039f\"], [0.2222222222222222, \"#7201a8\"], [0.3333333333333333, \"#9c179e\"], [0.4444444444444444, \"#bd3786\"], [0.5555555555555556, \"#d8576b\"], [0.6666666666666666, \"#ed7953\"], [0.7777777777777778, \"#fb9f3a\"], [0.8888888888888888, \"#fdca26\"], [1.0, \"#f0f921\"]], \"type\": \"surface\"}], \"table\": [{\"cells\": {\"fill\": {\"color\": \"#EBF0F8\"}, \"line\": {\"color\": \"white\"}}, \"header\": {\"fill\": {\"color\": \"#C8D4E3\"}, \"line\": {\"color\": \"white\"}}, \"type\": \"table\"}]}, \"layout\": {\"annotationdefaults\": {\"arrowcolor\": \"#2a3f5f\", \"arrowhead\": 0, \"arrowwidth\": 1}, \"autotypenumbers\": \"strict\", \"coloraxis\": {\"colorbar\": {\"outlinewidth\": 0, \"ticks\": \"\"}}, \"colorscale\": {\"diverging\": [[0, \"#8e0152\"], [0.1, \"#c51b7d\"], [0.2, \"#de77ae\"], [0.3, \"#f1b6da\"], [0.4, \"#fde0ef\"], [0.5, \"#f7f7f7\"], [0.6, \"#e6f5d0\"], [0.7, \"#b8e186\"], [0.8, \"#7fbc41\"], [0.9, \"#4d9221\"], [1, \"#276419\"]], \"sequential\": [[0.0, \"#0d0887\"], [0.1111111111111111, \"#46039f\"], [0.2222222222222222, \"#7201a8\"], [0.3333333333333333, \"#9c179e\"], [0.4444444444444444, \"#bd3786\"], [0.5555555555555556, \"#d8576b\"], [0.6666666666666666, \"#ed7953\"], [0.7777777777777778, \"#fb9f3a\"], [0.8888888888888888, \"#fdca26\"], [1.0, \"#f0f921\"]], \"sequentialminus\": [[0.0, \"#0d0887\"], [0.1111111111111111, \"#46039f\"], [0.2222222222222222, \"#7201a8\"], [0.3333333333333333, \"#9c179e\"], [0.4444444444444444, \"#bd3786\"], [0.5555555555555556, \"#d8576b\"], [0.6666666666666666, \"#ed7953\"], [0.7777777777777778, \"#fb9f3a\"], [0.8888888888888888, \"#fdca26\"], [1.0, \"#f0f921\"]]}, \"colorway\": [\"#636efa\", \"#EF553B\", \"#00cc96\", \"#ab63fa\", \"#FFA15A\", \"#19d3f3\", \"#FF6692\", \"#B6E880\", \"#FF97FF\", \"#FECB52\"], \"font\": {\"color\": \"#2a3f5f\"}, \"geo\": {\"bgcolor\": \"white\", \"lakecolor\": \"white\", \"landcolor\": \"#E5ECF6\", \"showlakes\": true, \"showland\": true, \"subunitcolor\": \"white\"}, \"hoverlabel\": {\"align\": \"left\"}, \"hovermode\": \"closest\", \"mapbox\": {\"style\": \"light\"}, \"paper_bgcolor\": \"white\", \"plot_bgcolor\": \"#E5ECF6\", \"polar\": {\"angularaxis\": {\"gridcolor\": \"white\", \"linecolor\": \"white\", \"ticks\": \"\"}, \"bgcolor\": \"#E5ECF6\", \"radialaxis\": {\"gridcolor\": \"white\", \"linecolor\": \"white\", \"ticks\": \"\"}}, \"scene\": {\"xaxis\": {\"backgroundcolor\": \"#E5ECF6\", \"gridcolor\": \"white\", \"gridwidth\": 2, \"linecolor\": \"white\", \"showbackground\": true, \"ticks\": \"\", \"zerolinecolor\": \"white\"}, \"yaxis\": {\"backgroundcolor\": \"#E5ECF6\", \"gridcolor\": \"white\", \"gridwidth\": 2, \"linecolor\": \"white\", \"showbackground\": true, \"ticks\": \"\", \"zerolinecolor\": \"white\"}, \"zaxis\": {\"backgroundcolor\": \"#E5ECF6\", \"gridcolor\": \"white\", \"gridwidth\": 2, \"linecolor\": \"white\", \"showbackground\": true, \"ticks\": \"\", \"zerolinecolor\": \"white\"}}, \"shapedefaults\": {\"line\": {\"color\": \"#2a3f5f\"}}, \"ternary\": {\"aaxis\": {\"gridcolor\": \"white\", \"linecolor\": \"white\", \"ticks\": \"\"}, \"baxis\": {\"gridcolor\": \"white\", \"linecolor\": \"white\", \"ticks\": \"\"}, \"bgcolor\": \"#E5ECF6\", \"caxis\": {\"gridcolor\": \"white\", \"linecolor\": \"white\", \"ticks\": \"\"}}, \"title\": {\"x\": 0.05}, \"xaxis\": {\"automargin\": true, \"gridcolor\": \"white\", \"linecolor\": \"white\", \"ticks\": \"\", \"title\": {\"standoff\": 15}, \"zerolinecolor\": \"white\", \"zerolinewidth\": 2}, \"yaxis\": {\"automargin\": true, \"gridcolor\": \"white\", \"linecolor\": \"white\", \"ticks\": \"\", \"title\": {\"standoff\": 15}, \"zerolinecolor\": \"white\", \"zerolinewidth\": 2}}}, \"width\": 500, \"xaxis\": {\"anchor\": \"y\", \"categoryarray\": [\"Lyft\", \"Uber\"], \"categoryorder\": \"array\", \"domain\": [0.0, 1.0], \"title\": {\"text\": \"cab_type\"}}, \"yaxis\": {\"anchor\": \"x\", \"domain\": [0.0, 1.0], \"title\": {\"text\": \"amount\"}}},                        {\"responsive\": true}                    ).then(function(){\n",
       "                            Plotly.addFrames('e687df91-d3bc-4163-a611-43fa4e51b027', [{\"data\": [{\"alignmentgroup\": \"True\", \"hovertemplate\": \"cab_type=%{x}<br>date=2018-11-26<br>amount=%{y}<extra></extra>\", \"legendgroup\": \"Lyft\", \"marker\": {\"color\": \"#FF00BF\"}, \"name\": \"Lyft\", \"offsetgroup\": \"Lyft\", \"orientation\": \"v\", \"showlegend\": true, \"textposition\": \"auto\", \"x\": [\"Lyft\"], \"xaxis\": \"x\", \"y\": [21161], \"yaxis\": \"y\", \"type\": \"bar\"}, {\"alignmentgroup\": \"True\", \"hovertemplate\": \"cab_type=%{x}<br>date=2018-11-26<br>amount=%{y}<extra></extra>\", \"legendgroup\": \"Uber\", \"marker\": {\"color\": \"#000000\"}, \"name\": \"Uber\", \"offsetgroup\": \"Uber\", \"orientation\": \"v\", \"showlegend\": true, \"textposition\": \"auto\", \"x\": [\"Uber\"], \"xaxis\": \"x\", \"y\": [22796], \"yaxis\": \"y\", \"type\": \"bar\"}], \"name\": \"2018-11-26\"}, {\"data\": [{\"alignmentgroup\": \"True\", \"hovertemplate\": \"cab_type=%{x}<br>date=2018-11-27<br>amount=%{y}<extra></extra>\", \"legendgroup\": \"Lyft\", \"marker\": {\"color\": \"#FF00BF\"}, \"name\": \"Lyft\", \"offsetgroup\": \"Lyft\", \"orientation\": \"v\", \"showlegend\": true, \"textposition\": \"auto\", \"x\": [\"Lyft\"], \"xaxis\": \"x\", \"y\": [28064], \"yaxis\": \"y\", \"type\": \"bar\"}, {\"alignmentgroup\": \"True\", \"hovertemplate\": \"cab_type=%{x}<br>date=2018-11-27<br>amount=%{y}<extra></extra>\", \"legendgroup\": \"Uber\", \"marker\": {\"color\": \"#000000\"}, \"name\": \"Uber\", \"offsetgroup\": \"Uber\", \"orientation\": \"v\", \"showlegend\": true, \"textposition\": \"auto\", \"x\": [\"Uber\"], \"xaxis\": \"x\", \"y\": [30034], \"yaxis\": \"y\", \"type\": \"bar\"}], \"name\": \"2018-11-27\"}, {\"data\": [{\"alignmentgroup\": \"True\", \"hovertemplate\": \"cab_type=%{x}<br>date=2018-11-28<br>amount=%{y}<extra></extra>\", \"legendgroup\": \"Lyft\", \"marker\": {\"color\": \"#FF00BF\"}, \"name\": \"Lyft\", \"offsetgroup\": \"Lyft\", \"orientation\": \"v\", \"showlegend\": true, \"textposition\": \"auto\", \"x\": [\"Lyft\"], \"xaxis\": \"x\", \"y\": [41946], \"yaxis\": \"y\", \"type\": \"bar\"}, {\"alignmentgroup\": \"True\", \"hovertemplate\": \"cab_type=%{x}<br>date=2018-11-28<br>amount=%{y}<extra></extra>\", \"legendgroup\": \"Uber\", \"marker\": {\"color\": \"#000000\"}, \"name\": \"Uber\", \"offsetgroup\": \"Uber\", \"orientation\": \"v\", \"showlegend\": true, \"textposition\": \"auto\", \"x\": [\"Uber\"], \"xaxis\": \"x\", \"y\": [44831], \"yaxis\": \"y\", \"type\": \"bar\"}], \"name\": \"2018-11-28\"}, {\"data\": [{\"alignmentgroup\": \"True\", \"hovertemplate\": \"cab_type=%{x}<br>date=2018-11-29<br>amount=%{y}<extra></extra>\", \"legendgroup\": \"Lyft\", \"marker\": {\"color\": \"#FF00BF\"}, \"name\": \"Lyft\", \"offsetgroup\": \"Lyft\", \"orientation\": \"v\", \"showlegend\": true, \"textposition\": \"auto\", \"x\": [\"Lyft\"], \"xaxis\": \"x\", \"y\": [17701], \"yaxis\": \"y\", \"type\": \"bar\"}, {\"alignmentgroup\": \"True\", \"hovertemplate\": \"cab_type=%{x}<br>date=2018-11-29<br>amount=%{y}<extra></extra>\", \"legendgroup\": \"Uber\", \"marker\": {\"color\": \"#000000\"}, \"name\": \"Uber\", \"offsetgroup\": \"Uber\", \"orientation\": \"v\", \"showlegend\": true, \"textposition\": \"auto\", \"x\": [\"Uber\"], \"xaxis\": \"x\", \"y\": [19631], \"yaxis\": \"y\", \"type\": \"bar\"}], \"name\": \"2018-11-29\"}, {\"data\": [{\"alignmentgroup\": \"True\", \"hovertemplate\": \"cab_type=%{x}<br>date=2018-11-30<br>amount=%{y}<extra></extra>\", \"legendgroup\": \"Lyft\", \"marker\": {\"color\": \"#FF00BF\"}, \"name\": \"Lyft\", \"offsetgroup\": \"Lyft\", \"orientation\": \"v\", \"showlegend\": true, \"textposition\": \"auto\", \"x\": [\"Lyft\"], \"xaxis\": \"x\", \"y\": [15293], \"yaxis\": \"y\", \"type\": \"bar\"}, {\"alignmentgroup\": \"True\", \"hovertemplate\": \"cab_type=%{x}<br>date=2018-11-30<br>amount=%{y}<extra></extra>\", \"legendgroup\": \"Uber\", \"marker\": {\"color\": \"#000000\"}, \"name\": \"Uber\", \"offsetgroup\": \"Uber\", \"orientation\": \"v\", \"showlegend\": true, \"textposition\": \"auto\", \"x\": [\"Uber\"], \"xaxis\": \"x\", \"y\": [16074], \"yaxis\": \"y\", \"type\": \"bar\"}], \"name\": \"2018-11-30\"}, {\"data\": [{\"alignmentgroup\": \"True\", \"hovertemplate\": \"cab_type=%{x}<br>date=2018-12-02<br>amount=%{y}<extra></extra>\", \"legendgroup\": \"Lyft\", \"marker\": {\"color\": \"#FF00BF\"}, \"name\": \"Lyft\", \"offsetgroup\": \"Lyft\", \"orientation\": \"v\", \"showlegend\": true, \"textposition\": \"auto\", \"x\": [\"Lyft\"], \"xaxis\": \"x\", \"y\": [19938], \"yaxis\": \"y\", \"type\": \"bar\"}, {\"alignmentgroup\": \"True\", \"hovertemplate\": \"cab_type=%{x}<br>date=2018-12-02<br>amount=%{y}<extra></extra>\", \"legendgroup\": \"Uber\", \"marker\": {\"color\": \"#000000\"}, \"name\": \"Uber\", \"offsetgroup\": \"Uber\", \"orientation\": \"v\", \"showlegend\": true, \"textposition\": \"auto\", \"x\": [\"Uber\"], \"xaxis\": \"x\", \"y\": [21316], \"yaxis\": \"y\", \"type\": \"bar\"}], \"name\": \"2018-12-02\"}, {\"data\": [{\"alignmentgroup\": \"True\", \"hovertemplate\": \"cab_type=%{x}<br>date=2018-12-03<br>amount=%{y}<extra></extra>\", \"legendgroup\": \"Lyft\", \"marker\": {\"color\": \"#FF00BF\"}, \"name\": \"Lyft\", \"offsetgroup\": \"Lyft\", \"orientation\": \"v\", \"showlegend\": true, \"textposition\": \"auto\", \"x\": [\"Lyft\"], \"xaxis\": \"x\", \"y\": [20077], \"yaxis\": \"y\", \"type\": \"bar\"}, {\"alignmentgroup\": \"True\", \"hovertemplate\": \"cab_type=%{x}<br>date=2018-12-03<br>amount=%{y}<extra></extra>\", \"legendgroup\": \"Uber\", \"marker\": {\"color\": \"#000000\"}, \"name\": \"Uber\", \"offsetgroup\": \"Uber\", \"orientation\": \"v\", \"showlegend\": true, \"textposition\": \"auto\", \"x\": [\"Uber\"], \"xaxis\": \"x\", \"y\": [21081], \"yaxis\": \"y\", \"type\": \"bar\"}], \"name\": \"2018-12-03\"}, {\"data\": [{\"alignmentgroup\": \"True\", \"hovertemplate\": \"cab_type=%{x}<br>date=2018-12-15<br>amount=%{y}<extra></extra>\", \"legendgroup\": \"Lyft\", \"marker\": {\"color\": \"#FF00BF\"}, \"name\": \"Lyft\", \"offsetgroup\": \"Lyft\", \"orientation\": \"v\", \"showlegend\": true, \"textposition\": \"auto\", \"x\": [\"Lyft\"], \"xaxis\": \"x\", \"y\": [1575], \"yaxis\": \"y\", \"type\": \"bar\"}, {\"alignmentgroup\": \"True\", \"hovertemplate\": \"cab_type=%{x}<br>date=2018-12-15<br>amount=%{y}<extra></extra>\", \"legendgroup\": \"Uber\", \"marker\": {\"color\": \"#000000\"}, \"name\": \"Uber\", \"offsetgroup\": \"Uber\", \"orientation\": \"v\", \"showlegend\": true, \"textposition\": \"auto\", \"x\": [\"Uber\"], \"xaxis\": \"x\", \"y\": [1757], \"yaxis\": \"y\", \"type\": \"bar\"}], \"name\": \"2018-12-15\"}, {\"data\": [{\"alignmentgroup\": \"True\", \"hovertemplate\": \"cab_type=%{x}<br>date=2018-12-16<br>amount=%{y}<extra></extra>\", \"legendgroup\": \"Lyft\", \"marker\": {\"color\": \"#FF00BF\"}, \"name\": \"Lyft\", \"offsetgroup\": \"Lyft\", \"orientation\": \"v\", \"showlegend\": true, \"textposition\": \"auto\", \"x\": [\"Lyft\"], \"xaxis\": \"x\", \"y\": [20001], \"yaxis\": \"y\", \"type\": \"bar\"}, {\"alignmentgroup\": \"True\", \"hovertemplate\": \"cab_type=%{x}<br>date=2018-12-16<br>amount=%{y}<extra></extra>\", \"legendgroup\": \"Uber\", \"marker\": {\"color\": \"#000000\"}, \"name\": \"Uber\", \"offsetgroup\": \"Uber\", \"orientation\": \"v\", \"showlegend\": true, \"textposition\": \"auto\", \"x\": [\"Uber\"], \"xaxis\": \"x\", \"y\": [21287], \"yaxis\": \"y\", \"type\": \"bar\"}], \"name\": \"2018-12-16\"}, {\"data\": [{\"alignmentgroup\": \"True\", \"hovertemplate\": \"cab_type=%{x}<br>date=2018-12-17<br>amount=%{y}<extra></extra>\", \"legendgroup\": \"Lyft\", \"marker\": {\"color\": \"#FF00BF\"}, \"name\": \"Lyft\", \"offsetgroup\": \"Lyft\", \"orientation\": \"v\", \"showlegend\": true, \"textposition\": \"auto\", \"x\": [\"Lyft\"], \"xaxis\": \"x\", \"y\": [19643], \"yaxis\": \"y\", \"type\": \"bar\"}, {\"alignmentgroup\": \"True\", \"hovertemplate\": \"cab_type=%{x}<br>date=2018-12-17<br>amount=%{y}<extra></extra>\", \"legendgroup\": \"Uber\", \"marker\": {\"color\": \"#000000\"}, \"name\": \"Uber\", \"offsetgroup\": \"Uber\", \"orientation\": \"v\", \"showlegend\": true, \"textposition\": \"auto\", \"x\": [\"Uber\"], \"xaxis\": \"x\", \"y\": [21679], \"yaxis\": \"y\", \"type\": \"bar\"}], \"name\": \"2018-12-17\"}, {\"data\": [{\"alignmentgroup\": \"True\", \"hovertemplate\": \"cab_type=%{x}<br>date=2018-12-18<br>amount=%{y}<extra></extra>\", \"legendgroup\": \"Lyft\", \"marker\": {\"color\": \"#FF00BF\"}, \"name\": \"Lyft\", \"offsetgroup\": \"Lyft\", \"orientation\": \"v\", \"showlegend\": true, \"textposition\": \"auto\", \"x\": [\"Lyft\"], \"xaxis\": \"x\", \"y\": [11817], \"yaxis\": \"y\", \"type\": \"bar\"}, {\"alignmentgroup\": \"True\", \"hovertemplate\": \"cab_type=%{x}<br>date=2018-12-18<br>amount=%{y}<extra></extra>\", \"legendgroup\": \"Uber\", \"marker\": {\"color\": \"#000000\"}, \"name\": \"Uber\", \"offsetgroup\": \"Uber\", \"orientation\": \"v\", \"showlegend\": true, \"textposition\": \"auto\", \"x\": [\"Uber\"], \"xaxis\": \"x\", \"y\": [12883], \"yaxis\": \"y\", \"type\": \"bar\"}], \"name\": \"2018-12-18\"}]);\n",
       "                        }).then(function(){\n",
       "                            \n",
       "var gd = document.getElementById('e687df91-d3bc-4163-a611-43fa4e51b027');\n",
       "var x = new MutationObserver(function (mutations, observer) {{\n",
       "        var display = window.getComputedStyle(gd).display;\n",
       "        if (!display || display === 'none') {{\n",
       "            console.log([gd, 'removed!']);\n",
       "            Plotly.purge(gd);\n",
       "            observer.disconnect();\n",
       "        }}\n",
       "}});\n",
       "\n",
       "// Listen for the removal of the full notebook cells\n",
       "var notebookContainer = gd.closest('#notebook-container');\n",
       "if (notebookContainer) {{\n",
       "    x.observe(notebookContainer, {childList: true});\n",
       "}}\n",
       "\n",
       "// Listen for the clearing of the current output cell\n",
       "var outputEl = gd.closest('.output');\n",
       "if (outputEl) {{\n",
       "    x.observe(outputEl, {childList: true});\n",
       "}}\n",
       "\n",
       "                        })                };                });            </script>        </div>"
      ]
     },
     "metadata": {},
     "output_type": "display_data"
    }
   ],
   "source": [
    "fig = px.bar(df_rides_rain, \n",
    "                 x='cab_type', y='amount', \n",
    "                 color = 'cab_type',\n",
    "                 color_discrete_map={'Lyft': '#FF00BF','Uber':'#000000'},\n",
    "                 width = 500, height = 500,\n",
    "                 animation_frame = 'date'\n",
    "                )\n",
    "fig[\"layout\"].pop(\"updatemenus\")\n",
    "\n",
    "fig.show()"
   ]
  },
  {
   "cell_type": "code",
   "execution_count": 35,
   "metadata": {},
   "outputs": [],
   "source": [
    "df_uber2 = df[df['cab_type'] == \"Uber\"]\n",
    "df_lyft2 = df[df['cab_type'] == \"Lyft\"]"
   ]
  },
  {
   "cell_type": "code",
   "execution_count": 36,
   "metadata": {},
   "outputs": [
    {
     "data": {
      "text/html": [
       "<div>\n",
       "<style scoped>\n",
       "    .dataframe tbody tr th:only-of-type {\n",
       "        vertical-align: middle;\n",
       "    }\n",
       "\n",
       "    .dataframe tbody tr th {\n",
       "        vertical-align: top;\n",
       "    }\n",
       "\n",
       "    .dataframe thead th {\n",
       "        text-align: right;\n",
       "    }\n",
       "</style>\n",
       "<table border=\"1\" class=\"dataframe\">\n",
       "  <thead>\n",
       "    <tr style=\"text-align: right;\">\n",
       "      <th></th>\n",
       "      <th>name</th>\n",
       "      <th>distance</th>\n",
       "      <th>price</th>\n",
       "    </tr>\n",
       "  </thead>\n",
       "  <tbody>\n",
       "    <tr>\n",
       "      <th>0</th>\n",
       "      <td>Black</td>\n",
       "      <td>0.02</td>\n",
       "      <td>15.000000</td>\n",
       "    </tr>\n",
       "    <tr>\n",
       "      <th>1</th>\n",
       "      <td>Black</td>\n",
       "      <td>0.03</td>\n",
       "      <td>15.264706</td>\n",
       "    </tr>\n",
       "    <tr>\n",
       "      <th>2</th>\n",
       "      <td>Black</td>\n",
       "      <td>0.04</td>\n",
       "      <td>15.000000</td>\n",
       "    </tr>\n",
       "    <tr>\n",
       "      <th>3</th>\n",
       "      <td>Black</td>\n",
       "      <td>0.12</td>\n",
       "      <td>15.000000</td>\n",
       "    </tr>\n",
       "    <tr>\n",
       "      <th>4</th>\n",
       "      <td>Black</td>\n",
       "      <td>0.17</td>\n",
       "      <td>16.000000</td>\n",
       "    </tr>\n",
       "    <tr>\n",
       "      <th>...</th>\n",
       "      <td>...</td>\n",
       "      <td>...</td>\n",
       "      <td>...</td>\n",
       "    </tr>\n",
       "    <tr>\n",
       "      <th>2527</th>\n",
       "      <td>WAV</td>\n",
       "      <td>7.45</td>\n",
       "      <td>16.000000</td>\n",
       "    </tr>\n",
       "    <tr>\n",
       "      <th>2528</th>\n",
       "      <td>WAV</td>\n",
       "      <td>7.46</td>\n",
       "      <td>16.731111</td>\n",
       "    </tr>\n",
       "    <tr>\n",
       "      <th>2529</th>\n",
       "      <td>WAV</td>\n",
       "      <td>7.50</td>\n",
       "      <td>17.333333</td>\n",
       "    </tr>\n",
       "    <tr>\n",
       "      <th>2530</th>\n",
       "      <td>WAV</td>\n",
       "      <td>7.62</td>\n",
       "      <td>17.000000</td>\n",
       "    </tr>\n",
       "    <tr>\n",
       "      <th>2531</th>\n",
       "      <td>WAV</td>\n",
       "      <td>7.86</td>\n",
       "      <td>17.500000</td>\n",
       "    </tr>\n",
       "  </tbody>\n",
       "</table>\n",
       "<p>2532 rows × 3 columns</p>\n",
       "</div>"
      ],
      "text/plain": [
       "       name  distance      price\n",
       "0     Black      0.02  15.000000\n",
       "1     Black      0.03  15.264706\n",
       "2     Black      0.04  15.000000\n",
       "3     Black      0.12  15.000000\n",
       "4     Black      0.17  16.000000\n",
       "...     ...       ...        ...\n",
       "2527    WAV      7.45  16.000000\n",
       "2528    WAV      7.46  16.731111\n",
       "2529    WAV      7.50  17.333333\n",
       "2530    WAV      7.62  17.000000\n",
       "2531    WAV      7.86  17.500000\n",
       "\n",
       "[2532 rows x 3 columns]"
      ]
     },
     "execution_count": 36,
     "metadata": {},
     "output_type": "execute_result"
    }
   ],
   "source": [
    "df_uber2 = df_uber2.groupby(['name', 'distance'])['price'].mean().reset_index()\n",
    "df_uber2"
   ]
  },
  {
   "cell_type": "code",
   "execution_count": 37,
   "metadata": {},
   "outputs": [
    {
     "data": {
      "application/vnd.plotly.v1+json": {
       "config": {
        "plotlyServerURL": "https://plot.ly"
       },
       "data": [
        {
         "hovertemplate": "name=Black<br>distance=%{x}<br>price=%{y}<extra></extra>",
         "legendgroup": "Black",
         "line": {
          "color": "#636efa",
          "dash": "solid"
         },
         "mode": "lines",
         "name": "Black",
         "showlegend": true,
         "type": "scattergl",
         "x": [
          0.02,
          0.03,
          0.04,
          0.12,
          0.17,
          0.27,
          0.29,
          0.3,
          0.35,
          0.38,
          0.39,
          0.4,
          0.47,
          0.49,
          0.5,
          0.52,
          0.53,
          0.54,
          0.55,
          0.56,
          0.58,
          0.59,
          0.6,
          0.61,
          0.62,
          0.63,
          0.65,
          0.66,
          0.67,
          0.68,
          0.7,
          0.71,
          0.72,
          0.73,
          0.76,
          0.78,
          0.79,
          0.8,
          0.81,
          0.82,
          0.85,
          0.86,
          0.88,
          0.89,
          0.9,
          0.91,
          0.92,
          0.93,
          0.94,
          0.97,
          0.98,
          0.99,
          1,
          1.01,
          1.02,
          1.03,
          1.04,
          1.05,
          1.06,
          1.07,
          1.08,
          1.09,
          1.1,
          1.11,
          1.12,
          1.13,
          1.14,
          1.16,
          1.17,
          1.18,
          1.19,
          1.2,
          1.21,
          1.22,
          1.23,
          1.24,
          1.25,
          1.26,
          1.27,
          1.28,
          1.29,
          1.3,
          1.31,
          1.32,
          1.33,
          1.34,
          1.35,
          1.36,
          1.37,
          1.38,
          1.39,
          1.4,
          1.41,
          1.42,
          1.43,
          1.44,
          1.45,
          1.46,
          1.47,
          1.48,
          1.49,
          1.5,
          1.51,
          1.52,
          1.53,
          1.54,
          1.55,
          1.56,
          1.57,
          1.58,
          1.59,
          1.6,
          1.61,
          1.62,
          1.63,
          1.64,
          1.65,
          1.66,
          1.67,
          1.68,
          1.69,
          1.7,
          1.71,
          1.72,
          1.73,
          1.74,
          1.75,
          1.76,
          1.77,
          1.78,
          1.79,
          1.8,
          1.81,
          1.82,
          1.83,
          1.84,
          1.85,
          1.86,
          1.87,
          1.88,
          1.89,
          1.9,
          1.91,
          1.92,
          1.93,
          1.94,
          1.95,
          1.96,
          1.97,
          1.98,
          1.99,
          2,
          2.01,
          2.02,
          2.03,
          2.04,
          2.05,
          2.06,
          2.07,
          2.08,
          2.09,
          2.1,
          2.11,
          2.12,
          2.13,
          2.14,
          2.15,
          2.16,
          2.17,
          2.18,
          2.19,
          2.2,
          2.21,
          2.22,
          2.23,
          2.24,
          2.25,
          2.26,
          2.27,
          2.28,
          2.29,
          2.3,
          2.31,
          2.32,
          2.33,
          2.34,
          2.35,
          2.36,
          2.37,
          2.38,
          2.39,
          2.4,
          2.41,
          2.42,
          2.43,
          2.44,
          2.45,
          2.46,
          2.47,
          2.48,
          2.49,
          2.5,
          2.51,
          2.52,
          2.53,
          2.54,
          2.55,
          2.56,
          2.57,
          2.58,
          2.59,
          2.6,
          2.61,
          2.62,
          2.63,
          2.64,
          2.65,
          2.66,
          2.67,
          2.68,
          2.69,
          2.7,
          2.71,
          2.72,
          2.73,
          2.74,
          2.75,
          2.77,
          2.78,
          2.79,
          2.8,
          2.81,
          2.82,
          2.83,
          2.84,
          2.85,
          2.86,
          2.87,
          2.88,
          2.89,
          2.9,
          2.91,
          2.92,
          2.93,
          2.94,
          2.95,
          2.96,
          2.97,
          2.98,
          2.99,
          3,
          3.01,
          3.02,
          3.03,
          3.04,
          3.05,
          3.06,
          3.07,
          3.08,
          3.09,
          3.1,
          3.11,
          3.12,
          3.13,
          3.14,
          3.15,
          3.16,
          3.17,
          3.18,
          3.19,
          3.2,
          3.21,
          3.22,
          3.23,
          3.24,
          3.25,
          3.26,
          3.27,
          3.28,
          3.29,
          3.3,
          3.31,
          3.32,
          3.33,
          3.34,
          3.35,
          3.37,
          3.38,
          3.39,
          3.4,
          3.41,
          3.42,
          3.43,
          3.44,
          3.45,
          3.46,
          3.47,
          3.5,
          3.51,
          3.52,
          3.53,
          3.54,
          3.55,
          3.56,
          3.57,
          3.58,
          3.59,
          3.61,
          3.63,
          3.64,
          3.65,
          3.66,
          3.67,
          3.69,
          3.7,
          3.71,
          3.72,
          3.73,
          3.74,
          3.75,
          3.76,
          3.78,
          3.79,
          3.8,
          3.81,
          3.82,
          3.85,
          3.89,
          3.91,
          3.92,
          3.94,
          3.95,
          3.96,
          3.97,
          3.98,
          3.99,
          4,
          4.03,
          4.04,
          4.05,
          4.07,
          4.1,
          4.12,
          4.13,
          4.15,
          4.17,
          4.28,
          4.3,
          4.31,
          4.33,
          4.35,
          4.38,
          4.39,
          4.4,
          4.41,
          4.42,
          4.43,
          4.44,
          4.46,
          4.47,
          4.48,
          4.49,
          4.5,
          4.51,
          4.52,
          4.53,
          4.54,
          4.55,
          4.56,
          4.57,
          4.58,
          4.59,
          4.6,
          4.62,
          4.65,
          4.7,
          4.71,
          4.72,
          4.73,
          4.74,
          4.76,
          4.78,
          4.79,
          4.8,
          4.82,
          4.84,
          4.86,
          4.9,
          4.91,
          4.93,
          4.94,
          4.96,
          4.98,
          5.02,
          5.1,
          5.12,
          5.16,
          5.46,
          5.47,
          5.56,
          5.66,
          5.69,
          5.7,
          6.26,
          6.27,
          6.83,
          6.91,
          6.97,
          7.04,
          7.18,
          7.19,
          7.2,
          7.24,
          7.25,
          7.34,
          7.36,
          7.38,
          7.45,
          7.46,
          7.5,
          7.62,
          7.86
         ],
         "xaxis": "x",
         "y": [
          15,
          15.264705882352942,
          15,
          15,
          16,
          15,
          15,
          15.666666666666666,
          15,
          15,
          15.630102040816327,
          15,
          15.852941176470589,
          15.623098201936376,
          15,
          15.142857142857142,
          15.583333333333334,
          15.688802083333334,
          15.605100463678516,
          15.602272727272727,
          15.568627450980392,
          15.75,
          15.142857142857142,
          15.60790273556231,
          15.668711656441717,
          15.56338028169014,
          15.693877551020408,
          15,
          15.925925925925926,
          15.373949579831933,
          15.527777777777779,
          15,
          15.635179153094462,
          15.491666666666667,
          15.5,
          15.673913043478262,
          15.346153846153847,
          15.64406779661017,
          15.583333333333334,
          15.456521739130435,
          16,
          15.73076923076923,
          15.852941176470589,
          15.5,
          15.661157024793388,
          15.800429184549357,
          15.927007299270073,
          16,
          15.628048780487806,
          16,
          15.591787439613526,
          15.662740899357601,
          15.83974358974359,
          15.523809523809524,
          15.525,
          15.539414414414415,
          15.79293893129771,
          17,
          16.047619047619047,
          15.354545454545455,
          15.651492537313432,
          15.117647058823529,
          15.426470588235293,
          16.407834101382488,
          16.967391304347824,
          16.40625,
          16.23846153846154,
          16.365631691648822,
          15.666666666666666,
          16.908695652173915,
          15.976190476190476,
          16.357142857142858,
          15.704479768786127,
          15.383244206773618,
          16.773838630806846,
          15.52,
          15.842291371994342,
          15.72549019607843,
          17.142857142857142,
          17.35,
          16.5,
          16.717532467532468,
          16.68,
          16.666666666666668,
          16.852941176470587,
          15.867196367763905,
          16.8998778998779,
          17.090073529411764,
          16.63888888888889,
          17.333333333333332,
          16.57051282051282,
          16.93984962406015,
          17.472490347490346,
          16.28125,
          16.19047619047619,
          17.184444444444445,
          17.19148936170213,
          18.0358361774744,
          17.842105263157894,
          18.6,
          17.43076923076923,
          16.557251908396946,
          16.59036144578313,
          17.761904761904763,
          19.05,
          17.25,
          16.6875,
          16.674814814814816,
          17.89026063100137,
          18.157894736842106,
          18.375,
          16.41304347826087,
          17.90507152145644,
          17.113333333333333,
          19.223958333333332,
          16.081771720613286,
          18.763636363636362,
          19.25,
          19.7,
          19.67687074829932,
          18.92105263157895,
          18.3,
          19.144970414201183,
          19.4875,
          25.75,
          19.5,
          19.291666666666668,
          18.416666666666668,
          18.642857142857142,
          19.432692307692307,
          19.67111111111111,
          19.51145038167939,
          18.012422360248447,
          19.676923076923078,
          19.9,
          18.850649350649352,
          19.07894736842105,
          17.875,
          20.024590163934427,
          18.6,
          20.408970976253297,
          19.92628205128205,
          18.554770318021202,
          18.58994708994709,
          18.404761904761905,
          18.75,
          19.25,
          20.833333333333332,
          19.640625,
          18.7,
          19.91176470588235,
          23.083333333333332,
          19.77777777777778,
          18.5,
          19.833333333333332,
          21.240291262135923,
          18.9375,
          18.875,
          21.125,
          20.142857142857142,
          20.9375,
          21.27777777777778,
          19.8125,
          19.9375,
          20.125,
          19.10539629005059,
          21.7,
          19.5,
          19.45519348268839,
          18,
          19.073929961089494,
          21.93121693121693,
          20.142857142857142,
          21.11842105263158,
          21,
          20.033333333333335,
          20.669811320754718,
          27,
          20.610210696920582,
          20.916666666666668,
          20.16808510638298,
          21.79553264604811,
          21.414285714285715,
          21.08303730017762,
          22.565051020408163,
          22.120588235294118,
          20.67241379310345,
          23.147727272727273,
          21.20253164556962,
          21.21405750798722,
          23.77777777777778,
          21.839285714285715,
          22.6875,
          20.94736842105263,
          21.54,
          24.382653061224488,
          23.00657894736842,
          20.291800643086816,
          22.464285714285715,
          20.13558106169297,
          24.115384615384617,
          21.096153846153847,
          22.428571428571427,
          24.714285714285715,
          22.6,
          23.13888888888889,
          21.375,
          21.82962962962963,
          22.78125,
          21.517676767676768,
          20.927083333333332,
          21.477272727272727,
          20.346869712351946,
          22.676973684210527,
          22.50581395348837,
          24.25,
          23.387096774193548,
          21.997848537005165,
          23.135231316725978,
          22.944444444444443,
          26.25,
          24.25,
          23.10236220472441,
          21.97608695652174,
          25.063157894736843,
          22.5,
          27.333333333333332,
          22.15909090909091,
          22.727272727272727,
          21.76294498381877,
          23.430487804878048,
          20.973214285714285,
          22.369565217391305,
          24.8125,
          23.557114228456914,
          22.66,
          22.041166380789022,
          23.726315789473684,
          23.357142857142858,
          23.4,
          23.424242424242426,
          24.3,
          23.833333333333332,
          25.11111111111111,
          23.09090909090909,
          24.5,
          23.894736842105264,
          23.5,
          23.358536585365854,
          24.11111111111111,
          27.25,
          24.739368998628258,
          26.456521739130434,
          30.5,
          23.303846153846155,
          24.542394014962593,
          25.545454545454547,
          23.791666666666668,
          25.015776699029125,
          25.395833333333332,
          25.149484536082475,
          24.666666666666668,
          26.875,
          25.238095238095237,
          25.227272727272727,
          24.794554455445546,
          24.972049689440993,
          24.233766233766232,
          26.333333333333332,
          24.44,
          24.308441558441558,
          25.046875,
          24.03268551236749,
          25.475609756097562,
          24.515625,
          26.714285714285715,
          25.677777777777777,
          26.25,
          28.333333333333332,
          28.1,
          26.2170245398773,
          26.6953125,
          25.666666666666668,
          27,
          26.11111111111111,
          27.9375,
          26.280254777070063,
          29.416666666666668,
          25.209967320261438,
          26.921875,
          27.1,
          25.491525423728813,
          26.9,
          25.083025830258304,
          24.405405405405407,
          28.476190476190474,
          26.896551724137932,
          27.5,
          25.944444444444443,
          27.833333333333332,
          25.314885496183205,
          26.714285714285715,
          24.4375,
          27.1,
          23,
          27.0625,
          27.714285714285715,
          28.074074074074073,
          28.653846153846153,
          27.11764705882353,
          28.6875,
          28.5,
          29.5,
          25.833333333333332,
          25.5,
          27.285714285714285,
          28.833333333333332,
          26,
          27.5,
          30.5,
          26.875,
          30.5,
          26.271428571428572,
          27.8,
          27.7,
          30.25,
          27.4375,
          26.666666666666668,
          29.125,
          27.75,
          28.5,
          24.5,
          29.75,
          28.833333333333332,
          29.88095238095238,
          29.181818181818183,
          28.75,
          28,
          31.25,
          27.75,
          33.25,
          27.75,
          27.875,
          29.5,
          31.5,
          29.75,
          29.5,
          31.26923076923077,
          30.375,
          31.1,
          29.5,
          32.5,
          27.72222222222222,
          28.070217917675546,
          29.61764705882353,
          28.974137931034484,
          29.153846153846153,
          30.7985347985348,
          32.625,
          31.75,
          30.59344490934449,
          30.1,
          30.304347826086957,
          30,
          29.125,
          26.96875,
          28.7,
          27.934343434343436,
          28.5625,
          29.193693693693692,
          30.266666666666666,
          30.5,
          25,
          32.5,
          34,
          33,
          36.5,
          30.158013544018058,
          30.55952380952381,
          31.383064516129032,
          32.36363636363637,
          29.3,
          32,
          32.333333333333336,
          30.5,
          32.75,
          30,
          33,
          30.5,
          29.6,
          32.833333333333336,
          30.5,
          33.5,
          30.5,
          31.125,
          35,
          34,
          41.333333333333336,
          34,
          36.629629629629626,
          36.25,
          36.166666666666664,
          35.3,
          31.83939393939394,
          34.333333333333336,
          42.27272727272727,
          36.80434782608695,
          37,
          36.5,
          39,
          41.291666666666664,
          44.333333333333336,
          40.25,
          42.708333333333336,
          35.22,
          35.666666666666664,
          32.25,
          38,
          39.70666666666666,
          42,
          42,
          36
         ],
         "yaxis": "y"
        },
        {
         "hovertemplate": "name=Black SUV<br>distance=%{x}<br>price=%{y}<extra></extra>",
         "legendgroup": "Black SUV",
         "line": {
          "color": "#EF553B",
          "dash": "solid"
         },
         "mode": "lines",
         "name": "Black SUV",
         "showlegend": true,
         "type": "scattergl",
         "x": [
          0.02,
          0.03,
          0.04,
          0.12,
          0.17,
          0.27,
          0.29,
          0.3,
          0.35,
          0.38,
          0.39,
          0.4,
          0.47,
          0.49,
          0.5,
          0.52,
          0.53,
          0.54,
          0.55,
          0.56,
          0.58,
          0.59,
          0.6,
          0.61,
          0.62,
          0.63,
          0.65,
          0.66,
          0.67,
          0.68,
          0.7,
          0.71,
          0.72,
          0.73,
          0.76,
          0.78,
          0.79,
          0.8,
          0.81,
          0.82,
          0.85,
          0.86,
          0.88,
          0.89,
          0.9,
          0.91,
          0.92,
          0.93,
          0.94,
          0.97,
          0.98,
          0.99,
          1,
          1.01,
          1.02,
          1.03,
          1.04,
          1.05,
          1.06,
          1.07,
          1.08,
          1.09,
          1.1,
          1.11,
          1.12,
          1.13,
          1.14,
          1.16,
          1.17,
          1.18,
          1.19,
          1.2,
          1.21,
          1.22,
          1.23,
          1.24,
          1.25,
          1.26,
          1.27,
          1.28,
          1.29,
          1.3,
          1.31,
          1.32,
          1.33,
          1.34,
          1.35,
          1.36,
          1.37,
          1.38,
          1.39,
          1.4,
          1.41,
          1.42,
          1.43,
          1.44,
          1.45,
          1.46,
          1.47,
          1.48,
          1.49,
          1.5,
          1.51,
          1.52,
          1.53,
          1.54,
          1.55,
          1.56,
          1.57,
          1.58,
          1.59,
          1.6,
          1.61,
          1.62,
          1.63,
          1.64,
          1.65,
          1.66,
          1.67,
          1.68,
          1.69,
          1.7,
          1.71,
          1.72,
          1.73,
          1.74,
          1.75,
          1.76,
          1.77,
          1.78,
          1.79,
          1.8,
          1.81,
          1.82,
          1.83,
          1.84,
          1.85,
          1.86,
          1.87,
          1.88,
          1.89,
          1.9,
          1.91,
          1.92,
          1.93,
          1.94,
          1.95,
          1.96,
          1.97,
          1.98,
          1.99,
          2,
          2.01,
          2.02,
          2.03,
          2.04,
          2.05,
          2.06,
          2.07,
          2.08,
          2.09,
          2.1,
          2.11,
          2.12,
          2.13,
          2.14,
          2.15,
          2.16,
          2.17,
          2.18,
          2.19,
          2.2,
          2.21,
          2.22,
          2.23,
          2.24,
          2.25,
          2.26,
          2.27,
          2.28,
          2.29,
          2.3,
          2.31,
          2.32,
          2.33,
          2.34,
          2.35,
          2.36,
          2.37,
          2.38,
          2.39,
          2.4,
          2.41,
          2.42,
          2.43,
          2.44,
          2.45,
          2.46,
          2.47,
          2.48,
          2.49,
          2.5,
          2.51,
          2.52,
          2.53,
          2.54,
          2.55,
          2.56,
          2.57,
          2.58,
          2.59,
          2.6,
          2.61,
          2.62,
          2.63,
          2.64,
          2.65,
          2.66,
          2.67,
          2.68,
          2.69,
          2.7,
          2.71,
          2.72,
          2.73,
          2.74,
          2.75,
          2.77,
          2.78,
          2.79,
          2.8,
          2.81,
          2.82,
          2.83,
          2.84,
          2.85,
          2.86,
          2.87,
          2.88,
          2.89,
          2.9,
          2.91,
          2.92,
          2.93,
          2.94,
          2.95,
          2.96,
          2.97,
          2.98,
          2.99,
          3,
          3.01,
          3.02,
          3.03,
          3.04,
          3.05,
          3.06,
          3.07,
          3.08,
          3.09,
          3.1,
          3.11,
          3.12,
          3.13,
          3.14,
          3.15,
          3.16,
          3.17,
          3.18,
          3.19,
          3.2,
          3.21,
          3.22,
          3.23,
          3.24,
          3.25,
          3.26,
          3.27,
          3.28,
          3.29,
          3.3,
          3.31,
          3.32,
          3.33,
          3.34,
          3.35,
          3.37,
          3.38,
          3.39,
          3.4,
          3.41,
          3.42,
          3.43,
          3.44,
          3.45,
          3.46,
          3.47,
          3.5,
          3.51,
          3.52,
          3.53,
          3.54,
          3.55,
          3.56,
          3.57,
          3.58,
          3.59,
          3.61,
          3.63,
          3.64,
          3.65,
          3.66,
          3.67,
          3.69,
          3.7,
          3.71,
          3.72,
          3.73,
          3.74,
          3.75,
          3.76,
          3.78,
          3.79,
          3.8,
          3.81,
          3.82,
          3.85,
          3.89,
          3.91,
          3.92,
          3.94,
          3.95,
          3.96,
          3.97,
          3.98,
          3.99,
          4,
          4.03,
          4.04,
          4.05,
          4.07,
          4.1,
          4.12,
          4.13,
          4.15,
          4.17,
          4.28,
          4.3,
          4.31,
          4.33,
          4.35,
          4.38,
          4.39,
          4.4,
          4.41,
          4.42,
          4.43,
          4.44,
          4.46,
          4.47,
          4.48,
          4.49,
          4.5,
          4.51,
          4.52,
          4.53,
          4.54,
          4.55,
          4.56,
          4.57,
          4.58,
          4.59,
          4.6,
          4.62,
          4.65,
          4.7,
          4.71,
          4.72,
          4.73,
          4.74,
          4.76,
          4.78,
          4.79,
          4.8,
          4.82,
          4.84,
          4.86,
          4.9,
          4.91,
          4.93,
          4.94,
          4.96,
          4.98,
          5.02,
          5.1,
          5.12,
          5.16,
          5.46,
          5.47,
          5.56,
          5.66,
          5.69,
          5.7,
          6.26,
          6.27,
          6.83,
          6.91,
          6.97,
          7.04,
          7.18,
          7.19,
          7.2,
          7.24,
          7.25,
          7.34,
          7.36,
          7.38,
          7.45,
          7.46,
          7.5,
          7.62,
          7.86
         ],
         "xaxis": "x",
         "y": [
          27.5,
          26.66176470588235,
          27.5,
          27.5,
          27,
          27.5,
          27.5,
          28.72222222222222,
          27.5,
          27.5,
          26.872945638432363,
          27.5,
          26.852941176470587,
          26.86689655172414,
          27.5,
          27.357142857142858,
          26.916666666666668,
          26.81948051948052,
          26.968118195956453,
          26.88944365192582,
          26.931372549019606,
          26.7,
          27.285714285714285,
          26.858231707317074,
          26.803353658536587,
          26.919718309859157,
          27.183673469387756,
          27.5,
          26.24074074074074,
          27.19327731092437,
          26.77777777777778,
          27.5,
          26.886252045826513,
          27,
          27,
          26.565217391304348,
          27.115384615384617,
          26.85169491525424,
          26.833333333333332,
          27.27173913043478,
          26.35,
          26.53846153846154,
          26.176470588235293,
          27,
          26.876033057851238,
          26.927956989247313,
          26.825242718446603,
          26.5,
          26.75,
          27,
          27.10576923076923,
          26.944444444444443,
          26.895299145299145,
          27.19047619047619,
          26.675,
          27.04035874439462,
          26.834608030592733,
          26.75,
          26.58730158730159,
          27.15909090909091,
          26.61002994011976,
          27.38235294117647,
          25.71345029239766,
          26.591743119266056,
          26.75,
          26.4375,
          27.06923076923077,
          26.95069667738478,
          27.166666666666668,
          26.921739130434784,
          26.333333333333332,
          26.571428571428573,
          26.900580551523948,
          25.505357142857143,
          26.82598039215686,
          26.28,
          27.004957507082153,
          25.980392156862745,
          26.785714285714285,
          27.492857142857144,
          27,
          27.056006493506494,
          26.78,
          27.333333333333332,
          26.352941176470587,
          25.441343963553532,
          27.106487148102815,
          26.79889298892989,
          26.916666666666668,
          27.583333333333332,
          25.762820512820515,
          26.19172932330827,
          26.75,
          27.171875,
          26.571428571428573,
          26.02654867256637,
          27.24468085106383,
          27.54421768707483,
          27.81578947368421,
          29.55,
          26.53846153846154,
          26.333969465648856,
          25.798192771084338,
          27,
          27.375,
          26,
          27.5,
          26.291976225854384,
          27.3125,
          27.210526315789473,
          25.975,
          25.97826086956522,
          27.319895968790636,
          26.88,
          27.65625,
          26.2135593220339,
          27.87272727272727,
          26.75,
          28,
          28.231292517006803,
          27.36842105263158,
          27.47142857142857,
          28.002958579881657,
          28.7625,
          38,
          27.75,
          27.51388888888889,
          27.166666666666668,
          28.214285714285715,
          28.875,
          28.595555555555556,
          27.8546845124283,
          26.08695652173913,
          28.353846153846153,
          29.2,
          28.207792207792206,
          29.18421052631579,
          27.205357142857142,
          28.221311475409838,
          27.575,
          29.435356200527703,
          29.237179487179485,
          28.320422535211268,
          26.723684210526315,
          27,
          27.846354166666668,
          28.204545454545453,
          29.09375,
          28.126201923076923,
          27.8,
          29.058823529411764,
          30.833333333333332,
          28.444444444444443,
          29.5,
          28.416666666666668,
          29.78640776699029,
          27.5,
          28.75,
          30.75,
          29.071428571428573,
          30.125,
          30.38888888888889,
          29.625,
          28.34765625,
          28.625,
          28.01094276094276,
          30.233333333333334,
          28.5,
          28.55397148676171,
          28.5,
          28.624513618677042,
          30.764550264550266,
          29.607142857142858,
          30.42105263157895,
          30.78,
          28.433333333333334,
          29.245283018867923,
          35,
          28.78292682926829,
          29,
          29.493617021276595,
          31.017123287671232,
          29.942857142857143,
          29.701241134751772,
          31.628826530612244,
          31.597633136094675,
          29.017241379310345,
          32.01136363636363,
          29.474683544303797,
          30.432692307692307,
          33.888888888888886,
          31.982142857142858,
          32,
          29.342105263157894,
          30.81,
          32.892857142857146,
          32.29276315789474,
          29.967041800643088,
          32,
          29.206303724928368,
          33.07692307692308,
          30.054945054945055,
          31.333333333333332,
          33.857142857142854,
          31.775,
          32.22222222222222,
          30.78125,
          30.29259259259259,
          32.03125,
          30.806818181818183,
          31.15625,
          31.022727272727273,
          29.9460370994941,
          31.11942257217848,
          31.13372093023256,
          33.75,
          32.46774193548387,
          31.04299226139295,
          32.11743772241993,
          32.916666666666664,
          35.75,
          32.625,
          31.783464566929133,
          31.826589595375722,
          33.903141361256544,
          31.057692307692307,
          35.333333333333336,
          31.113636363636363,
          30.581818181818182,
          31.514492753623188,
          31.96833130328867,
          30.486607142857142,
          31.67241379310345,
          34.5625,
          32.28721278721279,
          32.2,
          31.9020618556701,
          33.089473684210525,
          32.43650793650794,
          32.8,
          31.59090909090909,
          33.6,
          32.333333333333336,
          35.55555555555556,
          31.477272727272727,
          35.5,
          32.80263157894737,
          33,
          33.41572123176661,
          35.27777777777778,
          37.75,
          33.31155433287483,
          34.97826086956522,
          39.25,
          33.332312404287904,
          33.12609238451935,
          35.04545454545455,
          33.86538461538461,
          33.98547215496368,
          34.989583333333336,
          34.68041237113402,
          34.333333333333336,
          35.125,
          33.595238095238095,
          35.11363636363637,
          33.32673267326733,
          34.584375,
          33.967532467532465,
          35.214285714285715,
          35.06,
          33.509803921568626,
          34.734375,
          33.97349823321555,
          35.06910569105691,
          34.875,
          36.285714285714285,
          35.08888888888889,
          35.375,
          38.5,
          37.4,
          35.01075268817204,
          35.1484375,
          36,
          35.75,
          35.407407407407405,
          40.25,
          34.961783439490446,
          39.083333333333336,
          35.39967373572594,
          36.234375,
          36.50714285714286,
          34.94915254237288,
          36.3,
          34.76568265682657,
          33.89837398373984,
          37.5,
          36.60344827586207,
          34.75,
          37.44444444444444,
          37.333333333333336,
          34.9942748091603,
          36.642857142857146,
          33.625,
          37.1,
          37,
          35.5,
          37.142857142857146,
          37.69135802469136,
          39.80769230769231,
          38.4264705882353,
          39.125,
          38.25,
          37,
          36.833333333333336,
          38.5,
          36.285714285714285,
          38.666666666666664,
          36,
          35.875,
          41.5,
          37,
          40,
          36.81428571428572,
          38,
          37,
          39.5,
          37.75,
          38.333333333333336,
          38.375,
          37.875,
          38.5,
          37.25,
          39.845238095238095,
          40.333333333333336,
          41.142857142857146,
          38.36363636363637,
          38.5,
          37.5,
          41.5,
          37.25,
          42.5,
          36.5,
          39.375,
          40.666666666666664,
          41.5,
          40,
          40.5,
          42.53846153846154,
          40.875,
          41.5,
          39.5,
          43,
          39.27777777777778,
          39.04556354916067,
          39.794117647058826,
          39.12931034482759,
          38.88461538461539,
          39.919117647058826,
          43,
          42.75,
          39.63091922005571,
          39.9,
          39.69565217391305,
          40,
          37.5,
          39.8125,
          38.9,
          38.96338383838384,
          39.25,
          38.77477477477478,
          39.666666666666664,
          40.5,
          39.5,
          43,
          42.333333333333336,
          48,
          47.5,
          41.52149321266968,
          39.26190476190476,
          41.58064516129032,
          41.54545454545455,
          42,
          42.5,
          43.5,
          39.166666666666664,
          42.75,
          42,
          44,
          38,
          42.2,
          43.166666666666664,
          41,
          43.75,
          37.5,
          43.25,
          45.5,
          42.75,
          53.5,
          43,
          46.16524216524216,
          47,
          46.5,
          44.53333333333333,
          43.196969696969695,
          44.611111111111114,
          52.22727272727273,
          47.82608695652174,
          46.26190476190476,
          45.5,
          50.5,
          52.625,
          55.833333333333336,
          50.125,
          54.208333333333336,
          48.34,
          49.166666666666664,
          44.625,
          46,
          49.07555555555555,
          51.166666666666664,
          51.5,
          53
         ],
         "yaxis": "y"
        },
        {
         "hovertemplate": "name=UberPool<br>distance=%{x}<br>price=%{y}<extra></extra>",
         "legendgroup": "UberPool",
         "line": {
          "color": "#00cc96",
          "dash": "solid"
         },
         "mode": "lines",
         "name": "UberPool",
         "showlegend": true,
         "type": "scattergl",
         "x": [
          0.02,
          0.03,
          0.04,
          0.12,
          0.17,
          0.27,
          0.29,
          0.3,
          0.35,
          0.38,
          0.39,
          0.4,
          0.47,
          0.49,
          0.5,
          0.52,
          0.53,
          0.54,
          0.55,
          0.56,
          0.58,
          0.59,
          0.6,
          0.61,
          0.62,
          0.63,
          0.65,
          0.66,
          0.67,
          0.68,
          0.7,
          0.71,
          0.72,
          0.73,
          0.76,
          0.78,
          0.79,
          0.8,
          0.81,
          0.82,
          0.85,
          0.86,
          0.88,
          0.89,
          0.9,
          0.91,
          0.92,
          0.93,
          0.94,
          0.97,
          0.98,
          0.99,
          1,
          1.01,
          1.02,
          1.03,
          1.04,
          1.05,
          1.06,
          1.07,
          1.08,
          1.09,
          1.1,
          1.11,
          1.12,
          1.13,
          1.14,
          1.16,
          1.17,
          1.18,
          1.19,
          1.2,
          1.21,
          1.22,
          1.23,
          1.24,
          1.25,
          1.26,
          1.27,
          1.28,
          1.29,
          1.3,
          1.31,
          1.32,
          1.33,
          1.34,
          1.35,
          1.36,
          1.37,
          1.38,
          1.39,
          1.4,
          1.41,
          1.42,
          1.43,
          1.44,
          1.45,
          1.46,
          1.47,
          1.48,
          1.49,
          1.5,
          1.51,
          1.52,
          1.53,
          1.54,
          1.55,
          1.56,
          1.57,
          1.58,
          1.59,
          1.6,
          1.61,
          1.62,
          1.63,
          1.64,
          1.65,
          1.66,
          1.67,
          1.68,
          1.69,
          1.7,
          1.71,
          1.72,
          1.73,
          1.74,
          1.75,
          1.76,
          1.77,
          1.78,
          1.79,
          1.8,
          1.81,
          1.82,
          1.83,
          1.84,
          1.85,
          1.86,
          1.87,
          1.88,
          1.89,
          1.9,
          1.91,
          1.92,
          1.93,
          1.94,
          1.95,
          1.96,
          1.97,
          1.98,
          1.99,
          2,
          2.01,
          2.02,
          2.03,
          2.04,
          2.05,
          2.06,
          2.07,
          2.08,
          2.09,
          2.1,
          2.11,
          2.12,
          2.13,
          2.14,
          2.15,
          2.16,
          2.17,
          2.18,
          2.19,
          2.2,
          2.21,
          2.22,
          2.23,
          2.24,
          2.25,
          2.26,
          2.27,
          2.28,
          2.29,
          2.3,
          2.31,
          2.32,
          2.33,
          2.34,
          2.35,
          2.36,
          2.37,
          2.38,
          2.39,
          2.4,
          2.41,
          2.42,
          2.43,
          2.44,
          2.45,
          2.46,
          2.47,
          2.48,
          2.49,
          2.5,
          2.51,
          2.52,
          2.53,
          2.54,
          2.55,
          2.56,
          2.57,
          2.58,
          2.59,
          2.6,
          2.61,
          2.62,
          2.63,
          2.64,
          2.65,
          2.66,
          2.67,
          2.68,
          2.69,
          2.7,
          2.71,
          2.72,
          2.73,
          2.74,
          2.75,
          2.77,
          2.78,
          2.79,
          2.8,
          2.81,
          2.82,
          2.83,
          2.84,
          2.85,
          2.86,
          2.87,
          2.88,
          2.89,
          2.9,
          2.91,
          2.92,
          2.93,
          2.94,
          2.95,
          2.96,
          2.97,
          2.98,
          2.99,
          3,
          3.01,
          3.02,
          3.03,
          3.04,
          3.05,
          3.06,
          3.07,
          3.08,
          3.09,
          3.1,
          3.11,
          3.12,
          3.13,
          3.14,
          3.15,
          3.16,
          3.17,
          3.18,
          3.19,
          3.2,
          3.21,
          3.22,
          3.23,
          3.24,
          3.25,
          3.26,
          3.27,
          3.28,
          3.29,
          3.3,
          3.31,
          3.32,
          3.33,
          3.34,
          3.35,
          3.37,
          3.38,
          3.39,
          3.4,
          3.41,
          3.42,
          3.43,
          3.44,
          3.45,
          3.46,
          3.47,
          3.5,
          3.51,
          3.52,
          3.53,
          3.54,
          3.55,
          3.56,
          3.57,
          3.58,
          3.59,
          3.61,
          3.63,
          3.64,
          3.65,
          3.66,
          3.67,
          3.69,
          3.7,
          3.71,
          3.72,
          3.73,
          3.74,
          3.75,
          3.76,
          3.78,
          3.79,
          3.8,
          3.81,
          3.82,
          3.85,
          3.89,
          3.91,
          3.92,
          3.94,
          3.95,
          3.96,
          3.97,
          3.98,
          3.99,
          4,
          4.03,
          4.04,
          4.05,
          4.07,
          4.1,
          4.12,
          4.13,
          4.15,
          4.17,
          4.28,
          4.3,
          4.31,
          4.33,
          4.35,
          4.38,
          4.39,
          4.4,
          4.41,
          4.42,
          4.43,
          4.44,
          4.46,
          4.47,
          4.48,
          4.49,
          4.5,
          4.51,
          4.52,
          4.53,
          4.54,
          4.55,
          4.56,
          4.57,
          4.58,
          4.59,
          4.6,
          4.62,
          4.65,
          4.7,
          4.71,
          4.72,
          4.73,
          4.74,
          4.76,
          4.78,
          4.79,
          4.8,
          4.82,
          4.84,
          4.86,
          4.9,
          4.91,
          4.93,
          4.94,
          4.96,
          4.98,
          5.02,
          5.1,
          5.12,
          5.16,
          5.46,
          5.47,
          5.56,
          5.66,
          5.69,
          5.7,
          6.26,
          6.27,
          6.83,
          6.91,
          6.97,
          7.04,
          7.18,
          7.19,
          7.2,
          7.24,
          7.25,
          7.34,
          7.36,
          7.38,
          7.45,
          7.46,
          7.5,
          7.62,
          7.86
         ],
         "xaxis": "x",
         "y": [
          6.5,
          5.205882352941177,
          7,
          7,
          4.5,
          7.5,
          7,
          6.833333333333333,
          7,
          7,
          6.088832487309645,
          6.9,
          6,
          6.80524861878453,
          6.5,
          6.357142857142857,
          6.166666666666667,
          5.401554404145077,
          7.10570987654321,
          6.356940509915014,
          7.2254901960784315,
          6.9,
          7.214285714285714,
          6.5703363914373085,
          6.41131498470948,
          5.283898305084746,
          5.3061224489795915,
          6.5,
          7.111111111111111,
          6.970588235294118,
          6.5,
          6.166666666666667,
          7.221498371335505,
          6.133333333333334,
          6.75,
          6.3478260869565215,
          6.846153846153846,
          7.101694915254237,
          6.583333333333333,
          7.271739130434782,
          7.55,
          7.384615384615385,
          7.323529411764706,
          6.5,
          6.276859504132231,
          7.78494623655914,
          6.584951456310679,
          6.5,
          7.0182926829268295,
          6.5,
          7.3798076923076925,
          7.350318471337579,
          7.388412017167382,
          6.4523809523809526,
          7.3,
          6.676404494382022,
          7.820610687022901,
          6.75,
          7.666666666666667,
          7.636363636363637,
          6.872754491017964,
          7.147058823529412,
          7.4298245614035086,
          7.013761467889908,
          7.630434782608695,
          7.65625,
          7.6796875,
          7.47812166488794,
          5.166666666666667,
          7.734782608695652,
          7.0476190476190474,
          8.071428571428571,
          7.288294797687861,
          7.314946619217082,
          7.834963325183374,
          6.08,
          7.281869688385269,
          7.431372549019608,
          7.857142857142857,
          8.357142857142858,
          8.25,
          7.764563106796117,
          7.6,
          8.166666666666666,
          7.352941176470588,
          7.45800227014756,
          8.059218559218559,
          8.288602941176471,
          7.486111111111111,
          9,
          7.887820512820513,
          7.932330827067669,
          8.539054966248795,
          7.71875,
          7.666666666666667,
          7.95353982300885,
          7.712765957446808,
          8.677474402730375,
          7.447368421052632,
          7.8,
          7.630769230769231,
          7.373409669211196,
          8.090361445783133,
          8.642857142857142,
          8.675,
          8.125,
          8,
          7.30849478390462,
          8.20954356846473,
          7.88421052631579,
          7.775,
          7.391304347826087,
          8.599609375,
          8.133333333333333,
          8.46875,
          7.695059625212947,
          9.263636363636364,
          7,
          8.7,
          9.418367346938776,
          8.763157894736842,
          8.461904761904762,
          8.529585798816568,
          8.4375,
          10.5,
          7.666666666666667,
          8.916666666666666,
          7.964285714285714,
          8.642857142857142,
          9.163461538461538,
          9.195555555555556,
          8.914122137404581,
          9.071428571428571,
          8.238461538461538,
          10.24,
          8.24025974025974,
          8.631578947368421,
          8.228070175438596,
          9.065573770491802,
          7.825,
          9.225593667546175,
          9.477564102564102,
          8.524734982332156,
          8.921052631578947,
          8.761904761904763,
          8.434554973821989,
          8.659090909090908,
          8.625,
          8.8756038647343,
          8.1,
          10.235294117647058,
          8,
          9.027777777777779,
          7.5,
          8.75,
          9.407766990291263,
          8.3125,
          9.375,
          10.5,
          7.571428571428571,
          10,
          8.944444444444445,
          8.8125,
          9.0859375,
          9.75,
          8.210304054054054,
          9.433333333333334,
          8.833333333333334,
          9.009183673469387,
          8.5,
          8.74124513618677,
          9.701058201058201,
          9.044642857142858,
          9.368421052631579,
          9.7,
          8.933333333333334,
          8.660377358490566,
          12,
          8.872771474878444,
          9.166666666666666,
          8.912765957446808,
          9.570205479452055,
          8.557142857142857,
          9.046944198405669,
          9.876275510204081,
          10.008823529411766,
          8.568965517241379,
          9.647727272727273,
          8.41139240506329,
          9.217252396166135,
          12.166666666666666,
          9.607142857142858,
          8.8125,
          8.842105263157896,
          9.77,
          9.872448979591837,
          9.046052631578947,
          8.731884057971014,
          9.392857142857142,
          8.705459770114942,
          11.442307692307692,
          9.23076923076923,
          9.119047619047619,
          10.5,
          9.325,
          10.166666666666666,
          9,
          9.177777777777777,
          11.25,
          9.112090680100756,
          9.322916666666666,
          9.454545454545455,
          8.761016949152543,
          9.667763157894736,
          9.162790697674419,
          12.75,
          9,
          9.555030094582975,
          10.172597864768683,
          9.833333333333334,
          11.25,
          10.631944444444445,
          9.562992125984252,
          9.403318903318903,
          10.38219895287958,
          9.865384615384615,
          10.666666666666666,
          10.272727272727273,
          9.645454545454545,
          8.094813614262561,
          9.776492082825822,
          8.647321428571429,
          9.810344827586206,
          9.25,
          9.3945,
          9.88,
          9.03859348198971,
          9.889473684210527,
          8.865079365079366,
          10.8,
          9.56060606060606,
          10,
          10,
          10.5,
          9.568181818181818,
          13.25,
          10.25,
          11,
          8.752845528455284,
          10.722222222222221,
          13.375,
          10.171703296703297,
          11.043478260869565,
          10.25,
          8.918836140888208,
          10.033291457286433,
          9.663636363636364,
          8.958263772954925,
          10.092457420924575,
          8.9375,
          9.716494845360824,
          9.5,
          11.375,
          9.857142857142858,
          11.022727272727273,
          10.527363184079602,
          10.697530864197532,
          10.12987012987013,
          11.595238095238095,
          10.93,
          10.308441558441558,
          10.34375,
          9.771681415929203,
          10.398373983739837,
          9.828125,
          11.571428571428571,
          11.022222222222222,
          10.5,
          10.666666666666666,
          12.2,
          10.460122699386503,
          10.171875,
          10.833333333333334,
          10,
          10.703703703703704,
          12.3125,
          10.471337579617835,
          13.083333333333334,
          9.682487725040916,
          11.3828125,
          9.742857142857142,
          10.639830508474576,
          10.2,
          11.22140221402214,
          10.813513513513513,
          10.80952380952381,
          11.017241379310345,
          11.5,
          10.61111111111111,
          12.833333333333334,
          10.580152671755725,
          12.214285714285714,
          10.1875,
          12.1,
          10,
          10.125,
          10.857142857142858,
          12.052469135802468,
          10.307692307692308,
          10.705882352941176,
          12.125,
          10.833333333333334,
          12,
          9.666666666666666,
          11.25,
          9.642857142857142,
          11,
          10,
          11.75,
          11,
          9.75,
          10.166666666666666,
          10.642857142857142,
          12.033333333333333,
          10.3,
          11,
          11.25,
          11.333333333333334,
          9.8125,
          10.25,
          9,
          11,
          10.273809523809524,
          13.166666666666666,
          13.404761904761905,
          12.681818181818182,
          12.75,
          8.5,
          13.75,
          10.5,
          12.25,
          11.5,
          11.75,
          14,
          9.5,
          12.25,
          11.5,
          14.26923076923077,
          11.75,
          12.2,
          10,
          10,
          11.166666666666666,
          10.833333333333334,
          12.5,
          10.60344827586207,
          12.26923076923077,
          12.130514705882353,
          12.25,
          14,
          11.191771269177126,
          12.9,
          11.521739130434783,
          12,
          10.125,
          10.59375,
          10.6,
          10.922784810126583,
          11.1875,
          10.698198198198199,
          11.666666666666666,
          14.5,
          10,
          11,
          10,
          24.5,
          11,
          10.466139954853274,
          10.654761904761905,
          10.5,
          10.712121212121213,
          12.6,
          21,
          14.333333333333334,
          12.833333333333334,
          11.5,
          11.75,
          20,
          12,
          11.3,
          13.166666666666666,
          9,
          11.5,
          11,
          10.75,
          18.5,
          11.25,
          12,
          11,
          14.215099715099715,
          14.25,
          13,
          13.703333333333333,
          13.187878787878788,
          13.11111111111111,
          14.363636363636363,
          13.108695652173912,
          13.30952380952381,
          12.166666666666666,
          18.333333333333332,
          16.833333333333332,
          16.75,
          12.375,
          14.083333333333334,
          14.1,
          14.833333333333334,
          14,
          12,
          13.724444444444444,
          14.666666666666666,
          13.5,
          13.5
         ],
         "yaxis": "y"
        },
        {
         "hovertemplate": "name=UberX<br>distance=%{x}<br>price=%{y}<extra></extra>",
         "legendgroup": "UberX",
         "line": {
          "color": "#ab63fa",
          "dash": "solid"
         },
         "mode": "lines",
         "name": "UberX",
         "showlegend": true,
         "type": "scattergl",
         "x": [
          0.02,
          0.03,
          0.04,
          0.12,
          0.17,
          0.27,
          0.29,
          0.3,
          0.35,
          0.38,
          0.39,
          0.4,
          0.47,
          0.49,
          0.5,
          0.52,
          0.53,
          0.54,
          0.55,
          0.56,
          0.58,
          0.59,
          0.6,
          0.61,
          0.62,
          0.63,
          0.65,
          0.66,
          0.67,
          0.68,
          0.7,
          0.71,
          0.72,
          0.73,
          0.76,
          0.78,
          0.79,
          0.8,
          0.81,
          0.82,
          0.85,
          0.86,
          0.88,
          0.89,
          0.9,
          0.91,
          0.92,
          0.93,
          0.94,
          0.97,
          0.98,
          0.99,
          1,
          1.01,
          1.02,
          1.03,
          1.04,
          1.05,
          1.06,
          1.07,
          1.08,
          1.09,
          1.1,
          1.11,
          1.12,
          1.13,
          1.14,
          1.16,
          1.17,
          1.18,
          1.19,
          1.2,
          1.21,
          1.22,
          1.23,
          1.24,
          1.25,
          1.26,
          1.27,
          1.28,
          1.29,
          1.3,
          1.31,
          1.32,
          1.33,
          1.34,
          1.35,
          1.36,
          1.37,
          1.38,
          1.39,
          1.4,
          1.41,
          1.42,
          1.43,
          1.44,
          1.45,
          1.46,
          1.47,
          1.48,
          1.49,
          1.5,
          1.51,
          1.52,
          1.53,
          1.54,
          1.55,
          1.56,
          1.57,
          1.58,
          1.59,
          1.6,
          1.61,
          1.62,
          1.63,
          1.64,
          1.65,
          1.66,
          1.67,
          1.68,
          1.69,
          1.7,
          1.71,
          1.72,
          1.73,
          1.74,
          1.75,
          1.76,
          1.77,
          1.78,
          1.79,
          1.8,
          1.81,
          1.82,
          1.83,
          1.84,
          1.85,
          1.86,
          1.87,
          1.88,
          1.89,
          1.9,
          1.91,
          1.92,
          1.93,
          1.94,
          1.95,
          1.96,
          1.97,
          1.98,
          1.99,
          2,
          2.01,
          2.02,
          2.03,
          2.04,
          2.05,
          2.06,
          2.07,
          2.08,
          2.09,
          2.1,
          2.11,
          2.12,
          2.13,
          2.14,
          2.15,
          2.16,
          2.17,
          2.18,
          2.19,
          2.2,
          2.21,
          2.22,
          2.23,
          2.24,
          2.25,
          2.26,
          2.27,
          2.28,
          2.29,
          2.3,
          2.31,
          2.32,
          2.33,
          2.34,
          2.35,
          2.36,
          2.37,
          2.38,
          2.39,
          2.4,
          2.41,
          2.42,
          2.43,
          2.44,
          2.45,
          2.46,
          2.47,
          2.48,
          2.49,
          2.5,
          2.51,
          2.52,
          2.53,
          2.54,
          2.55,
          2.56,
          2.57,
          2.58,
          2.59,
          2.6,
          2.61,
          2.62,
          2.63,
          2.64,
          2.65,
          2.66,
          2.67,
          2.68,
          2.69,
          2.7,
          2.71,
          2.72,
          2.73,
          2.74,
          2.75,
          2.77,
          2.78,
          2.79,
          2.8,
          2.81,
          2.82,
          2.83,
          2.84,
          2.85,
          2.86,
          2.87,
          2.88,
          2.89,
          2.9,
          2.91,
          2.92,
          2.93,
          2.94,
          2.95,
          2.96,
          2.97,
          2.98,
          2.99,
          3,
          3.01,
          3.02,
          3.03,
          3.04,
          3.05,
          3.06,
          3.07,
          3.08,
          3.09,
          3.1,
          3.11,
          3.12,
          3.13,
          3.14,
          3.15,
          3.16,
          3.17,
          3.18,
          3.19,
          3.2,
          3.21,
          3.22,
          3.23,
          3.24,
          3.25,
          3.26,
          3.27,
          3.28,
          3.29,
          3.3,
          3.31,
          3.32,
          3.33,
          3.34,
          3.35,
          3.37,
          3.38,
          3.39,
          3.4,
          3.41,
          3.42,
          3.43,
          3.44,
          3.45,
          3.46,
          3.47,
          3.5,
          3.51,
          3.52,
          3.53,
          3.54,
          3.55,
          3.56,
          3.57,
          3.58,
          3.59,
          3.61,
          3.63,
          3.64,
          3.65,
          3.66,
          3.67,
          3.69,
          3.7,
          3.71,
          3.72,
          3.73,
          3.74,
          3.75,
          3.76,
          3.78,
          3.79,
          3.8,
          3.81,
          3.82,
          3.85,
          3.89,
          3.91,
          3.92,
          3.94,
          3.95,
          3.96,
          3.97,
          3.98,
          3.99,
          4,
          4.03,
          4.04,
          4.05,
          4.07,
          4.1,
          4.12,
          4.13,
          4.15,
          4.17,
          4.28,
          4.3,
          4.31,
          4.33,
          4.35,
          4.38,
          4.39,
          4.4,
          4.41,
          4.42,
          4.43,
          4.44,
          4.46,
          4.47,
          4.48,
          4.49,
          4.5,
          4.51,
          4.52,
          4.53,
          4.54,
          4.55,
          4.56,
          4.57,
          4.58,
          4.59,
          4.6,
          4.62,
          4.65,
          4.7,
          4.71,
          4.72,
          4.73,
          4.74,
          4.76,
          4.78,
          4.79,
          4.8,
          4.82,
          4.84,
          4.86,
          4.9,
          4.91,
          4.93,
          4.94,
          4.96,
          4.98,
          5.02,
          5.1,
          5.12,
          5.16,
          5.46,
          5.47,
          5.56,
          5.66,
          5.69,
          5.7,
          6.26,
          6.27,
          6.83,
          6.91,
          6.97,
          7.04,
          7.18,
          7.19,
          7.2,
          7.24,
          7.25,
          7.34,
          7.36,
          7.38,
          7.45,
          7.46,
          7.5,
          7.62,
          7.86
         ],
         "xaxis": "x",
         "y": [
          6.7,
          7.147058823529412,
          7,
          7,
          7,
          7,
          7,
          7,
          7,
          7,
          7.178388746803069,
          7.1,
          7.5588235294117645,
          7.174002751031637,
          6.5,
          7,
          7,
          7.261658031088083,
          7.510835913312693,
          7.1879432624113475,
          7.882352941176471,
          7.55,
          7,
          7.8307926829268295,
          7.782012195121951,
          7.240845070422536,
          6.928571428571429,
          7,
          8.055555555555555,
          7.80672268907563,
          7.277777777777778,
          7,
          7.541598694942904,
          7.541666666666667,
          7.25,
          7.1521739130434785,
          7.269230769230769,
          7.3559322033898304,
          7.416666666666667,
          7.228260869565218,
          8,
          7.423076923076923,
          7.647058823529412,
          8.5,
          7.574380165289257,
          7.7613390928725705,
          7.706310679611651,
          8.5,
          7.615853658536586,
          7,
          7.58252427184466,
          7.507446808510639,
          7.829059829059829,
          7.738095238095238,
          7.85,
          7.455056179775281,
          8.563218390804598,
          8.5,
          7.833333333333333,
          7.822727272727272,
          7.840298507462687,
          7.117647058823529,
          7.792397660818714,
          8.394495412844037,
          8.652173913043478,
          8.9375,
          8.284615384615385,
          8.231550802139038,
          7.166666666666667,
          8.460869565217392,
          8.285714285714286,
          9.214285714285714,
          7.768505079825834,
          7.943950177935943,
          8.541666666666666,
          7.3,
          7.8507779349363505,
          7.970588235294118,
          8.857142857142858,
          9.314285714285715,
          8.75,
          8.534090909090908,
          7.8,
          9.166666666666666,
          8.088235294117647,
          8.203302961275627,
          8.50794621026895,
          8.496323529411764,
          7.958333333333333,
          9.333333333333334,
          8.72258064516129,
          8.800751879699249,
          8.91891891891892,
          7.921875,
          8.682539682539682,
          8.557777777777778,
          8.47872340425532,
          9.034013605442176,
          9.394736842105264,
          8.4,
          8.907692307692308,
          7.991116751269035,
          8.795180722891565,
          9.880952380952381,
          9.2,
          7.875,
          7.9375,
          8.376296296296296,
          8.34641873278237,
          8.989473684210527,
          8.175,
          8.08695652173913,
          9.063885267275097,
          9.366666666666667,
          9.479166666666666,
          8.855687606112054,
          9.627272727272727,
          9,
          10,
          9.738095238095237,
          9.302631578947368,
          9.185714285714285,
          9.378698224852071,
          9.6625,
          13.75,
          8.75,
          9.86111111111111,
          8.857142857142858,
          10.071428571428571,
          9.634615384615385,
          9.533185840707965,
          9.871647509578544,
          9.493788819875776,
          9.638461538461538,
          10.46,
          9.2012987012987,
          9.447368421052632,
          8.56140350877193,
          9.90983606557377,
          8.7875,
          10.178100263852242,
          9.875,
          9.090106007067138,
          9.468421052631578,
          9.214285714285714,
          8.723958333333334,
          9.977272727272727,
          10.40625,
          9.701923076923077,
          9.1,
          10.735294117647058,
          10.333333333333334,
          9.61111111111111,
          10.5,
          9.291666666666666,
          10.101941747572816,
          8.3125,
          10.75,
          10.75,
          8.857142857142858,
          10.53125,
          10.555555555555555,
          9.375,
          9.40234375,
          11,
          8.296452702702704,
          10.4,
          9.166666666666666,
          9.118609406952965,
          8.5,
          8.9921875,
          10.846560846560847,
          9.642857142857142,
          10,
          10.38,
          9.533333333333333,
          9.745283018867925,
          13,
          9.849348534201955,
          10.25,
          9.657446808510638,
          10.294520547945206,
          10,
          10.094055013309672,
          10.813775510204081,
          10.220588235294118,
          10.517241379310345,
          10.965909090909092,
          10.151898734177216,
          10.428115015974441,
          14.777777777777779,
          11.482142857142858,
          12.8125,
          10.394736842105264,
          10.36,
          11.768041237113403,
          10.976973684210526,
          9.780096308186195,
          11.857142857142858,
          9.507183908045977,
          12.788461538461538,
          10.830578512396695,
          11.357142857142858,
          13.785714285714286,
          10.775,
          11.472222222222221,
          11.4375,
          10.314814814814815,
          13.5625,
          10.88510101010101,
          11.916666666666666,
          11.522727272727273,
          10.55593220338983,
          10.783180026281208,
          10.94186046511628,
          16.25,
          10.935483870967742,
          10.546861564918315,
          11.142348754448399,
          11.5,
          12.75,
          11.75,
          11.059055118110237,
          10.366859623733719,
          11.678010471204189,
          10.653846153846153,
          13.166666666666666,
          10.75,
          9.909090909090908,
          9.884677419354839,
          10.751529987760097,
          9.13963963963964,
          10.52155172413793,
          11.75,
          10.743743743743744,
          10.92,
          9.69982847341338,
          10.643617021276595,
          10.095238095238095,
          14.2,
          10.696969696969697,
          11.1,
          10.833333333333334,
          12.222222222222221,
          10.295454545454545,
          14.25,
          11.592105263157896,
          10.5,
          10.784201954397394,
          12.5,
          18.125,
          11.038620689655172,
          12.195652173913043,
          14,
          9.60122699386503,
          10.755959849435383,
          11.727272727272727,
          11.078859060402685,
          11.669491525423728,
          11.947916666666666,
          12.38659793814433,
          11.666666666666666,
          13.125,
          10.785714285714286,
          12.5,
          11.252475247524753,
          11.546583850931677,
          11.019480519480519,
          13.166666666666666,
          11.78,
          11.314935064935066,
          12,
          11.292553191489361,
          12.621951219512194,
          12.25,
          13.714285714285714,
          12.411111111111111,
          12,
          11.666666666666666,
          14.4,
          11.401538461538461,
          11.2734375,
          12.833333333333334,
          11,
          11.962962962962964,
          17.375,
          10.754777070063694,
          17.833333333333332,
          11.156606851549755,
          12.6171875,
          11.92142857142857,
          11.598290598290598,
          12,
          11.688191881918819,
          11.159891598915989,
          12.452380952380953,
          12.189655172413794,
          12.25,
          12.277777777777779,
          13.166666666666666,
          11.375954198473282,
          12.357142857142858,
          11.125,
          14,
          11,
          12,
          11.642857142857142,
          13.055555555555555,
          14.153846153846153,
          13.852941176470589,
          15.375,
          13.833333333333334,
          12,
          13.166666666666666,
          13.5,
          13.357142857142858,
          12.333333333333334,
          11.5,
          13,
          14,
          13.25,
          14.5,
          12.307142857142857,
          13.2,
          12.5,
          13.75,
          13.25,
          14.666666666666666,
          12.8125,
          14,
          15,
          14.25,
          14.523809523809524,
          18.333333333333332,
          16.714285714285715,
          14.181818181818182,
          14,
          14,
          16.5,
          13,
          16,
          12.75,
          15.6875,
          15.333333333333334,
          14,
          15.5,
          14,
          18.96153846153846,
          15.375,
          14.3,
          14.5,
          16.5,
          14.38888888888889,
          12.767469879518073,
          15.058823529411764,
          13.073275862068966,
          14.403846153846153,
          13.43040293040293,
          13.125,
          17.25,
          13.516713091922005,
          16.2,
          13.347826086956522,
          13.75,
          12.75,
          13.34375,
          13.6,
          12.890151515151516,
          13.25,
          12.82882882882883,
          13.233333333333333,
          15,
          12.5,
          16,
          14.333333333333334,
          32,
          17,
          14.461625282167043,
          13.702380952380953,
          14.46774193548387,
          14.984848484848484,
          15.3,
          27,
          19,
          13.166666666666666,
          13.25,
          14.5,
          29.5,
          13,
          15.1,
          17.166666666666668,
          14.5,
          14.75,
          13.5,
          15.875,
          28.5,
          15,
          14.333333333333334,
          14,
          15.86039886039886,
          15.25,
          14.833333333333334,
          15.163333333333334,
          14.048484848484849,
          14.61111111111111,
          18.954545454545453,
          17.91304347826087,
          15.30952380952381,
          15.166666666666666,
          22.333333333333332,
          21.208333333333332,
          24.333333333333332,
          16.875,
          19.583333333333332,
          15.42,
          16,
          14.5,
          16,
          16.73111111111111,
          17.333333333333332,
          17,
          17.5
         ],
         "yaxis": "y"
        },
        {
         "hovertemplate": "name=UberXL<br>distance=%{x}<br>price=%{y}<extra></extra>",
         "legendgroup": "UberXL",
         "line": {
          "color": "#FFA15A",
          "dash": "solid"
         },
         "mode": "lines",
         "name": "UberXL",
         "showlegend": true,
         "type": "scattergl",
         "x": [
          0.02,
          0.03,
          0.04,
          0.12,
          0.17,
          0.27,
          0.29,
          0.3,
          0.35,
          0.38,
          0.39,
          0.4,
          0.47,
          0.49,
          0.5,
          0.52,
          0.53,
          0.54,
          0.55,
          0.56,
          0.58,
          0.59,
          0.6,
          0.61,
          0.62,
          0.63,
          0.65,
          0.66,
          0.67,
          0.68,
          0.7,
          0.71,
          0.72,
          0.73,
          0.76,
          0.78,
          0.79,
          0.8,
          0.81,
          0.82,
          0.85,
          0.86,
          0.88,
          0.89,
          0.9,
          0.91,
          0.92,
          0.93,
          0.94,
          0.97,
          0.98,
          0.99,
          1,
          1.01,
          1.02,
          1.03,
          1.04,
          1.05,
          1.06,
          1.07,
          1.08,
          1.09,
          1.1,
          1.11,
          1.12,
          1.13,
          1.14,
          1.16,
          1.17,
          1.18,
          1.19,
          1.2,
          1.21,
          1.22,
          1.23,
          1.24,
          1.25,
          1.26,
          1.27,
          1.28,
          1.29,
          1.3,
          1.31,
          1.32,
          1.33,
          1.34,
          1.35,
          1.36,
          1.37,
          1.38,
          1.39,
          1.4,
          1.41,
          1.42,
          1.43,
          1.44,
          1.45,
          1.46,
          1.47,
          1.48,
          1.49,
          1.5,
          1.51,
          1.52,
          1.53,
          1.54,
          1.55,
          1.56,
          1.57,
          1.58,
          1.59,
          1.6,
          1.61,
          1.62,
          1.63,
          1.64,
          1.65,
          1.66,
          1.67,
          1.68,
          1.69,
          1.7,
          1.71,
          1.72,
          1.73,
          1.74,
          1.75,
          1.76,
          1.77,
          1.78,
          1.79,
          1.8,
          1.81,
          1.82,
          1.83,
          1.84,
          1.85,
          1.86,
          1.87,
          1.88,
          1.89,
          1.9,
          1.91,
          1.92,
          1.93,
          1.94,
          1.95,
          1.96,
          1.97,
          1.98,
          1.99,
          2,
          2.01,
          2.02,
          2.03,
          2.04,
          2.05,
          2.06,
          2.07,
          2.08,
          2.09,
          2.1,
          2.11,
          2.12,
          2.13,
          2.14,
          2.15,
          2.16,
          2.17,
          2.18,
          2.19,
          2.2,
          2.21,
          2.22,
          2.23,
          2.24,
          2.25,
          2.26,
          2.27,
          2.28,
          2.29,
          2.3,
          2.31,
          2.32,
          2.33,
          2.34,
          2.35,
          2.36,
          2.37,
          2.38,
          2.39,
          2.4,
          2.41,
          2.42,
          2.43,
          2.44,
          2.45,
          2.46,
          2.47,
          2.48,
          2.49,
          2.5,
          2.51,
          2.52,
          2.53,
          2.54,
          2.55,
          2.56,
          2.57,
          2.58,
          2.59,
          2.6,
          2.61,
          2.62,
          2.63,
          2.64,
          2.65,
          2.66,
          2.67,
          2.68,
          2.69,
          2.7,
          2.71,
          2.72,
          2.73,
          2.74,
          2.75,
          2.77,
          2.78,
          2.79,
          2.8,
          2.81,
          2.82,
          2.83,
          2.84,
          2.85,
          2.86,
          2.87,
          2.88,
          2.89,
          2.9,
          2.91,
          2.92,
          2.93,
          2.94,
          2.95,
          2.96,
          2.97,
          2.98,
          2.99,
          3,
          3.01,
          3.02,
          3.03,
          3.04,
          3.05,
          3.06,
          3.07,
          3.08,
          3.09,
          3.1,
          3.11,
          3.12,
          3.13,
          3.14,
          3.15,
          3.16,
          3.17,
          3.18,
          3.19,
          3.2,
          3.21,
          3.22,
          3.23,
          3.24,
          3.25,
          3.26,
          3.27,
          3.28,
          3.29,
          3.3,
          3.31,
          3.32,
          3.33,
          3.34,
          3.35,
          3.37,
          3.38,
          3.39,
          3.4,
          3.41,
          3.42,
          3.43,
          3.44,
          3.45,
          3.46,
          3.47,
          3.5,
          3.51,
          3.52,
          3.53,
          3.54,
          3.55,
          3.56,
          3.57,
          3.58,
          3.59,
          3.61,
          3.63,
          3.64,
          3.65,
          3.66,
          3.67,
          3.69,
          3.7,
          3.71,
          3.72,
          3.73,
          3.74,
          3.75,
          3.76,
          3.78,
          3.79,
          3.8,
          3.81,
          3.82,
          3.85,
          3.89,
          3.91,
          3.92,
          3.94,
          3.95,
          3.96,
          3.97,
          3.98,
          3.99,
          4,
          4.03,
          4.04,
          4.05,
          4.07,
          4.1,
          4.12,
          4.13,
          4.15,
          4.17,
          4.28,
          4.3,
          4.31,
          4.33,
          4.35,
          4.38,
          4.39,
          4.4,
          4.41,
          4.42,
          4.43,
          4.44,
          4.46,
          4.47,
          4.48,
          4.49,
          4.5,
          4.51,
          4.52,
          4.53,
          4.54,
          4.55,
          4.56,
          4.57,
          4.58,
          4.59,
          4.6,
          4.62,
          4.65,
          4.7,
          4.71,
          4.72,
          4.73,
          4.74,
          4.76,
          4.78,
          4.79,
          4.8,
          4.82,
          4.84,
          4.86,
          4.9,
          4.91,
          4.93,
          4.94,
          4.96,
          4.98,
          5.02,
          5.1,
          5.12,
          5.16,
          5.46,
          5.47,
          5.56,
          5.66,
          5.69,
          5.7,
          6.26,
          6.27,
          6.83,
          6.91,
          6.97,
          7.04,
          7.18,
          7.19,
          7.2,
          7.24,
          7.25,
          7.34,
          7.36,
          7.38,
          7.45,
          7.46,
          7.5,
          7.62,
          7.86
         ],
         "xaxis": "x",
         "y": [
          8.7,
          8.573529411764707,
          8.5,
          8.5,
          8,
          8.5,
          8.5,
          8.5,
          8.5,
          8.5,
          9.687104930467763,
          8.6,
          11.176470588235293,
          9.815680880330124,
          8.5,
          9.428571428571429,
          10,
          10.431168831168831,
          10.673879443585781,
          10.31657223796034,
          11.117647058823529,
          11.5,
          8.928571428571429,
          10.478658536585366,
          10.75920245398773,
          10.543785310734464,
          10.36734693877551,
          9.5,
          12.38888888888889,
          10.277310924369749,
          10.333333333333334,
          9.5,
          11.28711256117455,
          11.425,
          11,
          10.630434782608695,
          10.423076923076923,
          11.122881355932204,
          10.916666666666666,
          10.630434782608695,
          12.45,
          11.307692307692308,
          11.794117647058824,
          12,
          11.450413223140496,
          11.825806451612904,
          11.766423357664234,
          11.5,
          11.542682926829269,
          9.5,
          11.389423076923077,
          11.33049040511727,
          11.978632478632479,
          11.595238095238095,
          12.125,
          11.417040358744394,
          12.120952380952382,
          13.25,
          12.373015873015873,
          11.059090909090909,
          11.956780923994039,
          10.617647058823529,
          11.719298245614034,
          12.926267281105991,
          13.130434782608695,
          12.96875,
          12.461538461538462,
          12.662753468516541,
          10.25,
          13.082608695652175,
          13.214285714285714,
          13.928571428571429,
          12.092485549132949,
          12.006238859180035,
          13.25794621026895,
          11.24,
          12.262039660056658,
          12.745098039215685,
          13.357142857142858,
          14.592857142857143,
          13,
          13.256472491909385,
          12.74,
          13.166666666666666,
          12.794117647058824,
          12.664578587699317,
          13.233536585365854,
          13.302583025830259,
          12.291666666666666,
          14.416666666666666,
          13.51602564102564,
          13.402255639097744,
          13.802707930367506,
          12.5625,
          13.507936507936508,
          13.451327433628318,
          13.425531914893616,
          13.860068259385665,
          14.157894736842104,
          12.9,
          14.392307692307693,
          13.439873417721518,
          13.909638554216867,
          15,
          14.375,
          13.125,
          13.0625,
          13.432692307692308,
          14.161643835616438,
          14.152631578947368,
          14.3,
          13.782608695652174,
          14.162337662337663,
          14.193333333333333,
          15.125,
          13.106292517006803,
          14.8,
          14.25,
          15.8,
          15.459183673469388,
          14.407894736842104,
          14.39047619047619,
          15.088757396449704,
          15.45,
          20,
          14.416666666666666,
          15.569444444444445,
          13.988095238095237,
          15.714285714285714,
          15.057692307692308,
          15.02212389380531,
          15.316443594646271,
          14.928571428571429,
          15.6,
          16.14,
          14.480519480519481,
          14.342105263157896,
          13.780701754385966,
          15.729508196721312,
          13.925,
          16.33641160949868,
          15.458333333333334,
          15.630281690140846,
          14.99736842105263,
          14.19047619047619,
          15.158854166666666,
          15.795454545454545,
          15.979166666666666,
          15.259615384615385,
          14.7,
          16.676470588235293,
          17.416666666666668,
          15.194444444444445,
          14.5,
          14.666666666666666,
          16.347087378640776,
          14.125,
          17,
          17,
          13.428571428571429,
          16.625,
          16.444444444444443,
          14.625,
          15.046875,
          17.25,
          14.589527027027026,
          16.366666666666667,
          14.666666666666666,
          14.67280163599182,
          13.5,
          14.4453125,
          17.58730158730159,
          15.214285714285714,
          15.736842105263158,
          16.06,
          15.366666666666667,
          15.358490566037736,
          20.5,
          15.683224755700326,
          16.833333333333332,
          15.756410256410257,
          16.607876712328768,
          16,
          16.23537234042553,
          17.512755102040817,
          16.43235294117647,
          15.982758620689655,
          17.511363636363637,
          16.303797468354432,
          16.910543130990416,
          23.444444444444443,
          18.785714285714285,
          18.8125,
          17.07894736842105,
          16.44,
          18.403061224489797,
          17.67105263157895,
          16.19614147909968,
          18.732142857142858,
          15.335724533715926,
          20.71153846153846,
          16.317307692307693,
          17.238095238095237,
          22.642857142857142,
          18.2,
          18.27777777777778,
          17.34375,
          16.374074074074073,
          21.53125,
          16.477272727272727,
          17.708333333333332,
          16.931818181818183,
          16.293074324324323,
          17.338582677165356,
          16.767441860465116,
          26.25,
          17.35483870967742,
          17.21102497846684,
          18.02135231316726,
          18.25,
          19.75,
          19.20138888888889,
          17.933070866141733,
          17.449494949494948,
          18.94764397905759,
          17.754807692307693,
          19.333333333333332,
          18.318181818181817,
          17.509090909090908,
          16.77741935483871,
          17.608404384896467,
          16.209821428571427,
          17.780172413793103,
          18.6875,
          17.67132867132867,
          18.22,
          17.564322469982848,
          18.221052631578946,
          17.444444444444443,
          20.6,
          17.333333333333332,
          17.7,
          17.5,
          19.38888888888889,
          17.363636363636363,
          23.75,
          18.38157894736842,
          17.5,
          18.146103896103895,
          20.22222222222222,
          29.5,
          18.20467032967033,
          18.717391304347824,
          20.75,
          17.946483180428135,
          17.992518703241895,
          19.145454545454545,
          18.846153846153847,
          18.83373786407767,
          19.395833333333332,
          20.015463917525775,
          18.833333333333332,
          21.5,
          18.261904761904763,
          20.454545454545453,
          18.742574257425744,
          18.99074074074074,
          17.993506493506494,
          20.761904761904763,
          19.18,
          18.915584415584416,
          19.125,
          18.991150442477878,
          20.98780487804878,
          20.578125,
          22,
          20.555555555555557,
          18.875,
          18.833333333333332,
          23.466666666666665,
          19.743865030674847,
          19.1875,
          22.583333333333332,
          18.875,
          20.48148148148148,
          27.75,
          19.52547770700637,
          29.416666666666668,
          19.262295081967213,
          21.4296875,
          19.614285714285714,
          20.76923076923077,
          19.9,
          19.476014760147603,
          18.602981029810298,
          20.142857142857142,
          21.275862068965516,
          20.25,
          19.333333333333332,
          24.166666666666668,
          19,
          21,
          18.75,
          23.7,
          19.5,
          20.375,
          19.428571428571427,
          22.080246913580247,
          22.76923076923077,
          23.014705882352942,
          24.625,
          22.416666666666668,
          21,
          20.5,
          22.75,
          20.571428571428573,
          21.75,
          19.5,
          21.25,
          23,
          20.5625,
          22.166666666666668,
          20.042857142857144,
          22.366666666666667,
          20.2,
          21.5,
          21.5625,
          24.833333333333332,
          20.125,
          24.625,
          22.5,
          23.75,
          22.392857142857142,
          28.666666666666668,
          26.166666666666668,
          23.5,
          22.25,
          20.5,
          24.25,
          21,
          25.75,
          20,
          25.375,
          24.5,
          23.5,
          26,
          23,
          28.884615384615383,
          23.375,
          23,
          22,
          25,
          23.944444444444443,
          22.01201923076923,
          24.823529411764707,
          21.676724137931036,
          23.5,
          23.247252747252748,
          22.125,
          26.5,
          22.85405027932961,
          26,
          22.67391304347826,
          22.75,
          21,
          22.28125,
          21.3,
          22.156565656565657,
          21.5,
          21.1981981981982,
          21.6,
          24,
          21.5,
          24,
          22.5,
          51.5,
          28,
          23.38888888888889,
          22.642857142857142,
          22.794354838709676,
          22.924242424242426,
          27,
          42.5,
          30.5,
          22.666666666666668,
          22.25,
          24.75,
          43.5,
          23,
          25.2,
          27.5,
          23,
          23,
          22.5,
          24.875,
          42.5,
          22.75,
          24.333333333333332,
          23,
          26.371794871794872,
          25,
          26.5,
          26.093333333333334,
          22.899390243902438,
          24.27777777777778,
          31.727272727272727,
          29.456521739130434,
          25.261904761904763,
          24.833333333333332,
          36.666666666666664,
          34.458333333333336,
          35.166666666666664,
          28.25,
          30.583333333333332,
          24.92,
          25.333333333333332,
          23,
          28,
          28.27777777777778,
          28.333333333333332,
          28.5,
          29.5
         ],
         "yaxis": "y"
        },
        {
         "hovertemplate": "name=WAV<br>distance=%{x}<br>price=%{y}<extra></extra>",
         "legendgroup": "WAV",
         "line": {
          "color": "#19d3f3",
          "dash": "solid"
         },
         "mode": "lines",
         "name": "WAV",
         "showlegend": true,
         "type": "scattergl",
         "x": [
          0.02,
          0.03,
          0.04,
          0.12,
          0.17,
          0.27,
          0.29,
          0.3,
          0.35,
          0.38,
          0.39,
          0.4,
          0.47,
          0.49,
          0.5,
          0.52,
          0.53,
          0.54,
          0.55,
          0.56,
          0.58,
          0.59,
          0.6,
          0.61,
          0.62,
          0.63,
          0.65,
          0.66,
          0.67,
          0.68,
          0.7,
          0.71,
          0.72,
          0.73,
          0.76,
          0.78,
          0.79,
          0.8,
          0.81,
          0.82,
          0.85,
          0.86,
          0.88,
          0.89,
          0.9,
          0.91,
          0.92,
          0.93,
          0.94,
          0.97,
          0.98,
          0.99,
          1,
          1.01,
          1.02,
          1.03,
          1.04,
          1.05,
          1.06,
          1.07,
          1.08,
          1.09,
          1.1,
          1.11,
          1.12,
          1.13,
          1.14,
          1.16,
          1.17,
          1.18,
          1.19,
          1.2,
          1.21,
          1.22,
          1.23,
          1.24,
          1.25,
          1.26,
          1.27,
          1.28,
          1.29,
          1.3,
          1.31,
          1.32,
          1.33,
          1.34,
          1.35,
          1.36,
          1.37,
          1.38,
          1.39,
          1.4,
          1.41,
          1.42,
          1.43,
          1.44,
          1.45,
          1.46,
          1.47,
          1.48,
          1.49,
          1.5,
          1.51,
          1.52,
          1.53,
          1.54,
          1.55,
          1.56,
          1.57,
          1.58,
          1.59,
          1.6,
          1.61,
          1.62,
          1.63,
          1.64,
          1.65,
          1.66,
          1.67,
          1.68,
          1.69,
          1.7,
          1.71,
          1.72,
          1.73,
          1.74,
          1.75,
          1.76,
          1.77,
          1.78,
          1.79,
          1.8,
          1.81,
          1.82,
          1.83,
          1.84,
          1.85,
          1.86,
          1.87,
          1.88,
          1.89,
          1.9,
          1.91,
          1.92,
          1.93,
          1.94,
          1.95,
          1.96,
          1.97,
          1.98,
          1.99,
          2,
          2.01,
          2.02,
          2.03,
          2.04,
          2.05,
          2.06,
          2.07,
          2.08,
          2.09,
          2.1,
          2.11,
          2.12,
          2.13,
          2.14,
          2.15,
          2.16,
          2.17,
          2.18,
          2.19,
          2.2,
          2.21,
          2.22,
          2.23,
          2.24,
          2.25,
          2.26,
          2.27,
          2.28,
          2.29,
          2.3,
          2.31,
          2.32,
          2.33,
          2.34,
          2.35,
          2.36,
          2.37,
          2.38,
          2.39,
          2.4,
          2.41,
          2.42,
          2.43,
          2.44,
          2.45,
          2.46,
          2.47,
          2.48,
          2.49,
          2.5,
          2.51,
          2.52,
          2.53,
          2.54,
          2.55,
          2.56,
          2.57,
          2.58,
          2.59,
          2.6,
          2.61,
          2.62,
          2.63,
          2.64,
          2.65,
          2.66,
          2.67,
          2.68,
          2.69,
          2.7,
          2.71,
          2.72,
          2.73,
          2.74,
          2.75,
          2.77,
          2.78,
          2.79,
          2.8,
          2.81,
          2.82,
          2.83,
          2.84,
          2.85,
          2.86,
          2.87,
          2.88,
          2.89,
          2.9,
          2.91,
          2.92,
          2.93,
          2.94,
          2.95,
          2.96,
          2.97,
          2.98,
          2.99,
          3,
          3.01,
          3.02,
          3.03,
          3.04,
          3.05,
          3.06,
          3.07,
          3.08,
          3.09,
          3.1,
          3.11,
          3.12,
          3.13,
          3.14,
          3.15,
          3.16,
          3.17,
          3.18,
          3.19,
          3.2,
          3.21,
          3.22,
          3.23,
          3.24,
          3.25,
          3.26,
          3.27,
          3.28,
          3.29,
          3.3,
          3.31,
          3.32,
          3.33,
          3.34,
          3.35,
          3.37,
          3.38,
          3.39,
          3.4,
          3.41,
          3.42,
          3.43,
          3.44,
          3.45,
          3.46,
          3.47,
          3.5,
          3.51,
          3.52,
          3.53,
          3.54,
          3.55,
          3.56,
          3.57,
          3.58,
          3.59,
          3.61,
          3.63,
          3.64,
          3.65,
          3.66,
          3.67,
          3.69,
          3.7,
          3.71,
          3.72,
          3.73,
          3.74,
          3.75,
          3.76,
          3.78,
          3.79,
          3.8,
          3.81,
          3.82,
          3.85,
          3.89,
          3.91,
          3.92,
          3.94,
          3.95,
          3.96,
          3.97,
          3.98,
          3.99,
          4,
          4.03,
          4.04,
          4.05,
          4.07,
          4.1,
          4.12,
          4.13,
          4.15,
          4.17,
          4.28,
          4.3,
          4.31,
          4.33,
          4.35,
          4.38,
          4.39,
          4.4,
          4.41,
          4.42,
          4.43,
          4.44,
          4.46,
          4.47,
          4.48,
          4.49,
          4.5,
          4.51,
          4.52,
          4.53,
          4.54,
          4.55,
          4.56,
          4.57,
          4.58,
          4.59,
          4.6,
          4.62,
          4.65,
          4.7,
          4.71,
          4.72,
          4.73,
          4.74,
          4.76,
          4.78,
          4.79,
          4.8,
          4.82,
          4.84,
          4.86,
          4.9,
          4.91,
          4.93,
          4.94,
          4.96,
          4.98,
          5.02,
          5.1,
          5.12,
          5.16,
          5.46,
          5.47,
          5.56,
          5.66,
          5.69,
          5.7,
          6.26,
          6.27,
          6.83,
          6.91,
          6.97,
          7.04,
          7.18,
          7.19,
          7.2,
          7.24,
          7.25,
          7.34,
          7.36,
          7.38,
          7.45,
          7.46,
          7.5,
          7.62,
          7.86
         ],
         "xaxis": "x",
         "y": [
          6.7,
          7.147058823529412,
          7,
          7,
          7,
          7,
          7,
          7,
          7,
          7,
          7.17725540025413,
          7.1,
          7.5588235294117645,
          7.174965421853389,
          6.5,
          7,
          7,
          7.261658031088083,
          7.513198757763975,
          7.187677053824363,
          7.882352941176471,
          7.55,
          7,
          7.8318042813455655,
          7.782012195121951,
          7.240845070422536,
          6.928571428571429,
          7,
          8.055555555555555,
          7.80672268907563,
          7.277777777777778,
          7,
          7.5424143556280585,
          7.541666666666667,
          7.25,
          7.1521739130434785,
          7.269230769230769,
          7.3559322033898304,
          7.416666666666667,
          7.228260869565218,
          8,
          7.423076923076923,
          7.647058823529412,
          8.5,
          7.574380165289257,
          7.758064516129032,
          7.706310679611651,
          8.5,
          7.615853658536586,
          7,
          7.579710144927536,
          7.506369426751593,
          7.829059829059829,
          7.738095238095238,
          7.85,
          7.4540358744394615,
          8.562022900763358,
          8.5,
          7.833333333333333,
          7.822727272727272,
          7.837817638266069,
          7.117647058823529,
          7.792397660818714,
          8.394495412844037,
          8.652173913043478,
          8.9375,
          8.284615384615385,
          8.234190782422294,
          7.166666666666667,
          8.460869565217392,
          8.285714285714286,
          9.214285714285714,
          7.764790764790765,
          7.943950177935943,
          8.54034229828851,
          7.3,
          7.849645390070922,
          7.970588235294118,
          8.857142857142858,
          9.314285714285715,
          8.75,
          8.534035656401946,
          7.8,
          9.166666666666666,
          8.088235294117647,
          8.203196347031964,
          8.50548780487805,
          8.496323529411764,
          7.958333333333333,
          9.333333333333334,
          8.72258064516129,
          8.800751879699249,
          8.923597678916828,
          7.921875,
          8.682539682539682,
          8.555309734513274,
          8.47872340425532,
          9.034013605442176,
          9.394736842105264,
          8.4,
          8.907692307692308,
          7.991761723700887,
          8.795180722891565,
          9.880952380952381,
          9.2,
          7.875,
          7.9375,
          8.377596439169139,
          8.349108367626886,
          8.989473684210527,
          8.175,
          8.08695652173913,
          9.06103896103896,
          9.366666666666667,
          9.479166666666666,
          8.85677966101695,
          9.627272727272727,
          9,
          10,
          9.738095238095237,
          9.302631578947368,
          9.185714285714285,
          9.383928571428571,
          9.6625,
          13.75,
          8.75,
          9.86111111111111,
          8.857142857142858,
          10.071428571428571,
          9.634615384615385,
          9.533185840707965,
          9.870229007633588,
          9.493788819875776,
          9.638461538461538,
          10.46,
          9.2012987012987,
          9.447368421052632,
          8.571428571428571,
          9.90983606557377,
          8.7875,
          10.178100263852242,
          9.875,
          9.090106007067138,
          9.468421052631578,
          9.214285714285714,
          8.723958333333334,
          9.977272727272727,
          10.40625,
          9.704819277108435,
          9.1,
          10.735294117647058,
          10.333333333333334,
          9.61111111111111,
          10.5,
          9.291666666666666,
          10.101941747572816,
          8.3125,
          10.75,
          10.75,
          8.857142857142858,
          10.53125,
          10.555555555555555,
          9.375,
          9.40234375,
          11,
          8.295608108108109,
          10.4,
          9.166666666666666,
          9.11963190184049,
          8.5,
          8.990272373540856,
          10.846560846560847,
          9.642857142857142,
          10,
          10.38,
          9.533333333333333,
          9.745283018867925,
          13,
          9.849918433931485,
          10.25,
          9.657446808510638,
          10.29725085910653,
          10,
          10.093611357586513,
          10.813775510204081,
          10.220588235294118,
          10.517241379310345,
          10.965909090909092,
          10.151898734177216,
          10.428115015974441,
          14.777777777777779,
          11.482142857142858,
          12.8125,
          10.394736842105264,
          10.36,
          11.770408163265307,
          10.976973684210526,
          9.781451612903226,
          11.857142857142858,
          9.507183908045977,
          12.788461538461538,
          10.830578512396695,
          11.357142857142858,
          13.785714285714286,
          10.775,
          11.472222222222221,
          11.4375,
          10.314814814814815,
          13.5625,
          10.885390428211586,
          11.916666666666666,
          11.522727272727273,
          10.55668358714044,
          10.785620052770449,
          10.94186046511628,
          16.25,
          10.935483870967742,
          10.547886108714408,
          11.142348754448399,
          11.5,
          12.75,
          11.75,
          11.059055118110237,
          10.365606936416185,
          11.678010471204189,
          10.653846153846153,
          13.166666666666666,
          10.75,
          9.909090909090908,
          9.884677419354839,
          10.749082007343942,
          9.145454545454545,
          10.52155172413793,
          11.75,
          10.7464859437751,
          10.92,
          9.701890034364261,
          10.631578947368421,
          10.095238095238095,
          14.2,
          10.696969696969697,
          11.1,
          10.833333333333334,
          12.222222222222221,
          10.295454545454545,
          14.25,
          11.592105263157896,
          10.5,
          10.784201954397394,
          12.5,
          18.125,
          11.037878787878787,
          12.195652173913043,
          14,
          9.601694915254237,
          10.755,
          11.727272727272727,
          11.076086956521738,
          11.669491525423728,
          11.947916666666666,
          12.38659793814433,
          11.666666666666666,
          13.125,
          10.785714285714286,
          12.5,
          11.255,
          11.546296296296296,
          11.019480519480519,
          13.166666666666666,
          11.78,
          11.314935064935066,
          12,
          11.293805309734513,
          12.621951219512194,
          12.25,
          13.714285714285714,
          12.411111111111111,
          12,
          11.666666666666666,
          14.4,
          11.399539877300613,
          11.2734375,
          12.833333333333334,
          11,
          11.962962962962964,
          17.375,
          10.754777070063694,
          17.833333333333332,
          11.155537459283387,
          12.6171875,
          11.92142857142857,
          11.615384615384615,
          12,
          11.688191881918819,
          11.159891598915989,
          12.452380952380953,
          12.189655172413794,
          12.25,
          12.277777777777779,
          13.166666666666666,
          11.379310344827585,
          12.357142857142858,
          11.125,
          14,
          11,
          12,
          11.642857142857142,
          13.055555555555555,
          14.153846153846153,
          13.852941176470589,
          15.375,
          13.833333333333334,
          12,
          13.166666666666666,
          13.5,
          13.357142857142858,
          12.333333333333334,
          11.5,
          13,
          14,
          13.25,
          14.5,
          12.307142857142857,
          13.2,
          12.5,
          13.75,
          13.25,
          14.666666666666666,
          12.8125,
          14,
          15,
          14.25,
          14.523809523809524,
          18.333333333333332,
          16.714285714285715,
          14.181818181818182,
          14,
          14,
          16.5,
          13,
          16,
          12.75,
          15.6875,
          15.333333333333334,
          14,
          15.5,
          14,
          18.96153846153846,
          15.375,
          14.3,
          14.5,
          16.5,
          14.38888888888889,
          12.771084337349398,
          15.058823529411764,
          13.073275862068966,
          14.403846153846153,
          13.43040293040293,
          13.125,
          17.25,
          13.516061452513966,
          16.2,
          13.347826086956522,
          13.75,
          12.75,
          13.34375,
          13.6,
          12.890151515151516,
          13.25,
          12.82882882882883,
          13.233333333333333,
          15,
          12.5,
          16,
          14.333333333333334,
          32,
          17,
          14.462669683257918,
          13.702380952380953,
          14.46774193548387,
          14.984848484848484,
          15.3,
          27,
          19,
          13.166666666666666,
          13.25,
          14.5,
          29.5,
          13,
          15.1,
          17.166666666666668,
          14.5,
          14.75,
          13.5,
          15.875,
          28.5,
          15,
          14.333333333333334,
          14,
          15.86039886039886,
          15.25,
          14.833333333333334,
          15.163333333333334,
          14.048484848484849,
          14.61111111111111,
          18.954545454545453,
          17.91304347826087,
          15.30952380952381,
          15.166666666666666,
          22.333333333333332,
          21.208333333333332,
          24.333333333333332,
          16.875,
          19.583333333333332,
          15.42,
          16,
          14.5,
          16,
          16.73111111111111,
          17.333333333333332,
          17,
          17.5
         ],
         "yaxis": "y"
        }
       ],
       "layout": {
        "legend": {
         "title": {
          "text": "name"
         },
         "tracegroupgap": 0
        },
        "margin": {
         "t": 60
        },
        "template": {
         "data": {
          "bar": [
           {
            "error_x": {
             "color": "#2a3f5f"
            },
            "error_y": {
             "color": "#2a3f5f"
            },
            "marker": {
             "line": {
              "color": "#E5ECF6",
              "width": 0.5
             }
            },
            "type": "bar"
           }
          ],
          "barpolar": [
           {
            "marker": {
             "line": {
              "color": "#E5ECF6",
              "width": 0.5
             }
            },
            "type": "barpolar"
           }
          ],
          "carpet": [
           {
            "aaxis": {
             "endlinecolor": "#2a3f5f",
             "gridcolor": "white",
             "linecolor": "white",
             "minorgridcolor": "white",
             "startlinecolor": "#2a3f5f"
            },
            "baxis": {
             "endlinecolor": "#2a3f5f",
             "gridcolor": "white",
             "linecolor": "white",
             "minorgridcolor": "white",
             "startlinecolor": "#2a3f5f"
            },
            "type": "carpet"
           }
          ],
          "choropleth": [
           {
            "colorbar": {
             "outlinewidth": 0,
             "ticks": ""
            },
            "type": "choropleth"
           }
          ],
          "contour": [
           {
            "colorbar": {
             "outlinewidth": 0,
             "ticks": ""
            },
            "colorscale": [
             [
              0,
              "#0d0887"
             ],
             [
              0.1111111111111111,
              "#46039f"
             ],
             [
              0.2222222222222222,
              "#7201a8"
             ],
             [
              0.3333333333333333,
              "#9c179e"
             ],
             [
              0.4444444444444444,
              "#bd3786"
             ],
             [
              0.5555555555555556,
              "#d8576b"
             ],
             [
              0.6666666666666666,
              "#ed7953"
             ],
             [
              0.7777777777777778,
              "#fb9f3a"
             ],
             [
              0.8888888888888888,
              "#fdca26"
             ],
             [
              1,
              "#f0f921"
             ]
            ],
            "type": "contour"
           }
          ],
          "contourcarpet": [
           {
            "colorbar": {
             "outlinewidth": 0,
             "ticks": ""
            },
            "type": "contourcarpet"
           }
          ],
          "heatmap": [
           {
            "colorbar": {
             "outlinewidth": 0,
             "ticks": ""
            },
            "colorscale": [
             [
              0,
              "#0d0887"
             ],
             [
              0.1111111111111111,
              "#46039f"
             ],
             [
              0.2222222222222222,
              "#7201a8"
             ],
             [
              0.3333333333333333,
              "#9c179e"
             ],
             [
              0.4444444444444444,
              "#bd3786"
             ],
             [
              0.5555555555555556,
              "#d8576b"
             ],
             [
              0.6666666666666666,
              "#ed7953"
             ],
             [
              0.7777777777777778,
              "#fb9f3a"
             ],
             [
              0.8888888888888888,
              "#fdca26"
             ],
             [
              1,
              "#f0f921"
             ]
            ],
            "type": "heatmap"
           }
          ],
          "heatmapgl": [
           {
            "colorbar": {
             "outlinewidth": 0,
             "ticks": ""
            },
            "colorscale": [
             [
              0,
              "#0d0887"
             ],
             [
              0.1111111111111111,
              "#46039f"
             ],
             [
              0.2222222222222222,
              "#7201a8"
             ],
             [
              0.3333333333333333,
              "#9c179e"
             ],
             [
              0.4444444444444444,
              "#bd3786"
             ],
             [
              0.5555555555555556,
              "#d8576b"
             ],
             [
              0.6666666666666666,
              "#ed7953"
             ],
             [
              0.7777777777777778,
              "#fb9f3a"
             ],
             [
              0.8888888888888888,
              "#fdca26"
             ],
             [
              1,
              "#f0f921"
             ]
            ],
            "type": "heatmapgl"
           }
          ],
          "histogram": [
           {
            "marker": {
             "colorbar": {
              "outlinewidth": 0,
              "ticks": ""
             }
            },
            "type": "histogram"
           }
          ],
          "histogram2d": [
           {
            "colorbar": {
             "outlinewidth": 0,
             "ticks": ""
            },
            "colorscale": [
             [
              0,
              "#0d0887"
             ],
             [
              0.1111111111111111,
              "#46039f"
             ],
             [
              0.2222222222222222,
              "#7201a8"
             ],
             [
              0.3333333333333333,
              "#9c179e"
             ],
             [
              0.4444444444444444,
              "#bd3786"
             ],
             [
              0.5555555555555556,
              "#d8576b"
             ],
             [
              0.6666666666666666,
              "#ed7953"
             ],
             [
              0.7777777777777778,
              "#fb9f3a"
             ],
             [
              0.8888888888888888,
              "#fdca26"
             ],
             [
              1,
              "#f0f921"
             ]
            ],
            "type": "histogram2d"
           }
          ],
          "histogram2dcontour": [
           {
            "colorbar": {
             "outlinewidth": 0,
             "ticks": ""
            },
            "colorscale": [
             [
              0,
              "#0d0887"
             ],
             [
              0.1111111111111111,
              "#46039f"
             ],
             [
              0.2222222222222222,
              "#7201a8"
             ],
             [
              0.3333333333333333,
              "#9c179e"
             ],
             [
              0.4444444444444444,
              "#bd3786"
             ],
             [
              0.5555555555555556,
              "#d8576b"
             ],
             [
              0.6666666666666666,
              "#ed7953"
             ],
             [
              0.7777777777777778,
              "#fb9f3a"
             ],
             [
              0.8888888888888888,
              "#fdca26"
             ],
             [
              1,
              "#f0f921"
             ]
            ],
            "type": "histogram2dcontour"
           }
          ],
          "mesh3d": [
           {
            "colorbar": {
             "outlinewidth": 0,
             "ticks": ""
            },
            "type": "mesh3d"
           }
          ],
          "parcoords": [
           {
            "line": {
             "colorbar": {
              "outlinewidth": 0,
              "ticks": ""
             }
            },
            "type": "parcoords"
           }
          ],
          "pie": [
           {
            "automargin": true,
            "type": "pie"
           }
          ],
          "scatter": [
           {
            "marker": {
             "colorbar": {
              "outlinewidth": 0,
              "ticks": ""
             }
            },
            "type": "scatter"
           }
          ],
          "scatter3d": [
           {
            "line": {
             "colorbar": {
              "outlinewidth": 0,
              "ticks": ""
             }
            },
            "marker": {
             "colorbar": {
              "outlinewidth": 0,
              "ticks": ""
             }
            },
            "type": "scatter3d"
           }
          ],
          "scattercarpet": [
           {
            "marker": {
             "colorbar": {
              "outlinewidth": 0,
              "ticks": ""
             }
            },
            "type": "scattercarpet"
           }
          ],
          "scattergeo": [
           {
            "marker": {
             "colorbar": {
              "outlinewidth": 0,
              "ticks": ""
             }
            },
            "type": "scattergeo"
           }
          ],
          "scattergl": [
           {
            "marker": {
             "colorbar": {
              "outlinewidth": 0,
              "ticks": ""
             }
            },
            "type": "scattergl"
           }
          ],
          "scattermapbox": [
           {
            "marker": {
             "colorbar": {
              "outlinewidth": 0,
              "ticks": ""
             }
            },
            "type": "scattermapbox"
           }
          ],
          "scatterpolar": [
           {
            "marker": {
             "colorbar": {
              "outlinewidth": 0,
              "ticks": ""
             }
            },
            "type": "scatterpolar"
           }
          ],
          "scatterpolargl": [
           {
            "marker": {
             "colorbar": {
              "outlinewidth": 0,
              "ticks": ""
             }
            },
            "type": "scatterpolargl"
           }
          ],
          "scatterternary": [
           {
            "marker": {
             "colorbar": {
              "outlinewidth": 0,
              "ticks": ""
             }
            },
            "type": "scatterternary"
           }
          ],
          "surface": [
           {
            "colorbar": {
             "outlinewidth": 0,
             "ticks": ""
            },
            "colorscale": [
             [
              0,
              "#0d0887"
             ],
             [
              0.1111111111111111,
              "#46039f"
             ],
             [
              0.2222222222222222,
              "#7201a8"
             ],
             [
              0.3333333333333333,
              "#9c179e"
             ],
             [
              0.4444444444444444,
              "#bd3786"
             ],
             [
              0.5555555555555556,
              "#d8576b"
             ],
             [
              0.6666666666666666,
              "#ed7953"
             ],
             [
              0.7777777777777778,
              "#fb9f3a"
             ],
             [
              0.8888888888888888,
              "#fdca26"
             ],
             [
              1,
              "#f0f921"
             ]
            ],
            "type": "surface"
           }
          ],
          "table": [
           {
            "cells": {
             "fill": {
              "color": "#EBF0F8"
             },
             "line": {
              "color": "white"
             }
            },
            "header": {
             "fill": {
              "color": "#C8D4E3"
             },
             "line": {
              "color": "white"
             }
            },
            "type": "table"
           }
          ]
         },
         "layout": {
          "annotationdefaults": {
           "arrowcolor": "#2a3f5f",
           "arrowhead": 0,
           "arrowwidth": 1
          },
          "autotypenumbers": "strict",
          "coloraxis": {
           "colorbar": {
            "outlinewidth": 0,
            "ticks": ""
           }
          },
          "colorscale": {
           "diverging": [
            [
             0,
             "#8e0152"
            ],
            [
             0.1,
             "#c51b7d"
            ],
            [
             0.2,
             "#de77ae"
            ],
            [
             0.3,
             "#f1b6da"
            ],
            [
             0.4,
             "#fde0ef"
            ],
            [
             0.5,
             "#f7f7f7"
            ],
            [
             0.6,
             "#e6f5d0"
            ],
            [
             0.7,
             "#b8e186"
            ],
            [
             0.8,
             "#7fbc41"
            ],
            [
             0.9,
             "#4d9221"
            ],
            [
             1,
             "#276419"
            ]
           ],
           "sequential": [
            [
             0,
             "#0d0887"
            ],
            [
             0.1111111111111111,
             "#46039f"
            ],
            [
             0.2222222222222222,
             "#7201a8"
            ],
            [
             0.3333333333333333,
             "#9c179e"
            ],
            [
             0.4444444444444444,
             "#bd3786"
            ],
            [
             0.5555555555555556,
             "#d8576b"
            ],
            [
             0.6666666666666666,
             "#ed7953"
            ],
            [
             0.7777777777777778,
             "#fb9f3a"
            ],
            [
             0.8888888888888888,
             "#fdca26"
            ],
            [
             1,
             "#f0f921"
            ]
           ],
           "sequentialminus": [
            [
             0,
             "#0d0887"
            ],
            [
             0.1111111111111111,
             "#46039f"
            ],
            [
             0.2222222222222222,
             "#7201a8"
            ],
            [
             0.3333333333333333,
             "#9c179e"
            ],
            [
             0.4444444444444444,
             "#bd3786"
            ],
            [
             0.5555555555555556,
             "#d8576b"
            ],
            [
             0.6666666666666666,
             "#ed7953"
            ],
            [
             0.7777777777777778,
             "#fb9f3a"
            ],
            [
             0.8888888888888888,
             "#fdca26"
            ],
            [
             1,
             "#f0f921"
            ]
           ]
          },
          "colorway": [
           "#636efa",
           "#EF553B",
           "#00cc96",
           "#ab63fa",
           "#FFA15A",
           "#19d3f3",
           "#FF6692",
           "#B6E880",
           "#FF97FF",
           "#FECB52"
          ],
          "font": {
           "color": "#2a3f5f"
          },
          "geo": {
           "bgcolor": "white",
           "lakecolor": "white",
           "landcolor": "#E5ECF6",
           "showlakes": true,
           "showland": true,
           "subunitcolor": "white"
          },
          "hoverlabel": {
           "align": "left"
          },
          "hovermode": "closest",
          "mapbox": {
           "style": "light"
          },
          "paper_bgcolor": "white",
          "plot_bgcolor": "#E5ECF6",
          "polar": {
           "angularaxis": {
            "gridcolor": "white",
            "linecolor": "white",
            "ticks": ""
           },
           "bgcolor": "#E5ECF6",
           "radialaxis": {
            "gridcolor": "white",
            "linecolor": "white",
            "ticks": ""
           }
          },
          "scene": {
           "xaxis": {
            "backgroundcolor": "#E5ECF6",
            "gridcolor": "white",
            "gridwidth": 2,
            "linecolor": "white",
            "showbackground": true,
            "ticks": "",
            "zerolinecolor": "white"
           },
           "yaxis": {
            "backgroundcolor": "#E5ECF6",
            "gridcolor": "white",
            "gridwidth": 2,
            "linecolor": "white",
            "showbackground": true,
            "ticks": "",
            "zerolinecolor": "white"
           },
           "zaxis": {
            "backgroundcolor": "#E5ECF6",
            "gridcolor": "white",
            "gridwidth": 2,
            "linecolor": "white",
            "showbackground": true,
            "ticks": "",
            "zerolinecolor": "white"
           }
          },
          "shapedefaults": {
           "line": {
            "color": "#2a3f5f"
           }
          },
          "ternary": {
           "aaxis": {
            "gridcolor": "white",
            "linecolor": "white",
            "ticks": ""
           },
           "baxis": {
            "gridcolor": "white",
            "linecolor": "white",
            "ticks": ""
           },
           "bgcolor": "#E5ECF6",
           "caxis": {
            "gridcolor": "white",
            "linecolor": "white",
            "ticks": ""
           }
          },
          "title": {
           "x": 0.05
          },
          "xaxis": {
           "automargin": true,
           "gridcolor": "white",
           "linecolor": "white",
           "ticks": "",
           "title": {
            "standoff": 15
           },
           "zerolinecolor": "white",
           "zerolinewidth": 2
          },
          "yaxis": {
           "automargin": true,
           "gridcolor": "white",
           "linecolor": "white",
           "ticks": "",
           "title": {
            "standoff": 15
           },
           "zerolinecolor": "white",
           "zerolinewidth": 2
          }
         }
        },
        "xaxis": {
         "anchor": "y",
         "domain": [
          0,
          1
         ],
         "title": {
          "text": "distance"
         }
        },
        "yaxis": {
         "anchor": "x",
         "domain": [
          0,
          1
         ],
         "title": {
          "text": "price"
         }
        }
       }
      },
      "text/html": [
       "<div>                            <div id=\"ef6bf1df-3b92-4b41-bfcd-d5ad6bc74185\" class=\"plotly-graph-div\" style=\"height:525px; width:100%;\"></div>            <script type=\"text/javascript\">                require([\"plotly\"], function(Plotly) {                    window.PLOTLYENV=window.PLOTLYENV || {};                                    if (document.getElementById(\"ef6bf1df-3b92-4b41-bfcd-d5ad6bc74185\")) {                    Plotly.newPlot(                        \"ef6bf1df-3b92-4b41-bfcd-d5ad6bc74185\",                        [{\"hovertemplate\": \"name=Black<br>distance=%{x}<br>price=%{y}<extra></extra>\", \"legendgroup\": \"Black\", \"line\": {\"color\": \"#636efa\", \"dash\": \"solid\"}, \"mode\": \"lines\", \"name\": \"Black\", \"showlegend\": true, \"type\": \"scattergl\", \"x\": [0.02, 0.03, 0.04, 0.12, 0.17, 0.27, 0.29, 0.3, 0.35, 0.38, 0.39, 0.4, 0.47, 0.49, 0.5, 0.52, 0.53, 0.54, 0.55, 0.56, 0.58, 0.59, 0.6, 0.61, 0.62, 0.63, 0.65, 0.66, 0.67, 0.68, 0.7, 0.71, 0.72, 0.73, 0.76, 0.78, 0.79, 0.8, 0.81, 0.82, 0.85, 0.86, 0.88, 0.89, 0.9, 0.91, 0.92, 0.93, 0.94, 0.97, 0.98, 0.99, 1.0, 1.01, 1.02, 1.03, 1.04, 1.05, 1.06, 1.07, 1.08, 1.09, 1.1, 1.11, 1.12, 1.13, 1.14, 1.16, 1.17, 1.18, 1.19, 1.2, 1.21, 1.22, 1.23, 1.24, 1.25, 1.26, 1.27, 1.28, 1.29, 1.3, 1.31, 1.32, 1.33, 1.34, 1.35, 1.36, 1.37, 1.38, 1.39, 1.4, 1.41, 1.42, 1.43, 1.44, 1.45, 1.46, 1.47, 1.48, 1.49, 1.5, 1.51, 1.52, 1.53, 1.54, 1.55, 1.56, 1.57, 1.58, 1.59, 1.6, 1.61, 1.62, 1.63, 1.64, 1.65, 1.66, 1.67, 1.68, 1.69, 1.7, 1.71, 1.72, 1.73, 1.74, 1.75, 1.76, 1.77, 1.78, 1.79, 1.8, 1.81, 1.82, 1.83, 1.84, 1.85, 1.86, 1.87, 1.88, 1.89, 1.9, 1.91, 1.92, 1.93, 1.94, 1.95, 1.96, 1.97, 1.98, 1.99, 2.0, 2.01, 2.02, 2.03, 2.04, 2.05, 2.06, 2.07, 2.08, 2.09, 2.1, 2.11, 2.12, 2.13, 2.14, 2.15, 2.16, 2.17, 2.18, 2.19, 2.2, 2.21, 2.22, 2.23, 2.24, 2.25, 2.26, 2.27, 2.28, 2.29, 2.3, 2.31, 2.32, 2.33, 2.34, 2.35, 2.36, 2.37, 2.38, 2.39, 2.4, 2.41, 2.42, 2.43, 2.44, 2.45, 2.46, 2.47, 2.48, 2.49, 2.5, 2.51, 2.52, 2.53, 2.54, 2.55, 2.56, 2.57, 2.58, 2.59, 2.6, 2.61, 2.62, 2.63, 2.64, 2.65, 2.66, 2.67, 2.68, 2.69, 2.7, 2.71, 2.72, 2.73, 2.74, 2.75, 2.77, 2.78, 2.79, 2.8, 2.81, 2.82, 2.83, 2.84, 2.85, 2.86, 2.87, 2.88, 2.89, 2.9, 2.91, 2.92, 2.93, 2.94, 2.95, 2.96, 2.97, 2.98, 2.99, 3.0, 3.01, 3.02, 3.03, 3.04, 3.05, 3.06, 3.07, 3.08, 3.09, 3.1, 3.11, 3.12, 3.13, 3.14, 3.15, 3.16, 3.17, 3.18, 3.19, 3.2, 3.21, 3.22, 3.23, 3.24, 3.25, 3.26, 3.27, 3.28, 3.29, 3.3, 3.31, 3.32, 3.33, 3.34, 3.35, 3.37, 3.38, 3.39, 3.4, 3.41, 3.42, 3.43, 3.44, 3.45, 3.46, 3.47, 3.5, 3.51, 3.52, 3.53, 3.54, 3.55, 3.56, 3.57, 3.58, 3.59, 3.61, 3.63, 3.64, 3.65, 3.66, 3.67, 3.69, 3.7, 3.71, 3.72, 3.73, 3.74, 3.75, 3.76, 3.78, 3.79, 3.8, 3.81, 3.82, 3.85, 3.89, 3.91, 3.92, 3.94, 3.95, 3.96, 3.97, 3.98, 3.99, 4.0, 4.03, 4.04, 4.05, 4.07, 4.1, 4.12, 4.13, 4.15, 4.17, 4.28, 4.3, 4.31, 4.33, 4.35, 4.38, 4.39, 4.4, 4.41, 4.42, 4.43, 4.44, 4.46, 4.47, 4.48, 4.49, 4.5, 4.51, 4.52, 4.53, 4.54, 4.55, 4.56, 4.57, 4.58, 4.59, 4.6, 4.62, 4.65, 4.7, 4.71, 4.72, 4.73, 4.74, 4.76, 4.78, 4.79, 4.8, 4.82, 4.84, 4.86, 4.9, 4.91, 4.93, 4.94, 4.96, 4.98, 5.02, 5.1, 5.12, 5.16, 5.46, 5.47, 5.56, 5.66, 5.69, 5.7, 6.26, 6.27, 6.83, 6.91, 6.97, 7.04, 7.18, 7.19, 7.2, 7.24, 7.25, 7.34, 7.36, 7.38, 7.45, 7.46, 7.5, 7.62, 7.86], \"xaxis\": \"x\", \"y\": [15.0, 15.264705882352942, 15.0, 15.0, 16.0, 15.0, 15.0, 15.666666666666666, 15.0, 15.0, 15.630102040816327, 15.0, 15.852941176470589, 15.623098201936376, 15.0, 15.142857142857142, 15.583333333333334, 15.688802083333334, 15.605100463678516, 15.602272727272727, 15.568627450980392, 15.75, 15.142857142857142, 15.60790273556231, 15.668711656441717, 15.56338028169014, 15.693877551020408, 15.0, 15.925925925925926, 15.373949579831933, 15.527777777777779, 15.0, 15.635179153094462, 15.491666666666667, 15.5, 15.673913043478262, 15.346153846153847, 15.64406779661017, 15.583333333333334, 15.456521739130435, 16.0, 15.73076923076923, 15.852941176470589, 15.5, 15.661157024793388, 15.800429184549357, 15.927007299270073, 16.0, 15.628048780487806, 16.0, 15.591787439613526, 15.662740899357601, 15.83974358974359, 15.523809523809524, 15.525, 15.539414414414415, 15.79293893129771, 17.0, 16.047619047619047, 15.354545454545455, 15.651492537313432, 15.117647058823529, 15.426470588235293, 16.407834101382488, 16.967391304347824, 16.40625, 16.23846153846154, 16.365631691648822, 15.666666666666666, 16.908695652173915, 15.976190476190476, 16.357142857142858, 15.704479768786127, 15.383244206773618, 16.773838630806846, 15.52, 15.842291371994342, 15.72549019607843, 17.142857142857142, 17.35, 16.5, 16.717532467532468, 16.68, 16.666666666666668, 16.852941176470587, 15.867196367763905, 16.8998778998779, 17.090073529411764, 16.63888888888889, 17.333333333333332, 16.57051282051282, 16.93984962406015, 17.472490347490346, 16.28125, 16.19047619047619, 17.184444444444445, 17.19148936170213, 18.0358361774744, 17.842105263157894, 18.6, 17.43076923076923, 16.557251908396946, 16.59036144578313, 17.761904761904763, 19.05, 17.25, 16.6875, 16.674814814814816, 17.89026063100137, 18.157894736842106, 18.375, 16.41304347826087, 17.90507152145644, 17.113333333333333, 19.223958333333332, 16.081771720613286, 18.763636363636362, 19.25, 19.7, 19.67687074829932, 18.92105263157895, 18.3, 19.144970414201183, 19.4875, 25.75, 19.5, 19.291666666666668, 18.416666666666668, 18.642857142857142, 19.432692307692307, 19.67111111111111, 19.51145038167939, 18.012422360248447, 19.676923076923078, 19.9, 18.850649350649352, 19.07894736842105, 17.875, 20.024590163934427, 18.6, 20.408970976253297, 19.92628205128205, 18.554770318021202, 18.58994708994709, 18.404761904761905, 18.75, 19.25, 20.833333333333332, 19.640625, 18.7, 19.91176470588235, 23.083333333333332, 19.77777777777778, 18.5, 19.833333333333332, 21.240291262135923, 18.9375, 18.875, 21.125, 20.142857142857142, 20.9375, 21.27777777777778, 19.8125, 19.9375, 20.125, 19.10539629005059, 21.7, 19.5, 19.45519348268839, 18.0, 19.073929961089494, 21.93121693121693, 20.142857142857142, 21.11842105263158, 21.0, 20.033333333333335, 20.669811320754718, 27.0, 20.610210696920582, 20.916666666666668, 20.16808510638298, 21.79553264604811, 21.414285714285715, 21.08303730017762, 22.565051020408163, 22.120588235294118, 20.67241379310345, 23.147727272727273, 21.20253164556962, 21.21405750798722, 23.77777777777778, 21.839285714285715, 22.6875, 20.94736842105263, 21.54, 24.382653061224488, 23.00657894736842, 20.291800643086816, 22.464285714285715, 20.13558106169297, 24.115384615384617, 21.096153846153847, 22.428571428571427, 24.714285714285715, 22.6, 23.13888888888889, 21.375, 21.82962962962963, 22.78125, 21.517676767676768, 20.927083333333332, 21.477272727272727, 20.346869712351946, 22.676973684210527, 22.50581395348837, 24.25, 23.387096774193548, 21.997848537005165, 23.135231316725978, 22.944444444444443, 26.25, 24.25, 23.10236220472441, 21.97608695652174, 25.063157894736843, 22.5, 27.333333333333332, 22.15909090909091, 22.727272727272727, 21.76294498381877, 23.430487804878048, 20.973214285714285, 22.369565217391305, 24.8125, 23.557114228456914, 22.66, 22.041166380789022, 23.726315789473684, 23.357142857142858, 23.4, 23.424242424242426, 24.3, 23.833333333333332, 25.11111111111111, 23.09090909090909, 24.5, 23.894736842105264, 23.5, 23.358536585365854, 24.11111111111111, 27.25, 24.739368998628258, 26.456521739130434, 30.5, 23.303846153846155, 24.542394014962593, 25.545454545454547, 23.791666666666668, 25.015776699029125, 25.395833333333332, 25.149484536082475, 24.666666666666668, 26.875, 25.238095238095237, 25.227272727272727, 24.794554455445546, 24.972049689440993, 24.233766233766232, 26.333333333333332, 24.44, 24.308441558441558, 25.046875, 24.03268551236749, 25.475609756097562, 24.515625, 26.714285714285715, 25.677777777777777, 26.25, 28.333333333333332, 28.1, 26.2170245398773, 26.6953125, 25.666666666666668, 27.0, 26.11111111111111, 27.9375, 26.280254777070063, 29.416666666666668, 25.209967320261438, 26.921875, 27.1, 25.491525423728813, 26.9, 25.083025830258304, 24.405405405405407, 28.476190476190474, 26.896551724137932, 27.5, 25.944444444444443, 27.833333333333332, 25.314885496183205, 26.714285714285715, 24.4375, 27.1, 23.0, 27.0625, 27.714285714285715, 28.074074074074073, 28.653846153846153, 27.11764705882353, 28.6875, 28.5, 29.5, 25.833333333333332, 25.5, 27.285714285714285, 28.833333333333332, 26.0, 27.5, 30.5, 26.875, 30.5, 26.271428571428572, 27.8, 27.7, 30.25, 27.4375, 26.666666666666668, 29.125, 27.75, 28.5, 24.5, 29.75, 28.833333333333332, 29.88095238095238, 29.181818181818183, 28.75, 28.0, 31.25, 27.75, 33.25, 27.75, 27.875, 29.5, 31.5, 29.75, 29.5, 31.26923076923077, 30.375, 31.1, 29.5, 32.5, 27.72222222222222, 28.070217917675546, 29.61764705882353, 28.974137931034484, 29.153846153846153, 30.7985347985348, 32.625, 31.75, 30.59344490934449, 30.1, 30.304347826086957, 30.0, 29.125, 26.96875, 28.7, 27.934343434343436, 28.5625, 29.193693693693692, 30.266666666666666, 30.5, 25.0, 32.5, 34.0, 33.0, 36.5, 30.158013544018058, 30.55952380952381, 31.383064516129032, 32.36363636363637, 29.3, 32.0, 32.333333333333336, 30.5, 32.75, 30.0, 33.0, 30.5, 29.6, 32.833333333333336, 30.5, 33.5, 30.5, 31.125, 35.0, 34.0, 41.333333333333336, 34.0, 36.629629629629626, 36.25, 36.166666666666664, 35.3, 31.83939393939394, 34.333333333333336, 42.27272727272727, 36.80434782608695, 37.0, 36.5, 39.0, 41.291666666666664, 44.333333333333336, 40.25, 42.708333333333336, 35.22, 35.666666666666664, 32.25, 38.0, 39.70666666666666, 42.0, 42.0, 36.0], \"yaxis\": \"y\"}, {\"hovertemplate\": \"name=Black SUV<br>distance=%{x}<br>price=%{y}<extra></extra>\", \"legendgroup\": \"Black SUV\", \"line\": {\"color\": \"#EF553B\", \"dash\": \"solid\"}, \"mode\": \"lines\", \"name\": \"Black SUV\", \"showlegend\": true, \"type\": \"scattergl\", \"x\": [0.02, 0.03, 0.04, 0.12, 0.17, 0.27, 0.29, 0.3, 0.35, 0.38, 0.39, 0.4, 0.47, 0.49, 0.5, 0.52, 0.53, 0.54, 0.55, 0.56, 0.58, 0.59, 0.6, 0.61, 0.62, 0.63, 0.65, 0.66, 0.67, 0.68, 0.7, 0.71, 0.72, 0.73, 0.76, 0.78, 0.79, 0.8, 0.81, 0.82, 0.85, 0.86, 0.88, 0.89, 0.9, 0.91, 0.92, 0.93, 0.94, 0.97, 0.98, 0.99, 1.0, 1.01, 1.02, 1.03, 1.04, 1.05, 1.06, 1.07, 1.08, 1.09, 1.1, 1.11, 1.12, 1.13, 1.14, 1.16, 1.17, 1.18, 1.19, 1.2, 1.21, 1.22, 1.23, 1.24, 1.25, 1.26, 1.27, 1.28, 1.29, 1.3, 1.31, 1.32, 1.33, 1.34, 1.35, 1.36, 1.37, 1.38, 1.39, 1.4, 1.41, 1.42, 1.43, 1.44, 1.45, 1.46, 1.47, 1.48, 1.49, 1.5, 1.51, 1.52, 1.53, 1.54, 1.55, 1.56, 1.57, 1.58, 1.59, 1.6, 1.61, 1.62, 1.63, 1.64, 1.65, 1.66, 1.67, 1.68, 1.69, 1.7, 1.71, 1.72, 1.73, 1.74, 1.75, 1.76, 1.77, 1.78, 1.79, 1.8, 1.81, 1.82, 1.83, 1.84, 1.85, 1.86, 1.87, 1.88, 1.89, 1.9, 1.91, 1.92, 1.93, 1.94, 1.95, 1.96, 1.97, 1.98, 1.99, 2.0, 2.01, 2.02, 2.03, 2.04, 2.05, 2.06, 2.07, 2.08, 2.09, 2.1, 2.11, 2.12, 2.13, 2.14, 2.15, 2.16, 2.17, 2.18, 2.19, 2.2, 2.21, 2.22, 2.23, 2.24, 2.25, 2.26, 2.27, 2.28, 2.29, 2.3, 2.31, 2.32, 2.33, 2.34, 2.35, 2.36, 2.37, 2.38, 2.39, 2.4, 2.41, 2.42, 2.43, 2.44, 2.45, 2.46, 2.47, 2.48, 2.49, 2.5, 2.51, 2.52, 2.53, 2.54, 2.55, 2.56, 2.57, 2.58, 2.59, 2.6, 2.61, 2.62, 2.63, 2.64, 2.65, 2.66, 2.67, 2.68, 2.69, 2.7, 2.71, 2.72, 2.73, 2.74, 2.75, 2.77, 2.78, 2.79, 2.8, 2.81, 2.82, 2.83, 2.84, 2.85, 2.86, 2.87, 2.88, 2.89, 2.9, 2.91, 2.92, 2.93, 2.94, 2.95, 2.96, 2.97, 2.98, 2.99, 3.0, 3.01, 3.02, 3.03, 3.04, 3.05, 3.06, 3.07, 3.08, 3.09, 3.1, 3.11, 3.12, 3.13, 3.14, 3.15, 3.16, 3.17, 3.18, 3.19, 3.2, 3.21, 3.22, 3.23, 3.24, 3.25, 3.26, 3.27, 3.28, 3.29, 3.3, 3.31, 3.32, 3.33, 3.34, 3.35, 3.37, 3.38, 3.39, 3.4, 3.41, 3.42, 3.43, 3.44, 3.45, 3.46, 3.47, 3.5, 3.51, 3.52, 3.53, 3.54, 3.55, 3.56, 3.57, 3.58, 3.59, 3.61, 3.63, 3.64, 3.65, 3.66, 3.67, 3.69, 3.7, 3.71, 3.72, 3.73, 3.74, 3.75, 3.76, 3.78, 3.79, 3.8, 3.81, 3.82, 3.85, 3.89, 3.91, 3.92, 3.94, 3.95, 3.96, 3.97, 3.98, 3.99, 4.0, 4.03, 4.04, 4.05, 4.07, 4.1, 4.12, 4.13, 4.15, 4.17, 4.28, 4.3, 4.31, 4.33, 4.35, 4.38, 4.39, 4.4, 4.41, 4.42, 4.43, 4.44, 4.46, 4.47, 4.48, 4.49, 4.5, 4.51, 4.52, 4.53, 4.54, 4.55, 4.56, 4.57, 4.58, 4.59, 4.6, 4.62, 4.65, 4.7, 4.71, 4.72, 4.73, 4.74, 4.76, 4.78, 4.79, 4.8, 4.82, 4.84, 4.86, 4.9, 4.91, 4.93, 4.94, 4.96, 4.98, 5.02, 5.1, 5.12, 5.16, 5.46, 5.47, 5.56, 5.66, 5.69, 5.7, 6.26, 6.27, 6.83, 6.91, 6.97, 7.04, 7.18, 7.19, 7.2, 7.24, 7.25, 7.34, 7.36, 7.38, 7.45, 7.46, 7.5, 7.62, 7.86], \"xaxis\": \"x\", \"y\": [27.5, 26.66176470588235, 27.5, 27.5, 27.0, 27.5, 27.5, 28.72222222222222, 27.5, 27.5, 26.872945638432363, 27.5, 26.852941176470587, 26.86689655172414, 27.5, 27.357142857142858, 26.916666666666668, 26.81948051948052, 26.968118195956453, 26.88944365192582, 26.931372549019606, 26.7, 27.285714285714285, 26.858231707317074, 26.803353658536587, 26.919718309859157, 27.183673469387756, 27.5, 26.24074074074074, 27.19327731092437, 26.77777777777778, 27.5, 26.886252045826513, 27.0, 27.0, 26.565217391304348, 27.115384615384617, 26.85169491525424, 26.833333333333332, 27.27173913043478, 26.35, 26.53846153846154, 26.176470588235293, 27.0, 26.876033057851238, 26.927956989247313, 26.825242718446603, 26.5, 26.75, 27.0, 27.10576923076923, 26.944444444444443, 26.895299145299145, 27.19047619047619, 26.675, 27.04035874439462, 26.834608030592733, 26.75, 26.58730158730159, 27.15909090909091, 26.61002994011976, 27.38235294117647, 25.71345029239766, 26.591743119266056, 26.75, 26.4375, 27.06923076923077, 26.95069667738478, 27.166666666666668, 26.921739130434784, 26.333333333333332, 26.571428571428573, 26.900580551523948, 25.505357142857143, 26.82598039215686, 26.28, 27.004957507082153, 25.980392156862745, 26.785714285714285, 27.492857142857144, 27.0, 27.056006493506494, 26.78, 27.333333333333332, 26.352941176470587, 25.441343963553532, 27.106487148102815, 26.79889298892989, 26.916666666666668, 27.583333333333332, 25.762820512820515, 26.19172932330827, 26.75, 27.171875, 26.571428571428573, 26.02654867256637, 27.24468085106383, 27.54421768707483, 27.81578947368421, 29.55, 26.53846153846154, 26.333969465648856, 25.798192771084338, 27.0, 27.375, 26.0, 27.5, 26.291976225854384, 27.3125, 27.210526315789473, 25.975, 25.97826086956522, 27.319895968790636, 26.88, 27.65625, 26.2135593220339, 27.87272727272727, 26.75, 28.0, 28.231292517006803, 27.36842105263158, 27.47142857142857, 28.002958579881657, 28.7625, 38.0, 27.75, 27.51388888888889, 27.166666666666668, 28.214285714285715, 28.875, 28.595555555555556, 27.8546845124283, 26.08695652173913, 28.353846153846153, 29.2, 28.207792207792206, 29.18421052631579, 27.205357142857142, 28.221311475409838, 27.575, 29.435356200527703, 29.237179487179485, 28.320422535211268, 26.723684210526315, 27.0, 27.846354166666668, 28.204545454545453, 29.09375, 28.126201923076923, 27.8, 29.058823529411764, 30.833333333333332, 28.444444444444443, 29.5, 28.416666666666668, 29.78640776699029, 27.5, 28.75, 30.75, 29.071428571428573, 30.125, 30.38888888888889, 29.625, 28.34765625, 28.625, 28.01094276094276, 30.233333333333334, 28.5, 28.55397148676171, 28.5, 28.624513618677042, 30.764550264550266, 29.607142857142858, 30.42105263157895, 30.78, 28.433333333333334, 29.245283018867923, 35.0, 28.78292682926829, 29.0, 29.493617021276595, 31.017123287671232, 29.942857142857143, 29.701241134751772, 31.628826530612244, 31.597633136094675, 29.017241379310345, 32.01136363636363, 29.474683544303797, 30.432692307692307, 33.888888888888886, 31.982142857142858, 32.0, 29.342105263157894, 30.81, 32.892857142857146, 32.29276315789474, 29.967041800643088, 32.0, 29.206303724928368, 33.07692307692308, 30.054945054945055, 31.333333333333332, 33.857142857142854, 31.775, 32.22222222222222, 30.78125, 30.29259259259259, 32.03125, 30.806818181818183, 31.15625, 31.022727272727273, 29.9460370994941, 31.11942257217848, 31.13372093023256, 33.75, 32.46774193548387, 31.04299226139295, 32.11743772241993, 32.916666666666664, 35.75, 32.625, 31.783464566929133, 31.826589595375722, 33.903141361256544, 31.057692307692307, 35.333333333333336, 31.113636363636363, 30.581818181818182, 31.514492753623188, 31.96833130328867, 30.486607142857142, 31.67241379310345, 34.5625, 32.28721278721279, 32.2, 31.9020618556701, 33.089473684210525, 32.43650793650794, 32.8, 31.59090909090909, 33.6, 32.333333333333336, 35.55555555555556, 31.477272727272727, 35.5, 32.80263157894737, 33.0, 33.41572123176661, 35.27777777777778, 37.75, 33.31155433287483, 34.97826086956522, 39.25, 33.332312404287904, 33.12609238451935, 35.04545454545455, 33.86538461538461, 33.98547215496368, 34.989583333333336, 34.68041237113402, 34.333333333333336, 35.125, 33.595238095238095, 35.11363636363637, 33.32673267326733, 34.584375, 33.967532467532465, 35.214285714285715, 35.06, 33.509803921568626, 34.734375, 33.97349823321555, 35.06910569105691, 34.875, 36.285714285714285, 35.08888888888889, 35.375, 38.5, 37.4, 35.01075268817204, 35.1484375, 36.0, 35.75, 35.407407407407405, 40.25, 34.961783439490446, 39.083333333333336, 35.39967373572594, 36.234375, 36.50714285714286, 34.94915254237288, 36.3, 34.76568265682657, 33.89837398373984, 37.5, 36.60344827586207, 34.75, 37.44444444444444, 37.333333333333336, 34.9942748091603, 36.642857142857146, 33.625, 37.1, 37.0, 35.5, 37.142857142857146, 37.69135802469136, 39.80769230769231, 38.4264705882353, 39.125, 38.25, 37.0, 36.833333333333336, 38.5, 36.285714285714285, 38.666666666666664, 36.0, 35.875, 41.5, 37.0, 40.0, 36.81428571428572, 38.0, 37.0, 39.5, 37.75, 38.333333333333336, 38.375, 37.875, 38.5, 37.25, 39.845238095238095, 40.333333333333336, 41.142857142857146, 38.36363636363637, 38.5, 37.5, 41.5, 37.25, 42.5, 36.5, 39.375, 40.666666666666664, 41.5, 40.0, 40.5, 42.53846153846154, 40.875, 41.5, 39.5, 43.0, 39.27777777777778, 39.04556354916067, 39.794117647058826, 39.12931034482759, 38.88461538461539, 39.919117647058826, 43.0, 42.75, 39.63091922005571, 39.9, 39.69565217391305, 40.0, 37.5, 39.8125, 38.9, 38.96338383838384, 39.25, 38.77477477477478, 39.666666666666664, 40.5, 39.5, 43.0, 42.333333333333336, 48.0, 47.5, 41.52149321266968, 39.26190476190476, 41.58064516129032, 41.54545454545455, 42.0, 42.5, 43.5, 39.166666666666664, 42.75, 42.0, 44.0, 38.0, 42.2, 43.166666666666664, 41.0, 43.75, 37.5, 43.25, 45.5, 42.75, 53.5, 43.0, 46.16524216524216, 47.0, 46.5, 44.53333333333333, 43.196969696969695, 44.611111111111114, 52.22727272727273, 47.82608695652174, 46.26190476190476, 45.5, 50.5, 52.625, 55.833333333333336, 50.125, 54.208333333333336, 48.34, 49.166666666666664, 44.625, 46.0, 49.07555555555555, 51.166666666666664, 51.5, 53.0], \"yaxis\": \"y\"}, {\"hovertemplate\": \"name=UberPool<br>distance=%{x}<br>price=%{y}<extra></extra>\", \"legendgroup\": \"UberPool\", \"line\": {\"color\": \"#00cc96\", \"dash\": \"solid\"}, \"mode\": \"lines\", \"name\": \"UberPool\", \"showlegend\": true, \"type\": \"scattergl\", \"x\": [0.02, 0.03, 0.04, 0.12, 0.17, 0.27, 0.29, 0.3, 0.35, 0.38, 0.39, 0.4, 0.47, 0.49, 0.5, 0.52, 0.53, 0.54, 0.55, 0.56, 0.58, 0.59, 0.6, 0.61, 0.62, 0.63, 0.65, 0.66, 0.67, 0.68, 0.7, 0.71, 0.72, 0.73, 0.76, 0.78, 0.79, 0.8, 0.81, 0.82, 0.85, 0.86, 0.88, 0.89, 0.9, 0.91, 0.92, 0.93, 0.94, 0.97, 0.98, 0.99, 1.0, 1.01, 1.02, 1.03, 1.04, 1.05, 1.06, 1.07, 1.08, 1.09, 1.1, 1.11, 1.12, 1.13, 1.14, 1.16, 1.17, 1.18, 1.19, 1.2, 1.21, 1.22, 1.23, 1.24, 1.25, 1.26, 1.27, 1.28, 1.29, 1.3, 1.31, 1.32, 1.33, 1.34, 1.35, 1.36, 1.37, 1.38, 1.39, 1.4, 1.41, 1.42, 1.43, 1.44, 1.45, 1.46, 1.47, 1.48, 1.49, 1.5, 1.51, 1.52, 1.53, 1.54, 1.55, 1.56, 1.57, 1.58, 1.59, 1.6, 1.61, 1.62, 1.63, 1.64, 1.65, 1.66, 1.67, 1.68, 1.69, 1.7, 1.71, 1.72, 1.73, 1.74, 1.75, 1.76, 1.77, 1.78, 1.79, 1.8, 1.81, 1.82, 1.83, 1.84, 1.85, 1.86, 1.87, 1.88, 1.89, 1.9, 1.91, 1.92, 1.93, 1.94, 1.95, 1.96, 1.97, 1.98, 1.99, 2.0, 2.01, 2.02, 2.03, 2.04, 2.05, 2.06, 2.07, 2.08, 2.09, 2.1, 2.11, 2.12, 2.13, 2.14, 2.15, 2.16, 2.17, 2.18, 2.19, 2.2, 2.21, 2.22, 2.23, 2.24, 2.25, 2.26, 2.27, 2.28, 2.29, 2.3, 2.31, 2.32, 2.33, 2.34, 2.35, 2.36, 2.37, 2.38, 2.39, 2.4, 2.41, 2.42, 2.43, 2.44, 2.45, 2.46, 2.47, 2.48, 2.49, 2.5, 2.51, 2.52, 2.53, 2.54, 2.55, 2.56, 2.57, 2.58, 2.59, 2.6, 2.61, 2.62, 2.63, 2.64, 2.65, 2.66, 2.67, 2.68, 2.69, 2.7, 2.71, 2.72, 2.73, 2.74, 2.75, 2.77, 2.78, 2.79, 2.8, 2.81, 2.82, 2.83, 2.84, 2.85, 2.86, 2.87, 2.88, 2.89, 2.9, 2.91, 2.92, 2.93, 2.94, 2.95, 2.96, 2.97, 2.98, 2.99, 3.0, 3.01, 3.02, 3.03, 3.04, 3.05, 3.06, 3.07, 3.08, 3.09, 3.1, 3.11, 3.12, 3.13, 3.14, 3.15, 3.16, 3.17, 3.18, 3.19, 3.2, 3.21, 3.22, 3.23, 3.24, 3.25, 3.26, 3.27, 3.28, 3.29, 3.3, 3.31, 3.32, 3.33, 3.34, 3.35, 3.37, 3.38, 3.39, 3.4, 3.41, 3.42, 3.43, 3.44, 3.45, 3.46, 3.47, 3.5, 3.51, 3.52, 3.53, 3.54, 3.55, 3.56, 3.57, 3.58, 3.59, 3.61, 3.63, 3.64, 3.65, 3.66, 3.67, 3.69, 3.7, 3.71, 3.72, 3.73, 3.74, 3.75, 3.76, 3.78, 3.79, 3.8, 3.81, 3.82, 3.85, 3.89, 3.91, 3.92, 3.94, 3.95, 3.96, 3.97, 3.98, 3.99, 4.0, 4.03, 4.04, 4.05, 4.07, 4.1, 4.12, 4.13, 4.15, 4.17, 4.28, 4.3, 4.31, 4.33, 4.35, 4.38, 4.39, 4.4, 4.41, 4.42, 4.43, 4.44, 4.46, 4.47, 4.48, 4.49, 4.5, 4.51, 4.52, 4.53, 4.54, 4.55, 4.56, 4.57, 4.58, 4.59, 4.6, 4.62, 4.65, 4.7, 4.71, 4.72, 4.73, 4.74, 4.76, 4.78, 4.79, 4.8, 4.82, 4.84, 4.86, 4.9, 4.91, 4.93, 4.94, 4.96, 4.98, 5.02, 5.1, 5.12, 5.16, 5.46, 5.47, 5.56, 5.66, 5.69, 5.7, 6.26, 6.27, 6.83, 6.91, 6.97, 7.04, 7.18, 7.19, 7.2, 7.24, 7.25, 7.34, 7.36, 7.38, 7.45, 7.46, 7.5, 7.62, 7.86], \"xaxis\": \"x\", \"y\": [6.5, 5.205882352941177, 7.0, 7.0, 4.5, 7.5, 7.0, 6.833333333333333, 7.0, 7.0, 6.088832487309645, 6.9, 6.0, 6.80524861878453, 6.5, 6.357142857142857, 6.166666666666667, 5.401554404145077, 7.10570987654321, 6.356940509915014, 7.2254901960784315, 6.9, 7.214285714285714, 6.5703363914373085, 6.41131498470948, 5.283898305084746, 5.3061224489795915, 6.5, 7.111111111111111, 6.970588235294118, 6.5, 6.166666666666667, 7.221498371335505, 6.133333333333334, 6.75, 6.3478260869565215, 6.846153846153846, 7.101694915254237, 6.583333333333333, 7.271739130434782, 7.55, 7.384615384615385, 7.323529411764706, 6.5, 6.276859504132231, 7.78494623655914, 6.584951456310679, 6.5, 7.0182926829268295, 6.5, 7.3798076923076925, 7.350318471337579, 7.388412017167382, 6.4523809523809526, 7.3, 6.676404494382022, 7.820610687022901, 6.75, 7.666666666666667, 7.636363636363637, 6.872754491017964, 7.147058823529412, 7.4298245614035086, 7.013761467889908, 7.630434782608695, 7.65625, 7.6796875, 7.47812166488794, 5.166666666666667, 7.734782608695652, 7.0476190476190474, 8.071428571428571, 7.288294797687861, 7.314946619217082, 7.834963325183374, 6.08, 7.281869688385269, 7.431372549019608, 7.857142857142857, 8.357142857142858, 8.25, 7.764563106796117, 7.6, 8.166666666666666, 7.352941176470588, 7.45800227014756, 8.059218559218559, 8.288602941176471, 7.486111111111111, 9.0, 7.887820512820513, 7.932330827067669, 8.539054966248795, 7.71875, 7.666666666666667, 7.95353982300885, 7.712765957446808, 8.677474402730375, 7.447368421052632, 7.8, 7.630769230769231, 7.373409669211196, 8.090361445783133, 8.642857142857142, 8.675, 8.125, 8.0, 7.30849478390462, 8.20954356846473, 7.88421052631579, 7.775, 7.391304347826087, 8.599609375, 8.133333333333333, 8.46875, 7.695059625212947, 9.263636363636364, 7.0, 8.7, 9.418367346938776, 8.763157894736842, 8.461904761904762, 8.529585798816568, 8.4375, 10.5, 7.666666666666667, 8.916666666666666, 7.964285714285714, 8.642857142857142, 9.163461538461538, 9.195555555555556, 8.914122137404581, 9.071428571428571, 8.238461538461538, 10.24, 8.24025974025974, 8.631578947368421, 8.228070175438596, 9.065573770491802, 7.825, 9.225593667546175, 9.477564102564102, 8.524734982332156, 8.921052631578947, 8.761904761904763, 8.434554973821989, 8.659090909090908, 8.625, 8.8756038647343, 8.1, 10.235294117647058, 8.0, 9.027777777777779, 7.5, 8.75, 9.407766990291263, 8.3125, 9.375, 10.5, 7.571428571428571, 10.0, 8.944444444444445, 8.8125, 9.0859375, 9.75, 8.210304054054054, 9.433333333333334, 8.833333333333334, 9.009183673469387, 8.5, 8.74124513618677, 9.701058201058201, 9.044642857142858, 9.368421052631579, 9.7, 8.933333333333334, 8.660377358490566, 12.0, 8.872771474878444, 9.166666666666666, 8.912765957446808, 9.570205479452055, 8.557142857142857, 9.046944198405669, 9.876275510204081, 10.008823529411766, 8.568965517241379, 9.647727272727273, 8.41139240506329, 9.217252396166135, 12.166666666666666, 9.607142857142858, 8.8125, 8.842105263157896, 9.77, 9.872448979591837, 9.046052631578947, 8.731884057971014, 9.392857142857142, 8.705459770114942, 11.442307692307692, 9.23076923076923, 9.119047619047619, 10.5, 9.325, 10.166666666666666, 9.0, 9.177777777777777, 11.25, 9.112090680100756, 9.322916666666666, 9.454545454545455, 8.761016949152543, 9.667763157894736, 9.162790697674419, 12.75, 9.0, 9.555030094582975, 10.172597864768683, 9.833333333333334, 11.25, 10.631944444444445, 9.562992125984252, 9.403318903318903, 10.38219895287958, 9.865384615384615, 10.666666666666666, 10.272727272727273, 9.645454545454545, 8.094813614262561, 9.776492082825822, 8.647321428571429, 9.810344827586206, 9.25, 9.3945, 9.88, 9.03859348198971, 9.889473684210527, 8.865079365079366, 10.8, 9.56060606060606, 10.0, 10.0, 10.5, 9.568181818181818, 13.25, 10.25, 11.0, 8.752845528455284, 10.722222222222221, 13.375, 10.171703296703297, 11.043478260869565, 10.25, 8.918836140888208, 10.033291457286433, 9.663636363636364, 8.958263772954925, 10.092457420924575, 8.9375, 9.716494845360824, 9.5, 11.375, 9.857142857142858, 11.022727272727273, 10.527363184079602, 10.697530864197532, 10.12987012987013, 11.595238095238095, 10.93, 10.308441558441558, 10.34375, 9.771681415929203, 10.398373983739837, 9.828125, 11.571428571428571, 11.022222222222222, 10.5, 10.666666666666666, 12.2, 10.460122699386503, 10.171875, 10.833333333333334, 10.0, 10.703703703703704, 12.3125, 10.471337579617835, 13.083333333333334, 9.682487725040916, 11.3828125, 9.742857142857142, 10.639830508474576, 10.2, 11.22140221402214, 10.813513513513513, 10.80952380952381, 11.017241379310345, 11.5, 10.61111111111111, 12.833333333333334, 10.580152671755725, 12.214285714285714, 10.1875, 12.1, 10.0, 10.125, 10.857142857142858, 12.052469135802468, 10.307692307692308, 10.705882352941176, 12.125, 10.833333333333334, 12.0, 9.666666666666666, 11.25, 9.642857142857142, 11.0, 10.0, 11.75, 11.0, 9.75, 10.166666666666666, 10.642857142857142, 12.033333333333333, 10.3, 11.0, 11.25, 11.333333333333334, 9.8125, 10.25, 9.0, 11.0, 10.273809523809524, 13.166666666666666, 13.404761904761905, 12.681818181818182, 12.75, 8.5, 13.75, 10.5, 12.25, 11.5, 11.75, 14.0, 9.5, 12.25, 11.5, 14.26923076923077, 11.75, 12.2, 10.0, 10.0, 11.166666666666666, 10.833333333333334, 12.5, 10.60344827586207, 12.26923076923077, 12.130514705882353, 12.25, 14.0, 11.191771269177126, 12.9, 11.521739130434783, 12.0, 10.125, 10.59375, 10.6, 10.922784810126583, 11.1875, 10.698198198198199, 11.666666666666666, 14.5, 10.0, 11.0, 10.0, 24.5, 11.0, 10.466139954853274, 10.654761904761905, 10.5, 10.712121212121213, 12.6, 21.0, 14.333333333333334, 12.833333333333334, 11.5, 11.75, 20.0, 12.0, 11.3, 13.166666666666666, 9.0, 11.5, 11.0, 10.75, 18.5, 11.25, 12.0, 11.0, 14.215099715099715, 14.25, 13.0, 13.703333333333333, 13.187878787878788, 13.11111111111111, 14.363636363636363, 13.108695652173912, 13.30952380952381, 12.166666666666666, 18.333333333333332, 16.833333333333332, 16.75, 12.375, 14.083333333333334, 14.1, 14.833333333333334, 14.0, 12.0, 13.724444444444444, 14.666666666666666, 13.5, 13.5], \"yaxis\": \"y\"}, {\"hovertemplate\": \"name=UberX<br>distance=%{x}<br>price=%{y}<extra></extra>\", \"legendgroup\": \"UberX\", \"line\": {\"color\": \"#ab63fa\", \"dash\": \"solid\"}, \"mode\": \"lines\", \"name\": \"UberX\", \"showlegend\": true, \"type\": \"scattergl\", \"x\": [0.02, 0.03, 0.04, 0.12, 0.17, 0.27, 0.29, 0.3, 0.35, 0.38, 0.39, 0.4, 0.47, 0.49, 0.5, 0.52, 0.53, 0.54, 0.55, 0.56, 0.58, 0.59, 0.6, 0.61, 0.62, 0.63, 0.65, 0.66, 0.67, 0.68, 0.7, 0.71, 0.72, 0.73, 0.76, 0.78, 0.79, 0.8, 0.81, 0.82, 0.85, 0.86, 0.88, 0.89, 0.9, 0.91, 0.92, 0.93, 0.94, 0.97, 0.98, 0.99, 1.0, 1.01, 1.02, 1.03, 1.04, 1.05, 1.06, 1.07, 1.08, 1.09, 1.1, 1.11, 1.12, 1.13, 1.14, 1.16, 1.17, 1.18, 1.19, 1.2, 1.21, 1.22, 1.23, 1.24, 1.25, 1.26, 1.27, 1.28, 1.29, 1.3, 1.31, 1.32, 1.33, 1.34, 1.35, 1.36, 1.37, 1.38, 1.39, 1.4, 1.41, 1.42, 1.43, 1.44, 1.45, 1.46, 1.47, 1.48, 1.49, 1.5, 1.51, 1.52, 1.53, 1.54, 1.55, 1.56, 1.57, 1.58, 1.59, 1.6, 1.61, 1.62, 1.63, 1.64, 1.65, 1.66, 1.67, 1.68, 1.69, 1.7, 1.71, 1.72, 1.73, 1.74, 1.75, 1.76, 1.77, 1.78, 1.79, 1.8, 1.81, 1.82, 1.83, 1.84, 1.85, 1.86, 1.87, 1.88, 1.89, 1.9, 1.91, 1.92, 1.93, 1.94, 1.95, 1.96, 1.97, 1.98, 1.99, 2.0, 2.01, 2.02, 2.03, 2.04, 2.05, 2.06, 2.07, 2.08, 2.09, 2.1, 2.11, 2.12, 2.13, 2.14, 2.15, 2.16, 2.17, 2.18, 2.19, 2.2, 2.21, 2.22, 2.23, 2.24, 2.25, 2.26, 2.27, 2.28, 2.29, 2.3, 2.31, 2.32, 2.33, 2.34, 2.35, 2.36, 2.37, 2.38, 2.39, 2.4, 2.41, 2.42, 2.43, 2.44, 2.45, 2.46, 2.47, 2.48, 2.49, 2.5, 2.51, 2.52, 2.53, 2.54, 2.55, 2.56, 2.57, 2.58, 2.59, 2.6, 2.61, 2.62, 2.63, 2.64, 2.65, 2.66, 2.67, 2.68, 2.69, 2.7, 2.71, 2.72, 2.73, 2.74, 2.75, 2.77, 2.78, 2.79, 2.8, 2.81, 2.82, 2.83, 2.84, 2.85, 2.86, 2.87, 2.88, 2.89, 2.9, 2.91, 2.92, 2.93, 2.94, 2.95, 2.96, 2.97, 2.98, 2.99, 3.0, 3.01, 3.02, 3.03, 3.04, 3.05, 3.06, 3.07, 3.08, 3.09, 3.1, 3.11, 3.12, 3.13, 3.14, 3.15, 3.16, 3.17, 3.18, 3.19, 3.2, 3.21, 3.22, 3.23, 3.24, 3.25, 3.26, 3.27, 3.28, 3.29, 3.3, 3.31, 3.32, 3.33, 3.34, 3.35, 3.37, 3.38, 3.39, 3.4, 3.41, 3.42, 3.43, 3.44, 3.45, 3.46, 3.47, 3.5, 3.51, 3.52, 3.53, 3.54, 3.55, 3.56, 3.57, 3.58, 3.59, 3.61, 3.63, 3.64, 3.65, 3.66, 3.67, 3.69, 3.7, 3.71, 3.72, 3.73, 3.74, 3.75, 3.76, 3.78, 3.79, 3.8, 3.81, 3.82, 3.85, 3.89, 3.91, 3.92, 3.94, 3.95, 3.96, 3.97, 3.98, 3.99, 4.0, 4.03, 4.04, 4.05, 4.07, 4.1, 4.12, 4.13, 4.15, 4.17, 4.28, 4.3, 4.31, 4.33, 4.35, 4.38, 4.39, 4.4, 4.41, 4.42, 4.43, 4.44, 4.46, 4.47, 4.48, 4.49, 4.5, 4.51, 4.52, 4.53, 4.54, 4.55, 4.56, 4.57, 4.58, 4.59, 4.6, 4.62, 4.65, 4.7, 4.71, 4.72, 4.73, 4.74, 4.76, 4.78, 4.79, 4.8, 4.82, 4.84, 4.86, 4.9, 4.91, 4.93, 4.94, 4.96, 4.98, 5.02, 5.1, 5.12, 5.16, 5.46, 5.47, 5.56, 5.66, 5.69, 5.7, 6.26, 6.27, 6.83, 6.91, 6.97, 7.04, 7.18, 7.19, 7.2, 7.24, 7.25, 7.34, 7.36, 7.38, 7.45, 7.46, 7.5, 7.62, 7.86], \"xaxis\": \"x\", \"y\": [6.7, 7.147058823529412, 7.0, 7.0, 7.0, 7.0, 7.0, 7.0, 7.0, 7.0, 7.178388746803069, 7.1, 7.5588235294117645, 7.174002751031637, 6.5, 7.0, 7.0, 7.261658031088083, 7.510835913312693, 7.1879432624113475, 7.882352941176471, 7.55, 7.0, 7.8307926829268295, 7.782012195121951, 7.240845070422536, 6.928571428571429, 7.0, 8.055555555555555, 7.80672268907563, 7.277777777777778, 7.0, 7.541598694942904, 7.541666666666667, 7.25, 7.1521739130434785, 7.269230769230769, 7.3559322033898304, 7.416666666666667, 7.228260869565218, 8.0, 7.423076923076923, 7.647058823529412, 8.5, 7.574380165289257, 7.7613390928725705, 7.706310679611651, 8.5, 7.615853658536586, 7.0, 7.58252427184466, 7.507446808510639, 7.829059829059829, 7.738095238095238, 7.85, 7.455056179775281, 8.563218390804598, 8.5, 7.833333333333333, 7.822727272727272, 7.840298507462687, 7.117647058823529, 7.792397660818714, 8.394495412844037, 8.652173913043478, 8.9375, 8.284615384615385, 8.231550802139038, 7.166666666666667, 8.460869565217392, 8.285714285714286, 9.214285714285714, 7.768505079825834, 7.943950177935943, 8.541666666666666, 7.3, 7.8507779349363505, 7.970588235294118, 8.857142857142858, 9.314285714285715, 8.75, 8.534090909090908, 7.8, 9.166666666666666, 8.088235294117647, 8.203302961275627, 8.50794621026895, 8.496323529411764, 7.958333333333333, 9.333333333333334, 8.72258064516129, 8.800751879699249, 8.91891891891892, 7.921875, 8.682539682539682, 8.557777777777778, 8.47872340425532, 9.034013605442176, 9.394736842105264, 8.4, 8.907692307692308, 7.991116751269035, 8.795180722891565, 9.880952380952381, 9.2, 7.875, 7.9375, 8.376296296296296, 8.34641873278237, 8.989473684210527, 8.175, 8.08695652173913, 9.063885267275097, 9.366666666666667, 9.479166666666666, 8.855687606112054, 9.627272727272727, 9.0, 10.0, 9.738095238095237, 9.302631578947368, 9.185714285714285, 9.378698224852071, 9.6625, 13.75, 8.75, 9.86111111111111, 8.857142857142858, 10.071428571428571, 9.634615384615385, 9.533185840707965, 9.871647509578544, 9.493788819875776, 9.638461538461538, 10.46, 9.2012987012987, 9.447368421052632, 8.56140350877193, 9.90983606557377, 8.7875, 10.178100263852242, 9.875, 9.090106007067138, 9.468421052631578, 9.214285714285714, 8.723958333333334, 9.977272727272727, 10.40625, 9.701923076923077, 9.1, 10.735294117647058, 10.333333333333334, 9.61111111111111, 10.5, 9.291666666666666, 10.101941747572816, 8.3125, 10.75, 10.75, 8.857142857142858, 10.53125, 10.555555555555555, 9.375, 9.40234375, 11.0, 8.296452702702704, 10.4, 9.166666666666666, 9.118609406952965, 8.5, 8.9921875, 10.846560846560847, 9.642857142857142, 10.0, 10.38, 9.533333333333333, 9.745283018867925, 13.0, 9.849348534201955, 10.25, 9.657446808510638, 10.294520547945206, 10.0, 10.094055013309672, 10.813775510204081, 10.220588235294118, 10.517241379310345, 10.965909090909092, 10.151898734177216, 10.428115015974441, 14.777777777777779, 11.482142857142858, 12.8125, 10.394736842105264, 10.36, 11.768041237113403, 10.976973684210526, 9.780096308186195, 11.857142857142858, 9.507183908045977, 12.788461538461538, 10.830578512396695, 11.357142857142858, 13.785714285714286, 10.775, 11.472222222222221, 11.4375, 10.314814814814815, 13.5625, 10.88510101010101, 11.916666666666666, 11.522727272727273, 10.55593220338983, 10.783180026281208, 10.94186046511628, 16.25, 10.935483870967742, 10.546861564918315, 11.142348754448399, 11.5, 12.75, 11.75, 11.059055118110237, 10.366859623733719, 11.678010471204189, 10.653846153846153, 13.166666666666666, 10.75, 9.909090909090908, 9.884677419354839, 10.751529987760097, 9.13963963963964, 10.52155172413793, 11.75, 10.743743743743744, 10.92, 9.69982847341338, 10.643617021276595, 10.095238095238095, 14.2, 10.696969696969697, 11.1, 10.833333333333334, 12.222222222222221, 10.295454545454545, 14.25, 11.592105263157896, 10.5, 10.784201954397394, 12.5, 18.125, 11.038620689655172, 12.195652173913043, 14.0, 9.60122699386503, 10.755959849435383, 11.727272727272727, 11.078859060402685, 11.669491525423728, 11.947916666666666, 12.38659793814433, 11.666666666666666, 13.125, 10.785714285714286, 12.5, 11.252475247524753, 11.546583850931677, 11.019480519480519, 13.166666666666666, 11.78, 11.314935064935066, 12.0, 11.292553191489361, 12.621951219512194, 12.25, 13.714285714285714, 12.411111111111111, 12.0, 11.666666666666666, 14.4, 11.401538461538461, 11.2734375, 12.833333333333334, 11.0, 11.962962962962964, 17.375, 10.754777070063694, 17.833333333333332, 11.156606851549755, 12.6171875, 11.92142857142857, 11.598290598290598, 12.0, 11.688191881918819, 11.159891598915989, 12.452380952380953, 12.189655172413794, 12.25, 12.277777777777779, 13.166666666666666, 11.375954198473282, 12.357142857142858, 11.125, 14.0, 11.0, 12.0, 11.642857142857142, 13.055555555555555, 14.153846153846153, 13.852941176470589, 15.375, 13.833333333333334, 12.0, 13.166666666666666, 13.5, 13.357142857142858, 12.333333333333334, 11.5, 13.0, 14.0, 13.25, 14.5, 12.307142857142857, 13.2, 12.5, 13.75, 13.25, 14.666666666666666, 12.8125, 14.0, 15.0, 14.25, 14.523809523809524, 18.333333333333332, 16.714285714285715, 14.181818181818182, 14.0, 14.0, 16.5, 13.0, 16.0, 12.75, 15.6875, 15.333333333333334, 14.0, 15.5, 14.0, 18.96153846153846, 15.375, 14.3, 14.5, 16.5, 14.38888888888889, 12.767469879518073, 15.058823529411764, 13.073275862068966, 14.403846153846153, 13.43040293040293, 13.125, 17.25, 13.516713091922005, 16.2, 13.347826086956522, 13.75, 12.75, 13.34375, 13.6, 12.890151515151516, 13.25, 12.82882882882883, 13.233333333333333, 15.0, 12.5, 16.0, 14.333333333333334, 32.0, 17.0, 14.461625282167043, 13.702380952380953, 14.46774193548387, 14.984848484848484, 15.3, 27.0, 19.0, 13.166666666666666, 13.25, 14.5, 29.5, 13.0, 15.1, 17.166666666666668, 14.5, 14.75, 13.5, 15.875, 28.5, 15.0, 14.333333333333334, 14.0, 15.86039886039886, 15.25, 14.833333333333334, 15.163333333333334, 14.048484848484849, 14.61111111111111, 18.954545454545453, 17.91304347826087, 15.30952380952381, 15.166666666666666, 22.333333333333332, 21.208333333333332, 24.333333333333332, 16.875, 19.583333333333332, 15.42, 16.0, 14.5, 16.0, 16.73111111111111, 17.333333333333332, 17.0, 17.5], \"yaxis\": \"y\"}, {\"hovertemplate\": \"name=UberXL<br>distance=%{x}<br>price=%{y}<extra></extra>\", \"legendgroup\": \"UberXL\", \"line\": {\"color\": \"#FFA15A\", \"dash\": \"solid\"}, \"mode\": \"lines\", \"name\": \"UberXL\", \"showlegend\": true, \"type\": \"scattergl\", \"x\": [0.02, 0.03, 0.04, 0.12, 0.17, 0.27, 0.29, 0.3, 0.35, 0.38, 0.39, 0.4, 0.47, 0.49, 0.5, 0.52, 0.53, 0.54, 0.55, 0.56, 0.58, 0.59, 0.6, 0.61, 0.62, 0.63, 0.65, 0.66, 0.67, 0.68, 0.7, 0.71, 0.72, 0.73, 0.76, 0.78, 0.79, 0.8, 0.81, 0.82, 0.85, 0.86, 0.88, 0.89, 0.9, 0.91, 0.92, 0.93, 0.94, 0.97, 0.98, 0.99, 1.0, 1.01, 1.02, 1.03, 1.04, 1.05, 1.06, 1.07, 1.08, 1.09, 1.1, 1.11, 1.12, 1.13, 1.14, 1.16, 1.17, 1.18, 1.19, 1.2, 1.21, 1.22, 1.23, 1.24, 1.25, 1.26, 1.27, 1.28, 1.29, 1.3, 1.31, 1.32, 1.33, 1.34, 1.35, 1.36, 1.37, 1.38, 1.39, 1.4, 1.41, 1.42, 1.43, 1.44, 1.45, 1.46, 1.47, 1.48, 1.49, 1.5, 1.51, 1.52, 1.53, 1.54, 1.55, 1.56, 1.57, 1.58, 1.59, 1.6, 1.61, 1.62, 1.63, 1.64, 1.65, 1.66, 1.67, 1.68, 1.69, 1.7, 1.71, 1.72, 1.73, 1.74, 1.75, 1.76, 1.77, 1.78, 1.79, 1.8, 1.81, 1.82, 1.83, 1.84, 1.85, 1.86, 1.87, 1.88, 1.89, 1.9, 1.91, 1.92, 1.93, 1.94, 1.95, 1.96, 1.97, 1.98, 1.99, 2.0, 2.01, 2.02, 2.03, 2.04, 2.05, 2.06, 2.07, 2.08, 2.09, 2.1, 2.11, 2.12, 2.13, 2.14, 2.15, 2.16, 2.17, 2.18, 2.19, 2.2, 2.21, 2.22, 2.23, 2.24, 2.25, 2.26, 2.27, 2.28, 2.29, 2.3, 2.31, 2.32, 2.33, 2.34, 2.35, 2.36, 2.37, 2.38, 2.39, 2.4, 2.41, 2.42, 2.43, 2.44, 2.45, 2.46, 2.47, 2.48, 2.49, 2.5, 2.51, 2.52, 2.53, 2.54, 2.55, 2.56, 2.57, 2.58, 2.59, 2.6, 2.61, 2.62, 2.63, 2.64, 2.65, 2.66, 2.67, 2.68, 2.69, 2.7, 2.71, 2.72, 2.73, 2.74, 2.75, 2.77, 2.78, 2.79, 2.8, 2.81, 2.82, 2.83, 2.84, 2.85, 2.86, 2.87, 2.88, 2.89, 2.9, 2.91, 2.92, 2.93, 2.94, 2.95, 2.96, 2.97, 2.98, 2.99, 3.0, 3.01, 3.02, 3.03, 3.04, 3.05, 3.06, 3.07, 3.08, 3.09, 3.1, 3.11, 3.12, 3.13, 3.14, 3.15, 3.16, 3.17, 3.18, 3.19, 3.2, 3.21, 3.22, 3.23, 3.24, 3.25, 3.26, 3.27, 3.28, 3.29, 3.3, 3.31, 3.32, 3.33, 3.34, 3.35, 3.37, 3.38, 3.39, 3.4, 3.41, 3.42, 3.43, 3.44, 3.45, 3.46, 3.47, 3.5, 3.51, 3.52, 3.53, 3.54, 3.55, 3.56, 3.57, 3.58, 3.59, 3.61, 3.63, 3.64, 3.65, 3.66, 3.67, 3.69, 3.7, 3.71, 3.72, 3.73, 3.74, 3.75, 3.76, 3.78, 3.79, 3.8, 3.81, 3.82, 3.85, 3.89, 3.91, 3.92, 3.94, 3.95, 3.96, 3.97, 3.98, 3.99, 4.0, 4.03, 4.04, 4.05, 4.07, 4.1, 4.12, 4.13, 4.15, 4.17, 4.28, 4.3, 4.31, 4.33, 4.35, 4.38, 4.39, 4.4, 4.41, 4.42, 4.43, 4.44, 4.46, 4.47, 4.48, 4.49, 4.5, 4.51, 4.52, 4.53, 4.54, 4.55, 4.56, 4.57, 4.58, 4.59, 4.6, 4.62, 4.65, 4.7, 4.71, 4.72, 4.73, 4.74, 4.76, 4.78, 4.79, 4.8, 4.82, 4.84, 4.86, 4.9, 4.91, 4.93, 4.94, 4.96, 4.98, 5.02, 5.1, 5.12, 5.16, 5.46, 5.47, 5.56, 5.66, 5.69, 5.7, 6.26, 6.27, 6.83, 6.91, 6.97, 7.04, 7.18, 7.19, 7.2, 7.24, 7.25, 7.34, 7.36, 7.38, 7.45, 7.46, 7.5, 7.62, 7.86], \"xaxis\": \"x\", \"y\": [8.7, 8.573529411764707, 8.5, 8.5, 8.0, 8.5, 8.5, 8.5, 8.5, 8.5, 9.687104930467763, 8.6, 11.176470588235293, 9.815680880330124, 8.5, 9.428571428571429, 10.0, 10.431168831168831, 10.673879443585781, 10.31657223796034, 11.117647058823529, 11.5, 8.928571428571429, 10.478658536585366, 10.75920245398773, 10.543785310734464, 10.36734693877551, 9.5, 12.38888888888889, 10.277310924369749, 10.333333333333334, 9.5, 11.28711256117455, 11.425, 11.0, 10.630434782608695, 10.423076923076923, 11.122881355932204, 10.916666666666666, 10.630434782608695, 12.45, 11.307692307692308, 11.794117647058824, 12.0, 11.450413223140496, 11.825806451612904, 11.766423357664234, 11.5, 11.542682926829269, 9.5, 11.389423076923077, 11.33049040511727, 11.978632478632479, 11.595238095238095, 12.125, 11.417040358744394, 12.120952380952382, 13.25, 12.373015873015873, 11.059090909090909, 11.956780923994039, 10.617647058823529, 11.719298245614034, 12.926267281105991, 13.130434782608695, 12.96875, 12.461538461538462, 12.662753468516541, 10.25, 13.082608695652175, 13.214285714285714, 13.928571428571429, 12.092485549132949, 12.006238859180035, 13.25794621026895, 11.24, 12.262039660056658, 12.745098039215685, 13.357142857142858, 14.592857142857143, 13.0, 13.256472491909385, 12.74, 13.166666666666666, 12.794117647058824, 12.664578587699317, 13.233536585365854, 13.302583025830259, 12.291666666666666, 14.416666666666666, 13.51602564102564, 13.402255639097744, 13.802707930367506, 12.5625, 13.507936507936508, 13.451327433628318, 13.425531914893616, 13.860068259385665, 14.157894736842104, 12.9, 14.392307692307693, 13.439873417721518, 13.909638554216867, 15.0, 14.375, 13.125, 13.0625, 13.432692307692308, 14.161643835616438, 14.152631578947368, 14.3, 13.782608695652174, 14.162337662337663, 14.193333333333333, 15.125, 13.106292517006803, 14.8, 14.25, 15.8, 15.459183673469388, 14.407894736842104, 14.39047619047619, 15.088757396449704, 15.45, 20.0, 14.416666666666666, 15.569444444444445, 13.988095238095237, 15.714285714285714, 15.057692307692308, 15.02212389380531, 15.316443594646271, 14.928571428571429, 15.6, 16.14, 14.480519480519481, 14.342105263157896, 13.780701754385966, 15.729508196721312, 13.925, 16.33641160949868, 15.458333333333334, 15.630281690140846, 14.99736842105263, 14.19047619047619, 15.158854166666666, 15.795454545454545, 15.979166666666666, 15.259615384615385, 14.7, 16.676470588235293, 17.416666666666668, 15.194444444444445, 14.5, 14.666666666666666, 16.347087378640776, 14.125, 17.0, 17.0, 13.428571428571429, 16.625, 16.444444444444443, 14.625, 15.046875, 17.25, 14.589527027027026, 16.366666666666667, 14.666666666666666, 14.67280163599182, 13.5, 14.4453125, 17.58730158730159, 15.214285714285714, 15.736842105263158, 16.06, 15.366666666666667, 15.358490566037736, 20.5, 15.683224755700326, 16.833333333333332, 15.756410256410257, 16.607876712328768, 16.0, 16.23537234042553, 17.512755102040817, 16.43235294117647, 15.982758620689655, 17.511363636363637, 16.303797468354432, 16.910543130990416, 23.444444444444443, 18.785714285714285, 18.8125, 17.07894736842105, 16.44, 18.403061224489797, 17.67105263157895, 16.19614147909968, 18.732142857142858, 15.335724533715926, 20.71153846153846, 16.317307692307693, 17.238095238095237, 22.642857142857142, 18.2, 18.27777777777778, 17.34375, 16.374074074074073, 21.53125, 16.477272727272727, 17.708333333333332, 16.931818181818183, 16.293074324324323, 17.338582677165356, 16.767441860465116, 26.25, 17.35483870967742, 17.21102497846684, 18.02135231316726, 18.25, 19.75, 19.20138888888889, 17.933070866141733, 17.449494949494948, 18.94764397905759, 17.754807692307693, 19.333333333333332, 18.318181818181817, 17.509090909090908, 16.77741935483871, 17.608404384896467, 16.209821428571427, 17.780172413793103, 18.6875, 17.67132867132867, 18.22, 17.564322469982848, 18.221052631578946, 17.444444444444443, 20.6, 17.333333333333332, 17.7, 17.5, 19.38888888888889, 17.363636363636363, 23.75, 18.38157894736842, 17.5, 18.146103896103895, 20.22222222222222, 29.5, 18.20467032967033, 18.717391304347824, 20.75, 17.946483180428135, 17.992518703241895, 19.145454545454545, 18.846153846153847, 18.83373786407767, 19.395833333333332, 20.015463917525775, 18.833333333333332, 21.5, 18.261904761904763, 20.454545454545453, 18.742574257425744, 18.99074074074074, 17.993506493506494, 20.761904761904763, 19.18, 18.915584415584416, 19.125, 18.991150442477878, 20.98780487804878, 20.578125, 22.0, 20.555555555555557, 18.875, 18.833333333333332, 23.466666666666665, 19.743865030674847, 19.1875, 22.583333333333332, 18.875, 20.48148148148148, 27.75, 19.52547770700637, 29.416666666666668, 19.262295081967213, 21.4296875, 19.614285714285714, 20.76923076923077, 19.9, 19.476014760147603, 18.602981029810298, 20.142857142857142, 21.275862068965516, 20.25, 19.333333333333332, 24.166666666666668, 19.0, 21.0, 18.75, 23.7, 19.5, 20.375, 19.428571428571427, 22.080246913580247, 22.76923076923077, 23.014705882352942, 24.625, 22.416666666666668, 21.0, 20.5, 22.75, 20.571428571428573, 21.75, 19.5, 21.25, 23.0, 20.5625, 22.166666666666668, 20.042857142857144, 22.366666666666667, 20.2, 21.5, 21.5625, 24.833333333333332, 20.125, 24.625, 22.5, 23.75, 22.392857142857142, 28.666666666666668, 26.166666666666668, 23.5, 22.25, 20.5, 24.25, 21.0, 25.75, 20.0, 25.375, 24.5, 23.5, 26.0, 23.0, 28.884615384615383, 23.375, 23.0, 22.0, 25.0, 23.944444444444443, 22.01201923076923, 24.823529411764707, 21.676724137931036, 23.5, 23.247252747252748, 22.125, 26.5, 22.85405027932961, 26.0, 22.67391304347826, 22.75, 21.0, 22.28125, 21.3, 22.156565656565657, 21.5, 21.1981981981982, 21.6, 24.0, 21.5, 24.0, 22.5, 51.5, 28.0, 23.38888888888889, 22.642857142857142, 22.794354838709676, 22.924242424242426, 27.0, 42.5, 30.5, 22.666666666666668, 22.25, 24.75, 43.5, 23.0, 25.2, 27.5, 23.0, 23.0, 22.5, 24.875, 42.5, 22.75, 24.333333333333332, 23.0, 26.371794871794872, 25.0, 26.5, 26.093333333333334, 22.899390243902438, 24.27777777777778, 31.727272727272727, 29.456521739130434, 25.261904761904763, 24.833333333333332, 36.666666666666664, 34.458333333333336, 35.166666666666664, 28.25, 30.583333333333332, 24.92, 25.333333333333332, 23.0, 28.0, 28.27777777777778, 28.333333333333332, 28.5, 29.5], \"yaxis\": \"y\"}, {\"hovertemplate\": \"name=WAV<br>distance=%{x}<br>price=%{y}<extra></extra>\", \"legendgroup\": \"WAV\", \"line\": {\"color\": \"#19d3f3\", \"dash\": \"solid\"}, \"mode\": \"lines\", \"name\": \"WAV\", \"showlegend\": true, \"type\": \"scattergl\", \"x\": [0.02, 0.03, 0.04, 0.12, 0.17, 0.27, 0.29, 0.3, 0.35, 0.38, 0.39, 0.4, 0.47, 0.49, 0.5, 0.52, 0.53, 0.54, 0.55, 0.56, 0.58, 0.59, 0.6, 0.61, 0.62, 0.63, 0.65, 0.66, 0.67, 0.68, 0.7, 0.71, 0.72, 0.73, 0.76, 0.78, 0.79, 0.8, 0.81, 0.82, 0.85, 0.86, 0.88, 0.89, 0.9, 0.91, 0.92, 0.93, 0.94, 0.97, 0.98, 0.99, 1.0, 1.01, 1.02, 1.03, 1.04, 1.05, 1.06, 1.07, 1.08, 1.09, 1.1, 1.11, 1.12, 1.13, 1.14, 1.16, 1.17, 1.18, 1.19, 1.2, 1.21, 1.22, 1.23, 1.24, 1.25, 1.26, 1.27, 1.28, 1.29, 1.3, 1.31, 1.32, 1.33, 1.34, 1.35, 1.36, 1.37, 1.38, 1.39, 1.4, 1.41, 1.42, 1.43, 1.44, 1.45, 1.46, 1.47, 1.48, 1.49, 1.5, 1.51, 1.52, 1.53, 1.54, 1.55, 1.56, 1.57, 1.58, 1.59, 1.6, 1.61, 1.62, 1.63, 1.64, 1.65, 1.66, 1.67, 1.68, 1.69, 1.7, 1.71, 1.72, 1.73, 1.74, 1.75, 1.76, 1.77, 1.78, 1.79, 1.8, 1.81, 1.82, 1.83, 1.84, 1.85, 1.86, 1.87, 1.88, 1.89, 1.9, 1.91, 1.92, 1.93, 1.94, 1.95, 1.96, 1.97, 1.98, 1.99, 2.0, 2.01, 2.02, 2.03, 2.04, 2.05, 2.06, 2.07, 2.08, 2.09, 2.1, 2.11, 2.12, 2.13, 2.14, 2.15, 2.16, 2.17, 2.18, 2.19, 2.2, 2.21, 2.22, 2.23, 2.24, 2.25, 2.26, 2.27, 2.28, 2.29, 2.3, 2.31, 2.32, 2.33, 2.34, 2.35, 2.36, 2.37, 2.38, 2.39, 2.4, 2.41, 2.42, 2.43, 2.44, 2.45, 2.46, 2.47, 2.48, 2.49, 2.5, 2.51, 2.52, 2.53, 2.54, 2.55, 2.56, 2.57, 2.58, 2.59, 2.6, 2.61, 2.62, 2.63, 2.64, 2.65, 2.66, 2.67, 2.68, 2.69, 2.7, 2.71, 2.72, 2.73, 2.74, 2.75, 2.77, 2.78, 2.79, 2.8, 2.81, 2.82, 2.83, 2.84, 2.85, 2.86, 2.87, 2.88, 2.89, 2.9, 2.91, 2.92, 2.93, 2.94, 2.95, 2.96, 2.97, 2.98, 2.99, 3.0, 3.01, 3.02, 3.03, 3.04, 3.05, 3.06, 3.07, 3.08, 3.09, 3.1, 3.11, 3.12, 3.13, 3.14, 3.15, 3.16, 3.17, 3.18, 3.19, 3.2, 3.21, 3.22, 3.23, 3.24, 3.25, 3.26, 3.27, 3.28, 3.29, 3.3, 3.31, 3.32, 3.33, 3.34, 3.35, 3.37, 3.38, 3.39, 3.4, 3.41, 3.42, 3.43, 3.44, 3.45, 3.46, 3.47, 3.5, 3.51, 3.52, 3.53, 3.54, 3.55, 3.56, 3.57, 3.58, 3.59, 3.61, 3.63, 3.64, 3.65, 3.66, 3.67, 3.69, 3.7, 3.71, 3.72, 3.73, 3.74, 3.75, 3.76, 3.78, 3.79, 3.8, 3.81, 3.82, 3.85, 3.89, 3.91, 3.92, 3.94, 3.95, 3.96, 3.97, 3.98, 3.99, 4.0, 4.03, 4.04, 4.05, 4.07, 4.1, 4.12, 4.13, 4.15, 4.17, 4.28, 4.3, 4.31, 4.33, 4.35, 4.38, 4.39, 4.4, 4.41, 4.42, 4.43, 4.44, 4.46, 4.47, 4.48, 4.49, 4.5, 4.51, 4.52, 4.53, 4.54, 4.55, 4.56, 4.57, 4.58, 4.59, 4.6, 4.62, 4.65, 4.7, 4.71, 4.72, 4.73, 4.74, 4.76, 4.78, 4.79, 4.8, 4.82, 4.84, 4.86, 4.9, 4.91, 4.93, 4.94, 4.96, 4.98, 5.02, 5.1, 5.12, 5.16, 5.46, 5.47, 5.56, 5.66, 5.69, 5.7, 6.26, 6.27, 6.83, 6.91, 6.97, 7.04, 7.18, 7.19, 7.2, 7.24, 7.25, 7.34, 7.36, 7.38, 7.45, 7.46, 7.5, 7.62, 7.86], \"xaxis\": \"x\", \"y\": [6.7, 7.147058823529412, 7.0, 7.0, 7.0, 7.0, 7.0, 7.0, 7.0, 7.0, 7.17725540025413, 7.1, 7.5588235294117645, 7.174965421853389, 6.5, 7.0, 7.0, 7.261658031088083, 7.513198757763975, 7.187677053824363, 7.882352941176471, 7.55, 7.0, 7.8318042813455655, 7.782012195121951, 7.240845070422536, 6.928571428571429, 7.0, 8.055555555555555, 7.80672268907563, 7.277777777777778, 7.0, 7.5424143556280585, 7.541666666666667, 7.25, 7.1521739130434785, 7.269230769230769, 7.3559322033898304, 7.416666666666667, 7.228260869565218, 8.0, 7.423076923076923, 7.647058823529412, 8.5, 7.574380165289257, 7.758064516129032, 7.706310679611651, 8.5, 7.615853658536586, 7.0, 7.579710144927536, 7.506369426751593, 7.829059829059829, 7.738095238095238, 7.85, 7.4540358744394615, 8.562022900763358, 8.5, 7.833333333333333, 7.822727272727272, 7.837817638266069, 7.117647058823529, 7.792397660818714, 8.394495412844037, 8.652173913043478, 8.9375, 8.284615384615385, 8.234190782422294, 7.166666666666667, 8.460869565217392, 8.285714285714286, 9.214285714285714, 7.764790764790765, 7.943950177935943, 8.54034229828851, 7.3, 7.849645390070922, 7.970588235294118, 8.857142857142858, 9.314285714285715, 8.75, 8.534035656401946, 7.8, 9.166666666666666, 8.088235294117647, 8.203196347031964, 8.50548780487805, 8.496323529411764, 7.958333333333333, 9.333333333333334, 8.72258064516129, 8.800751879699249, 8.923597678916828, 7.921875, 8.682539682539682, 8.555309734513274, 8.47872340425532, 9.034013605442176, 9.394736842105264, 8.4, 8.907692307692308, 7.991761723700887, 8.795180722891565, 9.880952380952381, 9.2, 7.875, 7.9375, 8.377596439169139, 8.349108367626886, 8.989473684210527, 8.175, 8.08695652173913, 9.06103896103896, 9.366666666666667, 9.479166666666666, 8.85677966101695, 9.627272727272727, 9.0, 10.0, 9.738095238095237, 9.302631578947368, 9.185714285714285, 9.383928571428571, 9.6625, 13.75, 8.75, 9.86111111111111, 8.857142857142858, 10.071428571428571, 9.634615384615385, 9.533185840707965, 9.870229007633588, 9.493788819875776, 9.638461538461538, 10.46, 9.2012987012987, 9.447368421052632, 8.571428571428571, 9.90983606557377, 8.7875, 10.178100263852242, 9.875, 9.090106007067138, 9.468421052631578, 9.214285714285714, 8.723958333333334, 9.977272727272727, 10.40625, 9.704819277108435, 9.1, 10.735294117647058, 10.333333333333334, 9.61111111111111, 10.5, 9.291666666666666, 10.101941747572816, 8.3125, 10.75, 10.75, 8.857142857142858, 10.53125, 10.555555555555555, 9.375, 9.40234375, 11.0, 8.295608108108109, 10.4, 9.166666666666666, 9.11963190184049, 8.5, 8.990272373540856, 10.846560846560847, 9.642857142857142, 10.0, 10.38, 9.533333333333333, 9.745283018867925, 13.0, 9.849918433931485, 10.25, 9.657446808510638, 10.29725085910653, 10.0, 10.093611357586513, 10.813775510204081, 10.220588235294118, 10.517241379310345, 10.965909090909092, 10.151898734177216, 10.428115015974441, 14.777777777777779, 11.482142857142858, 12.8125, 10.394736842105264, 10.36, 11.770408163265307, 10.976973684210526, 9.781451612903226, 11.857142857142858, 9.507183908045977, 12.788461538461538, 10.830578512396695, 11.357142857142858, 13.785714285714286, 10.775, 11.472222222222221, 11.4375, 10.314814814814815, 13.5625, 10.885390428211586, 11.916666666666666, 11.522727272727273, 10.55668358714044, 10.785620052770449, 10.94186046511628, 16.25, 10.935483870967742, 10.547886108714408, 11.142348754448399, 11.5, 12.75, 11.75, 11.059055118110237, 10.365606936416185, 11.678010471204189, 10.653846153846153, 13.166666666666666, 10.75, 9.909090909090908, 9.884677419354839, 10.749082007343942, 9.145454545454545, 10.52155172413793, 11.75, 10.7464859437751, 10.92, 9.701890034364261, 10.631578947368421, 10.095238095238095, 14.2, 10.696969696969697, 11.1, 10.833333333333334, 12.222222222222221, 10.295454545454545, 14.25, 11.592105263157896, 10.5, 10.784201954397394, 12.5, 18.125, 11.037878787878787, 12.195652173913043, 14.0, 9.601694915254237, 10.755, 11.727272727272727, 11.076086956521738, 11.669491525423728, 11.947916666666666, 12.38659793814433, 11.666666666666666, 13.125, 10.785714285714286, 12.5, 11.255, 11.546296296296296, 11.019480519480519, 13.166666666666666, 11.78, 11.314935064935066, 12.0, 11.293805309734513, 12.621951219512194, 12.25, 13.714285714285714, 12.411111111111111, 12.0, 11.666666666666666, 14.4, 11.399539877300613, 11.2734375, 12.833333333333334, 11.0, 11.962962962962964, 17.375, 10.754777070063694, 17.833333333333332, 11.155537459283387, 12.6171875, 11.92142857142857, 11.615384615384615, 12.0, 11.688191881918819, 11.159891598915989, 12.452380952380953, 12.189655172413794, 12.25, 12.277777777777779, 13.166666666666666, 11.379310344827585, 12.357142857142858, 11.125, 14.0, 11.0, 12.0, 11.642857142857142, 13.055555555555555, 14.153846153846153, 13.852941176470589, 15.375, 13.833333333333334, 12.0, 13.166666666666666, 13.5, 13.357142857142858, 12.333333333333334, 11.5, 13.0, 14.0, 13.25, 14.5, 12.307142857142857, 13.2, 12.5, 13.75, 13.25, 14.666666666666666, 12.8125, 14.0, 15.0, 14.25, 14.523809523809524, 18.333333333333332, 16.714285714285715, 14.181818181818182, 14.0, 14.0, 16.5, 13.0, 16.0, 12.75, 15.6875, 15.333333333333334, 14.0, 15.5, 14.0, 18.96153846153846, 15.375, 14.3, 14.5, 16.5, 14.38888888888889, 12.771084337349398, 15.058823529411764, 13.073275862068966, 14.403846153846153, 13.43040293040293, 13.125, 17.25, 13.516061452513966, 16.2, 13.347826086956522, 13.75, 12.75, 13.34375, 13.6, 12.890151515151516, 13.25, 12.82882882882883, 13.233333333333333, 15.0, 12.5, 16.0, 14.333333333333334, 32.0, 17.0, 14.462669683257918, 13.702380952380953, 14.46774193548387, 14.984848484848484, 15.3, 27.0, 19.0, 13.166666666666666, 13.25, 14.5, 29.5, 13.0, 15.1, 17.166666666666668, 14.5, 14.75, 13.5, 15.875, 28.5, 15.0, 14.333333333333334, 14.0, 15.86039886039886, 15.25, 14.833333333333334, 15.163333333333334, 14.048484848484849, 14.61111111111111, 18.954545454545453, 17.91304347826087, 15.30952380952381, 15.166666666666666, 22.333333333333332, 21.208333333333332, 24.333333333333332, 16.875, 19.583333333333332, 15.42, 16.0, 14.5, 16.0, 16.73111111111111, 17.333333333333332, 17.0, 17.5], \"yaxis\": \"y\"}],                        {\"legend\": {\"title\": {\"text\": \"name\"}, \"tracegroupgap\": 0}, \"margin\": {\"t\": 60}, \"template\": {\"data\": {\"bar\": [{\"error_x\": {\"color\": \"#2a3f5f\"}, \"error_y\": {\"color\": \"#2a3f5f\"}, \"marker\": {\"line\": {\"color\": \"#E5ECF6\", \"width\": 0.5}}, \"type\": \"bar\"}], \"barpolar\": [{\"marker\": {\"line\": {\"color\": \"#E5ECF6\", \"width\": 0.5}}, \"type\": \"barpolar\"}], \"carpet\": [{\"aaxis\": {\"endlinecolor\": \"#2a3f5f\", \"gridcolor\": \"white\", \"linecolor\": \"white\", \"minorgridcolor\": \"white\", \"startlinecolor\": \"#2a3f5f\"}, \"baxis\": {\"endlinecolor\": \"#2a3f5f\", \"gridcolor\": \"white\", \"linecolor\": \"white\", \"minorgridcolor\": \"white\", \"startlinecolor\": \"#2a3f5f\"}, \"type\": \"carpet\"}], \"choropleth\": [{\"colorbar\": {\"outlinewidth\": 0, \"ticks\": \"\"}, \"type\": \"choropleth\"}], \"contour\": [{\"colorbar\": {\"outlinewidth\": 0, \"ticks\": \"\"}, \"colorscale\": [[0.0, \"#0d0887\"], [0.1111111111111111, \"#46039f\"], [0.2222222222222222, \"#7201a8\"], [0.3333333333333333, \"#9c179e\"], [0.4444444444444444, \"#bd3786\"], [0.5555555555555556, \"#d8576b\"], [0.6666666666666666, \"#ed7953\"], [0.7777777777777778, \"#fb9f3a\"], [0.8888888888888888, \"#fdca26\"], [1.0, \"#f0f921\"]], \"type\": \"contour\"}], \"contourcarpet\": [{\"colorbar\": {\"outlinewidth\": 0, \"ticks\": \"\"}, \"type\": \"contourcarpet\"}], \"heatmap\": [{\"colorbar\": {\"outlinewidth\": 0, \"ticks\": \"\"}, \"colorscale\": [[0.0, \"#0d0887\"], [0.1111111111111111, \"#46039f\"], [0.2222222222222222, \"#7201a8\"], [0.3333333333333333, \"#9c179e\"], [0.4444444444444444, \"#bd3786\"], [0.5555555555555556, \"#d8576b\"], [0.6666666666666666, \"#ed7953\"], [0.7777777777777778, \"#fb9f3a\"], [0.8888888888888888, \"#fdca26\"], [1.0, \"#f0f921\"]], \"type\": \"heatmap\"}], \"heatmapgl\": [{\"colorbar\": {\"outlinewidth\": 0, \"ticks\": \"\"}, \"colorscale\": [[0.0, \"#0d0887\"], [0.1111111111111111, \"#46039f\"], [0.2222222222222222, \"#7201a8\"], [0.3333333333333333, \"#9c179e\"], [0.4444444444444444, \"#bd3786\"], [0.5555555555555556, \"#d8576b\"], [0.6666666666666666, \"#ed7953\"], [0.7777777777777778, \"#fb9f3a\"], [0.8888888888888888, \"#fdca26\"], [1.0, \"#f0f921\"]], \"type\": \"heatmapgl\"}], \"histogram\": [{\"marker\": {\"colorbar\": {\"outlinewidth\": 0, \"ticks\": \"\"}}, \"type\": \"histogram\"}], \"histogram2d\": [{\"colorbar\": {\"outlinewidth\": 0, \"ticks\": \"\"}, \"colorscale\": [[0.0, \"#0d0887\"], [0.1111111111111111, \"#46039f\"], [0.2222222222222222, \"#7201a8\"], [0.3333333333333333, \"#9c179e\"], [0.4444444444444444, \"#bd3786\"], [0.5555555555555556, \"#d8576b\"], [0.6666666666666666, \"#ed7953\"], [0.7777777777777778, \"#fb9f3a\"], [0.8888888888888888, \"#fdca26\"], [1.0, \"#f0f921\"]], \"type\": \"histogram2d\"}], \"histogram2dcontour\": [{\"colorbar\": {\"outlinewidth\": 0, \"ticks\": \"\"}, \"colorscale\": [[0.0, \"#0d0887\"], [0.1111111111111111, \"#46039f\"], [0.2222222222222222, \"#7201a8\"], [0.3333333333333333, \"#9c179e\"], [0.4444444444444444, \"#bd3786\"], [0.5555555555555556, \"#d8576b\"], [0.6666666666666666, \"#ed7953\"], [0.7777777777777778, \"#fb9f3a\"], [0.8888888888888888, \"#fdca26\"], [1.0, \"#f0f921\"]], \"type\": \"histogram2dcontour\"}], \"mesh3d\": [{\"colorbar\": {\"outlinewidth\": 0, \"ticks\": \"\"}, \"type\": \"mesh3d\"}], \"parcoords\": [{\"line\": {\"colorbar\": {\"outlinewidth\": 0, \"ticks\": \"\"}}, \"type\": \"parcoords\"}], \"pie\": [{\"automargin\": true, \"type\": \"pie\"}], \"scatter\": [{\"marker\": {\"colorbar\": {\"outlinewidth\": 0, \"ticks\": \"\"}}, \"type\": \"scatter\"}], \"scatter3d\": [{\"line\": {\"colorbar\": {\"outlinewidth\": 0, \"ticks\": \"\"}}, \"marker\": {\"colorbar\": {\"outlinewidth\": 0, \"ticks\": \"\"}}, \"type\": \"scatter3d\"}], \"scattercarpet\": [{\"marker\": {\"colorbar\": {\"outlinewidth\": 0, \"ticks\": \"\"}}, \"type\": \"scattercarpet\"}], \"scattergeo\": [{\"marker\": {\"colorbar\": {\"outlinewidth\": 0, \"ticks\": \"\"}}, \"type\": \"scattergeo\"}], \"scattergl\": [{\"marker\": {\"colorbar\": {\"outlinewidth\": 0, \"ticks\": \"\"}}, \"type\": \"scattergl\"}], \"scattermapbox\": [{\"marker\": {\"colorbar\": {\"outlinewidth\": 0, \"ticks\": \"\"}}, \"type\": \"scattermapbox\"}], \"scatterpolar\": [{\"marker\": {\"colorbar\": {\"outlinewidth\": 0, \"ticks\": \"\"}}, \"type\": \"scatterpolar\"}], \"scatterpolargl\": [{\"marker\": {\"colorbar\": {\"outlinewidth\": 0, \"ticks\": \"\"}}, \"type\": \"scatterpolargl\"}], \"scatterternary\": [{\"marker\": {\"colorbar\": {\"outlinewidth\": 0, \"ticks\": \"\"}}, \"type\": \"scatterternary\"}], \"surface\": [{\"colorbar\": {\"outlinewidth\": 0, \"ticks\": \"\"}, \"colorscale\": [[0.0, \"#0d0887\"], [0.1111111111111111, \"#46039f\"], [0.2222222222222222, \"#7201a8\"], [0.3333333333333333, \"#9c179e\"], [0.4444444444444444, \"#bd3786\"], [0.5555555555555556, \"#d8576b\"], [0.6666666666666666, \"#ed7953\"], [0.7777777777777778, \"#fb9f3a\"], [0.8888888888888888, \"#fdca26\"], [1.0, \"#f0f921\"]], \"type\": \"surface\"}], \"table\": [{\"cells\": {\"fill\": {\"color\": \"#EBF0F8\"}, \"line\": {\"color\": \"white\"}}, \"header\": {\"fill\": {\"color\": \"#C8D4E3\"}, \"line\": {\"color\": \"white\"}}, \"type\": \"table\"}]}, \"layout\": {\"annotationdefaults\": {\"arrowcolor\": \"#2a3f5f\", \"arrowhead\": 0, \"arrowwidth\": 1}, \"autotypenumbers\": \"strict\", \"coloraxis\": {\"colorbar\": {\"outlinewidth\": 0, \"ticks\": \"\"}}, \"colorscale\": {\"diverging\": [[0, \"#8e0152\"], [0.1, \"#c51b7d\"], [0.2, \"#de77ae\"], [0.3, \"#f1b6da\"], [0.4, \"#fde0ef\"], [0.5, \"#f7f7f7\"], [0.6, \"#e6f5d0\"], [0.7, \"#b8e186\"], [0.8, \"#7fbc41\"], [0.9, \"#4d9221\"], [1, \"#276419\"]], \"sequential\": [[0.0, \"#0d0887\"], [0.1111111111111111, \"#46039f\"], [0.2222222222222222, \"#7201a8\"], [0.3333333333333333, \"#9c179e\"], [0.4444444444444444, \"#bd3786\"], [0.5555555555555556, \"#d8576b\"], [0.6666666666666666, \"#ed7953\"], [0.7777777777777778, \"#fb9f3a\"], [0.8888888888888888, \"#fdca26\"], [1.0, \"#f0f921\"]], \"sequentialminus\": [[0.0, \"#0d0887\"], [0.1111111111111111, \"#46039f\"], [0.2222222222222222, \"#7201a8\"], [0.3333333333333333, \"#9c179e\"], [0.4444444444444444, \"#bd3786\"], [0.5555555555555556, \"#d8576b\"], [0.6666666666666666, \"#ed7953\"], [0.7777777777777778, \"#fb9f3a\"], [0.8888888888888888, \"#fdca26\"], [1.0, \"#f0f921\"]]}, \"colorway\": [\"#636efa\", \"#EF553B\", \"#00cc96\", \"#ab63fa\", \"#FFA15A\", \"#19d3f3\", \"#FF6692\", \"#B6E880\", \"#FF97FF\", \"#FECB52\"], \"font\": {\"color\": \"#2a3f5f\"}, \"geo\": {\"bgcolor\": \"white\", \"lakecolor\": \"white\", \"landcolor\": \"#E5ECF6\", \"showlakes\": true, \"showland\": true, \"subunitcolor\": \"white\"}, \"hoverlabel\": {\"align\": \"left\"}, \"hovermode\": \"closest\", \"mapbox\": {\"style\": \"light\"}, \"paper_bgcolor\": \"white\", \"plot_bgcolor\": \"#E5ECF6\", \"polar\": {\"angularaxis\": {\"gridcolor\": \"white\", \"linecolor\": \"white\", \"ticks\": \"\"}, \"bgcolor\": \"#E5ECF6\", \"radialaxis\": {\"gridcolor\": \"white\", \"linecolor\": \"white\", \"ticks\": \"\"}}, \"scene\": {\"xaxis\": {\"backgroundcolor\": \"#E5ECF6\", \"gridcolor\": \"white\", \"gridwidth\": 2, \"linecolor\": \"white\", \"showbackground\": true, \"ticks\": \"\", \"zerolinecolor\": \"white\"}, \"yaxis\": {\"backgroundcolor\": \"#E5ECF6\", \"gridcolor\": \"white\", \"gridwidth\": 2, \"linecolor\": \"white\", \"showbackground\": true, \"ticks\": \"\", \"zerolinecolor\": \"white\"}, \"zaxis\": {\"backgroundcolor\": \"#E5ECF6\", \"gridcolor\": \"white\", \"gridwidth\": 2, \"linecolor\": \"white\", \"showbackground\": true, \"ticks\": \"\", \"zerolinecolor\": \"white\"}}, \"shapedefaults\": {\"line\": {\"color\": \"#2a3f5f\"}}, \"ternary\": {\"aaxis\": {\"gridcolor\": \"white\", \"linecolor\": \"white\", \"ticks\": \"\"}, \"baxis\": {\"gridcolor\": \"white\", \"linecolor\": \"white\", \"ticks\": \"\"}, \"bgcolor\": \"#E5ECF6\", \"caxis\": {\"gridcolor\": \"white\", \"linecolor\": \"white\", \"ticks\": \"\"}}, \"title\": {\"x\": 0.05}, \"xaxis\": {\"automargin\": true, \"gridcolor\": \"white\", \"linecolor\": \"white\", \"ticks\": \"\", \"title\": {\"standoff\": 15}, \"zerolinecolor\": \"white\", \"zerolinewidth\": 2}, \"yaxis\": {\"automargin\": true, \"gridcolor\": \"white\", \"linecolor\": \"white\", \"ticks\": \"\", \"title\": {\"standoff\": 15}, \"zerolinecolor\": \"white\", \"zerolinewidth\": 2}}}, \"xaxis\": {\"anchor\": \"y\", \"domain\": [0.0, 1.0], \"title\": {\"text\": \"distance\"}}, \"yaxis\": {\"anchor\": \"x\", \"domain\": [0.0, 1.0], \"title\": {\"text\": \"price\"}}},                        {\"responsive\": true}                    ).then(function(){\n",
       "                            \n",
       "var gd = document.getElementById('ef6bf1df-3b92-4b41-bfcd-d5ad6bc74185');\n",
       "var x = new MutationObserver(function (mutations, observer) {{\n",
       "        var display = window.getComputedStyle(gd).display;\n",
       "        if (!display || display === 'none') {{\n",
       "            console.log([gd, 'removed!']);\n",
       "            Plotly.purge(gd);\n",
       "            observer.disconnect();\n",
       "        }}\n",
       "}});\n",
       "\n",
       "// Listen for the removal of the full notebook cells\n",
       "var notebookContainer = gd.closest('#notebook-container');\n",
       "if (notebookContainer) {{\n",
       "    x.observe(notebookContainer, {childList: true});\n",
       "}}\n",
       "\n",
       "// Listen for the clearing of the current output cell\n",
       "var outputEl = gd.closest('.output');\n",
       "if (outputEl) {{\n",
       "    x.observe(outputEl, {childList: true});\n",
       "}}\n",
       "\n",
       "                        })                };                });            </script>        </div>"
      ]
     },
     "metadata": {},
     "output_type": "display_data"
    }
   ],
   "source": [
    "fig = px.line(df_uber2, x='distance', y='price', color='name')\n",
    "fig.show()"
   ]
  },
  {
   "cell_type": "code",
   "execution_count": 38,
   "metadata": {},
   "outputs": [
    {
     "data": {
      "text/html": [
       "<div>\n",
       "<style scoped>\n",
       "    .dataframe tbody tr th:only-of-type {\n",
       "        vertical-align: middle;\n",
       "    }\n",
       "\n",
       "    .dataframe tbody tr th {\n",
       "        vertical-align: top;\n",
       "    }\n",
       "\n",
       "    .dataframe thead th {\n",
       "        text-align: right;\n",
       "    }\n",
       "</style>\n",
       "<table border=\"1\" class=\"dataframe\">\n",
       "  <thead>\n",
       "    <tr style=\"text-align: right;\">\n",
       "      <th></th>\n",
       "      <th>name</th>\n",
       "      <th>distance</th>\n",
       "      <th>price</th>\n",
       "    </tr>\n",
       "  </thead>\n",
       "  <tbody>\n",
       "    <tr>\n",
       "      <th>0</th>\n",
       "      <td>Lux</td>\n",
       "      <td>0.39</td>\n",
       "      <td>10.930233</td>\n",
       "    </tr>\n",
       "    <tr>\n",
       "      <th>1</th>\n",
       "      <td>Lux</td>\n",
       "      <td>0.40</td>\n",
       "      <td>10.740000</td>\n",
       "    </tr>\n",
       "    <tr>\n",
       "      <th>2</th>\n",
       "      <td>Lux</td>\n",
       "      <td>0.41</td>\n",
       "      <td>11.000000</td>\n",
       "    </tr>\n",
       "    <tr>\n",
       "      <th>3</th>\n",
       "      <td>Lux</td>\n",
       "      <td>0.42</td>\n",
       "      <td>11.243902</td>\n",
       "    </tr>\n",
       "    <tr>\n",
       "      <th>4</th>\n",
       "      <td>Lux</td>\n",
       "      <td>0.43</td>\n",
       "      <td>10.769697</td>\n",
       "    </tr>\n",
       "    <tr>\n",
       "      <th>...</th>\n",
       "      <td>...</td>\n",
       "      <td>...</td>\n",
       "      <td>...</td>\n",
       "    </tr>\n",
       "    <tr>\n",
       "      <th>3073</th>\n",
       "      <td>Shared</td>\n",
       "      <td>6.09</td>\n",
       "      <td>10.500000</td>\n",
       "    </tr>\n",
       "    <tr>\n",
       "      <th>3074</th>\n",
       "      <td>Shared</td>\n",
       "      <td>6.12</td>\n",
       "      <td>12.000000</td>\n",
       "    </tr>\n",
       "    <tr>\n",
       "      <th>3075</th>\n",
       "      <td>Shared</td>\n",
       "      <td>6.13</td>\n",
       "      <td>11.000000</td>\n",
       "    </tr>\n",
       "    <tr>\n",
       "      <th>3076</th>\n",
       "      <td>Shared</td>\n",
       "      <td>6.14</td>\n",
       "      <td>10.500000</td>\n",
       "    </tr>\n",
       "    <tr>\n",
       "      <th>3077</th>\n",
       "      <td>Shared</td>\n",
       "      <td>6.33</td>\n",
       "      <td>11.000000</td>\n",
       "    </tr>\n",
       "  </tbody>\n",
       "</table>\n",
       "<p>3078 rows × 3 columns</p>\n",
       "</div>"
      ],
      "text/plain": [
       "        name  distance      price\n",
       "0        Lux      0.39  10.930233\n",
       "1        Lux      0.40  10.740000\n",
       "2        Lux      0.41  11.000000\n",
       "3        Lux      0.42  11.243902\n",
       "4        Lux      0.43  10.769697\n",
       "...      ...       ...        ...\n",
       "3073  Shared      6.09  10.500000\n",
       "3074  Shared      6.12  12.000000\n",
       "3075  Shared      6.13  11.000000\n",
       "3076  Shared      6.14  10.500000\n",
       "3077  Shared      6.33  11.000000\n",
       "\n",
       "[3078 rows x 3 columns]"
      ]
     },
     "execution_count": 38,
     "metadata": {},
     "output_type": "execute_result"
    }
   ],
   "source": [
    "df_lyft2 = df_lyft2.groupby(['name', 'distance'])['price'].mean().reset_index()\n",
    "df_lyft2"
   ]
  },
  {
   "cell_type": "code",
   "execution_count": 39,
   "metadata": {},
   "outputs": [
    {
     "data": {
      "application/vnd.plotly.v1+json": {
       "config": {
        "plotlyServerURL": "https://plot.ly"
       },
       "data": [
        {
         "hovertemplate": "name=Lux<br>distance=%{x}<br>price=%{y}<extra></extra>",
         "legendgroup": "Lux",
         "line": {
          "color": "#636efa",
          "dash": "solid"
         },
         "mode": "lines",
         "name": "Lux",
         "showlegend": true,
         "type": "scattergl",
         "x": [
          0.39,
          0.4,
          0.41,
          0.42,
          0.43,
          0.44,
          0.45,
          0.46,
          0.47,
          0.48,
          0.49,
          0.5,
          0.51,
          0.52,
          0.53,
          0.54,
          0.55,
          0.56,
          0.57,
          0.58,
          0.59,
          0.6,
          0.61,
          0.62,
          0.63,
          0.64,
          0.65,
          0.66,
          0.67,
          0.68,
          0.69,
          0.7,
          0.71,
          0.72,
          0.73,
          0.74,
          0.75,
          0.76,
          0.77,
          0.78,
          0.79,
          0.8,
          0.81,
          0.82,
          0.83,
          0.84,
          0.85,
          0.86,
          0.87,
          0.88,
          0.89,
          0.9,
          0.91,
          0.92,
          0.93,
          0.94,
          0.95,
          0.96,
          0.97,
          0.98,
          0.99,
          1,
          1.01,
          1.02,
          1.03,
          1.04,
          1.05,
          1.06,
          1.07,
          1.08,
          1.09,
          1.1,
          1.11,
          1.12,
          1.13,
          1.14,
          1.15,
          1.16,
          1.17,
          1.18,
          1.19,
          1.2,
          1.21,
          1.22,
          1.23,
          1.24,
          1.25,
          1.26,
          1.27,
          1.28,
          1.29,
          1.3,
          1.31,
          1.32,
          1.33,
          1.34,
          1.35,
          1.36,
          1.37,
          1.38,
          1.39,
          1.4,
          1.41,
          1.42,
          1.43,
          1.44,
          1.45,
          1.46,
          1.47,
          1.48,
          1.49,
          1.5,
          1.51,
          1.52,
          1.53,
          1.54,
          1.55,
          1.56,
          1.57,
          1.58,
          1.59,
          1.6,
          1.61,
          1.62,
          1.63,
          1.64,
          1.65,
          1.66,
          1.67,
          1.68,
          1.69,
          1.7,
          1.71,
          1.72,
          1.73,
          1.74,
          1.75,
          1.76,
          1.77,
          1.78,
          1.79,
          1.8,
          1.81,
          1.82,
          1.83,
          1.84,
          1.85,
          1.86,
          1.87,
          1.88,
          1.89,
          1.9,
          1.91,
          1.92,
          1.93,
          1.94,
          1.95,
          1.96,
          1.97,
          1.98,
          1.99,
          2,
          2.01,
          2.02,
          2.03,
          2.04,
          2.05,
          2.06,
          2.07,
          2.08,
          2.09,
          2.1,
          2.11,
          2.12,
          2.13,
          2.14,
          2.15,
          2.16,
          2.17,
          2.18,
          2.19,
          2.2,
          2.21,
          2.22,
          2.23,
          2.24,
          2.25,
          2.26,
          2.27,
          2.28,
          2.29,
          2.3,
          2.31,
          2.32,
          2.33,
          2.34,
          2.35,
          2.36,
          2.37,
          2.38,
          2.39,
          2.4,
          2.41,
          2.42,
          2.43,
          2.44,
          2.45,
          2.46,
          2.47,
          2.48,
          2.49,
          2.5,
          2.51,
          2.52,
          2.53,
          2.54,
          2.55,
          2.56,
          2.57,
          2.58,
          2.59,
          2.6,
          2.61,
          2.62,
          2.63,
          2.64,
          2.65,
          2.66,
          2.67,
          2.68,
          2.69,
          2.7,
          2.71,
          2.72,
          2.73,
          2.74,
          2.75,
          2.76,
          2.77,
          2.78,
          2.79,
          2.8,
          2.81,
          2.82,
          2.83,
          2.84,
          2.85,
          2.86,
          2.87,
          2.88,
          2.89,
          2.9,
          2.91,
          2.92,
          2.93,
          2.94,
          2.95,
          2.96,
          2.97,
          2.98,
          2.99,
          3,
          3.01,
          3.02,
          3.03,
          3.04,
          3.05,
          3.06,
          3.07,
          3.08,
          3.09,
          3.1,
          3.11,
          3.12,
          3.13,
          3.14,
          3.15,
          3.16,
          3.17,
          3.18,
          3.19,
          3.2,
          3.21,
          3.22,
          3.23,
          3.24,
          3.25,
          3.26,
          3.27,
          3.28,
          3.29,
          3.3,
          3.31,
          3.32,
          3.33,
          3.34,
          3.35,
          3.36,
          3.37,
          3.38,
          3.39,
          3.4,
          3.41,
          3.42,
          3.43,
          3.44,
          3.45,
          3.46,
          3.47,
          3.48,
          3.49,
          3.5,
          3.51,
          3.52,
          3.53,
          3.54,
          3.55,
          3.56,
          3.57,
          3.58,
          3.59,
          3.6,
          3.61,
          3.62,
          3.63,
          3.64,
          3.65,
          3.66,
          3.67,
          3.68,
          3.69,
          3.7,
          3.71,
          3.72,
          3.73,
          3.74,
          3.75,
          3.76,
          3.77,
          3.78,
          3.79,
          3.8,
          3.81,
          3.82,
          3.83,
          3.84,
          3.85,
          3.86,
          3.87,
          3.88,
          3.89,
          3.9,
          3.91,
          3.92,
          3.93,
          3.94,
          3.95,
          3.96,
          3.97,
          3.98,
          3.99,
          4,
          4.01,
          4.02,
          4.03,
          4.04,
          4.05,
          4.06,
          4.07,
          4.08,
          4.09,
          4.1,
          4.11,
          4.12,
          4.13,
          4.14,
          4.15,
          4.16,
          4.17,
          4.18,
          4.19,
          4.2,
          4.21,
          4.22,
          4.23,
          4.24,
          4.25,
          4.26,
          4.27,
          4.28,
          4.29,
          4.3,
          4.31,
          4.32,
          4.33,
          4.34,
          4.35,
          4.36,
          4.37,
          4.38,
          4.39,
          4.4,
          4.41,
          4.42,
          4.43,
          4.44,
          4.45,
          4.46,
          4.47,
          4.48,
          4.49,
          4.5,
          4.51,
          4.52,
          4.53,
          4.54,
          4.55,
          4.56,
          4.57,
          4.58,
          4.59,
          4.6,
          4.61,
          4.62,
          4.63,
          4.64,
          4.65,
          4.66,
          4.67,
          4.68,
          4.69,
          4.7,
          4.71,
          4.72,
          4.73,
          4.74,
          4.75,
          4.76,
          4.77,
          4.78,
          4.79,
          4.8,
          4.81,
          4.82,
          4.83,
          4.85,
          4.87,
          4.89,
          4.9,
          4.91,
          4.93,
          4.94,
          4.95,
          4.96,
          4.97,
          4.98,
          4.99,
          5,
          5.01,
          5.02,
          5.03,
          5.04,
          5.05,
          5.06,
          5.08,
          5.09,
          5.1,
          5.11,
          5.12,
          5.13,
          5.14,
          5.15,
          5.16,
          5.17,
          5.18,
          5.19,
          5.2,
          5.21,
          5.22,
          5.23,
          5.24,
          5.25,
          5.26,
          5.27,
          5.28,
          5.29,
          5.3,
          5.31,
          5.32,
          5.33,
          5.34,
          5.35,
          5.36,
          5.37,
          5.38,
          5.39,
          5.4,
          5.41,
          5.42,
          5.43,
          5.44,
          5.45,
          5.46,
          5.86,
          5.95,
          6,
          6.03,
          6.04,
          6.09,
          6.12,
          6.13,
          6.14,
          6.33
         ],
         "xaxis": "x",
         "y": [
          10.930232558139535,
          10.74,
          11,
          11.24390243902439,
          10.76969696969697,
          10.761363636363637,
          10.935294117647059,
          11.288732394366198,
          10.710526315789474,
          11.342105263157896,
          10.944444444444445,
          10.823529411764707,
          10.785714285714286,
          10.720338983050848,
          10.825503355704697,
          10.78740157480315,
          10.975247524752476,
          10.924157303370787,
          10.794545454545455,
          10.83084577114428,
          11.377952755905511,
          10.857142857142858,
          11.406542056074766,
          11.129310344827585,
          11.118320610687023,
          11.096153846153847,
          10.952054794520548,
          11.07451923076923,
          10.872093023255815,
          11.716049382716049,
          11.035398230088495,
          11.518867924528301,
          11.760752688172044,
          11.3875,
          11.061111111111112,
          11.435294117647059,
          11.357954545454545,
          10.91,
          10.80373831775701,
          10.696428571428571,
          10.8125,
          12.357142857142858,
          12.083333333333334,
          11,
          12.5,
          13.076923076923077,
          12.45,
          13.321428571428571,
          13.590909090909092,
          12.702702702702704,
          11.789473684210526,
          11.027777777777779,
          10.99090909090909,
          11.928571428571429,
          11.972972972972974,
          12.666666666666666,
          12.709677419354838,
          12.346153846153847,
          13.297619047619047,
          13.405063291139241,
          13.03238866396761,
          13.15953947368421,
          12.39622641509434,
          12.262975778546712,
          12.453488372093023,
          12.78888888888889,
          13.028662420382165,
          13.33641975308642,
          13.298353909465021,
          13.32429245283019,
          13.382978723404255,
          13.4425,
          13.225446428571429,
          12.93018018018018,
          13.080717488789238,
          13.689873417721518,
          13.708994708994709,
          14.062015503875969,
          14.016339869281046,
          13.734939759036145,
          13.654205607476635,
          13.73758865248227,
          14.235294117647058,
          13.901913875598087,
          13.718208092485549,
          13.845092024539877,
          13.957627118644067,
          13.908163265306122,
          13.803448275862069,
          13.6875,
          13.82258064516129,
          13.98913043478261,
          13.967105263157896,
          14.905963302752294,
          14.85276073619632,
          14.571428571428571,
          14.821782178217822,
          14.31055900621118,
          14.377659574468085,
          13.952380952380953,
          14.23731884057971,
          14.271356783919598,
          13.966019417475728,
          14.25438596491228,
          14.765486725663717,
          14.27536231884058,
          14.530150753768844,
          14.293814432989691,
          14.67741935483871,
          14.62,
          14.803076923076922,
          15.327450980392157,
          15.527777777777779,
          15.812977099236642,
          15.034090909090908,
          15.276357827476039,
          15.239024390243902,
          15.660377358490566,
          15.354651162790697,
          15.744186046511627,
          14.464285714285714,
          15.394736842105264,
          14.571428571428571,
          13.5,
          16.25,
          16.2125,
          15.779411764705882,
          15.163793103448276,
          15.572727272727272,
          15.635802469135802,
          16.14516129032258,
          16.916129032258066,
          16.957264957264957,
          17.14533622559653,
          16.261363636363637,
          15.904306220095695,
          15.880851063829788,
          16.707482993197278,
          15.920454545454545,
          16.153846153846153,
          15.972602739726028,
          16.946428571428573,
          17,
          16.73076923076923,
          16.585714285714285,
          17.189393939393938,
          16.62,
          16.64516129032258,
          17.145833333333332,
          16.70689655172414,
          17.377551020408163,
          17.07894736842105,
          16.841772151898734,
          16.885714285714286,
          16.810344827586206,
          16.8,
          17.068421052631578,
          17.93617021276596,
          18.216666666666665,
          17.1875,
          17.884615384615383,
          17.566666666666666,
          17.44097222222222,
          18.14090909090909,
          17.45774647887324,
          17.08173076923077,
          17.18888888888889,
          17.048872180451127,
          17.093922651933703,
          17.35576923076923,
          17.074257425742573,
          17.326612903225808,
          17.09119496855346,
          17.8125,
          18.067307692307693,
          17.89423076923077,
          17.943438914027148,
          17.918181818181818,
          17.425,
          20.819444444444443,
          21.375,
          18.710526315789473,
          17.605263157894736,
          19.342105263157894,
          18.336363636363636,
          18.40983606557377,
          19.023809523809526,
          18.439393939393938,
          18.228915662650603,
          18.13131313131313,
          18.268456375838927,
          18.85972850678733,
          17.758064516129032,
          18.08823529411765,
          17.689119170984455,
          18.49621212121212,
          17.80225988700565,
          18.158767772511847,
          18.33745583038869,
          18.041297935103245,
          17.573630136986303,
          17.916158536585368,
          18.303072625698324,
          17.845821325648416,
          18.24277456647399,
          18.345744680851062,
          18.852534562211982,
          18.588709677419356,
          18.751655629139073,
          19.04225352112676,
          18.53503184713376,
          19.270186335403725,
          20.28609625668449,
          19.796666666666667,
          19.436046511627907,
          19.839622641509433,
          19.279411764705884,
          18.988095238095237,
          18.892241379310345,
          19.1,
          19.020833333333332,
          21.055555555555557,
          20.653846153846153,
          19.528089887640448,
          19.42982456140351,
          20.125,
          20.074468085106382,
          18.72189349112426,
          19.549689440993788,
          19.457142857142856,
          20.5859375,
          18.571428571428573,
          21.147058823529413,
          18.866013071895424,
          19.13768115942029,
          19.59433962264151,
          20.783505154639176,
          20.852941176470587,
          20.666666666666668,
          21.805555555555557,
          21.35483870967742,
          20.822857142857142,
          21.59328358208955,
          20.281368821292777,
          20.548042704626333,
          19.94747081712062,
          19.286931818181817,
          20.56451612903226,
          20.180790960451976,
          20.21361502347418,
          21.118705035971225,
          21.530434782608694,
          21.174074074074074,
          21.357142857142858,
          21.192660550458715,
          21.004484304932735,
          21.197777777777777,
          20.76382978723404,
          21.1,
          20.513513513513512,
          21.533333333333335,
          22.192682926829267,
          22.087878787878786,
          21.808943089430894,
          22.066037735849058,
          22.083815028901736,
          21.770408163265305,
          21.390287769784173,
          20.967248908296945,
          21.621019108280255,
          21.934782608695652,
          21.20873786407767,
          21.619815668202765,
          21.79360465116279,
          21.320627802690584,
          20.998489425981873,
          20.682716049382716,
          21.754863813229573,
          22.01063829787234,
          21.968220338983052,
          21.66182572614108,
          21.619266055045873,
          22.750943396226415,
          22.08450704225352,
          22.482142857142858,
          22.479899497487438,
          22.336170212765957,
          22.232558139534884,
          22.704225352112676,
          23.529761904761905,
          22.62121212121212,
          21.864,
          22.43548387096774,
          22.731617647058822,
          22.47222222222222,
          22.1484375,
          22.25657894736842,
          21.85,
          22.606060606060606,
          25.818181818181817,
          24.32051282051282,
          23.479166666666668,
          23.669811320754718,
          24.08235294117647,
          23.01388888888889,
          24.117886178861788,
          24.41111111111111,
          23.36697247706422,
          22.82075471698113,
          23.125,
          22.348484848484848,
          22.140625,
          22.114285714285714,
          22.03846153846154,
          22.264044943820224,
          22.270833333333332,
          26.08823529411765,
          30.416666666666668,
          26.071428571428573,
          24.583333333333332,
          26.375,
          26.75,
          26.375,
          25,
          22.5,
          22.954545454545453,
          27.125,
          36,
          29.45,
          31.3,
          28.625,
          31.375,
          25.9,
          26.25,
          25.958333333333332,
          29.1,
          31.1875,
          29.5,
          27.03125,
          28.7,
          27.38888888888889,
          25.555555555555557,
          25.5,
          29.214285714285715,
          24.85,
          22.5,
          26.375,
          26.375,
          27.5,
          25.5,
          38.75,
          27,
          26.95,
          25.875,
          26.4375,
          26.125,
          29.6875,
          26.727272727272727,
          26.392857142857142,
          27.863636363636363,
          24.625,
          27.045454545454547,
          27.65,
          28.15,
          28.96153846153846,
          26.38888888888889,
          25.944444444444443,
          25.90909090909091,
          28.375,
          25.61111111111111,
          25.423076923076923,
          26.75,
          25.88235294117647,
          26.093023255813954,
          25.483870967741936,
          27.228571428571428,
          26.666666666666668,
          25.596774193548388,
          26.620689655172413,
          26.152173913043477,
          26.87878787878788,
          25.72222222222222,
          24.904255319148938,
          24.794871794871796,
          25.855555555555554,
          26.203125,
          25.593023255813954,
          26.96875,
          31.846153846153847,
          30.38888888888889,
          27.416666666666668,
          26.24074074074074,
          27.513513513513512,
          27.653846153846153,
          26.7,
          26.74468085106383,
          26.1734693877551,
          26.622222222222224,
          28.50943396226415,
          26.630434782608695,
          26.833333333333332,
          27.183333333333334,
          26.40625,
          30.166666666666668,
          30.25,
          27.57843137254902,
          27.017241379310345,
          27.76595744680851,
          26.708955223880597,
          26.902173913043477,
          27.833333333333332,
          27.35185185185185,
          26.725,
          26.915254237288135,
          27.703703703703702,
          26.842105263157894,
          26.030864197530864,
          26.1625,
          26.206666666666667,
          25.94,
          25.984375,
          26.603896103896105,
          26.7265625,
          26.488372093023255,
          26.5,
          29.36842105263158,
          26.9,
          27.55263157894737,
          27.394736842105264,
          27.107142857142858,
          26.88,
          27.477272727272727,
          26.772727272727273,
          26.138297872340427,
          25.728571428571428,
          26.41891891891892,
          27.930555555555557,
          25.875,
          31.63888888888889,
          28.666666666666668,
          30.704545454545453,
          27.543478260869566,
          27.5625,
          26.75,
          26.75,
          27.5,
          26,
          26,
          27.5,
          26.75,
          28.666666666666668,
          26.375,
          30,
          37.5625,
          26.75,
          27.125,
          27.5,
          28,
          27.25,
          26.9,
          26,
          28,
          27,
          30,
          37.5,
          31.333333333333332,
          34,
          33.75,
          32.7,
          31.666666666666668,
          30.357142857142858,
          33.75,
          29.642857142857142,
          30.833333333333332,
          30.142857142857142,
          27.954545454545453,
          28.852941176470587,
          26.75,
          26.7,
          27.7,
          27.27777777777778,
          27.272727272727273,
          28.72222222222222,
          28.875,
          28.205882352941178,
          28.954545454545453,
          28.51923076923077,
          28.925,
          28.58823529411765,
          28.055555555555557,
          29.1,
          28.55,
          28.46551724137931,
          28.571428571428573,
          27.916666666666668,
          30.866666666666667,
          28.846153846153847,
          28.40909090909091,
          28.08888888888889,
          27.636363636363637,
          27.40625,
          26.923076923076923,
          26,
          40.75,
          30,
          31.25,
          30,
          32.166666666666664,
          32.5,
          35.5,
          30,
          32.5,
          30
         ],
         "yaxis": "y"
        },
        {
         "hovertemplate": "name=Lux Black<br>distance=%{x}<br>price=%{y}<extra></extra>",
         "legendgroup": "Lux Black",
         "line": {
          "color": "#EF553B",
          "dash": "solid"
         },
         "mode": "lines",
         "name": "Lux Black",
         "showlegend": true,
         "type": "scattergl",
         "x": [
          0.39,
          0.4,
          0.41,
          0.42,
          0.43,
          0.44,
          0.45,
          0.46,
          0.47,
          0.48,
          0.49,
          0.5,
          0.51,
          0.52,
          0.53,
          0.54,
          0.55,
          0.56,
          0.57,
          0.58,
          0.59,
          0.6,
          0.61,
          0.62,
          0.63,
          0.64,
          0.65,
          0.66,
          0.67,
          0.68,
          0.69,
          0.7,
          0.71,
          0.72,
          0.73,
          0.74,
          0.75,
          0.76,
          0.77,
          0.78,
          0.79,
          0.8,
          0.81,
          0.82,
          0.83,
          0.84,
          0.85,
          0.86,
          0.87,
          0.88,
          0.89,
          0.9,
          0.91,
          0.92,
          0.93,
          0.94,
          0.95,
          0.96,
          0.97,
          0.98,
          0.99,
          1,
          1.01,
          1.02,
          1.03,
          1.04,
          1.05,
          1.06,
          1.07,
          1.08,
          1.09,
          1.1,
          1.11,
          1.12,
          1.13,
          1.14,
          1.15,
          1.16,
          1.17,
          1.18,
          1.19,
          1.2,
          1.21,
          1.22,
          1.23,
          1.24,
          1.25,
          1.26,
          1.27,
          1.28,
          1.29,
          1.3,
          1.31,
          1.32,
          1.33,
          1.34,
          1.35,
          1.36,
          1.37,
          1.38,
          1.39,
          1.4,
          1.41,
          1.42,
          1.43,
          1.44,
          1.45,
          1.46,
          1.47,
          1.48,
          1.49,
          1.5,
          1.51,
          1.52,
          1.53,
          1.54,
          1.55,
          1.56,
          1.57,
          1.58,
          1.59,
          1.6,
          1.61,
          1.62,
          1.63,
          1.64,
          1.65,
          1.66,
          1.67,
          1.68,
          1.69,
          1.7,
          1.71,
          1.72,
          1.73,
          1.74,
          1.75,
          1.76,
          1.77,
          1.78,
          1.79,
          1.8,
          1.81,
          1.82,
          1.83,
          1.84,
          1.85,
          1.86,
          1.87,
          1.88,
          1.89,
          1.9,
          1.91,
          1.92,
          1.93,
          1.94,
          1.95,
          1.96,
          1.97,
          1.98,
          1.99,
          2,
          2.01,
          2.02,
          2.03,
          2.04,
          2.05,
          2.06,
          2.07,
          2.08,
          2.09,
          2.1,
          2.11,
          2.12,
          2.13,
          2.14,
          2.15,
          2.16,
          2.17,
          2.18,
          2.19,
          2.2,
          2.21,
          2.22,
          2.23,
          2.24,
          2.25,
          2.26,
          2.27,
          2.28,
          2.29,
          2.3,
          2.31,
          2.32,
          2.33,
          2.34,
          2.35,
          2.36,
          2.37,
          2.38,
          2.39,
          2.4,
          2.41,
          2.42,
          2.43,
          2.44,
          2.45,
          2.46,
          2.47,
          2.48,
          2.49,
          2.5,
          2.51,
          2.52,
          2.53,
          2.54,
          2.55,
          2.56,
          2.57,
          2.58,
          2.59,
          2.6,
          2.61,
          2.62,
          2.63,
          2.64,
          2.65,
          2.66,
          2.67,
          2.68,
          2.69,
          2.7,
          2.71,
          2.72,
          2.73,
          2.74,
          2.75,
          2.76,
          2.77,
          2.78,
          2.79,
          2.8,
          2.81,
          2.82,
          2.83,
          2.84,
          2.85,
          2.86,
          2.87,
          2.88,
          2.89,
          2.9,
          2.91,
          2.92,
          2.93,
          2.94,
          2.95,
          2.96,
          2.97,
          2.98,
          2.99,
          3,
          3.01,
          3.02,
          3.03,
          3.04,
          3.05,
          3.06,
          3.07,
          3.08,
          3.09,
          3.1,
          3.11,
          3.12,
          3.13,
          3.14,
          3.15,
          3.16,
          3.17,
          3.18,
          3.19,
          3.2,
          3.21,
          3.22,
          3.23,
          3.24,
          3.25,
          3.26,
          3.27,
          3.28,
          3.29,
          3.3,
          3.31,
          3.32,
          3.33,
          3.34,
          3.35,
          3.36,
          3.37,
          3.38,
          3.39,
          3.4,
          3.41,
          3.42,
          3.43,
          3.44,
          3.45,
          3.46,
          3.47,
          3.48,
          3.49,
          3.5,
          3.51,
          3.52,
          3.53,
          3.54,
          3.55,
          3.56,
          3.57,
          3.58,
          3.59,
          3.6,
          3.61,
          3.62,
          3.63,
          3.64,
          3.65,
          3.66,
          3.67,
          3.68,
          3.69,
          3.7,
          3.71,
          3.72,
          3.73,
          3.74,
          3.75,
          3.76,
          3.77,
          3.78,
          3.79,
          3.8,
          3.81,
          3.82,
          3.83,
          3.84,
          3.85,
          3.86,
          3.87,
          3.88,
          3.89,
          3.9,
          3.91,
          3.92,
          3.93,
          3.94,
          3.95,
          3.96,
          3.97,
          3.98,
          3.99,
          4,
          4.01,
          4.02,
          4.03,
          4.04,
          4.05,
          4.06,
          4.07,
          4.08,
          4.09,
          4.1,
          4.11,
          4.12,
          4.13,
          4.14,
          4.15,
          4.16,
          4.17,
          4.18,
          4.19,
          4.2,
          4.21,
          4.22,
          4.23,
          4.24,
          4.25,
          4.26,
          4.27,
          4.28,
          4.29,
          4.3,
          4.31,
          4.32,
          4.33,
          4.34,
          4.35,
          4.36,
          4.37,
          4.38,
          4.39,
          4.4,
          4.41,
          4.42,
          4.43,
          4.44,
          4.45,
          4.46,
          4.47,
          4.48,
          4.49,
          4.5,
          4.51,
          4.52,
          4.53,
          4.54,
          4.55,
          4.56,
          4.57,
          4.58,
          4.59,
          4.6,
          4.61,
          4.62,
          4.63,
          4.64,
          4.65,
          4.66,
          4.67,
          4.68,
          4.69,
          4.7,
          4.71,
          4.72,
          4.73,
          4.74,
          4.75,
          4.76,
          4.77,
          4.78,
          4.79,
          4.8,
          4.81,
          4.82,
          4.83,
          4.85,
          4.87,
          4.89,
          4.9,
          4.91,
          4.93,
          4.94,
          4.95,
          4.96,
          4.97,
          4.98,
          4.99,
          5,
          5.01,
          5.02,
          5.03,
          5.04,
          5.05,
          5.06,
          5.08,
          5.09,
          5.1,
          5.11,
          5.12,
          5.13,
          5.14,
          5.15,
          5.16,
          5.17,
          5.18,
          5.19,
          5.2,
          5.21,
          5.22,
          5.23,
          5.24,
          5.25,
          5.26,
          5.27,
          5.28,
          5.29,
          5.3,
          5.31,
          5.32,
          5.33,
          5.34,
          5.35,
          5.36,
          5.37,
          5.38,
          5.39,
          5.4,
          5.41,
          5.42,
          5.43,
          5.44,
          5.45,
          5.46,
          5.86,
          5.95,
          6,
          6.03,
          6.04,
          6.09,
          6.12,
          6.13,
          6.14,
          6.33
         ],
         "xaxis": "x",
         "y": [
          16.91860465116279,
          16.5,
          16.5,
          17.426829268292682,
          16.536363636363635,
          16.5,
          16.81764705882353,
          17.408450704225352,
          16.5,
          17.56140350877193,
          16.833333333333332,
          16.5,
          16.5,
          16.5,
          16.602040816326532,
          16.5,
          16.797029702970296,
          16.84090909090909,
          16.587591240875913,
          16.69402985074627,
          17.31225296442688,
          16.622448979591837,
          17.518691588785046,
          17.017241379310345,
          16.958015267175572,
          17.141826923076923,
          16.76027397260274,
          17.05048076923077,
          16.709302325581394,
          17.858024691358025,
          16.738938053097346,
          16.72641509433962,
          17.136290322580646,
          16.72641509433962,
          16.566666666666666,
          16.606508875739646,
          16.71590909090909,
          16.66,
          16.66822429906542,
          16.5,
          16.5,
          17.357142857142858,
          16.666666666666668,
          16.5,
          17.5,
          16.5,
          16.5,
          17.142857142857142,
          17.348484848484848,
          17.12162162162162,
          17.657894736842106,
          16.61111111111111,
          16.827272727272728,
          16.585714285714285,
          16.58108108108108,
          16.59090909090909,
          16.5,
          16.5,
          16.88095238095238,
          16.61392405063291,
          16.60931174089069,
          16.91089108910891,
          16.59418918918919,
          16.603806228373703,
          16.780155642023345,
          16.816666666666666,
          17.227707006369428,
          17.32680412371134,
          16.891752577319586,
          17.045882352941177,
          16.962897526501767,
          16.77,
          17.642857142857142,
          17.146396396396398,
          17.257847533632287,
          17.753164556962027,
          17.207894736842107,
          17.51937984496124,
          17.866013071895424,
          17.349397590361445,
          17.429906542056074,
          17.482142857142858,
          17.630252100840337,
          17.882775119617225,
          17.679190751445088,
          17.642638036809817,
          17.656553398058254,
          17.392857142857142,
          17.074137931034482,
          17.109375,
          17.370967741935484,
          17.815217391304348,
          18.164473684210527,
          18.995412844036696,
          19.429447852760735,
          18.84313725490196,
          19.126237623762375,
          18.130434782608695,
          18.15343915343915,
          17.57857142857143,
          17.844202898550726,
          18.12562814070352,
          17.859223300970875,
          18.62280701754386,
          18.8,
          18.33623188405797,
          18.469924812030076,
          18.578767123287673,
          19.310185185185187,
          19.24778761061947,
          19.141538461538463,
          19.735294117647058,
          20.275462962962962,
          20.240458015267176,
          19.11489898989899,
          19.91214057507987,
          19.885365853658538,
          20.2311320754717,
          20.191860465116278,
          20.511627906976745,
          18.464285714285715,
          19.394736842105264,
          19.535714285714285,
          19,
          22.2,
          21.575,
          20.813970588235293,
          19.913793103448278,
          19.827272727272728,
          20.67283950617284,
          21.648,
          22.2,
          22.261702127659575,
          22.029284164859003,
          21.112603305785125,
          20.820574162679424,
          20.493617021276595,
          21.79591836734694,
          21.21590909090909,
          21.487179487179485,
          21.397260273972602,
          21.827272727272728,
          22.09259259259259,
          21.923076923076923,
          21.642857142857142,
          21.96969696969697,
          20.89,
          21.516129032258064,
          22.416666666666668,
          21.67241379310345,
          22.591836734693878,
          22.13157894736842,
          21.518987341772153,
          21.735714285714284,
          21.517241379310345,
          20.976470588235294,
          21.92105263157895,
          22.28723404255319,
          23.61111111111111,
          22.072916666666668,
          22.726495726495727,
          22.66887417218543,
          22.260416666666668,
          23.181818181818183,
          22.25,
          22.317307692307693,
          22.4,
          22.037593984962406,
          22.607734806629836,
          22.721153846153847,
          21.975247524752476,
          22.133064516129032,
          21.81761006289308,
          22.36111111111111,
          22.454838709677418,
          22.153846153846153,
          22.918552036199095,
          22.626506024096386,
          21.725,
          26.27777777777778,
          27.104166666666668,
          22.473684210526315,
          22.68421052631579,
          25.18421052631579,
          23.21818181818182,
          23.278688524590162,
          24.31132075471698,
          24.02020202020202,
          24.048192771084338,
          23.4234693877551,
          23.731543624161073,
          24.311363636363637,
          23.32200647249191,
          23.399509803921568,
          22.997409326424872,
          23.666666666666668,
          23.23446327683616,
          23.30094786729858,
          23.715547703180214,
          23.669616519174042,
          22.932989690721648,
          23.55030487804878,
          23.81983240223464,
          23.21242774566474,
          23.86416184971098,
          24.293882978723403,
          24.573394495412845,
          24.32128514056225,
          23.8841059602649,
          24.531690140845072,
          23.85031847133758,
          24.82919254658385,
          25.59090909090909,
          25.023333333333333,
          24.75,
          24.985849056603772,
          24.080882352941178,
          24.297619047619047,
          24.405172413793103,
          24.573333333333334,
          24.9375,
          27.644444444444446,
          26.432692307692307,
          24.617977528089888,
          24.62719298245614,
          25.323863636363637,
          25.29255319148936,
          24.195906432748536,
          24.496913580246915,
          24.789285714285715,
          26.921875,
          24.229591836734695,
          27.08823529411765,
          24.539735099337747,
          24.844202898550726,
          25.08490566037736,
          26.49484536082474,
          26.38235294117647,
          25.73148148148148,
          27.72222222222222,
          27.153225806451612,
          26.47142857142857,
          27.39179104477612,
          25.880228136882128,
          25.83629893238434,
          25.325581395348838,
          25.113636363636363,
          26.251612903225805,
          25.71186440677966,
          25.46713615023474,
          26.1294964028777,
          27.08695652173913,
          26.933333333333334,
          27.485714285714284,
          26.56192660550459,
          26.612107623318387,
          26.75111111111111,
          26.429787234042553,
          26.89375,
          25.94054054054054,
          27.325,
          28.397560975609757,
          27.876506024096386,
          27.25609756097561,
          27.61006289308176,
          27.933526011560694,
          27.661538461538463,
          27.577617328519857,
          27.189956331877728,
          27.341772151898734,
          27.795652173913044,
          26.97087378640777,
          27.35483870967742,
          27.63081395348837,
          27.522421524663677,
          27.16616314199396,
          26.57549504950495,
          27.636186770428015,
          28.129432624113477,
          27.991561181434598,
          27.943983402489625,
          27.557339449541285,
          28.839622641509433,
          28.350352112676056,
          28.899641577060933,
          28.693467336683415,
          28.187234042553193,
          28.26279069767442,
          28.8556338028169,
          29.279761904761905,
          28.272727272727273,
          27.164,
          28.072580645161292,
          28.11764705882353,
          27.930555555555557,
          28.3828125,
          29.276315789473685,
          28.65,
          28.181818181818183,
          33,
          30.025641025641026,
          29.680555555555557,
          29.81132075471698,
          31.023529411764706,
          28.71759259259259,
          30.869918699186993,
          31.044444444444444,
          29.559633027522935,
          28.778301886792452,
          28.823863636363637,
          27.887755102040817,
          27.885416666666668,
          28.057142857142857,
          28.18421052631579,
          28.320224719101123,
          28.114583333333332,
          32.14705882352941,
          38.25,
          31.857142857142858,
          32.166666666666664,
          31.625,
          31.25,
          32.125,
          30.25,
          32.5,
          28.363636363636363,
          31.875,
          47,
          37.35,
          39,
          35.125,
          38.541666666666664,
          32.8,
          35.25,
          31.541666666666668,
          35.7,
          37.75,
          36.53125,
          34.90625,
          35.35,
          33.388888888888886,
          32.888888888888886,
          31.25,
          36.642857142857146,
          32.65,
          32.5,
          32.625,
          33.625,
          35.5,
          32,
          47.5,
          34.166666666666664,
          35.1,
          32.25,
          34.25,
          32.625,
          36,
          33.18181818181818,
          32.67857142857143,
          34.63636363636363,
          31.875,
          33.68181818181818,
          35.35,
          35.05,
          35.88461538461539,
          34,
          32.611111111111114,
          33.18181818181818,
          36.291666666666664,
          32.388888888888886,
          33.26923076923077,
          33.107142857142854,
          33,
          32.69767441860465,
          32.903225806451616,
          35.32857142857143,
          34.40277777777778,
          33.88333333333333,
          34.6551724137931,
          33.891304347826086,
          34.28787878787879,
          32.93055555555556,
          33.0531914893617,
          33.294871794871796,
          34.22222222222222,
          34.96875,
          33.674418604651166,
          35.09375,
          40.65384615384615,
          39.138888888888886,
          35.541666666666664,
          33.05555555555556,
          33.945945945945944,
          35.14102564102564,
          33.74,
          34.21739130434783,
          33.724489795918366,
          34.355555555555554,
          35.84905660377358,
          32.43478260869565,
          34.17857142857143,
          35.03333333333333,
          33.78125,
          39.55555555555556,
          39.65,
          35.411764705882355,
          35.41379310344828,
          36.297872340425535,
          34.621212121212125,
          35.31521739130435,
          35.138297872340424,
          34.574074074074076,
          33.44166666666667,
          34.57627118644068,
          35.39506172839506,
          34.36842105263158,
          33.47530864197531,
          33.5375,
          33.229729729729726,
          32.77333333333333,
          33.421875,
          34.24025974025974,
          33.609375,
          34.36046511627907,
          32.73529411764706,
          36.973684210526315,
          34.3,
          33.89473684210526,
          35.13157894736842,
          34.80357142857143,
          34.38,
          35.34090909090909,
          34.13636363636363,
          34.723404255319146,
          33.44285714285714,
          33.63513513513514,
          36.236111111111114,
          33.5,
          39.388888888888886,
          35.916666666666664,
          39.34090909090909,
          34.73913043478261,
          34.5625,
          36.25,
          33.25,
          32.5,
          34,
          34,
          32.5,
          36.25,
          36.833333333333336,
          33.625,
          39.416666666666664,
          48.75,
          36.25,
          35.875,
          38.5,
          36,
          34.75,
          35.5,
          34,
          36,
          38.333333333333336,
          38,
          47.833333333333336,
          39.833333333333336,
          42.5,
          43.833333333333336,
          43.9,
          38.333333333333336,
          38.357142857142854,
          42.166666666666664,
          38.357142857142854,
          38.5,
          37.714285714285715,
          36.31818181818182,
          37.411764705882355,
          34.75,
          35.166666666666664,
          38.3,
          34.94444444444444,
          36.72727272727273,
          37.833333333333336,
          37.625,
          37.794117647058826,
          39.04545454545455,
          37.86538461538461,
          37.975,
          38.11764705882353,
          38.388888888888886,
          38.13333333333333,
          37.96666666666667,
          37.91379310344828,
          38.154761904761905,
          37.6875,
          40.45,
          38.333333333333336,
          38.375,
          37.611111111111114,
          37.09090909090909,
          36.96875,
          36.76923076923077,
          34,
          52.5,
          38,
          40.5,
          42.5,
          41.166666666666664,
          38.5,
          42,
          38,
          38.5,
          42.5
         ],
         "yaxis": "y"
        },
        {
         "hovertemplate": "name=Lux Black XL<br>distance=%{x}<br>price=%{y}<extra></extra>",
         "legendgroup": "Lux Black XL",
         "line": {
          "color": "#00cc96",
          "dash": "solid"
         },
         "mode": "lines",
         "name": "Lux Black XL",
         "showlegend": true,
         "type": "scattergl",
         "x": [
          0.39,
          0.4,
          0.41,
          0.42,
          0.43,
          0.44,
          0.45,
          0.46,
          0.47,
          0.48,
          0.49,
          0.5,
          0.51,
          0.52,
          0.53,
          0.54,
          0.55,
          0.56,
          0.57,
          0.58,
          0.59,
          0.6,
          0.61,
          0.62,
          0.63,
          0.64,
          0.65,
          0.66,
          0.67,
          0.68,
          0.69,
          0.7,
          0.71,
          0.72,
          0.73,
          0.74,
          0.75,
          0.76,
          0.77,
          0.78,
          0.79,
          0.8,
          0.81,
          0.82,
          0.83,
          0.84,
          0.85,
          0.86,
          0.87,
          0.88,
          0.89,
          0.9,
          0.91,
          0.92,
          0.93,
          0.94,
          0.95,
          0.96,
          0.97,
          0.98,
          0.99,
          1,
          1.01,
          1.02,
          1.03,
          1.04,
          1.05,
          1.06,
          1.07,
          1.08,
          1.09,
          1.1,
          1.11,
          1.12,
          1.13,
          1.14,
          1.15,
          1.16,
          1.17,
          1.18,
          1.19,
          1.2,
          1.21,
          1.22,
          1.23,
          1.24,
          1.25,
          1.26,
          1.27,
          1.28,
          1.29,
          1.3,
          1.31,
          1.32,
          1.33,
          1.34,
          1.35,
          1.36,
          1.37,
          1.38,
          1.39,
          1.4,
          1.41,
          1.42,
          1.43,
          1.44,
          1.45,
          1.46,
          1.47,
          1.48,
          1.49,
          1.5,
          1.51,
          1.52,
          1.53,
          1.54,
          1.55,
          1.56,
          1.57,
          1.58,
          1.59,
          1.6,
          1.61,
          1.62,
          1.63,
          1.64,
          1.65,
          1.66,
          1.67,
          1.68,
          1.69,
          1.7,
          1.71,
          1.72,
          1.73,
          1.74,
          1.75,
          1.76,
          1.77,
          1.78,
          1.79,
          1.8,
          1.81,
          1.82,
          1.83,
          1.84,
          1.85,
          1.86,
          1.87,
          1.88,
          1.89,
          1.9,
          1.91,
          1.92,
          1.93,
          1.94,
          1.95,
          1.96,
          1.97,
          1.98,
          1.99,
          2,
          2.01,
          2.02,
          2.03,
          2.04,
          2.05,
          2.06,
          2.07,
          2.08,
          2.09,
          2.1,
          2.11,
          2.12,
          2.13,
          2.14,
          2.15,
          2.16,
          2.17,
          2.18,
          2.19,
          2.2,
          2.21,
          2.22,
          2.23,
          2.24,
          2.25,
          2.26,
          2.27,
          2.28,
          2.29,
          2.3,
          2.31,
          2.32,
          2.33,
          2.34,
          2.35,
          2.36,
          2.37,
          2.38,
          2.39,
          2.4,
          2.41,
          2.42,
          2.43,
          2.44,
          2.45,
          2.46,
          2.47,
          2.48,
          2.49,
          2.5,
          2.51,
          2.52,
          2.53,
          2.54,
          2.55,
          2.56,
          2.57,
          2.58,
          2.59,
          2.6,
          2.61,
          2.62,
          2.63,
          2.64,
          2.65,
          2.66,
          2.67,
          2.68,
          2.69,
          2.7,
          2.71,
          2.72,
          2.73,
          2.74,
          2.75,
          2.76,
          2.77,
          2.78,
          2.79,
          2.8,
          2.81,
          2.82,
          2.83,
          2.84,
          2.85,
          2.86,
          2.87,
          2.88,
          2.89,
          2.9,
          2.91,
          2.92,
          2.93,
          2.94,
          2.95,
          2.96,
          2.97,
          2.98,
          2.99,
          3,
          3.01,
          3.02,
          3.03,
          3.04,
          3.05,
          3.06,
          3.07,
          3.08,
          3.09,
          3.1,
          3.11,
          3.12,
          3.13,
          3.14,
          3.15,
          3.16,
          3.17,
          3.18,
          3.19,
          3.2,
          3.21,
          3.22,
          3.23,
          3.24,
          3.25,
          3.26,
          3.27,
          3.28,
          3.29,
          3.3,
          3.31,
          3.32,
          3.33,
          3.34,
          3.35,
          3.36,
          3.37,
          3.38,
          3.39,
          3.4,
          3.41,
          3.42,
          3.43,
          3.44,
          3.45,
          3.46,
          3.47,
          3.48,
          3.49,
          3.5,
          3.51,
          3.52,
          3.53,
          3.54,
          3.55,
          3.56,
          3.57,
          3.58,
          3.59,
          3.6,
          3.61,
          3.62,
          3.63,
          3.64,
          3.65,
          3.66,
          3.67,
          3.68,
          3.69,
          3.7,
          3.71,
          3.72,
          3.73,
          3.74,
          3.75,
          3.76,
          3.77,
          3.78,
          3.79,
          3.8,
          3.81,
          3.82,
          3.83,
          3.84,
          3.85,
          3.86,
          3.87,
          3.88,
          3.89,
          3.9,
          3.91,
          3.92,
          3.93,
          3.94,
          3.95,
          3.96,
          3.97,
          3.98,
          3.99,
          4,
          4.01,
          4.02,
          4.03,
          4.04,
          4.05,
          4.06,
          4.07,
          4.08,
          4.09,
          4.1,
          4.11,
          4.12,
          4.13,
          4.14,
          4.15,
          4.16,
          4.17,
          4.18,
          4.19,
          4.2,
          4.21,
          4.22,
          4.23,
          4.24,
          4.25,
          4.26,
          4.27,
          4.28,
          4.29,
          4.3,
          4.31,
          4.32,
          4.33,
          4.34,
          4.35,
          4.36,
          4.37,
          4.38,
          4.39,
          4.4,
          4.41,
          4.42,
          4.43,
          4.44,
          4.45,
          4.46,
          4.47,
          4.48,
          4.49,
          4.5,
          4.51,
          4.52,
          4.53,
          4.54,
          4.55,
          4.56,
          4.57,
          4.58,
          4.59,
          4.6,
          4.61,
          4.62,
          4.63,
          4.64,
          4.65,
          4.66,
          4.67,
          4.68,
          4.69,
          4.7,
          4.71,
          4.72,
          4.73,
          4.74,
          4.75,
          4.76,
          4.77,
          4.78,
          4.79,
          4.8,
          4.81,
          4.82,
          4.83,
          4.85,
          4.87,
          4.89,
          4.9,
          4.91,
          4.93,
          4.94,
          4.95,
          4.96,
          4.97,
          4.98,
          4.99,
          5,
          5.01,
          5.02,
          5.03,
          5.04,
          5.05,
          5.06,
          5.08,
          5.09,
          5.1,
          5.11,
          5.12,
          5.13,
          5.14,
          5.15,
          5.16,
          5.17,
          5.18,
          5.19,
          5.2,
          5.21,
          5.22,
          5.23,
          5.24,
          5.25,
          5.26,
          5.27,
          5.28,
          5.29,
          5.3,
          5.31,
          5.32,
          5.33,
          5.34,
          5.35,
          5.36,
          5.37,
          5.38,
          5.39,
          5.4,
          5.41,
          5.42,
          5.43,
          5.44,
          5.45,
          5.46,
          5.86,
          5.95,
          6,
          6.03,
          6.04,
          6.09,
          6.12,
          6.13,
          6.14,
          6.33
         ],
         "xaxis": "x",
         "y": [
          27.325581395348838,
          26.78,
          26,
          28.182926829268293,
          26.775757575757577,
          26.71590909090909,
          27.323529411764707,
          28.45390070921986,
          26.86842105263158,
          28.482456140350877,
          27.25925925925926,
          26.529411764705884,
          26.642857142857142,
          26.838983050847457,
          26.855704697986578,
          26.64453125,
          27.207920792079207,
          27.36723163841808,
          27.003649635036496,
          27.097014925373134,
          28.236220472440944,
          27.010204081632654,
          28.50467289719626,
          27.666666666666668,
          27.416030534351144,
          28.045673076923077,
          27.121004566210047,
          27.692307692307693,
          26.872093023255815,
          29.160493827160494,
          27.04424778761062,
          26.867924528301888,
          27.908602150537636,
          27.159375,
          26.82777777777778,
          26.906432748538013,
          27.125,
          27.033333333333335,
          26.981308411214954,
          26.910714285714285,
          26.5625,
          27.571428571428573,
          27.27777777777778,
          26,
          27.833333333333332,
          26.923076923076923,
          26.45,
          28.035714285714285,
          28.272727272727273,
          27.77027027027027,
          28.12280701754386,
          26.925925925925927,
          27.1,
          26.82857142857143,
          26.905405405405407,
          27.015151515151516,
          26.701612903225808,
          26.807692307692307,
          27.44047619047619,
          26.974683544303797,
          26.83266129032258,
          27.348684210526315,
          26.8544474393531,
          26.910034602076124,
          27.12984496124031,
          27.141666666666666,
          27.6671974522293,
          27.963991769547324,
          27.201030927835053,
          27.414117647058823,
          27.091872791519435,
          26.8681592039801,
          28.223214285714285,
          27.208783783783787,
          27.054054054054053,
          27.06645569620253,
          27.176315789473684,
          27.94573643410853,
          28.176470588235293,
          27.42168674698795,
          27.200934579439252,
          27.28014184397163,
          27.071428571428573,
          26.904306220095695,
          26.877167630057805,
          27.344615384615384,
          27.475728155339805,
          27.709183673469386,
          27.3,
          27.14375,
          26.79032258064516,
          27.494565217391305,
          27.68421052631579,
          27.761467889908257,
          28.395705521472394,
          27.441558441558442,
          28.48267326732673,
          27.804347826086957,
          28.193121693121693,
          27.516666666666666,
          27.91304347826087,
          28.128140703517587,
          27.344660194174757,
          27.92105263157895,
          29.376106194690266,
          28.11159420289855,
          28.27,
          27.981164383561644,
          28.54147465437788,
          28.402654867256636,
          28.764615384615386,
          28.99607843137255,
          29.49537037037037,
          29.30534351145038,
          27.940656565656564,
          28.45673076923077,
          28.541463414634148,
          29.183962264150942,
          29.459302325581394,
          29.13953488372093,
          28.071428571428573,
          27.81578947368421,
          28.642857142857142,
          26.75,
          30.2,
          29.4875,
          28.88235294117647,
          27.724137931034484,
          28.145454545454545,
          28.444444444444443,
          29.676,
          30.174193548387098,
          30.068085106382977,
          30.362255965292842,
          28.9097510373444,
          28.455847255369928,
          28.3,
          29.404761904761905,
          28.517045454545453,
          29.192307692307693,
          29.28082191780822,
          30.026785714285715,
          30,
          30.064102564102566,
          29.135714285714286,
          30,
          28.88,
          29.475806451612904,
          30.59375,
          29.448275862068964,
          31.23469387755102,
          29.771929824561404,
          29.069620253164558,
          29.37142857142857,
          29.42241379310345,
          28.95294117647059,
          29.778947368421054,
          30.95212765957447,
          32.42777777777778,
          30.083333333333332,
          31.286324786324787,
          31.019867549668874,
          30.75347222222222,
          31.936363636363637,
          30.79225352112676,
          30.76923076923077,
          29.77777777777778,
          29.774436090225564,
          30.19060773480663,
          30.400641025641026,
          29.866336633663366,
          30.044354838709676,
          29.813291139240505,
          30.55902777777778,
          31,
          30.721153846153847,
          31.41176470588235,
          30.843373493975903,
          29.80625,
          35.388888888888886,
          36.1875,
          31.81578947368421,
          31.342105263157894,
          33.3421052631579,
          31.509090909090908,
          31.991803278688526,
          33.283018867924525,
          32.38383838383838,
          32.24698795180723,
          31.994897959183675,
          32.42617449664429,
          33.39592760180995,
          31.575806451612902,
          31.67401960784314,
          31.27720207253886,
          32.50757575757576,
          31.805084745762713,
          31.703791469194314,
          32.54946996466431,
          32.256637168141594,
          31.29280821917808,
          31.98780487804878,
          32.46927374301676,
          31.63256484149856,
          32.283236994219656,
          32.5,
          33.64908256880734,
          33.15261044176707,
          32.61258278145695,
          33.482394366197184,
          32.3343949044586,
          33.61490683229814,
          34.62234042553192,
          33.836666666666666,
          33.51744186046512,
          33.84905660377358,
          32.6764705882353,
          33.357142857142854,
          33.51724137931034,
          34.04666666666667,
          34.4375,
          35.96666666666667,
          35.69230769230769,
          33.6123595505618,
          33.921052631578945,
          34.86931818181818,
          34.77127659574468,
          33.46491228070175,
          33.49691358024691,
          33.364285714285714,
          35.5546875,
          33.16836734693877,
          36.705882352941174,
          33.26470588235294,
          33.79347826086956,
          33.45754716981132,
          35.23711340206186,
          35.088235294117645,
          35.01851851851852,
          36.794444444444444,
          35.935483870967744,
          35.33714285714286,
          36.201492537313435,
          34.657794676806084,
          34.88256227758007,
          34.065891472868216,
          33.74431818181818,
          35.16129032258065,
          34.17796610169491,
          34.075117370892016,
          35.65827338129496,
          36.11739130434783,
          35.55555555555556,
          35.878571428571426,
          35.711009174311926,
          35.4054054054054,
          35.74666666666667,
          34.719148936170214,
          35.7375,
          34.63315217391305,
          36.25555555555555,
          37.443627450980394,
          37.575301204819276,
          36.739837398373986,
          36.9685534591195,
          37.11271676300578,
          36.42307692307692,
          35.80395683453237,
          35.30786026200873,
          36.41139240506329,
          37.12608695652174,
          35.6626213592233,
          36.38018433179724,
          36.60233918128655,
          36.0762331838565,
          35.56212121212121,
          34.82716049382716,
          36.53307392996109,
          37.06382978723404,
          37.0021186440678,
          36.7448132780083,
          36.46949541284404,
          38.22727272727273,
          37.528169014084504,
          38.11607142857143,
          37.78140703517588,
          37.94893617021277,
          37.5953488372093,
          38.602112676056336,
          39.351190476190474,
          38.05050505050505,
          36.832,
          37.77150537634409,
          38.20740740740741,
          38.138888888888886,
          36.6640625,
          37.6578947368421,
          36.864285714285714,
          37.46969696969697,
          43.04545454545455,
          41.333333333333336,
          39.74305555555556,
          40.132075471698116,
          40.6764705882353,
          38.13425925925926,
          41.040650406504064,
          41.272222222222226,
          39.6651376146789,
          38.70283018867924,
          39.01704545454545,
          37.964646464646464,
          37.104166666666664,
          37.48571428571429,
          36.96153846153846,
          37.12359550561798,
          37.802083333333336,
          41.5,
          48.583333333333336,
          40.92857142857143,
          40.916666666666664,
          40.375,
          40.5,
          42.125,
          42.625,
          38.5,
          38.36363636363637,
          39.5,
          59.2,
          48.5,
          50.1,
          46.125,
          50.25,
          43.3,
          45.5,
          42.666666666666664,
          45.8,
          50.75,
          46.0625,
          42.8125,
          45.65,
          42.111111111111114,
          40.72222222222222,
          42.25,
          46.642857142857146,
          40.55,
          38.5,
          42.125,
          41.5,
          42,
          42.6,
          65,
          43.166666666666664,
          42.5,
          41.125,
          43.9375,
          44,
          47.0625,
          42.5,
          42,
          45.27272727272727,
          39.5,
          44.5,
          46.4,
          47.05,
          46.46153846153846,
          43.05555555555556,
          41.166666666666664,
          42.22727272727273,
          47.416666666666664,
          41.611111111111114,
          41.5,
          42.5,
          42.5,
          42.66279069767442,
          42.403225806451616,
          45.628571428571426,
          44.15277777777778,
          42.725806451612904,
          44.241379310344826,
          43.52173913043478,
          44.28787878787879,
          42.833333333333336,
          41.276595744680854,
          41.67948717948718,
          42.87777777777778,
          43.984375,
          42.63953488372093,
          45.03125,
          51.76923076923077,
          50.72222222222222,
          44.875,
          42.77777777777778,
          44.87837837837838,
          45.03846153846154,
          43.04,
          43.97872340425532,
          43.01020408163265,
          43.72222222222222,
          46.70754716981132,
          43.67391304347826,
          44.67857142857143,
          44.28333333333333,
          42.53125,
          49.138888888888886,
          50.3,
          45.6764705882353,
          45.30172413793103,
          46.57446808510638,
          44.634328358208954,
          44.71739130434783,
          46.072916666666664,
          44.666666666666664,
          43.8,
          44.771186440677965,
          46.28395061728395,
          44.56315789473684,
          43.160493827160494,
          43.01875,
          42.641891891891895,
          42.81333333333333,
          43.104166666666664,
          43.714285714285715,
          43.3828125,
          43.02325581395349,
          43.44117647058823,
          47.73684210526316,
          44.3,
          44.05263157894737,
          44.05263157894737,
          44.74464285714286,
          44.62,
          45.5,
          44.15909090909091,
          43.170212765957444,
          41.9,
          42.810810810810814,
          46.041666666666664,
          42.964285714285715,
          52.861111111111114,
          48,
          50.27272727272727,
          45.58695652173913,
          46.1875,
          44,
          44,
          45.5,
          42.5,
          42.5,
          45.5,
          44,
          47.5,
          43.25,
          50.25,
          61.6875,
          44,
          46,
          45.5,
          47.5,
          45,
          45.3,
          42.5,
          45,
          46.166666666666664,
          47.5,
          56.833333333333336,
          51,
          52.5,
          55.75,
          53.1,
          52.5,
          49.785714285714285,
          54.75,
          48.42857142857143,
          50.166666666666664,
          47.642857142857146,
          45.77272727272727,
          47.470588235294116,
          44,
          45.233333333333334,
          46.3,
          44.72222222222222,
          45.86363636363637,
          46.388888888888886,
          46.375,
          45.85294117647059,
          46.72727272727273,
          46.32692307692308,
          46.8,
          46.88235294117647,
          45.94444444444444,
          47.233333333333334,
          46.68333333333333,
          46.827586206896555,
          46.95238095238095,
          46.083333333333336,
          51.016666666666666,
          47.58974358974359,
          47.34090909090909,
          46.51111111111111,
          46.31818181818182,
          45.6875,
          45.88461538461539,
          47.5,
          66.5,
          47.5,
          52.5,
          52.5,
          53.333333333333336,
          55,
          58.75,
          47.5,
          55,
          47.5
         ],
         "yaxis": "y"
        },
        {
         "hovertemplate": "name=Lyft<br>distance=%{x}<br>price=%{y}<extra></extra>",
         "legendgroup": "Lyft",
         "line": {
          "color": "#ab63fa",
          "dash": "solid"
         },
         "mode": "lines",
         "name": "Lyft",
         "showlegend": true,
         "type": "scattergl",
         "x": [
          0.39,
          0.4,
          0.41,
          0.42,
          0.43,
          0.44,
          0.45,
          0.46,
          0.47,
          0.48,
          0.49,
          0.5,
          0.51,
          0.52,
          0.53,
          0.54,
          0.55,
          0.56,
          0.57,
          0.58,
          0.59,
          0.6,
          0.61,
          0.62,
          0.63,
          0.64,
          0.65,
          0.66,
          0.67,
          0.68,
          0.69,
          0.7,
          0.71,
          0.72,
          0.73,
          0.74,
          0.75,
          0.76,
          0.77,
          0.78,
          0.79,
          0.8,
          0.81,
          0.82,
          0.83,
          0.84,
          0.85,
          0.86,
          0.87,
          0.88,
          0.89,
          0.9,
          0.91,
          0.92,
          0.93,
          0.94,
          0.95,
          0.96,
          0.97,
          0.98,
          0.99,
          1,
          1.01,
          1.02,
          1.03,
          1.04,
          1.05,
          1.06,
          1.07,
          1.08,
          1.09,
          1.1,
          1.11,
          1.12,
          1.13,
          1.14,
          1.15,
          1.16,
          1.17,
          1.18,
          1.19,
          1.2,
          1.21,
          1.22,
          1.23,
          1.24,
          1.25,
          1.26,
          1.27,
          1.28,
          1.29,
          1.3,
          1.31,
          1.32,
          1.33,
          1.34,
          1.35,
          1.36,
          1.37,
          1.38,
          1.39,
          1.4,
          1.41,
          1.42,
          1.43,
          1.44,
          1.45,
          1.46,
          1.47,
          1.48,
          1.49,
          1.5,
          1.51,
          1.52,
          1.53,
          1.54,
          1.55,
          1.56,
          1.57,
          1.58,
          1.59,
          1.6,
          1.61,
          1.62,
          1.63,
          1.64,
          1.65,
          1.66,
          1.67,
          1.68,
          1.69,
          1.7,
          1.71,
          1.72,
          1.73,
          1.74,
          1.75,
          1.76,
          1.77,
          1.78,
          1.79,
          1.8,
          1.81,
          1.82,
          1.83,
          1.84,
          1.85,
          1.86,
          1.87,
          1.88,
          1.89,
          1.9,
          1.91,
          1.92,
          1.93,
          1.94,
          1.95,
          1.96,
          1.97,
          1.98,
          1.99,
          2,
          2.01,
          2.02,
          2.03,
          2.04,
          2.05,
          2.06,
          2.07,
          2.08,
          2.09,
          2.1,
          2.11,
          2.12,
          2.13,
          2.14,
          2.15,
          2.16,
          2.17,
          2.18,
          2.19,
          2.2,
          2.21,
          2.22,
          2.23,
          2.24,
          2.25,
          2.26,
          2.27,
          2.28,
          2.29,
          2.3,
          2.31,
          2.32,
          2.33,
          2.34,
          2.35,
          2.36,
          2.37,
          2.38,
          2.39,
          2.4,
          2.41,
          2.42,
          2.43,
          2.44,
          2.45,
          2.46,
          2.47,
          2.48,
          2.49,
          2.5,
          2.51,
          2.52,
          2.53,
          2.54,
          2.55,
          2.56,
          2.57,
          2.58,
          2.59,
          2.6,
          2.61,
          2.62,
          2.63,
          2.64,
          2.65,
          2.66,
          2.67,
          2.68,
          2.69,
          2.7,
          2.71,
          2.72,
          2.73,
          2.74,
          2.75,
          2.76,
          2.77,
          2.78,
          2.79,
          2.8,
          2.81,
          2.82,
          2.83,
          2.84,
          2.85,
          2.86,
          2.87,
          2.88,
          2.89,
          2.9,
          2.91,
          2.92,
          2.93,
          2.94,
          2.95,
          2.96,
          2.97,
          2.98,
          2.99,
          3,
          3.01,
          3.02,
          3.03,
          3.04,
          3.05,
          3.06,
          3.07,
          3.08,
          3.09,
          3.1,
          3.11,
          3.12,
          3.13,
          3.14,
          3.15,
          3.16,
          3.17,
          3.18,
          3.19,
          3.2,
          3.21,
          3.22,
          3.23,
          3.24,
          3.25,
          3.26,
          3.27,
          3.28,
          3.29,
          3.3,
          3.31,
          3.32,
          3.33,
          3.34,
          3.35,
          3.36,
          3.37,
          3.38,
          3.39,
          3.4,
          3.41,
          3.42,
          3.43,
          3.44,
          3.45,
          3.46,
          3.47,
          3.48,
          3.49,
          3.5,
          3.51,
          3.52,
          3.53,
          3.54,
          3.55,
          3.56,
          3.57,
          3.58,
          3.59,
          3.6,
          3.61,
          3.62,
          3.63,
          3.64,
          3.65,
          3.66,
          3.67,
          3.68,
          3.69,
          3.7,
          3.71,
          3.72,
          3.73,
          3.74,
          3.75,
          3.76,
          3.77,
          3.78,
          3.79,
          3.8,
          3.81,
          3.82,
          3.83,
          3.84,
          3.85,
          3.86,
          3.87,
          3.88,
          3.89,
          3.9,
          3.91,
          3.92,
          3.93,
          3.94,
          3.95,
          3.96,
          3.97,
          3.98,
          3.99,
          4,
          4.01,
          4.02,
          4.03,
          4.04,
          4.05,
          4.06,
          4.07,
          4.08,
          4.09,
          4.1,
          4.11,
          4.12,
          4.13,
          4.14,
          4.15,
          4.16,
          4.17,
          4.18,
          4.19,
          4.2,
          4.21,
          4.22,
          4.23,
          4.24,
          4.25,
          4.26,
          4.27,
          4.28,
          4.29,
          4.3,
          4.31,
          4.32,
          4.33,
          4.34,
          4.35,
          4.36,
          4.37,
          4.38,
          4.39,
          4.4,
          4.41,
          4.42,
          4.43,
          4.44,
          4.45,
          4.46,
          4.47,
          4.48,
          4.49,
          4.5,
          4.51,
          4.52,
          4.53,
          4.54,
          4.55,
          4.56,
          4.57,
          4.58,
          4.59,
          4.6,
          4.61,
          4.62,
          4.63,
          4.64,
          4.65,
          4.66,
          4.67,
          4.68,
          4.69,
          4.7,
          4.71,
          4.72,
          4.73,
          4.74,
          4.75,
          4.76,
          4.77,
          4.78,
          4.79,
          4.8,
          4.81,
          4.82,
          4.83,
          4.85,
          4.87,
          4.89,
          4.9,
          4.91,
          4.93,
          4.94,
          4.95,
          4.96,
          4.97,
          4.98,
          4.99,
          5,
          5.01,
          5.02,
          5.03,
          5.04,
          5.05,
          5.06,
          5.08,
          5.09,
          5.1,
          5.11,
          5.12,
          5.13,
          5.14,
          5.15,
          5.16,
          5.17,
          5.18,
          5.19,
          5.2,
          5.21,
          5.22,
          5.23,
          5.24,
          5.25,
          5.26,
          5.27,
          5.28,
          5.29,
          5.3,
          5.31,
          5.32,
          5.33,
          5.34,
          5.35,
          5.36,
          5.37,
          5.38,
          5.39,
          5.4,
          5.41,
          5.42,
          5.43,
          5.44,
          5.45,
          5.46,
          5.86,
          5.95,
          6,
          6.03,
          6.04,
          6.09,
          6.12,
          6.13,
          6.14,
          6.33
         ],
         "xaxis": "x",
         "y": [
          7.22093023255814,
          6.84,
          7,
          7.353658536585366,
          6.890909090909091,
          6.954337899543379,
          7.156976744186046,
          7.348591549295775,
          7,
          7.517543859649122,
          7.148148148148148,
          7,
          6.857142857142857,
          7,
          7.023809523809524,
          7.047244094488189,
          7.128712871287129,
          7.151685393258427,
          6.941818181818181,
          7.085,
          7.339285714285714,
          7.040816326530612,
          7.383177570093458,
          7.221264367816092,
          7.152671755725191,
          7.233173076923077,
          7.116438356164384,
          7.242788461538462,
          7.046511627906977,
          7.58641975308642,
          7.070796460176991,
          7.037735849056604,
          7.212365591397849,
          7.03125,
          7.055865921787709,
          7.059171597633136,
          7.077586206896552,
          7.1066666666666665,
          7.113207547169812,
          7,
          6.75,
          7.285714285714286,
          7.111111111111111,
          7,
          7,
          7,
          7,
          7.125,
          7.287878787878788,
          7.243243243243243,
          7.473684210526316,
          6.888888888888889,
          7.1454545454545455,
          7.3428571428571425,
          7.162162162162162,
          7.242424242424242,
          7.032258064516129,
          7.076923076923077,
          7.25,
          7.10126582278481,
          7.066532258064516,
          7.211221122112211,
          7.071024258760108,
          7.102430555555555,
          7.191860465116279,
          7.180555555555555,
          7.420127795527157,
          7.347736625514403,
          7.216494845360825,
          7.347058823529411,
          7.214539007092198,
          7.156716417910448,
          7.459821428571429,
          7.330990990990991,
          7.4125560538116595,
          7.512738853503185,
          7.321052631578947,
          7.337209302325581,
          7.76797385620915,
          7.4397590361445785,
          7.41588785046729,
          7.457446808510638,
          7.69327731092437,
          7.69377990430622,
          7.484057971014493,
          7.541411042944786,
          7.5,
          7.4436860068259385,
          7.305172413793104,
          7.303125,
          7.494623655913978,
          7.635869565217392,
          7.447368421052632,
          8.355504587155963,
          8.14723926380368,
          8.090909090909092,
          8.076732673267326,
          7.62111801242236,
          7.674603174603175,
          7.3880952380952385,
          7.574545454545454,
          7.582914572864322,
          7.563106796116505,
          7.93859649122807,
          7.8628318584070795,
          7.571014492753624,
          7.77375,
          7.752577319587629,
          7.949308755760368,
          7.882743362831858,
          7.992307692307692,
          8.515686274509804,
          8.539351851851851,
          8.757633587786259,
          8.256962025316456,
          8.426282051282051,
          8.348780487804879,
          8.617924528301886,
          8.44767441860465,
          8.511627906976743,
          7.625,
          8.552631578947368,
          8.142857142857142,
          7.625,
          9.35,
          9.2625,
          8.742647058823529,
          8.301724137931034,
          8.536363636363637,
          8.703703703703704,
          8.924,
          9.50548387096774,
          9.514893617021277,
          9.431521739130435,
          9.072314049586776,
          8.793062200956937,
          8.8,
          9.251700680272108,
          9.085227272727273,
          9.352564102564102,
          9.198630136986301,
          9.508928571428571,
          9.601851851851851,
          9.346153846153847,
          9.3,
          9.643939393939394,
          9.39,
          9.53225806451613,
          9.71875,
          9.568965517241379,
          9.877551020408163,
          9.701754385964913,
          9.348101265822784,
          9.285714285714286,
          9.448275862068966,
          9.16470588235294,
          9.421052631578947,
          9.547872340425531,
          10.3,
          9.59375,
          9.957264957264957,
          9.658940397350994,
          9.67361111111111,
          9.863636363636363,
          9.704225352112676,
          9.850961538461538,
          9.5,
          9.436090225563909,
          9.546961325966851,
          9.682692307692308,
          9.282178217821782,
          9.64516129032258,
          9.367088607594937,
          9.597222222222221,
          9.807692307692308,
          9.69951923076923,
          9.873303167420815,
          9.882530120481928,
          9.475,
          10.944444444444445,
          11.041666666666666,
          9.973684210526315,
          10.078947368421053,
          10.723684210526315,
          9.818181818181818,
          9.991803278688524,
          10.382075471698114,
          10.297979797979798,
          10.132530120481928,
          9.88888888888889,
          10.070945945945946,
          10.357466063348417,
          9.806451612903226,
          9.909313725490197,
          9.906735751295336,
          10.041666666666666,
          9.838983050847459,
          9.796208530805687,
          10.014134275618375,
          9.976401179941004,
          9.717465753424657,
          9.940366972477063,
          10.025139664804469,
          9.811239193083573,
          10.03757225433526,
          9.996,
          10.392201834862385,
          10.283132530120483,
          10.28476821192053,
          10.246478873239436,
          9.993630573248408,
          10.5,
          10.667553191489361,
          10.57,
          10.377906976744185,
          10.55188679245283,
          9.992647058823529,
          10.261904761904763,
          10.025862068965518,
          10.44,
          10.493055555555555,
          11.3,
          11.26923076923077,
          10.404494382022472,
          10.587719298245615,
          10.801136363636363,
          10.75531914893617,
          10.333333333333334,
          10.404320987654321,
          10.525,
          11.09375,
          10.306122448979592,
          11.376470588235295,
          10.372549019607844,
          10.402173913043478,
          10.419811320754716,
          10.974226804123711,
          11.294117647058824,
          10.851851851851851,
          11.544444444444444,
          11.245967741935484,
          10.86,
          11.272388059701493,
          10.625475285171103,
          10.670818505338078,
          10.457364341085272,
          10.372159090909092,
          10.729032258064516,
          10.686440677966102,
          10.591549295774648,
          10.802158273381295,
          10.960869565217392,
          10.914814814814815,
          11.371428571428572,
          10.958715596330276,
          10.941704035874439,
          11.024444444444445,
          10.751063829787235,
          10.95625,
          10.743243243243244,
          11.15,
          11.54390243902439,
          11.153614457831326,
          11.231707317073171,
          11.238993710691824,
          11.45086705202312,
          11.283163265306122,
          11.18705035971223,
          11.050218340611353,
          11.066878980891719,
          11.356521739130434,
          10.946601941747574,
          11.039170506912443,
          11.154069767441861,
          11.168161434977579,
          10.841389728096678,
          10.787654320987654,
          11.130350194552529,
          11.400709219858156,
          11.246835443037975,
          11.338174273858922,
          11.034403669724771,
          11.587121212121213,
          11.484154929577464,
          11.584229390681003,
          11.64824120603015,
          11.23076923076923,
          11.395348837209303,
          11.81338028169014,
          11.946428571428571,
          11.262626262626263,
          10.952,
          11.39247311827957,
          11.389705882352942,
          11.17361111111111,
          11.2265625,
          11.717105263157896,
          11.714285714285714,
          11.636363636363637,
          13.863636363636363,
          11.897435897435898,
          12.020833333333334,
          12.245283018867925,
          12.841176470588236,
          11.694444444444445,
          12.560975609756097,
          12.416666666666666,
          11.839449541284404,
          11.566037735849056,
          11.357954545454545,
          10.93939393939394,
          11.057291666666666,
          11.264705882352942,
          11.282051282051283,
          11.286516853932584,
          11.166666666666666,
          12.911764705882353,
          15.666666666666666,
          13.285714285714286,
          13.083333333333334,
          13.5,
          13.5,
          13.5,
          12,
          13.5,
          11.181818181818182,
          13.5,
          18.9,
          15,
          15.95,
          15,
          15.916666666666666,
          14.1,
          15,
          13.25,
          15.15,
          16.125,
          14.9375,
          14.25,
          14.7,
          13.555555555555555,
          13.5,
          13.5,
          15.285714285714286,
          13.8,
          13.5,
          13.5,
          13.5,
          13.5,
          13,
          16.75,
          13.833333333333334,
          14.1,
          13.5,
          13.375,
          14.25,
          14.625,
          13.772727272727273,
          13.5,
          14.318181818181818,
          13.5,
          14.318181818181818,
          14.7,
          14.7,
          14.923076923076923,
          13.833333333333334,
          13.833333333333334,
          13.772727272727273,
          14.541666666666666,
          13.5,
          13.5,
          13.5,
          13.676470588235293,
          13.30232558139535,
          13.5,
          14.542857142857143,
          14.25,
          14.17741935483871,
          14.120689655172415,
          13.76086956521739,
          14.045454545454545,
          13.277777777777779,
          13.51063829787234,
          13.73076923076923,
          13.977777777777778,
          14.078125,
          13.744186046511627,
          13.90625,
          15.846153846153847,
          15.333333333333334,
          14.25,
          13.537037037037036,
          13.824324324324325,
          14.128205128205128,
          13.86,
          13.957446808510639,
          13.561224489795919,
          14.055555555555555,
          14.50943396226415,
          13.76086956521739,
          14.321428571428571,
          14.616666666666667,
          14.0625,
          15.194444444444445,
          15.9,
          14.333333333333334,
          14.077586206896552,
          14.287234042553191,
          14.08955223880597,
          14.41304347826087,
          14.447916666666666,
          14.055555555555555,
          13.491666666666667,
          13.864406779661017,
          14.345679012345679,
          14.105263157894736,
          13.771604938271604,
          13.65625,
          13.92,
          13.52,
          13.489583333333334,
          14.032467532467532,
          13.7421875,
          14.05813953488372,
          13.676470588235293,
          15.289473684210526,
          13.5,
          13.81578947368421,
          13.973684210526315,
          13.517857142857142,
          13.98,
          14.636363636363637,
          13.954545454545455,
          14.159574468085106,
          13.585714285714285,
          13.58108108108108,
          14.416666666666666,
          13.410714285714286,
          15.666666666666666,
          14.541666666666666,
          15.727272727272727,
          14.021739130434783,
          13.875,
          12.25,
          13.5,
          13.5,
          13.5,
          13.5,
          13.5,
          13.5,
          14.5,
          13.5,
          15,
          18.5625,
          13.5,
          13.5,
          13.5,
          15,
          14.5,
          13.5,
          13.5,
          13.5,
          14.5,
          16.5,
          18.5,
          15.5,
          16.5,
          16.583333333333332,
          15.9,
          16.5,
          15.214285714285714,
          16,
          14.357142857142858,
          15,
          14.785714285714286,
          13.772727272727273,
          14.911764705882353,
          13.5,
          13.7,
          14.1,
          13.833333333333334,
          13.5,
          14.5,
          14.25,
          14.029411764705882,
          14.863636363636363,
          14.307692307692308,
          13.8,
          13.676470588235293,
          13.833333333333334,
          13.9,
          14,
          14.086206896551724,
          14.476190476190476,
          14.125,
          15.333333333333334,
          13.974358974358974,
          14.261363636363637,
          13.633333333333333,
          13.5,
          14.0625,
          13.5,
          13.5,
          22.75,
          16.5,
          16.5,
          16.5,
          16.5,
          16.5,
          18,
          16.5,
          16.5,
          16.5
         ],
         "yaxis": "y"
        },
        {
         "hovertemplate": "name=Lyft XL<br>distance=%{x}<br>price=%{y}<extra></extra>",
         "legendgroup": "Lyft XL",
         "line": {
          "color": "#FFA15A",
          "dash": "solid"
         },
         "mode": "lines",
         "name": "Lyft XL",
         "showlegend": true,
         "type": "scattergl",
         "x": [
          0.39,
          0.4,
          0.41,
          0.42,
          0.43,
          0.44,
          0.45,
          0.46,
          0.47,
          0.48,
          0.49,
          0.5,
          0.51,
          0.52,
          0.53,
          0.54,
          0.55,
          0.56,
          0.57,
          0.58,
          0.59,
          0.6,
          0.61,
          0.62,
          0.63,
          0.64,
          0.65,
          0.66,
          0.67,
          0.68,
          0.69,
          0.7,
          0.71,
          0.72,
          0.73,
          0.74,
          0.75,
          0.76,
          0.77,
          0.78,
          0.79,
          0.8,
          0.81,
          0.82,
          0.83,
          0.84,
          0.85,
          0.86,
          0.87,
          0.88,
          0.89,
          0.9,
          0.91,
          0.92,
          0.93,
          0.94,
          0.95,
          0.96,
          0.97,
          0.98,
          0.99,
          1,
          1.01,
          1.02,
          1.03,
          1.04,
          1.05,
          1.06,
          1.07,
          1.08,
          1.09,
          1.1,
          1.11,
          1.12,
          1.13,
          1.14,
          1.15,
          1.16,
          1.17,
          1.18,
          1.19,
          1.2,
          1.21,
          1.22,
          1.23,
          1.24,
          1.25,
          1.26,
          1.27,
          1.28,
          1.29,
          1.3,
          1.31,
          1.32,
          1.33,
          1.34,
          1.35,
          1.36,
          1.37,
          1.38,
          1.39,
          1.4,
          1.41,
          1.42,
          1.43,
          1.44,
          1.45,
          1.46,
          1.47,
          1.48,
          1.49,
          1.5,
          1.51,
          1.52,
          1.53,
          1.54,
          1.55,
          1.56,
          1.57,
          1.58,
          1.59,
          1.6,
          1.61,
          1.62,
          1.63,
          1.64,
          1.65,
          1.66,
          1.67,
          1.68,
          1.69,
          1.7,
          1.71,
          1.72,
          1.73,
          1.74,
          1.75,
          1.76,
          1.77,
          1.78,
          1.79,
          1.8,
          1.81,
          1.82,
          1.83,
          1.84,
          1.85,
          1.86,
          1.87,
          1.88,
          1.89,
          1.9,
          1.91,
          1.92,
          1.93,
          1.94,
          1.95,
          1.96,
          1.97,
          1.98,
          1.99,
          2,
          2.01,
          2.02,
          2.03,
          2.04,
          2.05,
          2.06,
          2.07,
          2.08,
          2.09,
          2.1,
          2.11,
          2.12,
          2.13,
          2.14,
          2.15,
          2.16,
          2.17,
          2.18,
          2.19,
          2.2,
          2.21,
          2.22,
          2.23,
          2.24,
          2.25,
          2.26,
          2.27,
          2.28,
          2.29,
          2.3,
          2.31,
          2.32,
          2.33,
          2.34,
          2.35,
          2.36,
          2.37,
          2.38,
          2.39,
          2.4,
          2.41,
          2.42,
          2.43,
          2.44,
          2.45,
          2.46,
          2.47,
          2.48,
          2.49,
          2.5,
          2.51,
          2.52,
          2.53,
          2.54,
          2.55,
          2.56,
          2.57,
          2.58,
          2.59,
          2.6,
          2.61,
          2.62,
          2.63,
          2.64,
          2.65,
          2.66,
          2.67,
          2.68,
          2.69,
          2.7,
          2.71,
          2.72,
          2.73,
          2.74,
          2.75,
          2.76,
          2.77,
          2.78,
          2.79,
          2.8,
          2.81,
          2.82,
          2.83,
          2.84,
          2.85,
          2.86,
          2.87,
          2.88,
          2.89,
          2.9,
          2.91,
          2.92,
          2.93,
          2.94,
          2.95,
          2.96,
          2.97,
          2.98,
          2.99,
          3,
          3.01,
          3.02,
          3.03,
          3.04,
          3.05,
          3.06,
          3.07,
          3.08,
          3.09,
          3.1,
          3.11,
          3.12,
          3.13,
          3.14,
          3.15,
          3.16,
          3.17,
          3.18,
          3.19,
          3.2,
          3.21,
          3.22,
          3.23,
          3.24,
          3.25,
          3.26,
          3.27,
          3.28,
          3.29,
          3.3,
          3.31,
          3.32,
          3.33,
          3.34,
          3.35,
          3.36,
          3.37,
          3.38,
          3.39,
          3.4,
          3.41,
          3.42,
          3.43,
          3.44,
          3.45,
          3.46,
          3.47,
          3.48,
          3.49,
          3.5,
          3.51,
          3.52,
          3.53,
          3.54,
          3.55,
          3.56,
          3.57,
          3.58,
          3.59,
          3.6,
          3.61,
          3.62,
          3.63,
          3.64,
          3.65,
          3.66,
          3.67,
          3.68,
          3.69,
          3.7,
          3.71,
          3.72,
          3.73,
          3.74,
          3.75,
          3.76,
          3.77,
          3.78,
          3.79,
          3.8,
          3.81,
          3.82,
          3.83,
          3.84,
          3.85,
          3.86,
          3.87,
          3.88,
          3.89,
          3.9,
          3.91,
          3.92,
          3.93,
          3.94,
          3.95,
          3.96,
          3.97,
          3.98,
          3.99,
          4,
          4.01,
          4.02,
          4.03,
          4.04,
          4.05,
          4.06,
          4.07,
          4.08,
          4.09,
          4.1,
          4.11,
          4.12,
          4.13,
          4.14,
          4.15,
          4.16,
          4.17,
          4.18,
          4.19,
          4.2,
          4.21,
          4.22,
          4.23,
          4.24,
          4.25,
          4.26,
          4.27,
          4.28,
          4.29,
          4.3,
          4.31,
          4.32,
          4.33,
          4.34,
          4.35,
          4.36,
          4.37,
          4.38,
          4.39,
          4.4,
          4.41,
          4.42,
          4.43,
          4.44,
          4.45,
          4.46,
          4.47,
          4.48,
          4.49,
          4.5,
          4.51,
          4.52,
          4.53,
          4.54,
          4.55,
          4.56,
          4.57,
          4.58,
          4.59,
          4.6,
          4.61,
          4.62,
          4.63,
          4.64,
          4.65,
          4.66,
          4.67,
          4.68,
          4.69,
          4.7,
          4.71,
          4.72,
          4.73,
          4.74,
          4.75,
          4.76,
          4.77,
          4.78,
          4.79,
          4.8,
          4.81,
          4.82,
          4.83,
          4.85,
          4.87,
          4.89,
          4.9,
          4.91,
          4.93,
          4.94,
          4.95,
          4.96,
          4.97,
          4.98,
          4.99,
          5,
          5.01,
          5.02,
          5.03,
          5.04,
          5.05,
          5.06,
          5.08,
          5.09,
          5.1,
          5.11,
          5.12,
          5.13,
          5.14,
          5.15,
          5.16,
          5.17,
          5.18,
          5.19,
          5.2,
          5.21,
          5.22,
          5.23,
          5.24,
          5.25,
          5.26,
          5.27,
          5.28,
          5.29,
          5.3,
          5.31,
          5.32,
          5.33,
          5.34,
          5.35,
          5.36,
          5.37,
          5.38,
          5.39,
          5.4,
          5.41,
          5.42,
          5.43,
          5.44,
          5.45,
          5.46,
          5.86,
          5.95,
          6,
          6.03,
          6.04,
          6.09,
          6.12,
          6.13,
          6.14,
          6.33
         ],
         "xaxis": "x",
         "y": [
          9.13953488372093,
          9,
          9,
          9.25609756097561,
          9.381818181818181,
          9.177272727272728,
          9.122093023255815,
          9.264084507042254,
          9,
          9.307017543859649,
          9.055555555555555,
          9.088235294117647,
          9.642857142857142,
          9.228813559322035,
          9.061224489795919,
          9.109375,
          9.683168316831683,
          9.649717514124294,
          9.283882783882785,
          9.775,
          10.24901185770751,
          9.489795918367347,
          10.051401869158878,
          9.89080459770115,
          10.106870229007633,
          10.19951923076923,
          9.897260273972602,
          9.944711538461538,
          9.686046511627907,
          10.506172839506172,
          9.70796460176991,
          10,
          10.25,
          10.421875,
          10.438888888888888,
          10.279411764705882,
          10.465909090909092,
          10.12,
          9.953271028037383,
          9.910714285714286,
          9.5625,
          11.142857142857142,
          10.75,
          9,
          10.666666666666666,
          10.538461538461538,
          10.45,
          11.267857142857142,
          11.227272727272727,
          10.878378378378379,
          10.789473684210526,
          10.203703703703704,
          9.818181818181818,
          10.471428571428572,
          10.567567567567568,
          10.818181818181818,
          10.540322580645162,
          10.365384615384615,
          11.19047619047619,
          11.037974683544304,
          10.774193548387096,
          11.019736842105264,
          10.784636118598382,
          10.685121107266436,
          10.939922480620154,
          10.96111111111111,
          11.241214057507987,
          11.375257731958763,
          11.094650205761317,
          11.267605633802816,
          11.321554770318022,
          11.465,
          11.689732142857142,
          11.543243243243243,
          11.795964125560538,
          12.306962025316455,
          12.063157894736841,
          11.875968992248062,
          12.11111111111111,
          11.852409638554217,
          11.817757009345794,
          11.822695035460994,
          11.970588235294118,
          12.33732057416268,
          12.302898550724638,
          12.093558282208589,
          11.972154963680387,
          11.600682593856655,
          11.350515463917526,
          11.321875,
          11.956989247311828,
          12.032608695652174,
          12.43421052631579,
          12.88302752293578,
          13.217791411042946,
          12.935064935064934,
          13.153465346534654,
          12.105590062111801,
          12.465608465608465,
          11.95,
          12.108695652173912,
          12.183417085427136,
          12.33495145631068,
          12.789473684210526,
          12.780973451327434,
          12.617391304347827,
          12.83875,
          12.837328767123287,
          13.256944444444445,
          13.252212389380531,
          13.173846153846155,
          13.552941176470588,
          13.643518518518519,
          13.808429118773946,
          12.973484848484848,
          13.442307692307692,
          13.534146341463414,
          13.783018867924529,
          13.459302325581396,
          13.69767441860465,
          13.285714285714286,
          13.210526315789474,
          13.142857142857142,
          13.041666666666666,
          14.575,
          14.175,
          14.073529411764707,
          13.612068965517242,
          13.554545454545455,
          14.166666666666666,
          14.812,
          14.8,
          14.512765957446808,
          14.77608695652174,
          14.071428571428571,
          13.844868735083532,
          13.925213675213675,
          14.629251700680273,
          14.181818181818182,
          14.461538461538462,
          14.527397260273972,
          14.5,
          14.555555555555555,
          14.26923076923077,
          14.485714285714286,
          15.098484848484848,
          14.4,
          14.951612903225806,
          15.083333333333334,
          14.844827586206897,
          15.622448979591837,
          14.81578947368421,
          14.221518987341772,
          14.528571428571428,
          14.431034482758621,
          13.858823529411765,
          14.47872340425532,
          15.388297872340425,
          16.033333333333335,
          14.9375,
          15.705128205128204,
          15.433774834437086,
          15.07986111111111,
          15.481818181818182,
          15.084507042253522,
          14.971153846153847,
          14.666666666666666,
          14.469924812030076,
          14.466850828729282,
          14.407051282051283,
          14.292079207920793,
          14.379032258064516,
          14.279874213836479,
          15.055555555555555,
          15.303225806451612,
          15.127403846153847,
          15.51590909090909,
          15.05421686746988,
          14.6625,
          17.569444444444443,
          17.770833333333332,
          15.868421052631579,
          15.394736842105264,
          16.31578947368421,
          15.627272727272727,
          15.467213114754099,
          16.604761904761904,
          15.681818181818182,
          15.548192771084338,
          15.873737373737374,
          16.201342281879196,
          16.3710407239819,
          15.348387096774193,
          15.406862745098039,
          15.287564766839377,
          15.946969696969697,
          15.096045197740112,
          15.412322274881516,
          15.964664310954063,
          15.724188790560472,
          15.304794520547945,
          15.429878048780488,
          15.746498599439775,
          15.448126801152737,
          15.673410404624278,
          15.635026737967914,
          16.40552995391705,
          16.431726907630523,
          16.135761589403973,
          16.549295774647888,
          16.133757961783438,
          17.15527950310559,
          17.329787234042552,
          17.31,
          16.77906976744186,
          16.83490566037736,
          16.63235294117647,
          16.214285714285715,
          16.30603448275862,
          16.533333333333335,
          17.368055555555557,
          18.41111111111111,
          17.96153846153846,
          17.1123595505618,
          17.149122807017545,
          17.59659090909091,
          17.079787234042552,
          17.13450292397661,
          17.055900621118013,
          16.417857142857144,
          17.609375,
          15.923469387755102,
          18.323529411764707,
          16.098039215686274,
          16.702898550724637,
          16.858490566037737,
          17.7680412371134,
          17.735294117647058,
          17.796296296296298,
          18.488888888888887,
          17.887096774193548,
          17.702857142857145,
          18.30223880597015,
          17.268060836501903,
          17.59107142857143,
          17.164728682170544,
          16.980113636363637,
          17.719354838709677,
          17.102857142857143,
          17.12559241706161,
          17.827338129496404,
          18.108695652173914,
          17.855555555555554,
          17.989285714285714,
          17.88302752293578,
          17.679372197309416,
          17.782222222222224,
          17.302127659574467,
          17.89375,
          17.2972972972973,
          18.044444444444444,
          18.785365853658536,
          18.792168674698797,
          18.548780487804876,
          18.638364779874212,
          18.82369942196532,
          18.274358974358975,
          17.98201438848921,
          17.62719298245614,
          18.310126582278482,
          18.630434782608695,
          17.810679611650485,
          18.20046082949309,
          18.347058823529412,
          17.95067264573991,
          17.780966767371602,
          17.35891089108911,
          18.31906614785992,
          18.79787234042553,
          18.59915611814346,
          18.37966804979253,
          18.229357798165136,
          19.379245283018868,
          18.934859154929576,
          19.12410071942446,
          19.298994974874372,
          19.083690987124463,
          18.655813953488373,
          19.570422535211268,
          19.928571428571427,
          19.333333333333332,
          18.616,
          18.9247311827957,
          19.323529411764707,
          19.28472222222222,
          18.2734375,
          19.230263157894736,
          18.87142857142857,
          18.87878787878788,
          22.545454545454547,
          20.846153846153847,
          20.42361111111111,
          20.62264150943396,
          20.923529411764704,
          19.50462962962963,
          20.804878048780488,
          20.633333333333333,
          19.940366972477065,
          19.41509433962264,
          19.789772727272727,
          18.790816326530614,
          18.369791666666668,
          18.542857142857144,
          17.91025641025641,
          18.376404494382022,
          18.947916666666668,
          21.91176470588235,
          25.166666666666668,
          21.714285714285715,
          21.5,
          21.75,
          22.5,
          21.75,
          21.5,
          22.5,
          20.045454545454547,
          22.5,
          31.8,
          24.75,
          26.55,
          25,
          26.458333333333332,
          22.9,
          24.25,
          22,
          25.5,
          26.90625,
          24.9375,
          23.46875,
          24.9,
          23.055555555555557,
          22.5,
          22.5,
          24.928571428571427,
          21.95,
          22.5,
          21.75,
          22.5,
          22.5,
          21.9,
          32.5,
          22.72222222222222,
          23.65,
          21.75,
          23,
          23.375,
          25.375,
          22.818181818181817,
          22.285714285714285,
          23.954545454545453,
          22.5,
          23.863636363636363,
          24.4,
          24.5,
          25.153846153846153,
          22.88888888888889,
          22.166666666666668,
          22.5,
          24.583333333333332,
          22.38888888888889,
          22.26923076923077,
          22.5,
          22.529411764705884,
          22.36046511627907,
          22.225806451612904,
          24.228571428571428,
          23.52777777777778,
          22.822580645161292,
          23.448275862068964,
          22.97826086956522,
          23.272727272727273,
          22.444444444444443,
          22.340425531914892,
          22.384615384615383,
          22.788888888888888,
          23.703125,
          22.813953488372093,
          23.34375,
          27,
          26.22222222222222,
          23.5,
          22.72222222222222,
          22.93243243243243,
          23.67948717948718,
          22.69333333333333,
          23.170212765957448,
          22.928571428571427,
          23.266666666666666,
          24.132075471698112,
          22.565217391304348,
          23.88095238095238,
          24.366666666666667,
          23.125,
          25.38888888888889,
          26.4,
          23.558823529411764,
          23.448275862068964,
          24.26595744680851,
          23.111940298507463,
          23.630434782608695,
          23.72340425531915,
          23.546296296296298,
          22.566666666666666,
          23.33050847457627,
          24.01851851851852,
          23.33684210526316,
          22.69753086419753,
          22.68125,
          22.844594594594593,
          22.44,
          22.703125,
          23.18831168831169,
          22.7734375,
          23.1046511627907,
          22.91176470588235,
          25.842105263157894,
          22.5,
          23.157894736842106,
          23.13157894736842,
          23.178571428571427,
          23.34,
          24.363636363636363,
          23.84090909090909,
          23.585106382978722,
          22.6,
          22.635135135135137,
          24,
          22.625,
          26.38888888888889,
          24.166666666666668,
          26.40909090909091,
          23.32608695652174,
          23.125,
          22.5,
          22.5,
          22.5,
          22.5,
          22.5,
          22.5,
          22.5,
          25,
          22.5,
          25.166666666666668,
          32.3125,
          22.5,
          22.5,
          22.5,
          24.25,
          24.166666666666668,
          22.5,
          22.5,
          24.25,
          27,
          26,
          31.833333333333332,
          27,
          26,
          30.083333333333332,
          28.5,
          27,
          25.642857142857142,
          28.5,
          24.928571428571427,
          25.833333333333332,
          26.357142857142858,
          23.90909090909091,
          24.5,
          22.5,
          22.5,
          24.2,
          22.88888888888889,
          23.59090909090909,
          24.77777777777778,
          24.6875,
          24.61764705882353,
          25.40909090909091,
          25.115384615384617,
          24.6,
          24.61764705882353,
          23.27777777777778,
          24.633333333333333,
          24.116666666666667,
          23.82758620689655,
          24.464285714285715,
          23.5625,
          26.1,
          24.31578947368421,
          23.988636363636363,
          23.711111111111112,
          23.772727272727273,
          23.15625,
          22.5,
          22.5,
          36.25,
          26,
          26.75,
          26,
          27.833333333333332,
          27.5,
          30,
          26,
          27.5,
          26
         ],
         "yaxis": "y"
        },
        {
         "hovertemplate": "name=Shared<br>distance=%{x}<br>price=%{y}<extra></extra>",
         "legendgroup": "Shared",
         "line": {
          "color": "#19d3f3",
          "dash": "solid"
         },
         "mode": "lines",
         "name": "Shared",
         "showlegend": true,
         "type": "scattergl",
         "x": [
          0.39,
          0.4,
          0.41,
          0.42,
          0.43,
          0.44,
          0.45,
          0.46,
          0.47,
          0.48,
          0.49,
          0.5,
          0.51,
          0.52,
          0.53,
          0.54,
          0.55,
          0.56,
          0.57,
          0.58,
          0.59,
          0.6,
          0.61,
          0.62,
          0.63,
          0.64,
          0.65,
          0.66,
          0.67,
          0.68,
          0.69,
          0.7,
          0.71,
          0.72,
          0.73,
          0.74,
          0.75,
          0.76,
          0.77,
          0.78,
          0.79,
          0.8,
          0.81,
          0.82,
          0.83,
          0.84,
          0.85,
          0.86,
          0.87,
          0.88,
          0.89,
          0.9,
          0.91,
          0.92,
          0.93,
          0.94,
          0.95,
          0.96,
          0.97,
          0.98,
          0.99,
          1,
          1.01,
          1.02,
          1.03,
          1.04,
          1.05,
          1.06,
          1.07,
          1.08,
          1.09,
          1.1,
          1.11,
          1.12,
          1.13,
          1.14,
          1.15,
          1.16,
          1.17,
          1.18,
          1.19,
          1.2,
          1.21,
          1.22,
          1.23,
          1.24,
          1.25,
          1.26,
          1.27,
          1.28,
          1.29,
          1.3,
          1.31,
          1.32,
          1.33,
          1.34,
          1.35,
          1.36,
          1.37,
          1.38,
          1.39,
          1.4,
          1.41,
          1.42,
          1.43,
          1.44,
          1.45,
          1.46,
          1.47,
          1.48,
          1.49,
          1.5,
          1.51,
          1.52,
          1.53,
          1.54,
          1.55,
          1.56,
          1.57,
          1.58,
          1.59,
          1.6,
          1.61,
          1.62,
          1.63,
          1.64,
          1.65,
          1.66,
          1.67,
          1.68,
          1.69,
          1.7,
          1.71,
          1.72,
          1.73,
          1.74,
          1.75,
          1.76,
          1.77,
          1.78,
          1.79,
          1.8,
          1.81,
          1.82,
          1.83,
          1.84,
          1.85,
          1.86,
          1.87,
          1.88,
          1.89,
          1.9,
          1.91,
          1.92,
          1.93,
          1.94,
          1.95,
          1.96,
          1.97,
          1.98,
          1.99,
          2,
          2.01,
          2.02,
          2.03,
          2.04,
          2.05,
          2.06,
          2.07,
          2.08,
          2.09,
          2.1,
          2.11,
          2.12,
          2.13,
          2.14,
          2.15,
          2.16,
          2.17,
          2.18,
          2.19,
          2.2,
          2.21,
          2.22,
          2.23,
          2.24,
          2.25,
          2.26,
          2.27,
          2.28,
          2.29,
          2.3,
          2.31,
          2.32,
          2.33,
          2.34,
          2.35,
          2.36,
          2.37,
          2.38,
          2.39,
          2.4,
          2.41,
          2.42,
          2.43,
          2.44,
          2.45,
          2.46,
          2.47,
          2.48,
          2.49,
          2.5,
          2.51,
          2.52,
          2.53,
          2.54,
          2.55,
          2.56,
          2.57,
          2.58,
          2.59,
          2.6,
          2.61,
          2.62,
          2.63,
          2.64,
          2.65,
          2.66,
          2.67,
          2.68,
          2.69,
          2.7,
          2.71,
          2.72,
          2.73,
          2.74,
          2.75,
          2.76,
          2.77,
          2.78,
          2.79,
          2.8,
          2.81,
          2.82,
          2.83,
          2.84,
          2.85,
          2.86,
          2.87,
          2.88,
          2.89,
          2.9,
          2.91,
          2.92,
          2.93,
          2.94,
          2.95,
          2.96,
          2.97,
          2.98,
          2.99,
          3,
          3.01,
          3.02,
          3.03,
          3.04,
          3.05,
          3.06,
          3.07,
          3.08,
          3.09,
          3.1,
          3.11,
          3.12,
          3.13,
          3.14,
          3.15,
          3.16,
          3.17,
          3.18,
          3.19,
          3.2,
          3.21,
          3.22,
          3.23,
          3.24,
          3.25,
          3.26,
          3.27,
          3.28,
          3.29,
          3.3,
          3.31,
          3.32,
          3.33,
          3.34,
          3.35,
          3.36,
          3.37,
          3.38,
          3.39,
          3.4,
          3.41,
          3.42,
          3.43,
          3.44,
          3.45,
          3.46,
          3.47,
          3.48,
          3.49,
          3.5,
          3.51,
          3.52,
          3.53,
          3.54,
          3.55,
          3.56,
          3.57,
          3.58,
          3.59,
          3.6,
          3.61,
          3.62,
          3.63,
          3.64,
          3.65,
          3.66,
          3.67,
          3.68,
          3.69,
          3.7,
          3.71,
          3.72,
          3.73,
          3.74,
          3.75,
          3.76,
          3.77,
          3.78,
          3.79,
          3.8,
          3.81,
          3.82,
          3.83,
          3.84,
          3.85,
          3.86,
          3.87,
          3.88,
          3.89,
          3.9,
          3.91,
          3.92,
          3.93,
          3.94,
          3.95,
          3.96,
          3.97,
          3.98,
          3.99,
          4,
          4.01,
          4.02,
          4.03,
          4.04,
          4.05,
          4.06,
          4.07,
          4.08,
          4.09,
          4.1,
          4.11,
          4.12,
          4.13,
          4.14,
          4.15,
          4.16,
          4.17,
          4.18,
          4.19,
          4.2,
          4.21,
          4.22,
          4.23,
          4.24,
          4.25,
          4.26,
          4.27,
          4.28,
          4.29,
          4.3,
          4.31,
          4.32,
          4.33,
          4.34,
          4.35,
          4.36,
          4.37,
          4.38,
          4.39,
          4.4,
          4.41,
          4.42,
          4.43,
          4.44,
          4.45,
          4.46,
          4.47,
          4.48,
          4.49,
          4.5,
          4.51,
          4.52,
          4.53,
          4.54,
          4.55,
          4.56,
          4.57,
          4.58,
          4.59,
          4.6,
          4.61,
          4.62,
          4.63,
          4.64,
          4.65,
          4.66,
          4.67,
          4.68,
          4.69,
          4.7,
          4.71,
          4.72,
          4.73,
          4.74,
          4.75,
          4.76,
          4.77,
          4.78,
          4.79,
          4.8,
          4.81,
          4.82,
          4.83,
          4.85,
          4.87,
          4.89,
          4.9,
          4.91,
          4.93,
          4.94,
          4.95,
          4.96,
          4.97,
          4.98,
          4.99,
          5,
          5.01,
          5.02,
          5.03,
          5.04,
          5.05,
          5.06,
          5.08,
          5.09,
          5.1,
          5.11,
          5.12,
          5.13,
          5.14,
          5.15,
          5.16,
          5.17,
          5.18,
          5.19,
          5.2,
          5.21,
          5.22,
          5.23,
          5.24,
          5.25,
          5.26,
          5.27,
          5.28,
          5.29,
          5.3,
          5.31,
          5.32,
          5.33,
          5.34,
          5.35,
          5.36,
          5.37,
          5.38,
          5.39,
          5.4,
          5.41,
          5.42,
          5.43,
          5.44,
          5.45,
          5.46,
          5.86,
          5.95,
          6,
          6.03,
          6.04,
          6.09,
          6.12,
          6.13,
          6.14,
          6.33
         ],
         "xaxis": "x",
         "y": [
          4.767441860465116,
          4.26,
          5,
          4.7926829268292686,
          3.812121212121212,
          4.120454545454545,
          4.087209302325581,
          4.123239436619718,
          3.473684210526316,
          4.535087719298246,
          3.2962962962962963,
          4.794117647058823,
          4,
          4.127118644067797,
          4.14527027027027,
          4.035433070866142,
          4.1683168316831685,
          4.014044943820225,
          4.010909090909091,
          4.151741293532338,
          4.25984251968504,
          4.040816326530612,
          4.098130841121495,
          4.14367816091954,
          3.881679389312977,
          4.014423076923077,
          3.9794520547945207,
          4.134615384615385,
          3.86046511627907,
          4.432098765432099,
          4.106194690265487,
          4.273584905660377,
          4.024193548387097,
          4.065625,
          4.016666666666667,
          3.820588235294118,
          3.914285714285714,
          4.1466666666666665,
          3.850467289719626,
          4.3125,
          4.125,
          3.9285714285714284,
          3.7777777777777777,
          5,
          4.833333333333333,
          4.576923076923077,
          4.35,
          4.375,
          4.621212121212121,
          4.72972972972973,
          4.605263157894737,
          4.2407407407407405,
          4.5,
          4.742857142857143,
          4.527027027027027,
          4.454545454545454,
          3.879032258064516,
          4.365384615384615,
          4.130952380952381,
          3.8860759493670884,
          4.082995951417004,
          4.090460526315789,
          4.116216216216216,
          4.086505190311419,
          4.207364341085271,
          4.347222222222222,
          4.24203821656051,
          4.496913580246914,
          4.329545454545454,
          4.2981220657277,
          4.238515901060071,
          4.310945273631841,
          4.5291479820627805,
          4.411764705882353,
          4.289237668161435,
          4.4525316455696204,
          4.234210526315789,
          4.60077519379845,
          4.7254901960784315,
          4.855421686746988,
          4.5,
          4.290780141843972,
          4.533613445378151,
          4.6746411483253585,
          4.492774566473988,
          4.4815950920245395,
          4.504842615012106,
          4.428327645051194,
          4.183848797250859,
          4.315625,
          4.645161290322581,
          4.396739130434782,
          4.848684210526316,
          5.029816513761468,
          5.076687116564417,
          5.1558441558441555,
          4.819306930693069,
          4.5186335403726705,
          4.658730158730159,
          4.328571428571428,
          4.760869565217392,
          4.665829145728643,
          4.621359223300971,
          4.6798245614035086,
          4.964601769911504,
          4.844476744186046,
          4.785714285714286,
          4.7353951890034365,
          5.023041474654378,
          4.769911504424779,
          5.153846153846154,
          5.423529411764706,
          5.4907407407407405,
          5.627862595419847,
          5.07449494949495,
          5.219354838709678,
          5.3,
          5.702830188679245,
          5.238372093023256,
          5.848837209302325,
          4.714285714285714,
          5.631578947368421,
          5.321428571428571,
          4.25,
          5.725,
          6,
          5,
          5.120689655172414,
          5.381818181818182,
          5.506172839506172,
          5.828,
          6.390322580645162,
          6.261702127659574,
          5.991323210412148,
          5.615942028985507,
          5.527511961722488,
          5.497872340425532,
          6.204081632653061,
          5.829545454545454,
          6.121794871794871,
          6.273972602739726,
          5.946428571428571,
          6.231481481481482,
          5.641025641025641,
          5.921428571428572,
          6.083333333333333,
          5.78,
          6.258064516129032,
          6.416666666666667,
          5.879310344827586,
          6.183673469387755,
          6.350877192982456,
          6,
          5.864285714285714,
          5.896551724137931,
          6.035294117647059,
          6.173684210526316,
          6.1436170212765955,
          6.988888888888889,
          6.302083333333333,
          6.4914529914529915,
          6.268211920529802,
          6.486111111111111,
          6.527272727272727,
          6.383802816901408,
          6.1875,
          6.1722222222222225,
          6.071428571428571,
          6.209944751381215,
          6.227564102564102,
          6.03960396039604,
          5.82258064516129,
          5.9245283018867925,
          6.059027777777778,
          6.026143790849673,
          6.173076923076923,
          6.131221719457014,
          6.195783132530121,
          6.21875,
          6.888888888888889,
          7.25,
          6.026315789473684,
          6.894736842105263,
          6.842105263157895,
          6.245454545454545,
          6.39344262295082,
          6.660377358490566,
          6.707070707070707,
          6.427710843373494,
          6.378787878787879,
          6.761744966442953,
          6.884615384615385,
          6.290322580645161,
          6.629901960784314,
          6.458549222797927,
          6.5,
          6.573863636363637,
          6.369668246445498,
          6.581272084805653,
          6.625368731563422,
          6.5188356164383565,
          6.524390243902439,
          6.562849162011173,
          6.462536023054755,
          6.715317919075145,
          6.44281914893617,
          6.922018348623853,
          6.663306451612903,
          6.612582781456954,
          6.72887323943662,
          6.75796178343949,
          6.987577639751553,
          7.034574468085107,
          6.843333333333334,
          6.959302325581396,
          6.64622641509434,
          6.882352941176471,
          6.940476190476191,
          6.806034482758621,
          6.3133333333333335,
          7.138888888888889,
          7.311111111111111,
          7.038461538461538,
          7.157303370786517,
          6.8464912280701755,
          6.670454545454546,
          7.175531914893617,
          6.441520467836257,
          6.882716049382716,
          6.742857142857143,
          6.65625,
          6.75,
          6.976470588235294,
          5.898692810457517,
          6.818840579710145,
          6.433962264150943,
          7.257731958762887,
          7.470588235294118,
          7.333333333333333,
          7.25,
          6.983870967741935,
          6.82,
          7.302238805970149,
          6.9638783269961975,
          6.914285714285715,
          6.705426356589148,
          6.954545454545454,
          7.27741935483871,
          7.031073446327683,
          6.708920187793427,
          6.863309352517986,
          7.3478260869565215,
          6.962962962962963,
          7.242857142857143,
          7.018348623853211,
          6.928251121076233,
          6.955555555555556,
          6.836170212765958,
          7.059748427672956,
          6.629729729729729,
          6.969444444444444,
          7.117073170731707,
          7.373493975903615,
          7.239837398373984,
          7.19496855345912,
          7.5520231213872835,
          7.413265306122449,
          7.181654676258993,
          7.0152838427947595,
          7.018987341772152,
          7.482608695652174,
          7.422330097087379,
          7.06221198156682,
          7.22093023255814,
          6.973094170403588,
          7.025679758308157,
          6.904938271604938,
          7.221789883268483,
          7.361702127659575,
          7.36864406779661,
          7.441908713692946,
          7.3922018348623855,
          7.524528301886792,
          7.274647887323944,
          7.151785714285714,
          7.298994974874372,
          7.248936170212766,
          6.904651162790698,
          7.669014084507042,
          7.208333333333333,
          7.242424242424242,
          7.304,
          7.172043010752688,
          7.386029411764706,
          7.131944444444445,
          7.4296875,
          7.2631578947368425,
          7.5,
          7.106060606060606,
          7.863636363636363,
          8.102564102564102,
          7.173611111111111,
          7.735849056603773,
          7.405882352941177,
          7.449074074074074,
          8.004065040650406,
          7.777777777777778,
          7.178899082568807,
          7.3584905660377355,
          7.556818181818182,
          7.540404040404041,
          6.614583333333333,
          6.928571428571429,
          6.384615384615385,
          6.831460674157303,
          6.864583333333333,
          8.205882352941176,
          9.666666666666666,
          8.142857142857142,
          8.333333333333334,
          9,
          8.75,
          7.75,
          6.375,
          10.5,
          9.318181818181818,
          10.125,
          11.3,
          9.3,
          9.9,
          10.5,
          10.833333333333334,
          9.3,
          10.75,
          7.333333333333333,
          10.3,
          10.375,
          10.03125,
          9.65625,
          9.8,
          9.166666666666666,
          9,
          8.375,
          9.642857142857142,
          8.8,
          9,
          7.5,
          9,
          8.75,
          7.7,
          12.75,
          9.61111111111111,
          9.1,
          8.25,
          9.75,
          8,
          8.1875,
          9.590909090909092,
          8.75,
          8.590909090909092,
          8,
          7.090909090909091,
          8.2,
          6.75,
          7.423076923076923,
          9,
          7.722222222222222,
          8.318181818181818,
          9.583333333333334,
          9.018518518518519,
          8.5,
          7.785714285714286,
          7.4411764705882355,
          8.546511627906977,
          8.709677419354838,
          8.685714285714285,
          8.416666666666666,
          6.983870967741935,
          8.568965517241379,
          9.021739130434783,
          8.636363636363637,
          8.055555555555555,
          7.3936170212765955,
          7.653846153846154,
          8.266666666666667,
          8.203125,
          8,
          8.40625,
          9.692307692307692,
          10,
          9.375,
          8.75925925925926,
          8.783783783783784,
          7.628205128205129,
          7.72,
          7.595744680851064,
          7.36734693877551,
          7.677777777777778,
          8.679245283018869,
          7.5,
          8.107142857142858,
          8.666666666666666,
          8.625,
          8.916666666666666,
          9.066666666666666,
          9.196078431372548,
          9.094827586206897,
          9.872340425531915,
          9.335820895522389,
          9.51086956521739,
          8.78125,
          8.50925925925926,
          8.1,
          8.169491525423728,
          8.37037037037037,
          7.931578947368421,
          8.166666666666666,
          8.38125,
          7.97972972972973,
          8.253333333333334,
          8.84375,
          8.558441558441558,
          7.46875,
          7.406976744186046,
          8.882352941176471,
          8.736842105263158,
          8.266666666666667,
          8.526315789473685,
          8.289473684210526,
          7.571428571428571,
          7.88,
          8.818181818181818,
          9.272727272727273,
          8.808510638297872,
          9.157142857142857,
          9.243243243243244,
          9.333333333333334,
          9.303571428571429,
          10.666666666666666,
          9.666666666666666,
          10.295454545454545,
          10.304347826086957,
          8.5625,
          9.75,
          9.75,
          10.5,
          5,
          5,
          9,
          5,
          7,
          8.375,
          8.916666666666666,
          11.9375,
          6.375,
          10.125,
          10.5,
          11,
          8.166666666666666,
          10.3,
          11,
          8,
          10,
          9,
          12.5,
          9.5,
          11,
          8.583333333333334,
          10,
          10,
          10.428571428571429,
          11.166666666666666,
          8.714285714285714,
          10.5,
          9.857142857142858,
          8.727272727272727,
          9.205882352941176,
          9.0625,
          6.166666666666667,
          9.9,
          7.722222222222222,
          9.545454545454545,
          9.944444444444445,
          9.75,
          9.882352941176471,
          10.409090909090908,
          10.038461538461538,
          9.1,
          8.676470588235293,
          8.055555555555555,
          10,
          9.65,
          9.258620689655173,
          9.988095238095237,
          8.9375,
          9.2,
          8.782051282051283,
          9.875,
          10.38888888888889,
          10.477272727272727,
          9.4375,
          9.346153846153847,
          11,
          16.5,
          11,
          10.75,
          11,
          11.666666666666666,
          10.5,
          12,
          11,
          10.5,
          11
         ],
         "yaxis": "y"
        }
       ],
       "layout": {
        "legend": {
         "title": {
          "text": "name"
         },
         "tracegroupgap": 0
        },
        "margin": {
         "t": 60
        },
        "template": {
         "data": {
          "bar": [
           {
            "error_x": {
             "color": "#2a3f5f"
            },
            "error_y": {
             "color": "#2a3f5f"
            },
            "marker": {
             "line": {
              "color": "#E5ECF6",
              "width": 0.5
             }
            },
            "type": "bar"
           }
          ],
          "barpolar": [
           {
            "marker": {
             "line": {
              "color": "#E5ECF6",
              "width": 0.5
             }
            },
            "type": "barpolar"
           }
          ],
          "carpet": [
           {
            "aaxis": {
             "endlinecolor": "#2a3f5f",
             "gridcolor": "white",
             "linecolor": "white",
             "minorgridcolor": "white",
             "startlinecolor": "#2a3f5f"
            },
            "baxis": {
             "endlinecolor": "#2a3f5f",
             "gridcolor": "white",
             "linecolor": "white",
             "minorgridcolor": "white",
             "startlinecolor": "#2a3f5f"
            },
            "type": "carpet"
           }
          ],
          "choropleth": [
           {
            "colorbar": {
             "outlinewidth": 0,
             "ticks": ""
            },
            "type": "choropleth"
           }
          ],
          "contour": [
           {
            "colorbar": {
             "outlinewidth": 0,
             "ticks": ""
            },
            "colorscale": [
             [
              0,
              "#0d0887"
             ],
             [
              0.1111111111111111,
              "#46039f"
             ],
             [
              0.2222222222222222,
              "#7201a8"
             ],
             [
              0.3333333333333333,
              "#9c179e"
             ],
             [
              0.4444444444444444,
              "#bd3786"
             ],
             [
              0.5555555555555556,
              "#d8576b"
             ],
             [
              0.6666666666666666,
              "#ed7953"
             ],
             [
              0.7777777777777778,
              "#fb9f3a"
             ],
             [
              0.8888888888888888,
              "#fdca26"
             ],
             [
              1,
              "#f0f921"
             ]
            ],
            "type": "contour"
           }
          ],
          "contourcarpet": [
           {
            "colorbar": {
             "outlinewidth": 0,
             "ticks": ""
            },
            "type": "contourcarpet"
           }
          ],
          "heatmap": [
           {
            "colorbar": {
             "outlinewidth": 0,
             "ticks": ""
            },
            "colorscale": [
             [
              0,
              "#0d0887"
             ],
             [
              0.1111111111111111,
              "#46039f"
             ],
             [
              0.2222222222222222,
              "#7201a8"
             ],
             [
              0.3333333333333333,
              "#9c179e"
             ],
             [
              0.4444444444444444,
              "#bd3786"
             ],
             [
              0.5555555555555556,
              "#d8576b"
             ],
             [
              0.6666666666666666,
              "#ed7953"
             ],
             [
              0.7777777777777778,
              "#fb9f3a"
             ],
             [
              0.8888888888888888,
              "#fdca26"
             ],
             [
              1,
              "#f0f921"
             ]
            ],
            "type": "heatmap"
           }
          ],
          "heatmapgl": [
           {
            "colorbar": {
             "outlinewidth": 0,
             "ticks": ""
            },
            "colorscale": [
             [
              0,
              "#0d0887"
             ],
             [
              0.1111111111111111,
              "#46039f"
             ],
             [
              0.2222222222222222,
              "#7201a8"
             ],
             [
              0.3333333333333333,
              "#9c179e"
             ],
             [
              0.4444444444444444,
              "#bd3786"
             ],
             [
              0.5555555555555556,
              "#d8576b"
             ],
             [
              0.6666666666666666,
              "#ed7953"
             ],
             [
              0.7777777777777778,
              "#fb9f3a"
             ],
             [
              0.8888888888888888,
              "#fdca26"
             ],
             [
              1,
              "#f0f921"
             ]
            ],
            "type": "heatmapgl"
           }
          ],
          "histogram": [
           {
            "marker": {
             "colorbar": {
              "outlinewidth": 0,
              "ticks": ""
             }
            },
            "type": "histogram"
           }
          ],
          "histogram2d": [
           {
            "colorbar": {
             "outlinewidth": 0,
             "ticks": ""
            },
            "colorscale": [
             [
              0,
              "#0d0887"
             ],
             [
              0.1111111111111111,
              "#46039f"
             ],
             [
              0.2222222222222222,
              "#7201a8"
             ],
             [
              0.3333333333333333,
              "#9c179e"
             ],
             [
              0.4444444444444444,
              "#bd3786"
             ],
             [
              0.5555555555555556,
              "#d8576b"
             ],
             [
              0.6666666666666666,
              "#ed7953"
             ],
             [
              0.7777777777777778,
              "#fb9f3a"
             ],
             [
              0.8888888888888888,
              "#fdca26"
             ],
             [
              1,
              "#f0f921"
             ]
            ],
            "type": "histogram2d"
           }
          ],
          "histogram2dcontour": [
           {
            "colorbar": {
             "outlinewidth": 0,
             "ticks": ""
            },
            "colorscale": [
             [
              0,
              "#0d0887"
             ],
             [
              0.1111111111111111,
              "#46039f"
             ],
             [
              0.2222222222222222,
              "#7201a8"
             ],
             [
              0.3333333333333333,
              "#9c179e"
             ],
             [
              0.4444444444444444,
              "#bd3786"
             ],
             [
              0.5555555555555556,
              "#d8576b"
             ],
             [
              0.6666666666666666,
              "#ed7953"
             ],
             [
              0.7777777777777778,
              "#fb9f3a"
             ],
             [
              0.8888888888888888,
              "#fdca26"
             ],
             [
              1,
              "#f0f921"
             ]
            ],
            "type": "histogram2dcontour"
           }
          ],
          "mesh3d": [
           {
            "colorbar": {
             "outlinewidth": 0,
             "ticks": ""
            },
            "type": "mesh3d"
           }
          ],
          "parcoords": [
           {
            "line": {
             "colorbar": {
              "outlinewidth": 0,
              "ticks": ""
             }
            },
            "type": "parcoords"
           }
          ],
          "pie": [
           {
            "automargin": true,
            "type": "pie"
           }
          ],
          "scatter": [
           {
            "marker": {
             "colorbar": {
              "outlinewidth": 0,
              "ticks": ""
             }
            },
            "type": "scatter"
           }
          ],
          "scatter3d": [
           {
            "line": {
             "colorbar": {
              "outlinewidth": 0,
              "ticks": ""
             }
            },
            "marker": {
             "colorbar": {
              "outlinewidth": 0,
              "ticks": ""
             }
            },
            "type": "scatter3d"
           }
          ],
          "scattercarpet": [
           {
            "marker": {
             "colorbar": {
              "outlinewidth": 0,
              "ticks": ""
             }
            },
            "type": "scattercarpet"
           }
          ],
          "scattergeo": [
           {
            "marker": {
             "colorbar": {
              "outlinewidth": 0,
              "ticks": ""
             }
            },
            "type": "scattergeo"
           }
          ],
          "scattergl": [
           {
            "marker": {
             "colorbar": {
              "outlinewidth": 0,
              "ticks": ""
             }
            },
            "type": "scattergl"
           }
          ],
          "scattermapbox": [
           {
            "marker": {
             "colorbar": {
              "outlinewidth": 0,
              "ticks": ""
             }
            },
            "type": "scattermapbox"
           }
          ],
          "scatterpolar": [
           {
            "marker": {
             "colorbar": {
              "outlinewidth": 0,
              "ticks": ""
             }
            },
            "type": "scatterpolar"
           }
          ],
          "scatterpolargl": [
           {
            "marker": {
             "colorbar": {
              "outlinewidth": 0,
              "ticks": ""
             }
            },
            "type": "scatterpolargl"
           }
          ],
          "scatterternary": [
           {
            "marker": {
             "colorbar": {
              "outlinewidth": 0,
              "ticks": ""
             }
            },
            "type": "scatterternary"
           }
          ],
          "surface": [
           {
            "colorbar": {
             "outlinewidth": 0,
             "ticks": ""
            },
            "colorscale": [
             [
              0,
              "#0d0887"
             ],
             [
              0.1111111111111111,
              "#46039f"
             ],
             [
              0.2222222222222222,
              "#7201a8"
             ],
             [
              0.3333333333333333,
              "#9c179e"
             ],
             [
              0.4444444444444444,
              "#bd3786"
             ],
             [
              0.5555555555555556,
              "#d8576b"
             ],
             [
              0.6666666666666666,
              "#ed7953"
             ],
             [
              0.7777777777777778,
              "#fb9f3a"
             ],
             [
              0.8888888888888888,
              "#fdca26"
             ],
             [
              1,
              "#f0f921"
             ]
            ],
            "type": "surface"
           }
          ],
          "table": [
           {
            "cells": {
             "fill": {
              "color": "#EBF0F8"
             },
             "line": {
              "color": "white"
             }
            },
            "header": {
             "fill": {
              "color": "#C8D4E3"
             },
             "line": {
              "color": "white"
             }
            },
            "type": "table"
           }
          ]
         },
         "layout": {
          "annotationdefaults": {
           "arrowcolor": "#2a3f5f",
           "arrowhead": 0,
           "arrowwidth": 1
          },
          "autotypenumbers": "strict",
          "coloraxis": {
           "colorbar": {
            "outlinewidth": 0,
            "ticks": ""
           }
          },
          "colorscale": {
           "diverging": [
            [
             0,
             "#8e0152"
            ],
            [
             0.1,
             "#c51b7d"
            ],
            [
             0.2,
             "#de77ae"
            ],
            [
             0.3,
             "#f1b6da"
            ],
            [
             0.4,
             "#fde0ef"
            ],
            [
             0.5,
             "#f7f7f7"
            ],
            [
             0.6,
             "#e6f5d0"
            ],
            [
             0.7,
             "#b8e186"
            ],
            [
             0.8,
             "#7fbc41"
            ],
            [
             0.9,
             "#4d9221"
            ],
            [
             1,
             "#276419"
            ]
           ],
           "sequential": [
            [
             0,
             "#0d0887"
            ],
            [
             0.1111111111111111,
             "#46039f"
            ],
            [
             0.2222222222222222,
             "#7201a8"
            ],
            [
             0.3333333333333333,
             "#9c179e"
            ],
            [
             0.4444444444444444,
             "#bd3786"
            ],
            [
             0.5555555555555556,
             "#d8576b"
            ],
            [
             0.6666666666666666,
             "#ed7953"
            ],
            [
             0.7777777777777778,
             "#fb9f3a"
            ],
            [
             0.8888888888888888,
             "#fdca26"
            ],
            [
             1,
             "#f0f921"
            ]
           ],
           "sequentialminus": [
            [
             0,
             "#0d0887"
            ],
            [
             0.1111111111111111,
             "#46039f"
            ],
            [
             0.2222222222222222,
             "#7201a8"
            ],
            [
             0.3333333333333333,
             "#9c179e"
            ],
            [
             0.4444444444444444,
             "#bd3786"
            ],
            [
             0.5555555555555556,
             "#d8576b"
            ],
            [
             0.6666666666666666,
             "#ed7953"
            ],
            [
             0.7777777777777778,
             "#fb9f3a"
            ],
            [
             0.8888888888888888,
             "#fdca26"
            ],
            [
             1,
             "#f0f921"
            ]
           ]
          },
          "colorway": [
           "#636efa",
           "#EF553B",
           "#00cc96",
           "#ab63fa",
           "#FFA15A",
           "#19d3f3",
           "#FF6692",
           "#B6E880",
           "#FF97FF",
           "#FECB52"
          ],
          "font": {
           "color": "#2a3f5f"
          },
          "geo": {
           "bgcolor": "white",
           "lakecolor": "white",
           "landcolor": "#E5ECF6",
           "showlakes": true,
           "showland": true,
           "subunitcolor": "white"
          },
          "hoverlabel": {
           "align": "left"
          },
          "hovermode": "closest",
          "mapbox": {
           "style": "light"
          },
          "paper_bgcolor": "white",
          "plot_bgcolor": "#E5ECF6",
          "polar": {
           "angularaxis": {
            "gridcolor": "white",
            "linecolor": "white",
            "ticks": ""
           },
           "bgcolor": "#E5ECF6",
           "radialaxis": {
            "gridcolor": "white",
            "linecolor": "white",
            "ticks": ""
           }
          },
          "scene": {
           "xaxis": {
            "backgroundcolor": "#E5ECF6",
            "gridcolor": "white",
            "gridwidth": 2,
            "linecolor": "white",
            "showbackground": true,
            "ticks": "",
            "zerolinecolor": "white"
           },
           "yaxis": {
            "backgroundcolor": "#E5ECF6",
            "gridcolor": "white",
            "gridwidth": 2,
            "linecolor": "white",
            "showbackground": true,
            "ticks": "",
            "zerolinecolor": "white"
           },
           "zaxis": {
            "backgroundcolor": "#E5ECF6",
            "gridcolor": "white",
            "gridwidth": 2,
            "linecolor": "white",
            "showbackground": true,
            "ticks": "",
            "zerolinecolor": "white"
           }
          },
          "shapedefaults": {
           "line": {
            "color": "#2a3f5f"
           }
          },
          "ternary": {
           "aaxis": {
            "gridcolor": "white",
            "linecolor": "white",
            "ticks": ""
           },
           "baxis": {
            "gridcolor": "white",
            "linecolor": "white",
            "ticks": ""
           },
           "bgcolor": "#E5ECF6",
           "caxis": {
            "gridcolor": "white",
            "linecolor": "white",
            "ticks": ""
           }
          },
          "title": {
           "x": 0.05
          },
          "xaxis": {
           "automargin": true,
           "gridcolor": "white",
           "linecolor": "white",
           "ticks": "",
           "title": {
            "standoff": 15
           },
           "zerolinecolor": "white",
           "zerolinewidth": 2
          },
          "yaxis": {
           "automargin": true,
           "gridcolor": "white",
           "linecolor": "white",
           "ticks": "",
           "title": {
            "standoff": 15
           },
           "zerolinecolor": "white",
           "zerolinewidth": 2
          }
         }
        },
        "xaxis": {
         "anchor": "y",
         "domain": [
          0,
          1
         ],
         "title": {
          "text": "distance"
         }
        },
        "yaxis": {
         "anchor": "x",
         "domain": [
          0,
          1
         ],
         "title": {
          "text": "price"
         }
        }
       }
      },
      "text/html": [
       "<div>                            <div id=\"48e176da-6ad8-45b8-8408-bc1a02cfef38\" class=\"plotly-graph-div\" style=\"height:525px; width:100%;\"></div>            <script type=\"text/javascript\">                require([\"plotly\"], function(Plotly) {                    window.PLOTLYENV=window.PLOTLYENV || {};                                    if (document.getElementById(\"48e176da-6ad8-45b8-8408-bc1a02cfef38\")) {                    Plotly.newPlot(                        \"48e176da-6ad8-45b8-8408-bc1a02cfef38\",                        [{\"hovertemplate\": \"name=Lux<br>distance=%{x}<br>price=%{y}<extra></extra>\", \"legendgroup\": \"Lux\", \"line\": {\"color\": \"#636efa\", \"dash\": \"solid\"}, \"mode\": \"lines\", \"name\": \"Lux\", \"showlegend\": true, \"type\": \"scattergl\", \"x\": [0.39, 0.4, 0.41, 0.42, 0.43, 0.44, 0.45, 0.46, 0.47, 0.48, 0.49, 0.5, 0.51, 0.52, 0.53, 0.54, 0.55, 0.56, 0.57, 0.58, 0.59, 0.6, 0.61, 0.62, 0.63, 0.64, 0.65, 0.66, 0.67, 0.68, 0.69, 0.7, 0.71, 0.72, 0.73, 0.74, 0.75, 0.76, 0.77, 0.78, 0.79, 0.8, 0.81, 0.82, 0.83, 0.84, 0.85, 0.86, 0.87, 0.88, 0.89, 0.9, 0.91, 0.92, 0.93, 0.94, 0.95, 0.96, 0.97, 0.98, 0.99, 1.0, 1.01, 1.02, 1.03, 1.04, 1.05, 1.06, 1.07, 1.08, 1.09, 1.1, 1.11, 1.12, 1.13, 1.14, 1.15, 1.16, 1.17, 1.18, 1.19, 1.2, 1.21, 1.22, 1.23, 1.24, 1.25, 1.26, 1.27, 1.28, 1.29, 1.3, 1.31, 1.32, 1.33, 1.34, 1.35, 1.36, 1.37, 1.38, 1.39, 1.4, 1.41, 1.42, 1.43, 1.44, 1.45, 1.46, 1.47, 1.48, 1.49, 1.5, 1.51, 1.52, 1.53, 1.54, 1.55, 1.56, 1.57, 1.58, 1.59, 1.6, 1.61, 1.62, 1.63, 1.64, 1.65, 1.66, 1.67, 1.68, 1.69, 1.7, 1.71, 1.72, 1.73, 1.74, 1.75, 1.76, 1.77, 1.78, 1.79, 1.8, 1.81, 1.82, 1.83, 1.84, 1.85, 1.86, 1.87, 1.88, 1.89, 1.9, 1.91, 1.92, 1.93, 1.94, 1.95, 1.96, 1.97, 1.98, 1.99, 2.0, 2.01, 2.02, 2.03, 2.04, 2.05, 2.06, 2.07, 2.08, 2.09, 2.1, 2.11, 2.12, 2.13, 2.14, 2.15, 2.16, 2.17, 2.18, 2.19, 2.2, 2.21, 2.22, 2.23, 2.24, 2.25, 2.26, 2.27, 2.28, 2.29, 2.3, 2.31, 2.32, 2.33, 2.34, 2.35, 2.36, 2.37, 2.38, 2.39, 2.4, 2.41, 2.42, 2.43, 2.44, 2.45, 2.46, 2.47, 2.48, 2.49, 2.5, 2.51, 2.52, 2.53, 2.54, 2.55, 2.56, 2.57, 2.58, 2.59, 2.6, 2.61, 2.62, 2.63, 2.64, 2.65, 2.66, 2.67, 2.68, 2.69, 2.7, 2.71, 2.72, 2.73, 2.74, 2.75, 2.76, 2.77, 2.78, 2.79, 2.8, 2.81, 2.82, 2.83, 2.84, 2.85, 2.86, 2.87, 2.88, 2.89, 2.9, 2.91, 2.92, 2.93, 2.94, 2.95, 2.96, 2.97, 2.98, 2.99, 3.0, 3.01, 3.02, 3.03, 3.04, 3.05, 3.06, 3.07, 3.08, 3.09, 3.1, 3.11, 3.12, 3.13, 3.14, 3.15, 3.16, 3.17, 3.18, 3.19, 3.2, 3.21, 3.22, 3.23, 3.24, 3.25, 3.26, 3.27, 3.28, 3.29, 3.3, 3.31, 3.32, 3.33, 3.34, 3.35, 3.36, 3.37, 3.38, 3.39, 3.4, 3.41, 3.42, 3.43, 3.44, 3.45, 3.46, 3.47, 3.48, 3.49, 3.5, 3.51, 3.52, 3.53, 3.54, 3.55, 3.56, 3.57, 3.58, 3.59, 3.6, 3.61, 3.62, 3.63, 3.64, 3.65, 3.66, 3.67, 3.68, 3.69, 3.7, 3.71, 3.72, 3.73, 3.74, 3.75, 3.76, 3.77, 3.78, 3.79, 3.8, 3.81, 3.82, 3.83, 3.84, 3.85, 3.86, 3.87, 3.88, 3.89, 3.9, 3.91, 3.92, 3.93, 3.94, 3.95, 3.96, 3.97, 3.98, 3.99, 4.0, 4.01, 4.02, 4.03, 4.04, 4.05, 4.06, 4.07, 4.08, 4.09, 4.1, 4.11, 4.12, 4.13, 4.14, 4.15, 4.16, 4.17, 4.18, 4.19, 4.2, 4.21, 4.22, 4.23, 4.24, 4.25, 4.26, 4.27, 4.28, 4.29, 4.3, 4.31, 4.32, 4.33, 4.34, 4.35, 4.36, 4.37, 4.38, 4.39, 4.4, 4.41, 4.42, 4.43, 4.44, 4.45, 4.46, 4.47, 4.48, 4.49, 4.5, 4.51, 4.52, 4.53, 4.54, 4.55, 4.56, 4.57, 4.58, 4.59, 4.6, 4.61, 4.62, 4.63, 4.64, 4.65, 4.66, 4.67, 4.68, 4.69, 4.7, 4.71, 4.72, 4.73, 4.74, 4.75, 4.76, 4.77, 4.78, 4.79, 4.8, 4.81, 4.82, 4.83, 4.85, 4.87, 4.89, 4.9, 4.91, 4.93, 4.94, 4.95, 4.96, 4.97, 4.98, 4.99, 5.0, 5.01, 5.02, 5.03, 5.04, 5.05, 5.06, 5.08, 5.09, 5.1, 5.11, 5.12, 5.13, 5.14, 5.15, 5.16, 5.17, 5.18, 5.19, 5.2, 5.21, 5.22, 5.23, 5.24, 5.25, 5.26, 5.27, 5.28, 5.29, 5.3, 5.31, 5.32, 5.33, 5.34, 5.35, 5.36, 5.37, 5.38, 5.39, 5.4, 5.41, 5.42, 5.43, 5.44, 5.45, 5.46, 5.86, 5.95, 6.0, 6.03, 6.04, 6.09, 6.12, 6.13, 6.14, 6.33], \"xaxis\": \"x\", \"y\": [10.930232558139535, 10.74, 11.0, 11.24390243902439, 10.76969696969697, 10.761363636363637, 10.935294117647059, 11.288732394366198, 10.710526315789474, 11.342105263157896, 10.944444444444445, 10.823529411764707, 10.785714285714286, 10.720338983050848, 10.825503355704697, 10.78740157480315, 10.975247524752476, 10.924157303370787, 10.794545454545455, 10.83084577114428, 11.377952755905511, 10.857142857142858, 11.406542056074766, 11.129310344827585, 11.118320610687023, 11.096153846153847, 10.952054794520548, 11.07451923076923, 10.872093023255815, 11.716049382716049, 11.035398230088495, 11.518867924528301, 11.760752688172044, 11.3875, 11.061111111111112, 11.435294117647059, 11.357954545454545, 10.91, 10.80373831775701, 10.696428571428571, 10.8125, 12.357142857142858, 12.083333333333334, 11.0, 12.5, 13.076923076923077, 12.45, 13.321428571428571, 13.590909090909092, 12.702702702702704, 11.789473684210526, 11.027777777777779, 10.99090909090909, 11.928571428571429, 11.972972972972974, 12.666666666666666, 12.709677419354838, 12.346153846153847, 13.297619047619047, 13.405063291139241, 13.03238866396761, 13.15953947368421, 12.39622641509434, 12.262975778546712, 12.453488372093023, 12.78888888888889, 13.028662420382165, 13.33641975308642, 13.298353909465021, 13.32429245283019, 13.382978723404255, 13.4425, 13.225446428571429, 12.93018018018018, 13.080717488789238, 13.689873417721518, 13.708994708994709, 14.062015503875969, 14.016339869281046, 13.734939759036145, 13.654205607476635, 13.73758865248227, 14.235294117647058, 13.901913875598087, 13.718208092485549, 13.845092024539877, 13.957627118644067, 13.908163265306122, 13.803448275862069, 13.6875, 13.82258064516129, 13.98913043478261, 13.967105263157896, 14.905963302752294, 14.85276073619632, 14.571428571428571, 14.821782178217822, 14.31055900621118, 14.377659574468085, 13.952380952380953, 14.23731884057971, 14.271356783919598, 13.966019417475728, 14.25438596491228, 14.765486725663717, 14.27536231884058, 14.530150753768844, 14.293814432989691, 14.67741935483871, 14.62, 14.803076923076922, 15.327450980392157, 15.527777777777779, 15.812977099236642, 15.034090909090908, 15.276357827476039, 15.239024390243902, 15.660377358490566, 15.354651162790697, 15.744186046511627, 14.464285714285714, 15.394736842105264, 14.571428571428571, 13.5, 16.25, 16.2125, 15.779411764705882, 15.163793103448276, 15.572727272727272, 15.635802469135802, 16.14516129032258, 16.916129032258066, 16.957264957264957, 17.14533622559653, 16.261363636363637, 15.904306220095695, 15.880851063829788, 16.707482993197278, 15.920454545454545, 16.153846153846153, 15.972602739726028, 16.946428571428573, 17.0, 16.73076923076923, 16.585714285714285, 17.189393939393938, 16.62, 16.64516129032258, 17.145833333333332, 16.70689655172414, 17.377551020408163, 17.07894736842105, 16.841772151898734, 16.885714285714286, 16.810344827586206, 16.8, 17.068421052631578, 17.93617021276596, 18.216666666666665, 17.1875, 17.884615384615383, 17.566666666666666, 17.44097222222222, 18.14090909090909, 17.45774647887324, 17.08173076923077, 17.18888888888889, 17.048872180451127, 17.093922651933703, 17.35576923076923, 17.074257425742573, 17.326612903225808, 17.09119496855346, 17.8125, 18.067307692307693, 17.89423076923077, 17.943438914027148, 17.918181818181818, 17.425, 20.819444444444443, 21.375, 18.710526315789473, 17.605263157894736, 19.342105263157894, 18.336363636363636, 18.40983606557377, 19.023809523809526, 18.439393939393938, 18.228915662650603, 18.13131313131313, 18.268456375838927, 18.85972850678733, 17.758064516129032, 18.08823529411765, 17.689119170984455, 18.49621212121212, 17.80225988700565, 18.158767772511847, 18.33745583038869, 18.041297935103245, 17.573630136986303, 17.916158536585368, 18.303072625698324, 17.845821325648416, 18.24277456647399, 18.345744680851062, 18.852534562211982, 18.588709677419356, 18.751655629139073, 19.04225352112676, 18.53503184713376, 19.270186335403725, 20.28609625668449, 19.796666666666667, 19.436046511627907, 19.839622641509433, 19.279411764705884, 18.988095238095237, 18.892241379310345, 19.1, 19.020833333333332, 21.055555555555557, 20.653846153846153, 19.528089887640448, 19.42982456140351, 20.125, 20.074468085106382, 18.72189349112426, 19.549689440993788, 19.457142857142856, 20.5859375, 18.571428571428573, 21.147058823529413, 18.866013071895424, 19.13768115942029, 19.59433962264151, 20.783505154639176, 20.852941176470587, 20.666666666666668, 21.805555555555557, 21.35483870967742, 20.822857142857142, 21.59328358208955, 20.281368821292777, 20.548042704626333, 19.94747081712062, 19.286931818181817, 20.56451612903226, 20.180790960451976, 20.21361502347418, 21.118705035971225, 21.530434782608694, 21.174074074074074, 21.357142857142858, 21.192660550458715, 21.004484304932735, 21.197777777777777, 20.76382978723404, 21.1, 20.513513513513512, 21.533333333333335, 22.192682926829267, 22.087878787878786, 21.808943089430894, 22.066037735849058, 22.083815028901736, 21.770408163265305, 21.390287769784173, 20.967248908296945, 21.621019108280255, 21.934782608695652, 21.20873786407767, 21.619815668202765, 21.79360465116279, 21.320627802690584, 20.998489425981873, 20.682716049382716, 21.754863813229573, 22.01063829787234, 21.968220338983052, 21.66182572614108, 21.619266055045873, 22.750943396226415, 22.08450704225352, 22.482142857142858, 22.479899497487438, 22.336170212765957, 22.232558139534884, 22.704225352112676, 23.529761904761905, 22.62121212121212, 21.864, 22.43548387096774, 22.731617647058822, 22.47222222222222, 22.1484375, 22.25657894736842, 21.85, 22.606060606060606, 25.818181818181817, 24.32051282051282, 23.479166666666668, 23.669811320754718, 24.08235294117647, 23.01388888888889, 24.117886178861788, 24.41111111111111, 23.36697247706422, 22.82075471698113, 23.125, 22.348484848484848, 22.140625, 22.114285714285714, 22.03846153846154, 22.264044943820224, 22.270833333333332, 26.08823529411765, 30.416666666666668, 26.071428571428573, 24.583333333333332, 26.375, 26.75, 26.375, 25.0, 22.5, 22.954545454545453, 27.125, 36.0, 29.45, 31.3, 28.625, 31.375, 25.9, 26.25, 25.958333333333332, 29.1, 31.1875, 29.5, 27.03125, 28.7, 27.38888888888889, 25.555555555555557, 25.5, 29.214285714285715, 24.85, 22.5, 26.375, 26.375, 27.5, 25.5, 38.75, 27.0, 26.95, 25.875, 26.4375, 26.125, 29.6875, 26.727272727272727, 26.392857142857142, 27.863636363636363, 24.625, 27.045454545454547, 27.65, 28.15, 28.96153846153846, 26.38888888888889, 25.944444444444443, 25.90909090909091, 28.375, 25.61111111111111, 25.423076923076923, 26.75, 25.88235294117647, 26.093023255813954, 25.483870967741936, 27.228571428571428, 26.666666666666668, 25.596774193548388, 26.620689655172413, 26.152173913043477, 26.87878787878788, 25.72222222222222, 24.904255319148938, 24.794871794871796, 25.855555555555554, 26.203125, 25.593023255813954, 26.96875, 31.846153846153847, 30.38888888888889, 27.416666666666668, 26.24074074074074, 27.513513513513512, 27.653846153846153, 26.7, 26.74468085106383, 26.1734693877551, 26.622222222222224, 28.50943396226415, 26.630434782608695, 26.833333333333332, 27.183333333333334, 26.40625, 30.166666666666668, 30.25, 27.57843137254902, 27.017241379310345, 27.76595744680851, 26.708955223880597, 26.902173913043477, 27.833333333333332, 27.35185185185185, 26.725, 26.915254237288135, 27.703703703703702, 26.842105263157894, 26.030864197530864, 26.1625, 26.206666666666667, 25.94, 25.984375, 26.603896103896105, 26.7265625, 26.488372093023255, 26.5, 29.36842105263158, 26.9, 27.55263157894737, 27.394736842105264, 27.107142857142858, 26.88, 27.477272727272727, 26.772727272727273, 26.138297872340427, 25.728571428571428, 26.41891891891892, 27.930555555555557, 25.875, 31.63888888888889, 28.666666666666668, 30.704545454545453, 27.543478260869566, 27.5625, 26.75, 26.75, 27.5, 26.0, 26.0, 27.5, 26.75, 28.666666666666668, 26.375, 30.0, 37.5625, 26.75, 27.125, 27.5, 28.0, 27.25, 26.9, 26.0, 28.0, 27.0, 30.0, 37.5, 31.333333333333332, 34.0, 33.75, 32.7, 31.666666666666668, 30.357142857142858, 33.75, 29.642857142857142, 30.833333333333332, 30.142857142857142, 27.954545454545453, 28.852941176470587, 26.75, 26.7, 27.7, 27.27777777777778, 27.272727272727273, 28.72222222222222, 28.875, 28.205882352941178, 28.954545454545453, 28.51923076923077, 28.925, 28.58823529411765, 28.055555555555557, 29.1, 28.55, 28.46551724137931, 28.571428571428573, 27.916666666666668, 30.866666666666667, 28.846153846153847, 28.40909090909091, 28.08888888888889, 27.636363636363637, 27.40625, 26.923076923076923, 26.0, 40.75, 30.0, 31.25, 30.0, 32.166666666666664, 32.5, 35.5, 30.0, 32.5, 30.0], \"yaxis\": \"y\"}, {\"hovertemplate\": \"name=Lux Black<br>distance=%{x}<br>price=%{y}<extra></extra>\", \"legendgroup\": \"Lux Black\", \"line\": {\"color\": \"#EF553B\", \"dash\": \"solid\"}, \"mode\": \"lines\", \"name\": \"Lux Black\", \"showlegend\": true, \"type\": \"scattergl\", \"x\": [0.39, 0.4, 0.41, 0.42, 0.43, 0.44, 0.45, 0.46, 0.47, 0.48, 0.49, 0.5, 0.51, 0.52, 0.53, 0.54, 0.55, 0.56, 0.57, 0.58, 0.59, 0.6, 0.61, 0.62, 0.63, 0.64, 0.65, 0.66, 0.67, 0.68, 0.69, 0.7, 0.71, 0.72, 0.73, 0.74, 0.75, 0.76, 0.77, 0.78, 0.79, 0.8, 0.81, 0.82, 0.83, 0.84, 0.85, 0.86, 0.87, 0.88, 0.89, 0.9, 0.91, 0.92, 0.93, 0.94, 0.95, 0.96, 0.97, 0.98, 0.99, 1.0, 1.01, 1.02, 1.03, 1.04, 1.05, 1.06, 1.07, 1.08, 1.09, 1.1, 1.11, 1.12, 1.13, 1.14, 1.15, 1.16, 1.17, 1.18, 1.19, 1.2, 1.21, 1.22, 1.23, 1.24, 1.25, 1.26, 1.27, 1.28, 1.29, 1.3, 1.31, 1.32, 1.33, 1.34, 1.35, 1.36, 1.37, 1.38, 1.39, 1.4, 1.41, 1.42, 1.43, 1.44, 1.45, 1.46, 1.47, 1.48, 1.49, 1.5, 1.51, 1.52, 1.53, 1.54, 1.55, 1.56, 1.57, 1.58, 1.59, 1.6, 1.61, 1.62, 1.63, 1.64, 1.65, 1.66, 1.67, 1.68, 1.69, 1.7, 1.71, 1.72, 1.73, 1.74, 1.75, 1.76, 1.77, 1.78, 1.79, 1.8, 1.81, 1.82, 1.83, 1.84, 1.85, 1.86, 1.87, 1.88, 1.89, 1.9, 1.91, 1.92, 1.93, 1.94, 1.95, 1.96, 1.97, 1.98, 1.99, 2.0, 2.01, 2.02, 2.03, 2.04, 2.05, 2.06, 2.07, 2.08, 2.09, 2.1, 2.11, 2.12, 2.13, 2.14, 2.15, 2.16, 2.17, 2.18, 2.19, 2.2, 2.21, 2.22, 2.23, 2.24, 2.25, 2.26, 2.27, 2.28, 2.29, 2.3, 2.31, 2.32, 2.33, 2.34, 2.35, 2.36, 2.37, 2.38, 2.39, 2.4, 2.41, 2.42, 2.43, 2.44, 2.45, 2.46, 2.47, 2.48, 2.49, 2.5, 2.51, 2.52, 2.53, 2.54, 2.55, 2.56, 2.57, 2.58, 2.59, 2.6, 2.61, 2.62, 2.63, 2.64, 2.65, 2.66, 2.67, 2.68, 2.69, 2.7, 2.71, 2.72, 2.73, 2.74, 2.75, 2.76, 2.77, 2.78, 2.79, 2.8, 2.81, 2.82, 2.83, 2.84, 2.85, 2.86, 2.87, 2.88, 2.89, 2.9, 2.91, 2.92, 2.93, 2.94, 2.95, 2.96, 2.97, 2.98, 2.99, 3.0, 3.01, 3.02, 3.03, 3.04, 3.05, 3.06, 3.07, 3.08, 3.09, 3.1, 3.11, 3.12, 3.13, 3.14, 3.15, 3.16, 3.17, 3.18, 3.19, 3.2, 3.21, 3.22, 3.23, 3.24, 3.25, 3.26, 3.27, 3.28, 3.29, 3.3, 3.31, 3.32, 3.33, 3.34, 3.35, 3.36, 3.37, 3.38, 3.39, 3.4, 3.41, 3.42, 3.43, 3.44, 3.45, 3.46, 3.47, 3.48, 3.49, 3.5, 3.51, 3.52, 3.53, 3.54, 3.55, 3.56, 3.57, 3.58, 3.59, 3.6, 3.61, 3.62, 3.63, 3.64, 3.65, 3.66, 3.67, 3.68, 3.69, 3.7, 3.71, 3.72, 3.73, 3.74, 3.75, 3.76, 3.77, 3.78, 3.79, 3.8, 3.81, 3.82, 3.83, 3.84, 3.85, 3.86, 3.87, 3.88, 3.89, 3.9, 3.91, 3.92, 3.93, 3.94, 3.95, 3.96, 3.97, 3.98, 3.99, 4.0, 4.01, 4.02, 4.03, 4.04, 4.05, 4.06, 4.07, 4.08, 4.09, 4.1, 4.11, 4.12, 4.13, 4.14, 4.15, 4.16, 4.17, 4.18, 4.19, 4.2, 4.21, 4.22, 4.23, 4.24, 4.25, 4.26, 4.27, 4.28, 4.29, 4.3, 4.31, 4.32, 4.33, 4.34, 4.35, 4.36, 4.37, 4.38, 4.39, 4.4, 4.41, 4.42, 4.43, 4.44, 4.45, 4.46, 4.47, 4.48, 4.49, 4.5, 4.51, 4.52, 4.53, 4.54, 4.55, 4.56, 4.57, 4.58, 4.59, 4.6, 4.61, 4.62, 4.63, 4.64, 4.65, 4.66, 4.67, 4.68, 4.69, 4.7, 4.71, 4.72, 4.73, 4.74, 4.75, 4.76, 4.77, 4.78, 4.79, 4.8, 4.81, 4.82, 4.83, 4.85, 4.87, 4.89, 4.9, 4.91, 4.93, 4.94, 4.95, 4.96, 4.97, 4.98, 4.99, 5.0, 5.01, 5.02, 5.03, 5.04, 5.05, 5.06, 5.08, 5.09, 5.1, 5.11, 5.12, 5.13, 5.14, 5.15, 5.16, 5.17, 5.18, 5.19, 5.2, 5.21, 5.22, 5.23, 5.24, 5.25, 5.26, 5.27, 5.28, 5.29, 5.3, 5.31, 5.32, 5.33, 5.34, 5.35, 5.36, 5.37, 5.38, 5.39, 5.4, 5.41, 5.42, 5.43, 5.44, 5.45, 5.46, 5.86, 5.95, 6.0, 6.03, 6.04, 6.09, 6.12, 6.13, 6.14, 6.33], \"xaxis\": \"x\", \"y\": [16.91860465116279, 16.5, 16.5, 17.426829268292682, 16.536363636363635, 16.5, 16.81764705882353, 17.408450704225352, 16.5, 17.56140350877193, 16.833333333333332, 16.5, 16.5, 16.5, 16.602040816326532, 16.5, 16.797029702970296, 16.84090909090909, 16.587591240875913, 16.69402985074627, 17.31225296442688, 16.622448979591837, 17.518691588785046, 17.017241379310345, 16.958015267175572, 17.141826923076923, 16.76027397260274, 17.05048076923077, 16.709302325581394, 17.858024691358025, 16.738938053097346, 16.72641509433962, 17.136290322580646, 16.72641509433962, 16.566666666666666, 16.606508875739646, 16.71590909090909, 16.66, 16.66822429906542, 16.5, 16.5, 17.357142857142858, 16.666666666666668, 16.5, 17.5, 16.5, 16.5, 17.142857142857142, 17.348484848484848, 17.12162162162162, 17.657894736842106, 16.61111111111111, 16.827272727272728, 16.585714285714285, 16.58108108108108, 16.59090909090909, 16.5, 16.5, 16.88095238095238, 16.61392405063291, 16.60931174089069, 16.91089108910891, 16.59418918918919, 16.603806228373703, 16.780155642023345, 16.816666666666666, 17.227707006369428, 17.32680412371134, 16.891752577319586, 17.045882352941177, 16.962897526501767, 16.77, 17.642857142857142, 17.146396396396398, 17.257847533632287, 17.753164556962027, 17.207894736842107, 17.51937984496124, 17.866013071895424, 17.349397590361445, 17.429906542056074, 17.482142857142858, 17.630252100840337, 17.882775119617225, 17.679190751445088, 17.642638036809817, 17.656553398058254, 17.392857142857142, 17.074137931034482, 17.109375, 17.370967741935484, 17.815217391304348, 18.164473684210527, 18.995412844036696, 19.429447852760735, 18.84313725490196, 19.126237623762375, 18.130434782608695, 18.15343915343915, 17.57857142857143, 17.844202898550726, 18.12562814070352, 17.859223300970875, 18.62280701754386, 18.8, 18.33623188405797, 18.469924812030076, 18.578767123287673, 19.310185185185187, 19.24778761061947, 19.141538461538463, 19.735294117647058, 20.275462962962962, 20.240458015267176, 19.11489898989899, 19.91214057507987, 19.885365853658538, 20.2311320754717, 20.191860465116278, 20.511627906976745, 18.464285714285715, 19.394736842105264, 19.535714285714285, 19.0, 22.2, 21.575, 20.813970588235293, 19.913793103448278, 19.827272727272728, 20.67283950617284, 21.648, 22.2, 22.261702127659575, 22.029284164859003, 21.112603305785125, 20.820574162679424, 20.493617021276595, 21.79591836734694, 21.21590909090909, 21.487179487179485, 21.397260273972602, 21.827272727272728, 22.09259259259259, 21.923076923076923, 21.642857142857142, 21.96969696969697, 20.89, 21.516129032258064, 22.416666666666668, 21.67241379310345, 22.591836734693878, 22.13157894736842, 21.518987341772153, 21.735714285714284, 21.517241379310345, 20.976470588235294, 21.92105263157895, 22.28723404255319, 23.61111111111111, 22.072916666666668, 22.726495726495727, 22.66887417218543, 22.260416666666668, 23.181818181818183, 22.25, 22.317307692307693, 22.4, 22.037593984962406, 22.607734806629836, 22.721153846153847, 21.975247524752476, 22.133064516129032, 21.81761006289308, 22.36111111111111, 22.454838709677418, 22.153846153846153, 22.918552036199095, 22.626506024096386, 21.725, 26.27777777777778, 27.104166666666668, 22.473684210526315, 22.68421052631579, 25.18421052631579, 23.21818181818182, 23.278688524590162, 24.31132075471698, 24.02020202020202, 24.048192771084338, 23.4234693877551, 23.731543624161073, 24.311363636363637, 23.32200647249191, 23.399509803921568, 22.997409326424872, 23.666666666666668, 23.23446327683616, 23.30094786729858, 23.715547703180214, 23.669616519174042, 22.932989690721648, 23.55030487804878, 23.81983240223464, 23.21242774566474, 23.86416184971098, 24.293882978723403, 24.573394495412845, 24.32128514056225, 23.8841059602649, 24.531690140845072, 23.85031847133758, 24.82919254658385, 25.59090909090909, 25.023333333333333, 24.75, 24.985849056603772, 24.080882352941178, 24.297619047619047, 24.405172413793103, 24.573333333333334, 24.9375, 27.644444444444446, 26.432692307692307, 24.617977528089888, 24.62719298245614, 25.323863636363637, 25.29255319148936, 24.195906432748536, 24.496913580246915, 24.789285714285715, 26.921875, 24.229591836734695, 27.08823529411765, 24.539735099337747, 24.844202898550726, 25.08490566037736, 26.49484536082474, 26.38235294117647, 25.73148148148148, 27.72222222222222, 27.153225806451612, 26.47142857142857, 27.39179104477612, 25.880228136882128, 25.83629893238434, 25.325581395348838, 25.113636363636363, 26.251612903225805, 25.71186440677966, 25.46713615023474, 26.1294964028777, 27.08695652173913, 26.933333333333334, 27.485714285714284, 26.56192660550459, 26.612107623318387, 26.75111111111111, 26.429787234042553, 26.89375, 25.94054054054054, 27.325, 28.397560975609757, 27.876506024096386, 27.25609756097561, 27.61006289308176, 27.933526011560694, 27.661538461538463, 27.577617328519857, 27.189956331877728, 27.341772151898734, 27.795652173913044, 26.97087378640777, 27.35483870967742, 27.63081395348837, 27.522421524663677, 27.16616314199396, 26.57549504950495, 27.636186770428015, 28.129432624113477, 27.991561181434598, 27.943983402489625, 27.557339449541285, 28.839622641509433, 28.350352112676056, 28.899641577060933, 28.693467336683415, 28.187234042553193, 28.26279069767442, 28.8556338028169, 29.279761904761905, 28.272727272727273, 27.164, 28.072580645161292, 28.11764705882353, 27.930555555555557, 28.3828125, 29.276315789473685, 28.65, 28.181818181818183, 33.0, 30.025641025641026, 29.680555555555557, 29.81132075471698, 31.023529411764706, 28.71759259259259, 30.869918699186993, 31.044444444444444, 29.559633027522935, 28.778301886792452, 28.823863636363637, 27.887755102040817, 27.885416666666668, 28.057142857142857, 28.18421052631579, 28.320224719101123, 28.114583333333332, 32.14705882352941, 38.25, 31.857142857142858, 32.166666666666664, 31.625, 31.25, 32.125, 30.25, 32.5, 28.363636363636363, 31.875, 47.0, 37.35, 39.0, 35.125, 38.541666666666664, 32.8, 35.25, 31.541666666666668, 35.7, 37.75, 36.53125, 34.90625, 35.35, 33.388888888888886, 32.888888888888886, 31.25, 36.642857142857146, 32.65, 32.5, 32.625, 33.625, 35.5, 32.0, 47.5, 34.166666666666664, 35.1, 32.25, 34.25, 32.625, 36.0, 33.18181818181818, 32.67857142857143, 34.63636363636363, 31.875, 33.68181818181818, 35.35, 35.05, 35.88461538461539, 34.0, 32.611111111111114, 33.18181818181818, 36.291666666666664, 32.388888888888886, 33.26923076923077, 33.107142857142854, 33.0, 32.69767441860465, 32.903225806451616, 35.32857142857143, 34.40277777777778, 33.88333333333333, 34.6551724137931, 33.891304347826086, 34.28787878787879, 32.93055555555556, 33.0531914893617, 33.294871794871796, 34.22222222222222, 34.96875, 33.674418604651166, 35.09375, 40.65384615384615, 39.138888888888886, 35.541666666666664, 33.05555555555556, 33.945945945945944, 35.14102564102564, 33.74, 34.21739130434783, 33.724489795918366, 34.355555555555554, 35.84905660377358, 32.43478260869565, 34.17857142857143, 35.03333333333333, 33.78125, 39.55555555555556, 39.65, 35.411764705882355, 35.41379310344828, 36.297872340425535, 34.621212121212125, 35.31521739130435, 35.138297872340424, 34.574074074074076, 33.44166666666667, 34.57627118644068, 35.39506172839506, 34.36842105263158, 33.47530864197531, 33.5375, 33.229729729729726, 32.77333333333333, 33.421875, 34.24025974025974, 33.609375, 34.36046511627907, 32.73529411764706, 36.973684210526315, 34.3, 33.89473684210526, 35.13157894736842, 34.80357142857143, 34.38, 35.34090909090909, 34.13636363636363, 34.723404255319146, 33.44285714285714, 33.63513513513514, 36.236111111111114, 33.5, 39.388888888888886, 35.916666666666664, 39.34090909090909, 34.73913043478261, 34.5625, 36.25, 33.25, 32.5, 34.0, 34.0, 32.5, 36.25, 36.833333333333336, 33.625, 39.416666666666664, 48.75, 36.25, 35.875, 38.5, 36.0, 34.75, 35.5, 34.0, 36.0, 38.333333333333336, 38.0, 47.833333333333336, 39.833333333333336, 42.5, 43.833333333333336, 43.9, 38.333333333333336, 38.357142857142854, 42.166666666666664, 38.357142857142854, 38.5, 37.714285714285715, 36.31818181818182, 37.411764705882355, 34.75, 35.166666666666664, 38.3, 34.94444444444444, 36.72727272727273, 37.833333333333336, 37.625, 37.794117647058826, 39.04545454545455, 37.86538461538461, 37.975, 38.11764705882353, 38.388888888888886, 38.13333333333333, 37.96666666666667, 37.91379310344828, 38.154761904761905, 37.6875, 40.45, 38.333333333333336, 38.375, 37.611111111111114, 37.09090909090909, 36.96875, 36.76923076923077, 34.0, 52.5, 38.0, 40.5, 42.5, 41.166666666666664, 38.5, 42.0, 38.0, 38.5, 42.5], \"yaxis\": \"y\"}, {\"hovertemplate\": \"name=Lux Black XL<br>distance=%{x}<br>price=%{y}<extra></extra>\", \"legendgroup\": \"Lux Black XL\", \"line\": {\"color\": \"#00cc96\", \"dash\": \"solid\"}, \"mode\": \"lines\", \"name\": \"Lux Black XL\", \"showlegend\": true, \"type\": \"scattergl\", \"x\": [0.39, 0.4, 0.41, 0.42, 0.43, 0.44, 0.45, 0.46, 0.47, 0.48, 0.49, 0.5, 0.51, 0.52, 0.53, 0.54, 0.55, 0.56, 0.57, 0.58, 0.59, 0.6, 0.61, 0.62, 0.63, 0.64, 0.65, 0.66, 0.67, 0.68, 0.69, 0.7, 0.71, 0.72, 0.73, 0.74, 0.75, 0.76, 0.77, 0.78, 0.79, 0.8, 0.81, 0.82, 0.83, 0.84, 0.85, 0.86, 0.87, 0.88, 0.89, 0.9, 0.91, 0.92, 0.93, 0.94, 0.95, 0.96, 0.97, 0.98, 0.99, 1.0, 1.01, 1.02, 1.03, 1.04, 1.05, 1.06, 1.07, 1.08, 1.09, 1.1, 1.11, 1.12, 1.13, 1.14, 1.15, 1.16, 1.17, 1.18, 1.19, 1.2, 1.21, 1.22, 1.23, 1.24, 1.25, 1.26, 1.27, 1.28, 1.29, 1.3, 1.31, 1.32, 1.33, 1.34, 1.35, 1.36, 1.37, 1.38, 1.39, 1.4, 1.41, 1.42, 1.43, 1.44, 1.45, 1.46, 1.47, 1.48, 1.49, 1.5, 1.51, 1.52, 1.53, 1.54, 1.55, 1.56, 1.57, 1.58, 1.59, 1.6, 1.61, 1.62, 1.63, 1.64, 1.65, 1.66, 1.67, 1.68, 1.69, 1.7, 1.71, 1.72, 1.73, 1.74, 1.75, 1.76, 1.77, 1.78, 1.79, 1.8, 1.81, 1.82, 1.83, 1.84, 1.85, 1.86, 1.87, 1.88, 1.89, 1.9, 1.91, 1.92, 1.93, 1.94, 1.95, 1.96, 1.97, 1.98, 1.99, 2.0, 2.01, 2.02, 2.03, 2.04, 2.05, 2.06, 2.07, 2.08, 2.09, 2.1, 2.11, 2.12, 2.13, 2.14, 2.15, 2.16, 2.17, 2.18, 2.19, 2.2, 2.21, 2.22, 2.23, 2.24, 2.25, 2.26, 2.27, 2.28, 2.29, 2.3, 2.31, 2.32, 2.33, 2.34, 2.35, 2.36, 2.37, 2.38, 2.39, 2.4, 2.41, 2.42, 2.43, 2.44, 2.45, 2.46, 2.47, 2.48, 2.49, 2.5, 2.51, 2.52, 2.53, 2.54, 2.55, 2.56, 2.57, 2.58, 2.59, 2.6, 2.61, 2.62, 2.63, 2.64, 2.65, 2.66, 2.67, 2.68, 2.69, 2.7, 2.71, 2.72, 2.73, 2.74, 2.75, 2.76, 2.77, 2.78, 2.79, 2.8, 2.81, 2.82, 2.83, 2.84, 2.85, 2.86, 2.87, 2.88, 2.89, 2.9, 2.91, 2.92, 2.93, 2.94, 2.95, 2.96, 2.97, 2.98, 2.99, 3.0, 3.01, 3.02, 3.03, 3.04, 3.05, 3.06, 3.07, 3.08, 3.09, 3.1, 3.11, 3.12, 3.13, 3.14, 3.15, 3.16, 3.17, 3.18, 3.19, 3.2, 3.21, 3.22, 3.23, 3.24, 3.25, 3.26, 3.27, 3.28, 3.29, 3.3, 3.31, 3.32, 3.33, 3.34, 3.35, 3.36, 3.37, 3.38, 3.39, 3.4, 3.41, 3.42, 3.43, 3.44, 3.45, 3.46, 3.47, 3.48, 3.49, 3.5, 3.51, 3.52, 3.53, 3.54, 3.55, 3.56, 3.57, 3.58, 3.59, 3.6, 3.61, 3.62, 3.63, 3.64, 3.65, 3.66, 3.67, 3.68, 3.69, 3.7, 3.71, 3.72, 3.73, 3.74, 3.75, 3.76, 3.77, 3.78, 3.79, 3.8, 3.81, 3.82, 3.83, 3.84, 3.85, 3.86, 3.87, 3.88, 3.89, 3.9, 3.91, 3.92, 3.93, 3.94, 3.95, 3.96, 3.97, 3.98, 3.99, 4.0, 4.01, 4.02, 4.03, 4.04, 4.05, 4.06, 4.07, 4.08, 4.09, 4.1, 4.11, 4.12, 4.13, 4.14, 4.15, 4.16, 4.17, 4.18, 4.19, 4.2, 4.21, 4.22, 4.23, 4.24, 4.25, 4.26, 4.27, 4.28, 4.29, 4.3, 4.31, 4.32, 4.33, 4.34, 4.35, 4.36, 4.37, 4.38, 4.39, 4.4, 4.41, 4.42, 4.43, 4.44, 4.45, 4.46, 4.47, 4.48, 4.49, 4.5, 4.51, 4.52, 4.53, 4.54, 4.55, 4.56, 4.57, 4.58, 4.59, 4.6, 4.61, 4.62, 4.63, 4.64, 4.65, 4.66, 4.67, 4.68, 4.69, 4.7, 4.71, 4.72, 4.73, 4.74, 4.75, 4.76, 4.77, 4.78, 4.79, 4.8, 4.81, 4.82, 4.83, 4.85, 4.87, 4.89, 4.9, 4.91, 4.93, 4.94, 4.95, 4.96, 4.97, 4.98, 4.99, 5.0, 5.01, 5.02, 5.03, 5.04, 5.05, 5.06, 5.08, 5.09, 5.1, 5.11, 5.12, 5.13, 5.14, 5.15, 5.16, 5.17, 5.18, 5.19, 5.2, 5.21, 5.22, 5.23, 5.24, 5.25, 5.26, 5.27, 5.28, 5.29, 5.3, 5.31, 5.32, 5.33, 5.34, 5.35, 5.36, 5.37, 5.38, 5.39, 5.4, 5.41, 5.42, 5.43, 5.44, 5.45, 5.46, 5.86, 5.95, 6.0, 6.03, 6.04, 6.09, 6.12, 6.13, 6.14, 6.33], \"xaxis\": \"x\", \"y\": [27.325581395348838, 26.78, 26.0, 28.182926829268293, 26.775757575757577, 26.71590909090909, 27.323529411764707, 28.45390070921986, 26.86842105263158, 28.482456140350877, 27.25925925925926, 26.529411764705884, 26.642857142857142, 26.838983050847457, 26.855704697986578, 26.64453125, 27.207920792079207, 27.36723163841808, 27.003649635036496, 27.097014925373134, 28.236220472440944, 27.010204081632654, 28.50467289719626, 27.666666666666668, 27.416030534351144, 28.045673076923077, 27.121004566210047, 27.692307692307693, 26.872093023255815, 29.160493827160494, 27.04424778761062, 26.867924528301888, 27.908602150537636, 27.159375, 26.82777777777778, 26.906432748538013, 27.125, 27.033333333333335, 26.981308411214954, 26.910714285714285, 26.5625, 27.571428571428573, 27.27777777777778, 26.0, 27.833333333333332, 26.923076923076923, 26.45, 28.035714285714285, 28.272727272727273, 27.77027027027027, 28.12280701754386, 26.925925925925927, 27.1, 26.82857142857143, 26.905405405405407, 27.015151515151516, 26.701612903225808, 26.807692307692307, 27.44047619047619, 26.974683544303797, 26.83266129032258, 27.348684210526315, 26.8544474393531, 26.910034602076124, 27.12984496124031, 27.141666666666666, 27.6671974522293, 27.963991769547324, 27.201030927835053, 27.414117647058823, 27.091872791519435, 26.8681592039801, 28.223214285714285, 27.208783783783787, 27.054054054054053, 27.06645569620253, 27.176315789473684, 27.94573643410853, 28.176470588235293, 27.42168674698795, 27.200934579439252, 27.28014184397163, 27.071428571428573, 26.904306220095695, 26.877167630057805, 27.344615384615384, 27.475728155339805, 27.709183673469386, 27.3, 27.14375, 26.79032258064516, 27.494565217391305, 27.68421052631579, 27.761467889908257, 28.395705521472394, 27.441558441558442, 28.48267326732673, 27.804347826086957, 28.193121693121693, 27.516666666666666, 27.91304347826087, 28.128140703517587, 27.344660194174757, 27.92105263157895, 29.376106194690266, 28.11159420289855, 28.27, 27.981164383561644, 28.54147465437788, 28.402654867256636, 28.764615384615386, 28.99607843137255, 29.49537037037037, 29.30534351145038, 27.940656565656564, 28.45673076923077, 28.541463414634148, 29.183962264150942, 29.459302325581394, 29.13953488372093, 28.071428571428573, 27.81578947368421, 28.642857142857142, 26.75, 30.2, 29.4875, 28.88235294117647, 27.724137931034484, 28.145454545454545, 28.444444444444443, 29.676, 30.174193548387098, 30.068085106382977, 30.362255965292842, 28.9097510373444, 28.455847255369928, 28.3, 29.404761904761905, 28.517045454545453, 29.192307692307693, 29.28082191780822, 30.026785714285715, 30.0, 30.064102564102566, 29.135714285714286, 30.0, 28.88, 29.475806451612904, 30.59375, 29.448275862068964, 31.23469387755102, 29.771929824561404, 29.069620253164558, 29.37142857142857, 29.42241379310345, 28.95294117647059, 29.778947368421054, 30.95212765957447, 32.42777777777778, 30.083333333333332, 31.286324786324787, 31.019867549668874, 30.75347222222222, 31.936363636363637, 30.79225352112676, 30.76923076923077, 29.77777777777778, 29.774436090225564, 30.19060773480663, 30.400641025641026, 29.866336633663366, 30.044354838709676, 29.813291139240505, 30.55902777777778, 31.0, 30.721153846153847, 31.41176470588235, 30.843373493975903, 29.80625, 35.388888888888886, 36.1875, 31.81578947368421, 31.342105263157894, 33.3421052631579, 31.509090909090908, 31.991803278688526, 33.283018867924525, 32.38383838383838, 32.24698795180723, 31.994897959183675, 32.42617449664429, 33.39592760180995, 31.575806451612902, 31.67401960784314, 31.27720207253886, 32.50757575757576, 31.805084745762713, 31.703791469194314, 32.54946996466431, 32.256637168141594, 31.29280821917808, 31.98780487804878, 32.46927374301676, 31.63256484149856, 32.283236994219656, 32.5, 33.64908256880734, 33.15261044176707, 32.61258278145695, 33.482394366197184, 32.3343949044586, 33.61490683229814, 34.62234042553192, 33.836666666666666, 33.51744186046512, 33.84905660377358, 32.6764705882353, 33.357142857142854, 33.51724137931034, 34.04666666666667, 34.4375, 35.96666666666667, 35.69230769230769, 33.6123595505618, 33.921052631578945, 34.86931818181818, 34.77127659574468, 33.46491228070175, 33.49691358024691, 33.364285714285714, 35.5546875, 33.16836734693877, 36.705882352941174, 33.26470588235294, 33.79347826086956, 33.45754716981132, 35.23711340206186, 35.088235294117645, 35.01851851851852, 36.794444444444444, 35.935483870967744, 35.33714285714286, 36.201492537313435, 34.657794676806084, 34.88256227758007, 34.065891472868216, 33.74431818181818, 35.16129032258065, 34.17796610169491, 34.075117370892016, 35.65827338129496, 36.11739130434783, 35.55555555555556, 35.878571428571426, 35.711009174311926, 35.4054054054054, 35.74666666666667, 34.719148936170214, 35.7375, 34.63315217391305, 36.25555555555555, 37.443627450980394, 37.575301204819276, 36.739837398373986, 36.9685534591195, 37.11271676300578, 36.42307692307692, 35.80395683453237, 35.30786026200873, 36.41139240506329, 37.12608695652174, 35.6626213592233, 36.38018433179724, 36.60233918128655, 36.0762331838565, 35.56212121212121, 34.82716049382716, 36.53307392996109, 37.06382978723404, 37.0021186440678, 36.7448132780083, 36.46949541284404, 38.22727272727273, 37.528169014084504, 38.11607142857143, 37.78140703517588, 37.94893617021277, 37.5953488372093, 38.602112676056336, 39.351190476190474, 38.05050505050505, 36.832, 37.77150537634409, 38.20740740740741, 38.138888888888886, 36.6640625, 37.6578947368421, 36.864285714285714, 37.46969696969697, 43.04545454545455, 41.333333333333336, 39.74305555555556, 40.132075471698116, 40.6764705882353, 38.13425925925926, 41.040650406504064, 41.272222222222226, 39.6651376146789, 38.70283018867924, 39.01704545454545, 37.964646464646464, 37.104166666666664, 37.48571428571429, 36.96153846153846, 37.12359550561798, 37.802083333333336, 41.5, 48.583333333333336, 40.92857142857143, 40.916666666666664, 40.375, 40.5, 42.125, 42.625, 38.5, 38.36363636363637, 39.5, 59.2, 48.5, 50.1, 46.125, 50.25, 43.3, 45.5, 42.666666666666664, 45.8, 50.75, 46.0625, 42.8125, 45.65, 42.111111111111114, 40.72222222222222, 42.25, 46.642857142857146, 40.55, 38.5, 42.125, 41.5, 42.0, 42.6, 65.0, 43.166666666666664, 42.5, 41.125, 43.9375, 44.0, 47.0625, 42.5, 42.0, 45.27272727272727, 39.5, 44.5, 46.4, 47.05, 46.46153846153846, 43.05555555555556, 41.166666666666664, 42.22727272727273, 47.416666666666664, 41.611111111111114, 41.5, 42.5, 42.5, 42.66279069767442, 42.403225806451616, 45.628571428571426, 44.15277777777778, 42.725806451612904, 44.241379310344826, 43.52173913043478, 44.28787878787879, 42.833333333333336, 41.276595744680854, 41.67948717948718, 42.87777777777778, 43.984375, 42.63953488372093, 45.03125, 51.76923076923077, 50.72222222222222, 44.875, 42.77777777777778, 44.87837837837838, 45.03846153846154, 43.04, 43.97872340425532, 43.01020408163265, 43.72222222222222, 46.70754716981132, 43.67391304347826, 44.67857142857143, 44.28333333333333, 42.53125, 49.138888888888886, 50.3, 45.6764705882353, 45.30172413793103, 46.57446808510638, 44.634328358208954, 44.71739130434783, 46.072916666666664, 44.666666666666664, 43.8, 44.771186440677965, 46.28395061728395, 44.56315789473684, 43.160493827160494, 43.01875, 42.641891891891895, 42.81333333333333, 43.104166666666664, 43.714285714285715, 43.3828125, 43.02325581395349, 43.44117647058823, 47.73684210526316, 44.3, 44.05263157894737, 44.05263157894737, 44.74464285714286, 44.62, 45.5, 44.15909090909091, 43.170212765957444, 41.9, 42.810810810810814, 46.041666666666664, 42.964285714285715, 52.861111111111114, 48.0, 50.27272727272727, 45.58695652173913, 46.1875, 44.0, 44.0, 45.5, 42.5, 42.5, 45.5, 44.0, 47.5, 43.25, 50.25, 61.6875, 44.0, 46.0, 45.5, 47.5, 45.0, 45.3, 42.5, 45.0, 46.166666666666664, 47.5, 56.833333333333336, 51.0, 52.5, 55.75, 53.1, 52.5, 49.785714285714285, 54.75, 48.42857142857143, 50.166666666666664, 47.642857142857146, 45.77272727272727, 47.470588235294116, 44.0, 45.233333333333334, 46.3, 44.72222222222222, 45.86363636363637, 46.388888888888886, 46.375, 45.85294117647059, 46.72727272727273, 46.32692307692308, 46.8, 46.88235294117647, 45.94444444444444, 47.233333333333334, 46.68333333333333, 46.827586206896555, 46.95238095238095, 46.083333333333336, 51.016666666666666, 47.58974358974359, 47.34090909090909, 46.51111111111111, 46.31818181818182, 45.6875, 45.88461538461539, 47.5, 66.5, 47.5, 52.5, 52.5, 53.333333333333336, 55.0, 58.75, 47.5, 55.0, 47.5], \"yaxis\": \"y\"}, {\"hovertemplate\": \"name=Lyft<br>distance=%{x}<br>price=%{y}<extra></extra>\", \"legendgroup\": \"Lyft\", \"line\": {\"color\": \"#ab63fa\", \"dash\": \"solid\"}, \"mode\": \"lines\", \"name\": \"Lyft\", \"showlegend\": true, \"type\": \"scattergl\", \"x\": [0.39, 0.4, 0.41, 0.42, 0.43, 0.44, 0.45, 0.46, 0.47, 0.48, 0.49, 0.5, 0.51, 0.52, 0.53, 0.54, 0.55, 0.56, 0.57, 0.58, 0.59, 0.6, 0.61, 0.62, 0.63, 0.64, 0.65, 0.66, 0.67, 0.68, 0.69, 0.7, 0.71, 0.72, 0.73, 0.74, 0.75, 0.76, 0.77, 0.78, 0.79, 0.8, 0.81, 0.82, 0.83, 0.84, 0.85, 0.86, 0.87, 0.88, 0.89, 0.9, 0.91, 0.92, 0.93, 0.94, 0.95, 0.96, 0.97, 0.98, 0.99, 1.0, 1.01, 1.02, 1.03, 1.04, 1.05, 1.06, 1.07, 1.08, 1.09, 1.1, 1.11, 1.12, 1.13, 1.14, 1.15, 1.16, 1.17, 1.18, 1.19, 1.2, 1.21, 1.22, 1.23, 1.24, 1.25, 1.26, 1.27, 1.28, 1.29, 1.3, 1.31, 1.32, 1.33, 1.34, 1.35, 1.36, 1.37, 1.38, 1.39, 1.4, 1.41, 1.42, 1.43, 1.44, 1.45, 1.46, 1.47, 1.48, 1.49, 1.5, 1.51, 1.52, 1.53, 1.54, 1.55, 1.56, 1.57, 1.58, 1.59, 1.6, 1.61, 1.62, 1.63, 1.64, 1.65, 1.66, 1.67, 1.68, 1.69, 1.7, 1.71, 1.72, 1.73, 1.74, 1.75, 1.76, 1.77, 1.78, 1.79, 1.8, 1.81, 1.82, 1.83, 1.84, 1.85, 1.86, 1.87, 1.88, 1.89, 1.9, 1.91, 1.92, 1.93, 1.94, 1.95, 1.96, 1.97, 1.98, 1.99, 2.0, 2.01, 2.02, 2.03, 2.04, 2.05, 2.06, 2.07, 2.08, 2.09, 2.1, 2.11, 2.12, 2.13, 2.14, 2.15, 2.16, 2.17, 2.18, 2.19, 2.2, 2.21, 2.22, 2.23, 2.24, 2.25, 2.26, 2.27, 2.28, 2.29, 2.3, 2.31, 2.32, 2.33, 2.34, 2.35, 2.36, 2.37, 2.38, 2.39, 2.4, 2.41, 2.42, 2.43, 2.44, 2.45, 2.46, 2.47, 2.48, 2.49, 2.5, 2.51, 2.52, 2.53, 2.54, 2.55, 2.56, 2.57, 2.58, 2.59, 2.6, 2.61, 2.62, 2.63, 2.64, 2.65, 2.66, 2.67, 2.68, 2.69, 2.7, 2.71, 2.72, 2.73, 2.74, 2.75, 2.76, 2.77, 2.78, 2.79, 2.8, 2.81, 2.82, 2.83, 2.84, 2.85, 2.86, 2.87, 2.88, 2.89, 2.9, 2.91, 2.92, 2.93, 2.94, 2.95, 2.96, 2.97, 2.98, 2.99, 3.0, 3.01, 3.02, 3.03, 3.04, 3.05, 3.06, 3.07, 3.08, 3.09, 3.1, 3.11, 3.12, 3.13, 3.14, 3.15, 3.16, 3.17, 3.18, 3.19, 3.2, 3.21, 3.22, 3.23, 3.24, 3.25, 3.26, 3.27, 3.28, 3.29, 3.3, 3.31, 3.32, 3.33, 3.34, 3.35, 3.36, 3.37, 3.38, 3.39, 3.4, 3.41, 3.42, 3.43, 3.44, 3.45, 3.46, 3.47, 3.48, 3.49, 3.5, 3.51, 3.52, 3.53, 3.54, 3.55, 3.56, 3.57, 3.58, 3.59, 3.6, 3.61, 3.62, 3.63, 3.64, 3.65, 3.66, 3.67, 3.68, 3.69, 3.7, 3.71, 3.72, 3.73, 3.74, 3.75, 3.76, 3.77, 3.78, 3.79, 3.8, 3.81, 3.82, 3.83, 3.84, 3.85, 3.86, 3.87, 3.88, 3.89, 3.9, 3.91, 3.92, 3.93, 3.94, 3.95, 3.96, 3.97, 3.98, 3.99, 4.0, 4.01, 4.02, 4.03, 4.04, 4.05, 4.06, 4.07, 4.08, 4.09, 4.1, 4.11, 4.12, 4.13, 4.14, 4.15, 4.16, 4.17, 4.18, 4.19, 4.2, 4.21, 4.22, 4.23, 4.24, 4.25, 4.26, 4.27, 4.28, 4.29, 4.3, 4.31, 4.32, 4.33, 4.34, 4.35, 4.36, 4.37, 4.38, 4.39, 4.4, 4.41, 4.42, 4.43, 4.44, 4.45, 4.46, 4.47, 4.48, 4.49, 4.5, 4.51, 4.52, 4.53, 4.54, 4.55, 4.56, 4.57, 4.58, 4.59, 4.6, 4.61, 4.62, 4.63, 4.64, 4.65, 4.66, 4.67, 4.68, 4.69, 4.7, 4.71, 4.72, 4.73, 4.74, 4.75, 4.76, 4.77, 4.78, 4.79, 4.8, 4.81, 4.82, 4.83, 4.85, 4.87, 4.89, 4.9, 4.91, 4.93, 4.94, 4.95, 4.96, 4.97, 4.98, 4.99, 5.0, 5.01, 5.02, 5.03, 5.04, 5.05, 5.06, 5.08, 5.09, 5.1, 5.11, 5.12, 5.13, 5.14, 5.15, 5.16, 5.17, 5.18, 5.19, 5.2, 5.21, 5.22, 5.23, 5.24, 5.25, 5.26, 5.27, 5.28, 5.29, 5.3, 5.31, 5.32, 5.33, 5.34, 5.35, 5.36, 5.37, 5.38, 5.39, 5.4, 5.41, 5.42, 5.43, 5.44, 5.45, 5.46, 5.86, 5.95, 6.0, 6.03, 6.04, 6.09, 6.12, 6.13, 6.14, 6.33], \"xaxis\": \"x\", \"y\": [7.22093023255814, 6.84, 7.0, 7.353658536585366, 6.890909090909091, 6.954337899543379, 7.156976744186046, 7.348591549295775, 7.0, 7.517543859649122, 7.148148148148148, 7.0, 6.857142857142857, 7.0, 7.023809523809524, 7.047244094488189, 7.128712871287129, 7.151685393258427, 6.941818181818181, 7.085, 7.339285714285714, 7.040816326530612, 7.383177570093458, 7.221264367816092, 7.152671755725191, 7.233173076923077, 7.116438356164384, 7.242788461538462, 7.046511627906977, 7.58641975308642, 7.070796460176991, 7.037735849056604, 7.212365591397849, 7.03125, 7.055865921787709, 7.059171597633136, 7.077586206896552, 7.1066666666666665, 7.113207547169812, 7.0, 6.75, 7.285714285714286, 7.111111111111111, 7.0, 7.0, 7.0, 7.0, 7.125, 7.287878787878788, 7.243243243243243, 7.473684210526316, 6.888888888888889, 7.1454545454545455, 7.3428571428571425, 7.162162162162162, 7.242424242424242, 7.032258064516129, 7.076923076923077, 7.25, 7.10126582278481, 7.066532258064516, 7.211221122112211, 7.071024258760108, 7.102430555555555, 7.191860465116279, 7.180555555555555, 7.420127795527157, 7.347736625514403, 7.216494845360825, 7.347058823529411, 7.214539007092198, 7.156716417910448, 7.459821428571429, 7.330990990990991, 7.4125560538116595, 7.512738853503185, 7.321052631578947, 7.337209302325581, 7.76797385620915, 7.4397590361445785, 7.41588785046729, 7.457446808510638, 7.69327731092437, 7.69377990430622, 7.484057971014493, 7.541411042944786, 7.5, 7.4436860068259385, 7.305172413793104, 7.303125, 7.494623655913978, 7.635869565217392, 7.447368421052632, 8.355504587155963, 8.14723926380368, 8.090909090909092, 8.076732673267326, 7.62111801242236, 7.674603174603175, 7.3880952380952385, 7.574545454545454, 7.582914572864322, 7.563106796116505, 7.93859649122807, 7.8628318584070795, 7.571014492753624, 7.77375, 7.752577319587629, 7.949308755760368, 7.882743362831858, 7.992307692307692, 8.515686274509804, 8.539351851851851, 8.757633587786259, 8.256962025316456, 8.426282051282051, 8.348780487804879, 8.617924528301886, 8.44767441860465, 8.511627906976743, 7.625, 8.552631578947368, 8.142857142857142, 7.625, 9.35, 9.2625, 8.742647058823529, 8.301724137931034, 8.536363636363637, 8.703703703703704, 8.924, 9.50548387096774, 9.514893617021277, 9.431521739130435, 9.072314049586776, 8.793062200956937, 8.8, 9.251700680272108, 9.085227272727273, 9.352564102564102, 9.198630136986301, 9.508928571428571, 9.601851851851851, 9.346153846153847, 9.3, 9.643939393939394, 9.39, 9.53225806451613, 9.71875, 9.568965517241379, 9.877551020408163, 9.701754385964913, 9.348101265822784, 9.285714285714286, 9.448275862068966, 9.16470588235294, 9.421052631578947, 9.547872340425531, 10.3, 9.59375, 9.957264957264957, 9.658940397350994, 9.67361111111111, 9.863636363636363, 9.704225352112676, 9.850961538461538, 9.5, 9.436090225563909, 9.546961325966851, 9.682692307692308, 9.282178217821782, 9.64516129032258, 9.367088607594937, 9.597222222222221, 9.807692307692308, 9.69951923076923, 9.873303167420815, 9.882530120481928, 9.475, 10.944444444444445, 11.041666666666666, 9.973684210526315, 10.078947368421053, 10.723684210526315, 9.818181818181818, 9.991803278688524, 10.382075471698114, 10.297979797979798, 10.132530120481928, 9.88888888888889, 10.070945945945946, 10.357466063348417, 9.806451612903226, 9.909313725490197, 9.906735751295336, 10.041666666666666, 9.838983050847459, 9.796208530805687, 10.014134275618375, 9.976401179941004, 9.717465753424657, 9.940366972477063, 10.025139664804469, 9.811239193083573, 10.03757225433526, 9.996, 10.392201834862385, 10.283132530120483, 10.28476821192053, 10.246478873239436, 9.993630573248408, 10.5, 10.667553191489361, 10.57, 10.377906976744185, 10.55188679245283, 9.992647058823529, 10.261904761904763, 10.025862068965518, 10.44, 10.493055555555555, 11.3, 11.26923076923077, 10.404494382022472, 10.587719298245615, 10.801136363636363, 10.75531914893617, 10.333333333333334, 10.404320987654321, 10.525, 11.09375, 10.306122448979592, 11.376470588235295, 10.372549019607844, 10.402173913043478, 10.419811320754716, 10.974226804123711, 11.294117647058824, 10.851851851851851, 11.544444444444444, 11.245967741935484, 10.86, 11.272388059701493, 10.625475285171103, 10.670818505338078, 10.457364341085272, 10.372159090909092, 10.729032258064516, 10.686440677966102, 10.591549295774648, 10.802158273381295, 10.960869565217392, 10.914814814814815, 11.371428571428572, 10.958715596330276, 10.941704035874439, 11.024444444444445, 10.751063829787235, 10.95625, 10.743243243243244, 11.15, 11.54390243902439, 11.153614457831326, 11.231707317073171, 11.238993710691824, 11.45086705202312, 11.283163265306122, 11.18705035971223, 11.050218340611353, 11.066878980891719, 11.356521739130434, 10.946601941747574, 11.039170506912443, 11.154069767441861, 11.168161434977579, 10.841389728096678, 10.787654320987654, 11.130350194552529, 11.400709219858156, 11.246835443037975, 11.338174273858922, 11.034403669724771, 11.587121212121213, 11.484154929577464, 11.584229390681003, 11.64824120603015, 11.23076923076923, 11.395348837209303, 11.81338028169014, 11.946428571428571, 11.262626262626263, 10.952, 11.39247311827957, 11.389705882352942, 11.17361111111111, 11.2265625, 11.717105263157896, 11.714285714285714, 11.636363636363637, 13.863636363636363, 11.897435897435898, 12.020833333333334, 12.245283018867925, 12.841176470588236, 11.694444444444445, 12.560975609756097, 12.416666666666666, 11.839449541284404, 11.566037735849056, 11.357954545454545, 10.93939393939394, 11.057291666666666, 11.264705882352942, 11.282051282051283, 11.286516853932584, 11.166666666666666, 12.911764705882353, 15.666666666666666, 13.285714285714286, 13.083333333333334, 13.5, 13.5, 13.5, 12.0, 13.5, 11.181818181818182, 13.5, 18.9, 15.0, 15.95, 15.0, 15.916666666666666, 14.1, 15.0, 13.25, 15.15, 16.125, 14.9375, 14.25, 14.7, 13.555555555555555, 13.5, 13.5, 15.285714285714286, 13.8, 13.5, 13.5, 13.5, 13.5, 13.0, 16.75, 13.833333333333334, 14.1, 13.5, 13.375, 14.25, 14.625, 13.772727272727273, 13.5, 14.318181818181818, 13.5, 14.318181818181818, 14.7, 14.7, 14.923076923076923, 13.833333333333334, 13.833333333333334, 13.772727272727273, 14.541666666666666, 13.5, 13.5, 13.5, 13.676470588235293, 13.30232558139535, 13.5, 14.542857142857143, 14.25, 14.17741935483871, 14.120689655172415, 13.76086956521739, 14.045454545454545, 13.277777777777779, 13.51063829787234, 13.73076923076923, 13.977777777777778, 14.078125, 13.744186046511627, 13.90625, 15.846153846153847, 15.333333333333334, 14.25, 13.537037037037036, 13.824324324324325, 14.128205128205128, 13.86, 13.957446808510639, 13.561224489795919, 14.055555555555555, 14.50943396226415, 13.76086956521739, 14.321428571428571, 14.616666666666667, 14.0625, 15.194444444444445, 15.9, 14.333333333333334, 14.077586206896552, 14.287234042553191, 14.08955223880597, 14.41304347826087, 14.447916666666666, 14.055555555555555, 13.491666666666667, 13.864406779661017, 14.345679012345679, 14.105263157894736, 13.771604938271604, 13.65625, 13.92, 13.52, 13.489583333333334, 14.032467532467532, 13.7421875, 14.05813953488372, 13.676470588235293, 15.289473684210526, 13.5, 13.81578947368421, 13.973684210526315, 13.517857142857142, 13.98, 14.636363636363637, 13.954545454545455, 14.159574468085106, 13.585714285714285, 13.58108108108108, 14.416666666666666, 13.410714285714286, 15.666666666666666, 14.541666666666666, 15.727272727272727, 14.021739130434783, 13.875, 12.25, 13.5, 13.5, 13.5, 13.5, 13.5, 13.5, 14.5, 13.5, 15.0, 18.5625, 13.5, 13.5, 13.5, 15.0, 14.5, 13.5, 13.5, 13.5, 14.5, 16.5, 18.5, 15.5, 16.5, 16.583333333333332, 15.9, 16.5, 15.214285714285714, 16.0, 14.357142857142858, 15.0, 14.785714285714286, 13.772727272727273, 14.911764705882353, 13.5, 13.7, 14.1, 13.833333333333334, 13.5, 14.5, 14.25, 14.029411764705882, 14.863636363636363, 14.307692307692308, 13.8, 13.676470588235293, 13.833333333333334, 13.9, 14.0, 14.086206896551724, 14.476190476190476, 14.125, 15.333333333333334, 13.974358974358974, 14.261363636363637, 13.633333333333333, 13.5, 14.0625, 13.5, 13.5, 22.75, 16.5, 16.5, 16.5, 16.5, 16.5, 18.0, 16.5, 16.5, 16.5], \"yaxis\": \"y\"}, {\"hovertemplate\": \"name=Lyft XL<br>distance=%{x}<br>price=%{y}<extra></extra>\", \"legendgroup\": \"Lyft XL\", \"line\": {\"color\": \"#FFA15A\", \"dash\": \"solid\"}, \"mode\": \"lines\", \"name\": \"Lyft XL\", \"showlegend\": true, \"type\": \"scattergl\", \"x\": [0.39, 0.4, 0.41, 0.42, 0.43, 0.44, 0.45, 0.46, 0.47, 0.48, 0.49, 0.5, 0.51, 0.52, 0.53, 0.54, 0.55, 0.56, 0.57, 0.58, 0.59, 0.6, 0.61, 0.62, 0.63, 0.64, 0.65, 0.66, 0.67, 0.68, 0.69, 0.7, 0.71, 0.72, 0.73, 0.74, 0.75, 0.76, 0.77, 0.78, 0.79, 0.8, 0.81, 0.82, 0.83, 0.84, 0.85, 0.86, 0.87, 0.88, 0.89, 0.9, 0.91, 0.92, 0.93, 0.94, 0.95, 0.96, 0.97, 0.98, 0.99, 1.0, 1.01, 1.02, 1.03, 1.04, 1.05, 1.06, 1.07, 1.08, 1.09, 1.1, 1.11, 1.12, 1.13, 1.14, 1.15, 1.16, 1.17, 1.18, 1.19, 1.2, 1.21, 1.22, 1.23, 1.24, 1.25, 1.26, 1.27, 1.28, 1.29, 1.3, 1.31, 1.32, 1.33, 1.34, 1.35, 1.36, 1.37, 1.38, 1.39, 1.4, 1.41, 1.42, 1.43, 1.44, 1.45, 1.46, 1.47, 1.48, 1.49, 1.5, 1.51, 1.52, 1.53, 1.54, 1.55, 1.56, 1.57, 1.58, 1.59, 1.6, 1.61, 1.62, 1.63, 1.64, 1.65, 1.66, 1.67, 1.68, 1.69, 1.7, 1.71, 1.72, 1.73, 1.74, 1.75, 1.76, 1.77, 1.78, 1.79, 1.8, 1.81, 1.82, 1.83, 1.84, 1.85, 1.86, 1.87, 1.88, 1.89, 1.9, 1.91, 1.92, 1.93, 1.94, 1.95, 1.96, 1.97, 1.98, 1.99, 2.0, 2.01, 2.02, 2.03, 2.04, 2.05, 2.06, 2.07, 2.08, 2.09, 2.1, 2.11, 2.12, 2.13, 2.14, 2.15, 2.16, 2.17, 2.18, 2.19, 2.2, 2.21, 2.22, 2.23, 2.24, 2.25, 2.26, 2.27, 2.28, 2.29, 2.3, 2.31, 2.32, 2.33, 2.34, 2.35, 2.36, 2.37, 2.38, 2.39, 2.4, 2.41, 2.42, 2.43, 2.44, 2.45, 2.46, 2.47, 2.48, 2.49, 2.5, 2.51, 2.52, 2.53, 2.54, 2.55, 2.56, 2.57, 2.58, 2.59, 2.6, 2.61, 2.62, 2.63, 2.64, 2.65, 2.66, 2.67, 2.68, 2.69, 2.7, 2.71, 2.72, 2.73, 2.74, 2.75, 2.76, 2.77, 2.78, 2.79, 2.8, 2.81, 2.82, 2.83, 2.84, 2.85, 2.86, 2.87, 2.88, 2.89, 2.9, 2.91, 2.92, 2.93, 2.94, 2.95, 2.96, 2.97, 2.98, 2.99, 3.0, 3.01, 3.02, 3.03, 3.04, 3.05, 3.06, 3.07, 3.08, 3.09, 3.1, 3.11, 3.12, 3.13, 3.14, 3.15, 3.16, 3.17, 3.18, 3.19, 3.2, 3.21, 3.22, 3.23, 3.24, 3.25, 3.26, 3.27, 3.28, 3.29, 3.3, 3.31, 3.32, 3.33, 3.34, 3.35, 3.36, 3.37, 3.38, 3.39, 3.4, 3.41, 3.42, 3.43, 3.44, 3.45, 3.46, 3.47, 3.48, 3.49, 3.5, 3.51, 3.52, 3.53, 3.54, 3.55, 3.56, 3.57, 3.58, 3.59, 3.6, 3.61, 3.62, 3.63, 3.64, 3.65, 3.66, 3.67, 3.68, 3.69, 3.7, 3.71, 3.72, 3.73, 3.74, 3.75, 3.76, 3.77, 3.78, 3.79, 3.8, 3.81, 3.82, 3.83, 3.84, 3.85, 3.86, 3.87, 3.88, 3.89, 3.9, 3.91, 3.92, 3.93, 3.94, 3.95, 3.96, 3.97, 3.98, 3.99, 4.0, 4.01, 4.02, 4.03, 4.04, 4.05, 4.06, 4.07, 4.08, 4.09, 4.1, 4.11, 4.12, 4.13, 4.14, 4.15, 4.16, 4.17, 4.18, 4.19, 4.2, 4.21, 4.22, 4.23, 4.24, 4.25, 4.26, 4.27, 4.28, 4.29, 4.3, 4.31, 4.32, 4.33, 4.34, 4.35, 4.36, 4.37, 4.38, 4.39, 4.4, 4.41, 4.42, 4.43, 4.44, 4.45, 4.46, 4.47, 4.48, 4.49, 4.5, 4.51, 4.52, 4.53, 4.54, 4.55, 4.56, 4.57, 4.58, 4.59, 4.6, 4.61, 4.62, 4.63, 4.64, 4.65, 4.66, 4.67, 4.68, 4.69, 4.7, 4.71, 4.72, 4.73, 4.74, 4.75, 4.76, 4.77, 4.78, 4.79, 4.8, 4.81, 4.82, 4.83, 4.85, 4.87, 4.89, 4.9, 4.91, 4.93, 4.94, 4.95, 4.96, 4.97, 4.98, 4.99, 5.0, 5.01, 5.02, 5.03, 5.04, 5.05, 5.06, 5.08, 5.09, 5.1, 5.11, 5.12, 5.13, 5.14, 5.15, 5.16, 5.17, 5.18, 5.19, 5.2, 5.21, 5.22, 5.23, 5.24, 5.25, 5.26, 5.27, 5.28, 5.29, 5.3, 5.31, 5.32, 5.33, 5.34, 5.35, 5.36, 5.37, 5.38, 5.39, 5.4, 5.41, 5.42, 5.43, 5.44, 5.45, 5.46, 5.86, 5.95, 6.0, 6.03, 6.04, 6.09, 6.12, 6.13, 6.14, 6.33], \"xaxis\": \"x\", \"y\": [9.13953488372093, 9.0, 9.0, 9.25609756097561, 9.381818181818181, 9.177272727272728, 9.122093023255815, 9.264084507042254, 9.0, 9.307017543859649, 9.055555555555555, 9.088235294117647, 9.642857142857142, 9.228813559322035, 9.061224489795919, 9.109375, 9.683168316831683, 9.649717514124294, 9.283882783882785, 9.775, 10.24901185770751, 9.489795918367347, 10.051401869158878, 9.89080459770115, 10.106870229007633, 10.19951923076923, 9.897260273972602, 9.944711538461538, 9.686046511627907, 10.506172839506172, 9.70796460176991, 10.0, 10.25, 10.421875, 10.438888888888888, 10.279411764705882, 10.465909090909092, 10.12, 9.953271028037383, 9.910714285714286, 9.5625, 11.142857142857142, 10.75, 9.0, 10.666666666666666, 10.538461538461538, 10.45, 11.267857142857142, 11.227272727272727, 10.878378378378379, 10.789473684210526, 10.203703703703704, 9.818181818181818, 10.471428571428572, 10.567567567567568, 10.818181818181818, 10.540322580645162, 10.365384615384615, 11.19047619047619, 11.037974683544304, 10.774193548387096, 11.019736842105264, 10.784636118598382, 10.685121107266436, 10.939922480620154, 10.96111111111111, 11.241214057507987, 11.375257731958763, 11.094650205761317, 11.267605633802816, 11.321554770318022, 11.465, 11.689732142857142, 11.543243243243243, 11.795964125560538, 12.306962025316455, 12.063157894736841, 11.875968992248062, 12.11111111111111, 11.852409638554217, 11.817757009345794, 11.822695035460994, 11.970588235294118, 12.33732057416268, 12.302898550724638, 12.093558282208589, 11.972154963680387, 11.600682593856655, 11.350515463917526, 11.321875, 11.956989247311828, 12.032608695652174, 12.43421052631579, 12.88302752293578, 13.217791411042946, 12.935064935064934, 13.153465346534654, 12.105590062111801, 12.465608465608465, 11.95, 12.108695652173912, 12.183417085427136, 12.33495145631068, 12.789473684210526, 12.780973451327434, 12.617391304347827, 12.83875, 12.837328767123287, 13.256944444444445, 13.252212389380531, 13.173846153846155, 13.552941176470588, 13.643518518518519, 13.808429118773946, 12.973484848484848, 13.442307692307692, 13.534146341463414, 13.783018867924529, 13.459302325581396, 13.69767441860465, 13.285714285714286, 13.210526315789474, 13.142857142857142, 13.041666666666666, 14.575, 14.175, 14.073529411764707, 13.612068965517242, 13.554545454545455, 14.166666666666666, 14.812, 14.8, 14.512765957446808, 14.77608695652174, 14.071428571428571, 13.844868735083532, 13.925213675213675, 14.629251700680273, 14.181818181818182, 14.461538461538462, 14.527397260273972, 14.5, 14.555555555555555, 14.26923076923077, 14.485714285714286, 15.098484848484848, 14.4, 14.951612903225806, 15.083333333333334, 14.844827586206897, 15.622448979591837, 14.81578947368421, 14.221518987341772, 14.528571428571428, 14.431034482758621, 13.858823529411765, 14.47872340425532, 15.388297872340425, 16.033333333333335, 14.9375, 15.705128205128204, 15.433774834437086, 15.07986111111111, 15.481818181818182, 15.084507042253522, 14.971153846153847, 14.666666666666666, 14.469924812030076, 14.466850828729282, 14.407051282051283, 14.292079207920793, 14.379032258064516, 14.279874213836479, 15.055555555555555, 15.303225806451612, 15.127403846153847, 15.51590909090909, 15.05421686746988, 14.6625, 17.569444444444443, 17.770833333333332, 15.868421052631579, 15.394736842105264, 16.31578947368421, 15.627272727272727, 15.467213114754099, 16.604761904761904, 15.681818181818182, 15.548192771084338, 15.873737373737374, 16.201342281879196, 16.3710407239819, 15.348387096774193, 15.406862745098039, 15.287564766839377, 15.946969696969697, 15.096045197740112, 15.412322274881516, 15.964664310954063, 15.724188790560472, 15.304794520547945, 15.429878048780488, 15.746498599439775, 15.448126801152737, 15.673410404624278, 15.635026737967914, 16.40552995391705, 16.431726907630523, 16.135761589403973, 16.549295774647888, 16.133757961783438, 17.15527950310559, 17.329787234042552, 17.31, 16.77906976744186, 16.83490566037736, 16.63235294117647, 16.214285714285715, 16.30603448275862, 16.533333333333335, 17.368055555555557, 18.41111111111111, 17.96153846153846, 17.1123595505618, 17.149122807017545, 17.59659090909091, 17.079787234042552, 17.13450292397661, 17.055900621118013, 16.417857142857144, 17.609375, 15.923469387755102, 18.323529411764707, 16.098039215686274, 16.702898550724637, 16.858490566037737, 17.7680412371134, 17.735294117647058, 17.796296296296298, 18.488888888888887, 17.887096774193548, 17.702857142857145, 18.30223880597015, 17.268060836501903, 17.59107142857143, 17.164728682170544, 16.980113636363637, 17.719354838709677, 17.102857142857143, 17.12559241706161, 17.827338129496404, 18.108695652173914, 17.855555555555554, 17.989285714285714, 17.88302752293578, 17.679372197309416, 17.782222222222224, 17.302127659574467, 17.89375, 17.2972972972973, 18.044444444444444, 18.785365853658536, 18.792168674698797, 18.548780487804876, 18.638364779874212, 18.82369942196532, 18.274358974358975, 17.98201438848921, 17.62719298245614, 18.310126582278482, 18.630434782608695, 17.810679611650485, 18.20046082949309, 18.347058823529412, 17.95067264573991, 17.780966767371602, 17.35891089108911, 18.31906614785992, 18.79787234042553, 18.59915611814346, 18.37966804979253, 18.229357798165136, 19.379245283018868, 18.934859154929576, 19.12410071942446, 19.298994974874372, 19.083690987124463, 18.655813953488373, 19.570422535211268, 19.928571428571427, 19.333333333333332, 18.616, 18.9247311827957, 19.323529411764707, 19.28472222222222, 18.2734375, 19.230263157894736, 18.87142857142857, 18.87878787878788, 22.545454545454547, 20.846153846153847, 20.42361111111111, 20.62264150943396, 20.923529411764704, 19.50462962962963, 20.804878048780488, 20.633333333333333, 19.940366972477065, 19.41509433962264, 19.789772727272727, 18.790816326530614, 18.369791666666668, 18.542857142857144, 17.91025641025641, 18.376404494382022, 18.947916666666668, 21.91176470588235, 25.166666666666668, 21.714285714285715, 21.5, 21.75, 22.5, 21.75, 21.5, 22.5, 20.045454545454547, 22.5, 31.8, 24.75, 26.55, 25.0, 26.458333333333332, 22.9, 24.25, 22.0, 25.5, 26.90625, 24.9375, 23.46875, 24.9, 23.055555555555557, 22.5, 22.5, 24.928571428571427, 21.95, 22.5, 21.75, 22.5, 22.5, 21.9, 32.5, 22.72222222222222, 23.65, 21.75, 23.0, 23.375, 25.375, 22.818181818181817, 22.285714285714285, 23.954545454545453, 22.5, 23.863636363636363, 24.4, 24.5, 25.153846153846153, 22.88888888888889, 22.166666666666668, 22.5, 24.583333333333332, 22.38888888888889, 22.26923076923077, 22.5, 22.529411764705884, 22.36046511627907, 22.225806451612904, 24.228571428571428, 23.52777777777778, 22.822580645161292, 23.448275862068964, 22.97826086956522, 23.272727272727273, 22.444444444444443, 22.340425531914892, 22.384615384615383, 22.788888888888888, 23.703125, 22.813953488372093, 23.34375, 27.0, 26.22222222222222, 23.5, 22.72222222222222, 22.93243243243243, 23.67948717948718, 22.69333333333333, 23.170212765957448, 22.928571428571427, 23.266666666666666, 24.132075471698112, 22.565217391304348, 23.88095238095238, 24.366666666666667, 23.125, 25.38888888888889, 26.4, 23.558823529411764, 23.448275862068964, 24.26595744680851, 23.111940298507463, 23.630434782608695, 23.72340425531915, 23.546296296296298, 22.566666666666666, 23.33050847457627, 24.01851851851852, 23.33684210526316, 22.69753086419753, 22.68125, 22.844594594594593, 22.44, 22.703125, 23.18831168831169, 22.7734375, 23.1046511627907, 22.91176470588235, 25.842105263157894, 22.5, 23.157894736842106, 23.13157894736842, 23.178571428571427, 23.34, 24.363636363636363, 23.84090909090909, 23.585106382978722, 22.6, 22.635135135135137, 24.0, 22.625, 26.38888888888889, 24.166666666666668, 26.40909090909091, 23.32608695652174, 23.125, 22.5, 22.5, 22.5, 22.5, 22.5, 22.5, 22.5, 25.0, 22.5, 25.166666666666668, 32.3125, 22.5, 22.5, 22.5, 24.25, 24.166666666666668, 22.5, 22.5, 24.25, 27.0, 26.0, 31.833333333333332, 27.0, 26.0, 30.083333333333332, 28.5, 27.0, 25.642857142857142, 28.5, 24.928571428571427, 25.833333333333332, 26.357142857142858, 23.90909090909091, 24.5, 22.5, 22.5, 24.2, 22.88888888888889, 23.59090909090909, 24.77777777777778, 24.6875, 24.61764705882353, 25.40909090909091, 25.115384615384617, 24.6, 24.61764705882353, 23.27777777777778, 24.633333333333333, 24.116666666666667, 23.82758620689655, 24.464285714285715, 23.5625, 26.1, 24.31578947368421, 23.988636363636363, 23.711111111111112, 23.772727272727273, 23.15625, 22.5, 22.5, 36.25, 26.0, 26.75, 26.0, 27.833333333333332, 27.5, 30.0, 26.0, 27.5, 26.0], \"yaxis\": \"y\"}, {\"hovertemplate\": \"name=Shared<br>distance=%{x}<br>price=%{y}<extra></extra>\", \"legendgroup\": \"Shared\", \"line\": {\"color\": \"#19d3f3\", \"dash\": \"solid\"}, \"mode\": \"lines\", \"name\": \"Shared\", \"showlegend\": true, \"type\": \"scattergl\", \"x\": [0.39, 0.4, 0.41, 0.42, 0.43, 0.44, 0.45, 0.46, 0.47, 0.48, 0.49, 0.5, 0.51, 0.52, 0.53, 0.54, 0.55, 0.56, 0.57, 0.58, 0.59, 0.6, 0.61, 0.62, 0.63, 0.64, 0.65, 0.66, 0.67, 0.68, 0.69, 0.7, 0.71, 0.72, 0.73, 0.74, 0.75, 0.76, 0.77, 0.78, 0.79, 0.8, 0.81, 0.82, 0.83, 0.84, 0.85, 0.86, 0.87, 0.88, 0.89, 0.9, 0.91, 0.92, 0.93, 0.94, 0.95, 0.96, 0.97, 0.98, 0.99, 1.0, 1.01, 1.02, 1.03, 1.04, 1.05, 1.06, 1.07, 1.08, 1.09, 1.1, 1.11, 1.12, 1.13, 1.14, 1.15, 1.16, 1.17, 1.18, 1.19, 1.2, 1.21, 1.22, 1.23, 1.24, 1.25, 1.26, 1.27, 1.28, 1.29, 1.3, 1.31, 1.32, 1.33, 1.34, 1.35, 1.36, 1.37, 1.38, 1.39, 1.4, 1.41, 1.42, 1.43, 1.44, 1.45, 1.46, 1.47, 1.48, 1.49, 1.5, 1.51, 1.52, 1.53, 1.54, 1.55, 1.56, 1.57, 1.58, 1.59, 1.6, 1.61, 1.62, 1.63, 1.64, 1.65, 1.66, 1.67, 1.68, 1.69, 1.7, 1.71, 1.72, 1.73, 1.74, 1.75, 1.76, 1.77, 1.78, 1.79, 1.8, 1.81, 1.82, 1.83, 1.84, 1.85, 1.86, 1.87, 1.88, 1.89, 1.9, 1.91, 1.92, 1.93, 1.94, 1.95, 1.96, 1.97, 1.98, 1.99, 2.0, 2.01, 2.02, 2.03, 2.04, 2.05, 2.06, 2.07, 2.08, 2.09, 2.1, 2.11, 2.12, 2.13, 2.14, 2.15, 2.16, 2.17, 2.18, 2.19, 2.2, 2.21, 2.22, 2.23, 2.24, 2.25, 2.26, 2.27, 2.28, 2.29, 2.3, 2.31, 2.32, 2.33, 2.34, 2.35, 2.36, 2.37, 2.38, 2.39, 2.4, 2.41, 2.42, 2.43, 2.44, 2.45, 2.46, 2.47, 2.48, 2.49, 2.5, 2.51, 2.52, 2.53, 2.54, 2.55, 2.56, 2.57, 2.58, 2.59, 2.6, 2.61, 2.62, 2.63, 2.64, 2.65, 2.66, 2.67, 2.68, 2.69, 2.7, 2.71, 2.72, 2.73, 2.74, 2.75, 2.76, 2.77, 2.78, 2.79, 2.8, 2.81, 2.82, 2.83, 2.84, 2.85, 2.86, 2.87, 2.88, 2.89, 2.9, 2.91, 2.92, 2.93, 2.94, 2.95, 2.96, 2.97, 2.98, 2.99, 3.0, 3.01, 3.02, 3.03, 3.04, 3.05, 3.06, 3.07, 3.08, 3.09, 3.1, 3.11, 3.12, 3.13, 3.14, 3.15, 3.16, 3.17, 3.18, 3.19, 3.2, 3.21, 3.22, 3.23, 3.24, 3.25, 3.26, 3.27, 3.28, 3.29, 3.3, 3.31, 3.32, 3.33, 3.34, 3.35, 3.36, 3.37, 3.38, 3.39, 3.4, 3.41, 3.42, 3.43, 3.44, 3.45, 3.46, 3.47, 3.48, 3.49, 3.5, 3.51, 3.52, 3.53, 3.54, 3.55, 3.56, 3.57, 3.58, 3.59, 3.6, 3.61, 3.62, 3.63, 3.64, 3.65, 3.66, 3.67, 3.68, 3.69, 3.7, 3.71, 3.72, 3.73, 3.74, 3.75, 3.76, 3.77, 3.78, 3.79, 3.8, 3.81, 3.82, 3.83, 3.84, 3.85, 3.86, 3.87, 3.88, 3.89, 3.9, 3.91, 3.92, 3.93, 3.94, 3.95, 3.96, 3.97, 3.98, 3.99, 4.0, 4.01, 4.02, 4.03, 4.04, 4.05, 4.06, 4.07, 4.08, 4.09, 4.1, 4.11, 4.12, 4.13, 4.14, 4.15, 4.16, 4.17, 4.18, 4.19, 4.2, 4.21, 4.22, 4.23, 4.24, 4.25, 4.26, 4.27, 4.28, 4.29, 4.3, 4.31, 4.32, 4.33, 4.34, 4.35, 4.36, 4.37, 4.38, 4.39, 4.4, 4.41, 4.42, 4.43, 4.44, 4.45, 4.46, 4.47, 4.48, 4.49, 4.5, 4.51, 4.52, 4.53, 4.54, 4.55, 4.56, 4.57, 4.58, 4.59, 4.6, 4.61, 4.62, 4.63, 4.64, 4.65, 4.66, 4.67, 4.68, 4.69, 4.7, 4.71, 4.72, 4.73, 4.74, 4.75, 4.76, 4.77, 4.78, 4.79, 4.8, 4.81, 4.82, 4.83, 4.85, 4.87, 4.89, 4.9, 4.91, 4.93, 4.94, 4.95, 4.96, 4.97, 4.98, 4.99, 5.0, 5.01, 5.02, 5.03, 5.04, 5.05, 5.06, 5.08, 5.09, 5.1, 5.11, 5.12, 5.13, 5.14, 5.15, 5.16, 5.17, 5.18, 5.19, 5.2, 5.21, 5.22, 5.23, 5.24, 5.25, 5.26, 5.27, 5.28, 5.29, 5.3, 5.31, 5.32, 5.33, 5.34, 5.35, 5.36, 5.37, 5.38, 5.39, 5.4, 5.41, 5.42, 5.43, 5.44, 5.45, 5.46, 5.86, 5.95, 6.0, 6.03, 6.04, 6.09, 6.12, 6.13, 6.14, 6.33], \"xaxis\": \"x\", \"y\": [4.767441860465116, 4.26, 5.0, 4.7926829268292686, 3.812121212121212, 4.120454545454545, 4.087209302325581, 4.123239436619718, 3.473684210526316, 4.535087719298246, 3.2962962962962963, 4.794117647058823, 4.0, 4.127118644067797, 4.14527027027027, 4.035433070866142, 4.1683168316831685, 4.014044943820225, 4.010909090909091, 4.151741293532338, 4.25984251968504, 4.040816326530612, 4.098130841121495, 4.14367816091954, 3.881679389312977, 4.014423076923077, 3.9794520547945207, 4.134615384615385, 3.86046511627907, 4.432098765432099, 4.106194690265487, 4.273584905660377, 4.024193548387097, 4.065625, 4.016666666666667, 3.820588235294118, 3.914285714285714, 4.1466666666666665, 3.850467289719626, 4.3125, 4.125, 3.9285714285714284, 3.7777777777777777, 5.0, 4.833333333333333, 4.576923076923077, 4.35, 4.375, 4.621212121212121, 4.72972972972973, 4.605263157894737, 4.2407407407407405, 4.5, 4.742857142857143, 4.527027027027027, 4.454545454545454, 3.879032258064516, 4.365384615384615, 4.130952380952381, 3.8860759493670884, 4.082995951417004, 4.090460526315789, 4.116216216216216, 4.086505190311419, 4.207364341085271, 4.347222222222222, 4.24203821656051, 4.496913580246914, 4.329545454545454, 4.2981220657277, 4.238515901060071, 4.310945273631841, 4.5291479820627805, 4.411764705882353, 4.289237668161435, 4.4525316455696204, 4.234210526315789, 4.60077519379845, 4.7254901960784315, 4.855421686746988, 4.5, 4.290780141843972, 4.533613445378151, 4.6746411483253585, 4.492774566473988, 4.4815950920245395, 4.504842615012106, 4.428327645051194, 4.183848797250859, 4.315625, 4.645161290322581, 4.396739130434782, 4.848684210526316, 5.029816513761468, 5.076687116564417, 5.1558441558441555, 4.819306930693069, 4.5186335403726705, 4.658730158730159, 4.328571428571428, 4.760869565217392, 4.665829145728643, 4.621359223300971, 4.6798245614035086, 4.964601769911504, 4.844476744186046, 4.785714285714286, 4.7353951890034365, 5.023041474654378, 4.769911504424779, 5.153846153846154, 5.423529411764706, 5.4907407407407405, 5.627862595419847, 5.07449494949495, 5.219354838709678, 5.3, 5.702830188679245, 5.238372093023256, 5.848837209302325, 4.714285714285714, 5.631578947368421, 5.321428571428571, 4.25, 5.725, 6.0, 5.0, 5.120689655172414, 5.381818181818182, 5.506172839506172, 5.828, 6.390322580645162, 6.261702127659574, 5.991323210412148, 5.615942028985507, 5.527511961722488, 5.497872340425532, 6.204081632653061, 5.829545454545454, 6.121794871794871, 6.273972602739726, 5.946428571428571, 6.231481481481482, 5.641025641025641, 5.921428571428572, 6.083333333333333, 5.78, 6.258064516129032, 6.416666666666667, 5.879310344827586, 6.183673469387755, 6.350877192982456, 6.0, 5.864285714285714, 5.896551724137931, 6.035294117647059, 6.173684210526316, 6.1436170212765955, 6.988888888888889, 6.302083333333333, 6.4914529914529915, 6.268211920529802, 6.486111111111111, 6.527272727272727, 6.383802816901408, 6.1875, 6.1722222222222225, 6.071428571428571, 6.209944751381215, 6.227564102564102, 6.03960396039604, 5.82258064516129, 5.9245283018867925, 6.059027777777778, 6.026143790849673, 6.173076923076923, 6.131221719457014, 6.195783132530121, 6.21875, 6.888888888888889, 7.25, 6.026315789473684, 6.894736842105263, 6.842105263157895, 6.245454545454545, 6.39344262295082, 6.660377358490566, 6.707070707070707, 6.427710843373494, 6.378787878787879, 6.761744966442953, 6.884615384615385, 6.290322580645161, 6.629901960784314, 6.458549222797927, 6.5, 6.573863636363637, 6.369668246445498, 6.581272084805653, 6.625368731563422, 6.5188356164383565, 6.524390243902439, 6.562849162011173, 6.462536023054755, 6.715317919075145, 6.44281914893617, 6.922018348623853, 6.663306451612903, 6.612582781456954, 6.72887323943662, 6.75796178343949, 6.987577639751553, 7.034574468085107, 6.843333333333334, 6.959302325581396, 6.64622641509434, 6.882352941176471, 6.940476190476191, 6.806034482758621, 6.3133333333333335, 7.138888888888889, 7.311111111111111, 7.038461538461538, 7.157303370786517, 6.8464912280701755, 6.670454545454546, 7.175531914893617, 6.441520467836257, 6.882716049382716, 6.742857142857143, 6.65625, 6.75, 6.976470588235294, 5.898692810457517, 6.818840579710145, 6.433962264150943, 7.257731958762887, 7.470588235294118, 7.333333333333333, 7.25, 6.983870967741935, 6.82, 7.302238805970149, 6.9638783269961975, 6.914285714285715, 6.705426356589148, 6.954545454545454, 7.27741935483871, 7.031073446327683, 6.708920187793427, 6.863309352517986, 7.3478260869565215, 6.962962962962963, 7.242857142857143, 7.018348623853211, 6.928251121076233, 6.955555555555556, 6.836170212765958, 7.059748427672956, 6.629729729729729, 6.969444444444444, 7.117073170731707, 7.373493975903615, 7.239837398373984, 7.19496855345912, 7.5520231213872835, 7.413265306122449, 7.181654676258993, 7.0152838427947595, 7.018987341772152, 7.482608695652174, 7.422330097087379, 7.06221198156682, 7.22093023255814, 6.973094170403588, 7.025679758308157, 6.904938271604938, 7.221789883268483, 7.361702127659575, 7.36864406779661, 7.441908713692946, 7.3922018348623855, 7.524528301886792, 7.274647887323944, 7.151785714285714, 7.298994974874372, 7.248936170212766, 6.904651162790698, 7.669014084507042, 7.208333333333333, 7.242424242424242, 7.304, 7.172043010752688, 7.386029411764706, 7.131944444444445, 7.4296875, 7.2631578947368425, 7.5, 7.106060606060606, 7.863636363636363, 8.102564102564102, 7.173611111111111, 7.735849056603773, 7.405882352941177, 7.449074074074074, 8.004065040650406, 7.777777777777778, 7.178899082568807, 7.3584905660377355, 7.556818181818182, 7.540404040404041, 6.614583333333333, 6.928571428571429, 6.384615384615385, 6.831460674157303, 6.864583333333333, 8.205882352941176, 9.666666666666666, 8.142857142857142, 8.333333333333334, 9.0, 8.75, 7.75, 6.375, 10.5, 9.318181818181818, 10.125, 11.3, 9.3, 9.9, 10.5, 10.833333333333334, 9.3, 10.75, 7.333333333333333, 10.3, 10.375, 10.03125, 9.65625, 9.8, 9.166666666666666, 9.0, 8.375, 9.642857142857142, 8.8, 9.0, 7.5, 9.0, 8.75, 7.7, 12.75, 9.61111111111111, 9.1, 8.25, 9.75, 8.0, 8.1875, 9.590909090909092, 8.75, 8.590909090909092, 8.0, 7.090909090909091, 8.2, 6.75, 7.423076923076923, 9.0, 7.722222222222222, 8.318181818181818, 9.583333333333334, 9.018518518518519, 8.5, 7.785714285714286, 7.4411764705882355, 8.546511627906977, 8.709677419354838, 8.685714285714285, 8.416666666666666, 6.983870967741935, 8.568965517241379, 9.021739130434783, 8.636363636363637, 8.055555555555555, 7.3936170212765955, 7.653846153846154, 8.266666666666667, 8.203125, 8.0, 8.40625, 9.692307692307692, 10.0, 9.375, 8.75925925925926, 8.783783783783784, 7.628205128205129, 7.72, 7.595744680851064, 7.36734693877551, 7.677777777777778, 8.679245283018869, 7.5, 8.107142857142858, 8.666666666666666, 8.625, 8.916666666666666, 9.066666666666666, 9.196078431372548, 9.094827586206897, 9.872340425531915, 9.335820895522389, 9.51086956521739, 8.78125, 8.50925925925926, 8.1, 8.169491525423728, 8.37037037037037, 7.931578947368421, 8.166666666666666, 8.38125, 7.97972972972973, 8.253333333333334, 8.84375, 8.558441558441558, 7.46875, 7.406976744186046, 8.882352941176471, 8.736842105263158, 8.266666666666667, 8.526315789473685, 8.289473684210526, 7.571428571428571, 7.88, 8.818181818181818, 9.272727272727273, 8.808510638297872, 9.157142857142857, 9.243243243243244, 9.333333333333334, 9.303571428571429, 10.666666666666666, 9.666666666666666, 10.295454545454545, 10.304347826086957, 8.5625, 9.75, 9.75, 10.5, 5.0, 5.0, 9.0, 5.0, 7.0, 8.375, 8.916666666666666, 11.9375, 6.375, 10.125, 10.5, 11.0, 8.166666666666666, 10.3, 11.0, 8.0, 10.0, 9.0, 12.5, 9.5, 11.0, 8.583333333333334, 10.0, 10.0, 10.428571428571429, 11.166666666666666, 8.714285714285714, 10.5, 9.857142857142858, 8.727272727272727, 9.205882352941176, 9.0625, 6.166666666666667, 9.9, 7.722222222222222, 9.545454545454545, 9.944444444444445, 9.75, 9.882352941176471, 10.409090909090908, 10.038461538461538, 9.1, 8.676470588235293, 8.055555555555555, 10.0, 9.65, 9.258620689655173, 9.988095238095237, 8.9375, 9.2, 8.782051282051283, 9.875, 10.38888888888889, 10.477272727272727, 9.4375, 9.346153846153847, 11.0, 16.5, 11.0, 10.75, 11.0, 11.666666666666666, 10.5, 12.0, 11.0, 10.5, 11.0], \"yaxis\": \"y\"}],                        {\"legend\": {\"title\": {\"text\": \"name\"}, \"tracegroupgap\": 0}, \"margin\": {\"t\": 60}, \"template\": {\"data\": {\"bar\": [{\"error_x\": {\"color\": \"#2a3f5f\"}, \"error_y\": {\"color\": \"#2a3f5f\"}, \"marker\": {\"line\": {\"color\": \"#E5ECF6\", \"width\": 0.5}}, \"type\": \"bar\"}], \"barpolar\": [{\"marker\": {\"line\": {\"color\": \"#E5ECF6\", \"width\": 0.5}}, \"type\": \"barpolar\"}], \"carpet\": [{\"aaxis\": {\"endlinecolor\": \"#2a3f5f\", \"gridcolor\": \"white\", \"linecolor\": \"white\", \"minorgridcolor\": \"white\", \"startlinecolor\": \"#2a3f5f\"}, \"baxis\": {\"endlinecolor\": \"#2a3f5f\", \"gridcolor\": \"white\", \"linecolor\": \"white\", \"minorgridcolor\": \"white\", \"startlinecolor\": \"#2a3f5f\"}, \"type\": \"carpet\"}], \"choropleth\": [{\"colorbar\": {\"outlinewidth\": 0, \"ticks\": \"\"}, \"type\": \"choropleth\"}], \"contour\": [{\"colorbar\": {\"outlinewidth\": 0, \"ticks\": \"\"}, \"colorscale\": [[0.0, \"#0d0887\"], [0.1111111111111111, \"#46039f\"], [0.2222222222222222, \"#7201a8\"], [0.3333333333333333, \"#9c179e\"], [0.4444444444444444, \"#bd3786\"], [0.5555555555555556, \"#d8576b\"], [0.6666666666666666, \"#ed7953\"], [0.7777777777777778, \"#fb9f3a\"], [0.8888888888888888, \"#fdca26\"], [1.0, \"#f0f921\"]], \"type\": \"contour\"}], \"contourcarpet\": [{\"colorbar\": {\"outlinewidth\": 0, \"ticks\": \"\"}, \"type\": \"contourcarpet\"}], \"heatmap\": [{\"colorbar\": {\"outlinewidth\": 0, \"ticks\": \"\"}, \"colorscale\": [[0.0, \"#0d0887\"], [0.1111111111111111, \"#46039f\"], [0.2222222222222222, \"#7201a8\"], [0.3333333333333333, \"#9c179e\"], [0.4444444444444444, \"#bd3786\"], [0.5555555555555556, \"#d8576b\"], [0.6666666666666666, \"#ed7953\"], [0.7777777777777778, \"#fb9f3a\"], [0.8888888888888888, \"#fdca26\"], [1.0, \"#f0f921\"]], \"type\": \"heatmap\"}], \"heatmapgl\": [{\"colorbar\": {\"outlinewidth\": 0, \"ticks\": \"\"}, \"colorscale\": [[0.0, \"#0d0887\"], [0.1111111111111111, \"#46039f\"], [0.2222222222222222, \"#7201a8\"], [0.3333333333333333, \"#9c179e\"], [0.4444444444444444, \"#bd3786\"], [0.5555555555555556, \"#d8576b\"], [0.6666666666666666, \"#ed7953\"], [0.7777777777777778, \"#fb9f3a\"], [0.8888888888888888, \"#fdca26\"], [1.0, \"#f0f921\"]], \"type\": \"heatmapgl\"}], \"histogram\": [{\"marker\": {\"colorbar\": {\"outlinewidth\": 0, \"ticks\": \"\"}}, \"type\": \"histogram\"}], \"histogram2d\": [{\"colorbar\": {\"outlinewidth\": 0, \"ticks\": \"\"}, \"colorscale\": [[0.0, \"#0d0887\"], [0.1111111111111111, \"#46039f\"], [0.2222222222222222, \"#7201a8\"], [0.3333333333333333, \"#9c179e\"], [0.4444444444444444, \"#bd3786\"], [0.5555555555555556, \"#d8576b\"], [0.6666666666666666, \"#ed7953\"], [0.7777777777777778, \"#fb9f3a\"], [0.8888888888888888, \"#fdca26\"], [1.0, \"#f0f921\"]], \"type\": \"histogram2d\"}], \"histogram2dcontour\": [{\"colorbar\": {\"outlinewidth\": 0, \"ticks\": \"\"}, \"colorscale\": [[0.0, \"#0d0887\"], [0.1111111111111111, \"#46039f\"], [0.2222222222222222, \"#7201a8\"], [0.3333333333333333, \"#9c179e\"], [0.4444444444444444, \"#bd3786\"], [0.5555555555555556, \"#d8576b\"], [0.6666666666666666, \"#ed7953\"], [0.7777777777777778, \"#fb9f3a\"], [0.8888888888888888, \"#fdca26\"], [1.0, \"#f0f921\"]], \"type\": \"histogram2dcontour\"}], \"mesh3d\": [{\"colorbar\": {\"outlinewidth\": 0, \"ticks\": \"\"}, \"type\": \"mesh3d\"}], \"parcoords\": [{\"line\": {\"colorbar\": {\"outlinewidth\": 0, \"ticks\": \"\"}}, \"type\": \"parcoords\"}], \"pie\": [{\"automargin\": true, \"type\": \"pie\"}], \"scatter\": [{\"marker\": {\"colorbar\": {\"outlinewidth\": 0, \"ticks\": \"\"}}, \"type\": \"scatter\"}], \"scatter3d\": [{\"line\": {\"colorbar\": {\"outlinewidth\": 0, \"ticks\": \"\"}}, \"marker\": {\"colorbar\": {\"outlinewidth\": 0, \"ticks\": \"\"}}, \"type\": \"scatter3d\"}], \"scattercarpet\": [{\"marker\": {\"colorbar\": {\"outlinewidth\": 0, \"ticks\": \"\"}}, \"type\": \"scattercarpet\"}], \"scattergeo\": [{\"marker\": {\"colorbar\": {\"outlinewidth\": 0, \"ticks\": \"\"}}, \"type\": \"scattergeo\"}], \"scattergl\": [{\"marker\": {\"colorbar\": {\"outlinewidth\": 0, \"ticks\": \"\"}}, \"type\": \"scattergl\"}], \"scattermapbox\": [{\"marker\": {\"colorbar\": {\"outlinewidth\": 0, \"ticks\": \"\"}}, \"type\": \"scattermapbox\"}], \"scatterpolar\": [{\"marker\": {\"colorbar\": {\"outlinewidth\": 0, \"ticks\": \"\"}}, \"type\": \"scatterpolar\"}], \"scatterpolargl\": [{\"marker\": {\"colorbar\": {\"outlinewidth\": 0, \"ticks\": \"\"}}, \"type\": \"scatterpolargl\"}], \"scatterternary\": [{\"marker\": {\"colorbar\": {\"outlinewidth\": 0, \"ticks\": \"\"}}, \"type\": \"scatterternary\"}], \"surface\": [{\"colorbar\": {\"outlinewidth\": 0, \"ticks\": \"\"}, \"colorscale\": [[0.0, \"#0d0887\"], [0.1111111111111111, \"#46039f\"], [0.2222222222222222, \"#7201a8\"], [0.3333333333333333, \"#9c179e\"], [0.4444444444444444, \"#bd3786\"], [0.5555555555555556, \"#d8576b\"], [0.6666666666666666, \"#ed7953\"], [0.7777777777777778, \"#fb9f3a\"], [0.8888888888888888, \"#fdca26\"], [1.0, \"#f0f921\"]], \"type\": \"surface\"}], \"table\": [{\"cells\": {\"fill\": {\"color\": \"#EBF0F8\"}, \"line\": {\"color\": \"white\"}}, \"header\": {\"fill\": {\"color\": \"#C8D4E3\"}, \"line\": {\"color\": \"white\"}}, \"type\": \"table\"}]}, \"layout\": {\"annotationdefaults\": {\"arrowcolor\": \"#2a3f5f\", \"arrowhead\": 0, \"arrowwidth\": 1}, \"autotypenumbers\": \"strict\", \"coloraxis\": {\"colorbar\": {\"outlinewidth\": 0, \"ticks\": \"\"}}, \"colorscale\": {\"diverging\": [[0, \"#8e0152\"], [0.1, \"#c51b7d\"], [0.2, \"#de77ae\"], [0.3, \"#f1b6da\"], [0.4, \"#fde0ef\"], [0.5, \"#f7f7f7\"], [0.6, \"#e6f5d0\"], [0.7, \"#b8e186\"], [0.8, \"#7fbc41\"], [0.9, \"#4d9221\"], [1, \"#276419\"]], \"sequential\": [[0.0, \"#0d0887\"], [0.1111111111111111, \"#46039f\"], [0.2222222222222222, \"#7201a8\"], [0.3333333333333333, \"#9c179e\"], [0.4444444444444444, \"#bd3786\"], [0.5555555555555556, \"#d8576b\"], [0.6666666666666666, \"#ed7953\"], [0.7777777777777778, \"#fb9f3a\"], [0.8888888888888888, \"#fdca26\"], [1.0, \"#f0f921\"]], \"sequentialminus\": [[0.0, \"#0d0887\"], [0.1111111111111111, \"#46039f\"], [0.2222222222222222, \"#7201a8\"], [0.3333333333333333, \"#9c179e\"], [0.4444444444444444, \"#bd3786\"], [0.5555555555555556, \"#d8576b\"], [0.6666666666666666, \"#ed7953\"], [0.7777777777777778, \"#fb9f3a\"], [0.8888888888888888, \"#fdca26\"], [1.0, \"#f0f921\"]]}, \"colorway\": [\"#636efa\", \"#EF553B\", \"#00cc96\", \"#ab63fa\", \"#FFA15A\", \"#19d3f3\", \"#FF6692\", \"#B6E880\", \"#FF97FF\", \"#FECB52\"], \"font\": {\"color\": \"#2a3f5f\"}, \"geo\": {\"bgcolor\": \"white\", \"lakecolor\": \"white\", \"landcolor\": \"#E5ECF6\", \"showlakes\": true, \"showland\": true, \"subunitcolor\": \"white\"}, \"hoverlabel\": {\"align\": \"left\"}, \"hovermode\": \"closest\", \"mapbox\": {\"style\": \"light\"}, \"paper_bgcolor\": \"white\", \"plot_bgcolor\": \"#E5ECF6\", \"polar\": {\"angularaxis\": {\"gridcolor\": \"white\", \"linecolor\": \"white\", \"ticks\": \"\"}, \"bgcolor\": \"#E5ECF6\", \"radialaxis\": {\"gridcolor\": \"white\", \"linecolor\": \"white\", \"ticks\": \"\"}}, \"scene\": {\"xaxis\": {\"backgroundcolor\": \"#E5ECF6\", \"gridcolor\": \"white\", \"gridwidth\": 2, \"linecolor\": \"white\", \"showbackground\": true, \"ticks\": \"\", \"zerolinecolor\": \"white\"}, \"yaxis\": {\"backgroundcolor\": \"#E5ECF6\", \"gridcolor\": \"white\", \"gridwidth\": 2, \"linecolor\": \"white\", \"showbackground\": true, \"ticks\": \"\", \"zerolinecolor\": \"white\"}, \"zaxis\": {\"backgroundcolor\": \"#E5ECF6\", \"gridcolor\": \"white\", \"gridwidth\": 2, \"linecolor\": \"white\", \"showbackground\": true, \"ticks\": \"\", \"zerolinecolor\": \"white\"}}, \"shapedefaults\": {\"line\": {\"color\": \"#2a3f5f\"}}, \"ternary\": {\"aaxis\": {\"gridcolor\": \"white\", \"linecolor\": \"white\", \"ticks\": \"\"}, \"baxis\": {\"gridcolor\": \"white\", \"linecolor\": \"white\", \"ticks\": \"\"}, \"bgcolor\": \"#E5ECF6\", \"caxis\": {\"gridcolor\": \"white\", \"linecolor\": \"white\", \"ticks\": \"\"}}, \"title\": {\"x\": 0.05}, \"xaxis\": {\"automargin\": true, \"gridcolor\": \"white\", \"linecolor\": \"white\", \"ticks\": \"\", \"title\": {\"standoff\": 15}, \"zerolinecolor\": \"white\", \"zerolinewidth\": 2}, \"yaxis\": {\"automargin\": true, \"gridcolor\": \"white\", \"linecolor\": \"white\", \"ticks\": \"\", \"title\": {\"standoff\": 15}, \"zerolinecolor\": \"white\", \"zerolinewidth\": 2}}}, \"xaxis\": {\"anchor\": \"y\", \"domain\": [0.0, 1.0], \"title\": {\"text\": \"distance\"}}, \"yaxis\": {\"anchor\": \"x\", \"domain\": [0.0, 1.0], \"title\": {\"text\": \"price\"}}},                        {\"responsive\": true}                    ).then(function(){\n",
       "                            \n",
       "var gd = document.getElementById('48e176da-6ad8-45b8-8408-bc1a02cfef38');\n",
       "var x = new MutationObserver(function (mutations, observer) {{\n",
       "        var display = window.getComputedStyle(gd).display;\n",
       "        if (!display || display === 'none') {{\n",
       "            console.log([gd, 'removed!']);\n",
       "            Plotly.purge(gd);\n",
       "            observer.disconnect();\n",
       "        }}\n",
       "}});\n",
       "\n",
       "// Listen for the removal of the full notebook cells\n",
       "var notebookContainer = gd.closest('#notebook-container');\n",
       "if (notebookContainer) {{\n",
       "    x.observe(notebookContainer, {childList: true});\n",
       "}}\n",
       "\n",
       "// Listen for the clearing of the current output cell\n",
       "var outputEl = gd.closest('.output');\n",
       "if (outputEl) {{\n",
       "    x.observe(outputEl, {childList: true});\n",
       "}}\n",
       "\n",
       "                        })                };                });            </script>        </div>"
      ]
     },
     "metadata": {},
     "output_type": "display_data"
    }
   ],
   "source": [
    "fig = px.line(df_lyft2, x='distance', y='price', color='name')\n",
    "fig.show()"
   ]
  },
  {
   "cell_type": "code",
   "execution_count": null,
   "metadata": {},
   "outputs": [],
   "source": []
  }
 ],
 "metadata": {
  "kernelspec": {
   "display_name": "Python 3",
   "language": "python",
   "name": "python3"
  },
  "language_info": {
   "codemirror_mode": {
    "name": "ipython",
    "version": 3
   },
   "file_extension": ".py",
   "mimetype": "text/x-python",
   "name": "python",
   "nbconvert_exporter": "python",
   "pygments_lexer": "ipython3",
   "version": "3.8.5"
  }
 },
 "nbformat": 4,
 "nbformat_minor": 4
}
